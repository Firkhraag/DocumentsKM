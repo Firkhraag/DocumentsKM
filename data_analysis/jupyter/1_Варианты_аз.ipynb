{
 "cells": [
  {
   "cell_type": "markdown",
   "metadata": {},
   "source": [
    "<h1>Варианты антикоррозионной защиты (+)</h1>"
   ]
  },
  {
   "cell_type": "code",
   "execution_count": 61,
   "metadata": {},
   "outputs": [],
   "source": [
    "import pandas as pd\n",
    "import numpy as np\n",
    "import pyodbc \n",
    "\n",
    "db_conn = pyodbc.connect('Driver={SQL Server};'\n",
    "                      'Server=LAPTOP-JSR6TV0G;'\n",
    "                      'Database=Pro_t_londonSQL;'\n",
    "                      'Trusted_Connection=yes;')"
   ]
  },
  {
   "cell_type": "code",
   "execution_count": 62,
   "metadata": {},
   "outputs": [
    {
     "data": {
      "text/plain": [
       "(234, 12)"
      ]
     },
     "execution_count": 62,
     "metadata": {},
     "output_type": "execute_result"
    }
   ],
   "source": [
    "df = pd.read_sql_query('SELECT * FROM Pro_t_londonSQL.dbo.Варианты_аз', db_conn)\n",
    "df.shape"
   ]
  },
  {
   "cell_type": "code",
   "execution_count": 63,
   "metadata": {},
   "outputs": [
    {
     "data": {
      "text/html": [
       "<div>\n",
       "<style scoped>\n",
       "    .dataframe tbody tr th:only-of-type {\n",
       "        vertical-align: middle;\n",
       "    }\n",
       "\n",
       "    .dataframe tbody tr th {\n",
       "        vertical-align: top;\n",
       "    }\n",
       "\n",
       "    .dataframe thead th {\n",
       "        text-align: right;\n",
       "    }\n",
       "</style>\n",
       "<table border=\"1\" class=\"dataframe\">\n",
       "  <thead>\n",
       "    <tr style=\"text-align: right;\">\n",
       "      <th></th>\n",
       "      <th>Зона_экс</th>\n",
       "      <th>Группа_газов</th>\n",
       "      <th>Агресс_ср</th>\n",
       "      <th>Матер_к</th>\n",
       "      <th>Тип_лп</th>\n",
       "      <th>Группа_лп</th>\n",
       "      <th>Стойкость_лп</th>\n",
       "      <th>Кол_слоев_лп</th>\n",
       "      <th>Толщ_лпгр</th>\n",
       "      <th>Кол_слоев_гр</th>\n",
       "      <th>Степень_оч</th>\n",
       "      <th>Статус_аз</th>\n",
       "    </tr>\n",
       "  </thead>\n",
       "  <tbody>\n",
       "    <tr>\n",
       "      <th>0</th>\n",
       "      <td>1</td>\n",
       "      <td>0</td>\n",
       "      <td>0</td>\n",
       "      <td>0</td>\n",
       "      <td>ПФ</td>\n",
       "      <td>1.0</td>\n",
       "      <td>П</td>\n",
       "      <td>1.0</td>\n",
       "      <td>30.0</td>\n",
       "      <td>1.0</td>\n",
       "      <td>3.0</td>\n",
       "      <td>1</td>\n",
       "    </tr>\n",
       "    <tr>\n",
       "      <th>1</th>\n",
       "      <td>1</td>\n",
       "      <td>0</td>\n",
       "      <td>0</td>\n",
       "      <td>0</td>\n",
       "      <td>АУ</td>\n",
       "      <td>1.0</td>\n",
       "      <td>П</td>\n",
       "      <td>1.0</td>\n",
       "      <td>30.0</td>\n",
       "      <td>1.0</td>\n",
       "      <td>3.0</td>\n",
       "      <td>1</td>\n",
       "    </tr>\n",
       "    <tr>\n",
       "      <th>2</th>\n",
       "      <td>1</td>\n",
       "      <td>0</td>\n",
       "      <td>0</td>\n",
       "      <td>0</td>\n",
       "      <td>ЭЭ</td>\n",
       "      <td>1.0</td>\n",
       "      <td>П</td>\n",
       "      <td>1.0</td>\n",
       "      <td>30.0</td>\n",
       "      <td>1.0</td>\n",
       "      <td>3.0</td>\n",
       "      <td>1</td>\n",
       "    </tr>\n",
       "    <tr>\n",
       "      <th>3</th>\n",
       "      <td>1</td>\n",
       "      <td>0</td>\n",
       "      <td>0</td>\n",
       "      <td>0</td>\n",
       "      <td>МА</td>\n",
       "      <td>1.0</td>\n",
       "      <td>П</td>\n",
       "      <td>1.0</td>\n",
       "      <td>30.0</td>\n",
       "      <td>1.0</td>\n",
       "      <td>3.0</td>\n",
       "      <td>1</td>\n",
       "    </tr>\n",
       "    <tr>\n",
       "      <th>4</th>\n",
       "      <td>1</td>\n",
       "      <td>0</td>\n",
       "      <td>0</td>\n",
       "      <td>0</td>\n",
       "      <td>НЦ</td>\n",
       "      <td>1.0</td>\n",
       "      <td>П</td>\n",
       "      <td>1.0</td>\n",
       "      <td>30.0</td>\n",
       "      <td>1.0</td>\n",
       "      <td>3.0</td>\n",
       "      <td>1</td>\n",
       "    </tr>\n",
       "  </tbody>\n",
       "</table>\n",
       "</div>"
      ],
      "text/plain": [
       "   Зона_экс  Группа_газов  Агресс_ср  Матер_к Тип_лп  Группа_лп Стойкость_лп  \\\n",
       "0         1             0          0        0     ПФ        1.0           П    \n",
       "1         1             0          0        0     АУ        1.0           П    \n",
       "2         1             0          0        0     ЭЭ        1.0           П    \n",
       "3         1             0          0        0     МА        1.0           П    \n",
       "4         1             0          0        0     НЦ        1.0           П    \n",
       "\n",
       "   Кол_слоев_лп  Толщ_лпгр  Кол_слоев_гр  Степень_оч  Статус_аз  \n",
       "0           1.0       30.0           1.0         3.0          1  \n",
       "1           1.0       30.0           1.0         3.0          1  \n",
       "2           1.0       30.0           1.0         3.0          1  \n",
       "3           1.0       30.0           1.0         3.0          1  \n",
       "4           1.0       30.0           1.0         3.0          1  "
      ]
     },
     "execution_count": 63,
     "metadata": {},
     "output_type": "execute_result"
    }
   ],
   "source": [
    "df.head()"
   ]
  },
  {
   "cell_type": "code",
   "execution_count": 64,
   "metadata": {},
   "outputs": [],
   "source": [
    "df = df.replace(\"\", np.nan)"
   ]
  },
  {
   "cell_type": "code",
   "execution_count": 65,
   "metadata": {},
   "outputs": [
    {
     "data": {
      "text/plain": [
       "Зона_экс         0\n",
       "Группа_газов     0\n",
       "Агресс_ср        0\n",
       "Матер_к          0\n",
       "Тип_лп          16\n",
       "Группа_лп       30\n",
       "Стойкость_лп    30\n",
       "Кол_слоев_лп    30\n",
       "Толщ_лпгр       30\n",
       "Кол_слоев_гр    30\n",
       "Степень_оч      16\n",
       "Статус_аз        0\n",
       "dtype: int64"
      ]
     },
     "execution_count": 65,
     "metadata": {},
     "output_type": "execute_result"
    }
   ],
   "source": [
    "df.isna().sum()"
   ]
  },
  {
   "cell_type": "code",
   "execution_count": 66,
   "metadata": {},
   "outputs": [],
   "source": [
    "df = df.dropna()"
   ]
  },
  {
   "cell_type": "markdown",
   "metadata": {},
   "source": [
    "<h2>Удаляем дубликаты</h2>"
   ]
  },
  {
   "cell_type": "code",
   "execution_count": 67,
   "metadata": {},
   "outputs": [
    {
     "data": {
      "text/plain": [
       "(204, 12)"
      ]
     },
     "execution_count": 67,
     "metadata": {},
     "output_type": "execute_result"
    }
   ],
   "source": [
    "df = df.drop_duplicates()\n",
    "df.shape"
   ]
  },
  {
   "cell_type": "markdown",
   "metadata": {},
   "source": [
    "<h2>Исследуем данные</h2>"
   ]
  },
  {
   "cell_type": "code",
   "execution_count": 68,
   "metadata": {},
   "outputs": [
    {
     "data": {
      "text/plain": [
       "3    80\n",
       "2    73\n",
       "1    51\n",
       "Name: Зона_экс, dtype: int64"
      ]
     },
     "execution_count": 68,
     "metadata": {},
     "output_type": "execute_result"
    }
   ],
   "source": [
    "df[\"Зона_экс\"].value_counts()"
   ]
  },
  {
   "cell_type": "code",
   "execution_count": 69,
   "metadata": {},
   "outputs": [
    {
     "data": {
      "text/plain": [
       "1    69\n",
       "2    62\n",
       "0    33\n",
       "4    20\n",
       "3    20\n",
       "Name: Группа_газов, dtype: int64"
      ]
     },
     "execution_count": 69,
     "metadata": {},
     "output_type": "execute_result"
    }
   ],
   "source": [
    "df[\"Группа_газов\"].value_counts()"
   ]
  },
  {
   "cell_type": "code",
   "execution_count": 70,
   "metadata": {},
   "outputs": [
    {
     "data": {
      "text/plain": [
       "2    99\n",
       "1    77\n",
       "3    16\n",
       "0    12\n",
       "Name: Агресс_ср, dtype: int64"
      ]
     },
     "execution_count": 70,
     "metadata": {},
     "output_type": "execute_result"
    }
   ],
   "source": [
    "df[\"Агресс_ср\"].value_counts()"
   ]
  },
  {
   "cell_type": "code",
   "execution_count": 71,
   "metadata": {},
   "outputs": [
    {
     "data": {
      "text/plain": [
       "0    83\n",
       "3    57\n",
       "2    48\n",
       "1    16\n",
       "Name: Матер_к, dtype: int64"
      ]
     },
     "execution_count": 71,
     "metadata": {},
     "output_type": "execute_result"
    }
   ],
   "source": [
    "df[\"Матер_к\"].value_counts()"
   ]
  },
  {
   "cell_type": "code",
   "execution_count": 72,
   "metadata": {},
   "outputs": [
    {
     "data": {
      "text/plain": [
       "ПВ    52\n",
       "ЭП    44\n",
       "СВ    21\n",
       "КО    12\n",
       "ПУ    11\n",
       "ПЭ    10\n",
       "ПБ     9\n",
       "ПС     9\n",
       "ПА     9\n",
       "НЦ     4\n",
       "МБ     4\n",
       "ПФ     4\n",
       "ЭЭ     4\n",
       "МА     4\n",
       "АУ     3\n",
       "ФФ     3\n",
       "АЦ     1\n",
       "Name: Тип_лп, dtype: int64"
      ]
     },
     "execution_count": 72,
     "metadata": {},
     "output_type": "execute_result"
    }
   ],
   "source": [
    "df[\"Тип_лп\"].value_counts()"
   ]
  },
  {
   "cell_type": "code",
   "execution_count": 73,
   "metadata": {},
   "outputs": [
    {
     "data": {
      "text/plain": [
       "3.0    85\n",
       "2.0    51\n",
       "4.0    44\n",
       "1.0    24\n",
       "Name: Группа_лп, dtype: int64"
      ]
     },
     "execution_count": 73,
     "metadata": {},
     "output_type": "execute_result"
    }
   ],
   "source": [
    "df[\"Группа_лп\"].value_counts()"
   ]
  },
  {
   "cell_type": "code",
   "execution_count": 74,
   "metadata": {},
   "outputs": [
    {
     "data": {
      "text/plain": [
       "А     83\n",
       "Х     25\n",
       "В     21\n",
       "Б     20\n",
       "М     20\n",
       "П     16\n",
       "ХЩ    11\n",
       "ХК     8\n",
       "Name: Стойкость_лп, dtype: int64"
      ]
     },
     "execution_count": 74,
     "metadata": {},
     "output_type": "execute_result"
    }
   ],
   "source": [
    "df[\"Стойкость_лп\"].value_counts()"
   ]
  },
  {
   "cell_type": "code",
   "execution_count": 75,
   "metadata": {},
   "outputs": [
    {
     "data": {
      "text/plain": [
       "2.0    106\n",
       "3.0     57\n",
       "4.0     14\n",
       "5.0     13\n",
       "1.0     12\n",
       "6.0      1\n",
       "7.0      1\n",
       "Name: Кол_слоев_лп, dtype: int64"
      ]
     },
     "execution_count": 75,
     "metadata": {},
     "output_type": "execute_result"
    }
   ],
   "source": [
    "df[\"Кол_слоев_лп\"].value_counts()"
   ]
  },
  {
   "cell_type": "code",
   "execution_count": 76,
   "metadata": {},
   "outputs": [
    {
     "data": {
      "text/plain": [
       "60.0     78\n",
       "80.0     45\n",
       "130.0    24\n",
       "55.0     16\n",
       "40.0     12\n",
       "30.0     12\n",
       "110.0    11\n",
       "100.0     3\n",
       "180.0     2\n",
       "150.0     1\n",
       "Name: Толщ_лпгр, dtype: int64"
      ]
     },
     "execution_count": 76,
     "metadata": {},
     "output_type": "execute_result"
    }
   ],
   "source": [
    "df[\"Толщ_лпгр\"].value_counts()"
   ]
  },
  {
   "cell_type": "code",
   "execution_count": 77,
   "metadata": {},
   "outputs": [
    {
     "data": {
      "text/plain": [
       "2.0    192\n",
       "1.0     12\n",
       "Name: Кол_слоев_гр, dtype: int64"
      ]
     },
     "execution_count": 77,
     "metadata": {},
     "output_type": "execute_result"
    }
   ],
   "source": [
    "df[\"Кол_слоев_гр\"].value_counts()"
   ]
  },
  {
   "cell_type": "code",
   "execution_count": 78,
   "metadata": {},
   "outputs": [
    {
     "data": {
      "text/plain": [
       "1.0    112\n",
       "3.0     42\n",
       "2.0     38\n",
       "4.0     12\n",
       "Name: Степень_оч, dtype: int64"
      ]
     },
     "execution_count": 78,
     "metadata": {},
     "output_type": "execute_result"
    }
   ],
   "source": [
    "df[\"Степень_оч\"].value_counts()"
   ]
  },
  {
   "cell_type": "code",
   "execution_count": 79,
   "metadata": {},
   "outputs": [
    {
     "data": {
      "text/plain": [
       "1    204\n",
       "Name: Статус_аз, dtype: int64"
      ]
     },
     "execution_count": 79,
     "metadata": {},
     "output_type": "execute_result"
    }
   ],
   "source": [
    "df[\"Статус_аз\"].value_counts()"
   ]
  },
  {
   "cell_type": "code",
   "execution_count": 80,
   "metadata": {},
   "outputs": [
    {
     "data": {
      "text/html": [
       "<div>\n",
       "<style scoped>\n",
       "    .dataframe tbody tr th:only-of-type {\n",
       "        vertical-align: middle;\n",
       "    }\n",
       "\n",
       "    .dataframe tbody tr th {\n",
       "        vertical-align: top;\n",
       "    }\n",
       "\n",
       "    .dataframe thead th {\n",
       "        text-align: right;\n",
       "    }\n",
       "</style>\n",
       "<table border=\"1\" class=\"dataframe\">\n",
       "  <thead>\n",
       "    <tr style=\"text-align: right;\">\n",
       "      <th></th>\n",
       "      <th>Зона_экс</th>\n",
       "      <th>Группа_газов</th>\n",
       "      <th>Агресс_ср</th>\n",
       "      <th>Матер_к</th>\n",
       "      <th>Тип_лп</th>\n",
       "      <th>Группа_лп</th>\n",
       "      <th>Стойкость_лп</th>\n",
       "      <th>Кол_слоев_лп</th>\n",
       "      <th>Толщ_лпгр</th>\n",
       "      <th>Кол_слоев_гр</th>\n",
       "      <th>Степень_оч</th>\n",
       "    </tr>\n",
       "  </thead>\n",
       "  <tbody>\n",
       "    <tr>\n",
       "      <th>0</th>\n",
       "      <td>1</td>\n",
       "      <td>0</td>\n",
       "      <td>0</td>\n",
       "      <td>0</td>\n",
       "      <td>ПФ</td>\n",
       "      <td>1.0</td>\n",
       "      <td>П</td>\n",
       "      <td>1.0</td>\n",
       "      <td>30.0</td>\n",
       "      <td>1.0</td>\n",
       "      <td>3.0</td>\n",
       "    </tr>\n",
       "    <tr>\n",
       "      <th>1</th>\n",
       "      <td>1</td>\n",
       "      <td>0</td>\n",
       "      <td>0</td>\n",
       "      <td>0</td>\n",
       "      <td>АУ</td>\n",
       "      <td>1.0</td>\n",
       "      <td>П</td>\n",
       "      <td>1.0</td>\n",
       "      <td>30.0</td>\n",
       "      <td>1.0</td>\n",
       "      <td>3.0</td>\n",
       "    </tr>\n",
       "    <tr>\n",
       "      <th>2</th>\n",
       "      <td>1</td>\n",
       "      <td>0</td>\n",
       "      <td>0</td>\n",
       "      <td>0</td>\n",
       "      <td>ЭЭ</td>\n",
       "      <td>1.0</td>\n",
       "      <td>П</td>\n",
       "      <td>1.0</td>\n",
       "      <td>30.0</td>\n",
       "      <td>1.0</td>\n",
       "      <td>3.0</td>\n",
       "    </tr>\n",
       "    <tr>\n",
       "      <th>3</th>\n",
       "      <td>1</td>\n",
       "      <td>0</td>\n",
       "      <td>0</td>\n",
       "      <td>0</td>\n",
       "      <td>МА</td>\n",
       "      <td>1.0</td>\n",
       "      <td>П</td>\n",
       "      <td>1.0</td>\n",
       "      <td>30.0</td>\n",
       "      <td>1.0</td>\n",
       "      <td>3.0</td>\n",
       "    </tr>\n",
       "    <tr>\n",
       "      <th>4</th>\n",
       "      <td>1</td>\n",
       "      <td>0</td>\n",
       "      <td>0</td>\n",
       "      <td>0</td>\n",
       "      <td>НЦ</td>\n",
       "      <td>1.0</td>\n",
       "      <td>П</td>\n",
       "      <td>1.0</td>\n",
       "      <td>30.0</td>\n",
       "      <td>1.0</td>\n",
       "      <td>3.0</td>\n",
       "    </tr>\n",
       "  </tbody>\n",
       "</table>\n",
       "</div>"
      ],
      "text/plain": [
       "   Зона_экс  Группа_газов  Агресс_ср  Матер_к Тип_лп  Группа_лп Стойкость_лп  \\\n",
       "0         1             0          0        0     ПФ        1.0           П    \n",
       "1         1             0          0        0     АУ        1.0           П    \n",
       "2         1             0          0        0     ЭЭ        1.0           П    \n",
       "3         1             0          0        0     МА        1.0           П    \n",
       "4         1             0          0        0     НЦ        1.0           П    \n",
       "\n",
       "   Кол_слоев_лп  Толщ_лпгр  Кол_слоев_гр  Степень_оч  \n",
       "0           1.0       30.0           1.0         3.0  \n",
       "1           1.0       30.0           1.0         3.0  \n",
       "2           1.0       30.0           1.0         3.0  \n",
       "3           1.0       30.0           1.0         3.0  \n",
       "4           1.0       30.0           1.0         3.0  "
      ]
     },
     "execution_count": 80,
     "metadata": {},
     "output_type": "execute_result"
    }
   ],
   "source": [
    "df = df.drop([\"Статус_аз\"], axis=1)\n",
    "df.head()"
   ]
  },
  {
   "cell_type": "markdown",
   "metadata": {},
   "source": [
    "<h2>Добавляем id</h2>"
   ]
  },
  {
   "cell_type": "code",
   "execution_count": 84,
   "metadata": {},
   "outputs": [],
   "source": [
    "df.insert(0, 'id', range(1, len(df) + 1))"
   ]
  },
  {
   "cell_type": "code",
   "execution_count": 85,
   "metadata": {},
   "outputs": [
    {
     "data": {
      "text/html": [
       "<div>\n",
       "<style scoped>\n",
       "    .dataframe tbody tr th:only-of-type {\n",
       "        vertical-align: middle;\n",
       "    }\n",
       "\n",
       "    .dataframe tbody tr th {\n",
       "        vertical-align: top;\n",
       "    }\n",
       "\n",
       "    .dataframe thead th {\n",
       "        text-align: right;\n",
       "    }\n",
       "</style>\n",
       "<table border=\"1\" class=\"dataframe\">\n",
       "  <thead>\n",
       "    <tr style=\"text-align: right;\">\n",
       "      <th></th>\n",
       "      <th>id</th>\n",
       "      <th>Зона_экс</th>\n",
       "      <th>Группа_газов</th>\n",
       "      <th>Агресс_ср</th>\n",
       "      <th>Матер_к</th>\n",
       "      <th>Тип_лп</th>\n",
       "      <th>Группа_лп</th>\n",
       "      <th>Стойкость_лп</th>\n",
       "      <th>Кол_слоев_лп</th>\n",
       "      <th>Толщ_лпгр</th>\n",
       "      <th>Кол_слоев_гр</th>\n",
       "      <th>Степень_оч</th>\n",
       "    </tr>\n",
       "  </thead>\n",
       "  <tbody>\n",
       "    <tr>\n",
       "      <th>0</th>\n",
       "      <td>1</td>\n",
       "      <td>1</td>\n",
       "      <td>0</td>\n",
       "      <td>0</td>\n",
       "      <td>0</td>\n",
       "      <td>ПФ</td>\n",
       "      <td>1.0</td>\n",
       "      <td>П</td>\n",
       "      <td>1.0</td>\n",
       "      <td>30.0</td>\n",
       "      <td>1.0</td>\n",
       "      <td>3.0</td>\n",
       "    </tr>\n",
       "    <tr>\n",
       "      <th>1</th>\n",
       "      <td>2</td>\n",
       "      <td>1</td>\n",
       "      <td>0</td>\n",
       "      <td>0</td>\n",
       "      <td>0</td>\n",
       "      <td>АУ</td>\n",
       "      <td>1.0</td>\n",
       "      <td>П</td>\n",
       "      <td>1.0</td>\n",
       "      <td>30.0</td>\n",
       "      <td>1.0</td>\n",
       "      <td>3.0</td>\n",
       "    </tr>\n",
       "    <tr>\n",
       "      <th>2</th>\n",
       "      <td>3</td>\n",
       "      <td>1</td>\n",
       "      <td>0</td>\n",
       "      <td>0</td>\n",
       "      <td>0</td>\n",
       "      <td>ЭЭ</td>\n",
       "      <td>1.0</td>\n",
       "      <td>П</td>\n",
       "      <td>1.0</td>\n",
       "      <td>30.0</td>\n",
       "      <td>1.0</td>\n",
       "      <td>3.0</td>\n",
       "    </tr>\n",
       "    <tr>\n",
       "      <th>3</th>\n",
       "      <td>4</td>\n",
       "      <td>1</td>\n",
       "      <td>0</td>\n",
       "      <td>0</td>\n",
       "      <td>0</td>\n",
       "      <td>МА</td>\n",
       "      <td>1.0</td>\n",
       "      <td>П</td>\n",
       "      <td>1.0</td>\n",
       "      <td>30.0</td>\n",
       "      <td>1.0</td>\n",
       "      <td>3.0</td>\n",
       "    </tr>\n",
       "    <tr>\n",
       "      <th>4</th>\n",
       "      <td>5</td>\n",
       "      <td>1</td>\n",
       "      <td>0</td>\n",
       "      <td>0</td>\n",
       "      <td>0</td>\n",
       "      <td>НЦ</td>\n",
       "      <td>1.0</td>\n",
       "      <td>П</td>\n",
       "      <td>1.0</td>\n",
       "      <td>30.0</td>\n",
       "      <td>1.0</td>\n",
       "      <td>3.0</td>\n",
       "    </tr>\n",
       "  </tbody>\n",
       "</table>\n",
       "</div>"
      ],
      "text/plain": [
       "   id  Зона_экс  Группа_газов  Агресс_ср  Матер_к Тип_лп  Группа_лп  \\\n",
       "0   1         1             0          0        0     ПФ        1.0   \n",
       "1   2         1             0          0        0     АУ        1.0   \n",
       "2   3         1             0          0        0     ЭЭ        1.0   \n",
       "3   4         1             0          0        0     МА        1.0   \n",
       "4   5         1             0          0        0     НЦ        1.0   \n",
       "\n",
       "  Стойкость_лп  Кол_слоев_лп  Толщ_лпгр  Кол_слоев_гр  Степень_оч  \n",
       "0           П            1.0       30.0           1.0         3.0  \n",
       "1           П            1.0       30.0           1.0         3.0  \n",
       "2           П            1.0       30.0           1.0         3.0  \n",
       "3           П            1.0       30.0           1.0         3.0  \n",
       "4           П            1.0       30.0           1.0         3.0  "
      ]
     },
     "execution_count": 85,
     "metadata": {},
     "output_type": "execute_result"
    }
   ],
   "source": [
    "df.head()"
   ]
  },
  {
   "cell_type": "code",
   "execution_count": 86,
   "metadata": {},
   "outputs": [
    {
     "data": {
      "text/plain": [
       "(204, 12)"
      ]
     },
     "execution_count": 86,
     "metadata": {},
     "output_type": "execute_result"
    }
   ],
   "source": [
    "df.shape"
   ]
  },
  {
   "cell_type": "code",
   "execution_count": 87,
   "metadata": {},
   "outputs": [
    {
     "data": {
      "text/plain": [
       "(204, 12)"
      ]
     },
     "execution_count": 87,
     "metadata": {},
     "output_type": "execute_result"
    }
   ],
   "source": [
    "df = df.drop_duplicates(subset=[\"Зона_экс\", \"Группа_газов\", \"Агресс_ср\", \"Матер_к\", \"Тип_лп\", \"Группа_лп\", \"Стойкость_лп\"])\n",
    "df.shape"
   ]
  },
  {
   "cell_type": "code",
   "execution_count": null,
   "metadata": {},
   "outputs": [],
   "source": []
  },
  {
   "cell_type": "code",
   "execution_count": 88,
   "metadata": {},
   "outputs": [
    {
     "data": {
      "text/html": [
       "<div>\n",
       "<style scoped>\n",
       "    .dataframe tbody tr th:only-of-type {\n",
       "        vertical-align: middle;\n",
       "    }\n",
       "\n",
       "    .dataframe tbody tr th {\n",
       "        vertical-align: top;\n",
       "    }\n",
       "\n",
       "    .dataframe thead th {\n",
       "        text-align: right;\n",
       "    }\n",
       "</style>\n",
       "<table border=\"1\" class=\"dataframe\">\n",
       "  <thead>\n",
       "    <tr style=\"text-align: right;\">\n",
       "      <th></th>\n",
       "      <th>id</th>\n",
       "      <th>Зона_экс</th>\n",
       "      <th>Группа_газов</th>\n",
       "      <th>Агресс_ср</th>\n",
       "      <th>Матер_к</th>\n",
       "      <th>Тип_лп</th>\n",
       "      <th>Группа_лп</th>\n",
       "      <th>Стойкость_лп</th>\n",
       "      <th>Кол_слоев_лп</th>\n",
       "      <th>Толщ_лпгр</th>\n",
       "      <th>Кол_слоев_гр</th>\n",
       "      <th>Степень_оч</th>\n",
       "    </tr>\n",
       "  </thead>\n",
       "  <tbody>\n",
       "    <tr>\n",
       "      <th>68</th>\n",
       "      <td>58</td>\n",
       "      <td>2</td>\n",
       "      <td>1</td>\n",
       "      <td>1</td>\n",
       "      <td>0</td>\n",
       "      <td>ПФ</td>\n",
       "      <td>1.0</td>\n",
       "      <td>А</td>\n",
       "      <td>2.0</td>\n",
       "      <td>55.0</td>\n",
       "      <td>2.0</td>\n",
       "      <td>3.0</td>\n",
       "    </tr>\n",
       "  </tbody>\n",
       "</table>\n",
       "</div>"
      ],
      "text/plain": [
       "    id  Зона_экс  Группа_газов  Агресс_ср  Матер_к Тип_лп  Группа_лп  \\\n",
       "68  58         2             1          1        0     ПФ        1.0   \n",
       "\n",
       "   Стойкость_лп  Кол_слоев_лп  Толщ_лпгр  Кол_слоев_гр  Степень_оч  \n",
       "68           А            2.0       55.0           2.0         3.0  "
      ]
     },
     "execution_count": 88,
     "metadata": {},
     "output_type": "execute_result"
    }
   ],
   "source": [
    "df[(df[\"Зона_экс\"] == 2) & (df[\"Группа_газов\"] == 1) & (df[\"Агресс_ср\"] == 1) & (df[\"Матер_к\"] == 0) & (df[\"Тип_лп\"] == \"ПФ\")]"
   ]
  },
  {
   "cell_type": "code",
   "execution_count": 89,
   "metadata": {},
   "outputs": [
    {
     "data": {
      "text/html": [
       "<div>\n",
       "<style scoped>\n",
       "    .dataframe tbody tr th:only-of-type {\n",
       "        vertical-align: middle;\n",
       "    }\n",
       "\n",
       "    .dataframe tbody tr th {\n",
       "        vertical-align: top;\n",
       "    }\n",
       "\n",
       "    .dataframe thead th {\n",
       "        text-align: right;\n",
       "    }\n",
       "</style>\n",
       "<table border=\"1\" class=\"dataframe\">\n",
       "  <thead>\n",
       "    <tr style=\"text-align: right;\">\n",
       "      <th></th>\n",
       "      <th>id</th>\n",
       "      <th>Зона_экс</th>\n",
       "      <th>Группа_газов</th>\n",
       "      <th>Агресс_ср</th>\n",
       "      <th>Матер_к</th>\n",
       "      <th>Тип_лп</th>\n",
       "      <th>Группа_лп</th>\n",
       "      <th>Стойкость_лп</th>\n",
       "      <th>Кол_слоев_лп</th>\n",
       "      <th>Толщ_лпгр</th>\n",
       "      <th>Кол_слоев_гр</th>\n",
       "      <th>Степень_оч</th>\n",
       "    </tr>\n",
       "  </thead>\n",
       "  <tbody>\n",
       "  </tbody>\n",
       "</table>\n",
       "</div>"
      ],
      "text/plain": [
       "Empty DataFrame\n",
       "Columns: [id, Зона_экс, Группа_газов, Агресс_ср, Матер_к, Тип_лп, Группа_лп, Стойкость_лп, Кол_слоев_лп, Толщ_лпгр, Кол_слоев_гр, Степень_оч]\n",
       "Index: []"
      ]
     },
     "execution_count": 89,
     "metadata": {},
     "output_type": "execute_result"
    }
   ],
   "source": [
    "df[(df[\"Зона_экс\"] == 2) & (df[\"Группа_газов\"] == 1) & (df[\"Агресс_ср\"] == 2) & (df[\"Матер_к\"] == 0) & (df[\"Тип_лп\"] == \"ПФ\")]"
   ]
  },
  {
   "cell_type": "code",
   "execution_count": null,
   "metadata": {},
   "outputs": [],
   "source": []
  },
  {
   "cell_type": "code",
   "execution_count": null,
   "metadata": {},
   "outputs": [],
   "source": []
  },
  {
   "cell_type": "code",
   "execution_count": null,
   "metadata": {},
   "outputs": [],
   "source": []
  },
  {
   "cell_type": "markdown",
   "metadata": {},
   "source": [
    "<h2>Меняем названия столбцов</h2>"
   ]
  },
  {
   "cell_type": "code",
   "execution_count": 54,
   "metadata": {},
   "outputs": [
    {
     "data": {
      "text/html": [
       "<div>\n",
       "<style scoped>\n",
       "    .dataframe tbody tr th:only-of-type {\n",
       "        vertical-align: middle;\n",
       "    }\n",
       "\n",
       "    .dataframe tbody tr th {\n",
       "        vertical-align: top;\n",
       "    }\n",
       "\n",
       "    .dataframe thead th {\n",
       "        text-align: right;\n",
       "    }\n",
       "</style>\n",
       "<table border=\"1\" class=\"dataframe\">\n",
       "  <thead>\n",
       "    <tr style=\"text-align: right;\">\n",
       "      <th></th>\n",
       "      <th>id</th>\n",
       "      <th>operating_zone</th>\n",
       "      <th>gas_group</th>\n",
       "      <th>env_aggressiveness</th>\n",
       "      <th>material</th>\n",
       "      <th>paintwork_type</th>\n",
       "      <th>paintwork_group</th>\n",
       "      <th>paintwork_durability</th>\n",
       "      <th>paintwork_num_of_layers</th>\n",
       "      <th>paintwork_primer_thickness</th>\n",
       "      <th>primer_num_of_layers</th>\n",
       "      <th>cleaning_degree_id</th>\n",
       "    </tr>\n",
       "  </thead>\n",
       "  <tbody>\n",
       "    <tr>\n",
       "      <th>0</th>\n",
       "      <td>1</td>\n",
       "      <td>1</td>\n",
       "      <td>0</td>\n",
       "      <td>0</td>\n",
       "      <td>0</td>\n",
       "      <td>ПФ</td>\n",
       "      <td>1.0</td>\n",
       "      <td>П</td>\n",
       "      <td>1.0</td>\n",
       "      <td>30.0</td>\n",
       "      <td>1.0</td>\n",
       "      <td>3.0</td>\n",
       "    </tr>\n",
       "    <tr>\n",
       "      <th>1</th>\n",
       "      <td>2</td>\n",
       "      <td>1</td>\n",
       "      <td>0</td>\n",
       "      <td>0</td>\n",
       "      <td>0</td>\n",
       "      <td>АУ</td>\n",
       "      <td>1.0</td>\n",
       "      <td>П</td>\n",
       "      <td>1.0</td>\n",
       "      <td>30.0</td>\n",
       "      <td>1.0</td>\n",
       "      <td>3.0</td>\n",
       "    </tr>\n",
       "    <tr>\n",
       "      <th>2</th>\n",
       "      <td>3</td>\n",
       "      <td>1</td>\n",
       "      <td>0</td>\n",
       "      <td>0</td>\n",
       "      <td>0</td>\n",
       "      <td>ЭЭ</td>\n",
       "      <td>1.0</td>\n",
       "      <td>П</td>\n",
       "      <td>1.0</td>\n",
       "      <td>30.0</td>\n",
       "      <td>1.0</td>\n",
       "      <td>3.0</td>\n",
       "    </tr>\n",
       "    <tr>\n",
       "      <th>3</th>\n",
       "      <td>4</td>\n",
       "      <td>1</td>\n",
       "      <td>0</td>\n",
       "      <td>0</td>\n",
       "      <td>0</td>\n",
       "      <td>МА</td>\n",
       "      <td>1.0</td>\n",
       "      <td>П</td>\n",
       "      <td>1.0</td>\n",
       "      <td>30.0</td>\n",
       "      <td>1.0</td>\n",
       "      <td>3.0</td>\n",
       "    </tr>\n",
       "    <tr>\n",
       "      <th>4</th>\n",
       "      <td>5</td>\n",
       "      <td>1</td>\n",
       "      <td>0</td>\n",
       "      <td>0</td>\n",
       "      <td>0</td>\n",
       "      <td>НЦ</td>\n",
       "      <td>1.0</td>\n",
       "      <td>П</td>\n",
       "      <td>1.0</td>\n",
       "      <td>30.0</td>\n",
       "      <td>1.0</td>\n",
       "      <td>3.0</td>\n",
       "    </tr>\n",
       "    <tr>\n",
       "      <th>...</th>\n",
       "      <td>...</td>\n",
       "      <td>...</td>\n",
       "      <td>...</td>\n",
       "      <td>...</td>\n",
       "      <td>...</td>\n",
       "      <td>...</td>\n",
       "      <td>...</td>\n",
       "      <td>...</td>\n",
       "      <td>...</td>\n",
       "      <td>...</td>\n",
       "      <td>...</td>\n",
       "      <td>...</td>\n",
       "    </tr>\n",
       "    <tr>\n",
       "      <th>229</th>\n",
       "      <td>200</td>\n",
       "      <td>3</td>\n",
       "      <td>2</td>\n",
       "      <td>3</td>\n",
       "      <td>3</td>\n",
       "      <td>ЭП</td>\n",
       "      <td>4.0</td>\n",
       "      <td>ХЩ</td>\n",
       "      <td>3.0</td>\n",
       "      <td>130.0</td>\n",
       "      <td>2.0</td>\n",
       "      <td>4.0</td>\n",
       "    </tr>\n",
       "    <tr>\n",
       "      <th>230</th>\n",
       "      <td>201</td>\n",
       "      <td>3</td>\n",
       "      <td>3</td>\n",
       "      <td>3</td>\n",
       "      <td>3</td>\n",
       "      <td>ПВ</td>\n",
       "      <td>4.0</td>\n",
       "      <td>Б</td>\n",
       "      <td>5.0</td>\n",
       "      <td>130.0</td>\n",
       "      <td>2.0</td>\n",
       "      <td>4.0</td>\n",
       "    </tr>\n",
       "    <tr>\n",
       "      <th>231</th>\n",
       "      <td>202</td>\n",
       "      <td>3</td>\n",
       "      <td>3</td>\n",
       "      <td>3</td>\n",
       "      <td>3</td>\n",
       "      <td>ЭП</td>\n",
       "      <td>4.0</td>\n",
       "      <td>Б</td>\n",
       "      <td>3.0</td>\n",
       "      <td>130.0</td>\n",
       "      <td>2.0</td>\n",
       "      <td>4.0</td>\n",
       "    </tr>\n",
       "    <tr>\n",
       "      <th>232</th>\n",
       "      <td>203</td>\n",
       "      <td>3</td>\n",
       "      <td>4</td>\n",
       "      <td>3</td>\n",
       "      <td>3</td>\n",
       "      <td>ПВ</td>\n",
       "      <td>4.0</td>\n",
       "      <td>М</td>\n",
       "      <td>5.0</td>\n",
       "      <td>130.0</td>\n",
       "      <td>2.0</td>\n",
       "      <td>4.0</td>\n",
       "    </tr>\n",
       "    <tr>\n",
       "      <th>233</th>\n",
       "      <td>204</td>\n",
       "      <td>3</td>\n",
       "      <td>4</td>\n",
       "      <td>3</td>\n",
       "      <td>3</td>\n",
       "      <td>ЭП</td>\n",
       "      <td>4.0</td>\n",
       "      <td>М</td>\n",
       "      <td>3.0</td>\n",
       "      <td>130.0</td>\n",
       "      <td>2.0</td>\n",
       "      <td>4.0</td>\n",
       "    </tr>\n",
       "  </tbody>\n",
       "</table>\n",
       "<p>204 rows × 12 columns</p>\n",
       "</div>"
      ],
      "text/plain": [
       "      id  operating_zone  gas_group  env_aggressiveness  material  \\\n",
       "0      1               1          0                   0         0   \n",
       "1      2               1          0                   0         0   \n",
       "2      3               1          0                   0         0   \n",
       "3      4               1          0                   0         0   \n",
       "4      5               1          0                   0         0   \n",
       "..   ...             ...        ...                 ...       ...   \n",
       "229  200               3          2                   3         3   \n",
       "230  201               3          3                   3         3   \n",
       "231  202               3          3                   3         3   \n",
       "232  203               3          4                   3         3   \n",
       "233  204               3          4                   3         3   \n",
       "\n",
       "    paintwork_type  paintwork_group paintwork_durability  \\\n",
       "0               ПФ              1.0                   П    \n",
       "1               АУ              1.0                   П    \n",
       "2               ЭЭ              1.0                   П    \n",
       "3               МА              1.0                   П    \n",
       "4               НЦ              1.0                   П    \n",
       "..             ...              ...                  ...   \n",
       "229             ЭП              4.0                   ХЩ   \n",
       "230             ПВ              4.0                   Б    \n",
       "231             ЭП              4.0                   Б    \n",
       "232             ПВ              4.0                   М    \n",
       "233             ЭП              4.0                   М    \n",
       "\n",
       "     paintwork_num_of_layers  paintwork_primer_thickness  \\\n",
       "0                        1.0                        30.0   \n",
       "1                        1.0                        30.0   \n",
       "2                        1.0                        30.0   \n",
       "3                        1.0                        30.0   \n",
       "4                        1.0                        30.0   \n",
       "..                       ...                         ...   \n",
       "229                      3.0                       130.0   \n",
       "230                      5.0                       130.0   \n",
       "231                      3.0                       130.0   \n",
       "232                      5.0                       130.0   \n",
       "233                      3.0                       130.0   \n",
       "\n",
       "     primer_num_of_layers  cleaning_degree_id  \n",
       "0                     1.0                 3.0  \n",
       "1                     1.0                 3.0  \n",
       "2                     1.0                 3.0  \n",
       "3                     1.0                 3.0  \n",
       "4                     1.0                 3.0  \n",
       "..                    ...                 ...  \n",
       "229                   2.0                 4.0  \n",
       "230                   2.0                 4.0  \n",
       "231                   2.0                 4.0  \n",
       "232                   2.0                 4.0  \n",
       "233                   2.0                 4.0  \n",
       "\n",
       "[204 rows x 12 columns]"
      ]
     },
     "execution_count": 54,
     "metadata": {},
     "output_type": "execute_result"
    }
   ],
   "source": [
    "df = df.rename(columns={\"Зона_экс\": \"operating_zone\",\n",
    "                        \"Группа_газов\": \"gas_group\",\n",
    "                        \"Агресс_ср\": \"env_aggressiveness\",\n",
    "                        \"Матер_к\": \"material\",\n",
    "                        \"Тип_лп\": \"paintwork_type\",\n",
    "                        \"Группа_лп\": \"paintwork_group\",\n",
    "                        \"Стойкость_лп\": \"paintwork_durability\",\n",
    "                        \"Кол_слоев_лп\": \"paintwork_num_of_layers\",\n",
    "                        \"Толщ_лпгр\": \"paintwork_primer_thickness\",\n",
    "                        \"Кол_слоев_гр\": \"primer_num_of_layers\",\n",
    "                        \"Степень_оч\": \"cleaning_degree_id\"\n",
    "                       })\n",
    "df"
   ]
  },
  {
   "cell_type": "markdown",
   "metadata": {},
   "source": [
    "<h1>Postgres</h1>"
   ]
  },
  {
   "cell_type": "markdown",
   "metadata": {},
   "source": [
    "<h2>Создание таблицы</h2>"
   ]
  },
  {
   "cell_type": "code",
   "execution_count": 55,
   "metadata": {},
   "outputs": [],
   "source": [
    "from psycopg2 import connect, sql, DatabaseError\n",
    "import psycopg2.extras as extras"
   ]
  },
  {
   "cell_type": "markdown",
   "metadata": {},
   "source": [
    "DocumentsKM"
   ]
  },
  {
   "cell_type": "code",
   "execution_count": 56,
   "metadata": {},
   "outputs": [
    {
     "name": "stdout",
     "output_type": "stream",
     "text": [
      "Connection successful\n"
     ]
    }
   ],
   "source": [
    "# Connect\n",
    "try:\n",
    "    conn = connect (\n",
    "        dbname = \"documentskm\",\n",
    "        user = \"postgres\",\n",
    "        host = \"localhost\",\n",
    "        password = \"password\"\n",
    "    )\n",
    "    cursor = conn.cursor()\n",
    "except Exception as err:\n",
    "    cursor = None\n",
    "    print(\"Psycopg2 error:\", err)\n",
    "    \n",
    "# Check if the connection was valid\n",
    "if cursor != None:\n",
    "    print(\"Connection successful\")"
   ]
  },
  {
   "cell_type": "code",
   "execution_count": 57,
   "metadata": {},
   "outputs": [],
   "source": [
    "cursor.execute(open(\"sql/1.sql\", \"r\").read())\n",
    "conn.commit()"
   ]
  },
  {
   "cell_type": "markdown",
   "metadata": {},
   "source": [
    "<h2>Вставка данных</h2>"
   ]
  },
  {
   "cell_type": "code",
   "execution_count": 58,
   "metadata": {},
   "outputs": [],
   "source": [
    "def execute_values(conn, df, table):\n",
    "    tuples = [tuple(x) for x in df.to_numpy()]\n",
    "    cols = ','.join(list(df.columns))\n",
    "    query  = \"INSERT INTO %s(%s) VALUES %%s\" % (table, cols)\n",
    "    cursor = conn.cursor()\n",
    "    try:\n",
    "        extras.execute_values(cursor, query, tuples)\n",
    "        conn.commit()\n",
    "    except (Exception, DatabaseError) as error:\n",
    "        print(\"Error: %s\" % error)\n",
    "        conn.rollback()\n",
    "        cursor.close()\n",
    "        return 1\n",
    "    print(\"execute_values() done\")\n",
    "    cursor.close()"
   ]
  },
  {
   "cell_type": "code",
   "execution_count": 59,
   "metadata": {},
   "outputs": [
    {
     "name": "stdout",
     "output_type": "stream",
     "text": [
      "execute_values() done\n"
     ]
    }
   ],
   "source": [
    "execute_values(conn, df, \"corr_prot_variants\")"
   ]
  },
  {
   "cell_type": "code",
   "execution_count": 60,
   "metadata": {},
   "outputs": [],
   "source": [
    "db_conn.close()"
   ]
  },
  {
   "cell_type": "code",
   "execution_count": null,
   "metadata": {},
   "outputs": [],
   "source": []
  }
 ],
 "metadata": {
  "kernelspec": {
   "display_name": "Python 3",
   "language": "python",
   "name": "python3"
  },
  "language_info": {
   "codemirror_mode": {
    "name": "ipython",
    "version": 3
   },
   "file_extension": ".py",
   "mimetype": "text/x-python",
   "name": "python",
   "nbconvert_exporter": "python",
   "pygments_lexer": "ipython3",
   "version": "3.6.5"
  }
 },
 "nbformat": 4,
 "nbformat_minor": 2
}
