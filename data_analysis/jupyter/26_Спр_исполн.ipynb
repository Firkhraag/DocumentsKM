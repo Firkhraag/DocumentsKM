{
 "cells": [
  {
   "cell_type": "markdown",
   "metadata": {},
   "source": [
    "<h1>Исполнители</h1>"
   ]
  },
  {
   "cell_type": "code",
   "execution_count": 37,
   "metadata": {},
   "outputs": [],
   "source": [
    "import pandas as pd\n",
    "import numpy as np\n",
    "import pyodbc \n",
    "\n",
    "db_conn = pyodbc.connect('Driver={SQL Server};'\n",
    "                      'Server=LAPTOP-JSR6TV0G;'\n",
    "                      'Database=Pro_t_londonSQL;'\n",
    "                      'Trusted_Connection=yes;')"
   ]
  },
  {
   "cell_type": "code",
   "execution_count": 38,
   "metadata": {},
   "outputs": [
    {
     "data": {
      "text/plain": [
       "(463, 6)"
      ]
     },
     "execution_count": 38,
     "metadata": {},
     "output_type": "execute_result"
    }
   ],
   "source": [
    "df = pd.read_sql_query('SELECT * FROM Pro_t_londonSQL.dbo.Спр_исполн', db_conn)\n",
    "df.shape"
   ]
  },
  {
   "cell_type": "code",
   "execution_count": 39,
   "metadata": {},
   "outputs": [
    {
     "data": {
      "text/html": [
       "<div>\n",
       "<style scoped>\n",
       "    .dataframe tbody tr th:only-of-type {\n",
       "        vertical-align: middle;\n",
       "    }\n",
       "\n",
       "    .dataframe tbody tr th {\n",
       "        vertical-align: top;\n",
       "    }\n",
       "\n",
       "    .dataframe thead th {\n",
       "        text-align: right;\n",
       "    }\n",
       "</style>\n",
       "<table border=\"1\" class=\"dataframe\">\n",
       "  <thead>\n",
       "    <tr style=\"text-align: right;\">\n",
       "      <th></th>\n",
       "      <th>код</th>\n",
       "      <th>шифр</th>\n",
       "      <th>тип_должн</th>\n",
       "      <th>должность</th>\n",
       "      <th>фио</th>\n",
       "      <th>код_отд</th>\n",
       "    </tr>\n",
       "  </thead>\n",
       "  <tbody>\n",
       "    <tr>\n",
       "      <th>0</th>\n",
       "      <td>3</td>\n",
       "      <td>3.0</td>\n",
       "      <td>5</td>\n",
       "      <td>ГИП</td>\n",
       "      <td>Иванов</td>\n",
       "      <td>0</td>\n",
       "    </tr>\n",
       "    <tr>\n",
       "      <th>1</th>\n",
       "      <td>9</td>\n",
       "      <td>1.0</td>\n",
       "      <td>6</td>\n",
       "      <td>Гл.стр</td>\n",
       "      <td>Котов</td>\n",
       "      <td>0</td>\n",
       "    </tr>\n",
       "    <tr>\n",
       "      <th>2</th>\n",
       "      <td>11</td>\n",
       "      <td>1.0</td>\n",
       "      <td>0</td>\n",
       "      <td>гл.стр</td>\n",
       "      <td>Цингауз</td>\n",
       "      <td>1</td>\n",
       "    </tr>\n",
       "    <tr>\n",
       "      <th>3</th>\n",
       "      <td>27</td>\n",
       "      <td>1.0</td>\n",
       "      <td>0</td>\n",
       "      <td>нач.отд</td>\n",
       "      <td>Павлова</td>\n",
       "      <td>4</td>\n",
       "    </tr>\n",
       "    <tr>\n",
       "      <th>4</th>\n",
       "      <td>28</td>\n",
       "      <td>2.0</td>\n",
       "      <td>0</td>\n",
       "      <td>зав.гр</td>\n",
       "      <td>Жерлицина</td>\n",
       "      <td>4</td>\n",
       "    </tr>\n",
       "    <tr>\n",
       "      <th>...</th>\n",
       "      <td>...</td>\n",
       "      <td>...</td>\n",
       "      <td>...</td>\n",
       "      <td>...</td>\n",
       "      <td>...</td>\n",
       "      <td>...</td>\n",
       "    </tr>\n",
       "    <tr>\n",
       "      <th>458</th>\n",
       "      <td>642</td>\n",
       "      <td>0.0</td>\n",
       "      <td>0</td>\n",
       "      <td>None</td>\n",
       "      <td>Емельянова</td>\n",
       "      <td>36</td>\n",
       "    </tr>\n",
       "    <tr>\n",
       "      <th>459</th>\n",
       "      <td>643</td>\n",
       "      <td>0.0</td>\n",
       "      <td>0</td>\n",
       "      <td>None</td>\n",
       "      <td>Гиллер</td>\n",
       "      <td>36</td>\n",
       "    </tr>\n",
       "    <tr>\n",
       "      <th>460</th>\n",
       "      <td>644</td>\n",
       "      <td>0.0</td>\n",
       "      <td>0</td>\n",
       "      <td>зав.гр</td>\n",
       "      <td>Половнева</td>\n",
       "      <td>3</td>\n",
       "    </tr>\n",
       "    <tr>\n",
       "      <th>461</th>\n",
       "      <td>645</td>\n",
       "      <td>0.0</td>\n",
       "      <td>0</td>\n",
       "      <td>зав.гр</td>\n",
       "      <td>Корнеева</td>\n",
       "      <td>15</td>\n",
       "    </tr>\n",
       "    <tr>\n",
       "      <th>462</th>\n",
       "      <td>646</td>\n",
       "      <td>0.0</td>\n",
       "      <td>0</td>\n",
       "      <td>зав.гр</td>\n",
       "      <td>Булахова</td>\n",
       "      <td>3</td>\n",
       "    </tr>\n",
       "  </tbody>\n",
       "</table>\n",
       "<p>463 rows × 6 columns</p>\n",
       "</div>"
      ],
      "text/plain": [
       "     код  шифр  тип_должн должность         фио  код_отд\n",
       "0      3   3.0          5       ГИП      Иванов        0\n",
       "1      9   1.0          6    Гл.стр       Котов        0\n",
       "2     11   1.0          0    гл.стр     Цингауз        1\n",
       "3     27   1.0          0   нач.отд     Павлова        4\n",
       "4     28   2.0          0    зав.гр   Жерлицина        4\n",
       "..   ...   ...        ...       ...         ...      ...\n",
       "458  642   0.0          0      None  Емельянова       36\n",
       "459  643   0.0          0      None      Гиллер       36\n",
       "460  644   0.0          0    зав.гр   Половнева        3\n",
       "461  645   0.0          0    зав.гр    Корнеева       15\n",
       "462  646   0.0          0    зав.гр    Булахова        3\n",
       "\n",
       "[463 rows x 6 columns]"
      ]
     },
     "execution_count": 39,
     "metadata": {},
     "output_type": "execute_result"
    }
   ],
   "source": [
    "df"
   ]
  },
  {
   "cell_type": "code",
   "execution_count": 40,
   "metadata": {},
   "outputs": [
    {
     "data": {
      "text/plain": [
       "код           0\n",
       "шифр          5\n",
       "тип_должн     0\n",
       "должность    42\n",
       "фио           7\n",
       "код_отд       0\n",
       "dtype: int64"
      ]
     },
     "execution_count": 40,
     "metadata": {},
     "output_type": "execute_result"
    }
   ],
   "source": [
    "df.isna().sum()"
   ]
  },
  {
   "cell_type": "code",
   "execution_count": 41,
   "metadata": {},
   "outputs": [],
   "source": [
    "df = df.dropna()"
   ]
  },
  {
   "cell_type": "code",
   "execution_count": 42,
   "metadata": {},
   "outputs": [
    {
     "data": {
      "text/plain": [
       "1     72\n",
       "0     68\n",
       "3     27\n",
       "12    23\n",
       "15    16\n",
       "9     15\n",
       "39    14\n",
       "37    13\n",
       "26    12\n",
       "40    12\n",
       "31    12\n",
       "16    11\n",
       "18    11\n",
       "27    11\n",
       "32    10\n",
       "36    10\n",
       "4      9\n",
       "33     9\n",
       "8      8\n",
       "2      7\n",
       "7      6\n",
       "19     6\n",
       "17     6\n",
       "5      4\n",
       "10     4\n",
       "29     4\n",
       "6      3\n",
       "35     3\n",
       "14     3\n",
       "28     3\n",
       "13     1\n",
       "38     1\n",
       "Name: код_отд, dtype: int64"
      ]
     },
     "execution_count": 42,
     "metadata": {},
     "output_type": "execute_result"
    }
   ],
   "source": [
    "df[\"код_отд\"].value_counts()"
   ]
  },
  {
   "cell_type": "code",
   "execution_count": 43,
   "metadata": {},
   "outputs": [
    {
     "name": "stderr",
     "output_type": "stream",
     "text": [
      "C:\\Users\\sigla\\Anaconda3\\lib\\site-packages\\pandas\\core\\indexing.py:1745: SettingWithCopyWarning: \n",
      "A value is trying to be set on a copy of a slice from a DataFrame.\n",
      "Try using .loc[row_indexer,col_indexer] = value instead\n",
      "\n",
      "See the caveats in the documentation: https://pandas.pydata.org/pandas-docs/stable/user_guide/indexing.html#returning-a-view-versus-a-copy\n",
      "  isetter(ilocs[0], value)\n"
     ]
    }
   ],
   "source": [
    "df.loc[:,\"код_отд\"] = df.loc[:,\"код_отд\"].replace(40, 1)\n",
    "df.loc[:,\"код_отд\"] = df.loc[:,\"код_отд\"].replace(37, 1)\n",
    "df.loc[:,\"код_отд\"] = df.loc[:,\"код_отд\"].replace(36, 1)\n",
    "df.loc[:,\"код_отд\"] = df.loc[:,\"код_отд\"].replace(35, 26)\n",
    "df.loc[:,\"код_отд\"] = df.loc[:,\"код_отд\"].replace(34, 1)\n",
    "df.loc[:,\"код_отд\"] = df.loc[:,\"код_отд\"].replace(33, 26)\n",
    "df.loc[:,\"код_отд\"] = df.loc[:,\"код_отд\"].replace(32, 1)\n",
    "df.loc[:,\"код_отд\"] = df.loc[:,\"код_отд\"].replace(31, 26)\n",
    "df.loc[:,\"код_отд\"] = df.loc[:,\"код_отд\"].replace(18, 9)\n",
    "df.loc[:,\"код_отд\"] = df.loc[:,\"код_отд\"].replace(27, 26)\n",
    "df.loc[:,\"код_отд\"] = df.loc[:,\"код_отд\"].replace(29, 3)"
   ]
  },
  {
   "cell_type": "code",
   "execution_count": 44,
   "metadata": {},
   "outputs": [
    {
     "data": {
      "text/plain": [
       "1     117\n",
       "0      68\n",
       "26     47\n",
       "3      31\n",
       "9      26\n",
       "12     23\n",
       "15     16\n",
       "39     14\n",
       "16     11\n",
       "4       9\n",
       "8       8\n",
       "2       7\n",
       "17      6\n",
       "7       6\n",
       "19      6\n",
       "5       4\n",
       "10      4\n",
       "14      3\n",
       "6       3\n",
       "28      3\n",
       "13      1\n",
       "38      1\n",
       "Name: код_отд, dtype: int64"
      ]
     },
     "execution_count": 44,
     "metadata": {},
     "output_type": "execute_result"
    }
   ],
   "source": [
    "df[\"код_отд\"].value_counts()"
   ]
  },
  {
   "cell_type": "code",
   "execution_count": 45,
   "metadata": {
    "scrolled": true
   },
   "outputs": [
    {
     "data": {
      "text/html": [
       "<div>\n",
       "<style scoped>\n",
       "    .dataframe tbody tr th:only-of-type {\n",
       "        vertical-align: middle;\n",
       "    }\n",
       "\n",
       "    .dataframe tbody tr th {\n",
       "        vertical-align: top;\n",
       "    }\n",
       "\n",
       "    .dataframe thead th {\n",
       "        text-align: right;\n",
       "    }\n",
       "</style>\n",
       "<table border=\"1\" class=\"dataframe\">\n",
       "  <thead>\n",
       "    <tr style=\"text-align: right;\">\n",
       "      <th></th>\n",
       "      <th>код</th>\n",
       "      <th>шифр</th>\n",
       "      <th>тип_должн</th>\n",
       "      <th>должность</th>\n",
       "      <th>фио</th>\n",
       "      <th>код_отд</th>\n",
       "    </tr>\n",
       "  </thead>\n",
       "  <tbody>\n",
       "    <tr>\n",
       "      <th>2</th>\n",
       "      <td>11</td>\n",
       "      <td>1.0</td>\n",
       "      <td>0</td>\n",
       "      <td>гл.стр</td>\n",
       "      <td>Цингауз</td>\n",
       "      <td>1</td>\n",
       "    </tr>\n",
       "    <tr>\n",
       "      <th>3</th>\n",
       "      <td>27</td>\n",
       "      <td>1.0</td>\n",
       "      <td>0</td>\n",
       "      <td>нач.отд</td>\n",
       "      <td>Павлова</td>\n",
       "      <td>4</td>\n",
       "    </tr>\n",
       "    <tr>\n",
       "      <th>4</th>\n",
       "      <td>28</td>\n",
       "      <td>2.0</td>\n",
       "      <td>0</td>\n",
       "      <td>зав.гр</td>\n",
       "      <td>Жерлицина</td>\n",
       "      <td>4</td>\n",
       "    </tr>\n",
       "    <tr>\n",
       "      <th>9</th>\n",
       "      <td>56</td>\n",
       "      <td>1.0</td>\n",
       "      <td>0</td>\n",
       "      <td>нач.отд</td>\n",
       "      <td>Одуд</td>\n",
       "      <td>6</td>\n",
       "    </tr>\n",
       "    <tr>\n",
       "      <th>10</th>\n",
       "      <td>67</td>\n",
       "      <td>65.0</td>\n",
       "      <td>0</td>\n",
       "      <td>инженер1к</td>\n",
       "      <td>Джабарова</td>\n",
       "      <td>1</td>\n",
       "    </tr>\n",
       "    <tr>\n",
       "      <th>...</th>\n",
       "      <td>...</td>\n",
       "      <td>...</td>\n",
       "      <td>...</td>\n",
       "      <td>...</td>\n",
       "      <td>...</td>\n",
       "      <td>...</td>\n",
       "    </tr>\n",
       "    <tr>\n",
       "      <th>456</th>\n",
       "      <td>640</td>\n",
       "      <td>152.0</td>\n",
       "      <td>0</td>\n",
       "      <td>инженер</td>\n",
       "      <td>Малышева</td>\n",
       "      <td>1</td>\n",
       "    </tr>\n",
       "    <tr>\n",
       "      <th>457</th>\n",
       "      <td>641</td>\n",
       "      <td>0.0</td>\n",
       "      <td>0</td>\n",
       "      <td>зав.гр</td>\n",
       "      <td>Хлесткин</td>\n",
       "      <td>1</td>\n",
       "    </tr>\n",
       "    <tr>\n",
       "      <th>460</th>\n",
       "      <td>644</td>\n",
       "      <td>0.0</td>\n",
       "      <td>0</td>\n",
       "      <td>зав.гр</td>\n",
       "      <td>Половнева</td>\n",
       "      <td>3</td>\n",
       "    </tr>\n",
       "    <tr>\n",
       "      <th>461</th>\n",
       "      <td>645</td>\n",
       "      <td>0.0</td>\n",
       "      <td>0</td>\n",
       "      <td>зав.гр</td>\n",
       "      <td>Корнеева</td>\n",
       "      <td>15</td>\n",
       "    </tr>\n",
       "    <tr>\n",
       "      <th>462</th>\n",
       "      <td>646</td>\n",
       "      <td>0.0</td>\n",
       "      <td>0</td>\n",
       "      <td>зав.гр</td>\n",
       "      <td>Булахова</td>\n",
       "      <td>3</td>\n",
       "    </tr>\n",
       "  </tbody>\n",
       "</table>\n",
       "<p>346 rows × 6 columns</p>\n",
       "</div>"
      ],
      "text/plain": [
       "     код   шифр  тип_должн  должность        фио  код_отд\n",
       "2     11    1.0          0     гл.стр    Цингауз        1\n",
       "3     27    1.0          0    нач.отд    Павлова        4\n",
       "4     28    2.0          0     зав.гр  Жерлицина        4\n",
       "9     56    1.0          0    нач.отд       Одуд        6\n",
       "10    67   65.0          0  инженер1к  Джабарова        1\n",
       "..   ...    ...        ...        ...        ...      ...\n",
       "456  640  152.0          0    инженер   Малышева        1\n",
       "457  641    0.0          0     зав.гр   Хлесткин        1\n",
       "460  644    0.0          0     зав.гр  Половнева        3\n",
       "461  645    0.0          0     зав.гр   Корнеева       15\n",
       "462  646    0.0          0     зав.гр   Булахова        3\n",
       "\n",
       "[346 rows x 6 columns]"
      ]
     },
     "execution_count": 45,
     "metadata": {},
     "output_type": "execute_result"
    }
   ],
   "source": [
    "df = df[df[\"код_отд\"] != 0]\n",
    "df"
   ]
  },
  {
   "cell_type": "code",
   "execution_count": 46,
   "metadata": {},
   "outputs": [
    {
     "data": {
      "text/plain": [
       "зав.гр             113\n",
       "инженер             62\n",
       "гл.спец.            49\n",
       "нач.отд             23\n",
       "вед.инж             21\n",
       "инж. 1 к            14\n",
       "инж. 2 к            13\n",
       "зам.нач.отд          5\n",
       "Инж. 3 к             5\n",
       "Зав.гр               4\n",
       "зав.гр.              4\n",
       "техник               3\n",
       "инж. 3 к             3\n",
       "И.о.нач.отд          2\n",
       "гл.стр               2\n",
       "вед.инж.             2\n",
       "и.о.нач.отд          2\n",
       "И.о.нач. отд.        1\n",
       "Зав. гр.             1\n",
       "инженер1к            1\n",
       "и.о.зав.гр           1\n",
       "чертежн              1\n",
       "И. о. нач. отд.      1\n",
       "Зав.гр.              1\n",
       "инж.                 1\n",
       "Гл. спец.            1\n",
       "И.о.гл.спец.         1\n",
       "И.о.зав.гр.          1\n",
       "зам.нач.отд.         1\n",
       "Инж. 1к              1\n",
       "инж3кат              1\n",
       "инж.2к               1\n",
       "и. о. зав.гр         1\n",
       "зав. Гр              1\n",
       "И.о. зав. гр.        1\n",
       "Н. Контр.            1\n",
       "Name: должность, dtype: int64"
      ]
     },
     "execution_count": 46,
     "metadata": {},
     "output_type": "execute_result"
    }
   ],
   "source": [
    "df[\"должность\"] = df[\"должность\"].str.strip()\n",
    "df[\"должность\"].value_counts()"
   ]
  },
  {
   "cell_type": "code",
   "execution_count": 47,
   "metadata": {},
   "outputs": [],
   "source": [
    "df.loc[df[\"должность\"] == \"ген.дир\", 'тип_должн'] = 1\n",
    "df.loc[df[\"должность\"] == \"гл.инж\", 'тип_должн'] = 2\n",
    "df.loc[df[\"должность\"] == \"зам.гл.инж\", 'тип_должн'] = 3\n",
    "df.loc[df[\"должность\"] == \"гл.стр\", 'тип_должн'] = 4\n",
    "df.loc[df[\"должность\"] == \"гл.арх\", 'тип_должн'] = 5\n",
    "df.loc[df[\"должность\"] == \"ГИП\", 'тип_должн'] = 6\n",
    "df.loc[df[\"должность\"] == \"нач.отд\", 'тип_должн'] = 7\n",
    "df.loc[df[\"должность\"] == \"зам.нач.отд\", 'тип_должн'] = 8\n",
    "df.loc[df[\"должность\"] == \"гл.спец.\", 'тип_должн'] = 9\n",
    "df.loc[df[\"должность\"] == \"Гл. спец.\", 'тип_должн'] = 9\n",
    "df.loc[df[\"должность\"] == \"зав.гр\", 'тип_должн'] = 10\n",
    "df.loc[df[\"должность\"] == \"Зав.гр\", 'тип_должн'] = 10\n",
    "df.loc[df[\"должность\"] == \"зав. Гр\", 'тип_должн'] = 10\n",
    "df.loc[df[\"должность\"] == \"вед.инж\", 'тип_должн'] = 11\n",
    "df.loc[df[\"должность\"] == \"вед.инж.\", 'тип_должн'] = 11\n",
    "df.loc[df[\"должность\"] == \"инж. 1 к\", 'тип_должн'] = 12\n",
    "df.loc[df[\"должность\"] == \"Инж. 1к\", 'тип_должн'] = 12\n",
    "df.loc[df[\"должность\"] == \"инженер1к\", 'тип_должн'] = 12\n",
    "df.loc[df[\"должность\"] == \"инж. 2 к\", 'тип_должн'] = 13\n",
    "df.loc[df[\"должность\"] == \"инж. 3 к\", 'тип_должн'] = 14\n",
    "df.loc[df[\"должность\"] == \"Инж. 3 к\", 'тип_должн'] = 14\n",
    "df.loc[df[\"должность\"] == \"инж3кат\", 'тип_должн'] = 14\n",
    "df.loc[df[\"должность\"] == \"инженер\", 'тип_должн'] = 15\n",
    "df.loc[df[\"должность\"] == \"инж\", 'тип_должн'] = 15\n",
    "df.loc[df[\"должность\"] == \"техник\", 'тип_должн'] = 16\n",
    "df.loc[df[\"должность\"] == \"чертежн\", 'тип_должн'] = 17"
   ]
  },
  {
   "cell_type": "code",
   "execution_count": 48,
   "metadata": {},
   "outputs": [
    {
     "data": {
      "text/plain": [
       "10    118\n",
       "15     62\n",
       "9      50\n",
       "11     23\n",
       "7      23\n",
       "0      21\n",
       "12     16\n",
       "13     13\n",
       "14      9\n",
       "8       5\n",
       "16      3\n",
       "4       2\n",
       "17      1\n",
       "Name: тип_должн, dtype: int64"
      ]
     },
     "execution_count": 48,
     "metadata": {},
     "output_type": "execute_result"
    }
   ],
   "source": [
    "df[\"тип_должн\"].value_counts()"
   ]
  },
  {
   "cell_type": "code",
   "execution_count": 49,
   "metadata": {},
   "outputs": [],
   "source": [
    "df[\"фио\"] = df[\"фио\"].str.strip()"
   ]
  },
  {
   "cell_type": "code",
   "execution_count": 50,
   "metadata": {},
   "outputs": [],
   "source": [
    "df = df.drop_duplicates(subset=[\"тип_должн\", \"фио\", \"код_отд\"])"
   ]
  },
  {
   "cell_type": "markdown",
   "metadata": {},
   "source": [
    "<h2>Дропаем остальное, т. к. все равно данные не актуальны</h2>"
   ]
  },
  {
   "cell_type": "code",
   "execution_count": 51,
   "metadata": {},
   "outputs": [],
   "source": [
    "df = df[df[\"тип_должн\"] != 0]"
   ]
  },
  {
   "cell_type": "code",
   "execution_count": 52,
   "metadata": {},
   "outputs": [
    {
     "data": {
      "text/html": [
       "<div>\n",
       "<style scoped>\n",
       "    .dataframe tbody tr th:only-of-type {\n",
       "        vertical-align: middle;\n",
       "    }\n",
       "\n",
       "    .dataframe tbody tr th {\n",
       "        vertical-align: top;\n",
       "    }\n",
       "\n",
       "    .dataframe thead th {\n",
       "        text-align: right;\n",
       "    }\n",
       "</style>\n",
       "<table border=\"1\" class=\"dataframe\">\n",
       "  <thead>\n",
       "    <tr style=\"text-align: right;\">\n",
       "      <th></th>\n",
       "      <th>код</th>\n",
       "      <th>тип_должн</th>\n",
       "      <th>фио</th>\n",
       "      <th>код_отд</th>\n",
       "    </tr>\n",
       "  </thead>\n",
       "  <tbody>\n",
       "    <tr>\n",
       "      <th>2</th>\n",
       "      <td>11</td>\n",
       "      <td>4</td>\n",
       "      <td>Цингауз</td>\n",
       "      <td>1</td>\n",
       "    </tr>\n",
       "    <tr>\n",
       "      <th>3</th>\n",
       "      <td>27</td>\n",
       "      <td>7</td>\n",
       "      <td>Павлова</td>\n",
       "      <td>4</td>\n",
       "    </tr>\n",
       "    <tr>\n",
       "      <th>4</th>\n",
       "      <td>28</td>\n",
       "      <td>10</td>\n",
       "      <td>Жерлицина</td>\n",
       "      <td>4</td>\n",
       "    </tr>\n",
       "    <tr>\n",
       "      <th>9</th>\n",
       "      <td>56</td>\n",
       "      <td>7</td>\n",
       "      <td>Одуд</td>\n",
       "      <td>6</td>\n",
       "    </tr>\n",
       "    <tr>\n",
       "      <th>10</th>\n",
       "      <td>67</td>\n",
       "      <td>12</td>\n",
       "      <td>Джабарова</td>\n",
       "      <td>1</td>\n",
       "    </tr>\n",
       "  </tbody>\n",
       "</table>\n",
       "</div>"
      ],
      "text/plain": [
       "    код  тип_должн        фио  код_отд\n",
       "2    11          4    Цингауз        1\n",
       "3    27          7    Павлова        4\n",
       "4    28         10  Жерлицина        4\n",
       "9    56          7       Одуд        6\n",
       "10   67         12  Джабарова        1"
      ]
     },
     "execution_count": 52,
     "metadata": {},
     "output_type": "execute_result"
    }
   ],
   "source": [
    "df = df.drop([\"шифр\", \"должность\"], axis=1)\n",
    "df.head()"
   ]
  },
  {
   "cell_type": "markdown",
   "metadata": {},
   "source": [
    "<h2>Rename columns</h2>"
   ]
  },
  {
   "cell_type": "code",
   "execution_count": 53,
   "metadata": {},
   "outputs": [
    {
     "data": {
      "text/html": [
       "<div>\n",
       "<style scoped>\n",
       "    .dataframe tbody tr th:only-of-type {\n",
       "        vertical-align: middle;\n",
       "    }\n",
       "\n",
       "    .dataframe tbody tr th {\n",
       "        vertical-align: top;\n",
       "    }\n",
       "\n",
       "    .dataframe thead th {\n",
       "        text-align: right;\n",
       "    }\n",
       "</style>\n",
       "<table border=\"1\" class=\"dataframe\">\n",
       "  <thead>\n",
       "    <tr style=\"text-align: right;\">\n",
       "      <th></th>\n",
       "      <th>id</th>\n",
       "      <th>position_id</th>\n",
       "      <th>name</th>\n",
       "      <th>department_id</th>\n",
       "    </tr>\n",
       "  </thead>\n",
       "  <tbody>\n",
       "    <tr>\n",
       "      <th>2</th>\n",
       "      <td>11</td>\n",
       "      <td>4</td>\n",
       "      <td>Цингауз</td>\n",
       "      <td>1</td>\n",
       "    </tr>\n",
       "    <tr>\n",
       "      <th>3</th>\n",
       "      <td>27</td>\n",
       "      <td>7</td>\n",
       "      <td>Павлова</td>\n",
       "      <td>4</td>\n",
       "    </tr>\n",
       "    <tr>\n",
       "      <th>4</th>\n",
       "      <td>28</td>\n",
       "      <td>10</td>\n",
       "      <td>Жерлицина</td>\n",
       "      <td>4</td>\n",
       "    </tr>\n",
       "    <tr>\n",
       "      <th>9</th>\n",
       "      <td>56</td>\n",
       "      <td>7</td>\n",
       "      <td>Одуд</td>\n",
       "      <td>6</td>\n",
       "    </tr>\n",
       "    <tr>\n",
       "      <th>10</th>\n",
       "      <td>67</td>\n",
       "      <td>12</td>\n",
       "      <td>Джабарова</td>\n",
       "      <td>1</td>\n",
       "    </tr>\n",
       "  </tbody>\n",
       "</table>\n",
       "</div>"
      ],
      "text/plain": [
       "    id  position_id       name  department_id\n",
       "2   11            4    Цингауз              1\n",
       "3   27            7    Павлова              4\n",
       "4   28           10  Жерлицина              4\n",
       "9   56            7       Одуд              6\n",
       "10  67           12  Джабарова              1"
      ]
     },
     "execution_count": 53,
     "metadata": {},
     "output_type": "execute_result"
    }
   ],
   "source": [
    "df = df.rename(columns={\"код\": \"id\",\n",
    "                        \"тип_должн\": \"position_id\",\n",
    "                        \"фио\": \"name\",\n",
    "                        \"код_отд\": \"department_id\"\n",
    "                       })\n",
    "df.head()"
   ]
  },
  {
   "cell_type": "markdown",
   "metadata": {},
   "source": [
    "<h1>Postgres</h1>"
   ]
  },
  {
   "cell_type": "code",
   "execution_count": 54,
   "metadata": {},
   "outputs": [],
   "source": [
    "from psycopg2 import connect, sql, DatabaseError\n",
    "import psycopg2.extras as extras"
   ]
  },
  {
   "cell_type": "markdown",
   "metadata": {},
   "source": [
    "DocumentsKM"
   ]
  },
  {
   "cell_type": "code",
   "execution_count": 55,
   "metadata": {},
   "outputs": [
    {
     "name": "stdout",
     "output_type": "stream",
     "text": [
      "Connection successful\n"
     ]
    }
   ],
   "source": [
    "# Connect\n",
    "try:\n",
    "    conn = connect (\n",
    "        dbname = \"documentskm\",\n",
    "        user = \"postgres\",\n",
    "        host = \"localhost\",\n",
    "        password = \"password\"\n",
    "    )\n",
    "    cursor = conn.cursor()\n",
    "except Exception as err:\n",
    "    cursor = None\n",
    "    print(\"Psycopg2 error:\", err)\n",
    "    \n",
    "# Check if the connection was valid\n",
    "if cursor != None:\n",
    "    print(\"Connection successful\")"
   ]
  },
  {
   "cell_type": "code",
   "execution_count": 56,
   "metadata": {},
   "outputs": [],
   "source": [
    "cursor.execute(open(\"sql/26.sql\", \"r\").read())\n",
    "conn.commit()"
   ]
  },
  {
   "cell_type": "markdown",
   "metadata": {},
   "source": [
    "<h2>Insert data</h2>"
   ]
  },
  {
   "cell_type": "code",
   "execution_count": 57,
   "metadata": {},
   "outputs": [],
   "source": [
    "def execute_values(conn, df, table):\n",
    "    tuples = [tuple(x) for x in df.to_numpy()]\n",
    "    cols = ','.join(list(df.columns))\n",
    "    query  = \"INSERT INTO %s(%s) VALUES %%s\" % (table, cols)\n",
    "    cursor = conn.cursor()\n",
    "    try:\n",
    "        extras.execute_values(cursor, query, tuples)\n",
    "        conn.commit()\n",
    "    except (Exception, DatabaseError) as error:\n",
    "        print(\"Error: %s\" % error)\n",
    "        conn.rollback()\n",
    "        cursor.close()\n",
    "        return 1\n",
    "    print(\"execute_values() done\")\n",
    "    cursor.close()"
   ]
  },
  {
   "cell_type": "code",
   "execution_count": 58,
   "metadata": {},
   "outputs": [
    {
     "name": "stdout",
     "output_type": "stream",
     "text": [
      "execute_values() done\n"
     ]
    }
   ],
   "source": [
    "execute_values(conn, df, \"employees\")"
   ]
  },
  {
   "cell_type": "markdown",
   "metadata": {},
   "source": [
    "<h1>Employee ids to csv</h1>"
   ]
  },
  {
   "cell_type": "code",
   "execution_count": 59,
   "metadata": {},
   "outputs": [],
   "source": [
    "df[\"id\"].to_csv(\"employee_ids.csv\")"
   ]
  },
  {
   "cell_type": "code",
   "execution_count": null,
   "metadata": {},
   "outputs": [],
   "source": []
  }
 ],
 "metadata": {
  "kernelspec": {
   "display_name": "Python 3",
   "language": "python",
   "name": "python3"
  },
  "language_info": {
   "codemirror_mode": {
    "name": "ipython",
    "version": 3
   },
   "file_extension": ".py",
   "mimetype": "text/x-python",
   "name": "python",
   "nbconvert_exporter": "python",
   "pygments_lexer": "ipython3",
   "version": "3.6.5"
  }
 },
 "nbformat": 4,
 "nbformat_minor": 4
}
