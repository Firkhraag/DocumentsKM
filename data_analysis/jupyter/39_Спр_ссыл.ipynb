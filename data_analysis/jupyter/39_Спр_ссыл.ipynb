{
 "cells": [
  {
   "cell_type": "markdown",
   "metadata": {},
   "source": [
    "<h1>Ссылочные документы (+)</h1>"
   ]
  },
  {
   "cell_type": "markdown",
   "metadata": {},
   "source": [
    "<h1>Зависит от 40_Спр_ссыл_в</h1>"
   ]
  },
  {
   "cell_type": "code",
   "execution_count": 26,
   "metadata": {},
   "outputs": [],
   "source": [
    "import pandas as pd\n",
    "import numpy as np\n",
    "import pyodbc \n",
    "\n",
    "db_conn = pyodbc.connect('Driver={SQL Server};'\n",
    "                      'Server=LAPTOP-JSR6TV0G;'\n",
    "                      'Database=Pro_t_londonSQL;'\n",
    "                      'Trusted_Connection=yes;')"
   ]
  },
  {
   "cell_type": "code",
   "execution_count": 27,
   "metadata": {},
   "outputs": [
    {
     "data": {
      "text/plain": [
       "(310, 4)"
      ]
     },
     "execution_count": 27,
     "metadata": {},
     "output_type": "execute_result"
    }
   ],
   "source": [
    "df = pd.read_sql_query('SELECT * FROM Pro_t_londonSQL.dbo.Спр_ссыл', db_conn)\n",
    "df.shape"
   ]
  },
  {
   "cell_type": "code",
   "execution_count": 28,
   "metadata": {},
   "outputs": [
    {
     "data": {
      "text/html": [
       "<div>\n",
       "<style scoped>\n",
       "    .dataframe tbody tr th:only-of-type {\n",
       "        vertical-align: middle;\n",
       "    }\n",
       "\n",
       "    .dataframe tbody tr th {\n",
       "        vertical-align: top;\n",
       "    }\n",
       "\n",
       "    .dataframe thead th {\n",
       "        text-align: right;\n",
       "    }\n",
       "</style>\n",
       "<table border=\"1\" class=\"dataframe\">\n",
       "  <thead>\n",
       "    <tr style=\"text-align: right;\">\n",
       "      <th></th>\n",
       "      <th>Шифр_сд</th>\n",
       "      <th>Вид_сд</th>\n",
       "      <th>Обозн_сд</th>\n",
       "      <th>Наим_сд</th>\n",
       "    </tr>\n",
       "  </thead>\n",
       "  <tbody>\n",
       "    <tr>\n",
       "      <th>0</th>\n",
       "      <td>1</td>\n",
       "      <td>NaN</td>\n",
       "      <td>М34508.01.03.500</td>\n",
       "      <td>.</td>\n",
       "    </tr>\n",
       "    <tr>\n",
       "      <th>1</th>\n",
       "      <td>БК1</td>\n",
       "      <td>24.0</td>\n",
       "      <td>3.010-1 вып. 1</td>\n",
       "      <td>Баки для хранения концентрированного и водного...</td>\n",
       "    </tr>\n",
       "    <tr>\n",
       "      <th>2</th>\n",
       "      <td>БК2</td>\n",
       "      <td>24.0</td>\n",
       "      <td>3.010-1 вып. 2</td>\n",
       "      <td>Баки для хранения концентрированного и водного...</td>\n",
       "    </tr>\n",
       "    <tr>\n",
       "      <th>3</th>\n",
       "      <td>БК3</td>\n",
       "      <td>24.0</td>\n",
       "      <td>3.010-1 вып. 3</td>\n",
       "      <td>Баки для хранения концентрированного и водного...</td>\n",
       "    </tr>\n",
       "    <tr>\n",
       "      <th>4</th>\n",
       "      <td>БК4</td>\n",
       "      <td>24.0</td>\n",
       "      <td>3.010-1 вып. 4</td>\n",
       "      <td>Баки для хранения концентрированного и водного...</td>\n",
       "    </tr>\n",
       "  </tbody>\n",
       "</table>\n",
       "</div>"
      ],
      "text/plain": [
       "  Шифр_сд  Вид_сд          Обозн_сд  \\\n",
       "0       1     NaN  М34508.01.03.500   \n",
       "1    БК1     24.0    3.010-1 вып. 1   \n",
       "2    БК2     24.0    3.010-1 вып. 2   \n",
       "3    БК3     24.0    3.010-1 вып. 3   \n",
       "4    БК4     24.0    3.010-1 вып. 4   \n",
       "\n",
       "                                             Наим_сд  \n",
       "0                                                  .  \n",
       "1  Баки для хранения концентрированного и водного...  \n",
       "2  Баки для хранения концентрированного и водного...  \n",
       "3  Баки для хранения концентрированного и водного...  \n",
       "4  Баки для хранения концентрированного и водного...  "
      ]
     },
     "execution_count": 28,
     "metadata": {},
     "output_type": "execute_result"
    }
   ],
   "source": [
    "df.head()"
   ]
  },
  {
   "cell_type": "code",
   "execution_count": 29,
   "metadata": {},
   "outputs": [],
   "source": [
    "df = df.replace(\"\", np.nan)"
   ]
  },
  {
   "cell_type": "code",
   "execution_count": 30,
   "metadata": {},
   "outputs": [
    {
     "data": {
      "text/plain": [
       "Шифр_сд     0\n",
       "Вид_сд      3\n",
       "Обозн_сд    1\n",
       "Наим_сд     1\n",
       "dtype: int64"
      ]
     },
     "execution_count": 30,
     "metadata": {},
     "output_type": "execute_result"
    }
   ],
   "source": [
    "df.isna().sum()"
   ]
  },
  {
   "cell_type": "markdown",
   "metadata": {},
   "source": [
    "<h2>Убираем</h2>"
   ]
  },
  {
   "cell_type": "code",
   "execution_count": 31,
   "metadata": {},
   "outputs": [
    {
     "data": {
      "text/plain": [
       "(306, 4)"
      ]
     },
     "execution_count": 31,
     "metadata": {},
     "output_type": "execute_result"
    }
   ],
   "source": [
    "df = df.dropna()\n",
    "df.shape"
   ]
  },
  {
   "cell_type": "code",
   "execution_count": 32,
   "metadata": {},
   "outputs": [
    {
     "data": {
      "text/plain": [
       "(306, 4)"
      ]
     },
     "execution_count": 32,
     "metadata": {},
     "output_type": "execute_result"
    }
   ],
   "source": [
    "df = df.drop_duplicates(subset=[\"Шифр_сд\"])\n",
    "df.shape"
   ]
  },
  {
   "cell_type": "code",
   "execution_count": 33,
   "metadata": {},
   "outputs": [],
   "source": [
    "df = df.reset_index(drop=True)"
   ]
  },
  {
   "cell_type": "markdown",
   "metadata": {},
   "source": [
    "<h2>Trim whitespaces</h2>"
   ]
  },
  {
   "cell_type": "code",
   "execution_count": 34,
   "metadata": {},
   "outputs": [],
   "source": [
    "df[\"Шифр_сд\"] = df[\"Шифр_сд\"].str.strip()\n",
    "df[\"Обозн_сд\"] = df[\"Обозн_сд\"].str.strip()\n",
    "df[\"Наим_сд\"] = df[\"Наим_сд\"].str.strip()"
   ]
  },
  {
   "cell_type": "code",
   "execution_count": 35,
   "metadata": {},
   "outputs": [],
   "source": [
    "for i in range(0, len(df)):\n",
    "    arr = df[\"Наим_сд\"][i].split()\n",
    "    new_str = ' '.join(arr)\n",
    "    df.at[i, \"Наим_сд\"] = new_str"
   ]
  },
  {
   "cell_type": "markdown",
   "metadata": {},
   "source": [
    "<h2>Spelling</h2>"
   ]
  },
  {
   "cell_type": "code",
   "execution_count": 36,
   "metadata": {},
   "outputs": [],
   "source": [
    "df[\"Наим_сд\"] = df[\"Наим_сд\"].str.replace(\"возду ха\", \"воздуха\")\n",
    "df[\"Наим_сд\"] = df[\"Наим_сд\"].str.replace(\"Материриалы\", \"Материалы\")\n",
    "df[\"Наим_сд\"] = df[\"Наим_сд\"].str.replace(\"рекоментации\", \"рекомендации\")\n",
    "df[\"Наим_сд\"] = df[\"Наим_сд\"].str.replace(\"рас пашные\", \"распашные\")\n",
    "df[\"Наим_сд\"] = df[\"Наим_сд\"].str.replace(\"металличе ческих\", \"металлических\")\n",
    "df[\"Наим_сд\"] = df[\"Наим_сд\"].str.replace(\"металличе ских\", \"металлических\")\n",
    "df[\"Наим_сд\"] = df[\"Наим_сд\"].str.replace(\"электри ческие\", \"электрические\")\n",
    "df[\"Наим_сд\"] = df[\"Наим_сд\"].str.replace(\"кра ны\", \"краны\")\n",
    "df[\"Наим_сд\"] = df[\"Наим_сд\"].str.replace(\"примене нием\", \"применением\")\n",
    "df[\"Наим_сд\"] = df[\"Наим_сд\"].str.replace(\"обслуживани сосудов\", \"обслуживания сосудов\")\n",
    "df[\"Наим_сд\"] = df[\"Наим_сд\"].str.replace(\"пе реплетами\", \"переплетами\")\n",
    "df[\"Наим_сд\"] = df[\"Наим_сд\"].str.replace(\"за полнением\", \"заполнением\")\n",
    "df[\"Наим_сд\"] = df[\"Наим_сд\"].str.replace(\"линй\", \"линий\")\n",
    "df[\"Наим_сд\"] = df[\"Наим_сд\"].str.replace(\"мосто вые\", \"мостовые\")\n",
    "df[\"Наим_сд\"] = df[\"Наим_сд\"].str.replace(\"покрыти ем\", \"покрытием\")\n",
    "df[\"Наим_сд\"] = df[\"Наим_сд\"].str.replace(\"со кращенному\", \"сокращенному\")\n",
    "df[\"Наим_сд\"] = df[\"Наим_сд\"].str.replace(\"покрытияпролетами\", \"покрытия пролетами\")\n",
    "df[\"Наим_сд\"] = df[\"Наим_сд\"].str.replace(\"широкополочныых\", \"широкополочных\")\n",
    "df[\"Наим_сд\"] = df[\"Наим_сд\"].str.replace(\"тав ров\", \"тавров\")\n",
    "df[\"Наим_сд\"] = df[\"Наим_сд\"].str.replace(\"зда ний\", \"зданий\")\n",
    "df[\"Наим_сд\"] = df[\"Наим_сд\"].str.replace(\"ремонтно -монтажных\", \"ремонтно-монтажных\")\n",
    "df[\"Наим_сд\"] = df[\"Наим_сд\"].str.replace(\"пок рытия\", \"покрытия\")\n",
    "df[\"Наим_сд\"] = df[\"Наим_сд\"].str.replace(\"профилирован ным\", \"профилированным\")\n",
    "df[\"Наим_сд\"] = df[\"Наим_сд\"].str.replace(\"стеклои минераловатных\", \"стекло и минераловатных\")\n",
    "df[\"Наим_сд\"] = df[\"Наим_сд\"].str.replace(\"окон,дверей\", \"окон, дверей\")\n",
    "df[\"Наим_сд\"] = df[\"Наим_сд\"].str.replace(\"пром.зданий\", \"пром. зданий\")\n",
    "df[\"Наим_сд\"] = df[\"Наим_сд\"].str.replace(\"строитель ные\", \"строительные\")\n",
    "df[\"Наим_сд\"] = df[\"Наим_сд\"].str.replace(\"сталь ные\", \"стальные\")\n",
    "df[\"Наим_сд\"] = df[\"Наим_сд\"].str.replace(\"наруж ного\", \"наружного\")\n",
    "df[\"Наим_сд\"] = df[\"Наим_сд\"].str.replace(\"ветров.район.\", \"ветров. район.\")\n",
    "df[\"Наим_сд\"] = df[\"Наим_сд\"].str.replace(\"выше и ниже -40 град.с.  ше и ниже -40 град.с.\", \"выше -40 град.с. и ниже -40 град.с.\")\n",
    "df[\"Наим_сд\"] = df[\"Наим_сд\"].str.replace(\"алю миниевых\", \"алюминиевых\")\n",
    "df[\"Наим_сд\"] = df[\"Наим_сд\"].str.replace(\"зданий,промышленных\", \"зданий, промышленных\")\n",
    "df[\"Наим_сд\"] = df[\"Наим_сд\"].str.replace(\"предприятий.шарнирные\", \"предприятий. Шарнирные\")\n",
    "df[\"Наим_сд\"] = df[\"Наим_сд\"].str.replace(\"связей.Чертежи\", \"связей. Чертежи\")\n",
    "df[\"Наим_сд\"] = df[\"Наим_сд\"].str.replace(\"сталь ными\", \"стальными\")\n",
    "df[\"Наим_сд\"] = df[\"Наим_сд\"].str.replace(\"унифици рованных\", \"унифицированных\")\n",
    "df[\"Наим_сд\"] = df[\"Наим_сд\"].str.replace(\"уз лы\", \"узлы\")\n",
    "df[\"Наим_сд\"] = df[\"Наим_сд\"].str.replace(\"железобе тонных\", \"железобетонных\")\n",
    "df[\"Наим_сд\"] = df[\"Наим_сд\"].str.replace(\"метал лопроката\", \"металлопроката\")\n",
    "df[\"Наим_сд\"] = df[\"Наим_сд\"].str.replace(\"выпу ску\", \"выпуску\")\n",
    "df[\"Наим_сд\"] = df[\"Наим_сд\"].str.replace(\"откры вающиеся\", \"открывающиеся\")\n",
    "df[\"Наим_сд\"] = df[\"Наим_сд\"].str.replace(\"светоаэра ционных\", \"светоаэрационных\")\n",
    "df[\"Наим_сд\"] = df[\"Наим_сд\"].str.replace(\"проектирования.Рабочие\", \"проектирования. Рабочие\")\n",
    "df[\"Наим_сд\"] = df[\"Наим_сд\"].str.replace(\"черте жи\", \"чертежи\")\n",
    "df[\"Наим_сд\"] = df[\"Наим_сд\"].str.replace(\"опорн.кранами\", \"опорн. кранами\")\n",
    "df[\"Наим_сд\"] = df[\"Наим_сд\"].str.replace(\"опорынми кранами\", \"опорными кранами\")\n",
    "df[\"Наим_сд\"] = df[\"Наим_сд\"].str.replace(\"несущ.конструкций\", \"несущ. конструкций\")\n",
    "df[\"Наим_сд\"] = df[\"Наим_сд\"].str.replace(\"подв.кранами\", \"подв. кранами\")\n",
    "df[\"Наим_сд\"] = df[\"Наим_сд\"].str.replace(\"кровлей,оборудованных\", \"кровлей, оборудованных\")\n",
    "df[\"Наим_сд\"] = df[\"Наим_сд\"].str.replace(\"одноэт.произв\", \"одноэт. произв\")\n",
    "df[\"Наим_сд\"] = df[\"Наим_сд\"].str.replace(\"произв.зданий\", \"произв. зданий\")\n",
    "df[\"Наим_сд\"] = df[\"Наим_сд\"].str.replace(\"кровлей,оборудованных\", \"кровлей, оборудованных\")\n",
    "df[\"Наим_сд\"] = df[\"Наим_сд\"].str.replace(\"специальн.назначения\", \"специальн. назначения\")\n",
    "df[\"Наим_сд\"] = df[\"Наим_сд\"].str.replace(\"зданий,оборудованных\", \"зданий, оборудованных\")"
   ]
  },
  {
   "cell_type": "markdown",
   "metadata": {},
   "source": [
    "<h2>Id</h2>"
   ]
  },
  {
   "cell_type": "code",
   "execution_count": 37,
   "metadata": {},
   "outputs": [],
   "source": [
    "df.insert(0, 'id', range(1, len(df) + 1))"
   ]
  },
  {
   "cell_type": "markdown",
   "metadata": {},
   "source": [
    "<h2>Rename columns</h2>"
   ]
  },
  {
   "cell_type": "code",
   "execution_count": 38,
   "metadata": {},
   "outputs": [
    {
     "data": {
      "text/html": [
       "<div>\n",
       "<style scoped>\n",
       "    .dataframe tbody tr th:only-of-type {\n",
       "        vertical-align: middle;\n",
       "    }\n",
       "\n",
       "    .dataframe tbody tr th {\n",
       "        vertical-align: top;\n",
       "    }\n",
       "\n",
       "    .dataframe thead th {\n",
       "        text-align: right;\n",
       "    }\n",
       "</style>\n",
       "<table border=\"1\" class=\"dataframe\">\n",
       "  <thead>\n",
       "    <tr style=\"text-align: right;\">\n",
       "      <th></th>\n",
       "      <th>id</th>\n",
       "      <th>code</th>\n",
       "      <th>type_id</th>\n",
       "      <th>designation</th>\n",
       "      <th>name</th>\n",
       "    </tr>\n",
       "  </thead>\n",
       "  <tbody>\n",
       "    <tr>\n",
       "      <th>0</th>\n",
       "      <td>1</td>\n",
       "      <td>БК1</td>\n",
       "      <td>24.0</td>\n",
       "      <td>3.010-1 вып. 1</td>\n",
       "      <td>Баки для хранения концентрированного и водного...</td>\n",
       "    </tr>\n",
       "    <tr>\n",
       "      <th>1</th>\n",
       "      <td>2</td>\n",
       "      <td>БК2</td>\n",
       "      <td>24.0</td>\n",
       "      <td>3.010-1 вып. 2</td>\n",
       "      <td>Баки для хранения концентрированного и водного...</td>\n",
       "    </tr>\n",
       "    <tr>\n",
       "      <th>2</th>\n",
       "      <td>3</td>\n",
       "      <td>БК3</td>\n",
       "      <td>24.0</td>\n",
       "      <td>3.010-1 вып. 3</td>\n",
       "      <td>Баки для хранения концентрированного и водного...</td>\n",
       "    </tr>\n",
       "    <tr>\n",
       "      <th>3</th>\n",
       "      <td>4</td>\n",
       "      <td>БК4</td>\n",
       "      <td>24.0</td>\n",
       "      <td>3.010-1 вып. 4</td>\n",
       "      <td>Баки для хранения концентрированного и водного...</td>\n",
       "    </tr>\n",
       "    <tr>\n",
       "      <th>4</th>\n",
       "      <td>5</td>\n",
       "      <td>БК5</td>\n",
       "      <td>24.0</td>\n",
       "      <td>3.010-1 вып. 5</td>\n",
       "      <td>Баки для хранения концентрированного и водного...</td>\n",
       "    </tr>\n",
       "    <tr>\n",
       "      <th>...</th>\n",
       "      <td>...</td>\n",
       "      <td>...</td>\n",
       "      <td>...</td>\n",
       "      <td>...</td>\n",
       "      <td>...</td>\n",
       "    </tr>\n",
       "    <tr>\n",
       "      <th>301</th>\n",
       "      <td>302</td>\n",
       "      <td>ЭО5</td>\n",
       "      <td>18.0</td>\n",
       "      <td>3.015-3/82 вып. 3</td>\n",
       "      <td>Унифицированные двухярусные эстакады под техно...</td>\n",
       "    </tr>\n",
       "    <tr>\n",
       "      <th>302</th>\n",
       "      <td>303</td>\n",
       "      <td>ЭО6</td>\n",
       "      <td>18.0</td>\n",
       "      <td>3.015-7</td>\n",
       "      <td>Стальные опоры для трубопроводов технологическ...</td>\n",
       "    </tr>\n",
       "    <tr>\n",
       "      <th>303</th>\n",
       "      <td>304</td>\n",
       "      <td>ЭО7</td>\n",
       "      <td>18.0</td>\n",
       "      <td>3.403-2 вып. 0</td>\n",
       "      <td>Стальные опоры газопроводов и паропроводов пре...</td>\n",
       "    </tr>\n",
       "    <tr>\n",
       "      <th>304</th>\n",
       "      <td>305</td>\n",
       "      <td>ЭО8</td>\n",
       "      <td>18.0</td>\n",
       "      <td>3.403-2 вып. 1</td>\n",
       "      <td>Стальные опоры газопроводов и паропроводов пре...</td>\n",
       "    </tr>\n",
       "    <tr>\n",
       "      <th>305</th>\n",
       "      <td>306</td>\n",
       "      <td>ЭО9</td>\n",
       "      <td>18.0</td>\n",
       "      <td>3.403-2 вып. 2</td>\n",
       "      <td>Стальные опоры газопроводов и паропроводов пре...</td>\n",
       "    </tr>\n",
       "  </tbody>\n",
       "</table>\n",
       "<p>306 rows × 5 columns</p>\n",
       "</div>"
      ],
      "text/plain": [
       "      id code  type_id        designation  \\\n",
       "0      1  БК1     24.0     3.010-1 вып. 1   \n",
       "1      2  БК2     24.0     3.010-1 вып. 2   \n",
       "2      3  БК3     24.0     3.010-1 вып. 3   \n",
       "3      4  БК4     24.0     3.010-1 вып. 4   \n",
       "4      5  БК5     24.0     3.010-1 вып. 5   \n",
       "..   ...  ...      ...                ...   \n",
       "301  302  ЭО5     18.0  3.015-3/82 вып. 3   \n",
       "302  303  ЭО6     18.0            3.015-7   \n",
       "303  304  ЭО7     18.0     3.403-2 вып. 0   \n",
       "304  305  ЭО8     18.0     3.403-2 вып. 1   \n",
       "305  306  ЭО9     18.0     3.403-2 вып. 2   \n",
       "\n",
       "                                                  name  \n",
       "0    Баки для хранения концентрированного и водного...  \n",
       "1    Баки для хранения концентрированного и водного...  \n",
       "2    Баки для хранения концентрированного и водного...  \n",
       "3    Баки для хранения концентрированного и водного...  \n",
       "4    Баки для хранения концентрированного и водного...  \n",
       "..                                                 ...  \n",
       "301  Унифицированные двухярусные эстакады под техно...  \n",
       "302  Стальные опоры для трубопроводов технологическ...  \n",
       "303  Стальные опоры газопроводов и паропроводов пре...  \n",
       "304  Стальные опоры газопроводов и паропроводов пре...  \n",
       "305  Стальные опоры газопроводов и паропроводов пре...  \n",
       "\n",
       "[306 rows x 5 columns]"
      ]
     },
     "execution_count": 38,
     "metadata": {},
     "output_type": "execute_result"
    }
   ],
   "source": [
    "df = df.rename(columns={\"Шифр_сд\": \"code\",\n",
    "                        \"Вид_сд\": \"type_id\",\n",
    "                        \"Обозн_сд\": \"designation\",\n",
    "                        \"Наим_сд\": \"name\"\n",
    "                       })\n",
    "df"
   ]
  },
  {
   "cell_type": "code",
   "execution_count": 39,
   "metadata": {},
   "outputs": [
    {
     "data": {
      "text/plain": [
       "Унифицированные стальные специальные опоры ВЛ 35, 110 и 150 кв                                                                                                                                                             2\n",
       "Унифицированные стальные нормальные опоры ВЛ 35, 1110 и 150 кв (3078тм). Рабочие чертежи промежуточных опор ВЛ 35 кв.                                                                                                      1\n",
       "Ворота откатные с применением гнутых профилей из тонколистовой стали с механизированным открыванием. ворота. Рабочие чертежи.                                                                                              1\n",
       "Покрытия из асбестоцементных экструзионных плит для одноэтажных промышленных зданий с металлическими несущими конструкциями. изделия соединительные. Рабочие чертежи.                                                      1\n",
       "Стены из асбестоцементных панелей типа \"сэндвич\" длиной 3м для производственных зданий Рабочие чертежи панелей.                                                                                                            1\n",
       "                                                                                                                                                                                                                          ..\n",
       "Баки для хранения концентрированного и водного раствора пенообразователя емкостью от 6 до 80 м3. Бак V= 60м3.                                                                                                              1\n",
       "Стальные колонны одноэтажных производственных зданий обьектов черной металлургии                                                                                                                                           1\n",
       "Стальные колонны одноэтажных производственных зданий без мостовых опорных кранов колонны для зданий высотой от 9.6 до 18 м бескрановых и с подвесными электрическими кранами общего назначения грузоподъемностью до 5т.    1\n",
       "Перегородки панельные из алюминиевых сплавов. Материалы для проектирования. Монтажные узлы.                                                                                                                                1\n",
       "Типовые детали покрытий унифицированных одноэтажных промышленных зданий (секций) из легких металлических конструкций. покрытия со структурными блоками из прокатных профилей (типа цниицк).                                1\n",
       "Name: name, Length: 305, dtype: int64"
      ]
     },
     "execution_count": 39,
     "metadata": {},
     "output_type": "execute_result"
    }
   ],
   "source": [
    "df[\"name\"].value_counts()"
   ]
  },
  {
   "cell_type": "code",
   "execution_count": 40,
   "metadata": {},
   "outputs": [],
   "source": [
    "df = df.drop_duplicates(subset=[\"name\"])"
   ]
  },
  {
   "cell_type": "code",
   "execution_count": 41,
   "metadata": {},
   "outputs": [
    {
     "data": {
      "text/plain": [
       "Унифицированные стальные нормальные опоры ВЛ 35, 1110 и 150 кв (3078тм). Рабочие чертежи промежуточных опор ВЛ 35 кв.                                                                                                                      1\n",
       "Ворота откатные с применением гнутых профилей из тонколистовой стали с механизированным открыванием. ворота. Рабочие чертежи.                                                                                                              1\n",
       "Стальные колонны одноэтажных производственных зданий, оборудован. мостовыми опорными кранами. Колонны для зданий высотой от 10.8 до 18.0 м с мостовыми электрическими кранами общего назначения, грузоподъёмностью до 50 т. Чертежи КМ.    1\n",
       "Покрытия из асбестоцементных экструзионных плит для одноэтажных промышленных зданий с металлическими несущими конструкциями. изделия соединительные. Рабочие чертежи.                                                                      1\n",
       "Стены из асбестоцементных панелей типа \"сэндвич\" длиной 3м для производственных зданий Рабочие чертежи панелей.                                                                                                                            1\n",
       "                                                                                                                                                                                                                                          ..\n",
       "Заполнение оконных проемов в стенах зданий промышленных предприятий швеллерным и коробчатым профильным стеклом в деревянной обвязке. архитектурные и монтажные узлы                                                                        1\n",
       "Баки для хранения концентрированного и водного раствора пенообразователя емкостью от 6 до 80 м3. Бак V= 60м3.                                                                                                                              1\n",
       "Стальные колонны одноэтажных производственных зданий обьектов черной металлургии                                                                                                                                                           1\n",
       "Стальные колонны одноэтажных производственных зданий без мостовых опорных кранов колонны для зданий высотой от 9.6 до 18 м бескрановых и с подвесными электрическими кранами общего назначения грузоподъемностью до 5т.                    1\n",
       "Типовые детали покрытий унифицированных одноэтажных промышленных зданий (секций) из легких металлических конструкций. покрытия со структурными блоками из прокатных профилей (типа цниицк).                                                1\n",
       "Name: name, Length: 305, dtype: int64"
      ]
     },
     "execution_count": 41,
     "metadata": {},
     "output_type": "execute_result"
    }
   ],
   "source": [
    "df[\"name\"].value_counts()"
   ]
  },
  {
   "cell_type": "code",
   "execution_count": 43,
   "metadata": {},
   "outputs": [
    {
     "name": "stderr",
     "output_type": "stream",
     "text": [
      "C:\\Users\\sigla\\Anaconda3\\lib\\site-packages\\pandas\\core\\indexing.py:1745: SettingWithCopyWarning: \n",
      "A value is trying to be set on a copy of a slice from a DataFrame.\n",
      "Try using .loc[row_indexer,col_indexer] = value instead\n",
      "\n",
      "See the caveats in the documentation: https://pandas.pydata.org/pandas-docs/stable/user_guide/indexing.html#returning-a-view-versus-a-copy\n",
      "  isetter(ilocs[0], value)\n"
     ]
    }
   ],
   "source": [
    "df.loc[df[\"name\"].str.endswith('.') == False, \"name\"] = df[df[\"name\"].str.endswith('.') == False][\"name\"] + '.'"
   ]
  },
  {
   "cell_type": "code",
   "execution_count": 44,
   "metadata": {},
   "outputs": [
    {
     "data": {
      "text/plain": [
       "Series([], Name: name, dtype: object)"
      ]
     },
     "execution_count": 44,
     "metadata": {},
     "output_type": "execute_result"
    }
   ],
   "source": [
    "df.loc[df[\"name\"].str.endswith('.') == False, \"name\"]"
   ]
  },
  {
   "cell_type": "markdown",
   "metadata": {},
   "source": [
    "<h1>Postgres</h1>"
   ]
  },
  {
   "cell_type": "code",
   "execution_count": 45,
   "metadata": {},
   "outputs": [],
   "source": [
    "from psycopg2 import connect, sql, DatabaseError\n",
    "import psycopg2.extras as extras"
   ]
  },
  {
   "cell_type": "markdown",
   "metadata": {},
   "source": [
    "DocumentsKM"
   ]
  },
  {
   "cell_type": "code",
   "execution_count": 46,
   "metadata": {},
   "outputs": [
    {
     "name": "stdout",
     "output_type": "stream",
     "text": [
      "Connection successful\n"
     ]
    }
   ],
   "source": [
    "# Connect\n",
    "try:\n",
    "    conn = connect (\n",
    "        dbname = \"documentskm\",\n",
    "        user = \"postgres\",\n",
    "        host = \"localhost\",\n",
    "        password = \"password\"\n",
    "    )\n",
    "    cursor = conn.cursor()\n",
    "except Exception as err:\n",
    "    cursor = None\n",
    "    print(\"Psycopg2 error:\", err)\n",
    "    \n",
    "# Check if the connection was valid\n",
    "if cursor != None:\n",
    "    print(\"Connection successful\")"
   ]
  },
  {
   "cell_type": "code",
   "execution_count": 47,
   "metadata": {},
   "outputs": [],
   "source": [
    "cursor.execute(open(\"sql/39.sql\", \"r\").read())\n",
    "conn.commit()"
   ]
  },
  {
   "cell_type": "markdown",
   "metadata": {},
   "source": [
    "<h2>Insert data</h2>"
   ]
  },
  {
   "cell_type": "code",
   "execution_count": 48,
   "metadata": {},
   "outputs": [],
   "source": [
    "def execute_values(conn, df, table):\n",
    "    tuples = [tuple(x) for x in df.to_numpy()]\n",
    "    cols = ','.join(list(df.columns))\n",
    "    query  = \"INSERT INTO %s(%s) VALUES %%s\" % (table, cols)\n",
    "    cursor = conn.cursor()\n",
    "    try:\n",
    "        extras.execute_values(cursor, query, tuples)\n",
    "        conn.commit()\n",
    "    except (Exception, DatabaseError) as error:\n",
    "        print(\"Error: %s\" % error)\n",
    "        conn.rollback()\n",
    "        cursor.close()\n",
    "        return 1\n",
    "    print(\"execute_values() done\")\n",
    "    cursor.close()"
   ]
  },
  {
   "cell_type": "code",
   "execution_count": 49,
   "metadata": {},
   "outputs": [
    {
     "name": "stdout",
     "output_type": "stream",
     "text": [
      "execute_values() done\n"
     ]
    }
   ],
   "source": [
    "execute_values(conn, df, \"linked_docs\")"
   ]
  },
  {
   "cell_type": "code",
   "execution_count": null,
   "metadata": {},
   "outputs": [],
   "source": []
  }
 ],
 "metadata": {
  "kernelspec": {
   "display_name": "Python 3",
   "language": "python",
   "name": "python3"
  },
  "language_info": {
   "codemirror_mode": {
    "name": "ipython",
    "version": 3
   },
   "file_extension": ".py",
   "mimetype": "text/x-python",
   "name": "python",
   "nbconvert_exporter": "python",
   "pygments_lexer": "ipython3",
   "version": "3.6.5"
  }
 },
 "nbformat": 4,
 "nbformat_minor": 4
}
