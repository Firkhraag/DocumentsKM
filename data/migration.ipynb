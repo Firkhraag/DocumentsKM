{
 "cells": [
  {
   "cell_type": "markdown",
   "metadata": {},
   "source": [
    "<h1>Импорты</h1>"
   ]
  },
  {
   "cell_type": "code",
   "execution_count": 1821,
   "metadata": {},
   "outputs": [],
   "source": [
    "import pandas as pd\n",
    "import numpy as np\n",
    "import pyodbc\n",
    "import random\n",
    "from sklearn.preprocessing import OrdinalEncoder\n",
    "from datetime import datetime\n",
    "\n",
    "db_conn = pyodbc.connect('Driver={SQL Server};'\n",
    "                      'Server=LAPTOP-JSR6TV0G;'\n",
    "                      'Database=Pro_t_londonSQL;'\n",
    "                      'Trusted_Connection=yes;')"
   ]
  },
  {
   "cell_type": "markdown",
   "metadata": {},
   "source": [
    "<h1>Postgres</h1>"
   ]
  },
  {
   "cell_type": "code",
   "execution_count": 1822,
   "metadata": {},
   "outputs": [],
   "source": [
    "from psycopg2 import connect, sql, DatabaseError\n",
    "import psycopg2.extras as extras"
   ]
  },
  {
   "cell_type": "code",
   "execution_count": 1823,
   "metadata": {},
   "outputs": [],
   "source": [
    "from psycopg2.extensions import register_adapter, AsIs\n",
    "register_adapter(np.int32, AsIs)\n",
    "register_adapter(np.int64, AsIs)"
   ]
  },
  {
   "cell_type": "code",
   "execution_count": 1824,
   "metadata": {},
   "outputs": [
    {
     "name": "stdout",
     "output_type": "stream",
     "text": [
      "Connection successful\n"
     ]
    }
   ],
   "source": [
    "# Connect\n",
    "try:\n",
    "    conn = connect (\n",
    "        dbname = \"documentskm\",\n",
    "        user = \"postgres\",\n",
    "        host = \"localhost\",\n",
    "        password = \"password\"\n",
    "    )\n",
    "    cursor = conn.cursor()\n",
    "except Exception as err:\n",
    "    cursor = None\n",
    "    print(\"Psycopg2 error:\", err)\n",
    "    \n",
    "# Check if the connection was valid\n",
    "if cursor != None:\n",
    "    print(\"Connection successful\")"
   ]
  },
  {
   "cell_type": "code",
   "execution_count": 1825,
   "metadata": {},
   "outputs": [],
   "source": [
    "def execute_values(conn, df, table):\n",
    "    tuples = [tuple(x) for x in df.to_numpy()]\n",
    "    cols = ','.join(list(df.columns))\n",
    "    query  = \"INSERT INTO %s(%s) VALUES %%s\" % (table, cols)\n",
    "    cursor = conn.cursor()\n",
    "    try:\n",
    "        extras.execute_values(cursor, query, tuples)\n",
    "        conn.commit()\n",
    "    except (Exception, DatabaseError) as error:\n",
    "        print(\"Error: %s\" % error)\n",
    "        conn.rollback()\n",
    "        cursor.close()\n",
    "        return 1\n",
    "    print(\"execute_values() done\")\n",
    "    cursor.close()"
   ]
  },
  {
   "cell_type": "markdown",
   "metadata": {},
   "source": [
    "<h1>Id sequence will be out of sync</h1>"
   ]
  },
  {
   "cell_type": "markdown",
   "metadata": {},
   "source": [
    "select setval('mark_linked_docs_id_seq', (select max(id) from mark_linked_docs));"
   ]
  },
  {
   "cell_type": "markdown",
   "metadata": {},
   "source": [
    "select setval('general_data_points_id_seq', (select max(id) from general_data_points));"
   ]
  },
  {
   "cell_type": "markdown",
   "metadata": {},
   "source": [
    "<h2>If you need to drop all tables</h2>"
   ]
  },
  {
   "cell_type": "markdown",
   "metadata": {},
   "source": [
    "drop schema public cascade;\n",
    "create schema public;"
   ]
  },
  {
   "cell_type": "markdown",
   "metadata": {},
   "source": [
    "<h1>Должности</h1>"
   ]
  },
  {
   "cell_type": "code",
   "execution_count": 1826,
   "metadata": {},
   "outputs": [],
   "source": [
    "df = pd.read_sql_query('SELECT * FROM Pro_t_londonSQL.dbo.Спр_должностей', db_conn)"
   ]
  },
  {
   "cell_type": "code",
   "execution_count": 1827,
   "metadata": {},
   "outputs": [],
   "source": [
    "df.at[13, \"наим_должн\"] = \"инж. 3 к\""
   ]
  },
  {
   "cell_type": "code",
   "execution_count": 1828,
   "metadata": {},
   "outputs": [],
   "source": [
    "df = df.rename(columns={\"должность\": \"id\",\n",
    "                        \"наим_должн\": \"name\"\n",
    "                       })"
   ]
  },
  {
   "cell_type": "code",
   "execution_count": 1829,
   "metadata": {},
   "outputs": [],
   "source": [
    "cursor.execute(open(\"sql/25.sql\", \"r\").read())\n",
    "conn.commit()"
   ]
  },
  {
   "cell_type": "code",
   "execution_count": 1830,
   "metadata": {},
   "outputs": [
    {
     "name": "stdout",
     "output_type": "stream",
     "text": [
      "execute_values() done\n"
     ]
    }
   ],
   "source": [
    "execute_values(conn, df, \"positions\")"
   ]
  },
  {
   "cell_type": "markdown",
   "metadata": {},
   "source": [
    "<h1>Отделы</h1>"
   ]
  },
  {
   "cell_type": "code",
   "execution_count": 1831,
   "metadata": {},
   "outputs": [],
   "source": [
    "df = pd.read_sql_query('SELECT * FROM Pro_t_londonSQL.dbo.Спр_отделов', db_conn)"
   ]
  },
  {
   "cell_type": "code",
   "execution_count": 1832,
   "metadata": {},
   "outputs": [],
   "source": [
    "df = df.drop([\"начальник\", \"шифр_отд\"], axis=1)"
   ]
  },
  {
   "cell_type": "code",
   "execution_count": 1833,
   "metadata": {},
   "outputs": [],
   "source": [
    "df[\"наименование\"] = df[\"наименование\"].str.strip()"
   ]
  },
  {
   "cell_type": "code",
   "execution_count": 1834,
   "metadata": {},
   "outputs": [],
   "source": [
    "df = df[df[\"код_отд\"] != 40]\n",
    "df = df[df[\"код_отд\"] != 37]\n",
    "df = df[df[\"код_отд\"] != 36]\n",
    "df = df[df[\"код_отд\"] != 35]\n",
    "df = df[df[\"код_отд\"] != 34]\n",
    "df = df[df[\"код_отд\"] != 33]\n",
    "df = df[df[\"код_отд\"] != 32]\n",
    "df = df[df[\"код_отд\"] != 31]\n",
    "df = df[df[\"код_отд\"] != 18]\n",
    "df = df[df[\"код_отд\"] != 27]"
   ]
  },
  {
   "cell_type": "code",
   "execution_count": 1835,
   "metadata": {},
   "outputs": [],
   "source": [
    "df.at[0, \"наименование\"] = \"СО-2б\""
   ]
  },
  {
   "cell_type": "code",
   "execution_count": 1836,
   "metadata": {},
   "outputs": [],
   "source": [
    "df.at[1, \"наименование\"] = \"Машиностроительный\""
   ]
  },
  {
   "cell_type": "code",
   "execution_count": 1837,
   "metadata": {},
   "outputs": [],
   "source": [
    "df = df[df[\"код_отд\"] != 29]"
   ]
  },
  {
   "cell_type": "code",
   "execution_count": 1838,
   "metadata": {},
   "outputs": [],
   "source": [
    "df.at[30, \"наименование\"] = \"СО-2а\""
   ]
  },
  {
   "cell_type": "code",
   "execution_count": 1839,
   "metadata": {},
   "outputs": [],
   "source": [
    "df = df.rename(columns={\"код_отд\": \"id\",\n",
    "                        \"наименование\": \"name\"\n",
    "                       })"
   ]
  },
  {
   "cell_type": "code",
   "execution_count": 1840,
   "metadata": {},
   "outputs": [],
   "source": [
    "cursor.execute(open(\"sql/30.sql\", \"r\").read())\n",
    "conn.commit()"
   ]
  },
  {
   "cell_type": "code",
   "execution_count": 1841,
   "metadata": {},
   "outputs": [
    {
     "name": "stdout",
     "output_type": "stream",
     "text": [
      "execute_values() done\n"
     ]
    }
   ],
   "source": [
    "execute_values(conn, df, \"departments\")"
   ]
  },
  {
   "cell_type": "markdown",
   "metadata": {},
   "source": [
    "<h1>Исполнители</h1>"
   ]
  },
  {
   "cell_type": "code",
   "execution_count": 1842,
   "metadata": {},
   "outputs": [],
   "source": [
    "df = pd.read_sql_query('SELECT * FROM Pro_t_londonSQL.dbo.Спр_исполн', db_conn)"
   ]
  },
  {
   "cell_type": "code",
   "execution_count": 1843,
   "metadata": {},
   "outputs": [],
   "source": [
    "df = df.dropna()"
   ]
  },
  {
   "cell_type": "code",
   "execution_count": 1844,
   "metadata": {},
   "outputs": [],
   "source": [
    "df.loc[:,\"код_отд\"] = df.loc[:,\"код_отд\"].replace(40, 1)\n",
    "df.loc[:,\"код_отд\"] = df.loc[:,\"код_отд\"].replace(37, 1)\n",
    "df.loc[:,\"код_отд\"] = df.loc[:,\"код_отд\"].replace(36, 1)\n",
    "df.loc[:,\"код_отд\"] = df.loc[:,\"код_отд\"].replace(35, 26)\n",
    "df.loc[:,\"код_отд\"] = df.loc[:,\"код_отд\"].replace(34, 1)\n",
    "df.loc[:,\"код_отд\"] = df.loc[:,\"код_отд\"].replace(33, 26)\n",
    "df.loc[:,\"код_отд\"] = df.loc[:,\"код_отд\"].replace(32, 1)\n",
    "df.loc[:,\"код_отд\"] = df.loc[:,\"код_отд\"].replace(31, 26)\n",
    "df.loc[:,\"код_отд\"] = df.loc[:,\"код_отд\"].replace(18, 9)\n",
    "df.loc[:,\"код_отд\"] = df.loc[:,\"код_отд\"].replace(27, 26)\n",
    "df.loc[:,\"код_отд\"] = df.loc[:,\"код_отд\"].replace(29, 3)"
   ]
  },
  {
   "cell_type": "code",
   "execution_count": 1845,
   "metadata": {},
   "outputs": [],
   "source": [
    "df = df[df[\"код_отд\"] != 0]"
   ]
  },
  {
   "cell_type": "code",
   "execution_count": 1846,
   "metadata": {},
   "outputs": [],
   "source": [
    "df[\"должность\"] = df[\"должность\"].str.strip()"
   ]
  },
  {
   "cell_type": "code",
   "execution_count": 1847,
   "metadata": {},
   "outputs": [],
   "source": [
    "df.loc[df[\"должность\"] == \"ген.дир\", 'тип_должн'] = 1\n",
    "df.loc[df[\"должность\"] == \"гл.инж\", 'тип_должн'] = 2\n",
    "df.loc[df[\"должность\"] == \"зам.гл.инж\", 'тип_должн'] = 3\n",
    "df.loc[df[\"должность\"] == \"гл.стр\", 'тип_должн'] = 4\n",
    "df.loc[df[\"должность\"] == \"гл.арх\", 'тип_должн'] = 5\n",
    "df.loc[df[\"должность\"] == \"ГИП\", 'тип_должн'] = 6\n",
    "df.loc[df[\"должность\"] == \"нач.отд\", 'тип_должн'] = 7\n",
    "df.loc[df[\"должность\"] == \"зам.нач.отд\", 'тип_должн'] = 8\n",
    "df.loc[df[\"должность\"] == \"гл.спец.\", 'тип_должн'] = 9\n",
    "df.loc[df[\"должность\"] == \"Гл. спец.\", 'тип_должн'] = 9\n",
    "df.loc[df[\"должность\"] == \"зав.гр\", 'тип_должн'] = 10\n",
    "df.loc[df[\"должность\"] == \"Зав.гр\", 'тип_должн'] = 10\n",
    "df.loc[df[\"должность\"] == \"зав. Гр\", 'тип_должн'] = 10\n",
    "df.loc[df[\"должность\"] == \"вед.инж\", 'тип_должн'] = 11\n",
    "df.loc[df[\"должность\"] == \"вед.инж.\", 'тип_должн'] = 11\n",
    "df.loc[df[\"должность\"] == \"инж. 1 к\", 'тип_должн'] = 12\n",
    "df.loc[df[\"должность\"] == \"Инж. 1к\", 'тип_должн'] = 12\n",
    "df.loc[df[\"должность\"] == \"инженер1к\", 'тип_должн'] = 12\n",
    "df.loc[df[\"должность\"] == \"инж. 2 к\", 'тип_должн'] = 13\n",
    "df.loc[df[\"должность\"] == \"инж. 3 к\", 'тип_должн'] = 14\n",
    "df.loc[df[\"должность\"] == \"Инж. 3 к\", 'тип_должн'] = 14\n",
    "df.loc[df[\"должность\"] == \"инж3кат\", 'тип_должн'] = 14\n",
    "df.loc[df[\"должность\"] == \"инженер\", 'тип_должн'] = 15\n",
    "df.loc[df[\"должность\"] == \"инж\", 'тип_должн'] = 15\n",
    "df.loc[df[\"должность\"] == \"техник\", 'тип_должн'] = 16\n",
    "df.loc[df[\"должность\"] == \"чертежн\", 'тип_должн'] = 17"
   ]
  },
  {
   "cell_type": "code",
   "execution_count": 1848,
   "metadata": {},
   "outputs": [],
   "source": [
    "df[\"фио\"] = df[\"фио\"].str.strip()"
   ]
  },
  {
   "cell_type": "code",
   "execution_count": 1849,
   "metadata": {},
   "outputs": [],
   "source": [
    "df = df.drop_duplicates(subset=[\"тип_должн\", \"фио\", \"код_отд\"])"
   ]
  },
  {
   "cell_type": "code",
   "execution_count": 1850,
   "metadata": {},
   "outputs": [],
   "source": [
    "df = df[df[\"тип_должн\"] != 0]"
   ]
  },
  {
   "cell_type": "code",
   "execution_count": 1851,
   "metadata": {},
   "outputs": [],
   "source": [
    "df = df.drop([\"шифр\", \"должность\"], axis=1)"
   ]
  },
  {
   "cell_type": "code",
   "execution_count": 1852,
   "metadata": {},
   "outputs": [],
   "source": [
    "df = df.rename(columns={\"код\": \"id\",\n",
    "                        \"тип_должн\": \"position_id\",\n",
    "                        \"фио\": \"name\",\n",
    "                        \"код_отд\": \"department_id\"\n",
    "                       })"
   ]
  },
  {
   "cell_type": "code",
   "execution_count": 1853,
   "metadata": {},
   "outputs": [],
   "source": [
    "cursor.execute(open(\"sql/26.sql\", \"r\").read())\n",
    "conn.commit()"
   ]
  },
  {
   "cell_type": "code",
   "execution_count": 1854,
   "metadata": {},
   "outputs": [
    {
     "name": "stdout",
     "output_type": "stream",
     "text": [
      "execute_values() done\n"
     ]
    }
   ],
   "source": [
    "execute_values(conn, df, \"employees\")"
   ]
  },
  {
   "cell_type": "code",
   "execution_count": 1855,
   "metadata": {},
   "outputs": [],
   "source": [
    "df[\"id\"].to_csv(\"employee_ids.csv\")"
   ]
  },
  {
   "cell_type": "markdown",
   "metadata": {},
   "source": [
    "<h1>Пользователи</h1>"
   ]
  },
  {
   "cell_type": "code",
   "execution_count": 1856,
   "metadata": {},
   "outputs": [],
   "source": [
    "#df = pd.DataFrame({'id': [1, 2], 'login': [\"1\", \"2\"], 'password': [bcrypt.hashpw(\"1\", bcrypt.gensalt()), bcrypt.hashpw(\"2\", bcrypt.gensalt())], 'employee_id': [11, 27]})"
   ]
  },
  {
   "cell_type": "code",
   "execution_count": 1857,
   "metadata": {},
   "outputs": [],
   "source": [
    "cursor.execute(open(\"sql/xx_users.sql\", \"r\").read())\n",
    "conn.commit()"
   ]
  },
  {
   "cell_type": "code",
   "execution_count": 1858,
   "metadata": {},
   "outputs": [],
   "source": [
    "#execute_values(conn, df, \"users\")"
   ]
  },
  {
   "cell_type": "markdown",
   "metadata": {},
   "source": [
    "<h1>Условия эксплуатации</h1>"
   ]
  },
  {
   "cell_type": "code",
   "execution_count": 1859,
   "metadata": {},
   "outputs": [],
   "source": [
    "df1 = pd.DataFrame({'id': [1, 2, 3, 4], 'name': [\"неагрессивная\", \"слабоагрессивная\", \"среднеагрессивная\", \"сильноагрессивная\"]})"
   ]
  },
  {
   "cell_type": "code",
   "execution_count": 1860,
   "metadata": {},
   "outputs": [],
   "source": [
    "df2 = pd.DataFrame({'id': [1, 2, 3], 'name': [\"внутри помещения\", \"снаружи помещения\", \"в жидкостях\"]})"
   ]
  },
  {
   "cell_type": "code",
   "execution_count": 1861,
   "metadata": {},
   "outputs": [],
   "source": [
    "df3 = pd.DataFrame({'id': [1, 2, 3, 4, 5], 'name': [\"нет газов (вода)\", \"газы группы А (кислоты)\", \"газы группы B, C и D (щелочи)\", \"бензин\", \"масло\"]})"
   ]
  },
  {
   "cell_type": "code",
   "execution_count": 1862,
   "metadata": {},
   "outputs": [],
   "source": [
    "df4 = pd.DataFrame({'id': [1, 2, 3, 4], 'name': [\"сталь без покрытия\", \"оцинкованная сталь\", \"сталь горячего цинкования\", \"сталь с газотермическим напылением цинка\"]})"
   ]
  },
  {
   "cell_type": "code",
   "execution_count": 1863,
   "metadata": {},
   "outputs": [],
   "source": [
    "df5 = pd.DataFrame({'id': [1, 2, 3, 4, 5, 6, 7, 8, 9, 10, 11, 12, 13, 14, 15, 16], 'name': [\"ПФ\", \"АУ\", \"ЭЭ\", \"МА\", \"МБ\", \"НЦ\", \"ФФ\", \"ПА\", \"ПЭ\", \"ПБ\", \"ПВ\", \"СВ\", \"ПУ\", \"ЭП\", \"ПС\", \"КО\"]})"
   ]
  },
  {
   "cell_type": "code",
   "execution_count": 1864,
   "metadata": {},
   "outputs": [],
   "source": [
    "df6 = pd.DataFrame({'id': [1, 2, 3, 4], 'name': [\"отсутствуют\", \"сдвигоустойчивые соединения\", \"фланцевые соединения\", \"сдвигоустойчивые и фланцевые соединения\"]})"
   ]
  },
  {
   "cell_type": "code",
   "execution_count": 1865,
   "metadata": {},
   "outputs": [],
   "source": [
    "cursor.execute(open(\"sql/y_1.sql\", \"r\").read())\n",
    "cursor.execute(open(\"sql/y_2.sql\", \"r\").read())\n",
    "cursor.execute(open(\"sql/y_3.sql\", \"r\").read())\n",
    "cursor.execute(open(\"sql/y_4.sql\", \"r\").read())\n",
    "cursor.execute(open(\"sql/y_5.sql\", \"r\").read())\n",
    "cursor.execute(open(\"sql/y_6.sql\", \"r\").read())\n",
    "conn.commit()"
   ]
  },
  {
   "cell_type": "code",
   "execution_count": 1866,
   "metadata": {},
   "outputs": [
    {
     "name": "stdout",
     "output_type": "stream",
     "text": [
      "execute_values() done\n",
      "execute_values() done\n",
      "execute_values() done\n",
      "execute_values() done\n",
      "execute_values() done\n",
      "execute_values() done\n"
     ]
    }
   ],
   "source": [
    "execute_values(conn, df1, \"env_aggressiveness\")\n",
    "execute_values(conn, df2, \"operating_areas\")\n",
    "execute_values(conn, df3, \"gas_groups\")\n",
    "execute_values(conn, df4, \"construction_materials\")\n",
    "execute_values(conn, df5, \"paintwork_types\")\n",
    "execute_values(conn, df6, \"high_tensile_bolts_types\")"
   ]
  },
  {
   "cell_type": "markdown",
   "metadata": {},
   "source": [
    "<h1>Контроль сварки</h1>"
   ]
  },
  {
   "cell_type": "code",
   "execution_count": 1867,
   "metadata": {},
   "outputs": [],
   "source": [
    "df = pd.DataFrame({'id': [1, 2, 3, 4], 'name': [\"контроль не требуется\", \"контроль опрыскиванием керосином\", \"контроль ультразвуком\", \"контроль гамма-излучением\"]})"
   ]
  },
  {
   "cell_type": "code",
   "execution_count": 1868,
   "metadata": {},
   "outputs": [],
   "source": [
    "cursor.execute(open(\"sql/yy_1.sql\", \"r\").read())\n",
    "conn.commit()"
   ]
  },
  {
   "cell_type": "code",
   "execution_count": 1869,
   "metadata": {},
   "outputs": [
    {
     "name": "stdout",
     "output_type": "stream",
     "text": [
      "execute_values() done\n"
     ]
    }
   ],
   "source": [
    "execute_values(conn, df, \"welding_control\")"
   ]
  },
  {
   "cell_type": "markdown",
   "metadata": {},
   "source": [
    "<h1>Типы документов</h1>"
   ]
  },
  {
   "cell_type": "code",
   "execution_count": 1870,
   "metadata": {},
   "outputs": [],
   "source": [
    "df = pd.DataFrame({'id': [1, 2, 3, 4, 5], 'code': [\"л.\", \"СМ\", \"ВМП\", \"СМС\", \"РР\"], 'name': [\"Листы основного комплекта\", \"Спецификация металлопроката\", \"Ведомость металлоконструкций по видам профилей\", \"Сводная спецификация металлопроката\", \"Расчет металлоконструкций\"]})"
   ]
  },
  {
   "cell_type": "code",
   "execution_count": 1871,
   "metadata": {},
   "outputs": [],
   "source": [
    "cursor.execute(open(\"sql/x.sql\", \"r\").read())\n",
    "conn.commit()"
   ]
  },
  {
   "cell_type": "code",
   "execution_count": 1872,
   "metadata": {},
   "outputs": [
    {
     "name": "stdout",
     "output_type": "stream",
     "text": [
      "execute_values() done\n"
     ]
    }
   ],
   "source": [
    "execute_values(conn, df, \"doc_types\")"
   ]
  },
  {
   "cell_type": "markdown",
   "metadata": {},
   "source": [
    "<h1>Степени очистки антикоррозионной защиты</h1>"
   ]
  },
  {
   "cell_type": "code",
   "execution_count": 1873,
   "metadata": {},
   "outputs": [],
   "source": [
    "df = pd.read_sql_query('SELECT * FROM Pro_t_londonSQL.dbo.Степени_оч_аз', db_conn)"
   ]
  },
  {
   "cell_type": "code",
   "execution_count": 1874,
   "metadata": {},
   "outputs": [],
   "source": [
    "df[\"Наим_оч\"] = df[\"Наим_оч\"].str.strip()"
   ]
  },
  {
   "cell_type": "code",
   "execution_count": 1875,
   "metadata": {},
   "outputs": [],
   "source": [
    "df = df.rename(columns={\"Степень_оч\": \"id\",\n",
    "                        \"Наим_оч\": \"name\"\n",
    "                       })"
   ]
  },
  {
   "cell_type": "code",
   "execution_count": 1876,
   "metadata": {},
   "outputs": [],
   "source": [
    "cursor.execute(open(\"sql/44.sql\", \"r\").read())\n",
    "conn.commit()"
   ]
  },
  {
   "cell_type": "code",
   "execution_count": 1877,
   "metadata": {},
   "outputs": [
    {
     "name": "stdout",
     "output_type": "stream",
     "text": [
      "execute_values() done\n"
     ]
    }
   ],
   "source": [
    "execute_values(conn, df, \"corr_prot_cleaning_degrees\")"
   ]
  },
  {
   "cell_type": "markdown",
   "metadata": {},
   "source": [
    "<h1>Варианты антикоррозионной защиты </h1>"
   ]
  },
  {
   "cell_type": "code",
   "execution_count": 1878,
   "metadata": {},
   "outputs": [],
   "source": [
    "df = pd.read_sql_query('SELECT * FROM Pro_t_londonSQL.dbo.Варианты_аз', db_conn)"
   ]
  },
  {
   "cell_type": "code",
   "execution_count": 1879,
   "metadata": {},
   "outputs": [],
   "source": [
    "df = df.replace(\"\", np.nan)"
   ]
  },
  {
   "cell_type": "code",
   "execution_count": 1880,
   "metadata": {},
   "outputs": [],
   "source": [
    "df = df.dropna()"
   ]
  },
  {
   "cell_type": "code",
   "execution_count": 1881,
   "metadata": {},
   "outputs": [],
   "source": [
    "df = df.drop_duplicates()"
   ]
  },
  {
   "cell_type": "code",
   "execution_count": 1882,
   "metadata": {},
   "outputs": [],
   "source": [
    "df = df.drop([\"Статус_аз\"], axis=1)"
   ]
  },
  {
   "cell_type": "code",
   "execution_count": 1883,
   "metadata": {},
   "outputs": [],
   "source": [
    "df.insert(0, 'id', range(1, len(df) + 1))"
   ]
  },
  {
   "cell_type": "code",
   "execution_count": 1884,
   "metadata": {},
   "outputs": [],
   "source": [
    "df = df.drop_duplicates(subset=[\"Зона_экс\", \"Группа_газов\", \"Агресс_ср\", \"Матер_к\", \"Тип_лп\", \"Группа_лп\", \"Стойкость_лп\"])"
   ]
  },
  {
   "cell_type": "code",
   "execution_count": 1885,
   "metadata": {},
   "outputs": [],
   "source": [
    "df = df.rename(columns={\"Зона_экс\": \"operating_zone\",\n",
    "                        \"Группа_газов\": \"gas_group\",\n",
    "                        \"Агресс_ср\": \"env_aggressiveness\",\n",
    "                        \"Матер_к\": \"material\",\n",
    "                        \"Тип_лп\": \"paintwork_type\",\n",
    "                        \"Группа_лп\": \"paintwork_group\",\n",
    "                        \"Стойкость_лп\": \"paintwork_durability\",\n",
    "                        \"Кол_слоев_лп\": \"paintwork_num_of_layers\",\n",
    "                        \"Толщ_лпгр\": \"paintwork_primer_thickness\",\n",
    "                        \"Кол_слоев_гр\": \"primer_num_of_layers\",\n",
    "                        \"Степень_оч\": \"cleaning_degree_id\"\n",
    "                       })"
   ]
  },
  {
   "cell_type": "code",
   "execution_count": 1886,
   "metadata": {},
   "outputs": [],
   "source": [
    "cursor.execute(open(\"sql/1.sql\", \"r\").read())\n",
    "conn.commit()"
   ]
  },
  {
   "cell_type": "code",
   "execution_count": 1887,
   "metadata": {},
   "outputs": [
    {
     "name": "stdout",
     "output_type": "stream",
     "text": [
      "execute_values() done\n"
     ]
    }
   ],
   "source": [
    "execute_values(conn, df, \"corr_prot_variants\")"
   ]
  },
  {
   "cell_type": "markdown",
   "metadata": {},
   "source": [
    "<h1>Виды конструкций</h1>"
   ]
  },
  {
   "cell_type": "code",
   "execution_count": 1888,
   "metadata": {},
   "outputs": [],
   "source": [
    "df = pd.read_sql_query('SELECT * FROM Pro_t_londonSQL.dbo.Спр_видов_к', db_conn)"
   ]
  },
  {
   "cell_type": "code",
   "execution_count": 1889,
   "metadata": {},
   "outputs": [],
   "source": [
    "df[\"Имя_к\"] = df[\"Имя_к\"].str.strip()"
   ]
  },
  {
   "cell_type": "code",
   "execution_count": 1890,
   "metadata": {},
   "outputs": [],
   "source": [
    "df = df[df[\"Имя_к\"].isna() == False]"
   ]
  },
  {
   "cell_type": "code",
   "execution_count": 1891,
   "metadata": {},
   "outputs": [],
   "source": [
    "df = df.rename(columns={\"Шифр_к\": \"id\",\n",
    "                        \"Имя_к\": \"name\"\n",
    "                       })"
   ]
  },
  {
   "cell_type": "code",
   "execution_count": 1892,
   "metadata": {},
   "outputs": [],
   "source": [
    "df.loc[df[\"id\"] == 2, \"name\"] = \"Двухветвевые колонны одноэтажных производственных зданий и крановых эстакад\"\n",
    "df.loc[df[\"id\"] == 9, \"name\"] = \"Подкраново-подстропильные фермы\"\n",
    "df.loc[df[\"id\"] == 34, \"name\"] = \"Переплеты, витражи из профильных труб с деталями крепления\""
   ]
  },
  {
   "cell_type": "code",
   "execution_count": 1893,
   "metadata": {},
   "outputs": [],
   "source": [
    "cursor.execute(open(\"sql/22.sql\", \"r\").read())\n",
    "conn.commit()"
   ]
  },
  {
   "cell_type": "code",
   "execution_count": 1894,
   "metadata": {},
   "outputs": [
    {
     "name": "stdout",
     "output_type": "stream",
     "text": [
      "execute_values() done\n"
     ]
    }
   ],
   "source": [
    "execute_values(conn, df, \"construction_types\")"
   ]
  },
  {
   "cell_type": "markdown",
   "metadata": {},
   "source": [
    "<h1>Подвиды конструкций</h1>"
   ]
  },
  {
   "cell_type": "code",
   "execution_count": 1895,
   "metadata": {},
   "outputs": [],
   "source": [
    "df = pd.read_sql_query('SELECT * FROM Pro_t_londonSQL.dbo.Спр_видов_пк', db_conn)"
   ]
  },
  {
   "cell_type": "code",
   "execution_count": 1896,
   "metadata": {},
   "outputs": [],
   "source": [
    "df[\"Имя_пк\"] = df[\"Имя_пк\"].str.strip()\n",
    "df[\"Расценка\"] = df[\"Расценка\"].str.strip()"
   ]
  },
  {
   "cell_type": "code",
   "execution_count": 1897,
   "metadata": {},
   "outputs": [],
   "source": [
    "df = df.drop_duplicates()"
   ]
  },
  {
   "cell_type": "code",
   "execution_count": 1898,
   "metadata": {},
   "outputs": [],
   "source": [
    "df = df.drop([\"Шифр_пк\"], axis=1)"
   ]
  },
  {
   "cell_type": "code",
   "execution_count": 1899,
   "metadata": {},
   "outputs": [],
   "source": [
    "df.insert(0, 'id', range(1, len(df) + 1))"
   ]
  },
  {
   "cell_type": "code",
   "execution_count": 1900,
   "metadata": {},
   "outputs": [],
   "source": [
    "df = df.rename(columns={\"Шифр_к\": \"type_id\",\n",
    "                        \"Имя_пк\": \"name\",\n",
    "                        \"Расценка\": \"valuation\"\n",
    "                       })"
   ]
  },
  {
   "cell_type": "code",
   "execution_count": 1901,
   "metadata": {},
   "outputs": [],
   "source": [
    "df.loc[df[\"id\"] == 11, \"name\"] = \"высотой свыше 150 м, поставляемые отдельными элементами\"\n",
    "df.loc[df[\"id\"] == 14, \"name\"] = \"коробчатого сечения пролетом 12 м и более\"\n",
    "df.loc[df[\"id\"] == 33, \"name\"] = \"с шагом стропильных ферм 6 м\"\n",
    "df.loc[df[\"id\"] == 34, \"name\"] = \"с шагом стропильных ферм 12 м\"\n",
    "df.loc[df[\"id\"] == 49, \"name\"] = \"составного сечения из горячекатаных профилей, соединенных планками\"\n",
    "df.loc[df[\"id\"] == 51, \"name\"] = \"ветви из двутавров с парал. гранями полок, решетка из г/кат. уголков и швеллеров\"\n",
    "df.loc[df[\"id\"] == 52, \"name\"] = \"ветви из двутавров (ГОСТ 8239-72) или швеллеров и решетка из г/кат. уголков\"\n",
    "df.loc[df[\"id\"] == 69, \"name\"] = \"с поясами из тавров, стенкой из листовой стали, пролетом 6 м, массой 1 м,т:\"\n",
    "df.loc[df[\"id\"] == 70, \"name\"] = \"с поясами из тавров, стенкой из листовой стали, пролетом 12 м и более,т:\"\n",
    "df.loc[df[\"id\"] == 71, \"name\"] = \"из листовой стали пролетом 6 м, массой 1 м,т:\"\n",
    "df.loc[df[\"id\"] == 72, \"name\"] = \"из листовой стали пролетом 12 м, массой 1 м,т:\"\n",
    "df.loc[df[\"id\"] == 83, \"name\"] = \"пролетом 12 м, решетчатые из г/кат. и гнутых профилей, масса 1 м до 0.4 т\"\n",
    "df.loc[df[\"id\"] == 84, \"name\"] = \"пролетом 12 м, решетчатые из г/кат. и гнутых профилей, масса 1 м свыше 0.4 т\"\n",
    "df.loc[df[\"id\"] == 85, \"name\"] = \"пролетом 12 м, решетчатые сост. сечения из листовой стали, масса 1 м до 0.4 т\"\n",
    "df.loc[df[\"id\"] == 86, \"name\"] = \"пролетом 12 м, решетчатые сост. сечения из листовой стали, масса 1 м свыше 0.4 т\"\n",
    "df.loc[df[\"id\"] == 87, \"name\"] = \"составного сечения из листовой стали, масса 1 м,т:\"\n",
    "df.loc[df[\"id\"] == 88, \"name\"] = \"составного сечения из двух и более уголков или швеллеров, масса 1 м,т:\"\n",
    "df.loc[df[\"id\"] == 89, \"name\"] = \"из двутавров с параллельными гранями полок, масса 1 м,т:\"\n",
    "df.loc[df[\"id\"] == 90, \"name\"] = \"составного сечения из листовой стали с верхним опиранием настила, масса марки,т:\"\n",
    "df.loc[df[\"id\"] == 91, \"name\"] = \"составного сечения при пониженном опирании настила, масса марки,т:\"\n",
    "df.loc[df[\"id\"] == 92, \"name\"] = \"из двутавров с парал. гранями полок с верхним опиранием настила, масса до 1 т\"\n",
    "df.loc[df[\"id\"] == 93, \"name\"] = \"из двутавров с парал. гранями полок с верхним опиранием настила, масса свыше 1 т\"\n",
    "df.loc[df[\"id\"] == 94, \"name\"] = \"из двутавров с парал. гранями полок с пониж. опиранием настила, масса до 1 т\"\n",
    "df.loc[df[\"id\"] == 95, \"name\"] = \"из двутавров с парал. гранями полок с пониж. опиранием настила, масса свыше 1 т\"\n",
    "df.loc[df[\"id\"] == 113, \"name\"] = \"фермы из парных уголков и тавров, попер. балки из двутавров, масса 1 м до 0.5 т\"\n",
    "df.loc[df[\"id\"] == 114, \"name\"] = \"фермы из парных уголков и тавров, попер. балки из двутавров, масса 1 м до 1 т\"\n",
    "df.loc[df[\"id\"] == 115, \"name\"] = \"фермы из парных уголков и тавров, попер. балки из двутавров, масса 1 м свыше 1 т\""
   ]
  },
  {
   "cell_type": "code",
   "execution_count": 1902,
   "metadata": {},
   "outputs": [],
   "source": [
    "cursor.execute(open(\"sql/24.sql\", \"r\").read())\n",
    "conn.commit()"
   ]
  },
  {
   "cell_type": "code",
   "execution_count": 1903,
   "metadata": {},
   "outputs": [
    {
     "name": "stdout",
     "output_type": "stream",
     "text": [
      "execute_values() done\n"
     ]
    }
   ],
   "source": [
    "execute_values(conn, df, \"construction_subtypes\")"
   ]
  },
  {
   "cell_type": "markdown",
   "metadata": {},
   "source": [
    "<h1>Типовые наименования листов</h1>"
   ]
  },
  {
   "cell_type": "code",
   "execution_count": 1904,
   "metadata": {},
   "outputs": [],
   "source": [
    "df = pd.read_sql_query('SELECT * FROM Pro_t_londonSQL.dbo.Спр_листов_н', db_conn)"
   ]
  },
  {
   "cell_type": "code",
   "execution_count": 1905,
   "metadata": {},
   "outputs": [],
   "source": [
    "df[\"ш_листа\"] = df[\"ш_листа\"].str.strip()"
   ]
  },
  {
   "cell_type": "code",
   "execution_count": 1906,
   "metadata": {},
   "outputs": [],
   "source": [
    "df = df.rename(columns={\"ш_номер\": \"id\",\n",
    "                        \"ш_листа\": \"name\"\n",
    "                       })"
   ]
  },
  {
   "cell_type": "code",
   "execution_count": 1907,
   "metadata": {},
   "outputs": [],
   "source": [
    "cursor.execute(open(\"sql/27.sql\", \"r\").read())\n",
    "conn.commit()"
   ]
  },
  {
   "cell_type": "code",
   "execution_count": 1908,
   "metadata": {},
   "outputs": [
    {
     "name": "stdout",
     "output_type": "stream",
     "text": [
      "execute_values() done\n"
     ]
    }
   ],
   "source": [
    "execute_values(conn, df, \"sheet_names\")"
   ]
  },
  {
   "cell_type": "markdown",
   "metadata": {},
   "source": [
    "<h1>Виды ссылочных документов</h1>"
   ]
  },
  {
   "cell_type": "code",
   "execution_count": 1909,
   "metadata": {},
   "outputs": [],
   "source": [
    "df = pd.read_sql_query('SELECT * FROM Pro_t_londonSQL.dbo.Спр_ссыл_в', db_conn)"
   ]
  },
  {
   "cell_type": "code",
   "execution_count": 1910,
   "metadata": {},
   "outputs": [],
   "source": [
    "df[\"Наим_вида\"] = df[\"Наим_вида\"].str.strip()\n",
    "df[\"Наим_вида\"] = df[\"Наим_вида\"].str.capitalize()"
   ]
  },
  {
   "cell_type": "code",
   "execution_count": 1911,
   "metadata": {},
   "outputs": [],
   "source": [
    "df = df.drop_duplicates(subset=[\"Наим_вида\"])"
   ]
  },
  {
   "cell_type": "code",
   "execution_count": 1912,
   "metadata": {},
   "outputs": [],
   "source": [
    "df = df.rename(columns={\"Вид_сд\": \"id\",\n",
    "                        \"Наим_вида\": \"name\"\n",
    "                       })"
   ]
  },
  {
   "cell_type": "code",
   "execution_count": 1913,
   "metadata": {},
   "outputs": [],
   "source": [
    "cursor.execute(open(\"sql/40.sql\", \"r\").read())\n",
    "conn.commit()"
   ]
  },
  {
   "cell_type": "code",
   "execution_count": 1914,
   "metadata": {},
   "outputs": [
    {
     "name": "stdout",
     "output_type": "stream",
     "text": [
      "execute_values() done\n"
     ]
    }
   ],
   "source": [
    "execute_values(conn, df, \"linked_doc_types\")"
   ]
  },
  {
   "cell_type": "markdown",
   "metadata": {},
   "source": [
    "<h1>Ссылочные документы</h1>"
   ]
  },
  {
   "cell_type": "code",
   "execution_count": 1915,
   "metadata": {},
   "outputs": [],
   "source": [
    "df = pd.read_sql_query('SELECT * FROM Pro_t_londonSQL.dbo.Спр_ссыл', db_conn)"
   ]
  },
  {
   "cell_type": "code",
   "execution_count": 1916,
   "metadata": {},
   "outputs": [],
   "source": [
    "df = df.replace(\"\", np.nan)"
   ]
  },
  {
   "cell_type": "code",
   "execution_count": 1917,
   "metadata": {},
   "outputs": [],
   "source": [
    "df = df.dropna()"
   ]
  },
  {
   "cell_type": "code",
   "execution_count": 1918,
   "metadata": {},
   "outputs": [],
   "source": [
    "df = df.drop_duplicates(subset=[\"Шифр_сд\"])"
   ]
  },
  {
   "cell_type": "code",
   "execution_count": 1919,
   "metadata": {},
   "outputs": [],
   "source": [
    "df = df.reset_index(drop=True)"
   ]
  },
  {
   "cell_type": "code",
   "execution_count": 1920,
   "metadata": {},
   "outputs": [],
   "source": [
    "df[\"Шифр_сд\"] = df[\"Шифр_сд\"].str.strip()\n",
    "df[\"Обозн_сд\"] = df[\"Обозн_сд\"].str.strip()\n",
    "df[\"Наим_сд\"] = df[\"Наим_сд\"].str.strip()"
   ]
  },
  {
   "cell_type": "code",
   "execution_count": 1921,
   "metadata": {},
   "outputs": [],
   "source": [
    "for i in range(0, len(df)):\n",
    "    arr = df[\"Наим_сд\"][i].split()\n",
    "    new_str = ' '.join(arr)\n",
    "    df.at[i, \"Наим_сд\"] = new_str"
   ]
  },
  {
   "cell_type": "code",
   "execution_count": 1922,
   "metadata": {},
   "outputs": [],
   "source": [
    "df[\"Наим_сд\"] = df[\"Наим_сд\"].str.replace(\"возду ха\", \"воздуха\")\n",
    "df[\"Наим_сд\"] = df[\"Наим_сд\"].str.replace(\"Материриалы\", \"Материалы\")\n",
    "df[\"Наим_сд\"] = df[\"Наим_сд\"].str.replace(\"рекоментации\", \"рекомендации\")\n",
    "df[\"Наим_сд\"] = df[\"Наим_сд\"].str.replace(\"рас пашные\", \"распашные\")\n",
    "df[\"Наим_сд\"] = df[\"Наим_сд\"].str.replace(\"металличе ческих\", \"металлических\")\n",
    "df[\"Наим_сд\"] = df[\"Наим_сд\"].str.replace(\"металличе ских\", \"металлических\")\n",
    "df[\"Наим_сд\"] = df[\"Наим_сд\"].str.replace(\"электри ческие\", \"электрические\")\n",
    "df[\"Наим_сд\"] = df[\"Наим_сд\"].str.replace(\"кра ны\", \"краны\")\n",
    "df[\"Наим_сд\"] = df[\"Наим_сд\"].str.replace(\"примене нием\", \"применением\")\n",
    "df[\"Наим_сд\"] = df[\"Наим_сд\"].str.replace(\"обслуживани сосудов\", \"обслуживания сосудов\")\n",
    "df[\"Наим_сд\"] = df[\"Наим_сд\"].str.replace(\"пе реплетами\", \"переплетами\")\n",
    "df[\"Наим_сд\"] = df[\"Наим_сд\"].str.replace(\"за полнением\", \"заполнением\")\n",
    "df[\"Наим_сд\"] = df[\"Наим_сд\"].str.replace(\"линй\", \"линий\")\n",
    "df[\"Наим_сд\"] = df[\"Наим_сд\"].str.replace(\"мосто вые\", \"мостовые\")\n",
    "df[\"Наим_сд\"] = df[\"Наим_сд\"].str.replace(\"покрыти ем\", \"покрытием\")\n",
    "df[\"Наим_сд\"] = df[\"Наим_сд\"].str.replace(\"со кращенному\", \"сокращенному\")\n",
    "df[\"Наим_сд\"] = df[\"Наим_сд\"].str.replace(\"покрытияпролетами\", \"покрытия пролетами\")\n",
    "df[\"Наим_сд\"] = df[\"Наим_сд\"].str.replace(\"широкополочныых\", \"широкополочных\")\n",
    "df[\"Наим_сд\"] = df[\"Наим_сд\"].str.replace(\"тав ров\", \"тавров\")\n",
    "df[\"Наим_сд\"] = df[\"Наим_сд\"].str.replace(\"зда ний\", \"зданий\")\n",
    "df[\"Наим_сд\"] = df[\"Наим_сд\"].str.replace(\"ремонтно -монтажных\", \"ремонтно-монтажных\")\n",
    "df[\"Наим_сд\"] = df[\"Наим_сд\"].str.replace(\"пок рытия\", \"покрытия\")\n",
    "df[\"Наим_сд\"] = df[\"Наим_сд\"].str.replace(\"профилирован ным\", \"профилированным\")\n",
    "df[\"Наим_сд\"] = df[\"Наим_сд\"].str.replace(\"стеклои минераловатных\", \"стекло и минераловатных\")\n",
    "df[\"Наим_сд\"] = df[\"Наим_сд\"].str.replace(\"окон,дверей\", \"окон, дверей\")\n",
    "df[\"Наим_сд\"] = df[\"Наим_сд\"].str.replace(\"пром.зданий\", \"пром. зданий\")\n",
    "df[\"Наим_сд\"] = df[\"Наим_сд\"].str.replace(\"строитель ные\", \"строительные\")\n",
    "df[\"Наим_сд\"] = df[\"Наим_сд\"].str.replace(\"сталь ные\", \"стальные\")\n",
    "df[\"Наим_сд\"] = df[\"Наим_сд\"].str.replace(\"наруж ного\", \"наружного\")\n",
    "df[\"Наим_сд\"] = df[\"Наим_сд\"].str.replace(\"ветров.район.\", \"ветров. район.\")\n",
    "df[\"Наим_сд\"] = df[\"Наим_сд\"].str.replace(\"выше и ниже -40 град.с.  ше и ниже -40 град.с.\", \"выше -40 град.с. и ниже -40 град.с.\")\n",
    "df[\"Наим_сд\"] = df[\"Наим_сд\"].str.replace(\"алю миниевых\", \"алюминиевых\")\n",
    "df[\"Наим_сд\"] = df[\"Наим_сд\"].str.replace(\"зданий,промышленных\", \"зданий, промышленных\")\n",
    "df[\"Наим_сд\"] = df[\"Наим_сд\"].str.replace(\"предприятий.шарнирные\", \"предприятий. Шарнирные\")\n",
    "df[\"Наим_сд\"] = df[\"Наим_сд\"].str.replace(\"связей.Чертежи\", \"связей. Чертежи\")\n",
    "df[\"Наим_сд\"] = df[\"Наим_сд\"].str.replace(\"сталь ными\", \"стальными\")\n",
    "df[\"Наим_сд\"] = df[\"Наим_сд\"].str.replace(\"унифици рованных\", \"унифицированных\")\n",
    "df[\"Наим_сд\"] = df[\"Наим_сд\"].str.replace(\"уз лы\", \"узлы\")\n",
    "df[\"Наим_сд\"] = df[\"Наим_сд\"].str.replace(\"железобе тонных\", \"железобетонных\")\n",
    "df[\"Наим_сд\"] = df[\"Наим_сд\"].str.replace(\"метал лопроката\", \"металлопроката\")\n",
    "df[\"Наим_сд\"] = df[\"Наим_сд\"].str.replace(\"выпу ску\", \"выпуску\")\n",
    "df[\"Наим_сд\"] = df[\"Наим_сд\"].str.replace(\"откры вающиеся\", \"открывающиеся\")\n",
    "df[\"Наим_сд\"] = df[\"Наим_сд\"].str.replace(\"светоаэра ционных\", \"светоаэрационных\")\n",
    "df[\"Наим_сд\"] = df[\"Наим_сд\"].str.replace(\"проектирования.Рабочие\", \"проектирования. Рабочие\")\n",
    "df[\"Наим_сд\"] = df[\"Наим_сд\"].str.replace(\"черте жи\", \"чертежи\")\n",
    "df[\"Наим_сд\"] = df[\"Наим_сд\"].str.replace(\"опорн.кранами\", \"опорн. кранами\")\n",
    "df[\"Наим_сд\"] = df[\"Наим_сд\"].str.replace(\"опорынми кранами\", \"опорными кранами\")\n",
    "df[\"Наим_сд\"] = df[\"Наим_сд\"].str.replace(\"несущ.конструкций\", \"несущ. конструкций\")\n",
    "df[\"Наим_сд\"] = df[\"Наим_сд\"].str.replace(\"подв.кранами\", \"подв. кранами\")\n",
    "df[\"Наим_сд\"] = df[\"Наим_сд\"].str.replace(\"кровлей,оборудованных\", \"кровлей, оборудованных\")\n",
    "df[\"Наим_сд\"] = df[\"Наим_сд\"].str.replace(\"одноэт.произв\", \"одноэт. произв\")\n",
    "df[\"Наим_сд\"] = df[\"Наим_сд\"].str.replace(\"произв.зданий\", \"произв. зданий\")\n",
    "df[\"Наим_сд\"] = df[\"Наим_сд\"].str.replace(\"кровлей,оборудованных\", \"кровлей, оборудованных\")\n",
    "df[\"Наим_сд\"] = df[\"Наим_сд\"].str.replace(\"специальн.назначения\", \"специальн. назначения\")\n",
    "df[\"Наим_сд\"] = df[\"Наим_сд\"].str.replace(\"зданий,оборудованных\", \"зданий, оборудованных\")\n",
    "df[\"Наим_сд\"] = df[\"Наим_сд\"].str.replace(\"две рей\", \"дверей\")"
   ]
  },
  {
   "cell_type": "code",
   "execution_count": 1923,
   "metadata": {},
   "outputs": [],
   "source": [
    "df.insert(0, 'id', range(1, len(df) + 1))"
   ]
  },
  {
   "cell_type": "code",
   "execution_count": 1924,
   "metadata": {},
   "outputs": [],
   "source": [
    "df = df.rename(columns={\"Шифр_сд\": \"code\",\n",
    "                        \"Вид_сд\": \"type_id\",\n",
    "                        \"Обозн_сд\": \"designation\",\n",
    "                        \"Наим_сд\": \"name\"\n",
    "                       })"
   ]
  },
  {
   "cell_type": "code",
   "execution_count": 1925,
   "metadata": {},
   "outputs": [],
   "source": [
    "df = df.drop_duplicates(subset=[\"name\"])"
   ]
  },
  {
   "cell_type": "code",
   "execution_count": 1926,
   "metadata": {},
   "outputs": [],
   "source": [
    "df.loc[df[\"name\"].str.endswith('.') == False, \"name\"] = df[df[\"name\"].str.endswith('.') == False][\"name\"] + '.'"
   ]
  },
  {
   "cell_type": "code",
   "execution_count": 1927,
   "metadata": {},
   "outputs": [],
   "source": [
    "cursor.execute(open(\"sql/39.sql\", \"r\").read())\n",
    "conn.commit()"
   ]
  },
  {
   "cell_type": "code",
   "execution_count": 1928,
   "metadata": {},
   "outputs": [
    {
     "name": "stdout",
     "output_type": "stream",
     "text": [
      "execute_values() done\n"
     ]
    }
   ],
   "source": [
    "execute_values(conn, df, \"linked_docs\")"
   ]
  },
  {
   "cell_type": "markdown",
   "metadata": {},
   "source": [
    "<h1>Категории производства по пожарной и взрывопожарной опасности</h1>"
   ]
  },
  {
   "cell_type": "code",
   "execution_count": 1929,
   "metadata": {},
   "outputs": [],
   "source": [
    "df = pd.read_sql_query('SELECT * FROM Pro_t_londonSQL.dbo.Категории_пр', db_conn)"
   ]
  },
  {
   "cell_type": "code",
   "execution_count": 1930,
   "metadata": {},
   "outputs": [],
   "source": [
    "df = df.replace(\"\", np.nan)"
   ]
  },
  {
   "cell_type": "code",
   "execution_count": 1931,
   "metadata": {},
   "outputs": [],
   "source": [
    "df.insert(0, 'id', range(1, len(df) + 1))"
   ]
  },
  {
   "cell_type": "code",
   "execution_count": 1932,
   "metadata": {},
   "outputs": [],
   "source": [
    "df = df.rename(columns={\"Категория\": \"category\",\n",
    "                        \"Название\": \"name\",\n",
    "                        \"Текст_од\": \"description\"\n",
    "                       })"
   ]
  },
  {
   "cell_type": "code",
   "execution_count": 1933,
   "metadata": {},
   "outputs": [],
   "source": [
    "df = df.where(pd.notnull(df), None)"
   ]
  },
  {
   "cell_type": "code",
   "execution_count": 1934,
   "metadata": {},
   "outputs": [],
   "source": [
    "cursor.execute(open(\"sql/5.sql\", \"r\").read())\n",
    "conn.commit()"
   ]
  },
  {
   "cell_type": "code",
   "execution_count": 1935,
   "metadata": {},
   "outputs": [
    {
     "name": "stdout",
     "output_type": "stream",
     "text": [
      "execute_values() done\n"
     ]
    }
   ],
   "source": [
    "execute_values(conn, df, \"fire_hazard_categories\")"
   ]
  },
  {
   "cell_type": "markdown",
   "metadata": {},
   "source": [
    "<h1>Проекты</h1>"
   ]
  },
  {
   "cell_type": "code",
   "execution_count": 1936,
   "metadata": {},
   "outputs": [
    {
     "data": {
      "text/plain": [
       "(4112, 33)"
      ]
     },
     "execution_count": 1936,
     "metadata": {},
     "output_type": "execute_result"
    }
   ],
   "source": [
    "df = pd.read_sql_query('SELECT * FROM Pro_t_2.dbo.Марки', db_conn)\n",
    "df.shape"
   ]
  },
  {
   "cell_type": "code",
   "execution_count": 1937,
   "metadata": {},
   "outputs": [],
   "source": [
    "df = df.dropna(subset=[\"код_марки\", \"обозн\", \"комплекс\", \"объект\"])"
   ]
  },
  {
   "cell_type": "code",
   "execution_count": 1938,
   "metadata": {},
   "outputs": [],
   "source": [
    "e_ids = pd.read_csv(\"employee_ids.csv\")\n",
    "e_ids = e_ids.drop([\"Unnamed: 0\"], axis=1)\n",
    "e_ids = e_ids.values.flatten().tolist()\n",
    "df.loc[df[\"гл_спец\"].isin(e_ids) == False, \"гл_спец\"] = None\n",
    "df.loc[df[\"рук_гр\"].isin(e_ids) == False, \"рук_гр\"] = None\n",
    "df.loc[df[\"н_контр\"].isin(e_ids) == False, \"н_контр\"] = None"
   ]
  },
  {
   "cell_type": "code",
   "execution_count": 1939,
   "metadata": {},
   "outputs": [],
   "source": [
    "df = df[df[\"обозн\"].str.contains(\"демонтаж\") == False]\n",
    "df = df[df[\"обозн\"].str.contains(\"Мновый\") == False]\n",
    "df[\"обозн\"] = df[\"обозн\"].str.replace(\",\", \".\")"
   ]
  },
  {
   "cell_type": "code",
   "execution_count": 1940,
   "metadata": {},
   "outputs": [],
   "source": [
    "df2 = pd.DataFrame(df[\"обозн\"].str.split('-КМ', 1).tolist(),\n",
    "                                 columns = ['first','code'])"
   ]
  },
  {
   "cell_type": "code",
   "execution_count": 1941,
   "metadata": {},
   "outputs": [],
   "source": [
    "df = df.reset_index()\n",
    "df2 = df2.join(df)"
   ]
  },
  {
   "cell_type": "code",
   "execution_count": 1942,
   "metadata": {},
   "outputs": [],
   "source": [
    "df2 = df2.dropna(subset=[\"code\"])"
   ]
  },
  {
   "cell_type": "code",
   "execution_count": 1943,
   "metadata": {},
   "outputs": [],
   "source": [
    "df2[\"code\"] = \"КМ\" + df2[\"code\"]"
   ]
  },
  {
   "cell_type": "code",
   "execution_count": 1944,
   "metadata": {},
   "outputs": [],
   "source": [
    "df3 = pd.DataFrame(df2[\"first\"].str.split('.', 1).tolist(),\n",
    "                                 columns = ['baseSeries','middle'])"
   ]
  },
  {
   "cell_type": "code",
   "execution_count": 1945,
   "metadata": {},
   "outputs": [],
   "source": [
    "df2 = df2.reset_index()\n",
    "df3 = df3.reset_index()\n",
    "df4 = df2.join(df3[[\"baseSeries\", \"middle\"]])"
   ]
  },
  {
   "cell_type": "code",
   "execution_count": 1946,
   "metadata": {},
   "outputs": [],
   "source": [
    "df4 = df4.drop([\"first\", \"index\"], axis=1)\n",
    "df4 = df4.rename(columns={\"код_марки\": \"id\"})"
   ]
  },
  {
   "cell_type": "code",
   "execution_count": 1947,
   "metadata": {},
   "outputs": [],
   "source": [
    "df5 = pd.DataFrame(df4[\"middle\"].fillna(\"\").str.split('.', 1).tolist(),\n",
    "                                 columns = ['node','subnode'])"
   ]
  },
  {
   "cell_type": "code",
   "execution_count": 1948,
   "metadata": {},
   "outputs": [],
   "source": [
    "df6 = pd.DataFrame(df5[\"subnode\"].fillna(\"\").str.split('-', 1).tolist(),\n",
    "                                 columns = ['subnode_part','node_part'])"
   ]
  },
  {
   "cell_type": "code",
   "execution_count": 1949,
   "metadata": {},
   "outputs": [],
   "source": [
    "df5 = df5.reset_index()\n",
    "df6 = df6.reset_index()\n",
    "df7 = df5.join(df6[[\"subnode_part\", \"node_part\"]])"
   ]
  },
  {
   "cell_type": "code",
   "execution_count": 1950,
   "metadata": {},
   "outputs": [],
   "source": [
    "df7[\"node_part\"] = \"-\" + df7[\"node_part\"]\n",
    "df7[\"node2\"] = df7[\"node\"] + df7[\"node_part\"].fillna(\"\")"
   ]
  },
  {
   "cell_type": "code",
   "execution_count": 1951,
   "metadata": {},
   "outputs": [],
   "source": [
    "df4 = df4.reset_index(drop=True)\n",
    "df7 = df7.reset_index(drop=True)\n",
    "df8 = df4.join(df7[[\"node2\", \"subnode_part\"]])"
   ]
  },
  {
   "cell_type": "code",
   "execution_count": 1952,
   "metadata": {},
   "outputs": [],
   "source": [
    "df8 = df8.rename(columns={\"node2\": \"nodeCode\", \"subnode_part\": \"subnodeCode\"})\n",
    "df8 = df8.drop([\"middle\"], axis=1)"
   ]
  },
  {
   "cell_type": "code",
   "execution_count": 1953,
   "metadata": {},
   "outputs": [
    {
     "data": {
      "text/html": [
       "<div>\n",
       "<style scoped>\n",
       "    .dataframe tbody tr th:only-of-type {\n",
       "        vertical-align: middle;\n",
       "    }\n",
       "\n",
       "    .dataframe tbody tr th {\n",
       "        vertical-align: top;\n",
       "    }\n",
       "\n",
       "    .dataframe thead th {\n",
       "        text-align: right;\n",
       "    }\n",
       "</style>\n",
       "<table border=\"1\" class=\"dataframe\">\n",
       "  <thead>\n",
       "    <tr style=\"text-align: right;\">\n",
       "      <th></th>\n",
       "      <th>level_0</th>\n",
       "      <th>code</th>\n",
       "      <th>id</th>\n",
       "      <th>обозн</th>\n",
       "      <th>комплекс</th>\n",
       "      <th>объект</th>\n",
       "      <th>код_отд</th>\n",
       "      <th>подп1</th>\n",
       "      <th>подп2</th>\n",
       "      <th>гл_спец</th>\n",
       "      <th>...</th>\n",
       "      <th>10ХСНД</th>\n",
       "      <th>ТекстЗдСм</th>\n",
       "      <th>ДопОбъемы</th>\n",
       "      <th>ВесПоВМП</th>\n",
       "      <th>ВыпЗдСм</th>\n",
       "      <th>ДопКод</th>\n",
       "      <th>ОЗ_марки</th>\n",
       "      <th>baseSeries</th>\n",
       "      <th>nodeCode</th>\n",
       "      <th>subnodeCode</th>\n",
       "    </tr>\n",
       "  </thead>\n",
       "  <tbody>\n",
       "    <tr>\n",
       "      <th>376</th>\n",
       "      <td>379</td>\n",
       "      <td>КМ1</td>\n",
       "      <td>4610</td>\n",
       "      <td>М32833.07-КМ1</td>\n",
       "      <td>ОАО \"ММК\". Доменный цех. Печь №1. Техперевоору...</td>\n",
       "      <td>Шихтоподача. Демонтаж.</td>\n",
       "      <td>1.0</td>\n",
       "      <td>258.0</td>\n",
       "      <td>89.0</td>\n",
       "      <td>139.0</td>\n",
       "      <td>...</td>\n",
       "      <td>False</td>\n",
       "      <td>None</td>\n",
       "      <td>None</td>\n",
       "      <td>0.000000</td>\n",
       "      <td>0.0</td>\n",
       "      <td>None</td>\n",
       "      <td>0</td>\n",
       "      <td>М32833</td>\n",
       "      <td>07</td>\n",
       "      <td></td>\n",
       "    </tr>\n",
       "    <tr>\n",
       "      <th>402</th>\n",
       "      <td>405</td>\n",
       "      <td>КМ5</td>\n",
       "      <td>4721</td>\n",
       "      <td>М32833.07-КМ5</td>\n",
       "      <td>ПАО \"ММК\". Доменный цех. Печь №1. Техперевоору...</td>\n",
       "      <td>Шихтоподача. Реконструкция приемных бункеров</td>\n",
       "      <td>1.0</td>\n",
       "      <td>258.0</td>\n",
       "      <td>89.0</td>\n",
       "      <td>139.0</td>\n",
       "      <td>...</td>\n",
       "      <td>False</td>\n",
       "      <td>Разработать сметную документацию к чертежам М3...</td>\n",
       "      <td>None</td>\n",
       "      <td>550.030029</td>\n",
       "      <td>0.0</td>\n",
       "      <td>None</td>\n",
       "      <td>0</td>\n",
       "      <td>М32833</td>\n",
       "      <td>07</td>\n",
       "      <td></td>\n",
       "    </tr>\n",
       "    <tr>\n",
       "      <th>409</th>\n",
       "      <td>412</td>\n",
       "      <td>КМ3</td>\n",
       "      <td>4646</td>\n",
       "      <td>М32833.01-КМ3</td>\n",
       "      <td>ОАО \"ММК\". Доменный цех. Печь №1. Техперевоору...</td>\n",
       "      <td>Собственно печь. Площадка для выпуска верхнего...</td>\n",
       "      <td>1.0</td>\n",
       "      <td>258.0</td>\n",
       "      <td>89.0</td>\n",
       "      <td>139.0</td>\n",
       "      <td>...</td>\n",
       "      <td>False</td>\n",
       "      <td>Разработать сметную документацию к чертежам М3...</td>\n",
       "      <td>1, К=1,35 \\r\\n2. Демонтаж конструкций в лом</td>\n",
       "      <td>21.520000</td>\n",
       "      <td>0.0</td>\n",
       "      <td>None</td>\n",
       "      <td>0</td>\n",
       "      <td>М32833</td>\n",
       "      <td>01</td>\n",
       "      <td></td>\n",
       "    </tr>\n",
       "    <tr>\n",
       "      <th>412</th>\n",
       "      <td>415</td>\n",
       "      <td>КМ2</td>\n",
       "      <td>4649</td>\n",
       "      <td>М32833.01-КМ2</td>\n",
       "      <td>ОАО \"ММК\". Доменный цех. Печь №1. Техперевоору...</td>\n",
       "      <td>Собственно печь. Временная опорная система печ...</td>\n",
       "      <td>1.0</td>\n",
       "      <td>258.0</td>\n",
       "      <td>89.0</td>\n",
       "      <td>139.0</td>\n",
       "      <td>...</td>\n",
       "      <td>False</td>\n",
       "      <td>Разработать сметную документацию к чертежам М3...</td>\n",
       "      <td>1. После монтажа кожуха - данные конструкции д...</td>\n",
       "      <td>14.690000</td>\n",
       "      <td>0.0</td>\n",
       "      <td>None</td>\n",
       "      <td>0</td>\n",
       "      <td>М32833</td>\n",
       "      <td>01</td>\n",
       "      <td></td>\n",
       "    </tr>\n",
       "    <tr>\n",
       "      <th>413</th>\n",
       "      <td>416</td>\n",
       "      <td>КМ4</td>\n",
       "      <td>4651</td>\n",
       "      <td>М32833.01-КМ4</td>\n",
       "      <td>ОАО \"ММК\". Доменный цех. Печь №1. Техперевоору...</td>\n",
       "      <td>Собственно печь. Настил и ограждение колошнико...</td>\n",
       "      <td>1.0</td>\n",
       "      <td>258.0</td>\n",
       "      <td>89.0</td>\n",
       "      <td>139.0</td>\n",
       "      <td>...</td>\n",
       "      <td>False</td>\n",
       "      <td>Разработать сметную документацию к чертежам М3...</td>\n",
       "      <td>К=1,35</td>\n",
       "      <td>33.000000</td>\n",
       "      <td>0.0</td>\n",
       "      <td>None</td>\n",
       "      <td>0</td>\n",
       "      <td>М32833</td>\n",
       "      <td>01</td>\n",
       "      <td></td>\n",
       "    </tr>\n",
       "    <tr>\n",
       "      <th>...</th>\n",
       "      <td>...</td>\n",
       "      <td>...</td>\n",
       "      <td>...</td>\n",
       "      <td>...</td>\n",
       "      <td>...</td>\n",
       "      <td>...</td>\n",
       "      <td>...</td>\n",
       "      <td>...</td>\n",
       "      <td>...</td>\n",
       "      <td>...</td>\n",
       "      <td>...</td>\n",
       "      <td>...</td>\n",
       "      <td>...</td>\n",
       "      <td>...</td>\n",
       "      <td>...</td>\n",
       "      <td>...</td>\n",
       "      <td>...</td>\n",
       "      <td>...</td>\n",
       "      <td>...</td>\n",
       "      <td>...</td>\n",
       "      <td>...</td>\n",
       "    </tr>\n",
       "    <tr>\n",
       "      <th>769</th>\n",
       "      <td>774</td>\n",
       "      <td>КМ65</td>\n",
       "      <td>5057</td>\n",
       "      <td>М32833.04-КМ65</td>\n",
       "      <td>ПАО \"ММК\". Доменный цех. Печь № 1. Техперевоор...</td>\n",
       "      <td>Литейные дворы. Площадка на\\r\\nотм. +9,800</td>\n",
       "      <td>1.0</td>\n",
       "      <td>258.0</td>\n",
       "      <td>536.0</td>\n",
       "      <td>139.0</td>\n",
       "      <td>...</td>\n",
       "      <td>False</td>\n",
       "      <td>Разработать сметную документацию к чертежам М3...</td>\n",
       "      <td>1. Коэффициент к нормам затрат труда на услови...</td>\n",
       "      <td>1.754000</td>\n",
       "      <td>0.0</td>\n",
       "      <td>None</td>\n",
       "      <td>0</td>\n",
       "      <td>М32833</td>\n",
       "      <td>04</td>\n",
       "      <td></td>\n",
       "    </tr>\n",
       "    <tr>\n",
       "      <th>773</th>\n",
       "      <td>778</td>\n",
       "      <td>КМ11 изм.1</td>\n",
       "      <td>5061</td>\n",
       "      <td>М32833.03-КМ11 изм.1</td>\n",
       "      <td>ПАО \"ММК\". Доменный цех. Печь №1. Техперевоору...</td>\n",
       "      <td>Воздухонагреватели. Реконструкция площадок на ...</td>\n",
       "      <td>1.0</td>\n",
       "      <td>258.0</td>\n",
       "      <td>89.0</td>\n",
       "      <td>139.0</td>\n",
       "      <td>...</td>\n",
       "      <td>False</td>\n",
       "      <td>Разработать сметную документацию к чертежам М3...</td>\n",
       "      <td>None</td>\n",
       "      <td>10.091000</td>\n",
       "      <td>0.0</td>\n",
       "      <td>None</td>\n",
       "      <td>0</td>\n",
       "      <td>М32833</td>\n",
       "      <td>03</td>\n",
       "      <td></td>\n",
       "    </tr>\n",
       "    <tr>\n",
       "      <th>778</th>\n",
       "      <td>783</td>\n",
       "      <td>КМ2.2</td>\n",
       "      <td>5067</td>\n",
       "      <td>М32833.05-КМ2.2</td>\n",
       "      <td>ПАО \"ММК\". Доменный цех. Печь №1. \\r\\nТехперев...</td>\n",
       "      <td>Машинный зал. Фахверк и площадки. Оси 2н-1 и 4...</td>\n",
       "      <td>1.0</td>\n",
       "      <td>258.0</td>\n",
       "      <td>536.0</td>\n",
       "      <td>139.0</td>\n",
       "      <td>...</td>\n",
       "      <td>False</td>\n",
       "      <td>Разработать сметную документацию к чертежам М3...</td>\n",
       "      <td>1. В данной рабочей документации предусмотрен ...</td>\n",
       "      <td>2.353000</td>\n",
       "      <td>0.0</td>\n",
       "      <td>None</td>\n",
       "      <td>0</td>\n",
       "      <td>М32833</td>\n",
       "      <td>05</td>\n",
       "      <td></td>\n",
       "    </tr>\n",
       "    <tr>\n",
       "      <th>818</th>\n",
       "      <td>823</td>\n",
       "      <td>КМ3.1 доп смета</td>\n",
       "      <td>5110</td>\n",
       "      <td>М32833.11-КМ3.1 доп смета</td>\n",
       "      <td>ПАО \"ММК\". Доменный цех. Печь №1. Техперевоору...</td>\n",
       "      <td>Пост управления печью. Лестница на пост управл...</td>\n",
       "      <td>1.0</td>\n",
       "      <td>258.0</td>\n",
       "      <td>89.0</td>\n",
       "      <td>139.0</td>\n",
       "      <td>...</td>\n",
       "      <td>False</td>\n",
       "      <td>Заменить расценку  согласно письма УКСа ПАО \"М...</td>\n",
       "      <td>None</td>\n",
       "      <td>0.000000</td>\n",
       "      <td>0.0</td>\n",
       "      <td>None</td>\n",
       "      <td>0</td>\n",
       "      <td>М32833</td>\n",
       "      <td>11</td>\n",
       "      <td></td>\n",
       "    </tr>\n",
       "    <tr>\n",
       "      <th>915</th>\n",
       "      <td>920</td>\n",
       "      <td>КМ4</td>\n",
       "      <td>5228</td>\n",
       "      <td>М32833.22-КМ4</td>\n",
       "      <td>ПАО\"ММК\". Доменный цех. Печь №1. Техническое п...</td>\n",
       "      <td>Энергетические сети. Азотоснабжение. Узел регу...</td>\n",
       "      <td>1.0</td>\n",
       "      <td>258.0</td>\n",
       "      <td>536.0</td>\n",
       "      <td>139.0</td>\n",
       "      <td>...</td>\n",
       "      <td>False</td>\n",
       "      <td>Разработать сметную документацию к чертежам М3...</td>\n",
       "      <td>Коэффициент к нормам затрат труда на условия п...</td>\n",
       "      <td>0.510000</td>\n",
       "      <td>0.0</td>\n",
       "      <td>None</td>\n",
       "      <td>0</td>\n",
       "      <td>М32833</td>\n",
       "      <td>22</td>\n",
       "      <td></td>\n",
       "    </tr>\n",
       "  </tbody>\n",
       "</table>\n",
       "<p>131 rows × 38 columns</p>\n",
       "</div>"
      ],
      "text/plain": [
       "     level_0             code    id                      обозн  \\\n",
       "376      379              КМ1  4610              М32833.07-КМ1   \n",
       "402      405              КМ5  4721              М32833.07-КМ5   \n",
       "409      412              КМ3  4646              М32833.01-КМ3   \n",
       "412      415              КМ2  4649              М32833.01-КМ2   \n",
       "413      416              КМ4  4651              М32833.01-КМ4   \n",
       "..       ...              ...   ...                        ...   \n",
       "769      774             КМ65  5057             М32833.04-КМ65   \n",
       "773      778       КМ11 изм.1  5061       М32833.03-КМ11 изм.1   \n",
       "778      783            КМ2.2  5067            М32833.05-КМ2.2   \n",
       "818      823  КМ3.1 доп смета  5110  М32833.11-КМ3.1 доп смета   \n",
       "915      920              КМ4  5228              М32833.22-КМ4   \n",
       "\n",
       "                                              комплекс  \\\n",
       "376  ОАО \"ММК\". Доменный цех. Печь №1. Техперевоору...   \n",
       "402  ПАО \"ММК\". Доменный цех. Печь №1. Техперевоору...   \n",
       "409  ОАО \"ММК\". Доменный цех. Печь №1. Техперевоору...   \n",
       "412  ОАО \"ММК\". Доменный цех. Печь №1. Техперевоору...   \n",
       "413  ОАО \"ММК\". Доменный цех. Печь №1. Техперевоору...   \n",
       "..                                                 ...   \n",
       "769  ПАО \"ММК\". Доменный цех. Печь № 1. Техперевоор...   \n",
       "773  ПАО \"ММК\". Доменный цех. Печь №1. Техперевоору...   \n",
       "778  ПАО \"ММК\". Доменный цех. Печь №1. \\r\\nТехперев...   \n",
       "818  ПАО \"ММК\". Доменный цех. Печь №1. Техперевоору...   \n",
       "915  ПАО\"ММК\". Доменный цех. Печь №1. Техническое п...   \n",
       "\n",
       "                                                объект  код_отд  подп1  подп2  \\\n",
       "376                             Шихтоподача. Демонтаж.      1.0  258.0   89.0   \n",
       "402       Шихтоподача. Реконструкция приемных бункеров      1.0  258.0   89.0   \n",
       "409  Собственно печь. Площадка для выпуска верхнего...      1.0  258.0   89.0   \n",
       "412  Собственно печь. Временная опорная система печ...      1.0  258.0   89.0   \n",
       "413  Собственно печь. Настил и ограждение колошнико...      1.0  258.0   89.0   \n",
       "..                                                 ...      ...    ...    ...   \n",
       "769         Литейные дворы. Площадка на\\r\\nотм. +9,800      1.0  258.0  536.0   \n",
       "773  Воздухонагреватели. Реконструкция площадок на ...      1.0  258.0   89.0   \n",
       "778  Машинный зал. Фахверк и площадки. Оси 2н-1 и 4...      1.0  258.0  536.0   \n",
       "818  Пост управления печью. Лестница на пост управл...      1.0  258.0   89.0   \n",
       "915  Энергетические сети. Азотоснабжение. Узел регу...      1.0  258.0  536.0   \n",
       "\n",
       "     гл_спец  ...  10ХСНД                                          ТекстЗдСм  \\\n",
       "376    139.0  ...   False                                               None   \n",
       "402    139.0  ...   False  Разработать сметную документацию к чертежам М3...   \n",
       "409    139.0  ...   False  Разработать сметную документацию к чертежам М3...   \n",
       "412    139.0  ...   False  Разработать сметную документацию к чертежам М3...   \n",
       "413    139.0  ...   False  Разработать сметную документацию к чертежам М3...   \n",
       "..       ...  ...     ...                                                ...   \n",
       "769    139.0  ...   False  Разработать сметную документацию к чертежам М3...   \n",
       "773    139.0  ...   False  Разработать сметную документацию к чертежам М3...   \n",
       "778    139.0  ...   False  Разработать сметную документацию к чертежам М3...   \n",
       "818    139.0  ...   False  Заменить расценку  согласно письма УКСа ПАО \"М...   \n",
       "915    139.0  ...   False  Разработать сметную документацию к чертежам М3...   \n",
       "\n",
       "                                             ДопОбъемы    ВесПоВМП ВыпЗдСм  \\\n",
       "376                                               None    0.000000     0.0   \n",
       "402                                               None  550.030029     0.0   \n",
       "409        1, К=1,35 \\r\\n2. Демонтаж конструкций в лом   21.520000     0.0   \n",
       "412  1. После монтажа кожуха - данные конструкции д...   14.690000     0.0   \n",
       "413                                             К=1,35   33.000000     0.0   \n",
       "..                                                 ...         ...     ...   \n",
       "769  1. Коэффициент к нормам затрат труда на услови...    1.754000     0.0   \n",
       "773                                               None   10.091000     0.0   \n",
       "778  1. В данной рабочей документации предусмотрен ...    2.353000     0.0   \n",
       "818                                               None    0.000000     0.0   \n",
       "915  Коэффициент к нормам затрат труда на условия п...    0.510000     0.0   \n",
       "\n",
       "    ДопКод  ОЗ_марки baseSeries  nodeCode  subnodeCode  \n",
       "376   None         0     М32833        07               \n",
       "402   None         0     М32833        07               \n",
       "409   None         0     М32833        01               \n",
       "412   None         0     М32833        01               \n",
       "413   None         0     М32833        01               \n",
       "..     ...       ...        ...       ...          ...  \n",
       "769   None         0     М32833        04               \n",
       "773   None         0     М32833        03               \n",
       "778   None         0     М32833        05               \n",
       "818   None         0     М32833        11               \n",
       "915   None         0     М32833        22               \n",
       "\n",
       "[131 rows x 38 columns]"
      ]
     },
     "execution_count": 1953,
     "metadata": {},
     "output_type": "execute_result"
    }
   ],
   "source": [
    "df8[df8[\"baseSeries\"] == \"М32833\"]"
   ]
  },
  {
   "cell_type": "code",
   "execution_count": 1954,
   "metadata": {},
   "outputs": [],
   "source": [
    "enc = OrdinalEncoder()\n",
    "res = enc.fit_transform(np.array(df8[\"baseSeries\"]).reshape(-1, 1))"
   ]
  },
  {
   "cell_type": "code",
   "execution_count": 1955,
   "metadata": {},
   "outputs": [],
   "source": [
    "s = pd.DataFrame(pd.Series(res.flatten()) + 1)\n",
    "s = s.rename(columns={0: \"project_id\"})"
   ]
  },
  {
   "cell_type": "code",
   "execution_count": 1956,
   "metadata": {},
   "outputs": [],
   "source": [
    "df9 = df8.join(s)"
   ]
  },
  {
   "cell_type": "code",
   "execution_count": 1957,
   "metadata": {},
   "outputs": [],
   "source": [
    "projects_df = df9[[\"baseSeries\", \"комплекс\", \"project_id\"]]"
   ]
  },
  {
   "cell_type": "code",
   "execution_count": 1958,
   "metadata": {},
   "outputs": [],
   "source": [
    "projects_df = projects_df.drop_duplicates(subset=[\"project_id\"])"
   ]
  },
  {
   "cell_type": "code",
   "execution_count": 1959,
   "metadata": {},
   "outputs": [],
   "source": [
    "projects_df = projects_df.rename(columns={\"baseSeries\": \"base_series\", \"комплекс\": \"name\", \"project_id\": \"id\"})"
   ]
  },
  {
   "cell_type": "code",
   "execution_count": 1960,
   "metadata": {},
   "outputs": [],
   "source": [
    "cursor.execute(open(\"sql/xx_projects.sql\", \"r\").read())\n",
    "conn.commit()"
   ]
  },
  {
   "cell_type": "code",
   "execution_count": 1961,
   "metadata": {},
   "outputs": [
    {
     "name": "stdout",
     "output_type": "stream",
     "text": [
      "execute_values() done\n"
     ]
    }
   ],
   "source": [
    "execute_values(conn, projects_df, \"projects\")"
   ]
  },
  {
   "cell_type": "markdown",
   "metadata": {},
   "source": [
    "<h1>Узлы</h1>"
   ]
  },
  {
   "cell_type": "code",
   "execution_count": 1962,
   "metadata": {},
   "outputs": [],
   "source": [
    "df10 = pd.DataFrame(df9[\"объект\"].str.split('.', 1).tolist(),\n",
    "                                 columns = ['f_p','o_p'])"
   ]
  },
  {
   "cell_type": "code",
   "execution_count": 1963,
   "metadata": {},
   "outputs": [],
   "source": [
    "df10 = df10.fillna(\"\")"
   ]
  },
  {
   "cell_type": "code",
   "execution_count": 1964,
   "metadata": {},
   "outputs": [],
   "source": [
    "df11 = df9.join(df10)"
   ]
  },
  {
   "cell_type": "code",
   "execution_count": 1965,
   "metadata": {},
   "outputs": [],
   "source": [
    "df11[\"node_feature\"] = df11[\"baseSeries\"] + df11[\"nodeCode\"]"
   ]
  },
  {
   "cell_type": "code",
   "execution_count": 1966,
   "metadata": {},
   "outputs": [],
   "source": [
    "enc = OrdinalEncoder()\n",
    "res = enc.fit_transform(np.array(df11[\"node_feature\"]).reshape(-1, 1))"
   ]
  },
  {
   "cell_type": "code",
   "execution_count": 1967,
   "metadata": {},
   "outputs": [],
   "source": [
    "s = pd.DataFrame(pd.Series(res.flatten()) + 1)\n",
    "s = s.rename(columns={0: \"node_id\"})"
   ]
  },
  {
   "cell_type": "code",
   "execution_count": 1968,
   "metadata": {},
   "outputs": [],
   "source": [
    "df12 = df11.join(s)"
   ]
  },
  {
   "cell_type": "code",
   "execution_count": 1969,
   "metadata": {},
   "outputs": [],
   "source": [
    "nodes_df = df12[[\"node_id\", \"f_p\", \"project_id\", \"nodeCode\"]]"
   ]
  },
  {
   "cell_type": "code",
   "execution_count": 1970,
   "metadata": {},
   "outputs": [],
   "source": [
    "chiefEngineerIds = [92, 123, 144, 169, 201, 270, 305, 311, 368, 370, 396, 400, 443, 461, 462, 604, 608]"
   ]
  },
  {
   "cell_type": "code",
   "execution_count": 1971,
   "metadata": {},
   "outputs": [
    {
     "name": "stderr",
     "output_type": "stream",
     "text": [
      "C:\\Users\\sigla\\Anaconda3\\lib\\site-packages\\ipykernel_launcher.py:1: SettingWithCopyWarning: \n",
      "A value is trying to be set on a copy of a slice from a DataFrame.\n",
      "Try using .loc[row_indexer,col_indexer] = value instead\n",
      "\n",
      "See the caveats in the documentation: https://pandas.pydata.org/pandas-docs/stable/user_guide/indexing.html#returning-a-view-versus-a-copy\n",
      "  \"\"\"Entry point for launching an IPython kernel.\n"
     ]
    }
   ],
   "source": [
    "nodes_df[\"chief_engineer\"] = random.choices(chiefEngineerIds, k=len(nodes_df))"
   ]
  },
  {
   "cell_type": "code",
   "execution_count": 1972,
   "metadata": {},
   "outputs": [],
   "source": [
    "nodes_df = nodes_df.rename(columns={\"node_id\": \"id\", \"f_p\": \"name\", \"nodeCode\": \"code\", \"chief_engineer\": \"chief_engineer_id\"})"
   ]
  },
  {
   "cell_type": "code",
   "execution_count": 1973,
   "metadata": {},
   "outputs": [],
   "source": [
    "nodes_df = nodes_df.drop_duplicates(subset=[\"id\"])"
   ]
  },
  {
   "cell_type": "code",
   "execution_count": 1974,
   "metadata": {},
   "outputs": [],
   "source": [
    "cursor.execute(open(\"sql/xx_nodes.sql\", \"r\").read())\n",
    "conn.commit()"
   ]
  },
  {
   "cell_type": "code",
   "execution_count": 1975,
   "metadata": {},
   "outputs": [
    {
     "name": "stdout",
     "output_type": "stream",
     "text": [
      "execute_values() done\n"
     ]
    }
   ],
   "source": [
    "execute_values(conn, nodes_df, \"nodes\")"
   ]
  },
  {
   "cell_type": "markdown",
   "metadata": {},
   "source": [
    "<h1>Подузлы</h1>"
   ]
  },
  {
   "cell_type": "code",
   "execution_count": 1976,
   "metadata": {},
   "outputs": [],
   "source": [
    "df13 = pd.DataFrame(df12[\"o_p\"].str.split('.', 1).tolist(),\n",
    "                                 columns = ['s_p','m_p'])"
   ]
  },
  {
   "cell_type": "code",
   "execution_count": 1977,
   "metadata": {},
   "outputs": [],
   "source": [
    "df13 = df13.fillna(\"\")"
   ]
  },
  {
   "cell_type": "code",
   "execution_count": 1978,
   "metadata": {},
   "outputs": [],
   "source": [
    "df13[\"s_p\"] = df13[\"s_p\"].str.strip()\n",
    "df13[\"m_p\"] = df13[\"m_p\"].str.strip()"
   ]
  },
  {
   "cell_type": "code",
   "execution_count": 1979,
   "metadata": {},
   "outputs": [],
   "source": [
    "df14 = df12.join(df13)"
   ]
  },
  {
   "cell_type": "code",
   "execution_count": 1980,
   "metadata": {},
   "outputs": [],
   "source": [
    "df14[\"subnode_feature\"] = df11[\"node_feature\"] + df11[\"subnodeCode\"]"
   ]
  },
  {
   "cell_type": "code",
   "execution_count": 1981,
   "metadata": {},
   "outputs": [],
   "source": [
    "enc = OrdinalEncoder()\n",
    "res = enc.fit_transform(np.array(df14[\"subnode_feature\"]).reshape(-1, 1))"
   ]
  },
  {
   "cell_type": "code",
   "execution_count": 1982,
   "metadata": {},
   "outputs": [],
   "source": [
    "s = pd.DataFrame(pd.Series(res.flatten()) + 1)\n",
    "s = s.rename(columns={0: \"subnode_id\"})"
   ]
  },
  {
   "cell_type": "code",
   "execution_count": 1983,
   "metadata": {},
   "outputs": [],
   "source": [
    "df15 = df14.join(s)"
   ]
  },
  {
   "cell_type": "code",
   "execution_count": 1984,
   "metadata": {},
   "outputs": [],
   "source": [
    "subnodes_df = df15[[\"subnode_id\", \"node_id\", \"subnodeCode\", \"s_p\"]]"
   ]
  },
  {
   "cell_type": "code",
   "execution_count": 1985,
   "metadata": {},
   "outputs": [],
   "source": [
    "subnodes_df = subnodes_df.rename(columns={\"subnode_id\": \"id\", \"s_p\": \"name\", \"subnodeCode\": \"code\"})"
   ]
  },
  {
   "cell_type": "code",
   "execution_count": 1986,
   "metadata": {},
   "outputs": [],
   "source": [
    "subnodes_df = subnodes_df.drop_duplicates(subset=[\"id\"])"
   ]
  },
  {
   "cell_type": "code",
   "execution_count": 1987,
   "metadata": {},
   "outputs": [],
   "source": [
    "cursor.execute(open(\"sql/xx_subnodes.sql\", \"r\").read())\n",
    "conn.commit()"
   ]
  },
  {
   "cell_type": "code",
   "execution_count": 1988,
   "metadata": {},
   "outputs": [
    {
     "name": "stdout",
     "output_type": "stream",
     "text": [
      "execute_values() done\n"
     ]
    }
   ],
   "source": [
    "execute_values(conn, subnodes_df, \"subnodes\")"
   ]
  },
  {
   "cell_type": "markdown",
   "metadata": {},
   "source": [
    "<h1>Марки</h1>"
   ]
  },
  {
   "cell_type": "code",
   "execution_count": 1989,
   "metadata": {},
   "outputs": [],
   "source": [
    "df15 = df15.drop([\"обозн\", \"комплекс\", \"объект\", \"level_0\", \"ОЗ_марки\"], axis=1)"
   ]
  },
  {
   "cell_type": "code",
   "execution_count": 1990,
   "metadata": {},
   "outputs": [],
   "source": [
    "df15[\"t_эксплуат\"] = df15[\"t_эксплуат\"].str.replace(\"минус \", \"-\")\n",
    "df15[\"t_эксплуат\"] = df15[\"t_эксплуат\"].str.replace(\"плюс \", \"\")\n",
    "df15[\"t_эксплуат\"] = df15[\"t_эксплуат\"].str.replace(\"+\", \"\")\n",
    "df15[\"t_эксплуат\"] = df15[\"t_эксплуат\"].str.replace(\"- 39\", \"-39\")\n",
    "df15 = df15[df15[\"t_эксплуат\"] != \"-\"]\n",
    "df15 = df15[df15[\"t_эксплуат\"] != \"минус\"]\n",
    "df15[\"t_эксплуат\"] = df15[\"t_эксплуат\"].astype(\"float64\")"
   ]
  },
  {
   "cell_type": "code",
   "execution_count": 1991,
   "metadata": {},
   "outputs": [],
   "source": [
    "df15[\"об_марки\"] = df15[\"об_марки\"].str.strip()\n",
    "df15[\"об_марки\"] = df15[\"об_марки\"].str.replace(\"KM\", \"КМ\")\n",
    "df15 = df15[df15[\"об_марки\"] != \"по\"]"
   ]
  },
  {
   "cell_type": "code",
   "execution_count": 1992,
   "metadata": {},
   "outputs": [],
   "source": [
    "df15 = df15.drop([\"об_марки\"], axis=1)"
   ]
  },
  {
   "cell_type": "code",
   "execution_count": 1993,
   "metadata": {},
   "outputs": [],
   "source": [
    "df15 = df15.drop([\"project_id\", \"f_p\", \"o_p\", \"s_p\", \"subnode_feature\", \"node_feature\", \"subnodeCode\"], axis=1)"
   ]
  },
  {
   "cell_type": "code",
   "execution_count": 1994,
   "metadata": {},
   "outputs": [],
   "source": [
    "df15 = df15.drop([\"baseSeries\", \"nodeCode\", \"node_id\"], axis=1)"
   ]
  },
  {
   "cell_type": "code",
   "execution_count": 1995,
   "metadata": {},
   "outputs": [],
   "source": [
    "df15[\"прим\"] = df15[\"прим\"].str.strip()\n",
    "df15[\"прим\"] = df15[\"прим\"].str.replace(\"\\r\\n       \", \" \")"
   ]
  },
  {
   "cell_type": "code",
   "execution_count": 1996,
   "metadata": {},
   "outputs": [],
   "source": [
    "df15 = df15.drop([\"ДопКод\"], axis=1)"
   ]
  },
  {
   "cell_type": "code",
   "execution_count": 1997,
   "metadata": {},
   "outputs": [],
   "source": [
    "df15[\"категория_пр\"] = 3"
   ]
  },
  {
   "cell_type": "code",
   "execution_count": 1998,
   "metadata": {},
   "outputs": [
    {
     "data": {
      "text/html": [
       "<div>\n",
       "<style scoped>\n",
       "    .dataframe tbody tr th:only-of-type {\n",
       "        vertical-align: middle;\n",
       "    }\n",
       "\n",
       "    .dataframe tbody tr th {\n",
       "        vertical-align: top;\n",
       "    }\n",
       "\n",
       "    .dataframe thead th {\n",
       "        text-align: right;\n",
       "    }\n",
       "</style>\n",
       "<table border=\"1\" class=\"dataframe\">\n",
       "  <thead>\n",
       "    <tr style=\"text-align: right;\">\n",
       "      <th></th>\n",
       "      <th>зона_эксплуат</th>\n",
       "      <th>группа_газов</th>\n",
       "      <th>агрессивность</th>\n",
       "      <th>материал</th>\n",
       "      <th>тип_ЛКМ</th>\n",
       "    </tr>\n",
       "  </thead>\n",
       "  <tbody>\n",
       "    <tr>\n",
       "      <th>0</th>\n",
       "      <td>2</td>\n",
       "      <td>1.0</td>\n",
       "      <td>1</td>\n",
       "      <td>0</td>\n",
       "      <td>ПФ</td>\n",
       "    </tr>\n",
       "    <tr>\n",
       "      <th>19</th>\n",
       "      <td>2</td>\n",
       "      <td>1.0</td>\n",
       "      <td>2</td>\n",
       "      <td>0</td>\n",
       "      <td>ПФ</td>\n",
       "    </tr>\n",
       "    <tr>\n",
       "      <th>25</th>\n",
       "      <td>1</td>\n",
       "      <td>1.0</td>\n",
       "      <td>2</td>\n",
       "      <td>0</td>\n",
       "      <td>ПФ</td>\n",
       "    </tr>\n",
       "    <tr>\n",
       "      <th>27</th>\n",
       "      <td>1</td>\n",
       "      <td>1.0</td>\n",
       "      <td>2</td>\n",
       "      <td>0</td>\n",
       "      <td>АУ</td>\n",
       "    </tr>\n",
       "    <tr>\n",
       "      <th>35</th>\n",
       "      <td>2</td>\n",
       "      <td>1.0</td>\n",
       "      <td>0</td>\n",
       "      <td>0</td>\n",
       "      <td>ПФ</td>\n",
       "    </tr>\n",
       "    <tr>\n",
       "      <th>70</th>\n",
       "      <td>1</td>\n",
       "      <td>1.0</td>\n",
       "      <td>0</td>\n",
       "      <td>0</td>\n",
       "      <td>ПФ</td>\n",
       "    </tr>\n",
       "    <tr>\n",
       "      <th>168</th>\n",
       "      <td>1</td>\n",
       "      <td>1.0</td>\n",
       "      <td>1</td>\n",
       "      <td>0</td>\n",
       "      <td>ПФ</td>\n",
       "    </tr>\n",
       "    <tr>\n",
       "      <th>649</th>\n",
       "      <td>2</td>\n",
       "      <td>0.0</td>\n",
       "      <td>1</td>\n",
       "      <td>0</td>\n",
       "      <td>ПФ</td>\n",
       "    </tr>\n",
       "    <tr>\n",
       "      <th>684</th>\n",
       "      <td>1</td>\n",
       "      <td>0.0</td>\n",
       "      <td>0</td>\n",
       "      <td>0</td>\n",
       "      <td>ПФ</td>\n",
       "    </tr>\n",
       "    <tr>\n",
       "      <th>814</th>\n",
       "      <td>1</td>\n",
       "      <td>4.0</td>\n",
       "      <td>1</td>\n",
       "      <td>0</td>\n",
       "      <td>ПФ</td>\n",
       "    </tr>\n",
       "    <tr>\n",
       "      <th>836</th>\n",
       "      <td>1</td>\n",
       "      <td>2.0</td>\n",
       "      <td>2</td>\n",
       "      <td>0</td>\n",
       "      <td>ЭЭ</td>\n",
       "    </tr>\n",
       "    <tr>\n",
       "      <th>854</th>\n",
       "      <td>2</td>\n",
       "      <td>4.0</td>\n",
       "      <td>1</td>\n",
       "      <td>0</td>\n",
       "      <td>ПФ</td>\n",
       "    </tr>\n",
       "    <tr>\n",
       "      <th>859</th>\n",
       "      <td>1</td>\n",
       "      <td>4.0</td>\n",
       "      <td>1</td>\n",
       "      <td>0</td>\n",
       "      <td>МА</td>\n",
       "    </tr>\n",
       "    <tr>\n",
       "      <th>908</th>\n",
       "      <td>1</td>\n",
       "      <td>1.0</td>\n",
       "      <td>2</td>\n",
       "      <td>0</td>\n",
       "      <td>ПВ</td>\n",
       "    </tr>\n",
       "    <tr>\n",
       "      <th>909</th>\n",
       "      <td>2</td>\n",
       "      <td>2.0</td>\n",
       "      <td>1</td>\n",
       "      <td>0</td>\n",
       "      <td>ПФ</td>\n",
       "    </tr>\n",
       "    <tr>\n",
       "      <th>922</th>\n",
       "      <td>1</td>\n",
       "      <td>0.0</td>\n",
       "      <td>1</td>\n",
       "      <td>0</td>\n",
       "      <td>ПФ</td>\n",
       "    </tr>\n",
       "  </tbody>\n",
       "</table>\n",
       "</div>"
      ],
      "text/plain": [
       "     зона_эксплуат  группа_газов  агрессивность  материал тип_ЛКМ\n",
       "0                2           1.0              1         0      ПФ\n",
       "19               2           1.0              2         0      ПФ\n",
       "25               1           1.0              2         0      ПФ\n",
       "27               1           1.0              2         0      АУ\n",
       "35               2           1.0              0         0      ПФ\n",
       "70               1           1.0              0         0      ПФ\n",
       "168              1           1.0              1         0      ПФ\n",
       "649              2           0.0              1         0      ПФ\n",
       "684              1           0.0              0         0      ПФ\n",
       "814              1           4.0              1         0      ПФ\n",
       "836              1           2.0              2         0      ЭЭ\n",
       "854              2           4.0              1         0      ПФ\n",
       "859              1           4.0              1         0      МА\n",
       "908              1           1.0              2         0      ПВ\n",
       "909              2           2.0              1         0      ПФ\n",
       "922              1           0.0              1         0      ПФ"
      ]
     },
     "execution_count": 1998,
     "metadata": {},
     "output_type": "execute_result"
    }
   ],
   "source": [
    "df15[[\"зона_эксплуат\", \"группа_газов\", \"агрессивность\", \"материал\", \"тип_ЛКМ\"]].drop_duplicates()"
   ]
  },
  {
   "cell_type": "code",
   "execution_count": 1999,
   "metadata": {},
   "outputs": [],
   "source": [
    "df15[\"агрессивность\"] += 1\n",
    "df15[\"группа_газов\"] += 1\n",
    "df15[\"материал\"] += 1\n",
    "df15[\"вп_болты\"] += 1\n",
    "\n",
    "# Part\n",
    "df15.loc[df15[\"тип_ЛКМ\"] == \"ПФ\", \"тип_ЛКМ\"] = 1\n",
    "df15.loc[df15[\"тип_ЛКМ\"] == \"АУ\", \"тип_ЛКМ\"] = 2\n",
    "df15.loc[df15[\"тип_ЛКМ\"] == \"ЭЭ\", \"тип_ЛКМ\"] = 3\n",
    "df15.loc[df15[\"тип_ЛКМ\"] == \"МА\", \"тип_ЛКМ\"] = 4\n",
    "df15.loc[df15[\"тип_ЛКМ\"] == \"ПВ\", \"тип_ЛКМ\"] = 11"
   ]
  },
  {
   "cell_type": "code",
   "execution_count": 2000,
   "metadata": {},
   "outputs": [],
   "source": [
    "df15 = df15.drop_duplicates(subset=[\"code\", \"subnode_id\"])"
   ]
  },
  {
   "cell_type": "code",
   "execution_count": 2001,
   "metadata": {},
   "outputs": [],
   "source": [
    "df15_operating_cond = df15.copy()"
   ]
  },
  {
   "cell_type": "code",
   "execution_count": 2002,
   "metadata": {},
   "outputs": [],
   "source": [
    "df15 = df15.rename(columns={\"код_отд\": \"department_id\",\n",
    "                            \"подп1\": \"signed1_id\",\n",
    "                            \"подп2\": \"signed2_id\",\n",
    "                            \"гл_спец\": \"chief_specialist_id\",\n",
    "                            \"рук_гр\": \"group_leader_id\",\n",
    "                            \"н_контр\": \"main_builder_id\",\n",
    "                            \"дата_выд\": \"issued_date\",\n",
    "                            \"кол_томов\": \"num_of_volumes\",\n",
    "                            \"дата_ред\": \"edited_date\",\n",
    "                            \"коэф_надежн\": \"safety_coeff\",\n",
    "                            \"t_эксплуат\": \"operating_temp\",\n",
    "                            \"зона_эксплуат\": \"operating_zone\",\n",
    "                            \"группа_газов\": \"gas_group\",\n",
    "                            \"агрессивность\": \"aggressiveness\",\n",
    "                            \"материал\": \"material\",\n",
    "                            \"тип_ЛКМ\": \"paintwork_type\",\n",
    "                            \"прим\": \"note\",\n",
    "                            \"категория_пр\": \"fire_hazard_category_id\",\n",
    "                            \"вп_болты\": \"high_tensile_bolts\",\n",
    "                            \"п_транспорт\": \"p_transport\",\n",
    "                            \"п_площадки\": \"p_site\",\n",
    "                            \"10ХСНД\": \"xcnd\",\n",
    "                            \"ТекстЗдСм\": \"text_3d_estimate\",\n",
    "                            \"ДопОбъемы\": \"add_volumes\",\n",
    "                            \"ВесПоВМП\": \"vmp_weight\",\n",
    "                            \"ВыпЗдСм\": \"impl_3d_estimate\",\n",
    "                            \"m_p\": \"name\"\n",
    "                       })"
   ]
  },
  {
   "cell_type": "code",
   "execution_count": 2003,
   "metadata": {},
   "outputs": [],
   "source": [
    "df15[\"issued_date\"] = df15[\"issued_date\"].astype(object).where(df15[\"issued_date\"].notnull(), None)\n",
    "df15[\"edited_date\"] = df15[\"edited_date\"].astype(object).where(df15[\"edited_date\"].notnull(), None)\n",
    "df15 = df15.where(pd.notnull(df15), None)"
   ]
  },
  {
   "cell_type": "code",
   "execution_count": 2004,
   "metadata": {},
   "outputs": [],
   "source": [
    "df15[\"chief_specialist_id\"] = df15[\"chief_specialist_id\"].replace(0, None)\n",
    "df15[\"group_leader_id\"] = df15[\"group_leader_id\"].replace(0, None)\n",
    "df15[\"main_builder_id\"] = df15[\"main_builder_id\"].replace(0, None)"
   ]
  },
  {
   "cell_type": "code",
   "execution_count": 2005,
   "metadata": {},
   "outputs": [
    {
     "data": {
      "text/html": [
       "<div>\n",
       "<style scoped>\n",
       "    .dataframe tbody tr th:only-of-type {\n",
       "        vertical-align: middle;\n",
       "    }\n",
       "\n",
       "    .dataframe tbody tr th {\n",
       "        vertical-align: top;\n",
       "    }\n",
       "\n",
       "    .dataframe thead th {\n",
       "        text-align: right;\n",
       "    }\n",
       "</style>\n",
       "<table border=\"1\" class=\"dataframe\">\n",
       "  <thead>\n",
       "    <tr style=\"text-align: right;\">\n",
       "      <th></th>\n",
       "      <th>code</th>\n",
       "      <th>id</th>\n",
       "      <th>department_id</th>\n",
       "      <th>signed1_id</th>\n",
       "      <th>signed2_id</th>\n",
       "      <th>chief_specialist_id</th>\n",
       "      <th>group_leader_id</th>\n",
       "      <th>main_builder_id</th>\n",
       "      <th>issued_date</th>\n",
       "      <th>num_of_volumes</th>\n",
       "      <th>...</th>\n",
       "      <th>high_tensile_bolts</th>\n",
       "      <th>p_transport</th>\n",
       "      <th>p_site</th>\n",
       "      <th>xcnd</th>\n",
       "      <th>text_3d_estimate</th>\n",
       "      <th>add_volumes</th>\n",
       "      <th>vmp_weight</th>\n",
       "      <th>impl_3d_estimate</th>\n",
       "      <th>name</th>\n",
       "      <th>subnode_id</th>\n",
       "    </tr>\n",
       "  </thead>\n",
       "  <tbody>\n",
       "    <tr>\n",
       "      <th>0</th>\n",
       "      <td>КМ1</td>\n",
       "      <td>3173</td>\n",
       "      <td>1</td>\n",
       "      <td>258</td>\n",
       "      <td>272</td>\n",
       "      <td>139</td>\n",
       "      <td>None</td>\n",
       "      <td>92</td>\n",
       "      <td>2013-02-21</td>\n",
       "      <td>0</td>\n",
       "      <td>...</td>\n",
       "      <td>1</td>\n",
       "      <td>False</td>\n",
       "      <td>False</td>\n",
       "      <td>False</td>\n",
       "      <td>Разработать сметную документацию к чертежам М3...</td>\n",
       "      <td>Работы ведутся на высоте до 4,430 м. от уровня...</td>\n",
       "      <td>3.95</td>\n",
       "      <td>0</td>\n",
       "      <td>Дооборудование. Ворота</td>\n",
       "      <td>26</td>\n",
       "    </tr>\n",
       "  </tbody>\n",
       "</table>\n",
       "<p>1 rows × 30 columns</p>\n",
       "</div>"
      ],
      "text/plain": [
       "  code    id department_id signed1_id signed2_id chief_specialist_id  \\\n",
       "0  КМ1  3173             1        258        272                 139   \n",
       "\n",
       "  group_leader_id main_builder_id issued_date num_of_volumes  ...  \\\n",
       "0            None              92  2013-02-21              0  ...   \n",
       "\n",
       "  high_tensile_bolts p_transport p_site   xcnd  \\\n",
       "0                  1       False  False  False   \n",
       "\n",
       "                                    text_3d_estimate  \\\n",
       "0  Разработать сметную документацию к чертежам М3...   \n",
       "\n",
       "                                         add_volumes vmp_weight  \\\n",
       "0  Работы ведутся на высоте до 4,430 м. от уровня...       3.95   \n",
       "\n",
       "  impl_3d_estimate                    name subnode_id  \n",
       "0                0  Дооборудование. Ворота         26  \n",
       "\n",
       "[1 rows x 30 columns]"
      ]
     },
     "execution_count": 2005,
     "metadata": {},
     "output_type": "execute_result"
    }
   ],
   "source": [
    "df16 = df15.reset_index(drop=True)\n",
    "pd.DataFrame(df16.iloc[0, :].values.reshape(1, -1), columns=df16.columns.tolist())"
   ]
  },
  {
   "cell_type": "code",
   "execution_count": 2006,
   "metadata": {},
   "outputs": [],
   "source": [
    "cursor.execute(open(\"sql/7.sql\", \"r\").read())\n",
    "conn.commit()"
   ]
  },
  {
   "cell_type": "code",
   "execution_count": 2007,
   "metadata": {},
   "outputs": [
    {
     "name": "stdout",
     "output_type": "stream",
     "text": [
      "execute_values() done\n"
     ]
    }
   ],
   "source": [
    "execute_values(conn, df16, \"marks\")"
   ]
  },
  {
   "cell_type": "code",
   "execution_count": 2008,
   "metadata": {},
   "outputs": [],
   "source": [
    "df16[\"id\"].to_csv(\"mark_ids.csv\")"
   ]
  },
  {
   "cell_type": "markdown",
   "metadata": {},
   "source": [
    "<h1>Условия эксплуатации марки</h1>"
   ]
  },
  {
   "cell_type": "code",
   "execution_count": 2009,
   "metadata": {},
   "outputs": [],
   "source": [
    "df_op_cond = df15_operating_cond.loc[:, [\"id\", \"коэф_надежн\", \"агрессивность\", \"t_эксплуат\", \"зона_эксплуат\", \"группа_газов\", \"материал\", \"тип_ЛКМ\", \"вп_болты\"]]"
   ]
  },
  {
   "cell_type": "code",
   "execution_count": 2010,
   "metadata": {},
   "outputs": [],
   "source": [
    "df_op_cond[\"t_эксплуат\"] = df_op_cond[\"t_эксплуат\"].fillna(-34)"
   ]
  },
  {
   "cell_type": "code",
   "execution_count": 2011,
   "metadata": {},
   "outputs": [],
   "source": [
    "df_op_cond = df_op_cond.rename(columns={\"id\": \"mark_id\",\n",
    "                            \"коэф_надежн\": \"safety_coeff\",\n",
    "                            \"t_эксплуат\": \"temperature\",\n",
    "                            \"зона_эксплуат\": \"operating_area_id\",\n",
    "                            \"группа_газов\": \"gas_group_id\",\n",
    "                            \"агрессивность\": \"env_aggressiveness_id\",\n",
    "                            \"материал\": \"construction_material_id\",\n",
    "                            \"тип_ЛКМ\": \"paintwork_type_id\",\n",
    "                            \"вп_болты\": \"high_tensile_bolts_type_id\"\n",
    "                       })"
   ]
  },
  {
   "cell_type": "code",
   "execution_count": 2012,
   "metadata": {},
   "outputs": [],
   "source": [
    "cursor.execute(open(\"sql/y_mark_operating_conditions.sql\", \"r\").read())\n",
    "conn.commit()"
   ]
  },
  {
   "cell_type": "code",
   "execution_count": 2013,
   "metadata": {},
   "outputs": [
    {
     "name": "stdout",
     "output_type": "stream",
     "text": [
      "execute_values() done\n"
     ]
    }
   ],
   "source": [
    "execute_values(conn, df_op_cond, \"mark_operating_conditions\")"
   ]
  },
  {
   "cell_type": "markdown",
   "metadata": {},
   "source": [
    "<h1>Выпуски спецификаций</h1>"
   ]
  },
  {
   "cell_type": "code",
   "execution_count": 2014,
   "metadata": {},
   "outputs": [],
   "source": [
    "df = pd.read_sql_query('SELECT * FROM Pro_t_londonSQL.dbo.ВыпСпец', db_conn)"
   ]
  },
  {
   "cell_type": "code",
   "execution_count": 2015,
   "metadata": {},
   "outputs": [],
   "source": [
    "df = df.replace(\"\", np.nan)"
   ]
  },
  {
   "cell_type": "code",
   "execution_count": 2016,
   "metadata": {},
   "outputs": [],
   "source": [
    "df = df.drop_duplicates(subset=[\"код_марки\", \"выпуск\"])"
   ]
  },
  {
   "cell_type": "code",
   "execution_count": 2017,
   "metadata": {},
   "outputs": [],
   "source": [
    "df = df.drop([\"вкл_вып\"], axis=1)"
   ]
  },
  {
   "cell_type": "code",
   "execution_count": 2018,
   "metadata": {},
   "outputs": [],
   "source": [
    "df[\"текущий\"] = df[\"текущий\"].map(lambda x: True if (x == 1) else False)"
   ]
  },
  {
   "cell_type": "code",
   "execution_count": 2019,
   "metadata": {},
   "outputs": [],
   "source": [
    "df.insert(0, 'id', range(1, len(df) + 1))"
   ]
  },
  {
   "cell_type": "code",
   "execution_count": 2020,
   "metadata": {},
   "outputs": [],
   "source": [
    "df = df.rename(columns={\"код_марки\": \"mark_id\",\n",
    "                        \"выпуск\": \"num\",\n",
    "                        \"дата_созд\": \"created_date\",\n",
    "                        \"текущий\": \"is_current\",\n",
    "                        \"прим\": \"note\"\n",
    "                       })"
   ]
  },
  {
   "cell_type": "code",
   "execution_count": 2021,
   "metadata": {},
   "outputs": [],
   "source": [
    "df[\"created_date\"] = df[\"created_date\"].astype(object).where(df[\"created_date\"].notnull(), datetime(2000, 1, 1))\n",
    "df = df.where(pd.notnull(df), None)"
   ]
  },
  {
   "cell_type": "code",
   "execution_count": 2022,
   "metadata": {},
   "outputs": [],
   "source": [
    "m_ids = pd.read_csv(\"mark_ids.csv\")\n",
    "m_ids = m_ids.drop([\"Unnamed: 0\"], axis=1)\n",
    "m_ids = m_ids.values.flatten().tolist()"
   ]
  },
  {
   "cell_type": "code",
   "execution_count": 2023,
   "metadata": {},
   "outputs": [],
   "source": [
    "df = df[df[\"mark_id\"].isin(m_ids)]"
   ]
  },
  {
   "cell_type": "code",
   "execution_count": 2024,
   "metadata": {},
   "outputs": [],
   "source": [
    "cursor.execute(open(\"sql/3.sql\", \"r\").read())\n",
    "conn.commit()"
   ]
  },
  {
   "cell_type": "code",
   "execution_count": 2025,
   "metadata": {},
   "outputs": [
    {
     "name": "stdout",
     "output_type": "stream",
     "text": [
      "execute_values() done\n"
     ]
    }
   ],
   "source": [
    "execute_values(conn, df, \"specifications\")"
   ]
  },
  {
   "cell_type": "code",
   "execution_count": 2026,
   "metadata": {},
   "outputs": [],
   "source": [
    "df.loc[:, [\"id\", \"mark_id\", \"num\"]].to_csv(\"specs.csv\")"
   ]
  },
  {
   "cell_type": "markdown",
   "metadata": {},
   "source": [
    "<h1>Листы</h1>"
   ]
  },
  {
   "cell_type": "code",
   "execution_count": 2027,
   "metadata": {},
   "outputs": [],
   "source": [
    "df = pd.read_sql_query('SELECT * FROM Pro_t_londonSQL.dbo.Листы', db_conn)"
   ]
  },
  {
   "cell_type": "code",
   "execution_count": 2028,
   "metadata": {},
   "outputs": [],
   "source": [
    "df = df.replace(\"\", np.nan)"
   ]
  },
  {
   "cell_type": "code",
   "execution_count": 2029,
   "metadata": {},
   "outputs": [],
   "source": [
    "df = df[df[\"номер\"].isna() == False]"
   ]
  },
  {
   "cell_type": "code",
   "execution_count": 2030,
   "metadata": {},
   "outputs": [],
   "source": [
    "df[\"тип_док\"] = df[\"тип_док\"] + 1"
   ]
  },
  {
   "cell_type": "code",
   "execution_count": 2031,
   "metadata": {},
   "outputs": [],
   "source": [
    "df[\"вып\"] = df[\"вып\"].map(lambda x: np.nan if x == 0 else x)"
   ]
  },
  {
   "cell_type": "code",
   "execution_count": 2032,
   "metadata": {},
   "outputs": [],
   "source": [
    "df[\"пров\"] = df[\"пров\"].map(lambda x: np.nan if x == 0 else x)"
   ]
  },
  {
   "cell_type": "code",
   "execution_count": 2033,
   "metadata": {},
   "outputs": [],
   "source": [
    "df[\"норм\"] = df[\"норм\"].map(lambda x: np.nan if x == 0 else x)"
   ]
  },
  {
   "cell_type": "code",
   "execution_count": 2034,
   "metadata": {},
   "outputs": [],
   "source": [
    "df = df.drop([\"шифр_вып\", \"шифр_пров\", \"шифр_норм\"], axis=1)"
   ]
  },
  {
   "cell_type": "code",
   "execution_count": 2035,
   "metadata": {},
   "outputs": [],
   "source": [
    "df[\"формат\"] = df[\"формат\"].map(lambda x: 1.0 if np.isnan(x) else x)"
   ]
  },
  {
   "cell_type": "code",
   "execution_count": 2036,
   "metadata": {},
   "outputs": [],
   "source": [
    "df = df.drop_duplicates(subset=[\"код_марки\", \"номер\", \"тип_док\"])"
   ]
  },
  {
   "cell_type": "code",
   "execution_count": 2037,
   "metadata": {},
   "outputs": [],
   "source": [
    "df[\"название\"] = df[\"название\"].str.strip()"
   ]
  },
  {
   "cell_type": "code",
   "execution_count": 2038,
   "metadata": {},
   "outputs": [],
   "source": [
    "for i in range(0, len(df)):\n",
    "    try:\n",
    "        arr = df[\"название\"][i].split()\n",
    "        new_str = ' '.join(arr)\n",
    "        df.at[i, \"название\"] = new_str\n",
    "    except Exception:\n",
    "        pass"
   ]
  },
  {
   "cell_type": "code",
   "execution_count": 2039,
   "metadata": {},
   "outputs": [],
   "source": [
    "df.insert(0, 'id', range(1, len(df) + 1))"
   ]
  },
  {
   "cell_type": "code",
   "execution_count": 2040,
   "metadata": {},
   "outputs": [],
   "source": [
    "df = df.rename(columns={\"код_марки\": \"mark_id\",\n",
    "                        \"номер\": \"num\",\n",
    "                        \"название\": \"name\",\n",
    "                        \"формат\": \"form\",\n",
    "                        \"вып\": \"creator_id\",\n",
    "                        \"пров\": \"inspector_id\",\n",
    "                        \"норм\": \"norm_contr_id\",\n",
    "                        \"тип_док\": \"type_id\",\n",
    "                        \"выпуск\": \"release_num\",\n",
    "                        \"листов\": \"num_of_pages\",\n",
    "                        \"прим\": \"note\"\n",
    "                       })"
   ]
  },
  {
   "cell_type": "code",
   "execution_count": 2041,
   "metadata": {},
   "outputs": [],
   "source": [
    "df = df.where(pd.notnull(df), None)"
   ]
  },
  {
   "cell_type": "code",
   "execution_count": 2042,
   "metadata": {},
   "outputs": [],
   "source": [
    "m_ids = pd.read_csv(\"mark_ids.csv\")\n",
    "m_ids = m_ids.drop([\"Unnamed: 0\"], axis=1)\n",
    "m_ids = m_ids.values.flatten().tolist()"
   ]
  },
  {
   "cell_type": "code",
   "execution_count": 2043,
   "metadata": {},
   "outputs": [],
   "source": [
    "e_ids = pd.read_csv(\"employee_ids.csv\")\n",
    "e_ids = e_ids.drop([\"Unnamed: 0\"], axis=1)\n",
    "e_ids = e_ids.values.flatten().tolist()"
   ]
  },
  {
   "cell_type": "code",
   "execution_count": 2044,
   "metadata": {},
   "outputs": [],
   "source": [
    "df = df[df[\"mark_id\"].isin(m_ids)]\n",
    "df.loc[df[\"creator_id\"].isin(e_ids) == False, \"creator_id\"] = None\n",
    "df.loc[df[\"inspector_id\"].isin(e_ids) == False, \"inspector_id\"] = None\n",
    "df.loc[df[\"norm_contr_id\"].isin(e_ids) == False, \"norm_contr_id\"] = None"
   ]
  },
  {
   "cell_type": "code",
   "execution_count": 2045,
   "metadata": {},
   "outputs": [],
   "source": [
    "cursor.execute(open(\"sql/6.sql\", \"r\").read())\n",
    "conn.commit()"
   ]
  },
  {
   "cell_type": "code",
   "execution_count": 2046,
   "metadata": {},
   "outputs": [
    {
     "name": "stdout",
     "output_type": "stream",
     "text": [
      "execute_values() done\n"
     ]
    }
   ],
   "source": [
    "execute_values(conn, df, \"docs\")"
   ]
  },
  {
   "cell_type": "markdown",
   "metadata": {},
   "source": [
    "<h1>Обозначения марок</h1>"
   ]
  },
  {
   "cell_type": "code",
   "execution_count": 2047,
   "metadata": {},
   "outputs": [],
   "source": [
    "df = pd.read_sql_query('SELECT * FROM Pro_t_londonSQL.dbo.Об_марок', db_conn)"
   ]
  },
  {
   "cell_type": "code",
   "execution_count": 2048,
   "metadata": {},
   "outputs": [],
   "source": [
    "df = df.iloc[1:, :]\n",
    "df = df.iloc[:-1, :]\n",
    "df.loc[len(df) + 1] = [\"КМД\", \"Конструкции металлические деталировочные\"]"
   ]
  },
  {
   "cell_type": "code",
   "execution_count": 2049,
   "metadata": {},
   "outputs": [],
   "source": [
    "df.insert(0, 'id', range(1, len(df) + 1))"
   ]
  },
  {
   "cell_type": "code",
   "execution_count": 2050,
   "metadata": {},
   "outputs": [],
   "source": [
    "df = df.rename(columns={\"об_марки\": \"designation\",\n",
    "                        \"наим_марки\": \"name\"\n",
    "                       })"
   ]
  },
  {
   "cell_type": "code",
   "execution_count": 2051,
   "metadata": {},
   "outputs": [],
   "source": [
    "cursor.execute(open(\"sql/9.sql\", \"r\").read())\n",
    "conn.commit()"
   ]
  },
  {
   "cell_type": "code",
   "execution_count": 2052,
   "metadata": {},
   "outputs": [
    {
     "name": "stdout",
     "output_type": "stream",
     "text": [
      "execute_values() done\n"
     ]
    }
   ],
   "source": [
    "execute_values(conn, df, \"mark_designations\")"
   ]
  },
  {
   "cell_type": "markdown",
   "metadata": {},
   "source": [
    "<h1>Прилагаемые документы марки</h1>"
   ]
  },
  {
   "cell_type": "code",
   "execution_count": 2053,
   "metadata": {},
   "outputs": [],
   "source": [
    "df = pd.read_sql_query('SELECT * FROM Pro_t_londonSQL.dbo.Од_прил', db_conn)"
   ]
  },
  {
   "cell_type": "code",
   "execution_count": 2054,
   "metadata": {},
   "outputs": [],
   "source": [
    "df = df.replace(\"\", np.nan)"
   ]
  },
  {
   "cell_type": "code",
   "execution_count": 2055,
   "metadata": {},
   "outputs": [],
   "source": [
    "df = df.drop_duplicates(subset=[\"код_марки\", \"обозн_прил\"])"
   ]
  },
  {
   "cell_type": "code",
   "execution_count": 2056,
   "metadata": {},
   "outputs": [],
   "source": [
    "df = df.where(pd.notnull(df), None)"
   ]
  },
  {
   "cell_type": "code",
   "execution_count": 2057,
   "metadata": {},
   "outputs": [],
   "source": [
    "df.insert(0, 'id', range(1, len(df) + 1))"
   ]
  },
  {
   "cell_type": "code",
   "execution_count": 2058,
   "metadata": {},
   "outputs": [],
   "source": [
    "df = df.rename(columns={\"код_марки\": \"mark_id\",\n",
    "                        \"наим_прил\": \"name\",\n",
    "                        \"прим\": \"note\",\n",
    "                        \"обозн_прил\": \"designation\"\n",
    "                       })"
   ]
  },
  {
   "cell_type": "code",
   "execution_count": 2059,
   "metadata": {},
   "outputs": [],
   "source": [
    "m_ids = pd.read_csv(\"mark_ids.csv\")\n",
    "m_ids = m_ids.drop([\"Unnamed: 0\"], axis=1)\n",
    "m_ids = m_ids.values.flatten().tolist()\n",
    "df = df[df[\"mark_id\"].isin(m_ids)]"
   ]
  },
  {
   "cell_type": "code",
   "execution_count": 2060,
   "metadata": {},
   "outputs": [],
   "source": [
    "cursor.execute(open(\"sql/12.sql\", \"r\").read())\n",
    "conn.commit()"
   ]
  },
  {
   "cell_type": "code",
   "execution_count": 2061,
   "metadata": {},
   "outputs": [
    {
     "name": "stdout",
     "output_type": "stream",
     "text": [
      "execute_values() done\n"
     ]
    }
   ],
   "source": [
    "execute_values(conn, df, \"attached_docs\")"
   ]
  },
  {
   "cell_type": "markdown",
   "metadata": {},
   "source": [
    "<h1>Согласования</h1>"
   ]
  },
  {
   "cell_type": "code",
   "execution_count": 2062,
   "metadata": {},
   "outputs": [],
   "source": [
    "df = pd.read_sql_query('SELECT * FROM Pro_t_londonSQL.dbo.Од_согл', db_conn)"
   ]
  },
  {
   "cell_type": "code",
   "execution_count": 2063,
   "metadata": {},
   "outputs": [],
   "source": [
    "df = df.replace(\"\", np.nan)"
   ]
  },
  {
   "cell_type": "code",
   "execution_count": 2064,
   "metadata": {},
   "outputs": [],
   "source": [
    "df = df.drop([\"отдел1\", \"отдел2\", \"отдел3\", \"отдел4\", \"отдел5\", \"отдел6\", \"отдел7\"], axis=1)"
   ]
  },
  {
   "cell_type": "code",
   "execution_count": 2065,
   "metadata": {},
   "outputs": [],
   "source": [
    "p1 = df.iloc[:, [0,1]]\n",
    "p1 = p1.rename(columns={\"исп1\": \"исп\"})\n",
    "\n",
    "p2 = df.iloc[:, [0,2]]\n",
    "p2 = p2.rename(columns={\"исп2\": \"исп\"})\n",
    "\n",
    "p3 = df.iloc[:, [0,3]]\n",
    "p3 = p3.rename(columns={\"исп3\": \"исп\"})\n",
    "\n",
    "p4 = df.iloc[:, [0,4]]\n",
    "p4 = p4.rename(columns={\"исп4\": \"исп\"})\n",
    "\n",
    "p5 = df.iloc[:, [0,5]]\n",
    "p5 = p5.rename(columns={\"исп5\": \"исп\"})\n",
    "\n",
    "p6 = df.iloc[:, [0,6]]\n",
    "p6 = p6.rename(columns={\"исп6\": \"исп\"})\n",
    "\n",
    "p7 = df.iloc[:, [0,7]]\n",
    "p7 = p7.rename(columns={\"исп7\": \"исп\"})"
   ]
  },
  {
   "cell_type": "code",
   "execution_count": 2066,
   "metadata": {},
   "outputs": [],
   "source": [
    "df = pd.concat([p1, p2, p3, p4, p5, p6, p7], ignore_index=True)"
   ]
  },
  {
   "cell_type": "code",
   "execution_count": 2067,
   "metadata": {},
   "outputs": [],
   "source": [
    "df = df.dropna()\n",
    "df = df[df[\"исп\"] != 0]"
   ]
  },
  {
   "cell_type": "code",
   "execution_count": 2068,
   "metadata": {},
   "outputs": [],
   "source": [
    "df = df.drop_duplicates()"
   ]
  },
  {
   "cell_type": "code",
   "execution_count": 2069,
   "metadata": {},
   "outputs": [],
   "source": [
    "df = df.rename(columns={\"код_марки\": \"mark_id\",\n",
    "                        \"исп\": \"employee_id\"\n",
    "                       })"
   ]
  },
  {
   "cell_type": "code",
   "execution_count": 2070,
   "metadata": {},
   "outputs": [],
   "source": [
    "m_ids = pd.read_csv(\"mark_ids.csv\")\n",
    "e_ids = pd.read_csv(\"employee_ids.csv\")"
   ]
  },
  {
   "cell_type": "code",
   "execution_count": 2071,
   "metadata": {},
   "outputs": [],
   "source": [
    "m_ids = m_ids.drop([\"Unnamed: 0\"], axis=1)\n",
    "e_ids = e_ids.drop([\"Unnamed: 0\"], axis=1)"
   ]
  },
  {
   "cell_type": "code",
   "execution_count": 2072,
   "metadata": {},
   "outputs": [],
   "source": [
    "m_ids = m_ids.values.flatten().tolist()\n",
    "e_ids = e_ids.values.flatten().tolist()"
   ]
  },
  {
   "cell_type": "code",
   "execution_count": 2073,
   "metadata": {},
   "outputs": [],
   "source": [
    "df = df[df[\"mark_id\"].isin(m_ids)]\n",
    "df = df[df[\"employee_id\"].isin(e_ids)]"
   ]
  },
  {
   "cell_type": "code",
   "execution_count": 2074,
   "metadata": {},
   "outputs": [],
   "source": [
    "cursor.execute(open(\"sql/13.sql\", \"r\").read())\n",
    "conn.commit()"
   ]
  },
  {
   "cell_type": "code",
   "execution_count": 2075,
   "metadata": {},
   "outputs": [
    {
     "name": "stdout",
     "output_type": "stream",
     "text": [
      "execute_values() done\n"
     ]
    }
   ],
   "source": [
    "execute_values(conn, df, \"mark_approvals\")"
   ]
  },
  {
   "cell_type": "markdown",
   "metadata": {},
   "source": [
    "<h1>Ссылочные документы марки (id sequence is out of sync)</h1>"
   ]
  },
  {
   "cell_type": "code",
   "execution_count": 2076,
   "metadata": {},
   "outputs": [],
   "source": [
    "df = pd.read_sql_query('SELECT * FROM Pro_t_londonSQL.dbo.Од_ссыл', db_conn)"
   ]
  },
  {
   "cell_type": "code",
   "execution_count": 2077,
   "metadata": {},
   "outputs": [],
   "source": [
    "df = df.replace(\"\", np.nan)"
   ]
  },
  {
   "cell_type": "code",
   "execution_count": 2078,
   "metadata": {},
   "outputs": [],
   "source": [
    "df = df.drop([\"прим\"], axis=1)"
   ]
  },
  {
   "cell_type": "code",
   "execution_count": 2079,
   "metadata": {},
   "outputs": [],
   "source": [
    "df= df[df[\"шифр_сд\"] != \"1\"]\n",
    "df[\"шифр_сд\"] = df[\"шифр_сд\"].str.upper()"
   ]
  },
  {
   "cell_type": "code",
   "execution_count": 2080,
   "metadata": {},
   "outputs": [],
   "source": [
    "m_ids = pd.read_csv(\"mark_ids.csv\")\n",
    "m_ids = m_ids.drop([\"Unnamed: 0\"], axis=1)\n",
    "m_ids = m_ids.values.flatten().tolist()\n",
    "df = df[df[\"код_марки\"].isin(m_ids)]"
   ]
  },
  {
   "cell_type": "code",
   "execution_count": 2081,
   "metadata": {},
   "outputs": [
    {
     "name": "stderr",
     "output_type": "stream",
     "text": [
      "C:\\Users\\sigla\\Anaconda3\\lib\\site-packages\\ipykernel_launcher.py:2: DeprecationWarning: The default dtype for empty Series will be 'object' instead of 'float64' in a future version. Specify a dtype explicitly to silence this warning.\n",
      "  \n"
     ]
    }
   ],
   "source": [
    "for i in range(1, 301):\n",
    "    df = df.append(pd.Series(), ignore_index=True)"
   ]
  },
  {
   "cell_type": "code",
   "execution_count": 2082,
   "metadata": {},
   "outputs": [],
   "source": [
    "df.loc[:, \"код_марки\"] = random.choices(m_ids, k=300)\n",
    "df.loc[:, \"шифр_сд\"] = random.choices(range(1, 300), k=300)"
   ]
  },
  {
   "cell_type": "code",
   "execution_count": 2083,
   "metadata": {},
   "outputs": [],
   "source": [
    "df = df.drop_duplicates(subset=[\"код_марки\", \"шифр_сд\"])"
   ]
  },
  {
   "cell_type": "code",
   "execution_count": 2084,
   "metadata": {},
   "outputs": [],
   "source": [
    "df.insert(0, 'id', range(1, len(df) + 1))"
   ]
  },
  {
   "cell_type": "code",
   "execution_count": 2085,
   "metadata": {},
   "outputs": [],
   "source": [
    "df = df.rename(columns={\"код_марки\": \"mark_id\",\n",
    "                        \"шифр_сд\": \"linked_doc_id\",\n",
    "                        \"прим\": \"note\"\n",
    "                       })"
   ]
  },
  {
   "cell_type": "code",
   "execution_count": 2086,
   "metadata": {},
   "outputs": [],
   "source": [
    "cursor.execute(open(\"sql/14.sql\", \"r\").read())\n",
    "conn.commit()"
   ]
  },
  {
   "cell_type": "code",
   "execution_count": 2087,
   "metadata": {},
   "outputs": [
    {
     "name": "stdout",
     "output_type": "stream",
     "text": [
      "execute_values() done\n"
     ]
    }
   ],
   "source": [
    "execute_values(conn, df, \"mark_linked_docs\")"
   ]
  },
  {
   "cell_type": "markdown",
   "metadata": {},
   "source": [
    "<h1>Разделы общих указаний</h1>"
   ]
  },
  {
   "cell_type": "code",
   "execution_count": 2088,
   "metadata": {},
   "outputs": [],
   "source": [
    "df = pd.DataFrame({'id': [1, 2, 3, 4, 5, 6, 7, 8, 9, 10, 11, 12, 13, 14, 15, 16, 17],\n",
    "                   'name': [\"Разработано на основании\",\n",
    "                            \"Разработано в соответствии\",\n",
    "                            \"Перечень технических регламентов\",\n",
    "                            \"Высотная отметка\",\n",
    "                            \"Климатические условия\",\n",
    "                            \"Конструктивные решения\",\n",
    "                            \"Характеристики конструкций\",\n",
    "                            \"Материал конструкций\",\n",
    "                            \"Указания по разработке КМД и ППР\",\n",
    "                            \"Указания по изготовлению и монтажу\",\n",
    "                            \"Крепление элементов\",\n",
    "                            \"Соединение элементов\",\n",
    "                            \"Антикоррозионная защита\",\n",
    "                            \"Огнезащита конструкций\",\n",
    "                            \"Перечень скрытых видов работ\",\n",
    "                            \"Перечень ответственных конструкций\",\n",
    "                            \"Коэффициент трудозатрат\"],\n",
    "                   'order_num': [1, 2, 3, 4, 5, 6, 7, 8, 9, 10, 11, 12, 13, 14, 15, 16, 17]})"
   ]
  },
  {
   "cell_type": "code",
   "execution_count": 2089,
   "metadata": {},
   "outputs": [],
   "source": [
    "cursor.execute(open(\"sql/37_2.sql\", \"r\").read())\n",
    "conn.commit()"
   ]
  },
  {
   "cell_type": "code",
   "execution_count": 2090,
   "metadata": {},
   "outputs": [
    {
     "name": "stdout",
     "output_type": "stream",
     "text": [
      "execute_values() done\n"
     ]
    }
   ],
   "source": [
    "execute_values(conn, df, \"general_data_sections\")"
   ]
  },
  {
   "cell_type": "markdown",
   "metadata": {},
   "source": [
    "<h1>Пункты общих указаний марки</h1>"
   ]
  },
  {
   "cell_type": "code",
   "execution_count": 2091,
   "metadata": {},
   "outputs": [],
   "source": [
    "df = pd.DataFrame({'id': [1, 2, 3, 4, 5, 6, 7, 8, 9, 10, 11, 12, 13, 14, 15, 16, 17, 18, 19, 20, 21, 22, 23, 24, 25, 26, 27, 28, 29, 30, 31, 32, 33, 34, 35, 36, 37, 38, 39, 40, 41, 42, 43, 44, 45, 46, 47, 48, 49, 50, 51],\n",
    "                   'mark_id': [4320, 4320, 4320, 4320, 4320, 4320, 4320, 4320, 4320, 4320, 4320, 4320, 4320, 4320, 4320, 4320, 4320, 4320, 4320, 4320, 4320, 4320, 4320, 4320, 4320, 4320, 4320, 4320, 4320, 4320, 4320, 4320, 4320, 4320, 4320, 4320, 4320, 4320, 4320, 4320, 4320, 4320, 4320, 4320, 4320, 4320, 4320, 4320, 4320, 4320, 4320],\n",
    "                   'section_id': [1, 1, 1, 3, 3, 3, 3, 3, 3, 3, 3, 3, 3, 5, 5, 5, 5, 5, 5, 6, 6, 6, 6, 6, 6, 6, 6, 6, 7, 7, 8, 9, 10, 10, 10, 11, 12, 12, 12, 12, 12, 12, 12, 12, 13, 13, 13, 13, 15, 15, 15],\n",
    "                   'text': [\"- поручения от 28.02.2020 № АГЛ-35/0362\",\n",
    "                            \"- письма от 05.03.2020 № УПиН-35/0431\",\n",
    "                            \"- рекомендаций _, выполненного специалистами \\\"АО МАГНИТОГОРСКИЙ ГИПРОМЕЗ\\\"\",\n",
    "                            \"- Федеральный закон от 30.12.2009 № 384-ФЗ \\\"Технический регламент о безопасности зданий и сооружений\\\"\",\n",
    "                            \"- Федеральный закон от 22.07.2008 № 123-ФЗ \\\"Технический регламент о требованиях пожарной безопасности\\\"\",\n",
    "                            \"- СП 16.13330.2017 \\\"Стальные конструкции. Актуализированная редакция СНиП II-23-81*\\\"\",\n",
    "                            \"- СП 20.13330.2016 \\\"Нагрузки и воздействия. Актуализированная редакция СНиП 2.01.07-85*\\\"\",\n",
    "                            \"- СП 28.13330.2017 \\\"Защита строительных конструкций от коррозии. Актуализированная редакция СНиП 2.03.11-85\\\"\",\n",
    "                            \"- СП 53-102-2004 \\\"Общие правила проектирования стальных конструкций\\\"\",\n",
    "                            \"- СП 70.13330.2012 \\\"Несущие и ограждающие конструкции. Актуализированная редакция СНиП 3.03.01-87\\\"\",\n",
    "                            \"- ГОСТ 23118-2012 \\\"Конструкции стальные строительные. Общие технические условия\\\"\",\n",
    "                            \"- ГОСТ 27751-2014 \\\"Надежность строительных конструкций и оснований. Основные положения\\\"\",\n",
    "                            \"- ГОСТ 9.402-2004 \\\"Единая система защиты от коррозии и старения (ЕСЗКС). Покрытия лакокрасочные. Подготовка металлических поверхностей к окрашиванию\\\"\",\n",
    "                            \"- климатический район -- IB\",\n",
    "                            \"- расчетная температура наружного воздуха наиболее холодных суток обеспеченностью 0,98 -- минус 43 {\\degree}C\",\n",
    "                            \"- нормативное значение веса снегового покрова на 1 м$^2$ горизонтальной поверхности земли для г. Магнитогорска (согласно СП 20.13330-2016, приложение K, табл. K1) -- 1,3 кПа (130 кг/м$^2$)\",\n",
    "                            \"- нормативное значение ветрового давления для II района (согласно СП 20.13330-2016, п. 11.14, табл. 11.1) -- 0,30 кПа (30 кг/м$^2$)\",\n",
    "                            \"- зона влажности -- сухая\",\n",
    "                            \"- расчетная сейсмическая активность -- 5 баллов\",\n",
    "                            \"# Чертежи марки \\\"КМ\\\" являются исходным материалом для разработки деталировочных чертежей марки \\\"КМД\\\"\",\n",
    "                            \"# В данной рабочей документации разработано восстановление пролетных строений (усиление ферм пролетных строений, металлоконструкций по верхним и нижним поясам ферм) и восстановление антикоррозионного покрытия существующих элементов пролетных строений галереи конвейера № 706-1 УУК и КДИ аглоцеха ГОП ПАО \\\"ММК\\\"\",\n",
    "                            \"# Все работы должны выполняться специализированной организацией, имеющей свидетельство СРО на данный вид деятельности и имеющие допуск по электробезопасности\",\n",
    "                            \"# Работы производить по специально разработанному и согласованному в установленном порядке со всеми инспектирующими организациями и эксплуатацией цеха проекту производства работ (ППР) с соблюдением требований действующих нормативных документов и обязательным учетом фактического состояния существующих конструкций\",\n",
    "                            \"# При выполнении работ принять меры по обеспечению целостности и сохранности существующих сооружений и коммуникаций, находящихся в зоне производства работ\",\n",
    "                            \"# При производстве сварочных работ предусмотреть комплекс организационно-технических мероприятий по обеспечению пожарной безопасности\",\n",
    "                            \"# На всех этапах ведения демонтажных и монтажных работ обеспечить устойчивость и неизменяемость положения существующих конструкций\",\n",
    "                            \"# Перед началом работ необходимо выполнить очистку конструкций в зоне ремонта от мусора, грязи, технологической пыли\",\n",
    "                            \"# Исполнитель несет ответственность за соответствие выполненных работ чертежам. Всякое отступление от чертежей при производстве работ должно быть согласовано с организацией-разработчиком данной рабочей документации\",\n",
    "                            \"- коэффициент надежности по ответственности -- _\",\n",
    "                            \"- степень агрессивного воздействия среды -- _\",\n",
    "                            \"Марки сталей элементов конструкций приняты в зависимости от группы конструкций с учетом расчетной температуры и приведены в таблицах \\\"Ведомость элементов\\\", на схемах расположения элементов конструкций, на чертежах элементов и узлов конструкций и в спецификации металлопроката\",\n",
    "                            \"Отступления от рабочих чертежей КМ не допускаются. В случае необходимости эти отступления должны быть согласованы с организацией-разработчиком рабочих чертежей марки \\\"КМ\\\"\",\n",
    "                            \"# Изготовление металлоконструкций производить в соответствии с требованиями ГОСТ 23118-2012, СП 53-101-98 \\\"Изготовление и контроль качества стальных строительных конструкций\\\", указаниями в чертежах марки \\\"КМ\\\"\",\n",
    "                            \"# Монтаж металлоконструкций производить в соответствии с требованиями СП 70.13330.2012 \\\"Несущие и ограждающие конструкции. Актуализированная редакция СНиП 3.03.01-87\\\", СНИП 12-04-2002 \\\"Безопасность труда в строительстве. Часть 2. Строительное производство\\\" и указаниями в чертежах марки \\\"КМ\\\"\",\n",
    "                            \"# Отклонения металлоконструкций при изготовлении и монтаже не должны превышать предельных значений, указанных в СП 53-101-98, СП 70.13330.2012 и в чертежах марки \\\"КМ\\\" данного основного комплекта\",\n",
    "                            \"Минимальное усилие для расчетного прикрепления элементов -- 5 тс\",\n",
    "                            \"- сварные\",\n",
    "                            \"- на болтах нормальной точности по ГОСТ Р ИСО 4014-2013\",\n",
    "                            \"# Материалы для сварки принимать по таблице Г.1 СП 16.13330.2017 в зависимости от марок стали свариваемых элементов\",\n",
    "                            \"# Монтажные швы выполнять ручной сваркой ГОСТ 9467-75 \\\"Электроды покрытые металлические для ручной дуговой сварки конструкционных и теплоустойчивых сталей. Типы\\\":\\nДля сталей C245 сварку производить электродами типа 342A\",\n",
    "                            \"# Применение прерывистых швов не допускается\",\n",
    "                            \"# Контроль качества монтажных сварных соединений должен осуществляться в соответствии с требованиями п. 10.4 СП 70.13330.2012\",\n",
    "                            \"# Болты класса точности B (нормальной точности) M20 приняты по ГОСТ Р ИСО 4014-2013 \\\"Болты с шестигранной головкой. Классы точности A и B\\\", класса прочности 8.8 по ГОСТ ISO 898-1-2014 \\\"Механические свойства крепежных изделий из углеродистых и легированных сталей. Часть 1. Болты, винты и шпильки установленных классов прочности с крупным и мелким шагом резьбы\\\"\",\n",
    "                            \"# Гайки тип 1 класса точности B приняты по ГОСТ ISO 4032-2014. При работе болтов на срез и растяжение класс прочности гаек принят в соответствии с классом прочности болтов: 5 -- при 5.6.\\nШайбы приняты круглые по ГОСТ 11371-78 исполнения 1 класса точности A.\\nДля болтов класса точности B диаметр отверстий в конструкциях, работающих на срез и смятие, принят d=dв+2.\\nВ расчетных соединениях для болтов класса точности B разность номинальных диаметров отверстий и болтов не должна превышать 3 мм с учетом предельных отклонений диаметра отверстия и их овальности 0; +0,6; и 0; +1,0 по табл. 2 ГОСТ 23118-2012\",\n",
    "                            \"# Антикоррозионная защита запроектирована в соответствии с требованиями СП 28.13330.2017 \\\"Защита строительных конструкций от коррозии\\\"\",\n",
    "                            \"# Антикоррозионную защиту производить в соответствии с требованиями СП 72.13330.2016 \\\"Защита строительных конструкций и сооружений от коррозии. СНиП 3.04.03-85\\\" и ГОСТ 12.3.005-75 \\\"Система стандартов безопасности труда (ССБТ). Работы окрасочные. Общие требования безопасности\\\"\",\n",
    "                            \"# Подготовка поверхностей перед окраской должна осуществляться в соответствии с требованиями ГОСТ 9.402-2004 путем удаления ржавчины и прокатной окалины с помощью ручного или механизированного абразивного инструмента и очистки жировых и прочих загрязнений с помощью волосяных кистей или ветоши, смоченных в уайт-спирите. Перед нанесением антикоррозионного покрытия поверхности конструкций обеспылить\",\n",
    "                            \"# Защита металлоконструкций от коррозии осуществляется окраской лакокрасочными материалами группы III: эмалью XB-7141 по ТУ 2313-016-75351875-2005 в 4 слоя по 2 слоям грунтовки XC-010 по ТУ 6-21-7-89.\\nОбщая толщина покрытия -- 160 мкм.\\nСтепень очистки поверхности стальных конструкций от окислов перед окраской -- 2 по ГОСТ 9.402-2004n\\nДопускается замена лакокрасочных материалов на сертифицированные материалы с аналогичными техническими характеристиками.\\nЦвет окраски антикоррозионного покрытия принимать в соответствии с цветом окраски существующих конструкций\",\n",
    "                            \"- подготовка поверхности металлоконструкций под окраску\",\n",
    "                            \"- приемка грунтовочного слоя антикоррозионного покрытия\",\n",
    "                            \"- визуальный контроль качества сварных швов\"],\n",
    "                   'order_num': [1, 2, 3, 1, 2, 3, 4, 5, 6, 7, 8, 9, 10, 1, 2, 3, 4, 5, 6, 1, 2, 3, 4, 5, 6, 7, 8, 9, 1, 2, 1, 1, 1, 2, 3, 1, 1, 2, 3, 4, 5, 6, 7, 8, 1, 2, 3, 4, 1, 2, 3]})\n"
   ]
  },
  {
   "cell_type": "code",
   "execution_count": 2092,
   "metadata": {},
   "outputs": [],
   "source": [
    "cursor.execute(open(\"sql/35_xx.sql\", \"r\").read())\n",
    "conn.commit()"
   ]
  },
  {
   "cell_type": "code",
   "execution_count": 2093,
   "metadata": {},
   "outputs": [
    {
     "name": "stdout",
     "output_type": "stream",
     "text": [
      "execute_values() done\n"
     ]
    }
   ],
   "source": [
    "execute_values(conn, df, \"mark_general_data_points\")"
   ]
  },
  {
   "cell_type": "markdown",
   "metadata": {},
   "source": [
    "<h1>Пункты общих указаний пользователя (id seq fail)</h1>"
   ]
  },
  {
   "cell_type": "code",
   "execution_count": 2094,
   "metadata": {},
   "outputs": [],
   "source": [
    "df = pd.DataFrame({'id': [1, 2, 3, 4, 5, 6, 7, 8, 9, 10, 11, 12, 13, 14, 15, 16, 17, 18, 19, 20, 21, 22, 23, 24, 25, 26, 27, 28, 29, 30, 31, 32, 33, 34, 35, 36, 37, 38, 39, 40, 41, 42, 43, 44, 45, 46, 47, 48, 49, 50, 51],\n",
    "                   'user_id': [1, 1, 1, 1, 1, 1, 1, 1, 1, 1, 1, 1, 1, 1, 1, 1, 1, 1, 1, 1, 1, 1, 1, 1, 1, 1, 1, 1, 1, 1, 1, 1, 1, 1, 1, 1, 1, 1, 1, 1, 1, 1, 1, 1, 1, 1, 1, 1, 1, 1, 1],\n",
    "                   'section_id': [1, 1, 1, 3, 3, 3, 3, 3, 3, 3, 3, 3, 3, 5, 5, 5, 5, 5, 5, 6, 6, 6, 6, 6, 6, 6, 6, 6, 7, 7, 8, 9, 10, 10, 10, 11, 12, 12, 12, 12, 12, 12, 12, 12, 13, 13, 13, 13, 15, 15, 15],\n",
    "                   'text': [\"- поручения от 28.02.2020 № АГЛ-35/0362\",\n",
    "                            \"- письма от 05.03.2020 № УПиН-35/0431\",\n",
    "                            \"- рекомендаций _, выполненного специалистами \\\"АО МАГНИТОГОРСКИЙ ГИПРОМЕЗ\\\"\",\n",
    "                            \"- Федеральный закон от 30.12.2009 № 384-ФЗ \\\"Технический регламент о безопасности зданий и сооружений\\\"\",\n",
    "                            \"- Федеральный закон от 22.07.2008 № 123-ФЗ \\\"Технический регламент о требованиях пожарной безопасности\\\"\",\n",
    "                            \"- СП 16.13330.2017 \\\"Стальные конструкции. Актуализированная редакция СНиП II-23-81*\\\"\",\n",
    "                            \"- СП 20.13330.2016 \\\"Нагрузки и воздействия. Актуализированная редакция СНиП 2.01.07-85*\\\"\",\n",
    "                            \"- СП 28.13330.2017 \\\"Защита строительных конструкций от коррозии. Актуализированная редакция СНиП 2.03.11-85\\\"\",\n",
    "                            \"- СП 53-102-2004 \\\"Общие правила проектирования стальных конструкций\\\"\",\n",
    "                            \"- СП 70.13330.2012 \\\"Несущие и ограждающие конструкции. Актуализированная редакция СНиП 3.03.01-87\\\"\",\n",
    "                            \"- ГОСТ 23118-2012 \\\"Конструкции стальные строительные. Общие технические условия\\\"\",\n",
    "                            \"- ГОСТ 27751-2014 \\\"Надежность строительных конструкций и оснований. Основные положения\\\"\",\n",
    "                            \"- ГОСТ 9.402-2004 \\\"Единая система защиты от коррозии и старения (ЕСЗКС). Покрытия лакокрасочные. Подготовка металлических поверхностей к окрашиванию\\\"\",\n",
    "                            \"- климатический район -- IB\",\n",
    "                            \"- расчетная температура наружного воздуха наиболее холодных суток обеспеченностью 0,98 -- минус 43 {\\degree}C\",\n",
    "                            \"- нормативное значение веса снегового покрова на 1 м$^2$ горизонтальной поверхности земли для г. Магнитогорска (согласно СП 20.13330-2016, приложение K, табл. K1) -- 1,3 кПа (130 кг/м$^2$)\",\n",
    "                            \"- нормативное значение ветрового давления для II района (согласно СП 20.13330-2016, п. 11.14, табл. 11.1) -- 0,30 кПа (30 кг/м$^2$)\",\n",
    "                            \"- зона влажности -- сухая\",\n",
    "                            \"- расчетная сейсмическая активность -- 5 баллов\",\n",
    "                            \"# Чертежи марки \\\"КМ\\\" являются исходным материалом для разработки деталировочных чертежей марки \\\"КМД\\\"\",\n",
    "                            \"# В данной рабочей документации разработано восстановление пролетных строений (усиление ферм пролетных строений, металлоконструкций по верхним и нижним поясам ферм) и восстановление антикоррозионного покрытия существующих элементов пролетных строений галереи конвейера № 706-1 УУК и КДИ аглоцеха ГОП ПАО \\\"ММК\\\"\",\n",
    "                            \"# Все работы должны выполняться специализированной организацией, имеющей свидетельство СРО на данный вид деятельности и имеющие допуск по электробезопасности\",\n",
    "                            \"# Работы производить по специально разработанному и согласованному в установленном порядке со всеми инспектирующими организациями и эксплуатацией цеха проекту производства работ (ППР) с соблюдением требований действующих нормативных документов и обязательным учетом фактического состояния существующих конструкций\",\n",
    "                            \"# При выполнении работ принять меры по обеспечению целостности и сохранности существующих сооружений и коммуникаций, находящихся в зоне производства работ\",\n",
    "                            \"# При производстве сварочных работ предусмотреть комплекс организационно-технических мероприятий по обеспечению пожарной безопасности\",\n",
    "                            \"# На всех этапах ведения демонтажных и монтажных работ обеспечить устойчивость и неизменяемость положения существующих конструкций\",\n",
    "                            \"# Перед началом работ необходимо выполнить очистку конструкций в зоне ремонта от мусора, грязи, технологической пыли\",\n",
    "                            \"# Исполнитель несет ответственность за соответствие выполненных работ чертежам. Всякое отступление от чертежей при производстве работ должно быть согласовано с организацией-разработчиком данной рабочей документации\",\n",
    "                            \"- коэффициент надежности по ответственности -- _\",\n",
    "                            \"- степень агрессивного воздействия среды -- _\",\n",
    "                            \"Марки сталей элементов конструкций приняты в зависимости от группы конструкций с учетом расчетной температуры и приведены в таблицах \\\"Ведомость элементов\\\", на схемах расположения элементов конструкций, на чертежах элементов и узлов конструкций и в спецификации металлопроката\",\n",
    "                            \"Отступления от рабочих чертежей КМ не допускаются. В случае необходимости эти отступления должны быть согласованы с организацией-разработчиком рабочих чертежей марки \\\"КМ\\\"\",\n",
    "                            \"# Изготовление металлоконструкций производить в соответствии с требованиями ГОСТ 23118-2012, СП 53-101-98 \\\"Изготовление и контроль качества стальных строительных конструкций\\\", указаниями в чертежах марки \\\"КМ\\\"\",\n",
    "                            \"# Монтаж металлоконструкций производить в соответствии с требованиями СП 70.13330.2012 \\\"Несущие и ограждающие конструкции. Актуализированная редакция СНиП 3.03.01-87\\\", СНИП 12-04-2002 \\\"Безопасность труда в строительстве. Часть 2. Строительное производство\\\" и указаниями в чертежах марки \\\"КМ\\\"\",\n",
    "                            \"# Отклонения металлоконструкций при изготовлении и монтаже не должны превышать предельных значений, указанных в СП 53-101-98, СП 70.13330.2012 и в чертежах марки \\\"КМ\\\" данного основного комплекта\",\n",
    "                            \"Минимальное усилие для расчетного прикрепления элементов -- 5 тс\",\n",
    "                            \"- сварные\",\n",
    "                            \"- на болтах нормальной точности по ГОСТ Р ИСО 4014-2013\",\n",
    "                            \"# Материалы для сварки принимать по таблице Г.1 СП 16.13330.2017 в зависимости от марок стали свариваемых элементов\",\n",
    "                            \"# Монтажные швы выполнять ручной сваркой ГОСТ 9467-75 \\\"Электроды покрытые металлические для ручной дуговой сварки конструкционных и теплоустойчивых сталей. Типы\\\":\\nДля сталей C245 сварку производить электродами типа 342A\",\n",
    "                            \"# Применение прерывистых швов не допускается\",\n",
    "                            \"# Контроль качества монтажных сварных соединений должен осуществляться в соответствии с требованиями п. 10.4 СП 70.13330.2012\",\n",
    "                            \"# Болты класса точности B (нормальной точности) M20 приняты по ГОСТ Р ИСО 4014-2013 \\\"Болты с шестигранной головкой. Классы точности A и B\\\", класса прочности 8.8 по ГОСТ ISO 898-1-2014 \\\"Механические свойства крепежных изделий из углеродистых и легированных сталей. Часть 1. Болты, винты и шпильки установленных классов прочности с крупным и мелким шагом резьбы\\\"\",\n",
    "                            \"# Гайки тип 1 класса точности B приняты по ГОСТ ISO 4032-2014. При работе болтов на срез и растяжение класс прочности гаек принят в соответствии с классом прочности болтов: 5 -- при 5.6.\\nШайбы приняты круглые по ГОСТ 11371-78 исполнения 1 класса точности A.\\nДля болтов класса точности B диаметр отверстий в конструкциях, работающих на срез и смятие, принят d=dв+2.\\nВ расчетных соединениях для болтов класса точности B разность номинальных диаметров отверстий и болтов не должна превышать 3 мм с учетом предельных отклонений диаметра отверстия и их овальности 0; +0,6; и 0; +1,0 по табл. 2 ГОСТ 23118-2012\",\n",
    "                            \"# Антикоррозионная защита запроектирована в соответствии с требованиями СП 28.13330.2017 \\\"Защита строительных конструкций от коррозии\\\"\",\n",
    "                            \"# Антикоррозионную защиту производить в соответствии с требованиями СП 72.13330.2016 \\\"Защита строительных конструкций и сооружений от коррозии. СНиП 3.04.03-85\\\" и ГОСТ 12.3.005-75 \\\"Система стандартов безопасности труда (ССБТ). Работы окрасочные. Общие требования безопасности\\\"\",\n",
    "                            \"# Подготовка поверхностей перед окраской должна осуществляться в соответствии с требованиями ГОСТ 9.402-2004 путем удаления ржавчины и прокатной окалины с помощью ручного или механизированного абразивного инструмента и очистки жировых и прочих загрязнений с помощью волосяных кистей или ветоши, смоченных в уайт-спирите. Перед нанесением антикоррозионного покрытия поверхности конструкций обеспылить\",\n",
    "                            \"# Защита металлоконструкций от коррозии осуществляется окраской лакокрасочными материалами группы III: эмалью XB-7141 по ТУ 2313-016-75351875-2005 в 4 слоя по 2 слоям грунтовки XC-010 по ТУ 6-21-7-89.\\nОбщая толщина покрытия -- 160 мкм.\\nСтепень очистки поверхности стальных конструкций от окислов перед окраской -- 2 по ГОСТ 9.402-2004n\\nДопускается замена лакокрасочных материалов на сертифицированные материалы с аналогичными техническими характеристиками.\\nЦвет окраски антикоррозионного покрытия принимать в соответствии с цветом окраски существующих конструкций\",\n",
    "                            \"- подготовка поверхности металлоконструкций под окраску\",\n",
    "                            \"- приемка грунтовочного слоя антикоррозионного покрытия\",\n",
    "                            \"- визуальный контроль качества сварных швов\"],\n",
    "                   'order_num': [1, 2, 3, 1, 2, 3, 4, 5, 6, 7, 8, 9, 10, 1, 2, 3, 4, 5, 6, 1, 2, 3, 4, 5, 6, 7, 8, 9, 1, 2, 1, 1, 1, 2, 3, 1, 1, 2, 3, 4, 5, 6, 7, 8, 1, 2, 3, 4, 1, 2, 3]})"
   ]
  },
  {
   "cell_type": "code",
   "execution_count": 2095,
   "metadata": {},
   "outputs": [],
   "source": [
    "cursor.execute(open(\"sql/35_2.sql\", \"r\").read())\n",
    "conn.commit()"
   ]
  },
  {
   "cell_type": "markdown",
   "metadata": {},
   "source": [
    "Will fail first time. Need to create users."
   ]
  },
  {
   "cell_type": "code",
   "execution_count": 2097,
   "metadata": {},
   "outputs": [
    {
     "name": "stdout",
     "output_type": "stream",
     "text": [
      "execute_values() done\n"
     ]
    }
   ],
   "source": [
    "execute_values(conn, df, \"general_data_points\")"
   ]
  },
  {
   "cell_type": "code",
   "execution_count": null,
   "metadata": {},
   "outputs": [],
   "source": []
  }
 ],
 "metadata": {
  "kernelspec": {
   "display_name": "Python 3",
   "language": "python",
   "name": "python3"
  },
  "language_info": {
   "codemirror_mode": {
    "name": "ipython",
    "version": 3
   },
   "file_extension": ".py",
   "mimetype": "text/x-python",
   "name": "python",
   "nbconvert_exporter": "python",
   "pygments_lexer": "ipython3",
   "version": "3.6.5"
  }
 },
 "nbformat": 4,
 "nbformat_minor": 4
}
