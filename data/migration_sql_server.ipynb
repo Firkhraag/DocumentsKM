{
 "cells": [
  {
   "cell_type": "markdown",
   "metadata": {},
   "source": [
    "<h1>Импорты</h1>"
   ]
  },
  {
   "cell_type": "code",
   "execution_count": 196,
   "metadata": {},
   "outputs": [],
   "source": [
    "import pandas as pd\n",
    "import numpy as np\n",
    "import pyodbc\n",
    "import random\n",
    "from sklearn.preprocessing import OrdinalEncoder\n",
    "from datetime import datetime"
   ]
  },
  {
   "cell_type": "code",
   "execution_count": 197,
   "metadata": {},
   "outputs": [],
   "source": [
    "# Connect to old database\n",
    "db_conn = pyodbc.connect('Driver={SQL Server};'\n",
    "                      'Server=BAMBI;'\n",
    "                      'Database=Pro_t;'\n",
    "                      'Trusted_Connection=yes;')"
   ]
  },
  {
   "cell_type": "code",
   "execution_count": 627,
   "metadata": {},
   "outputs": [
    {
     "name": "stdout",
     "output_type": "stream",
     "text": [
      "Connection successful\n"
     ]
    }
   ],
   "source": [
    "# Connect to new database\n",
    "try:\n",
    "    conn = pyodbc.connect('Driver={SQL Server};'\n",
    "                      'Server=BAMBI;'\n",
    "                      'Database=DocumentsKM;'\n",
    "                      'Trusted_Connection=yes;')\n",
    "    cursor = conn.cursor()\n",
    "except Exception as err:\n",
    "    cursor = None\n",
    "    print(\"Connection error:\", err)\n",
    "    \n",
    "# Check if the connection was valid\n",
    "if cursor != None:\n",
    "    print(\"Connection successful\")"
   ]
  },
  {
   "cell_type": "code",
   "execution_count": 614,
   "metadata": {},
   "outputs": [],
   "source": [
    "def to_pascal_case(snake_str):\n",
    "    components = snake_str.split('_')\n",
    "    return components[0].title() + ''.join(x.title() for x in components[1:])"
   ]
  },
  {
   "cell_type": "code",
   "execution_count": 621,
   "metadata": {},
   "outputs": [],
   "source": [
    "def execute_values(df, table_snake_case):\n",
    "    df.columns = map(to_pascal_case, df.columns)\n",
    "    df = df.replace({False: 0, True: 1})\n",
    "    table = to_pascal_case(table_snake_case)\n",
    "    cursor.execute(f\"SET IDENTITY_INSERT dbo.{table} ON\")\n",
    "    tuples = [tuple(x) for x in df.to_numpy()]\n",
    "    cols = ','.join(list(df.columns))\n",
    "    for entry in tuples:\n",
    "#         query  = \"INSERT INTO dbo.%s(%s) VALUES %s\" % (table, cols, entry)\n",
    "#         query  = \"INSERT INTO dbo.%s(%s) VALUES ( \" % (table, cols)\n",
    "        query  = \"insert into dbo.%s(%s) values (\" % (table, cols)\n",
    "        num = 1\n",
    "        for e in entry:\n",
    "            if num == len(entry):\n",
    "                query += \"?\"\n",
    "            else:\n",
    "                query += \"?, \"\n",
    "            num += 1\n",
    "        query += \")\"\n",
    "        print(query)\n",
    "        print(*entry)\n",
    "        cursor.execute(query, *entry)\n",
    "    cursor.execute(f\"SET IDENTITY_INSERT dbo.{table} OFF\")\n",
    "    conn.commit()"
   ]
  },
  {
   "cell_type": "markdown",
   "metadata": {},
   "source": [
    "<h1>Должности</h1>"
   ]
  },
  {
   "cell_type": "code",
   "execution_count": 201,
   "metadata": {},
   "outputs": [],
   "source": [
    "df = pd.read_json('post.json')"
   ]
  },
  {
   "cell_type": "code",
   "execution_count": 202,
   "metadata": {},
   "outputs": [],
   "source": [
    "df[\"name\"] = df[\"name\"].str.strip()"
   ]
  },
  {
   "cell_type": "code",
   "execution_count": 203,
   "metadata": {},
   "outputs": [],
   "source": [
    "cursor.execute(open(\"sql_server/25.sql\", \"r\").read())\n",
    "conn.commit()"
   ]
  },
  {
   "cell_type": "code",
   "execution_count": 204,
   "metadata": {},
   "outputs": [],
   "source": [
    "execute_values(df, \"positions\")"
   ]
  },
  {
   "cell_type": "markdown",
   "metadata": {},
   "source": [
    "<h1>Отделы</h1>"
   ]
  },
  {
   "cell_type": "code",
   "execution_count": 205,
   "metadata": {},
   "outputs": [],
   "source": [
    "df = pd.read_json('department.json')"
   ]
  },
  {
   "cell_type": "code",
   "execution_count": 206,
   "metadata": {},
   "outputs": [],
   "source": [
    "df = df[df[\"enable\"]]"
   ]
  },
  {
   "cell_type": "code",
   "execution_count": 207,
   "metadata": {},
   "outputs": [],
   "source": [
    "df[\"name\"] = df[\"name\"].str.strip()\n",
    "df[\"reduction\"] = df[\"reduction\"].str.strip()"
   ]
  },
  {
   "cell_type": "code",
   "execution_count": 208,
   "metadata": {},
   "outputs": [],
   "source": [
    "df.loc[62, \"name\"] = \"Строительный отдел №1-а\"\n",
    "df.loc[64, \"name\"] = \"Строительный отдел №1-б\""
   ]
  },
  {
   "cell_type": "code",
   "execution_count": 209,
   "metadata": {},
   "outputs": [],
   "source": [
    "df = df.drop([\"enable\"], axis=1)"
   ]
  },
  {
   "cell_type": "code",
   "execution_count": 210,
   "metadata": {},
   "outputs": [],
   "source": [
    "df = df.rename(columns={\"id\" : \"code\",\n",
    "                        \"reduction\": \"short_name\"\n",
    "                       })"
   ]
  },
  {
   "cell_type": "code",
   "execution_count": 211,
   "metadata": {},
   "outputs": [],
   "source": [
    "df.insert(0, 'id', range(1, len(df) + 1))"
   ]
  },
  {
   "cell_type": "code",
   "execution_count": 212,
   "metadata": {},
   "outputs": [],
   "source": [
    "df.loc[:, [\"id\", \"code\"]].to_csv(\"departments.csv\")"
   ]
  },
  {
   "cell_type": "code",
   "execution_count": 213,
   "metadata": {},
   "outputs": [],
   "source": [
    "cursor.execute(open(\"sql_server/30.sql\", \"r\").read())\n",
    "conn.commit()"
   ]
  },
  {
   "cell_type": "code",
   "execution_count": 214,
   "metadata": {},
   "outputs": [],
   "source": [
    "execute_values(df, \"departments\")"
   ]
  },
  {
   "cell_type": "markdown",
   "metadata": {},
   "source": [
    "<h1>Исполнители</h1>"
   ]
  },
  {
   "cell_type": "code",
   "execution_count": 215,
   "metadata": {},
   "outputs": [],
   "source": [
    "df = pd.read_json('staff.json')"
   ]
  },
  {
   "cell_type": "code",
   "execution_count": 216,
   "metadata": {},
   "outputs": [],
   "source": [
    "df_dep = df['department'].apply(pd.Series)"
   ]
  },
  {
   "cell_type": "code",
   "execution_count": 217,
   "metadata": {},
   "outputs": [],
   "source": [
    "df_dep = df_dep.drop([\"name\", \"reduction\", \"enable\"], axis=1)"
   ]
  },
  {
   "cell_type": "code",
   "execution_count": 218,
   "metadata": {},
   "outputs": [],
   "source": [
    "df_dep = df_dep.rename(columns={\"id\": \"code\"})"
   ]
  },
  {
   "cell_type": "code",
   "execution_count": 219,
   "metadata": {},
   "outputs": [],
   "source": [
    "dep = pd.read_csv(\"departments.csv\")\n",
    "dep = dep.drop([\"Unnamed: 0\"], axis=1)"
   ]
  },
  {
   "cell_type": "code",
   "execution_count": 220,
   "metadata": {},
   "outputs": [],
   "source": [
    "for index, row in df_dep.iterrows():\n",
    "    try:\n",
    "        df_dep.loc[index, \"department_id\"] = dep.loc[dep[\"code\"] == row[\"code\"], \"id\"].values[0]\n",
    "    except:\n",
    "        df_dep.loc[index, \"department_id\"] = None"
   ]
  },
  {
   "cell_type": "code",
   "execution_count": 221,
   "metadata": {},
   "outputs": [],
   "source": [
    "df_dep = df_dep.drop([\"code\"], axis=1)"
   ]
  },
  {
   "cell_type": "code",
   "execution_count": 222,
   "metadata": {},
   "outputs": [],
   "source": [
    "df[\"department_id\"] = df_dep"
   ]
  },
  {
   "cell_type": "code",
   "execution_count": 223,
   "metadata": {},
   "outputs": [],
   "source": [
    "df_post = df['post'].apply(pd.Series)"
   ]
  },
  {
   "cell_type": "code",
   "execution_count": 224,
   "metadata": {},
   "outputs": [],
   "source": [
    "df_post = df_post.drop([\"name\"], axis=1)"
   ]
  },
  {
   "cell_type": "code",
   "execution_count": 225,
   "metadata": {},
   "outputs": [],
   "source": [
    "df_post = df_post.rename(columns={\"id\": \"position_id\"})"
   ]
  },
  {
   "cell_type": "code",
   "execution_count": 226,
   "metadata": {},
   "outputs": [],
   "source": [
    "df[\"position_id\"] = df_post"
   ]
  },
  {
   "cell_type": "code",
   "execution_count": 227,
   "metadata": {},
   "outputs": [],
   "source": [
    "df = df.drop([\"tableNumber\", \"userName\", \"createdDate\", \"dismissedDate\", \"vacation\", \"post\", \"department\"], axis=1)"
   ]
  },
  {
   "cell_type": "code",
   "execution_count": 228,
   "metadata": {},
   "outputs": [],
   "source": [
    "df = df.dropna()"
   ]
  },
  {
   "cell_type": "code",
   "execution_count": 229,
   "metadata": {},
   "outputs": [],
   "source": [
    "df[\"name\"] = df[\"fullName\"].str.partition().loc[:, 0]"
   ]
  },
  {
   "cell_type": "code",
   "execution_count": 230,
   "metadata": {},
   "outputs": [],
   "source": [
    "df.loc[3078, \"name\"] = \"ОАО МАГНИТОГОРСКИЙ ГИПРОМЕЗ\""
   ]
  },
  {
   "cell_type": "code",
   "execution_count": 231,
   "metadata": {},
   "outputs": [],
   "source": [
    "df[\"id\"].to_csv(\"employee_ids.csv\")"
   ]
  },
  {
   "cell_type": "code",
   "execution_count": 232,
   "metadata": {},
   "outputs": [],
   "source": [
    "cursor.execute(open(\"sql_server/26.sql\", \"r\").read())\n",
    "conn.commit()"
   ]
  },
  {
   "cell_type": "code",
   "execution_count": 233,
   "metadata": {},
   "outputs": [],
   "source": [
    "execute_values(df, \"employees\")"
   ]
  },
  {
   "cell_type": "markdown",
   "metadata": {},
   "source": [
    "<h1>Пользователи</h1>"
   ]
  },
  {
   "cell_type": "code",
   "execution_count": 234,
   "metadata": {},
   "outputs": [],
   "source": [
    "cursor.execute(open(\"sql_server/xx_users.sql\", \"r\").read())\n",
    "conn.commit()"
   ]
  },
  {
   "cell_type": "markdown",
   "metadata": {},
   "source": [
    "<h1>Значения по умолчанию</h1>"
   ]
  },
  {
   "cell_type": "code",
   "execution_count": 270,
   "metadata": {},
   "outputs": [],
   "source": [
    "cursor.execute(open(\"sql_server/xx_default.sql\", \"r\").read())\n",
    "conn.commit()"
   ]
  },
  {
   "cell_type": "markdown",
   "metadata": {},
   "source": [
    "<h1>Условия эксплуатации</h1>"
   ]
  },
  {
   "cell_type": "code",
   "execution_count": 236,
   "metadata": {},
   "outputs": [],
   "source": [
    "df1 = pd.DataFrame({'id': [1, 2, 3, 4], 'name': [\"неагрессивная\", \"слабоагрессивная\", \"среднеагрессивная\", \"сильноагрессивная\"]})"
   ]
  },
  {
   "cell_type": "code",
   "execution_count": 237,
   "metadata": {},
   "outputs": [],
   "source": [
    "df2 = pd.DataFrame({'id': [1, 2, 3], 'name': [\"внутри помещения\", \"снаружи помещения\", \"в жидкостях\"]})"
   ]
  },
  {
   "cell_type": "code",
   "execution_count": 238,
   "metadata": {},
   "outputs": [],
   "source": [
    "df3 = pd.DataFrame({'id': [1, 2, 3, 4, 5], 'name': [\"нет газов (вода)\", \"газы группы А (кислоты)\", \"газы группы B, C и D (щелочи)\", \"бензин\", \"масло\"]})"
   ]
  },
  {
   "cell_type": "code",
   "execution_count": 239,
   "metadata": {},
   "outputs": [],
   "source": [
    "df4 = pd.DataFrame({'id': [1, 2, 3, 4], 'name': [\"сталь без покрытия\", \"оцинкованная сталь\", \"сталь горячего цинкования\", \"сталь с газотермическим напылением цинка\"]})"
   ]
  },
  {
   "cell_type": "code",
   "execution_count": 240,
   "metadata": {},
   "outputs": [],
   "source": [
    "df5 = pd.DataFrame({'id': [1, 2, 3, 4, 5, 6, 7, 8, 9, 10, 11, 12, 13, 14, 15, 16, 17], 'name': [\"ПФ\", \"АУ\", \"ЭЭ\", \"МА\", \"МБ\", \"НЦ\", \"ФФ\", \"ПА\", \"ПЭ\", \"ПБ\", \"ПВ\", \"СВ\", \"ПУ\", \"ЭП\", \"ПС\", \"КО\", \"АЦ\"]})"
   ]
  },
  {
   "cell_type": "code",
   "execution_count": 241,
   "metadata": {},
   "outputs": [],
   "source": [
    "df6 = pd.DataFrame({'id': [1, 2, 3, 4], 'name': [\"отсутствуют\", \"сдвигоустойчивые соединения\", \"фланцевые соединения\", \"сдвигоустойчивые и фланцевые соединения\"]})"
   ]
  },
  {
   "cell_type": "code",
   "execution_count": 242,
   "metadata": {},
   "outputs": [],
   "source": [
    "df5.loc[:, [\"id\", \"name\"]].to_csv(\"paintwork.csv\")"
   ]
  },
  {
   "cell_type": "code",
   "execution_count": 243,
   "metadata": {},
   "outputs": [],
   "source": [
    "cursor.execute(open(\"sql_server/y_1.sql\", \"r\").read())\n",
    "cursor.execute(open(\"sql_server/y_2.sql\", \"r\").read())\n",
    "cursor.execute(open(\"sql_server/y_3.sql\", \"r\").read())\n",
    "cursor.execute(open(\"sql_server/y_4.sql\", \"r\").read())\n",
    "cursor.execute(open(\"sql_server/y_5.sql\", \"r\").read())\n",
    "cursor.execute(open(\"sql_server/y_6.sql\", \"r\").read())\n",
    "conn.commit()"
   ]
  },
  {
   "cell_type": "code",
   "execution_count": 244,
   "metadata": {},
   "outputs": [],
   "source": [
    "execute_values(df1, \"env_aggressiveness\")\n",
    "execute_values(df2, \"operating_areas\")\n",
    "execute_values(df3, \"gas_groups\")\n",
    "execute_values(df4, \"construction_materials\")\n",
    "execute_values(df5, \"paintwork_types\")\n",
    "execute_values(df6, \"high_tensile_bolts_types\")"
   ]
  },
  {
   "cell_type": "markdown",
   "metadata": {},
   "source": [
    "<h1>Стойкость лакокрасочных покрытий</h1>"
   ]
  },
  {
   "cell_type": "code",
   "execution_count": 245,
   "metadata": {},
   "outputs": [],
   "source": [
    "df = pd.DataFrame({'id': [1, 2, 3, 4, 5, 6, 7, 8, 9], 'name': [\"П\", \"А\", \"Х\", \"В\", \"Б\", \"М\", \"ХЩ\", \"ХК\", \"Т\"]})"
   ]
  },
  {
   "cell_type": "code",
   "execution_count": 246,
   "metadata": {},
   "outputs": [],
   "source": [
    "df.loc[:, [\"id\", \"name\"]].to_csv(\"paintwork_fastness.csv\")"
   ]
  },
  {
   "cell_type": "code",
   "execution_count": 247,
   "metadata": {},
   "outputs": [],
   "source": [
    "cursor.execute(open(\"sql_server/y_7.sql\", \"r\").read())\n",
    "conn.commit()"
   ]
  },
  {
   "cell_type": "code",
   "execution_count": 248,
   "metadata": {},
   "outputs": [],
   "source": [
    "execute_values(df, \"paintwork_fastness\")"
   ]
  },
  {
   "cell_type": "markdown",
   "metadata": {},
   "source": [
    "<h1>Контроль сварки</h1>"
   ]
  },
  {
   "cell_type": "code",
   "execution_count": 628,
   "metadata": {},
   "outputs": [],
   "source": [
    "df = pd.DataFrame({'Id': [1, 2, 3, 4], 'Name': [\"не требуется\", \"опрыскиванием керосином\", \"ультразвуком\", \"гамма-излучением\"]})"
   ]
  },
  {
   "cell_type": "code",
   "execution_count": 629,
   "metadata": {},
   "outputs": [
    {
     "ename": "ProgrammingError",
     "evalue": "('42S01', '[42S01] [Microsoft][ODBC SQL Server Driver][SQL Server]В базе данных уже существует объект с именем \"WeldingControl\". (2714) (SQLExecDirectW)')",
     "output_type": "error",
     "traceback": [
      "\u001b[1;31m---------------------------------------------------------------------------\u001b[0m",
      "\u001b[1;31mProgrammingError\u001b[0m                          Traceback (most recent call last)",
      "\u001b[1;32m<ipython-input-629-4bafdf99c2d2>\u001b[0m in \u001b[0;36m<module>\u001b[1;34m\u001b[0m\n\u001b[1;32m----> 1\u001b[1;33m \u001b[0mcursor\u001b[0m\u001b[1;33m.\u001b[0m\u001b[0mexecute\u001b[0m\u001b[1;33m(\u001b[0m\u001b[0mopen\u001b[0m\u001b[1;33m(\u001b[0m\u001b[1;34m\"sql_server/yy_1.sql\"\u001b[0m\u001b[1;33m,\u001b[0m \u001b[1;34m\"r\"\u001b[0m\u001b[1;33m)\u001b[0m\u001b[1;33m.\u001b[0m\u001b[0mread\u001b[0m\u001b[1;33m(\u001b[0m\u001b[1;33m)\u001b[0m\u001b[1;33m)\u001b[0m\u001b[1;33m\u001b[0m\u001b[1;33m\u001b[0m\u001b[0m\n\u001b[0m\u001b[0;32m      2\u001b[0m \u001b[0mconn\u001b[0m\u001b[1;33m.\u001b[0m\u001b[0mcommit\u001b[0m\u001b[1;33m(\u001b[0m\u001b[1;33m)\u001b[0m\u001b[1;33m\u001b[0m\u001b[1;33m\u001b[0m\u001b[0m\n",
      "\u001b[1;31mProgrammingError\u001b[0m: ('42S01', '[42S01] [Microsoft][ODBC SQL Server Driver][SQL Server]В базе данных уже существует объект с именем \"WeldingControl\". (2714) (SQLExecDirectW)')"
     ]
    }
   ],
   "source": [
    "cursor.execute(open(\"sql_server/yy_1.sql\", \"r\").read())\n",
    "conn.commit()"
   ]
  },
  {
   "cell_type": "code",
   "execution_count": 630,
   "metadata": {},
   "outputs": [
    {
     "name": "stdout",
     "output_type": "stream",
     "text": [
      "insert into dbo.Weldingcontrol(Id,Name) values (?, ?)\n",
      "1 не требуется\n",
      "insert into dbo.Weldingcontrol(Id,Name) values (?, ?)\n",
      "2 опрыскиванием керосином\n",
      "insert into dbo.Weldingcontrol(Id,Name) values (?, ?)\n",
      "3 ультразвуком\n",
      "insert into dbo.Weldingcontrol(Id,Name) values (?, ?)\n",
      "4 гамма-излучением\n"
     ]
    }
   ],
   "source": [
    "execute_values(df, \"WeldingControl\")"
   ]
  },
  {
   "cell_type": "markdown",
   "metadata": {},
   "source": [
    "<h1>Типы документов</h1>"
   ]
  },
  {
   "cell_type": "code",
   "execution_count": 252,
   "metadata": {},
   "outputs": [],
   "source": [
    "df = pd.DataFrame({'id': [1, 2, 3, 4, 5], 'code': [\"л.\", \"СМ\", \"ВМП\", \"СМС\", \"РР\"], 'name': [\"Листы основного комплекта\", \"Спецификация металлопроката\", \"Ведомость металлоконструкций по видам профилей\", \"Сводная спецификация металлопроката\", \"Расчет металлоконструкций\"]})"
   ]
  },
  {
   "cell_type": "code",
   "execution_count": 253,
   "metadata": {},
   "outputs": [],
   "source": [
    "cursor.execute(open(\"sql_server/x.sql\", \"r\").read())\n",
    "conn.commit()"
   ]
  },
  {
   "cell_type": "code",
   "execution_count": 254,
   "metadata": {},
   "outputs": [],
   "source": [
    "execute_values(df, \"doc_types\")"
   ]
  },
  {
   "cell_type": "markdown",
   "metadata": {},
   "source": [
    "<h1>Грунтовка</h1>"
   ]
  },
  {
   "cell_type": "code",
   "execution_count": 261,
   "metadata": {},
   "outputs": [],
   "source": [
    "df = pd.read_sql_query('SELECT * FROM Pro_t.dbo.Грунт_аз', db_conn)"
   ]
  },
  {
   "cell_type": "code",
   "execution_count": 262,
   "metadata": {},
   "outputs": [],
   "source": [
    "df = df.replace(\"\", np.nan)"
   ]
  },
  {
   "cell_type": "code",
   "execution_count": 263,
   "metadata": {},
   "outputs": [],
   "source": [
    "df[\"Приоритет\"] = df[\"Приоритет\"].map(lambda x: 0 if pd.isna(x) else x)"
   ]
  },
  {
   "cell_type": "code",
   "execution_count": 264,
   "metadata": {},
   "outputs": [],
   "source": [
    "df = df.rename(columns={\"поз\": \"id\",\n",
    "                        \"Группа_гр\": \"group_num\",\n",
    "                        \"Наим_гр\": \"name\",\n",
    "                        \"Можно_гр\": \"can_be_primed\",\n",
    "                        \"Приоритет\": \"priority\"\n",
    "                       })"
   ]
  },
  {
   "cell_type": "code",
   "execution_count": 265,
   "metadata": {},
   "outputs": [],
   "source": [
    "cursor.execute(open(\"sql_server/4.sql\", \"r\").read())\n",
    "conn.commit()"
   ]
  },
  {
   "cell_type": "code",
   "execution_count": 269,
   "metadata": {},
   "outputs": [],
   "source": [
    "execute_values(df, \"primer\")"
   ]
  },
  {
   "cell_type": "markdown",
   "metadata": {},
   "source": [
    "<h1>Степени очистки антикоррозионной защиты</h1>"
   ]
  },
  {
   "cell_type": "code",
   "execution_count": 271,
   "metadata": {},
   "outputs": [],
   "source": [
    "df = pd.read_sql_query('SELECT * FROM Pro_t.dbo.Степени_оч_аз', db_conn)"
   ]
  },
  {
   "cell_type": "code",
   "execution_count": 272,
   "metadata": {},
   "outputs": [],
   "source": [
    "df[\"Наим_оч\"] = df[\"Наим_оч\"].str.strip()"
   ]
  },
  {
   "cell_type": "code",
   "execution_count": 273,
   "metadata": {},
   "outputs": [],
   "source": [
    "df = df.rename(columns={\"Степень_оч\": \"id\",\n",
    "                        \"Наим_оч\": \"name\"\n",
    "                       })"
   ]
  },
  {
   "cell_type": "code",
   "execution_count": 274,
   "metadata": {},
   "outputs": [],
   "source": [
    "cursor.execute(open(\"sql_server/44.sql\", \"r\").read())\n",
    "conn.commit()"
   ]
  },
  {
   "cell_type": "code",
   "execution_count": 275,
   "metadata": {},
   "outputs": [],
   "source": [
    "execute_values(df, \"corr_prot_cleaning_degrees\")"
   ]
  },
  {
   "cell_type": "markdown",
   "metadata": {},
   "source": [
    "<h1>Варианты антикоррозионной защиты </h1>"
   ]
  },
  {
   "cell_type": "code",
   "execution_count": 597,
   "metadata": {},
   "outputs": [],
   "source": [
    "df = pd.read_sql_query('SELECT * FROM Pro_t.dbo.Варианты_аз', db_conn)"
   ]
  },
  {
   "cell_type": "code",
   "execution_count": 598,
   "metadata": {},
   "outputs": [],
   "source": [
    "df[\"Тип_лп\"] = df[\"Тип_лп\"].str.strip()\n",
    "df[\"Стойкость_лп\"] = df[\"Стойкость_лп\"].str.strip()"
   ]
  },
  {
   "cell_type": "code",
   "execution_count": 599,
   "metadata": {},
   "outputs": [],
   "source": [
    "df = df.replace(\"\", np.nan)"
   ]
  },
  {
   "cell_type": "code",
   "execution_count": 600,
   "metadata": {},
   "outputs": [],
   "source": [
    "df = df.drop_duplicates()"
   ]
  },
  {
   "cell_type": "code",
   "execution_count": 601,
   "metadata": {},
   "outputs": [],
   "source": [
    "df = df.drop_duplicates(subset=[\"Зона_экс\", \"Группа_газов\", \"Агресс_ср\", \"Матер_к\", \"Тип_лп\", \"Группа_лп\", \"Стойкость_лп\"])"
   ]
  },
  {
   "cell_type": "code",
   "execution_count": 602,
   "metadata": {},
   "outputs": [],
   "source": [
    "paintwork = pd.read_csv(\"paintwork.csv\")\n",
    "paintwork = paintwork.drop([\"Unnamed: 0\"], axis=1)"
   ]
  },
  {
   "cell_type": "code",
   "execution_count": 603,
   "metadata": {},
   "outputs": [],
   "source": [
    "for index, row in df.iterrows():\n",
    "    try:\n",
    "        df.loc[index, \"paintwork_type_id\"] = paintwork.loc[paintwork[\"name\"] == row[\"Тип_лп\"], \"id\"].values[0]\n",
    "    except:\n",
    "        df.loc[index, \"paintwork_type_id\"] = None"
   ]
  },
  {
   "cell_type": "code",
   "execution_count": 604,
   "metadata": {},
   "outputs": [],
   "source": [
    "paintwork_fastness = pd.read_csv(\"paintwork_fastness.csv\")\n",
    "paintwork_fastness = paintwork_fastness.drop([\"Unnamed: 0\"], axis=1)"
   ]
  },
  {
   "cell_type": "code",
   "execution_count": 605,
   "metadata": {},
   "outputs": [],
   "source": [
    "for index, row in df.iterrows():\n",
    "    try:\n",
    "        df.loc[index, \"paintwork_fastness_id\"] = paintwork_fastness.loc[paintwork_fastness[\"name\"] == row[\"Стойкость_лп\"], \"id\"].values[0]\n",
    "    except:\n",
    "        df.loc[index, \"paintwork_fastness_id\"] = None"
   ]
  },
  {
   "cell_type": "code",
   "execution_count": 606,
   "metadata": {},
   "outputs": [],
   "source": [
    "df = df.drop([\"Тип_лп\", \"Стойкость_лп\"], axis=1)"
   ]
  },
  {
   "cell_type": "code",
   "execution_count": 607,
   "metadata": {},
   "outputs": [],
   "source": [
    "df[\"Группа_газов\"] += 1\n",
    "df[\"Агресс_ср\"] += 1\n",
    "df[\"Матер_к\"] += 1"
   ]
  },
  {
   "cell_type": "code",
   "execution_count": 608,
   "metadata": {},
   "outputs": [],
   "source": [
    "df = df.rename(columns={\"Вариант\": \"id\",\n",
    "                        \"Зона_экс\": \"operating_area_id\",\n",
    "                        \"Группа_газов\": \"gas_group_id\",\n",
    "                        \"Агресс_ср\": \"env_aggressiveness_id\",\n",
    "                        \"Матер_к\": \"construction_material_id\",\n",
    "                        \"Группа_лп\": \"paintwork_group\",\n",
    "                        \"Кол_слоев_лп\": \"paintwork_num_of_layers\",\n",
    "                        \"Толщ_лпгр\": \"paintwork_primer_thickness\",\n",
    "                        \"Кол_слоев_гр\": \"primer_num_of_layers\",\n",
    "                        \"Степень_оч\": \"cleaning_degree_id\",\n",
    "                        \"Статус_аз\": \"status\"\n",
    "                       })"
   ]
  },
  {
   "cell_type": "code",
   "execution_count": 609,
   "metadata": {},
   "outputs": [],
   "source": [
    "df = df.where(pd.notnull(df), None)"
   ]
  },
  {
   "cell_type": "code",
   "execution_count": 610,
   "metadata": {},
   "outputs": [],
   "source": [
    "cursor.execute(open(\"sql_server/1.sql\", \"r\").read())\n",
    "conn.commit()"
   ]
  },
  {
   "cell_type": "code",
   "execution_count": 622,
   "metadata": {},
   "outputs": [
    {
     "name": "stdout",
     "output_type": "stream",
     "text": [
      "insert into dbo.CorrProtVariants(Id,Operatingareaid,Gasgroupid,Envaggressivenessid,Constructionmaterialid,Paintworkgroup,Paintworknumoflayers,Paintworkprimerthickness,Primernumoflayers,Cleaningdegreeid,Status,Paintworktypeid,Paintworkfastnessid) values (?, ?, ?, ?, ?, ?, ?, ?, ?, ?, ?, ?, ?)\n",
      "1.0 1.0 1.0 1.0 1.0 1.0 1.0 30.0 1.0 3.0 1.0 1.0 1.0\n",
      "insert into dbo.CorrProtVariants(Id,Operatingareaid,Gasgroupid,Envaggressivenessid,Constructionmaterialid,Paintworkgroup,Paintworknumoflayers,Paintworkprimerthickness,Primernumoflayers,Cleaningdegreeid,Status,Paintworktypeid,Paintworkfastnessid) values (?, ?, ?, ?, ?, ?, ?, ?, ?, ?, ?, ?, ?)\n",
      "2.0 1.0 1.0 1.0 1.0 1.0 1.0 30.0 1.0 3.0 1.0 2.0 1.0\n",
      "insert into dbo.CorrProtVariants(Id,Operatingareaid,Gasgroupid,Envaggressivenessid,Constructionmaterialid,Paintworkgroup,Paintworknumoflayers,Paintworkprimerthickness,Primernumoflayers,Cleaningdegreeid,Status,Paintworktypeid,Paintworkfastnessid) values (?, ?, ?, ?, ?, ?, ?, ?, ?, ?, ?, ?, ?)\n",
      "3.0 1.0 1.0 1.0 1.0 1.0 1.0 30.0 1.0 3.0 1.0 3.0 1.0\n",
      "insert into dbo.CorrProtVariants(Id,Operatingareaid,Gasgroupid,Envaggressivenessid,Constructionmaterialid,Paintworkgroup,Paintworknumoflayers,Paintworkprimerthickness,Primernumoflayers,Cleaningdegreeid,Status,Paintworktypeid,Paintworkfastnessid) values (?, ?, ?, ?, ?, ?, ?, ?, ?, ?, ?, ?, ?)\n",
      "4.0 1.0 1.0 1.0 1.0 1.0 1.0 30.0 1.0 3.0 1.0 4.0 1.0\n",
      "insert into dbo.CorrProtVariants(Id,Operatingareaid,Gasgroupid,Envaggressivenessid,Constructionmaterialid,Paintworkgroup,Paintworknumoflayers,Paintworkprimerthickness,Primernumoflayers,Cleaningdegreeid,Status,Paintworktypeid,Paintworkfastnessid) values (?, ?, ?, ?, ?, ?, ?, ?, ?, ?, ?, ?, ?)\n",
      "5.0 1.0 1.0 1.0 1.0 1.0 1.0 30.0 1.0 3.0 1.0 6.0 1.0\n",
      "insert into dbo.CorrProtVariants(Id,Operatingareaid,Gasgroupid,Envaggressivenessid,Constructionmaterialid,Paintworkgroup,Paintworknumoflayers,Paintworkprimerthickness,Primernumoflayers,Cleaningdegreeid,Status,Paintworktypeid,Paintworkfastnessid) values (?, ?, ?, ?, ?, ?, ?, ?, ?, ?, ?, ?, ?)\n",
      "6.0 1.0 1.0 1.0 1.0 1.0 1.0 30.0 1.0 3.0 1.0 5.0 1.0\n",
      "insert into dbo.CorrProtVariants(Id,Operatingareaid,Gasgroupid,Envaggressivenessid,Constructionmaterialid,Paintworkgroup,Paintworknumoflayers,Paintworkprimerthickness,Primernumoflayers,Cleaningdegreeid,Status,Paintworktypeid,Paintworkfastnessid) values (?, ?, ?, ?, ?, ?, ?, ?, ?, ?, ?, ?, ?)\n",
      "7.0 1.0 1.0 1.0 2.0 nan nan nan nan 4.0 2.0 nan nan\n"
     ]
    },
    {
     "ename": "ProgrammingError",
     "evalue": "('42000', '[42000] [Microsoft][ODBC SQL Server Driver][SQL Server]Неверный входящий поток табличных данных (TDS) по протоколу удаленного вызова процедур (RPC). Параметр 9 (\"\"): переданное значение не является допустимым экземпляром типа данных float. Проверьте исходные данные на наличие неверных значений. Пример недопустимого значения: числовые данные, масштаб которых больше, чем точность. (8023) (SQLExecDirectW)')",
     "output_type": "error",
     "traceback": [
      "\u001b[1;31m---------------------------------------------------------------------------\u001b[0m",
      "\u001b[1;31mProgrammingError\u001b[0m                          Traceback (most recent call last)",
      "\u001b[1;32m<ipython-input-622-69a47c670100>\u001b[0m in \u001b[0;36m<module>\u001b[1;34m\u001b[0m\n\u001b[1;32m----> 1\u001b[1;33m \u001b[0mexecute_values\u001b[0m\u001b[1;33m(\u001b[0m\u001b[0mdf\u001b[0m\u001b[1;33m,\u001b[0m \u001b[1;34m\"corr_prot_variants\"\u001b[0m\u001b[1;33m)\u001b[0m\u001b[1;33m\u001b[0m\u001b[1;33m\u001b[0m\u001b[0m\n\u001b[0m",
      "\u001b[1;32m<ipython-input-621-60864b594088>\u001b[0m in \u001b[0;36mexecute_values\u001b[1;34m(df, table_snake_case)\u001b[0m\n\u001b[0;32m     20\u001b[0m         \u001b[0mprint\u001b[0m\u001b[1;33m(\u001b[0m\u001b[0mquery\u001b[0m\u001b[1;33m)\u001b[0m\u001b[1;33m\u001b[0m\u001b[1;33m\u001b[0m\u001b[0m\n\u001b[0;32m     21\u001b[0m         \u001b[0mprint\u001b[0m\u001b[1;33m(\u001b[0m\u001b[1;33m*\u001b[0m\u001b[0mentry\u001b[0m\u001b[1;33m)\u001b[0m\u001b[1;33m\u001b[0m\u001b[1;33m\u001b[0m\u001b[0m\n\u001b[1;32m---> 22\u001b[1;33m         \u001b[0mcursor\u001b[0m\u001b[1;33m.\u001b[0m\u001b[0mexecute\u001b[0m\u001b[1;33m(\u001b[0m\u001b[0mquery\u001b[0m\u001b[1;33m,\u001b[0m \u001b[1;33m*\u001b[0m\u001b[0mentry\u001b[0m\u001b[1;33m)\u001b[0m\u001b[1;33m\u001b[0m\u001b[1;33m\u001b[0m\u001b[0m\n\u001b[0m\u001b[0;32m     23\u001b[0m     \u001b[0mcursor\u001b[0m\u001b[1;33m.\u001b[0m\u001b[0mexecute\u001b[0m\u001b[1;33m(\u001b[0m\u001b[1;34mf\"SET IDENTITY_INSERT dbo.{table} OFF\"\u001b[0m\u001b[1;33m)\u001b[0m\u001b[1;33m\u001b[0m\u001b[1;33m\u001b[0m\u001b[0m\n\u001b[0;32m     24\u001b[0m     \u001b[0mconn\u001b[0m\u001b[1;33m.\u001b[0m\u001b[0mcommit\u001b[0m\u001b[1;33m(\u001b[0m\u001b[1;33m)\u001b[0m\u001b[1;33m\u001b[0m\u001b[1;33m\u001b[0m\u001b[0m\n",
      "\u001b[1;31mProgrammingError\u001b[0m: ('42000', '[42000] [Microsoft][ODBC SQL Server Driver][SQL Server]Неверный входящий поток табличных данных (TDS) по протоколу удаленного вызова процедур (RPC). Параметр 9 (\"\"): переданное значение не является допустимым экземпляром типа данных float. Проверьте исходные данные на наличие неверных значений. Пример недопустимого значения: числовые данные, масштаб которых больше, чем точность. (8023) (SQLExecDirectW)')"
     ]
    }
   ],
   "source": [
    "execute_values(df, \"corr_prot_variants\")"
   ]
  },
  {
   "cell_type": "markdown",
   "metadata": {},
   "source": [
    "<h1>Способы антикоррозионной защиты</h1>"
   ]
  },
  {
   "cell_type": "code",
   "execution_count": 314,
   "metadata": {},
   "outputs": [],
   "source": [
    "df = pd.read_sql_query('SELECT * FROM Pro_t.dbo.Способы_аз', db_conn)"
   ]
  },
  {
   "cell_type": "code",
   "execution_count": 315,
   "metadata": {},
   "outputs": [],
   "source": [
    "df[\"Наим_сп\"] = df[\"Наим_сп\"].str.strip()"
   ]
  },
  {
   "cell_type": "code",
   "execution_count": 316,
   "metadata": {},
   "outputs": [],
   "source": [
    "df[\"Агресс_ср\"] += 1\n",
    "df[\"Матер_к\"] += 1"
   ]
  },
  {
   "cell_type": "code",
   "execution_count": 317,
   "metadata": {},
   "outputs": [],
   "source": [
    "df.insert(0, 'id', range(1, len(df) + 1))"
   ]
  },
  {
   "cell_type": "code",
   "execution_count": 318,
   "metadata": {},
   "outputs": [],
   "source": [
    "df = df.rename(columns={\"Агресс_ср\": \"env_aggressiveness_id\",\n",
    "                        \"Матер_к\": \"construction_material_id\",\n",
    "                        \"Наим_сп\": \"name\",\n",
    "                        \"Статус_сп\": \"status\"\n",
    "                       })"
   ]
  },
  {
   "cell_type": "code",
   "execution_count": 319,
   "metadata": {},
   "outputs": [],
   "source": [
    "cursor.execute(open(\"sql_server/19.sql\", \"r\").read())\n",
    "conn.commit()"
   ]
  },
  {
   "cell_type": "code",
   "execution_count": 320,
   "metadata": {},
   "outputs": [
    {
     "ename": "ProgrammingError",
     "evalue": "('42000', '[42000] [Microsoft][ODBC SQL Server Driver][SQL Server]IDENTITY_INSERT уже установлен в ON для таблицы \"DocumentsKM.dbo.CorrProtVariants\". Невозможно выполнить операцию SET для таблицы \"dbo.CorrProtMethods\". (8107) (SQLExecDirectW)')",
     "output_type": "error",
     "traceback": [
      "\u001b[1;31m---------------------------------------------------------------------------\u001b[0m",
      "\u001b[1;31mProgrammingError\u001b[0m                          Traceback (most recent call last)",
      "\u001b[1;32m<ipython-input-320-e24c7d62145b>\u001b[0m in \u001b[0;36m<module>\u001b[1;34m\u001b[0m\n\u001b[1;32m----> 1\u001b[1;33m \u001b[0mexecute_values\u001b[0m\u001b[1;33m(\u001b[0m\u001b[0mdf\u001b[0m\u001b[1;33m,\u001b[0m \u001b[1;34m\"corr_prot_methods\"\u001b[0m\u001b[1;33m)\u001b[0m\u001b[1;33m\u001b[0m\u001b[1;33m\u001b[0m\u001b[0m\n\u001b[0m",
      "\u001b[1;32m<ipython-input-297-6e94dcec7e4e>\u001b[0m in \u001b[0;36mexecute_values\u001b[1;34m(df, table_snake_case)\u001b[0m\n\u001b[0;32m      3\u001b[0m     \u001b[0mdf\u001b[0m \u001b[1;33m=\u001b[0m \u001b[0mdf\u001b[0m\u001b[1;33m.\u001b[0m\u001b[0mreplace\u001b[0m\u001b[1;33m(\u001b[0m\u001b[1;33m{\u001b[0m\u001b[1;32mFalse\u001b[0m\u001b[1;33m:\u001b[0m \u001b[1;36m0\u001b[0m\u001b[1;33m,\u001b[0m \u001b[1;32mTrue\u001b[0m\u001b[1;33m:\u001b[0m \u001b[1;36m1\u001b[0m\u001b[1;33m}\u001b[0m\u001b[1;33m)\u001b[0m\u001b[1;33m\u001b[0m\u001b[1;33m\u001b[0m\u001b[0m\n\u001b[0;32m      4\u001b[0m     \u001b[0mtable\u001b[0m \u001b[1;33m=\u001b[0m \u001b[0mto_pascal_case\u001b[0m\u001b[1;33m(\u001b[0m\u001b[0mtable_snake_case\u001b[0m\u001b[1;33m)\u001b[0m\u001b[1;33m\u001b[0m\u001b[1;33m\u001b[0m\u001b[0m\n\u001b[1;32m----> 5\u001b[1;33m     \u001b[0mcursor\u001b[0m\u001b[1;33m.\u001b[0m\u001b[0mexecute\u001b[0m\u001b[1;33m(\u001b[0m\u001b[1;34mf\"SET IDENTITY_INSERT dbo.{table} ON\"\u001b[0m\u001b[1;33m)\u001b[0m\u001b[1;33m\u001b[0m\u001b[1;33m\u001b[0m\u001b[0m\n\u001b[0m\u001b[0;32m      6\u001b[0m     \u001b[0mtuples\u001b[0m \u001b[1;33m=\u001b[0m \u001b[1;33m[\u001b[0m\u001b[0mtuple\u001b[0m\u001b[1;33m(\u001b[0m\u001b[0mx\u001b[0m\u001b[1;33m)\u001b[0m \u001b[1;32mfor\u001b[0m \u001b[0mx\u001b[0m \u001b[1;32min\u001b[0m \u001b[0mdf\u001b[0m\u001b[1;33m.\u001b[0m\u001b[0mto_numpy\u001b[0m\u001b[1;33m(\u001b[0m\u001b[1;33m)\u001b[0m\u001b[1;33m]\u001b[0m\u001b[1;33m\u001b[0m\u001b[1;33m\u001b[0m\u001b[0m\n\u001b[0;32m      7\u001b[0m     \u001b[0mcols\u001b[0m \u001b[1;33m=\u001b[0m \u001b[1;34m','\u001b[0m\u001b[1;33m.\u001b[0m\u001b[0mjoin\u001b[0m\u001b[1;33m(\u001b[0m\u001b[0mlist\u001b[0m\u001b[1;33m(\u001b[0m\u001b[0mdf\u001b[0m\u001b[1;33m.\u001b[0m\u001b[0mcolumns\u001b[0m\u001b[1;33m)\u001b[0m\u001b[1;33m)\u001b[0m\u001b[1;33m\u001b[0m\u001b[1;33m\u001b[0m\u001b[0m\n",
      "\u001b[1;31mProgrammingError\u001b[0m: ('42000', '[42000] [Microsoft][ODBC SQL Server Driver][SQL Server]IDENTITY_INSERT уже установлен в ON для таблицы \"DocumentsKM.dbo.CorrProtVariants\". Невозможно выполнить операцию SET для таблицы \"dbo.CorrProtMethods\". (8107) (SQLExecDirectW)')"
     ]
    }
   ],
   "source": [
    "execute_values(df, \"corr_prot_methods\")"
   ]
  },
  {
   "cell_type": "markdown",
   "metadata": {},
   "source": [
    "<h1>Покрытия антикоррозионной защиты</h1>"
   ]
  },
  {
   "cell_type": "code",
   "execution_count": 622,
   "metadata": {},
   "outputs": [],
   "source": [
    "df = pd.read_sql_query('SELECT * FROM Pro_t.dbo.Покрытия_аз', db_conn)"
   ]
  },
  {
   "cell_type": "code",
   "execution_count": 623,
   "metadata": {},
   "outputs": [],
   "source": [
    "df = df.replace(\"\", np.nan)"
   ]
  },
  {
   "cell_type": "code",
   "execution_count": 624,
   "metadata": {},
   "outputs": [],
   "source": [
    "df[\"Тип_лп\"] = df[\"Тип_лп\"].str.strip()\n",
    "df[\"Стойкость_лп\"] = df[\"Стойкость_лп\"].str.strip()\n",
    "df[\"Наим_лп\"] = df[\"Наим_лп\"].str.strip()"
   ]
  },
  {
   "cell_type": "code",
   "execution_count": 625,
   "metadata": {},
   "outputs": [],
   "source": [
    "df[\"Приоритет\"] = df[\"Приоритет\"].map(lambda x: 0 if pd.isna(x) else x)"
   ]
  },
  {
   "cell_type": "code",
   "execution_count": 626,
   "metadata": {},
   "outputs": [],
   "source": [
    "df = df.drop_duplicates(subset=[\"Тип_лп\", \"Группа_лп\", \"Стойкость_лп\", \"Наим_лп\"])"
   ]
  },
  {
   "cell_type": "code",
   "execution_count": 627,
   "metadata": {},
   "outputs": [],
   "source": [
    "df = df.where(pd.notnull(df), None)"
   ]
  },
  {
   "cell_type": "code",
   "execution_count": null,
   "metadata": {},
   "outputs": [],
   "source": []
  },
  {
   "cell_type": "code",
   "execution_count": 628,
   "metadata": {},
   "outputs": [],
   "source": [
    "paintwork = pd.read_csv(\"paintwork.csv\")\n",
    "paintwork = paintwork.drop([\"Unnamed: 0\"], axis=1)"
   ]
  },
  {
   "cell_type": "code",
   "execution_count": 629,
   "metadata": {},
   "outputs": [],
   "source": [
    "for index, row in df.iterrows():\n",
    "    try:\n",
    "        df.loc[index, \"paintwork_type_id\"] = paintwork.loc[paintwork[\"name\"] == row[\"Тип_лп\"], \"id\"].values[0]\n",
    "    except:\n",
    "        df.loc[index, \"paintwork_type_id\"] = None"
   ]
  },
  {
   "cell_type": "code",
   "execution_count": 630,
   "metadata": {},
   "outputs": [],
   "source": [
    "paintwork_fastness = pd.read_csv(\"paintwork_fastness.csv\")\n",
    "paintwork_fastness = paintwork_fastness.drop([\"Unnamed: 0\"], axis=1)"
   ]
  },
  {
   "cell_type": "code",
   "execution_count": 631,
   "metadata": {},
   "outputs": [],
   "source": [
    "for index, row in df.iterrows():\n",
    "    try:\n",
    "        df.loc[index, \"paintwork_fastness_id\"] = paintwork_fastness.loc[paintwork_fastness[\"name\"] == row[\"Стойкость_лп\"], \"id\"].values[0]\n",
    "    except:\n",
    "        df.loc[index, \"paintwork_fastness_id\"] = None"
   ]
  },
  {
   "cell_type": "code",
   "execution_count": 632,
   "metadata": {},
   "outputs": [],
   "source": [
    "df = df.drop([\"Тип_лп\", \"Стойкость_лп\"], axis=1)"
   ]
  },
  {
   "cell_type": "code",
   "execution_count": null,
   "metadata": {},
   "outputs": [],
   "source": []
  },
  {
   "cell_type": "code",
   "execution_count": 633,
   "metadata": {},
   "outputs": [],
   "source": [
    "df = df.rename(columns={\"Покрытие\": \"id\",\n",
    "                        \"Группа_лп\": \"paintwork_group\",\n",
    "                        \"Наим_лп\": \"name\",\n",
    "                        \"Кол_сл_лп\": \"paintwork_num_of_layers\",\n",
    "                        \"Группа_гр\": \"primer_group\",\n",
    "                        \"Можно_лп\": \"can_be_painted\",\n",
    "                        \"Приоритет\": \"priority\"\n",
    "                       })"
   ]
  },
  {
   "cell_type": "code",
   "execution_count": 634,
   "metadata": {},
   "outputs": [],
   "source": [
    "cursor.execute(open(\"sql_server/17.sql\", \"r\").read())\n",
    "conn.commit()"
   ]
  },
  {
   "cell_type": "code",
   "execution_count": 635,
   "metadata": {},
   "outputs": [
    {
     "name": "stdout",
     "output_type": "stream",
     "text": [
      "execute_values() done\n"
     ]
    }
   ],
   "source": [
    "execute_values(df, \"corr_prot_coatings\")"
   ]
  },
  {
   "cell_type": "markdown",
   "metadata": {},
   "source": [
    "<h1>Виды конструкций</h1>"
   ]
  },
  {
   "cell_type": "code",
   "execution_count": 323,
   "metadata": {},
   "outputs": [],
   "source": [
    "df = pd.read_sql_query('SELECT * FROM Pro_t.dbo.Спр_видов_к', db_conn)"
   ]
  },
  {
   "cell_type": "code",
   "execution_count": 324,
   "metadata": {},
   "outputs": [],
   "source": [
    "df[\"Имя_к\"] = df[\"Имя_к\"].str.strip()"
   ]
  },
  {
   "cell_type": "code",
   "execution_count": 325,
   "metadata": {},
   "outputs": [],
   "source": [
    "df = df[df[\"Имя_к\"].isna() == False]"
   ]
  },
  {
   "cell_type": "code",
   "execution_count": 326,
   "metadata": {},
   "outputs": [],
   "source": [
    "df = df.rename(columns={\"Шифр_к\": \"id\",\n",
    "                        \"Имя_к\": \"name\"\n",
    "                       })"
   ]
  },
  {
   "cell_type": "code",
   "execution_count": 327,
   "metadata": {},
   "outputs": [],
   "source": [
    "df.loc[df[\"id\"] == 2, \"name\"] = \"Двухветвевые колонны одноэтажных производственных зданий и крановых эстакад\"\n",
    "df.loc[df[\"id\"] == 9, \"name\"] = \"Подкраново-подстропильные фермы\"\n",
    "df.loc[df[\"id\"] == 34, \"name\"] = \"Переплеты, витражи из профильных труб с деталями крепления\""
   ]
  },
  {
   "cell_type": "code",
   "execution_count": 328,
   "metadata": {},
   "outputs": [],
   "source": [
    "cursor.execute(open(\"sql_server/22.sql\", \"r\").read())\n",
    "conn.commit()"
   ]
  },
  {
   "cell_type": "code",
   "execution_count": 329,
   "metadata": {},
   "outputs": [],
   "source": [
    "execute_values(df, \"construction_types\")"
   ]
  },
  {
   "cell_type": "markdown",
   "metadata": {},
   "source": [
    "<h1>Подвиды конструкций</h1>"
   ]
  },
  {
   "cell_type": "code",
   "execution_count": 330,
   "metadata": {},
   "outputs": [],
   "source": [
    "df = pd.read_sql_query('SELECT * FROM Pro_t.dbo.Спр_видов_пк', db_conn)"
   ]
  },
  {
   "cell_type": "code",
   "execution_count": 331,
   "metadata": {},
   "outputs": [],
   "source": [
    "df[\"Имя_пк\"] = df[\"Имя_пк\"].str.strip()\n",
    "df[\"Расценка\"] = df[\"Расценка\"].str.strip()"
   ]
  },
  {
   "cell_type": "code",
   "execution_count": 332,
   "metadata": {},
   "outputs": [],
   "source": [
    "df = df.drop_duplicates()"
   ]
  },
  {
   "cell_type": "code",
   "execution_count": 333,
   "metadata": {},
   "outputs": [],
   "source": [
    "df = df.drop([\"Шифр_пк\"], axis=1)"
   ]
  },
  {
   "cell_type": "code",
   "execution_count": 334,
   "metadata": {},
   "outputs": [],
   "source": [
    "df = df.rename(columns={\"Поз_пк\": \"id\",\n",
    "                        \"Шифр_к\": \"type_id\",\n",
    "                        \"Имя_пк\": \"name\",\n",
    "                        \"Расценка\": \"valuation\"\n",
    "                       })"
   ]
  },
  {
   "cell_type": "code",
   "execution_count": 335,
   "metadata": {},
   "outputs": [],
   "source": [
    "df.loc[df[\"id\"] == 11, \"name\"] = \"высотой свыше 150 м, поставляемые отдельными элементами\"\n",
    "df.loc[df[\"id\"] == 14, \"name\"] = \"коробчатого сечения пролетом 12 м и более\"\n",
    "df.loc[df[\"id\"] == 33, \"name\"] = \"с шагом стропильных ферм 6 м\"\n",
    "df.loc[df[\"id\"] == 34, \"name\"] = \"с шагом стропильных ферм 12 м\"\n",
    "df.loc[df[\"id\"] == 49, \"name\"] = \"составного сечения из горячекатаных профилей, соединенных планками\"\n",
    "df.loc[df[\"id\"] == 51, \"name\"] = \"ветви из двутавров с парал. гранями полок, решетка из г/кат. уголков и швеллеров\"\n",
    "df.loc[df[\"id\"] == 52, \"name\"] = \"ветви из двутавров (ГОСТ 8239-72) или швеллеров и решетка из г/кат. уголков\"\n",
    "df.loc[df[\"id\"] == 69, \"name\"] = \"с поясами из тавров, стенкой из листовой стали, пролетом 6 м, массой 1 м,т:\"\n",
    "df.loc[df[\"id\"] == 70, \"name\"] = \"с поясами из тавров, стенкой из листовой стали, пролетом 12 м и более,т:\"\n",
    "df.loc[df[\"id\"] == 71, \"name\"] = \"из листовой стали пролетом 6 м, массой 1 м,т:\"\n",
    "df.loc[df[\"id\"] == 72, \"name\"] = \"из листовой стали пролетом 12 м, массой 1 м,т:\"\n",
    "df.loc[df[\"id\"] == 83, \"name\"] = \"пролетом 12 м, решетчатые из г/кат. и гнутых профилей, масса 1 м до 0.4 т\"\n",
    "df.loc[df[\"id\"] == 84, \"name\"] = \"пролетом 12 м, решетчатые из г/кат. и гнутых профилей, масса 1 м свыше 0.4 т\"\n",
    "df.loc[df[\"id\"] == 85, \"name\"] = \"пролетом 12 м, решетчатые сост. сечения из листовой стали, масса 1 м до 0.4 т\"\n",
    "df.loc[df[\"id\"] == 86, \"name\"] = \"пролетом 12 м, решетчатые сост. сечения из листовой стали, масса 1 м свыше 0.4 т\"\n",
    "df.loc[df[\"id\"] == 87, \"name\"] = \"составного сечения из листовой стали, масса 1 м,т:\"\n",
    "df.loc[df[\"id\"] == 88, \"name\"] = \"составного сечения из двух и более уголков или швеллеров, масса 1 м,т:\"\n",
    "df.loc[df[\"id\"] == 89, \"name\"] = \"из двутавров с параллельными гранями полок, масса 1 м,т:\"\n",
    "df.loc[df[\"id\"] == 90, \"name\"] = \"составного сечения из листовой стали с верхним опиранием настила, масса марки,т:\"\n",
    "df.loc[df[\"id\"] == 91, \"name\"] = \"составного сечения при пониженном опирании настила, масса марки,т:\"\n",
    "df.loc[df[\"id\"] == 92, \"name\"] = \"из двутавров с парал. гранями полок с верхним опиранием настила, масса до 1 т\"\n",
    "df.loc[df[\"id\"] == 93, \"name\"] = \"из двутавров с парал. гранями полок с верхним опиранием настила, масса свыше 1 т\"\n",
    "df.loc[df[\"id\"] == 94, \"name\"] = \"из двутавров с парал. гранями полок с пониж. опиранием настила, масса до 1 т\"\n",
    "df.loc[df[\"id\"] == 95, \"name\"] = \"из двутавров с парал. гранями полок с пониж. опиранием настила, масса свыше 1 т\"\n",
    "df.loc[df[\"id\"] == 113, \"name\"] = \"фермы из парных уголков и тавров, попер. балки из двутавров, масса 1 м до 0.5 т\"\n",
    "df.loc[df[\"id\"] == 114, \"name\"] = \"фермы из парных уголков и тавров, попер. балки из двутавров, масса 1 м до 1 т\"\n",
    "df.loc[df[\"id\"] == 115, \"name\"] = \"фермы из парных уголков и тавров, попер. балки из двутавров, масса 1 м свыше 1 т\""
   ]
  },
  {
   "cell_type": "code",
   "execution_count": 336,
   "metadata": {},
   "outputs": [],
   "source": [
    "cursor.execute(open(\"sql_server/24.sql\", \"r\").read())\n",
    "conn.commit()"
   ]
  },
  {
   "cell_type": "code",
   "execution_count": 337,
   "metadata": {},
   "outputs": [],
   "source": [
    "execute_values(df, \"construction_subtypes\")"
   ]
  },
  {
   "cell_type": "markdown",
   "metadata": {},
   "source": [
    "<h1>Типовые наименования листов</h1>"
   ]
  },
  {
   "cell_type": "code",
   "execution_count": 338,
   "metadata": {},
   "outputs": [],
   "source": [
    "df = pd.read_sql_query('SELECT * FROM Pro_t.dbo.Спр_листов_н', db_conn)"
   ]
  },
  {
   "cell_type": "code",
   "execution_count": 339,
   "metadata": {},
   "outputs": [],
   "source": [
    "df[\"ш_листа\"] = df[\"ш_листа\"].str.strip()"
   ]
  },
  {
   "cell_type": "code",
   "execution_count": 340,
   "metadata": {},
   "outputs": [],
   "source": [
    "df = df.rename(columns={\"ш_номер\": \"id\",\n",
    "                        \"ш_листа\": \"name\"\n",
    "                       })"
   ]
  },
  {
   "cell_type": "code",
   "execution_count": 341,
   "metadata": {},
   "outputs": [],
   "source": [
    "cursor.execute(open(\"sql_server/27.sql\", \"r\").read())\n",
    "conn.commit()"
   ]
  },
  {
   "cell_type": "code",
   "execution_count": 342,
   "metadata": {},
   "outputs": [],
   "source": [
    "execute_values(df, \"sheet_names\")"
   ]
  },
  {
   "cell_type": "markdown",
   "metadata": {},
   "source": [
    "<h1>Виды ссылочных документов</h1>"
   ]
  },
  {
   "cell_type": "code",
   "execution_count": 343,
   "metadata": {},
   "outputs": [],
   "source": [
    "df = pd.read_sql_query('SELECT * FROM Pro_t.dbo.Спр_ссыл_в', db_conn)"
   ]
  },
  {
   "cell_type": "code",
   "execution_count": 344,
   "metadata": {},
   "outputs": [],
   "source": [
    "df[\"Наим_вида\"] = df[\"Наим_вида\"].str.strip()\n",
    "df[\"Наим_вида\"] = df[\"Наим_вида\"].str.capitalize()"
   ]
  },
  {
   "cell_type": "code",
   "execution_count": 345,
   "metadata": {},
   "outputs": [],
   "source": [
    "df = df.drop_duplicates(subset=[\"Наим_вида\"])"
   ]
  },
  {
   "cell_type": "code",
   "execution_count": 346,
   "metadata": {},
   "outputs": [],
   "source": [
    "df = df.rename(columns={\"Вид_сд\": \"id\",\n",
    "                        \"Наим_вида\": \"name\"\n",
    "                       })"
   ]
  },
  {
   "cell_type": "code",
   "execution_count": 347,
   "metadata": {},
   "outputs": [],
   "source": [
    "cursor.execute(open(\"sql_server/40.sql\", \"r\").read())\n",
    "conn.commit()"
   ]
  },
  {
   "cell_type": "code",
   "execution_count": 348,
   "metadata": {},
   "outputs": [],
   "source": [
    "execute_values(df, \"linked_doc_types\")"
   ]
  },
  {
   "cell_type": "markdown",
   "metadata": {},
   "source": [
    "<h1>Ссылочные документы</h1>"
   ]
  },
  {
   "cell_type": "code",
   "execution_count": 631,
   "metadata": {},
   "outputs": [],
   "source": [
    "df = pd.read_sql_query('SELECT * FROM Pro_t.dbo.Спр_ссыл', db_conn)"
   ]
  },
  {
   "cell_type": "code",
   "execution_count": 632,
   "metadata": {},
   "outputs": [],
   "source": [
    "df = df.replace(\"\", np.nan)"
   ]
  },
  {
   "cell_type": "code",
   "execution_count": 633,
   "metadata": {},
   "outputs": [],
   "source": [
    "df = df.dropna()"
   ]
  },
  {
   "cell_type": "code",
   "execution_count": 634,
   "metadata": {},
   "outputs": [],
   "source": [
    "df = df.drop_duplicates(subset=[\"Шифр_сд\"])"
   ]
  },
  {
   "cell_type": "code",
   "execution_count": 635,
   "metadata": {},
   "outputs": [],
   "source": [
    "df = df.reset_index(drop=True)"
   ]
  },
  {
   "cell_type": "code",
   "execution_count": 636,
   "metadata": {},
   "outputs": [],
   "source": [
    "df[\"Шифр_сд\"] = df[\"Шифр_сд\"].str.strip()\n",
    "df[\"Обозн_сд\"] = df[\"Обозн_сд\"].str.strip()\n",
    "df[\"Наим_сд\"] = df[\"Наим_сд\"].str.strip()"
   ]
  },
  {
   "cell_type": "code",
   "execution_count": 637,
   "metadata": {},
   "outputs": [],
   "source": [
    "for i in range(0, len(df)):\n",
    "    arr = df[\"Наим_сд\"][i].split()\n",
    "    new_str = ' '.join(arr)\n",
    "    df.at[i, \"Наим_сд\"] = new_str"
   ]
  },
  {
   "cell_type": "code",
   "execution_count": 638,
   "metadata": {},
   "outputs": [],
   "source": [
    "df[\"Наим_сд\"] = df[\"Наим_сд\"].str.replace(\"возду ха\", \"воздуха\")\n",
    "df[\"Наим_сд\"] = df[\"Наим_сд\"].str.replace(\"Материриалы\", \"Материалы\")\n",
    "df[\"Наим_сд\"] = df[\"Наим_сд\"].str.replace(\"рекоментации\", \"рекомендации\")\n",
    "df[\"Наим_сд\"] = df[\"Наим_сд\"].str.replace(\"рас пашные\", \"распашные\")\n",
    "df[\"Наим_сд\"] = df[\"Наим_сд\"].str.replace(\"металличе ческих\", \"металлических\")\n",
    "df[\"Наим_сд\"] = df[\"Наим_сд\"].str.replace(\"металличе ских\", \"металлических\")\n",
    "df[\"Наим_сд\"] = df[\"Наим_сд\"].str.replace(\"электри ческие\", \"электрические\")\n",
    "df[\"Наим_сд\"] = df[\"Наим_сд\"].str.replace(\"кра ны\", \"краны\")\n",
    "df[\"Наим_сд\"] = df[\"Наим_сд\"].str.replace(\"примене нием\", \"применением\")\n",
    "df[\"Наим_сд\"] = df[\"Наим_сд\"].str.replace(\"обслуживани сосудов\", \"обслуживания сосудов\")\n",
    "df[\"Наим_сд\"] = df[\"Наим_сд\"].str.replace(\"пе реплетами\", \"переплетами\")\n",
    "df[\"Наим_сд\"] = df[\"Наим_сд\"].str.replace(\"за полнением\", \"заполнением\")\n",
    "df[\"Наим_сд\"] = df[\"Наим_сд\"].str.replace(\"линй\", \"линий\")\n",
    "df[\"Наим_сд\"] = df[\"Наим_сд\"].str.replace(\"мосто вые\", \"мостовые\")\n",
    "df[\"Наим_сд\"] = df[\"Наим_сд\"].str.replace(\"покрыти ем\", \"покрытием\")\n",
    "df[\"Наим_сд\"] = df[\"Наим_сд\"].str.replace(\"со кращенному\", \"сокращенному\")\n",
    "df[\"Наим_сд\"] = df[\"Наим_сд\"].str.replace(\"покрытияпролетами\", \"покрытия пролетами\")\n",
    "df[\"Наим_сд\"] = df[\"Наим_сд\"].str.replace(\"широкополочныых\", \"широкополочных\")\n",
    "df[\"Наим_сд\"] = df[\"Наим_сд\"].str.replace(\"тав ров\", \"тавров\")\n",
    "df[\"Наим_сд\"] = df[\"Наим_сд\"].str.replace(\"зда ний\", \"зданий\")\n",
    "df[\"Наим_сд\"] = df[\"Наим_сд\"].str.replace(\"ремонтно -монтажных\", \"ремонтно-монтажных\")\n",
    "df[\"Наим_сд\"] = df[\"Наим_сд\"].str.replace(\"пок рытия\", \"покрытия\")\n",
    "df[\"Наим_сд\"] = df[\"Наим_сд\"].str.replace(\"профилирован ным\", \"профилированным\")\n",
    "df[\"Наим_сд\"] = df[\"Наим_сд\"].str.replace(\"стеклои минераловатных\", \"стекло и минераловатных\")\n",
    "df[\"Наим_сд\"] = df[\"Наим_сд\"].str.replace(\"окон,дверей\", \"окон, дверей\")\n",
    "df[\"Наим_сд\"] = df[\"Наим_сд\"].str.replace(\"пром.зданий\", \"пром. зданий\")\n",
    "df[\"Наим_сд\"] = df[\"Наим_сд\"].str.replace(\"строитель ные\", \"строительные\")\n",
    "df[\"Наим_сд\"] = df[\"Наим_сд\"].str.replace(\"сталь ные\", \"стальные\")\n",
    "df[\"Наим_сд\"] = df[\"Наим_сд\"].str.replace(\"наруж ного\", \"наружного\")\n",
    "df[\"Наим_сд\"] = df[\"Наим_сд\"].str.replace(\"ветров.район.\", \"ветров. район.\")\n",
    "df[\"Наим_сд\"] = df[\"Наим_сд\"].str.replace(\"выше и ниже -40 град.с.  ше и ниже -40 град.с.\", \"выше -40 град.с. и ниже -40 град.с.\")\n",
    "df[\"Наим_сд\"] = df[\"Наим_сд\"].str.replace(\"алю миниевых\", \"алюминиевых\")\n",
    "df[\"Наим_сд\"] = df[\"Наим_сд\"].str.replace(\"зданий,промышленных\", \"зданий, промышленных\")\n",
    "df[\"Наим_сд\"] = df[\"Наим_сд\"].str.replace(\"предприятий.шарнирные\", \"предприятий. Шарнирные\")\n",
    "df[\"Наим_сд\"] = df[\"Наим_сд\"].str.replace(\"связей.Чертежи\", \"связей. Чертежи\")\n",
    "df[\"Наим_сд\"] = df[\"Наим_сд\"].str.replace(\"сталь ными\", \"стальными\")\n",
    "df[\"Наим_сд\"] = df[\"Наим_сд\"].str.replace(\"унифици рованных\", \"унифицированных\")\n",
    "df[\"Наим_сд\"] = df[\"Наим_сд\"].str.replace(\"уз лы\", \"узлы\")\n",
    "df[\"Наим_сд\"] = df[\"Наим_сд\"].str.replace(\"железобе тонных\", \"железобетонных\")\n",
    "df[\"Наим_сд\"] = df[\"Наим_сд\"].str.replace(\"метал лопроката\", \"металлопроката\")\n",
    "df[\"Наим_сд\"] = df[\"Наим_сд\"].str.replace(\"выпу ску\", \"выпуску\")\n",
    "df[\"Наим_сд\"] = df[\"Наим_сд\"].str.replace(\"откры вающиеся\", \"открывающиеся\")\n",
    "df[\"Наим_сд\"] = df[\"Наим_сд\"].str.replace(\"светоаэра ционных\", \"светоаэрационных\")\n",
    "df[\"Наим_сд\"] = df[\"Наим_сд\"].str.replace(\"проектирования.Рабочие\", \"проектирования. Рабочие\")\n",
    "df[\"Наим_сд\"] = df[\"Наим_сд\"].str.replace(\"черте жи\", \"чертежи\")\n",
    "df[\"Наим_сд\"] = df[\"Наим_сд\"].str.replace(\"опорн.кранами\", \"опорн. кранами\")\n",
    "df[\"Наим_сд\"] = df[\"Наим_сд\"].str.replace(\"опорынми кранами\", \"опорными кранами\")\n",
    "df[\"Наим_сд\"] = df[\"Наим_сд\"].str.replace(\"несущ.конструкций\", \"несущ. конструкций\")\n",
    "df[\"Наим_сд\"] = df[\"Наим_сд\"].str.replace(\"подв.кранами\", \"подв. кранами\")\n",
    "df[\"Наим_сд\"] = df[\"Наим_сд\"].str.replace(\"кровлей,оборудованных\", \"кровлей, оборудованных\")\n",
    "df[\"Наим_сд\"] = df[\"Наим_сд\"].str.replace(\"одноэт.произв\", \"одноэт. произв\")\n",
    "df[\"Наим_сд\"] = df[\"Наим_сд\"].str.replace(\"произв.зданий\", \"произв. зданий\")\n",
    "df[\"Наим_сд\"] = df[\"Наим_сд\"].str.replace(\"кровлей,оборудованных\", \"кровлей, оборудованных\")\n",
    "df[\"Наим_сд\"] = df[\"Наим_сд\"].str.replace(\"специальн.назначения\", \"специальн. назначения\")\n",
    "df[\"Наим_сд\"] = df[\"Наим_сд\"].str.replace(\"зданий,оборудованных\", \"зданий, оборудованных\")\n",
    "df[\"Наим_сд\"] = df[\"Наим_сд\"].str.replace(\"две рей\", \"дверей\")"
   ]
  },
  {
   "cell_type": "code",
   "execution_count": 639,
   "metadata": {},
   "outputs": [],
   "source": [
    "df = df.drop_duplicates(subset=[\"Наим_сд\"])"
   ]
  },
  {
   "cell_type": "code",
   "execution_count": 640,
   "metadata": {},
   "outputs": [],
   "source": [
    "df.loc[df[\"Наим_сд\"].str.endswith('.') == False, \"Наим_сд\"] = df[df[\"Наим_сд\"].str.endswith('.') == False][\"Наим_сд\"] + '.'"
   ]
  },
  {
   "cell_type": "code",
   "execution_count": 641,
   "metadata": {},
   "outputs": [],
   "source": [
    "df.insert(0, 'id', range(1, len(df) + 1))"
   ]
  },
  {
   "cell_type": "code",
   "execution_count": 642,
   "metadata": {},
   "outputs": [],
   "source": [
    "df = df.rename(columns={\"Шифр_сд\": \"code\",\n",
    "                        \"Вид_сд\": \"type_id\",\n",
    "                        \"Обозн_сд\": \"designation\",\n",
    "                        \"Наим_сд\": \"name\"\n",
    "                       })"
   ]
  },
  {
   "cell_type": "code",
   "execution_count": 643,
   "metadata": {},
   "outputs": [],
   "source": [
    "cursor.execute(open(\"sql_server/39.sql\", \"r\").read())\n",
    "conn.commit()"
   ]
  },
  {
   "cell_type": "code",
   "execution_count": 644,
   "metadata": {
    "scrolled": true
   },
   "outputs": [
    {
     "name": "stdout",
     "output_type": "stream",
     "text": [
      "insert into dbo.LinkedDocs(Id,Code,TypeId,Designation,Name) values (?, ?, ?, ?, ?)\n",
      "1 БК1 24.0 3.010-1 вып. 1 Баки для хранения концентрированного и водного раствора пенообразователя емкостью от 6 до 80 м3. Бак V= 6м3.\n",
      "insert into dbo.LinkedDocs(Id,Code,TypeId,Designation,Name) values (?, ?, ?, ?, ?)\n",
      "2 БК2 24.0 3.010-1 вып. 2 Баки для хранения концентрированного и водного раствора пенообразователя емкостью от 6 до 80 м3. Бак V= 8м3.\n",
      "insert into dbo.LinkedDocs(Id,Code,TypeId,Designation,Name) values (?, ?, ?, ?, ?)\n",
      "3 БК3 24.0 3.010-1 вып. 3 Баки для хранения концентрированного и водного раствора пенообразователя емкостью от 6 до 80 м3. Бак V= 20м3.\n",
      "insert into dbo.LinkedDocs(Id,Code,TypeId,Designation,Name) values (?, ?, ?, ?, ?)\n",
      "4 БК4 24.0 3.010-1 вып. 4 Баки для хранения концентрированного и водного раствора пенообразователя емкостью от 6 до 80 м3. Бак V= 40м3.\n",
      "insert into dbo.LinkedDocs(Id,Code,TypeId,Designation,Name) values (?, ?, ?, ?, ?)\n",
      "5 БК5 24.0 3.010-1 вып. 5 Баки для хранения концентрированного и водного раствора пенообразователя емкостью от 6 до 80 м3. Бак V= 60м3.\n",
      "insert into dbo.LinkedDocs(Id,Code,TypeId,Designation,Name) values (?, ?, ?, ?, ?)\n",
      "6 БК6 24.0 3.010-1 вып. 6 Баки для хранения концентрированного и водного раствора пенообразователя емкостью от 6 до 80 м3. Бак V= 80м3.\n",
      "insert into dbo.LinkedDocs(Id,Code,TypeId,Designation,Name) values (?, ?, ?, ?, ?)\n",
      "7 ВБ1 21.0 3.400-8 вып. 1 Стальные конструкции вытяжных башен с одним газоотводящим стволом. определение оптимальных параметров башен. Материалы для проектирования.\n",
      "insert into dbo.LinkedDocs(Id,Code,TypeId,Designation,Name) values (?, ?, ?, ?, ?)\n",
      "8 ВБ2 21.0 3.400-8 вып. 2 Стальные конструкции вытяжных башен с одним газоотводящим стволом. башни высотой 75 м. Чертежи КМ. Материалы для проектирования.\n",
      "insert into dbo.LinkedDocs(Id,Code,TypeId,Designation,Name) values (?, ?, ?, ?, ?)\n",
      "9 ВБ3 21.0 3.400-8 вып. 3 Стальные конструкции вытяжных башен с одним газоотводящим стволом. башни высотой 120 м. Чертежи КМ. Материалы для проектирования.\n",
      "insert into dbo.LinkedDocs(Id,Code,TypeId,Designation,Name) values (?, ?, ?, ?, ?)\n",
      "10 ВБ4 21.0 3.400-8 вып. 4 Стальные конструкции вытяжных башен с одним газоотводящим стволом. башня высотой 150 м. Чертежи КМ. Материалы для проектирования.\n",
      "insert into dbo.LinkedDocs(Id,Code,TypeId,Designation,Name) values (?, ?, ?, ?, ?)\n",
      "11 ВБ5 21.0 3.400-8 вып. 5 Стальные конструкции вытяжных башен с одним газоотводящим стволом. рекомендации по монтажу. Материалы для проектирования.\n",
      "insert into dbo.LinkedDocs(Id,Code,TypeId,Designation,Name) values (?, ?, ?, ?, ?)\n",
      "12 ВР1 12.0 1.435.9-17 вып. 0 Ворота распашные. материалы для проектирования.\n",
      "insert into dbo.LinkedDocs(Id,Code,TypeId,Designation,Name) values (?, ?, ?, ?, ?)\n",
      "13 ВР10 12.0 1.435.2-23 вып. 4 Ворота металлические распашные с автоматическим управлением и воздушно-тепловыми завесами для автобусных, троллейбусных парков и трамвайных депо. приводы.\n",
      "insert into dbo.LinkedDocs(Id,Code,TypeId,Designation,Name) values (?, ?, ?, ?, ?)\n",
      "14 ВР11 12.0 1.435.2-23 вып. 5 Ворота металлические распашные с автоматическим управлением и воздушно-тепловыми завесами для автобусных, троллейбусных парков и трамвайных депо. воздушно-тепловые завесы.\n",
      "insert into dbo.LinkedDocs(Id,Code,TypeId,Designation,Name) values (?, ?, ?, ?, ?)\n",
      "15 ВР12 12.0 1.435.2-23 вып. 6, ч.1 Ворота металлические распашные с автоматическим управлением и воздушно-тепловыми завесами для автобусных, троллейбусных парков и трамвайных депо. электрооборудование. инструкция по устройству и эксплуатации. задание заводу-изготовит.\n",
      "insert into dbo.LinkedDocs(Id,Code,TypeId,Designation,Name) values (?, ?, ?, ?, ?)\n",
      "16 ВР13 12.0 1.435.2-23 вып. 6, ч.2 Ворота металлические распашные с автоматическим управлением и воздушно-тепловыми завесами для автобусных, троллейбусных парков и трамвайных депо. электрооборудование. схемы электрические.\n",
      "insert into dbo.LinkedDocs(Id,Code,TypeId,Designation,Name) values (?, ?, ?, ?, ?)\n",
      "17 ВР14 12.0 1.435.9-24 вып. 0 Ворота откатные с полотном из различных материалов. материалы для проектирования.\n",
      "insert into dbo.LinkedDocs(Id,Code,TypeId,Designation,Name) values (?, ?, ?, ?, ?)\n",
      "18 ВР15 12.0 1.435.9-24 вып. 1 Ворота откатные с полотном из различных материалов. ворота из панели типа \"сэндвич\". Рабочие чертежи.\n",
      "insert into dbo.LinkedDocs(Id,Code,TypeId,Designation,Name) values (?, ?, ?, ?, ?)\n",
      "19 ВР16 12.0 1.435.9-24 вып. 2 Ворота откатные с полотном из различных материалов. ворота металлические с утеплителем. Рабочие чертежи.\n",
      "insert into dbo.LinkedDocs(Id,Code,TypeId,Designation,Name) values (?, ?, ?, ?, ?)\n",
      "20 ВР17 12.0 1.435.9-24 вып. 4 Ворота откатные с полотном из различных материалов. изделия комплектующие. Рабочие чертежи.\n",
      "insert into dbo.LinkedDocs(Id,Code,TypeId,Designation,Name) values (?, ?, ?, ?, ?)\n",
      "21 ВР18 12.0 1.435.9-25 вып. 0 Ворота подъемно складчатые с полотном из различных материалов. материалы для проектирования.\n",
      "insert into dbo.LinkedDocs(Id,Code,TypeId,Designation,Name) values (?, ?, ?, ?, ?)\n",
      "22 ВР19 12.0 1.435.9-25 вып. 1 Ворота подъемно-складчатые с полотном из различных материалов. ворота. Рабочие чертежи.\n",
      "insert into dbo.LinkedDocs(Id,Code,TypeId,Designation,Name) values (?, ?, ?, ?, ?)\n",
      "23 ВР2 12.0 1.435.9-17 вып. 1 Ворота распашные. Ворота из трубчатого профиля.\n",
      "insert into dbo.LinkedDocs(Id,Code,TypeId,Designation,Name) values (?, ?, ?, ?, ?)\n",
      "24 ВР20 12.0 1.435.9-25 вып. 2 Ворота подъемно-складчатые с полотном из различных материалов. механизм открывания. Рабочие чертежи.\n",
      "insert into dbo.LinkedDocs(Id,Code,TypeId,Designation,Name) values (?, ?, ?, ?, ?)\n",
      "25 ВР21 12.0 1.435.9-26 вып. 0 Ворота раздвижные с механизированным открыванием с полотном из различных материалов. материалы для проектирования.\n",
      "insert into dbo.LinkedDocs(Id,Code,TypeId,Designation,Name) values (?, ?, ?, ?, ?)\n",
      "26 ВР22 12.0 1.435.9-26 вып. 1 Ворота раздвижные с механизированным открыванием с полотном из различных материалов. ворота из панели типа \"сэндвич\". Рабочие чертежи.\n",
      "insert into dbo.LinkedDocs(Id,Code,TypeId,Designation,Name) values (?, ?, ?, ?, ?)\n",
      "27 ВР23 12.0 1.435.9-26 вып. 2 Ворота раздвижные с механизированным открыванием с полотном из различных материалов. ворота металлические с утеплителем. Рабочие чертежи.\n",
      "insert into dbo.LinkedDocs(Id,Code,TypeId,Designation,Name) values (?, ?, ?, ?, ?)\n",
      "28 ВР24 12.0 1.435.9-26 вып. 4 Ворота раздвижные с механизированным открыванием с полотном из различных материалов. изделия комплектующие. Рабочие чертежи.\n",
      "insert into dbo.LinkedDocs(Id,Code,TypeId,Designation,Name) values (?, ?, ?, ?, ?)\n",
      "29 ВР25 12.0 1.435.3-27 вып. 0 Ворота откатные с применением гнутых профилей из тонколистовой стали с механизированным открыванием. материалы для проектирования.\n",
      "insert into dbo.LinkedDocs(Id,Code,TypeId,Designation,Name) values (?, ?, ?, ?, ?)\n",
      "30 ВР26 12.0 1.435.3-27 вып. 1 Ворота откатные с применением гнутых профилей из тонколистовой стали с механизированным открыванием. ворота. Рабочие чертежи.\n",
      "insert into dbo.LinkedDocs(Id,Code,TypeId,Designation,Name) values (?, ?, ?, ?, ?)\n",
      "31 ВР27 12.0 1.435.3-27 вып. 2 Ворота откатные с применением гнутых профилей из тонколистовой стали с механизированным открыванием. ворота неутепленные. Рабочие чертежи.\n",
      "insert into dbo.LinkedDocs(Id,Code,TypeId,Designation,Name) values (?, ?, ?, ?, ?)\n",
      "32 ВР28 12.0 1.435.3-27 вып. 3 Ворота откатные с применением гнутых профилей из тонколистовой стали с механизированным открыванием. комплектующие изделия ворот. Рабочие чертежи.\n",
      "insert into dbo.LinkedDocs(Id,Code,TypeId,Designation,Name) values (?, ?, ?, ?, ?)\n",
      "33 ВР29 12.0 1.435.3-27 вып. 4 Ворота откатные с применением гнутых профилей из тонколистовой стали с механизированным открыванием. карта технического уровня и качества продукции.\n",
      "insert into dbo.LinkedDocs(Id,Code,TypeId,Designation,Name) values (?, ?, ?, ?, ?)\n",
      "34 ВР3 12.0 1.435.9-17 вып. 3 Ворота распашные. ворота из дерева. Рабочие чертежи.\n",
      "insert into dbo.LinkedDocs(Id,Code,TypeId,Designation,Name) values (?, ?, ?, ?, ?)\n",
      "35 ВР30 12.0 1.435.2-28 вып. 0 Ворота распашные для районов с температурой наружного воздуха ниже -40 град.с. указания по применению.\n",
      "insert into dbo.LinkedDocs(Id,Code,TypeId,Designation,Name) values (?, ?, ?, ?, ?)\n",
      "36 ВР31 12.0 1.435.2-28 вып. 1 Ворота распашные для районов с температурой наружного воздуха ниже -40 град.с. ворота распашные для проема 3*3 м.\n",
      "insert into dbo.LinkedDocs(Id,Code,TypeId,Designation,Name) values (?, ?, ?, ?, ?)\n",
      "37 ВР32 12.0 1.435.2-28 вып. 2 Ворота распашные для районов с температурой наружного воздуха ниже -40 град.с. ворота распашные для проема 3,6*3,6 м.\n",
      "insert into dbo.LinkedDocs(Id,Code,TypeId,Designation,Name) values (?, ?, ?, ?, ?)\n",
      "38 ВР33 12.0 1.435.2-28 вып. 3 Ворота распашные для районов с температурой наружного воздуха ниже -40 град.с. ворота распашные складчатые для проема 4,2*4,2 м. Рабочие чертежи.\n",
      "insert into dbo.LinkedDocs(Id,Code,TypeId,Designation,Name) values (?, ?, ?, ?, ?)\n",
      "39 ВР34 12.0 1.435.2-28 вып. 4 Ворота распашные для районов с температурой наружного воздуха ниже -40 град.с. ворота распашные складчатые для проема 4,8*5,4 м. Рабочие чертежи.\n",
      "insert into dbo.LinkedDocs(Id,Code,TypeId,Designation,Name) values (?, ?, ?, ?, ?)\n",
      "40 ВР35 12.0 1.435.2-29 вып. 0 Ворота телескопические. указания по применению.\n",
      "insert into dbo.LinkedDocs(Id,Code,TypeId,Designation,Name) values (?, ?, ?, ?, ?)\n",
      "41 ВР36 12.0 1.435.2-29 вып. 1 Ворота телескопические. Рабочие чертежи. части 1,2.\n",
      "insert into dbo.LinkedDocs(Id,Code,TypeId,Designation,Name) values (?, ?, ?, ?, ?)\n",
      "42 ВР4 12.0 1.435.9-17 вып. 4 Ворота распашные. рама. петля, приборы для открывания.\n",
      "insert into dbo.LinkedDocs(Id,Code,TypeId,Designation,Name) values (?, ?, ?, ?, ?)\n",
      "43 ВР5 12.0 1.435.3-22 вып. 0 Ворота откатные с применением тонколистовой стали с ручным открыванием. материалы для проектирования.\n",
      "insert into dbo.LinkedDocs(Id,Code,TypeId,Designation,Name) values (?, ?, ?, ?, ?)\n",
      "44 ВР6 12.0 1.435.3-22 вып. 1 Ворота откатные с применением тонколистовой стали с ручным открыванием. Рабочие чертежи.\n",
      "insert into dbo.LinkedDocs(Id,Code,TypeId,Designation,Name) values (?, ?, ?, ?, ?)\n",
      "45 ВР7 12.0 1.435.2-23 вып. 1 Ворота металлические распашные с автоматическим управлением и воздушно-тепловыми завесами для автобусных, троллейбусных парков и трамвайных депо. ворота троллейбусных парков и трамвайных депо.\n",
      "insert into dbo.LinkedDocs(Id,Code,TypeId,Designation,Name) values (?, ?, ?, ?, ?)\n",
      "46 ВР8 12.0 1.435.2-23 вып. 2 Ворота металлические распашные с автоматическим управлением и воздушно-тепловыми завесами для автобусных, троллейбусных парков и трамвайных депо. ворота автобусных парков.\n",
      "insert into dbo.LinkedDocs(Id,Code,TypeId,Designation,Name) values (?, ?, ?, ?, ?)\n",
      "47 ВР9 12.0 1.435.2-23 вып. 3 Ворота металлические распашные с автоматическим управлением и воздушно-тепловыми завесами для автобусных, троллейбусных парков и трамвайных депо. узлы и детали ворот.\n",
      "insert into dbo.LinkedDocs(Id,Code,TypeId,Designation,Name) values (?, ?, ?, ?, ?)\n",
      "48 ДВ1 11.0 1.436.3-19 вып. 0 Двери с применением гнутых профилей из тонколистовой стали. материалы для проектирования.\n",
      "insert into dbo.LinkedDocs(Id,Code,TypeId,Designation,Name) values (?, ?, ?, ?, ?)\n",
      "49 ДВ2 11.0 1.436.3-19 вып. 1 Двери с применением гнутых профилей из тонколистовой стали. Рабочие чертежи.\n",
      "insert into dbo.LinkedDocs(Id,Code,TypeId,Designation,Name) values (?, ?, ?, ?, ?)\n",
      "50 ДВ3 11.0 285-77 вып. 1 Двери металлические для зданий с применением легких металлических ограждающих конструкций техническое описание.\n",
      "insert into dbo.LinkedDocs(Id,Code,TypeId,Designation,Name) values (?, ?, ?, ?, ?)\n",
      "51 ДВ4 11.0 285-77 вып. 2 Двери металлические для зданий с применением легких металлических ограждающих конструкций. Рабочие чертежи. Технические условия.\n",
      "insert into dbo.LinkedDocs(Id,Code,TypeId,Designation,Name) values (?, ?, ?, ?, ?)\n",
      "52 ДВ5 11.0 2742-Э-77 Скобяные изделия для металлических дверей.\n",
      "insert into dbo.LinkedDocs(Id,Code,TypeId,Designation,Name) values (?, ?, ?, ?, ?)\n",
      "53 ДВ6 11.0 1.436.2-18 вып. 1 Дверь стальная утепленная двупольная 2ДСУ для производственных помещений.\n",
      "insert into dbo.LinkedDocs(Id,Code,TypeId,Designation,Name) values (?, ?, ?, ?, ?)\n",
      "54 ДО 27.0 М34508.01.03.500 Петля.\n",
      "insert into dbo.LinkedDocs(Id,Code,TypeId,Designation,Name) values (?, ?, ?, ?, ?)\n",
      "55 КЛ1 1.0 1.423.3-8 вып. 1 Стальные колонны одноэтажных производственных зданий без мостовых опорных кранов колонны для зданий высотой от 9.6 до 18 м бескрановых и с подвесными электрическими кранами общего назначения грузоподъемностью до 5т.\n",
      "insert into dbo.LinkedDocs(Id,Code,TypeId,Designation,Name) values (?, ?, ?, ?, ?)\n",
      "56 КЛ10 1.0 1.424.3-7 вып. 5 Стальные колонны одноэтажных производственных зданий, оборудован. мостовыми опорн. кранами колонны для зданий высотой от 10.8 до 18 м с мост.эл.кранами общего назначения г/п до 50 т с применением профилей по сокращ.сортаменту(доп.к вып.1).\n",
      "insert into dbo.LinkedDocs(Id,Code,TypeId,Designation,Name) values (?, ?, ?, ?, ?)\n",
      "57 КЛ11 1.0 1.424.3-7 вып. 1 Стальные колонны одноэтажных производственных зданий, оборудован. мостовыми опорными кранами. Колонны для зданий высотой от 10.8 до 18.0 м с мостовыми электрическими кранами общего назначения, грузоподъёмностью до 50 т. Чертежи КМ.\n",
      "insert into dbo.LinkedDocs(Id,Code,TypeId,Designation,Name) values (?, ?, ?, ?, ?)\n",
      "58 КЛ2 1.0 1.423.3-8 вып. 2 Стальные колонны одноэтажных производственных зданий без мостовых опорных кранов колонны для зданий высотой от 6 до 8.4 м бескрановых и с подвесными электрическими кранами общего назначения грузоподъемностью до 5т.\n",
      "insert into dbo.LinkedDocs(Id,Code,TypeId,Designation,Name) values (?, ?, ?, ?, ?)\n",
      "59 КЛ3 1.0 1.423.3-8 вып. 3 Стальные колонны одноэтажных производственных зданий без мостовых опорных кранов колонны для зданий с применением несущ. конструкций типа \"Молодечно\" и \"ЦНИИСК\" высотой от 4.8 до 8.4 м бескрановых и с подв. кранами г.п. до 5 т.\n",
      "insert into dbo.LinkedDocs(Id,Code,TypeId,Designation,Name) values (?, ?, ?, ?, ?)\n",
      "60 КЛ4 1.0 1.424-3 вып. 1 Стальные колонны в виде законченных заводских марок. для одноэт. произв. зданий с легкой кровлей, оборудованных мост.эл. кранами специальн. назначения.\n",
      "insert into dbo.LinkedDocs(Id,Code,TypeId,Designation,Name) values (?, ?, ?, ?, ?)\n",
      "61 КЛ5 1.0 1.424-3 вып. 2 Стальные колонны в виде законченных заводских марок. для зданий, оборудованных мостовыми кранами специального назначения г.п. 560 т.\n",
      "insert into dbo.LinkedDocs(Id,Code,TypeId,Designation,Name) values (?, ?, ?, ?, ?)\n",
      "62 КЛ6 1.0 1.424.2-11 вып. 1 Стальные колонны одноэтажных производственных зданий обьектов черной металлургии.\n",
      "insert into dbo.LinkedDocs(Id,Code,TypeId,Designation,Name) values (?, ?, ?, ?, ?)\n",
      "63 КЛ7 1.0 1.424.3-7 вып. 2 Стальные колонны одноэтажных производственных зданий, оборудован. мостовыми опорн. кранами колонны для зданий высотой 8.4 и 9.6 м с мостовыми электрическими кранами общего назначения г.п. до 20 т.\n",
      "insert into dbo.LinkedDocs(Id,Code,TypeId,Designation,Name) values (?, ?, ?, ?, ?)\n",
      "64 КЛ8 1.0 1.424.3-7 вып. 3 Стальные колонны одноэтажных производственных зданий, оборудован. мостовыми опорн. кранами колонны для зданий с применением несущ. конструкций покрыт. типа \"Молодечно\" и \"ЦНИИСК\" высотой от 8.4 до 10.8 м с мост. эл.кранами общ.назн.г/п до 20т.\n",
      "insert into dbo.LinkedDocs(Id,Code,TypeId,Designation,Name) values (?, ?, ?, ?, ?)\n",
      "65 КЛ9 1.0 1.424.3-7 вып. 4 Стальные колонны одноэтажных производственных зданий, оборудован. мостовыми опорн. кранами колонны для зданий высотой от 13.2 до 24 м с мостовыми эл. кранами общего назначения г.п. от 80 до 320 т.\n",
      "insert into dbo.LinkedDocs(Id,Code,TypeId,Designation,Name) values (?, ?, ?, ?, ?)\n",
      "66 КЭ1 19.0 ИС-01-08/67 вып. 1 Открытые крановые эстакады под мостовые электрические краны общего назначения по ГОСТ 3332-54 со стальными разрезными подкрановыми балками. Материалы для проектирования (изделия ограниченного применения).\n",
      "insert into dbo.LinkedDocs(Id,Code,TypeId,Designation,Name) values (?, ?, ?, ?, ?)\n",
      "67 КЭ2 19.0 ИС-01-08/67 вып. 2 Открытые крановые эстакады под мостовые электрические краны общего назначения по ГОСТ 3332-54 со стальными разрезными подкрановыми балками. Рабочие чертежи сборных железобетонных конструкций.\n",
      "insert into dbo.LinkedDocs(Id,Code,TypeId,Designation,Name) values (?, ?, ?, ?, ?)\n",
      "68 КЭ3 19.0 ИС-01-08/67 вып. 3 Открытые крановые эстакады под мостовые электрические краны общего назначения по ГОСТ 3332-54 со стальными разрезными подкрановыми балками.\n",
      "insert into dbo.LinkedDocs(Id,Code,TypeId,Designation,Name) values (?, ?, ?, ?, ?)\n",
      "69 КЭ4 19.0 ИС-01-08/67 вып. 4 Открытые крановые эстакады под мостовые электрические краны общего назначения по ГОСТ 3332-54 со стальными разрезными подкрановыми балками. Материалы для проектирования эстакад под краны мостовые электрические магнитные, грейферные и магнито-грейф.\n",
      "insert into dbo.LinkedDocs(Id,Code,TypeId,Designation,Name) values (?, ?, ?, ?, ?)\n",
      "70 ЛГ 25.0 ЗС2-00.00-95 Альбом заданий на проектирование строительной части лифтовых установок (серийных лифтов).\n",
      "insert into dbo.LinkedDocs(Id,Code,TypeId,Designation,Name) values (?, ?, ?, ?, ?)\n",
      "71 ЛК1 16.0 135 Стальные рамные конструкции коробчатого сечения каркаса производственных зданий типа \"Орск\". Чертежи КМД.\n",
      "insert into dbo.LinkedDocs(Id,Code,TypeId,Designation,Name) values (?, ?, ?, ?, ?)\n",
      "72 ЛП1 13.0 Т-17009 Посадочные площадки на мостовые электрические краны общего назначения г/п до 50 т. Чертежи КМ.\n",
      "insert into dbo.LinkedDocs(Id,Code,TypeId,Designation,Name) values (?, ?, ?, ?, ?)\n",
      "73 КЭ5 19.0 ИС-01-08/67 вып. 5 Открытые крановые эстакады под мостовые электрические краны общего назначения по ГОСТ 3332-54 со стальными разрезными подкрановыми балками. Материалы для проектирования открытых крановых эстакад под краны мостовые электрические общего назначен.\n",
      "insert into dbo.LinkedDocs(Id,Code,TypeId,Designation,Name) values (?, ?, ?, ?, ?)\n",
      "74 КЭ6 19.0 ИС-01-08/67 вып. 6 Открытые крановые эстакады под мостовые электрические краны общего назначения по ГОСТ 3332-54 со стальными разрезными подкрановыми балками. Материалы для проектирования открытых крановых эстакад под краны мостовые электрические магнитные, грейф.\n",
      "insert into dbo.LinkedDocs(Id,Code,TypeId,Designation,Name) values (?, ?, ?, ?, ?)\n",
      "75 ЛК2 16.0 1.420.3-15 вып. 1 Стальные конструкции каркасов типа \"Канск\" одноэтажных про изводственных зданий с применением несущих рам из прокатных широкополочных и сварных тонко стенных двутавровых балок. конструкции каркасов зданий пролетами 18 и 24 м, возводимых в районах.\n",
      "insert into dbo.LinkedDocs(Id,Code,TypeId,Designation,Name) values (?, ?, ?, ?, ?)\n",
      "76 ЛП10 13.0 5.407-135 Стальные мостики для установки светильников в производственных зданиях.\n",
      "insert into dbo.LinkedDocs(Id,Code,TypeId,Designation,Name) values (?, ?, ?, ?, ?)\n",
      "77 ЛП11 13.0 1.450.3-7.94 вып. 2 Лестницы, площадки, стремянки и ограждения стальные для производственных зданий промышленных предприятий. Конструкции из горячекатаных профилей. Чертежи КМ.\n",
      "insert into dbo.LinkedDocs(Id,Code,TypeId,Designation,Name) values (?, ?, ?, ?, ?)\n",
      "78 ЛП12 13.0 1.450.3-7.94 вып. 1 Лестницы, площадки, стремянки и ограждения стальные для производственных зданий промышленных предприятий. Конструкции из холодогнутых профилей. Чертежи КМ.\n",
      "insert into dbo.LinkedDocs(Id,Code,TypeId,Designation,Name) values (?, ?, ?, ?, ?)\n",
      "79 ЛП2 13.0 1.256.2-2 вып. 1 Металлические ограждения лестниц общественных зданий. ограждения лестниц зданий со стенами из кирпича с высотами этажей 2,8; 3,3; 3,6 и 4,2 м. Рабочие чертежи.\n",
      "insert into dbo.LinkedDocs(Id,Code,TypeId,Designation,Name) values (?, ?, ?, ?, ?)\n",
      "80 ЛП3 13.0 1.450.3-6 вып. 0 Стальные лестницы, площадки, стремянки и ограждения. материалы для проектирования.\n",
      "insert into dbo.LinkedDocs(Id,Code,TypeId,Designation,Name) values (?, ?, ?, ?, ?)\n",
      "81 ЛП4 13.0 1.450.3-6 вып. 1 Стальные лестницы, площадки, стремянки и ограждения. конструкции из холодногнутых профилей. Чертежи КМД.\n",
      "insert into dbo.LinkedDocs(Id,Code,TypeId,Designation,Name) values (?, ?, ?, ?, ?)\n",
      "82 ЛП5 13.0 1.450.3-6 вып. 2 Стальные лестницы, площадки, стремянки и ограждения. конструкции из горячекатаных профилей. Чертежи КМД.\n",
      "insert into dbo.LinkedDocs(Id,Code,TypeId,Designation,Name) values (?, ?, ?, ?, ?)\n",
      "83 ЛП6 13.0 1.450.3-4 Наружные лестницы для обслуживания стальных резервуаров. Чертежи КМ.\n",
      "insert into dbo.LinkedDocs(Id,Code,TypeId,Designation,Name) values (?, ?, ?, ?, ?)\n",
      "84 ЛП7 13.0 1.459.3-3 вып. 1 Стальные площадки для обслуживания сосудов и аппаратов. конструкции из холодногнутых профилей. Чертежи КМ.\n",
      "insert into dbo.LinkedDocs(Id,Code,TypeId,Designation,Name) values (?, ?, ?, ?, ?)\n",
      "85 ЛП8 13.0 1.459.3-3 вып. 2 Стальные площадки для обслуживания сосудов и аппаратов. конструкции из горячекатаных профилей. Чертежи КМ.\n",
      "insert into dbo.LinkedDocs(Id,Code,TypeId,Designation,Name) values (?, ?, ?, ?, ?)\n",
      "86 ЛП9 13.0 ГОСТ23120-78 Лестницы маршевые, площадки и ограждения стальные.\n",
      "insert into dbo.LinkedDocs(Id,Code,TypeId,Designation,Name) values (?, ?, ?, ?, ?)\n",
      "87 ОК1 10.0 16-81 вып. 1 Узлы окон с деревоалюминиевыми переплетами для производственных зданий. узлы. Рабочие чертежи.\n",
      "insert into dbo.LinkedDocs(Id,Code,TypeId,Designation,Name) values (?, ?, ?, ?, ?)\n",
      "88 ОК10 10.0 1.436.3-21 вып. 0 Окна с переплетами из гнуто-сварных стальных профилей и механизмы открывания. материалы для проектирования.\n",
      "insert into dbo.LinkedDocs(Id,Code,TypeId,Designation,Name) values (?, ?, ?, ?, ?)\n",
      "89 ОК11 10.0 1.436.3-21 вып. 1 Окна с переплетами из гнутосварных стальных профилей и механизмы открывания. окна с одинарными переплетами.\n",
      "insert into dbo.LinkedDocs(Id,Code,TypeId,Designation,Name) values (?, ?, ?, ?, ?)\n",
      "90 ОК12 10.0 1.436.3-21 вып. 2 Окна с переплетами из гнутосварных стальных профилей и механизмы открывания. окна с двойными раздельными переплетами. Рабочие чертежи.\n",
      "insert into dbo.LinkedDocs(Id,Code,TypeId,Designation,Name) values (?, ?, ?, ?, ?)\n",
      "91 ОК13 10.0 1.436.3-21 вып. 3 Окна с переплетами из гнутосварных стальных профилей и механизмы открывания. механизмы открывания. Рабочие чертежи.\n",
      "insert into dbo.LinkedDocs(Id,Code,TypeId,Designation,Name) values (?, ?, ?, ?, ?)\n",
      "92 ОК2 10.0 108-81 вып. 0 Окна с деревоалюминиевыми переплетами для производственных зданий. материалы для проектирования.\n",
      "insert into dbo.LinkedDocs(Id,Code,TypeId,Designation,Name) values (?, ?, ?, ?, ?)\n",
      "93 ОК3 10.0 108-81 вып. 1 Окна с деревоалюминиевыми переплетами для производственных зданий. окна. Рабочие чертежи.\n",
      "insert into dbo.LinkedDocs(Id,Code,TypeId,Designation,Name) values (?, ?, ?, ?, ?)\n",
      "94 ОК4 10.0 1.436-8 вып. 1 Окна панельные стальные с заполнением профильным стеклом коробчатого и швеллерного типа указания по применению и изготовлению панелей.\n",
      "insert into dbo.LinkedDocs(Id,Code,TypeId,Designation,Name) values (?, ?, ?, ?, ?)\n",
      "95 ОК5 10.0 1.436-8 вып. 2 Окна панельные стальные с заполнением профильным стеклом коробчатого и швеллерного типа Рабочие чертежи панелей.\n",
      "insert into dbo.LinkedDocs(Id,Code,TypeId,Designation,Name) values (?, ?, ?, ?, ?)\n",
      "96 ОК6 10.0 1.436.3-16 вып. 0 Окна с переплетами из гнутых профилей изготавливаемых из тонколистовой стали, и механизмы открывания. материалы для проектирования.\n",
      "insert into dbo.LinkedDocs(Id,Code,TypeId,Designation,Name) values (?, ?, ?, ?, ?)\n",
      "97 ОК7 10.0 1.436.3-16 вып. 1 Окна с переплетами из гнутых профилей изготавливаемых из тонколистовой стали, и механизмы открывания. окна, фрамуги, створки. Рабочие чертежи.\n",
      "insert into dbo.LinkedDocs(Id,Code,TypeId,Designation,Name) values (?, ?, ?, ?, ?)\n",
      "98 ОК8 10.0 1.436.3-16 вып. 2 Окна с переплетами из гнутых профилей изготавливаемых из тонколистовой стали, и механизмы открывания. механизмы открывания. Рабочие чертежи.\n",
      "insert into dbo.LinkedDocs(Id,Code,TypeId,Designation,Name) values (?, ?, ?, ?, ?)\n",
      "99 ОК9 10.0 1.436.3-16 вып. 3 Окна с переплетами из гнутых профилей изготавливаемых из тонколистовой стали, и механизмы открывания. детали окон.\n",
      "insert into dbo.LinkedDocs(Id,Code,TypeId,Designation,Name) values (?, ?, ?, ?, ?)\n",
      "100 ОЛ1 22.0 3.407-68/73 том 1 Унифицированные стальные нормальные опоры ВЛ 35, 1110 и 150 кв (3078тм). пояснительная записка.\n",
      "insert into dbo.LinkedDocs(Id,Code,TypeId,Designation,Name) values (?, ?, ?, ?, ?)\n",
      "101 ОЛ10 22.0 3.407-68/73 том 10 Унифицированные стальные нормальные опоры ВЛ 35, 1110 и 150 кв (3078тм). рабочие чертежи анкерно-угловых опор ВЛ 110-150 кв.\n",
      "insert into dbo.LinkedDocs(Id,Code,TypeId,Designation,Name) values (?, ?, ?, ?, ?)\n",
      "102 ОЛ11 22.0 3.407-68/73 том 11 Унифицированные стальные нормальные опоры ВЛ 35, 1110 и 150 кв (3078тм). нагрузки на фундаменты.\n",
      "insert into dbo.LinkedDocs(Id,Code,TypeId,Designation,Name) values (?, ?, ?, ?, ?)\n",
      "103 ОЛ12 22.0 3.407-68/73 том 12 Унифицированные стальные нормальные опоры ВЛ 35, 1110 и 150 кв (3078тм). калькуляция стоимости.\n",
      "insert into dbo.LinkedDocs(Id,Code,TypeId,Designation,Name) values (?, ?, ?, ?, ?)\n",
      "104 ОЛ13 22.0 3.407-68/73 том 13 Унифицированные стальные нормальные опоры ВЛ 35, 1110 и 150 кв (3078тм). патентный формуляр.\n",
      "insert into dbo.LinkedDocs(Id,Code,TypeId,Designation,Name) values (?, ?, ?, ?, ?)\n",
      "105 ОЛ14 22.0 3.407-94 Унифицированные стальные специальные опоры ВЛ 35, 110 и 150 кв.\n",
      "insert into dbo.LinkedDocs(Id,Code,TypeId,Designation,Name) values (?, ?, ?, ?, ?)\n",
      "106 ОЛ15 22.0 3.407-99 Унифицированные стальные специальные опоры ВЛ 220 и 330 кв.\n",
      "insert into dbo.LinkedDocs(Id,Code,TypeId,Designation,Name) values (?, ?, ?, ?, ?)\n",
      "107 ОЛ16 22.0 3.407-114 вып. 1 Унифицированные стальные одностоечные опоры ВЛ 220-330 кв на оттяжках. пояснительная записка.\n",
      "insert into dbo.LinkedDocs(Id,Code,TypeId,Designation,Name) values (?, ?, ?, ?, ?)\n",
      "108 ОЛ17 22.0 3.407-114 вып. 2 Унифицированные стальные одностоечные опоры ВЛ 220-330 кв на оттяжках. Рабочие чертежи.\n",
      "insert into dbo.LinkedDocs(Id,Code,TypeId,Designation,Name) values (?, ?, ?, ?, ?)\n",
      "109 ОЛ19 22.0 3.407-117 вып. 1 Унифицированные опоры ВЛ 220 330 кв с применением горячекатанных тонкостенных угловых профилей. пояснительная записка.\n",
      "insert into dbo.LinkedDocs(Id,Code,TypeId,Designation,Name) values (?, ?, ?, ?, ?)\n",
      "110 ОЛ2 22.0 3.407-68/73 том 2 Унифицированные стальные нормальные опоры ВЛ 35, 1110 и 150 кв (3078тм). расчеты промежуточных опор ВЛ 35 кв.\n",
      "insert into dbo.LinkedDocs(Id,Code,TypeId,Designation,Name) values (?, ?, ?, ?, ?)\n",
      "111 ОЛ20 22.0 3.407-117 вып. 2 Унифицированные опоры ВЛ 220 330 кв с применением горячекатанных тонкостенных угловых профилей. Рабочие чертежи опор ВЛ 220 кв.\n",
      "insert into dbo.LinkedDocs(Id,Code,TypeId,Designation,Name) values (?, ?, ?, ?, ?)\n",
      "112 ОЛ21 22.0 3.407-117 вып. 3 Унифицированные опоры ВЛ 220 330 кв с применением горячекатанных тонкостенных угловых профилей. Рабочие чертежи опор ВЛ 330 кв.\n",
      "insert into dbo.LinkedDocs(Id,Code,TypeId,Designation,Name) values (?, ?, ?, ?, ?)\n",
      "113 ОЛ22 22.0 3.407-119 вып. 1 Унифицированные опоры ВЛ 35 150 кв с применением горячекатанных тонкостенных угловых профилей. пояснительная записка.\n",
      "insert into dbo.LinkedDocs(Id,Code,TypeId,Designation,Name) values (?, ?, ?, ?, ?)\n",
      "114 ОЛ23 22.0 3.407-119 вып. 2 Унифицированные опоры ВЛ 35 150 кв с применением горячекатанных тонкостенных угловых профилей. Рабочие чертежи опор ВЛ 35 кв.\n",
      "insert into dbo.LinkedDocs(Id,Code,TypeId,Designation,Name) values (?, ?, ?, ?, ?)\n",
      "115 ОЛ24 22.0 3.407-119 вып. 3 Унифицированные опоры ВЛ 35 150 кв с применением горячекатанных тонкостенных угловых профилей. Рабочие чертежи опор ВЛ 110, 150 кв.\n",
      "insert into dbo.LinkedDocs(Id,Code,TypeId,Designation,Name) values (?, ?, ?, ?, ?)\n",
      "116 ОЛ25 22.0 3.407-120 вып. 1 Унифицированные стальные анкерно-угловые опоры ВЛ 220 и 330 кв на малые марки проводов и малые углы поворота. для строительства в I-IV районах по гололеду. пояснительная записка.\n",
      "insert into dbo.LinkedDocs(Id,Code,TypeId,Designation,Name) values (?, ?, ?, ?, ?)\n",
      "117 ОЛ26 22.0 3.407-120 вып. 2 Унифицированные стальные анкерно-угловые опоры ВЛ 220 и 330 кв на малые марки проводов и малые углы поворота. для строительства в I-IV районах по гололеду. Рабочие чертежи опор ВЛ 220 кв.\n",
      "insert into dbo.LinkedDocs(Id,Code,TypeId,Designation,Name) values (?, ?, ?, ?, ?)\n",
      "118 ОЛ27 22.0 3.407-120 вып. 3 Унифицированные стальные анкерно-угловые опоры ВЛ 220 и 330 кв на малые марки проводов и малые углы поворота. для строительства в I-IV районах по гололеду. Рабочие чертежи опор ВЛ 330 кв.\n",
      "insert into dbo.LinkedDocs(Id,Code,TypeId,Designation,Name) values (?, ?, ?, ?, ?)\n",
      "119 ОЛ28 22.0 3.407.2-132 вып. 1 Металлические опоры воздушных линий электропередачи напряжением 6-10 и 36 кв с малыми сечениями проводов через инженерные сооружения. болтовые опоры под горячую оцинковку.\n",
      "insert into dbo.LinkedDocs(Id,Code,TypeId,Designation,Name) values (?, ?, ?, ?, ?)\n",
      "120 ОЛ29 22.0 3.407.2-132 вып. 2 Металлические опоры воздушных линий электропередачи напряжением 6-10 и 36 кв с малыми сечениями проводов через инженерные сооружения. сварные нецинкуемые опоры.\n",
      "insert into dbo.LinkedDocs(Id,Code,TypeId,Designation,Name) values (?, ?, ?, ?, ?)\n",
      "121 ОЛ3 22.0 3.407-68/73 том 3 Унифицированные стальные нормальные опоры ВЛ 35, 1110 и 150 кв (3078тм). расчеты анкерно-угловых опор ВЛ 35 кв.\n",
      "insert into dbo.LinkedDocs(Id,Code,TypeId,Designation,Name) values (?, ?, ?, ?, ?)\n",
      "122 ОЛ30 22.0 3.407.2-134 вып. 0 Стальные опоры ВЛ 750 кв. Материалы для проектирования.\n",
      "insert into dbo.LinkedDocs(Id,Code,TypeId,Designation,Name) values (?, ?, ?, ?, ?)\n",
      "123 ОЛ31 22.0 3.407.2-134 вып. 1 Стальные опоры ВЛ 750 кв. Промежуточные портальные опоры на оттяжках. Чертежи КМ.\n",
      "insert into dbo.LinkedDocs(Id,Code,TypeId,Designation,Name) values (?, ?, ?, ?, ?)\n",
      "124 ОЛ32 22.0 3.407.2-134 вып. 2 Стальные опоры ВЛ 750 кв. Промежуточная у-образная опора на оттяжках \"набла\". Чертежи КМ.\n",
      "insert into dbo.LinkedDocs(Id,Code,TypeId,Designation,Name) values (?, ?, ?, ?, ?)\n",
      "125 ОЛ33 22.0 3.407.2-134 вып. 3 Стальные опоры ВЛ 750 кв. Промежуточные портальные свободностоящие опоры. Чертежи КМ.\n",
      "insert into dbo.LinkedDocs(Id,Code,TypeId,Designation,Name) values (?, ?, ?, ?, ?)\n",
      "126 ОЛ34 22.0 3.407.2-134 вып. 4 Стальные опоры ВЛ 750 кв. Анкерно-угловые трехстоечные свободностоящие опоры. Чертежи КМ.\n",
      "insert into dbo.LinkedDocs(Id,Code,TypeId,Designation,Name) values (?, ?, ?, ?, ?)\n",
      "127 ОЛ35 22.0 3.407.2-162 вып.4 Стальные элементы порталов ОРУ 35-150 кВ.\n",
      "insert into dbo.LinkedDocs(Id,Code,TypeId,Designation,Name) values (?, ?, ?, ?, ?)\n",
      "128 ОЛ4 22.0 3.407-68/73 том 4 Унифицированные стальные нормальные опоры ВЛ 35, 1110 и 150 кв (3078тм). расчеты промежуточных опор ВЛ 110 кв.\n",
      "insert into dbo.LinkedDocs(Id,Code,TypeId,Designation,Name) values (?, ?, ?, ?, ?)\n",
      "129 ОЛ5 22.0 3.407-68/73 том 5 Унифицированные стальные нормальные опоры ВЛ 35, 1110 и 150 кв (3078тм). расчеты промежуточных опор ВЛ 150 кв.\n",
      "insert into dbo.LinkedDocs(Id,Code,TypeId,Designation,Name) values (?, ?, ?, ?, ?)\n",
      "130 ОЛ6 22.0 3.407-68/73 том 6 Унифицированные стальные нормальные опоры ВЛ 35, 1110 и 150 кв (3078тм). расчеты анкерно-угловых опор ВЛ 110-150 кв.\n",
      "insert into dbo.LinkedDocs(Id,Code,TypeId,Designation,Name) values (?, ?, ?, ?, ?)\n",
      "131 ОЛ7 22.0 3.407-68/73 том 7 Унифицированные стальные нормальные опоры ВЛ 35, 1110 и 150 кв (3078тм). Рабочие чертежи промежуточных опор ВЛ 35 кв.\n",
      "insert into dbo.LinkedDocs(Id,Code,TypeId,Designation,Name) values (?, ?, ?, ?, ?)\n",
      "132 ОЛ8 22.0 3.407-68/73 том 8 Унифицированные стальные нормальные опоры ВЛ 35, 1110 и 150 кв (3078тм). рабочие чертежи анкерно-угловых опор ВЛ 35 кв.\n",
      "insert into dbo.LinkedDocs(Id,Code,TypeId,Designation,Name) values (?, ?, ?, ?, ?)\n",
      "133 ОЛ9 22.0 3.407-68/73 том 9 Унифицированные стальные нормальные опоры ВЛ 35, 1110 и 150 кв (3078тм). рабочие чертежи промежуточных опор ВЛ 110 и 150 кв.\n"
     ]
    },
    {
     "name": "stdout",
     "output_type": "stream",
     "text": [
      "insert into dbo.LinkedDocs(Id,Code,TypeId,Designation,Name) values (?, ?, ?, ?, ?)\n",
      "134 ПБ1 8.0 7-Э10-80/85 Стальные подкрановые балки путей подвесного транспорта пролетом 12 м, грузоподъемностью до 5 т. Чертежи КМ.\n",
      "insert into dbo.LinkedDocs(Id,Code,TypeId,Designation,Name) values (?, ?, ?, ?, ?)\n",
      "135 ПБ10 8.0 1.426.2-3 вып. 8 Стальные подкрановые балки. разрезные подкрановые балки пролетами 6,12 и 18 м под мостовые электричес. краны общего назначения грузоподъемностью до 500 т с учетом технологических нагрузок. Чертежи КМ.\n",
      "insert into dbo.LinkedDocs(Id,Code,TypeId,Designation,Name) values (?, ?, ?, ?, ?)\n",
      "136 ПБ11 8.0 1.426.2-7 вып. 1 Балки подкрановые стальные под мостовые опорные краны. балки пролетами 6 и 12 м раз резные под однобалочные краны грузоподъемностью до 5 т. Чертежи КМ.\n",
      "insert into dbo.LinkedDocs(Id,Code,TypeId,Designation,Name) values (?, ?, ?, ?, ?)\n",
      "137 ПБ12 8.0 1.462-8 вып. 1 Стальные подкрановые балки под краны специального назначения для об'ектов черной металлургии. разрезные подкрановые балки пролетами 12 и 24 м.\n",
      "insert into dbo.LinkedDocs(Id,Code,TypeId,Designation,Name) values (?, ?, ?, ?, ?)\n",
      "138 ПБ13 8.0 1.462.2-7 вып.2 Балки подкрановые стальные под мостовые опорные краны. Балки пролетом 6 м разрезные под ручные краны.\n",
      "insert into dbo.LinkedDocs(Id,Code,TypeId,Designation,Name) values (?, ?, ?, ?, ?)\n",
      "139 ПБ14 8.0 1.426.2-6 вып. 1/91 Балки путей подвесного транспорта. Балки пролетами 3,4 и 6м.\n",
      "insert into dbo.LinkedDocs(Id,Code,TypeId,Designation,Name) values (?, ?, ?, ?, ?)\n",
      "140 ПБ15 8.0 1.426.2-7 вып. 6 Стальные подкрановые балки. Детали крепления рельсов к подкрановым балкам и стыки рельсов. Чертежи КМ.\n",
      "insert into dbo.LinkedDocs(Id,Code,TypeId,Designation,Name) values (?, ?, ?, ?, ?)\n",
      "141 ПБ2 8.0 1.462-2 вып. 2 Стальные конструкции путей подвесного транспорта. для произ водственных зданий с применением в покрытии стропильных ферм из труб и пространственно -стержневых систем типа \"модуль\" и \"кисловодск\".\n",
      "insert into dbo.LinkedDocs(Id,Code,TypeId,Designation,Name) values (?, ?, ?, ?, ?)\n",
      "142 ПБ3 8.0 1.426.2-7 вып. 3 Балки подкрановые стальные под мостовые опорные краны . Балки пролетом 6 и 12 м, разрезные, под краны общего назначения, грузоподъемностью до 50 т. Чертежи КМ.\n",
      "insert into dbo.LinkedDocs(Id,Code,TypeId,Designation,Name) values (?, ?, ?, ?, ?)\n",
      "143 ПБ4 8.0 1.426.2-6 вып. 1 Балки путей подвесного транспорта. балки пролетами 3,4 и 6 м. Чертежи КМ.\n",
      "insert into dbo.LinkedDocs(Id,Code,TypeId,Designation,Name) values (?, ?, ?, ?, ?)\n",
      "144 ПБ5 8.0 1.426.2-3 вып. 3 Стальные подкрановые балки. детали крепления рельсов к под крановым балкам и стыки рельсов. Чертежи КМ.\n",
      "insert into dbo.LinkedDocs(Id,Code,TypeId,Designation,Name) values (?, ?, ?, ?, ?)\n",
      "145 ПБ6 8.0 1.426.2-3 вып. 4 Стальные подкрановые балки. разрезные подкрановые балки пролетами 6,12 и 18 м под мостовые электричес. краны общего назначения грузоподъемностью 80-500 т. Чертежи КМ.\n",
      "insert into dbo.LinkedDocs(Id,Code,TypeId,Designation,Name) values (?, ?, ?, ?, ?)\n",
      "146 ПБ7 8.0 1.426.2-3 вып. 5 Стальные подкрановые балки. разрезные подкрановые балки пролетом 6 м под ручные мостовые краны. Чертежи КМ.\n",
      "insert into dbo.LinkedDocs(Id,Code,TypeId,Designation,Name) values (?, ?, ?, ?, ?)\n",
      "147 ПГ1 9.0 1.462.3-22 вып. 1 Прогоны стальные производствен ных зданий. прогоны сквозные пролетом 12 м из двутавров с параллельными гранями полок. Чертежи КМ.\n",
      "insert into dbo.LinkedDocs(Id,Code,TypeId,Designation,Name) values (?, ?, ?, ?, ?)\n",
      "148 ПК12 7.0 1.460.9-13 вып. 1 Покрытия из асбестоцементных экструзионных плит для одноэтажных промышленных зданий с металлическими несущими конструкциями. изделия соединительные. Рабочие чертежи.\n",
      "insert into dbo.LinkedDocs(Id,Code,TypeId,Designation,Name) values (?, ?, ?, ?, ?)\n",
      "149 ПК13 7.0 1.460.9-13 вып. 2 Покрытия из асбестоцементных экструзионных плит для одноэтажных промышленных зданий с металлическими несущими конструкциями. конструкции несущие Чертежи КМ.\n",
      "insert into dbo.LinkedDocs(Id,Code,TypeId,Designation,Name) values (?, ?, ?, ?, ?)\n",
      "150 ПБ8 8.0 1.426.2-3 вып. 6 Стальные подкрановые балки. разрезные подкрановые балки с поясами из тавров пролетами 6 и 12 м под мостовые эл.краны общего назначения грузоподъемностью до 50 т. Чертежи КМ.\n",
      "insert into dbo.LinkedDocs(Id,Code,TypeId,Designation,Name) values (?, ?, ?, ?, ?)\n",
      "151 ПБ9 8.0 1.426.2-3 вып. 7 Стальные подкрановые балки. разрезные подкрановые балки пролетами 6 и 12 м под мостовые электрические краны общего назначения грузоподъемностью до 50 т при сочетании двух кранов разной грузоподъемности.\n",
      "insert into dbo.LinkedDocs(Id,Code,TypeId,Designation,Name) values (?, ?, ?, ?, ?)\n",
      "152 ПГ2 9.0 144-79 Прогоны и ригели с применением гнутых профилей из тонколистовой стали для одноэтажных производственных зданий с покрытием из стал. профиля-настила и стенами из металлических трехслойных и асбестоцементных экструзионных панелей.\n",
      "insert into dbo.LinkedDocs(Id,Code,TypeId,Designation,Name) values (?, ?, ?, ?, ?)\n",
      "153 ПК1 7.0 II-2450 Стальные конструкции покрытий производственных зданий с применением широкополочных тавров возводимых в несейсмических районах с расчетной температурой -40 град.с и выше. Чертежи КМ.\n",
      "insert into dbo.LinkedDocs(Id,Code,TypeId,Designation,Name) values (?, ?, ?, ?, ?)\n",
      "154 ПК10 7.0 1.460.2-10/88 вып. 1 Стальные конструкции покрытий одноэтажных производственных зданий с фермами из парных уголков. Покрытия пролетами 18, 24, 30 и 36 м с применением ж/б плит и стального профилированного настила. Чертежи КМ.\n",
      "insert into dbo.LinkedDocs(Id,Code,TypeId,Designation,Name) values (?, ?, ?, ?, ?)\n",
      "155 ПК11 7.0 1.460.9-13 вып. 0 Покрытия из асбестоцементных экструзионных плит для одноэтажных промышленных зданий с металлическими несущими конструкциями. Материалы для проектирования и Рабочие чертежи узлов.\n",
      "insert into dbo.LinkedDocs(Id,Code,TypeId,Designation,Name) values (?, ?, ?, ?, ?)\n",
      "156 ПК14 7.0 1.460.3-14 Стальные конструкции покрытий производств. зданий пролетами 18, 24 и 30 м с прим.замкнутых гнутосварных профилей прямоугольного сечения типа \"Молодечно\". Чертежи КМ.\n",
      "insert into dbo.LinkedDocs(Id,Code,TypeId,Designation,Name) values (?, ?, ?, ?, ?)\n",
      "157 ПК15 7.0 1.460.3-16 вып. 1 Стальные конструкции покрытий неотапливаемых зданий. конструкции покрытий зданий пролетами 18 и 24 м с кровлей из асбестоцементных волнистых листов по прогонам с шагом 1,5 м.\n",
      "insert into dbo.LinkedDocs(Id,Code,TypeId,Designation,Name) values (?, ?, ?, ?, ?)\n",
      "158 ПК16 7.0 1.460.3-16 вып. 2 Стальные конструкции покрытий неотапливаемых зданий. конструкции покрытий зданий пролетами 18 и 24 м с кровлей из асбестоцементных волнистых листов по прогонам с шагом 1,5 м с применением профилей по сокращенному сортаменту металлопроката.\n",
      "insert into dbo.LinkedDocs(Id,Code,TypeId,Designation,Name) values (?, ?, ?, ?, ?)\n",
      "159 ПК17 7.0 1.460.3-17 вып. 1 Стальные конструкции покрытий одноэтажных производственных зданий с применением круглых труб. покрытия пролетами 18, 24 и 30 м для зданий, возводимых в несейсмических районах с расчетными температурами -40 град. с и выше. Чертежи КМ.\n",
      "insert into dbo.LinkedDocs(Id,Code,TypeId,Designation,Name) values (?, ?, ?, ?, ?)\n",
      "160 ПК18 7.0 1.460.3-18 вып. 1 Стальные конструкции покрытий одноэтажных производственных зданий с применением ферм с по ясами из широкополочных тавров с перекрестной решеткой из одиночных уголков. покрытия пролетами 18,24 и 30 м для зданий, возводимых в районах с расчетными те.\n",
      "insert into dbo.LinkedDocs(Id,Code,TypeId,Designation,Name) values (?, ?, ?, ?, ?)\n",
      "161 ПК19 7.0 1.460.3-19 Стальные конструкции покрытий одноэтажных производственных зданий для условий крупноблочного монтажа. Чертежи КМ.\n",
      "insert into dbo.LinkedDocs(Id,Code,TypeId,Designation,Name) values (?, ?, ?, ?, ?)\n",
      "162 ПК2 7.0 II-2464 Стальные конструкции покрытий производственных зданий с применением широкополочных тавров возводимых в несейсмических районах с расчетной температурой ниже-40 град. с. Чертежи КМ.\n",
      "insert into dbo.LinkedDocs(Id,Code,TypeId,Designation,Name) values (?, ?, ?, ?, ?)\n",
      "163 ПК20 7.0 1.462.3-17/85 Стальные решетчатые прогоны производственных зданий пролетом 12 м с применением профилей по сокращенному сортаменту металлопроката. Чертежи КМ.\n",
      "insert into dbo.LinkedDocs(Id,Code,TypeId,Designation,Name) values (?, ?, ?, ?, ?)\n",
      "164 ПК21 7.0 1.469.3-9 Стальные конструкции унифицированных связей покрытий из эффективных профилей проката (дополнение к сериям 1.460.2-10; 1.460.2-11; 1.460-8 вып.1). Чертежи КМ.\n",
      "insert into dbo.LinkedDocs(Id,Code,TypeId,Designation,Name) values (?, ?, ?, ?, ?)\n",
      "165 ПР8 4.0 1.431.3-22 вып. 3 Перегородки панельные с применением гнутых профилей из тонколистовой стали одноэтажных зданий. Детали панелей перегодок. Рабочие чертежи.\n",
      "insert into dbo.LinkedDocs(Id,Code,TypeId,Designation,Name) values (?, ?, ?, ?, ?)\n",
      "166 ПР9 4.0 1.431.4-23 вып. 0 Перегородки панельные из алюминиевых сплавов. Материалы для проектирования. Монтажные узлы.\n",
      "insert into dbo.LinkedDocs(Id,Code,TypeId,Designation,Name) values (?, ?, ?, ?, ?)\n",
      "167 ПРЧ1 29.0 407-03-506.88 Наружная установка реакторов 6-10 кВ.\n",
      "insert into dbo.LinkedDocs(Id,Code,TypeId,Designation,Name) values (?, ?, ?, ?, ?)\n",
      "168 ПТ1 6.0 1.245.4-5 вып. 1 Подвесные потолки из алюминиевых сплавов. Потолки подвесные (реечные и панельные). Чертежи КМ.\n",
      "insert into dbo.LinkedDocs(Id,Code,TypeId,Designation,Name) values (?, ?, ?, ?, ?)\n",
      "169 РЗ1 23.0 3.704-2 вып. 0 Резервуары стальные горизонтальные для нефтепродуктов. резервуары Р-5, Р-10, Р-25, Р-50. Технические условия.\n",
      "insert into dbo.LinkedDocs(Id,Code,TypeId,Designation,Name) values (?, ?, ?, ?, ?)\n",
      "170 ПК3 7.0 II-2464А Стальные конструкции покрытий производственных зданий с применением широкополочных тавров возводимых в районах сейсмичностью 7,8,9 баллов с расчетной температурой -40 град. с и выше. Чертежи КМ.\n",
      "insert into dbo.LinkedDocs(Id,Code,TypeId,Designation,Name) values (?, ?, ?, ?, ?)\n",
      "171 ПК4 7.0 II-2482 Стальные конструкции покрытий одноэтажных производ. зданий пролетами от 36 до 54 м с применением стального профилированного настила для районов с расчетными температурами -40 град. с и выше.\n",
      "insert into dbo.LinkedDocs(Id,Code,TypeId,Designation,Name) values (?, ?, ?, ?, ?)\n",
      "172 ПК5 7.0 16331КМ вып. 1 Стальные конструкции покрытий одноэтажных производ. зданий с применением ремонтно-монтажных балок грузоподъемностью 50,70 и 100 т для ремонта и монтажа мостовых кранов цехов черной металлургии. конструкции покрытий и ремонтно-монтажных балок чертежи к.\n",
      "insert into dbo.LinkedDocs(Id,Code,TypeId,Designation,Name) values (?, ?, ?, ?, ?)\n",
      "173 ПК6 7.0 16331КМ вып. 2 Стальные конструкции покрытий одноэтажных производ. зданий с применением ремонтно-монтажных балок грузоподъемностью 50,70 и 100 т для ремонта и монтажа мостовых кранов цехов черной металлургии. оснастка ремонтно-монтажных балок. чертежи тхм. материалы.\n",
      "insert into dbo.LinkedDocs(Id,Code,TypeId,Designation,Name) values (?, ?, ?, ?, ?)\n",
      "174 ПК7 7.0 123-78 Структурные конструкции типа \"ЦНИИСК\" из прокатных профилей для покрытий одноэтажных производственных зданий пролетом 18 и 24 м с асбестоцементными плитами. Чертежи КМ.\n",
      "insert into dbo.LinkedDocs(Id,Code,TypeId,Designation,Name) values (?, ?, ?, ?, ?)\n",
      "175 ПК8 7.0 1.460-6/81 Структурные конструкции типа \"ЦНИИСК\" из прокатных профилей для покрытий одноэтажных производственных зданий пролетом 18 и 24 м . Чертежи КМ.\n",
      "insert into dbo.LinkedDocs(Id,Code,TypeId,Designation,Name) values (?, ?, ?, ?, ?)\n",
      "176 ПК9 7.0 1.460.2-10 вып. 1 Стальные конструкции покрытий одноэтажных прокатных профилей для покрытий производственных зданий с фермами из парных уголков. покрытия пролетами 18 24,30 и 36 м с применением ж/б плит и стального профилированного настила. Чертежи КМ.\n",
      "insert into dbo.LinkedDocs(Id,Code,TypeId,Designation,Name) values (?, ?, ?, ?, ?)\n",
      "177 ПЛ1 5.0 1.444.2-3 Полы съемные металлические для машинных залов ЭВМ.\n",
      "insert into dbo.LinkedDocs(Id,Code,TypeId,Designation,Name) values (?, ?, ?, ?, ?)\n",
      "178 ПР1 4.0 1.431-10 вып. 2 Перегородки консольные сетчатые, стальные. Материалы для проектирования. монтажные схемы, узлы.\n",
      "insert into dbo.LinkedDocs(Id,Code,TypeId,Designation,Name) values (?, ?, ?, ?, ?)\n",
      "179 ПР10 4.0 1.431.4-23 вып. 1 Перегородки панельные из алюминиевых сплавов. панели перегородок. Рабочие чертежи.\n",
      "insert into dbo.LinkedDocs(Id,Code,TypeId,Designation,Name) values (?, ?, ?, ?, ?)\n",
      "180 ПР11 4.0 1.431.4-23 вып. 2 Перегородки панельные из алюминиевых сплавов. Приборы механические для дверей. Рабочие чертежи.\n",
      "insert into dbo.LinkedDocs(Id,Code,TypeId,Designation,Name) values (?, ?, ?, ?, ?)\n",
      "181 ПР12 4.0 1.431.9-25 вып. 0 Перегородки панельные из асбестоцем.листов в стальной обвяз. Материалы для проектирования.\n",
      "insert into dbo.LinkedDocs(Id,Code,TypeId,Designation,Name) values (?, ?, ?, ?, ?)\n",
      "182 ПР13 4.0 1.431.9-25 вып. 1 Перегородки панельные из асбестоцем.листов в стальной обвяз. Материалы для проектирования. Панели, стойки, ригели. Рабочие чертежи.\n",
      "insert into dbo.LinkedDocs(Id,Code,TypeId,Designation,Name) values (?, ?, ?, ?, ?)\n",
      "183 ПР14 4.0 1.431.9-25 вып. 2 Перегородки панельные из асбестоцем.листов в стальной обвяз. Материалы для проектирования. Монтажные узлы. Рабочие чертежи.\n",
      "insert into dbo.LinkedDocs(Id,Code,TypeId,Designation,Name) values (?, ?, ?, ?, ?)\n",
      "184 ПР15 4.0 1.431.3-26 вып. 0 Перегородки панельные с применением гнутых профилей из тонколистовой стали многоэтажных промышленных зданий. Материалы для проектирования.\n",
      "insert into dbo.LinkedDocs(Id,Code,TypeId,Designation,Name) values (?, ?, ?, ?, ?)\n",
      "185 ПР16 4.0 1.431.3-26 вып. 1 Перегородки панельные с применением гнутых профилей из тонколистовой стали многоэтажных промышленных зданий. Панели перегородок, элементы фахверка фахверка и детали крепления. Рабочие чертежи.\n",
      "insert into dbo.LinkedDocs(Id,Code,TypeId,Designation,Name) values (?, ?, ?, ?, ?)\n",
      "186 ПР17 4.0 1.431.3-26 вып. 2 Перегородки панельные с применением гнутых профилей из тонколистовой стали многоэтажных промышленных зданий. Узлы. Рабочие чертежи.\n",
      "insert into dbo.LinkedDocs(Id,Code,TypeId,Designation,Name) values (?, ?, ?, ?, ?)\n",
      "187 ПР2 4.0 1.431-10 вып. 3 Перегородки консольные сетчатые, стальные. Дверные створки, стойки, ригели, щиты. Рабочие чертежи.\n",
      "insert into dbo.LinkedDocs(Id,Code,TypeId,Designation,Name) values (?, ?, ?, ?, ?)\n",
      "188 ПР3 4.0 1.431-11 вып. 0 Перегородки для контОрских помещений. Материалы для проектирования.\n",
      "insert into dbo.LinkedDocs(Id,Code,TypeId,Designation,Name) values (?, ?, ?, ?, ?)\n",
      "189 ПР4 4.0 1.431-11 вып. 1 Перегородки для контОрских помещений. конструкции, изделия и комплектующие материалы.\n",
      "insert into dbo.LinkedDocs(Id,Code,TypeId,Designation,Name) values (?, ?, ?, ?, ?)\n",
      "190 ПР5 4.0 1.431.3-22 вып. 0 Перегородки панельные с применением гнутых профилей из тонколистовой стали одноэтажных зданий. Материалы для проектирования.\n",
      "insert into dbo.LinkedDocs(Id,Code,TypeId,Designation,Name) values (?, ?, ?, ?, ?)\n",
      "191 ПР6 4.0 1.431.3-22 вып. 1 Перегородки панельные с применением гнутых профилей из тонколистовой стали одноэтажных зданий. Панели перегородок, элементы фахверка и детали крепления. Рабочие чертежи.\n",
      "insert into dbo.LinkedDocs(Id,Code,TypeId,Designation,Name) values (?, ?, ?, ?, ?)\n",
      "192 ПР7 4.0 1.431.3-22 вып. 2 Перегородки панельные с применением гнутых профилей из тонколистовой стали одноэтажных зданий. Узлы. Рабочие чертежи.\n",
      "insert into dbo.LinkedDocs(Id,Code,TypeId,Designation,Name) values (?, ?, ?, ?, ?)\n",
      "193 РЗ2 23.0 3.704-2 вып. 1 Резервуары стальные горизонтальные для нефтепродуктов. резервуар Р-5. Рабочие чертежи.\n",
      "insert into dbo.LinkedDocs(Id,Code,TypeId,Designation,Name) values (?, ?, ?, ?, ?)\n",
      "194 РЗ3 23.0 3.704-2 вып. 2 Резервуары стальные горизонтальные для нефтепродуктов. резервуар Р-10. Рабочие чертежи.\n",
      "insert into dbo.LinkedDocs(Id,Code,TypeId,Designation,Name) values (?, ?, ?, ?, ?)\n",
      "195 РЗ4 23.0 3.704-2 вып. 3 Резервуары стальные горизонтальные для нефтепродуктов. резервуар Р-25. Рабочие чертежи.\n",
      "insert into dbo.LinkedDocs(Id,Code,TypeId,Designation,Name) values (?, ?, ?, ?, ?)\n",
      "196 РЗ5 23.0 3.704-2 вып. 4 Резервуары стальные горизонтальные для нефтепродуктов. резервуар Р-50. Рабочие чертежи.\n",
      "insert into dbo.LinkedDocs(Id,Code,TypeId,Designation,Name) values (?, ?, ?, ?, ?)\n",
      "197 РЗ6 23.0 3.010.2-2 вып. 1 Внутренние смотровые лестницы шаровых резервуаров и газгольдеров объемами 600 и 2000 м3. Лестницы. Чертежи КМ.\n",
      "insert into dbo.LinkedDocs(Id,Code,TypeId,Designation,Name) values (?, ?, ?, ?, ?)\n",
      "198 РЗ7 23.0 3.010.2-2 вып. 2 Внутренние смотровые лестницы шаровых резервуаров и газгольдеров объемами 600 и 2000 м3. Опоры вращения. Рабочие чертежи.\n",
      "insert into dbo.LinkedDocs(Id,Code,TypeId,Designation,Name) values (?, ?, ?, ?, ?)\n",
      "199 СК1 17.0 1.494-24 Стаканы для крепления с наружным диаметром 402, 720, 1020, 1420 мм для установки на покрытия со стальным профилированным настилом. Чертежи КМ. Материалы для проектирования.\n",
      "insert into dbo.LinkedDocs(Id,Code,TypeId,Designation,Name) values (?, ?, ?, ?, ?)\n",
      "200 СТ1 3.0 1.432.2-17 вып. 0-1 Стены одноэтажных пром. зданий из металлических 3-х слойных панелей с утеплителем из пенополиуретана. материалы для проектирования.\n",
      "insert into dbo.LinkedDocs(Id,Code,TypeId,Designation,Name) values (?, ?, ?, ?, ?)\n",
      "201 СТ10 3.0 2.430-17 вып. 1 Монтажные детали стен многоэтажных производственных зданий. монтажные детали.\n",
      "insert into dbo.LinkedDocs(Id,Code,TypeId,Designation,Name) values (?, ?, ?, ?, ?)\n",
      "202 СТ11 3.0 2.430-17 вып. 2 Монтажные детали стен многоэтажных производственных зданий. стальные конструктивные элементы стен.\n",
      "insert into dbo.LinkedDocs(Id,Code,TypeId,Designation,Name) values (?, ?, ?, ?, ?)\n",
      "203 СТ12 3.0 143-83 Стены одноэт.пром. зданий из мет.3-х слойных панелей с утеплителем из пенополиуретана и обшивками из тонколистовой оцинкованной стали с повышенными прочностными свойствами толщиной 0.6 мм.\n",
      "insert into dbo.LinkedDocs(Id,Code,TypeId,Designation,Name) values (?, ?, ?, ?, ?)\n",
      "204 СТ13 3.0 172 КМ5 Панели стеновые 3-х слойные с обшивками из стальных проф. листов толщ.0.7 мм и минераловатным утеплителем для производственных зданий.\n",
      "insert into dbo.LinkedDocs(Id,Code,TypeId,Designation,Name) values (?, ?, ?, ?, ?)\n",
      "205 СТ14 3.0 206-84 Металлические стены одноэтажн. произв. зданий из панелей типа \"сэндвич\" с обшивками толщиной 0.6 мм с утеплителем из пенополиуретана.\n",
      "insert into dbo.LinkedDocs(Id,Code,TypeId,Designation,Name) values (?, ?, ?, ?, ?)\n",
      "206 СТ15 3.0 217-78 Стены одноэт. произв. зданий из металлических проф.листов и стекло и минераловатных материалов с укрупненными монтажными элементами.\n",
      "insert into dbo.LinkedDocs(Id,Code,TypeId,Designation,Name) values (?, ?, ?, ?, ?)\n",
      "207 СТ16 3.0 217-77 вып. 0 Стены из асбестоцементных панелей типа \"сэндвич\" длиной 3м для производственных зданий материалы для проектирования.\n",
      "insert into dbo.LinkedDocs(Id,Code,TypeId,Designation,Name) values (?, ?, ?, ?, ?)\n",
      "208 СТ17 3.0 217-77 вып. 1 Стены из асбестоцементных панелей типа \"сэндвич\" длиной 3м для производственных зданий Рабочие чертежи панелей.\n",
      "insert into dbo.LinkedDocs(Id,Code,TypeId,Designation,Name) values (?, ?, ?, ?, ?)\n",
      "209 СТ18 3.0 217-77 вып. 2 Стены из асбестоцементных панелей типа \"сэндвич\" длиной 3м для производственных зданий стальные конструкции фахверка стен. рабочие Чертежи КМ.\n",
      "insert into dbo.LinkedDocs(Id,Code,TypeId,Designation,Name) values (?, ?, ?, ?, ?)\n",
      "210 СТ19 3.0 1.439-2 Стальные изделия креплений панельных стен одноэтаж. произв. зданий с железобетонным каркасом. Рабочие чертежи. для применения в районах с обычными условиями строительства и с сейсмичностью 7,8 и 9 баллов.\n",
      "insert into dbo.LinkedDocs(Id,Code,TypeId,Designation,Name) values (?, ?, ?, ?, ?)\n",
      "211 СТ2 3.0 1.432.2-17 вып. 0-2 Стены одноэтажных пром. зданий из металлических 3-х слойных панелей с утеплителем из пенополиуретана.материалы для проектирования стен с проемами.\n",
      "insert into dbo.LinkedDocs(Id,Code,TypeId,Designation,Name) values (?, ?, ?, ?, ?)\n",
      "212 СТ3 3.0 1.432.2-17 вып. 1 Стены одноэтажных пром. зданий из металлических 3-х слойных панелей с утеплителем из пенополиуретана.панели металлические 3-х слойные стеновые.\n",
      "insert into dbo.LinkedDocs(Id,Code,TypeId,Designation,Name) values (?, ?, ?, ?, ?)\n",
      "213 СТ4 3.0 1.432.2-17 вып. 2 Стены одноэтажных пром. зданий из металлических 3-х слойных панелей с утеплителем из пенополиуретана. стальные изделия фахверка.\n",
      "insert into dbo.LinkedDocs(Id,Code,TypeId,Designation,Name) values (?, ?, ?, ?, ?)\n",
      "214 СТ5 3.0 1.432.2-17 вып. 3 Стены одноэтажных пром. зданий из металлических 3-х слойных панелей с утеплителем из пенополиуретана. узлы установки фахверка и стеновых панелей.\n",
      "insert into dbo.LinkedDocs(Id,Code,TypeId,Designation,Name) values (?, ?, ?, ?, ?)\n",
      "215 СТ6 3.0 1.432.2-17 вып. 4 Стены одноэтажных пром. зданий из металлических 3-х слойных панелей с утеплителем из пенополиуретана. узлы установки окон, дверей и ворот.\n",
      "insert into dbo.LinkedDocs(Id,Code,TypeId,Designation,Name) values (?, ?, ?, ?, ?)\n",
      "216 СТ7 3.0 1.432.2-17 вып. 5-1 Стены одноэтажных пром. зданий из металлических 3-х слойных панелей с утеплителем из пенополиуретана. изделия комплектующие для глухих участков стен.\n",
      "insert into dbo.LinkedDocs(Id,Code,TypeId,Designation,Name) values (?, ?, ?, ?, ?)\n",
      "217 СТ8 3.0 1.432.2-17 вып. 5-2 Стены одноэтажных пром. зданий из металлических 3-х слойных панелей с утеплителем из пенополиуретана. изделия комплектующие для участков стен с проемами.\n",
      "insert into dbo.LinkedDocs(Id,Code,TypeId,Designation,Name) values (?, ?, ?, ?, ?)\n",
      "218 СТ9 3.0 1.432.2-19 Металлические стены полистовой сборки для одноэтажных производственных зданий.\n",
      "insert into dbo.LinkedDocs(Id,Code,TypeId,Designation,Name) values (?, ?, ?, ?, ?)\n",
      "219 СФ1 2.0 1.427.3-4 вып. 1 Стальные стойки фахверка одноэтажных производственных зданий. Стойки фахверка отапливаемых зданий.\n",
      "insert into dbo.LinkedDocs(Id,Code,TypeId,Designation,Name) values (?, ?, ?, ?, ?)\n",
      "220 УЗ31 15.0 2.460-17 вып. 1 Узлы покрытий одноэтажных производственных зданий с рулонными кровлями и стальными профилированными настилами. Узлы. Рабочие чертежи.\n",
      "insert into dbo.LinkedDocs(Id,Code,TypeId,Designation,Name) values (?, ?, ?, ?, ?)\n",
      "221 ТГ1 20.0 3541 КМ вып. 2 Индустриальные конструкции транспортерных галерей комплектной поставки для районов с расчетными температурами выше и ниже -40 град.с. цельнометаллические разрезные пролетные строения круглоцилиндрической формы для одного транспортера шириной ле.\n",
      "insert into dbo.LinkedDocs(Id,Code,TypeId,Designation,Name) values (?, ?, ?, ?, ?)\n",
      "222 ТГ10 20.0 3.016-1 вып. 1 Неотапливаемые транспортерные галереи пролетами 18, 24 и 30м с ограждающими конструкциями из волнистых асбестоцементных листов. архитектурно-строительные чертежи.\n",
      "insert into dbo.LinkedDocs(Id,Code,TypeId,Designation,Name) values (?, ?, ?, ?, ?)\n",
      "223 ТГ11 20.0 3.016-1 вып. 2 Неотапливаемые транспортерные галереи пролетами 18, 24 и 30м с ограждающими конструкциями из волнистых асбестоцементных листов. стальные конструкции. Чертежи КМ.\n",
      "insert into dbo.LinkedDocs(Id,Code,TypeId,Designation,Name) values (?, ?, ?, ?, ?)\n",
      "224 ТГ12 20.0 3.016-1 вып. 3 Неотапливаемые транспортерные галереи пролетами 18, 24 и 30м с ограждающими конструкциями из волнистых асбестоцементных листов. строительные изделия.\n",
      "insert into dbo.LinkedDocs(Id,Code,TypeId,Designation,Name) values (?, ?, ?, ?, ?)\n",
      "225 ТГ13 20.0 3.016-1 вып. 4 Неотапливаемые транспортерные галереи пролетами 18, 24 и 30м с ограждающими конструкциями из волнистых асбестоцементных листов. архитектурные и монтажные детали.\n",
      "insert into dbo.LinkedDocs(Id,Code,TypeId,Designation,Name) values (?, ?, ?, ?, ?)\n",
      "226 ТГ14 20.0 3.016-2 вып. 1 Неотапливаемые транспортерные галереи с самонесущими асбестоцементными оболочками. архитектурно-строительные чертежи.\n",
      "insert into dbo.LinkedDocs(Id,Code,TypeId,Designation,Name) values (?, ?, ?, ?, ?)\n",
      "227 ТГ15 20.0 3.016-2 вып. 2 Неотапливаемые транспортерные галереи с самонесущими асбестоцементными оболочками. стальные конструкции. Чертежи КМ.\n",
      "insert into dbo.LinkedDocs(Id,Code,TypeId,Designation,Name) values (?, ?, ?, ?, ?)\n",
      "228 ТГ16 20.0 3.016-2 вып. 3 Неотапливаемые транспортерные галереи с самонесущими асбестоцементными оболочками. строительные изделия.\n",
      "insert into dbo.LinkedDocs(Id,Code,TypeId,Designation,Name) values (?, ?, ?, ?, ?)\n",
      "229 ТГ17 20.0 3.016-2 вып. 4 Неотапливаемые транспортерные галереи с самонесущими асбестоцементными оболочками. архитектурные и монтажные детали.\n",
      "insert into dbo.LinkedDocs(Id,Code,TypeId,Designation,Name) values (?, ?, ?, ?, ?)\n",
      "230 ТГ18 20.0 3.016-3 вып. 1 Отапливаемые транспортерные галереи пролетами 18, 24 и 30 м с облегченными ограждающими конструкциями. стальные конструкции. Чертежи КМ. для применения в i-iv ветров. район. с расчетной температурой наружного воздуха выше -40 град.с и ниже -40 град.\n",
      "insert into dbo.LinkedDocs(Id,Code,TypeId,Designation,Name) values (?, ?, ?, ?, ?)\n",
      "231 ТГ19 20.0 3.016-3 вып. 4 Отапливаемые транспортерные галереи пролетами 18, 24 и 30 м с облегченными ограждающими конструкциями. монтажные узла и стальные изделия. Рабочие чертежи.\n",
      "insert into dbo.LinkedDocs(Id,Code,TypeId,Designation,Name) values (?, ?, ?, ?, ?)\n",
      "232 ТГ2 20.0 3541 КМ вып. 2а Индустриальные конструкции транспортерных галерей комплектной поставки для районов с расчетными температурами выше и ниже -40 град.с. ше и ниже -40 град.с. цельнометаллические неразрезные пролетные строения круглоцилиндрической формы для одно.\n",
      "insert into dbo.LinkedDocs(Id,Code,TypeId,Designation,Name) values (?, ?, ?, ?, ?)\n",
      "233 ТГ20 20.0 3.016-3-7 вып. 0 Транспортерные галереи комплектной поставки с пролетными строениями прямоугольного сечения пролетами 24, 36 и 48 м для одного транспортера шириной ленты до 1200 мм. материалы для проектирования.\n",
      "insert into dbo.LinkedDocs(Id,Code,TypeId,Designation,Name) values (?, ?, ?, ?, ?)\n",
      "234 ТГ21 20.0 3.016-3-7 вып. 1 Транспортерные галереи комплектной поставки с пролетными строениями прямоугольного сечения пролетами 24, 36 и 48 м для одного транспортера шириной ленты до 1200 мм. стальные конструкции пролетных строений транспортерных галерей. Чертежи КМ.\n",
      "insert into dbo.LinkedDocs(Id,Code,TypeId,Designation,Name) values (?, ?, ?, ?, ?)\n",
      "235 ТГ5 20.0 ИС-01-15 вып. 1 Стальные транспортерные отапливаемые галереи пролетами 18, 24 и 30 м. пролетные строения и опоры, пояснительная записка, архитектурно-строительные чертежи.\n",
      "insert into dbo.LinkedDocs(Id,Code,TypeId,Designation,Name) values (?, ?, ?, ?, ?)\n",
      "236 ТГ6 20.0 ИС-01-15 вып. 2 Стальные транспортерные отапливаемые галереи пролетами 18, 24 и 30 м. пролетные строения, пояснительная записка, Чертежи КМ.\n",
      "insert into dbo.LinkedDocs(Id,Code,TypeId,Designation,Name) values (?, ?, ?, ?, ?)\n",
      "237 ТГ7 20.0 ИС-01-15 вып. 3 Стальные транспортерные отапливаемые галереи пролетами 18, 24 и 30 м. схемы галерей, узлы примыкания и температурные швы. архитектурно-строительные чертежи.\n",
      "insert into dbo.LinkedDocs(Id,Code,TypeId,Designation,Name) values (?, ?, ?, ?, ?)\n",
      "238 ТГ8 20.0 ИС-01-15 вып. 4 Стальные транспортерные отапливаемые галереи пролетами 18, 24 и 30 м. опоры, узлы примыкания и температурные швы. Чертежи КМ.\n",
      "insert into dbo.LinkedDocs(Id,Code,TypeId,Designation,Name) values (?, ?, ?, ?, ?)\n",
      "239 ТГ22 20.0 3.016.2-10 вып. 1 Неотапливаемые транспортерные галереи для конвейеров с шириной ленты до 1000 мм для перемещения зерна и продуктов его переработки. конструкции галерей с применением гнутосварных профилей. материалы для проектирования. Чертежи КМ.\n",
      "insert into dbo.LinkedDocs(Id,Code,TypeId,Designation,Name) values (?, ?, ?, ?, ?)\n",
      "240 ТГ3 20.0 7120КМ вып. 0 Транспортерные галереи комплектной поставки с пролетными строениями прямоугольного сечения пролетами 24, 36, 48 м для двух траспортеров с шириной ленты 1000, 1200, 1400 мм. материалы для проектирования.\n",
      "insert into dbo.LinkedDocs(Id,Code,TypeId,Designation,Name) values (?, ?, ?, ?, ?)\n",
      "241 ТГ4 20.0 7120КМ вып. 1 Транспортерные галереи комплектной поставки с пролетными строениями прямоугольного сечения пролетами 24, 36, 48 м для двух траспортеров с шириной ленты 1000, 1200, 1400 мм. материалы для проектирования. стальные конструкции пролетных строений тр.\n",
      "insert into dbo.LinkedDocs(Id,Code,TypeId,Designation,Name) values (?, ?, ?, ?, ?)\n",
      "242 ТГ9 20.0 ИС-01-15 вып. 5 Стальные транспортерные отапливаемые галереи пролетами 18, 24 и 30 м. строительные изделия.\n",
      "insert into dbo.LinkedDocs(Id,Code,TypeId,Designation,Name) values (?, ?, ?, ?, ?)\n",
      "243 УЗ1 15.0 2.420-4 вып. 3 Типовые детали каркасов унифицированных одноэтажных промышленных зданий(секций) из легких металлических конструкций. детали каркасов зданий с рамны ми конструкциями коробчатого сечения типа \"Орск\".\n",
      "insert into dbo.LinkedDocs(Id,Code,TypeId,Designation,Name) values (?, ?, ?, ?, ?)\n",
      "244 УЗ10 15.0 2.436-12 вып. 0 Узлы окон со стальными переплетами по серии 1.436.3-16. Материалы для проектирования.\n",
      "insert into dbo.LinkedDocs(Id,Code,TypeId,Designation,Name) values (?, ?, ?, ?, ?)\n",
      "245 УЗ11 15.0 2.436-12 вып. 1 Узлы окон со стальными переплетами по серии 1.436.3-16. Рабочие чертежи.\n",
      "insert into dbo.LinkedDocs(Id,Code,TypeId,Designation,Name) values (?, ?, ?, ?, ?)\n",
      "246 УЗ12 15.0 2.436-12 вып. 2 Узлы окон со стальными переплетами по серии 1.436.3-16. Металлические изделия. Рабочие чертежи.\n",
      "insert into dbo.LinkedDocs(Id,Code,TypeId,Designation,Name) values (?, ?, ?, ?, ?)\n",
      "247 УЗ13 15.0 2.436-15 вып. 0 Узлы окон с переплетами из алюминиевых сплавов для производственных зданий. Материалы для проектирования.\n",
      "insert into dbo.LinkedDocs(Id,Code,TypeId,Designation,Name) values (?, ?, ?, ?, ?)\n",
      "248 УЗ14 15.0 2.436-15 вып. 1 Узлы окон с переплетами из алюминиевых сплавов для производственных зданий. Рабочие чертежи.\n",
      "insert into dbo.LinkedDocs(Id,Code,TypeId,Designation,Name) values (?, ?, ?, ?, ?)\n",
      "249 УЗ15 15.0 2.436-19 вып. 0 Узлы окон со стальными переплетами по серии 1.436.3-21. Материалы для проектирования.\n",
      "insert into dbo.LinkedDocs(Id,Code,TypeId,Designation,Name) values (?, ?, ?, ?, ?)\n",
      "250 УЗ16 15.0 2.436-19 вып. 1 Узлы окон со стальными переплетами по серии 1.436.3-21. Узлы. Рабочие чертежи.\n",
      "insert into dbo.LinkedDocs(Id,Code,TypeId,Designation,Name) values (?, ?, ?, ?, ?)\n",
      "251 УЗ17 15.0 2.440-2 вып. 1 Узлы стальных конструкций производственных зданий, промышленных предприятий. Шарнирные узлы балочных клеток и рамные узлы примыкания ригелей к колоннам. Чертежи КМ.\n",
      "insert into dbo.LinkedDocs(Id,Code,TypeId,Designation,Name) values (?, ?, ?, ?, ?)\n",
      "252 УЗ18 15.0 2.440-1 вып. 2 Узлы стальных конструкций производственных зданий. Узлы покрытий. Чертежи КМ.\n",
      "insert into dbo.LinkedDocs(Id,Code,TypeId,Designation,Name) values (?, ?, ?, ?, ?)\n",
      "253 УЗ19 15.0 2.440-2 вып. 3 Узлы стальных конструкций производственных зданий. Узлы колонн и подкрановых балок. Чертежи КМ.\n",
      "insert into dbo.LinkedDocs(Id,Code,TypeId,Designation,Name) values (?, ?, ?, ?, ?)\n",
      "254 УЗ2 15.0 2.420-5 вып. 2 Типовые детали каркасов унифицированных одноэтажных промышленных зданий(секций) смешанной конструкции. детали каркасов зданий со стропильными фермами трубчатых профилей.\n",
      "insert into dbo.LinkedDocs(Id,Code,TypeId,Designation,Name) values (?, ?, ?, ?, ?)\n",
      "255 УЗ20 15.0 2.440-2 вып. 4 Узлы стальных конструкций производственных зданий. Узлы тормозных конструкций и вертикальных связей. Чертежи КМ.\n",
      "insert into dbo.LinkedDocs(Id,Code,TypeId,Designation,Name) values (?, ?, ?, ?, ?)\n",
      "256 УЗ21 15.0 2.440-1 вып. 5 Узлы стальных конструкций производственных зданий. Узлы креплений коммуникаций. Чертежи КМ.\n",
      "insert into dbo.LinkedDocs(Id,Code,TypeId,Designation,Name) values (?, ?, ?, ?, ?)\n",
      "257 УЗ22 15.0 2.440-1 вып. 6 Узлы стальных конструкций производственных зданий. Узлы площадок под оборудование. Чертежи КМ.\n",
      "insert into dbo.LinkedDocs(Id,Code,TypeId,Designation,Name) values (?, ?, ?, ?, ?)\n",
      "258 УЗ23 15.0 208-82 Узлы крепления окон со стальными переплетами для производственных зданий, возводимых в районах сейсмичностью 7,8 и 9 баллов.\n",
      "insert into dbo.LinkedDocs(Id,Code,TypeId,Designation,Name) values (?, ?, ?, ?, ?)\n",
      "259 УЗ24 15.0 2.460-11 Типовые детали покрытий унифицированных одноэтажных промышленных зданий (секций) из легких металлических конструкций. покрытия со структурными блоками из прокатных профилей (типа цниицк).\n",
      "insert into dbo.LinkedDocs(Id,Code,TypeId,Designation,Name) values (?, ?, ?, ?, ?)\n",
      "260 УЗ25 15.0 2.460-12 Типовые детали кровель унифицированных одноэтажных промышленных зданий (секций) из легких металлических конструкций.\n",
      "insert into dbo.LinkedDocs(Id,Code,TypeId,Designation,Name) values (?, ?, ?, ?, ?)\n",
      "261 УЗ26 15.0 2.460-14 вып. 0 Типовые узлы покрытий промзданий в местах пропуска вентиляционных шахт. Указания по применению типовых узлов.\n",
      "insert into dbo.LinkedDocs(Id,Code,TypeId,Designation,Name) values (?, ?, ?, ?, ?)\n",
      "262 УЗ27 15.0 2.460-14 вып. 1 Типовые узлы покрытий промзданий в местах пропуска вентиляционных шахт. Рабочие чертежи типовых узлов.\n",
      "insert into dbo.LinkedDocs(Id,Code,TypeId,Designation,Name) values (?, ?, ?, ?, ?)\n",
      "263 УЗ28 15.0 2.460-15 вып. 0 Типовые узлы покрытий промзданий в местах установки крышных вентиляторов. Указания по применению типовых узлов.\n",
      "insert into dbo.LinkedDocs(Id,Code,TypeId,Designation,Name) values (?, ?, ?, ?, ?)\n",
      "264 УЗ29 15.0 2.460-15 вып. 1 Типовые узлы покрытий промзданий в местах установки крышных вентиляторов. Рабочие чертежи типовых узлов.\n",
      "insert into dbo.LinkedDocs(Id,Code,TypeId,Designation,Name) values (?, ?, ?, ?, ?)\n",
      "265 УЗ3 15.0 2.420-4 вып. 3 Типовые детали каркасов унифицированных одноэтажных промышленных зданий(секций) смешанной конструкции. детали каркасов зданий со структурными блоками покрытия из прокатных стальных профилей(типа ЦНИИСК).\n",
      "insert into dbo.LinkedDocs(Id,Code,TypeId,Designation,Name) values (?, ?, ?, ?, ?)\n",
      "266 УЗ30 15.0 2.460-17 вып. 0 Узлы покрытий одноэтажных производственных зданий с рулонными кровлями и стальными профилированными настилами. Материалы для проектирования.\n",
      "insert into dbo.LinkedDocs(Id,Code,TypeId,Designation,Name) values (?, ?, ?, ?, ?)\n",
      "267 УЗ32 15.0 2.460-17 вып. 0 Узлы покрытий одноэтажных производственных зданий с рулонными кровлями и стальными профилированными настилами. Изделия. Рабочие чертежи.\n",
      "insert into dbo.LinkedDocs(Id,Code,TypeId,Designation,Name) values (?, ?, ?, ?, ?)\n",
      "268 УЗ4 15.0 2.420-6 Унифицированные монтажные узлы стальных конструкций производственных зданий и сооружений на болтах, включая высокопрочные болты. Чертежи КМ.\n",
      "insert into dbo.LinkedDocs(Id,Code,TypeId,Designation,Name) values (?, ?, ?, ?, ?)\n",
      "269 УЗ5 15.0 2.430-19 вып. 0 Узлы стен из металлических и профилированных листов и стекло и минераловатных материалов с укрупненными монтажными элементами. материалы для проектирования.\n",
      "insert into dbo.LinkedDocs(Id,Code,TypeId,Designation,Name) values (?, ?, ?, ?, ?)\n",
      "270 УЗ6 15.0 2.430-19 вып. 1 Узлы стен из металлических и профилированных листов и стекло и минераловатных материалов с укрупненными монтажными элементами. узлы установки окон, дверей и ворот и сопряжение их стенами. Рабочие чертежи.\n",
      "insert into dbo.LinkedDocs(Id,Code,TypeId,Designation,Name) values (?, ?, ?, ?, ?)\n",
      "271 УЗ7 15.0 2.435-1 Ручное устройство для открывания стальных переплетов светоаэрационных фонарей.\n",
      "insert into dbo.LinkedDocs(Id,Code,TypeId,Designation,Name) values (?, ?, ?, ?, ?)\n",
      "272 УЗ8 15.0 2.436-10 вып. 0 Заполнение оконных проемов в стенах зданий промышленных предприятий швеллерным и коробчатым профильным стеклом в деревянной обвязке. указания по проектированию.\n",
      "insert into dbo.LinkedDocs(Id,Code,TypeId,Designation,Name) values (?, ?, ?, ?, ?)\n",
      "273 УЗ9 15.0 2.436-10 вып. 1 Заполнение оконных проемов в стенах зданий промышленных предприятий швеллерным и коробчатым профильным стеклом в деревянной обвязке. архитектурные и монтажные узлы.\n",
      "insert into dbo.LinkedDocs(Id,Code,TypeId,Designation,Name) values (?, ?, ?, ?, ?)\n",
      "274 ФН1 14.0 144-84 вып. 1 Фонари зенитные с размерами светового проема 2,9*2,9 м со стальными переплетами. фонарь зенитный глухой с двухслойными стеклопакетами. Рабочие чертежи.\n",
      "insert into dbo.LinkedDocs(Id,Code,TypeId,Designation,Name) values (?, ?, ?, ?, ?)\n",
      "275 ФН10 14.0 1.464-13/82 вып. 2 Светоаэрационные фонари с двумя ярусами переплетов. стальные конструкции фонарей с применением в покрытии железобетонных плит. Чертежи КМ.\n",
      "insert into dbo.LinkedDocs(Id,Code,TypeId,Designation,Name) values (?, ?, ?, ?, ?)\n",
      "276 ФН11 14.0 1.464-13/82 вып. 3 Светоаэрационные фонари с двумя ярусами переплетов. стальные переплеты и пожарные лестницы. Рабочие чертежи.\n",
      "insert into dbo.LinkedDocs(Id,Code,TypeId,Designation,Name) values (?, ?, ?, ?, ?)\n",
      "277 ФН12 14.0 1.464-13/82 вып. 4 Светоаэрационные фонари с двумя ярусами переплетов. стальные конструкции фонарей с применением в покрытии стального профилированного настила и про филей по сокращенному сортаменту металлопроката (дополнение).\n",
      "insert into dbo.LinkedDocs(Id,Code,TypeId,Designation,Name) values (?, ?, ?, ?, ?)\n",
      "278 ФН13 14.0 1.464-13/82 вып. 5 Светоаэрационные фонари с двумя ярусами переплетов. стальные конструкции фонарей с применением в покрытии железобетонных плит и профилей по сокращенному сортаменту металлопроката (дополнение к выпуску 2). Чертежи КМ.\n",
      "insert into dbo.LinkedDocs(Id,Code,TypeId,Designation,Name) values (?, ?, ?, ?, ?)\n",
      "279 ФН14 14.0 1.464.2-17 вып. 1 Фонари зенитные с размерами светового проема 2,7*2,7 м со стальными переплетами. Фонарь зенитный глухой с двухслойными стеклопакетами. Рабочие чертежи.\n",
      "insert into dbo.LinkedDocs(Id,Code,TypeId,Designation,Name) values (?, ?, ?, ?, ?)\n",
      "280 ФН15 14.0 1.464.2-18 вып. 1 Фонари зенитные с размерами светового проема 2,9*5,9 м со стальными переплетами. Фонарь зенитный глухой с двухслойными стеклопакетами. Рабочие чертежи.\n"
     ]
    },
    {
     "name": "stdout",
     "output_type": "stream",
     "text": [
      "insert into dbo.LinkedDocs(Id,Code,TypeId,Designation,Name) values (?, ?, ?, ?, ?)\n",
      "281 ФН16 14.0 1.464.3-19 Стальные конструкции аэрационных фонарей для производственных зданий. Чертежи КМ.\n",
      "insert into dbo.LinkedDocs(Id,Code,TypeId,Designation,Name) values (?, ?, ?, ?, ?)\n",
      "282 ФН17 14.0 1.464.3-20 вып. 0 Фонари зенитные глухие и открывающиеся с применением гнутых профилей из тонколистовой стали. материалы для проектирования. Рабочие чертежи узлов.\n",
      "insert into dbo.LinkedDocs(Id,Code,TypeId,Designation,Name) values (?, ?, ?, ?, ?)\n",
      "283 ФН18 14.0 1.464.3-20 вып. 1 Фонари зенитные глухие и открывающиеся с применением гнутых профилей из тонколистовой стали. Рабочие чертежи.\n",
      "insert into dbo.LinkedDocs(Id,Code,TypeId,Designation,Name) values (?, ?, ?, ?, ?)\n",
      "284 ФН19 14.0 1.464.2-21 вып. 1 Фонари зенитные с размерами светового проема 1,5 1,7 м со стальными переплетами. Фонарь зенитный глухой с трехслойным стеклопакетом. Рабочие чертежи.\n",
      "insert into dbo.LinkedDocs(Id,Code,TypeId,Designation,Name) values (?, ?, ?, ?, ?)\n",
      "285 ФН2 14.0 1.464-11/82 вып. 0 Светоаэрационные фонари с од ним ярусом переплетов. материалы для проектирования. Рабочие чертежи узлов.\n",
      "insert into dbo.LinkedDocs(Id,Code,TypeId,Designation,Name) values (?, ?, ?, ?, ?)\n",
      "286 ФН20 14.0 110-84 вып. 1 Фонари зенитные с размерами светового проема 1,5 5,9 м со стальными переплетами. Фонарь зенитный глухой с двухслойными стеклопакетами.Рабочие чертежи.\n",
      "insert into dbo.LinkedDocs(Id,Code,TypeId,Designation,Name) values (?, ?, ?, ?, ?)\n",
      "287 ФН21 14.0 1.464-12 вып. 1 Механизмы реечного типа для открывания окон и светоаэрационных фонарей. Техническое описание.\n",
      "insert into dbo.LinkedDocs(Id,Code,TypeId,Designation,Name) values (?, ?, ?, ?, ?)\n",
      "288 ФН22 14.0 1.464-12 вып. 2 Механизмы реечного типа для открывания окон и светоаэрационных фонарей. Рабочие чертежи. Технические условия.\n",
      "insert into dbo.LinkedDocs(Id,Code,TypeId,Designation,Name) values (?, ?, ?, ?, ?)\n",
      "289 ФН3 14.0 1.464-11/82 вып. 1 Светоаэрационные фонари с од ним ярусом переплетов. стальные конструкции фонарей с применением в покрытии стального профилированного настила. Чертежи КМ.\n",
      "insert into dbo.LinkedDocs(Id,Code,TypeId,Designation,Name) values (?, ?, ?, ?, ?)\n",
      "290 ФН4 14.0 1.464-11/82 вып. 2 Светоаэрационные фонари с од ним ярусом переплетов. стальные конструкции фонарей с применением в покрытии ж/б плит.\n",
      "insert into dbo.LinkedDocs(Id,Code,TypeId,Designation,Name) values (?, ?, ?, ?, ?)\n",
      "291 ФН5 14.0 1.464-11/82 вып. 3 Светоаэрационные фонари с од ним ярусом переплетов. стальные переплеты и пожарные лестницы. Рабочие чертежи.\n",
      "insert into dbo.LinkedDocs(Id,Code,TypeId,Designation,Name) values (?, ?, ?, ?, ?)\n",
      "292 ФН6 14.0 1.464-11/82 вып. 4 Светоаэрационные фонари с од ним ярусом переплетов. стальные конструкции фонарей с применением в покрытии стального профилированного настила и профилей по сокращенному сортаменту металлопроката (дополнение к выпуску 1). Чертежи КМ.\n",
      "insert into dbo.LinkedDocs(Id,Code,TypeId,Designation,Name) values (?, ?, ?, ?, ?)\n",
      "293 ФН7 14.0 1.464-11/82 вып. 5 Светоаэрационные фонари с од ним ярусом переплетов. стальные конструкции фонарей с применением в покрытии железобетонных плит и профилей по сокращенному сортаменту металлопроката (дополнение к выпуску 2). Чертежи КМ.\n",
      "insert into dbo.LinkedDocs(Id,Code,TypeId,Designation,Name) values (?, ?, ?, ?, ?)\n",
      "294 ФН8 14.0 1.464-13/82 вып. 0 Светоаэрационные фонари с двумя ярусами переплетов. материалы для проектирования. Рабочие чертежи узлов.\n",
      "insert into dbo.LinkedDocs(Id,Code,TypeId,Designation,Name) values (?, ?, ?, ?, ?)\n",
      "295 ФН9 14.0 1.464-13/82 вып. 1 Светоаэрационные фонари с двумя ярусами переплетов. стальные конструкции фонарей с применением в покрытии стального профилированного настила. Чертежи КМ.\n",
      "insert into dbo.LinkedDocs(Id,Code,TypeId,Designation,Name) values (?, ?, ?, ?, ?)\n",
      "296 ЭО1 18.0 3.015-1/82 вып. 1 Унифицированные отдельно стоящие опоры под технологические трубопроводы. Материалы для проектирования.\n",
      "insert into dbo.LinkedDocs(Id,Code,TypeId,Designation,Name) values (?, ?, ?, ?, ?)\n",
      "297 ЭО10 18.0 3.403-2 вып. 0 Стальные опоры газопроводов и паропроводов предприятий черной металлургии. Пространственные опоры. Чертержи КМ.\n",
      "insert into dbo.LinkedDocs(Id,Code,TypeId,Designation,Name) values (?, ?, ?, ?, ?)\n",
      "298 ЭО2 18.0 3.015-1/82 вып. 3 Унифицированные отдельно стоящие опоры под технологические трубопроводы. Стальные конструкции. Чертежи КМ.\n",
      "insert into dbo.LinkedDocs(Id,Code,TypeId,Designation,Name) values (?, ?, ?, ?, ?)\n",
      "299 ЭО3 18.0 3.015-1/82 вып. 4 Унифицированные отдельно стоящие опоры под технологические трубопроводы. Ведомости расходов материалов.\n",
      "insert into dbo.LinkedDocs(Id,Code,TypeId,Designation,Name) values (?, ?, ?, ?, ?)\n",
      "300 ЭО4 18.0 3.015-2/82 вып. 3 Унифицированные одноярусные эстакады под технологические трубопроводы. Стальные конструкции. Чертежи КМ.\n",
      "insert into dbo.LinkedDocs(Id,Code,TypeId,Designation,Name) values (?, ?, ?, ?, ?)\n",
      "301 ЭО5 18.0 3.015-3/82 вып. 3 Унифицированные двухярусные эстакады под технологические трубопроводы. Стальные конструкции. Чертежи КМ.\n",
      "insert into dbo.LinkedDocs(Id,Code,TypeId,Designation,Name) values (?, ?, ?, ?, ?)\n",
      "302 ЭО6 18.0 3.015-7 Стальные опоры для трубопроводов технологических установок. Чертежи КМ.\n",
      "insert into dbo.LinkedDocs(Id,Code,TypeId,Designation,Name) values (?, ?, ?, ?, ?)\n",
      "303 ЭО7 18.0 3.403-2 вып. 0 Стальные опоры газопроводов и паропроводов предприятий черной металлургии. Указания по применению конструкций.\n",
      "insert into dbo.LinkedDocs(Id,Code,TypeId,Designation,Name) values (?, ?, ?, ?, ?)\n",
      "304 ЭО8 18.0 3.403-2 вып. 1 Стальные опоры газопроводов и паропроводов предприятий черной металлургии. Маятниковые опоры. Чертежи КМ.\n",
      "insert into dbo.LinkedDocs(Id,Code,TypeId,Designation,Name) values (?, ?, ?, ?, ?)\n",
      "305 ЭО9 18.0 3.403-2 вып. 2 Стальные опоры газопроводов и паропроводов предприятий черной металлургии. Плоские опоры. Чертежи КМ.\n"
     ]
    }
   ],
   "source": [
    "execute_values(df, \"linked_docs\")"
   ]
  },
  {
   "cell_type": "markdown",
   "metadata": {},
   "source": [
    "<h1>Категории производства по пожарной и взрывопожарной опасности</h1>"
   ]
  },
  {
   "cell_type": "code",
   "execution_count": 591,
   "metadata": {},
   "outputs": [],
   "source": [
    "df = pd.read_sql_query('SELECT * FROM Pro_t.dbo.Категории_пр', db_conn)"
   ]
  },
  {
   "cell_type": "code",
   "execution_count": 592,
   "metadata": {},
   "outputs": [],
   "source": [
    "df = df.replace(\"\", np.nan)"
   ]
  },
  {
   "cell_type": "code",
   "execution_count": 593,
   "metadata": {},
   "outputs": [],
   "source": [
    "df = df.rename(columns={\"поз\": \"id\",\n",
    "                        \"Категория\": \"category\",\n",
    "                        \"Название\": \"name\",\n",
    "                        \"Текст_од\": \"description\"\n",
    "                       })"
   ]
  },
  {
   "cell_type": "code",
   "execution_count": 594,
   "metadata": {},
   "outputs": [],
   "source": [
    "df = df.where(pd.notnull(df), None)"
   ]
  },
  {
   "cell_type": "code",
   "execution_count": 595,
   "metadata": {},
   "outputs": [],
   "source": [
    "cursor.execute(open(\"sql_server/5.sql\", \"r\").read())\n",
    "conn.commit()"
   ]
  },
  {
   "cell_type": "code",
   "execution_count": 596,
   "metadata": {},
   "outputs": [],
   "source": [
    "execute_values(df, \"fire_hazard_categories\")"
   ]
  },
  {
   "cell_type": "markdown",
   "metadata": {},
   "source": [
    "<h1>Проекты</h1>"
   ]
  },
  {
   "cell_type": "code",
   "execution_count": 645,
   "metadata": {},
   "outputs": [
    {
     "data": {
      "text/plain": [
       "(4112, 33)"
      ]
     },
     "execution_count": 645,
     "metadata": {},
     "output_type": "execute_result"
    }
   ],
   "source": [
    "df = pd.read_sql_query('SELECT * FROM Pro_t.dbo.Марки', db_conn)\n",
    "df.shape"
   ]
  },
  {
   "cell_type": "code",
   "execution_count": 646,
   "metadata": {},
   "outputs": [],
   "source": [
    "df = df.dropna(subset=[\"код_марки\", \"обозн\", \"комплекс\", \"объект\"])"
   ]
  },
  {
   "cell_type": "code",
   "execution_count": 647,
   "metadata": {},
   "outputs": [],
   "source": [
    "e_ids = pd.read_csv(\"employee_ids.csv\")\n",
    "e_ids = e_ids.drop([\"Unnamed: 0\"], axis=1)\n",
    "e_ids = e_ids.values.flatten().tolist()\n",
    "df.loc[df[\"гл_спец\"].isin(e_ids) == False, \"гл_спец\"] = None\n",
    "df.loc[df[\"рук_гр\"].isin(e_ids) == False, \"рук_гр\"] = None\n",
    "df.loc[df[\"н_контр\"].isin(e_ids) == False, \"н_контр\"] = None"
   ]
  },
  {
   "cell_type": "code",
   "execution_count": 648,
   "metadata": {},
   "outputs": [],
   "source": [
    "df = df[df[\"обозн\"].str.contains(\"демонтаж\") == False]\n",
    "df = df[df[\"обозн\"].str.contains(\"Мновый\") == False]\n",
    "df[\"обозн\"] = df[\"обозн\"].str.replace(\",\", \".\")"
   ]
  },
  {
   "cell_type": "code",
   "execution_count": 649,
   "metadata": {},
   "outputs": [],
   "source": [
    "df2 = pd.DataFrame(df[\"обозн\"].str.split('-КМ', 1).tolist(),\n",
    "                                 columns = ['first','code'])"
   ]
  },
  {
   "cell_type": "code",
   "execution_count": 650,
   "metadata": {},
   "outputs": [],
   "source": [
    "df = df.reset_index()\n",
    "df2 = df2.join(df)"
   ]
  },
  {
   "cell_type": "code",
   "execution_count": 651,
   "metadata": {},
   "outputs": [],
   "source": [
    "df2 = df2.dropna(subset=[\"code\"])"
   ]
  },
  {
   "cell_type": "code",
   "execution_count": 652,
   "metadata": {},
   "outputs": [],
   "source": [
    "df2[\"code\"] = \"КМ\" + df2[\"code\"]"
   ]
  },
  {
   "cell_type": "code",
   "execution_count": 653,
   "metadata": {},
   "outputs": [],
   "source": [
    "df3 = pd.DataFrame(df2[\"first\"].str.split('.', 1).tolist(),\n",
    "                                 columns = ['baseSeries','middle'])"
   ]
  },
  {
   "cell_type": "code",
   "execution_count": 654,
   "metadata": {},
   "outputs": [],
   "source": [
    "df2 = df2.reset_index()\n",
    "df3 = df3.reset_index()\n",
    "df4 = df2.join(df3[[\"baseSeries\", \"middle\"]])"
   ]
  },
  {
   "cell_type": "code",
   "execution_count": 655,
   "metadata": {},
   "outputs": [],
   "source": [
    "df4 = df4.drop([\"first\", \"index\"], axis=1)\n",
    "df4 = df4.rename(columns={\"код_марки\": \"id\"})"
   ]
  },
  {
   "cell_type": "code",
   "execution_count": 656,
   "metadata": {},
   "outputs": [],
   "source": [
    "df5 = pd.DataFrame(df4[\"middle\"].fillna(\"\").str.split('.', 1).tolist(),\n",
    "                                 columns = ['node','subnode'])"
   ]
  },
  {
   "cell_type": "code",
   "execution_count": 657,
   "metadata": {},
   "outputs": [],
   "source": [
    "df6 = pd.DataFrame(df5[\"subnode\"].fillna(\"\").str.split('-', 1).tolist(),\n",
    "                                 columns = ['subnode_part','node_part'])"
   ]
  },
  {
   "cell_type": "code",
   "execution_count": 658,
   "metadata": {},
   "outputs": [],
   "source": [
    "df5 = df5.reset_index()\n",
    "df6 = df6.reset_index()\n",
    "df7 = df5.join(df6[[\"subnode_part\", \"node_part\"]])"
   ]
  },
  {
   "cell_type": "code",
   "execution_count": 659,
   "metadata": {},
   "outputs": [],
   "source": [
    "df7[\"node_part\"] = \"-\" + df7[\"node_part\"]\n",
    "df7[\"node2\"] = df7[\"node\"] + df7[\"node_part\"].fillna(\"\")"
   ]
  },
  {
   "cell_type": "code",
   "execution_count": 660,
   "metadata": {},
   "outputs": [],
   "source": [
    "df4 = df4.reset_index(drop=True)\n",
    "df7 = df7.reset_index(drop=True)\n",
    "df8 = df4.join(df7[[\"node2\", \"subnode_part\"]])"
   ]
  },
  {
   "cell_type": "code",
   "execution_count": 661,
   "metadata": {},
   "outputs": [],
   "source": [
    "df8 = df8.rename(columns={\"node2\": \"nodeCode\", \"subnode_part\": \"subnodeCode\"})\n",
    "df8 = df8.drop([\"middle\"], axis=1)"
   ]
  },
  {
   "cell_type": "code",
   "execution_count": 662,
   "metadata": {},
   "outputs": [],
   "source": [
    "enc = OrdinalEncoder()\n",
    "res = enc.fit_transform(np.array(df8[\"baseSeries\"]).reshape(-1, 1))"
   ]
  },
  {
   "cell_type": "code",
   "execution_count": 663,
   "metadata": {},
   "outputs": [],
   "source": [
    "s = pd.DataFrame(pd.Series(res.flatten()) + 1)\n",
    "s = s.rename(columns={0: \"project_id\"})"
   ]
  },
  {
   "cell_type": "code",
   "execution_count": 664,
   "metadata": {},
   "outputs": [],
   "source": [
    "df9 = df8.join(s)"
   ]
  },
  {
   "cell_type": "code",
   "execution_count": 665,
   "metadata": {},
   "outputs": [],
   "source": [
    "projects_df = df9[[\"baseSeries\", \"комплекс\", \"project_id\"]]"
   ]
  },
  {
   "cell_type": "code",
   "execution_count": 666,
   "metadata": {},
   "outputs": [],
   "source": [
    "projects_df = projects_df.drop_duplicates(subset=[\"project_id\"])"
   ]
  },
  {
   "cell_type": "code",
   "execution_count": 667,
   "metadata": {},
   "outputs": [],
   "source": [
    "projects_df = projects_df.rename(columns={\"baseSeries\": \"base_series\", \"комплекс\": \"name\", \"project_id\": \"id\"})"
   ]
  },
  {
   "cell_type": "code",
   "execution_count": 668,
   "metadata": {},
   "outputs": [],
   "source": [
    "cursor.execute(open(\"sql_server/xx_projects.sql\", \"r\").read())\n",
    "conn.commit()"
   ]
  },
  {
   "cell_type": "code",
   "execution_count": 669,
   "metadata": {},
   "outputs": [
    {
     "name": "stdout",
     "output_type": "stream",
     "text": [
      "insert into dbo.Projects(BaseSeries,Name,Id) values (?, ?, ?)\n",
      "М32636 ОАО \"ММК\". ЦЭСиП. ЦЭС. Реконструкция сети 110/10 кВ в 2013 году 16.0\n",
      "insert into dbo.Projects(BaseSeries,Name,Id) values (?, ?, ?)\n",
      "М32714-2  ПАО \"ММК\". Доменный цех. Печь №7 23.0\n",
      "insert into dbo.Projects(BaseSeries,Name,Id) values (?, ?, ?)\n",
      "М32839 ПАО \"ММК\". Доменный цех. Печь №1. Аспирация литейных дворов 37.0\n",
      "insert into dbo.Projects(BaseSeries,Name,Id) values (?, ?, ?)\n",
      "М32622 ОАО \"ММК\". ТЭЦ. Техническое перевооружение 14.0\n",
      "insert into dbo.Projects(BaseSeries,Name,Id) values (?, ?, ?)\n",
      "М60215 ОАО \"ММК\". Доменный цех. Печь №4. Модернизация 73.0\n",
      "insert into dbo.Projects(BaseSeries,Name,Id) values (?, ?, ?)\n",
      "М32715 ОАО\"ММК\". Доменный цех. Печь №9. Литейные дворы. Техперевооружение 24.0\n",
      "insert into dbo.Projects(BaseSeries,Name,Id) values (?, ?, ?)\n",
      "М32714-1 ОАО \"ММК\". Доменный цех. Печь №7 22.0\n",
      "insert into dbo.Projects(BaseSeries,Name,Id) values (?, ?, ?)\n",
      "М32710 ОАО \"ММК\". ТЭЦ 21.0\n",
      "insert into dbo.Projects(BaseSeries,Name,Id) values (?, ?, ?)\n",
      "М32829 ПАО \"ММК\". ГОП. ЦПАШ.\r\n",
      "Тракт подачи ЖРС для новой аглофабрики 34.0\n",
      "insert into dbo.Projects(BaseSeries,Name,Id) values (?, ?, ?)\n",
      "М32875 ПАО \"ММК\". Доменный цех. Печь №2. Техперевооружение 45.0\n",
      "insert into dbo.Projects(BaseSeries,Name,Id) values (?, ?, ?)\n",
      "М61223 ПАО \"ММК\". Управление логистики. Ст. Входная, ж.-д. путь №6. Дооборудование 120.0\n",
      "insert into dbo.Projects(BaseSeries,Name,Id) values (?, ?, ?)\n",
      "М32872 ПАО \"ММК\". КХП. Комплекс коксовой батареи № 12. Подготовка площадки строительства. Сети электроснабжения 43.0\n",
      "insert into dbo.Projects(BaseSeries,Name,Id) values (?, ?, ?)\n",
      "М39948 ОАО \"ММК-МЕТИЗ\". ПК. Организация производства ж/д крепежа на метизной площадке.Техническое перевооружение 69.0\n",
      "insert into dbo.Projects(BaseSeries,Name,Id) values (?, ?, ?)\n",
      "М32868 ПАО \"ММК\". Газовый цех. Реконструкция газопровода природного газа от ГРС-3 до ГРС ММК, ГРС ММК и отвода к ГРП ТЭЦ 42.0\n",
      "insert into dbo.Projects(BaseSeries,Name,Id) values (?, ?, ?)\n",
      "М39469 ООО \"ТУЛАЧЕРМЕТ-СТАЛЬ\". Литейно-прокатный комплекс. 62.0\n",
      "insert into dbo.Projects(BaseSeries,Name,Id) values (?, ?, ?)\n",
      "М31208 ОАО \"ММК\". Доменный цех. Печь №2. Капремонт 9.0\n",
      "insert into dbo.Projects(BaseSeries,Name,Id) values (?, ?, ?)\n",
      "М32787 ОАО \"ММК\". Доменный цех. Печь №10. Техперевооружение 27.0\n",
      "insert into dbo.Projects(BaseSeries,Name,Id) values (?, ?, ?)\n",
      "М32673 ОАО \"ММК\". Система автоматизированного контроля промышленных выбросов от источников ОАО \"ММК\" 17.0\n",
      "insert into dbo.Projects(BaseSeries,Name,Id) values (?, ?, ?)\n",
      "М32623 ОАО \"ММК\". Газовый цех 15.0\n",
      "insert into dbo.Projects(BaseSeries,Name,Id) values (?, ?, ?)\n",
      "М39589 ООО \"Златоустовский электрометаллургический завод\".    ЭСПЦ-2. Техническое перевооружение 63.0\n",
      "insert into dbo.Projects(BaseSeries,Name,Id) values (?, ?, ?)\n",
      "М32696 ОАО \"ММК\". ГОП. Аглоцех. Сероулавливающая установка №2. Реконструкция. II очередь 19.0\n",
      "insert into dbo.Projects(BaseSeries,Name,Id) values (?, ?, ?)\n",
      "М32799  ОАО \"ММК\". Доменный цех. Печь №10. Аспирационная установка литейных дворов 30.0\n",
      "insert into dbo.Projects(BaseSeries,Name,Id) values (?, ?, ?)\n",
      "М32797 ОАО \"ММК\". Доменный цех. Печь №10. Реконструкция литейных дворов 29.0\n",
      "insert into dbo.Projects(BaseSeries,Name,Id) values (?, ?, ?)\n",
      "М60216 ОАО \"ММК\". Доменный цех. Печь №1. Бункерная эстакада. Реконструкция 74.0\n",
      "insert into dbo.Projects(BaseSeries,Name,Id) values (?, ?, ?)\n",
      "М32717 ОАО \"ММК\". КХП. ЦУПХП. Склад нафталиновой фракции и технологического нафталина с погрузочной эстакадой 25.0\n",
      "insert into dbo.Projects(BaseSeries,Name,Id) values (?, ?, ?)\n",
      " М39469 ООО \"ТУЛАЧЕРМЕТ-СТАЛЬ\". Литейно-прокатный комплекс 2.0\n",
      "insert into dbo.Projects(BaseSeries,Name,Id) values (?, ?, ?)\n",
      "М60223 ОАО \"ММК\". ТЭЦ. Дооборудование 75.0\n",
      "insert into dbo.Projects(BaseSeries,Name,Id) values (?, ?, ?)\n",
      "М32812 ОАО \"ММК\". Доменный цех. Печь №9. Аспирационная установка литейных дворов 31.0\n",
      "insert into dbo.Projects(BaseSeries,Name,Id) values (?, ?, ?)\n",
      "М39929 АО \"ВМЗ\". Трубопрокатный цех (ТПЦ) 68.0\n",
      "insert into dbo.Projects(BaseSeries,Name,Id) values (?, ?, ?)\n",
      "М60419 ОАО \"ММК\". Доменный цех. Печь №6. Аспирация литейного двора 76.0\n",
      "insert into dbo.Projects(BaseSeries,Name,Id) values (?, ?, ?)\n",
      "М32833 ОАО \"ММК\". Доменный цех. Печь №1. Техперевооружение 35.0\n",
      "insert into dbo.Projects(BaseSeries,Name,Id) values (?, ?, ?)\n",
      "М32826 ОАО \"ММК\". Доменный цех. Печь №10.\r\n",
      "Воздухонагреватель №35. Реконструкция 33.0\n",
      "insert into dbo.Projects(BaseSeries,Name,Id) values (?, ?, ?)\n",
      "М60485 ОАО \"ММК\". Доменный цех. Печь №2. Модернизация 77.0\n",
      "insert into dbo.Projects(BaseSeries,Name,Id) values (?, ?, ?)\n",
      "М60486 ОАО \"ММК\". Доменный цех. Печь №4. Модернизация 78.0\n",
      "insert into dbo.Projects(BaseSeries,Name,Id) values (?, ?, ?)\n",
      "М60487 ОАО \"ММК\". Доменный цех. Печь №6. Модернизация 79.0\n",
      "insert into dbo.Projects(BaseSeries,Name,Id) values (?, ?, ?)\n",
      "М60490 ОАО \"ММК\". Доменный цех. Печь №9. Модернизация 82.0\n",
      "insert into dbo.Projects(BaseSeries,Name,Id) values (?, ?, ?)\n",
      "М32843 ПАО \"ММК\". Доменный цех. Печь №1.\r\n",
      "Аспирация подбункерных помещений 38.0\n",
      "insert into dbo.Projects(BaseSeries,Name,Id) values (?, ?, ?)\n",
      "М60489 ОАО \"ММК\". Доменный цех. Печь №8. Модернизация 81.0\n",
      "insert into dbo.Projects(BaseSeries,Name,Id) values (?, ?, ?)\n",
      "М60488 ПАО \"ММК\". Доменный цех. Печь №7. Модернизация 80.0\n",
      "insert into dbo.Projects(BaseSeries,Name,Id) values (?, ?, ?)\n",
      "М32368-1 ПАО \"ММК\". Кислородная станция №4. Техническое перевооружение. Блок разделения воздуха АКАр-40/35-2 №4 12.0\n",
      "insert into dbo.Projects(BaseSeries,Name,Id) values (?, ?, ?)\n",
      "М61002 ПАО \"ММК\". Доменный цех. Печь №7. Модернизация 106.0\n",
      "insert into dbo.Projects(BaseSeries,Name,Id) values (?, ?, ?)\n",
      "М32854 ПАО\"ММК\". Доменный цех. Печь №1. \r\n",
      "Реконструкция литейных дворов 40.0\n",
      "insert into dbo.Projects(BaseSeries,Name,Id) values (?, ?, ?)\n",
      "М60568 ПАО \"ММК'. Доменный цех. БЗУ доменных печей №2, 4, 6, 9, 10. Модернизация. 84.0\n",
      "insert into dbo.Projects(BaseSeries,Name,Id) values (?, ?, ?)\n",
      "Мс32826 ПАО \"ММК\". Доменный цех. Печь № 10.\r\n",
      "Воздухонагреватель № 35. Реконструкция 130.0\n",
      "insert into dbo.Projects(BaseSeries,Name,Id) values (?, ?, ?)\n",
      "М60922 ПАО \"ММК\". ГОП. СУУ-4. Модернизация 100.0\n",
      "insert into dbo.Projects(BaseSeries,Name,Id) values (?, ?, ?)\n",
      "Мс32843 ПАО \"ММК\". Доменный цех. Печь №1. \r\n",
      "Аспирация подбункерных помещений 132.0\n",
      "insert into dbo.Projects(BaseSeries,Name,Id) values (?, ?, ?)\n",
      "М32368 ПАО \"ММК\". Кислородная станция № 4. Техническое перевооружение. Блок разделения воздуха АКАр-40/35-2 № 4 11.0\n",
      "insert into dbo.Projects(BaseSeries,Name,Id) values (?, ?, ?)\n",
      "М32882 ПАО \"ММК\". Доменный цех. Печь №1.\r\n",
      "Модернизация блока воздухонагревателей №1, 2, 3, 4 48.0\n",
      "insert into dbo.Projects(BaseSeries,Name,Id) values (?, ?, ?)\n",
      "М32880 ПАО \"ММК\". Доменный цех. Печь №7. Воздухонагреватель №23. Техперевооружение 46.0\n",
      "insert into dbo.Projects(BaseSeries,Name,Id) values (?, ?, ?)\n",
      "М60493 ПАО \"ММК\". ТЭЦ. Модернизация.\r\n",
      "Турбинный участок 83.0\n",
      "insert into dbo.Projects(BaseSeries,Name,Id) values (?, ?, ?)\n",
      "МА357 Администрация города Магнитогорска Челябинской области МБУ «Дворец спорта имени И.Х. Ромазана» города Магнитогорска 128.0\n",
      "insert into dbo.Projects(BaseSeries,Name,Id) values (?, ?, ?)\n",
      "М32874 ПАО \"ММК\". Доменный цех. Печь № 2.\r\n",
      "Реконструкция литейных дворов 44.0\n",
      "insert into dbo.Projects(BaseSeries,Name,Id) values (?, ?, ?)\n",
      "М23826 ПАО \"ММК\". Доменный цех. Печь №10.\r\n",
      "Воздухонагреватель №35. Реконструкция 3.0\n",
      "insert into dbo.Projects(BaseSeries,Name,Id) values (?, ?, ?)\n",
      "М32788 ПАО \"ММК\". ГОП. Строительство новой аглофабрики 28.0\n",
      "insert into dbo.Projects(BaseSeries,Name,Id) values (?, ?, ?)\n",
      "М60803 ПАО \"ММК\". Сортовой цех. Стан 170. Дооборудование 94.0\n",
      "insert into dbo.Projects(BaseSeries,Name,Id) values (?, ?, ?)\n",
      "М39850 ЗАО \"МЗПВ\". Вальцетокарный участок. Дооборудование 64.0\n",
      "insert into dbo.Projects(BaseSeries,Name,Id) values (?, ?, ?)\n",
      "М32866 ПАО \"ММК\". Паросиловой цех.Электростанция КХП. 41.0\n",
      "insert into dbo.Projects(BaseSeries,Name,Id) values (?, ?, ?)\n",
      "М32490 ПАО \"ММК\". ЛПЦ№4. Стан 2500 горячей прокатки. Реконструкция 13.0\n",
      "insert into dbo.Projects(BaseSeries,Name,Id) values (?, ?, ?)\n",
      "М60200 ОАО \"ММК\". Кислородный цех. Модернизация. Кислородная станция №5 72.0\n",
      "insert into dbo.Projects(BaseSeries,Name,Id) values (?, ?, ?)\n",
      "М60849 ПАО \"ММК\". ККЦ. Газоочистки конвертерных газов №1, 2, 3. Модернизация 95.0\n",
      "insert into dbo.Projects(BaseSeries,Name,Id) values (?, ?, ?)\n",
      "М32780-13 ПАО \"ММК\". Программа оснащения структурных подразделений ПАО \"ММК\" весами на 2016-2018 годы. Техперевооружение весов станции Доменная (путь №1) 26.0\n",
      "insert into dbo.Projects(BaseSeries,Name,Id) values (?, ?, ?)\n",
      "М60906 ПАО \"ММК\".  ГОП. ДОЦ. Модернизация 99.0\n",
      "insert into dbo.Projects(BaseSeries,Name,Id) values (?, ?, ?)\n",
      "М60759 ПАО \"ММК\". ЛПЦ№11. Травильное отделение. Модернизация 91.0\n",
      "insert into dbo.Projects(BaseSeries,Name,Id) values (?, ?, ?)\n",
      "М28601-145К ПАО \"ММК\". Сортовой цех. Капремонт Стан 170 8.0\n",
      "insert into dbo.Projects(BaseSeries,Name,Id) values (?, ?, ?)\n",
      "М32886 ПАО \"ММК\". ДЦ. Комплекс новой доменной печи №11. Подготовка площадки строительства 49.0\n",
      "insert into dbo.Projects(BaseSeries,Name,Id) values (?, ?, ?)\n",
      "М32709 ПАО \"MMK\". Цех электросетей и подстанций 20.0\n",
      "insert into dbo.Projects(BaseSeries,Name,Id) values (?, ?, ?)\n",
      "М28541-210К  ПАО \"ММК\". ГОП. Аглоцех. Капремонт 7.0\n",
      "insert into dbo.Projects(BaseSeries,Name,Id) values (?, ?, ?)\n",
      "М60659 ПАО \"ММК\". ГОП. Цех РОФ. ВФУ. Модернизация 86.0\n",
      "insert into dbo.Projects(BaseSeries,Name,Id) values (?, ?, ?)\n",
      "М60751 ПАО \"ММК\". ЛПЦ №11. Травильное отделение. Модернизация 89.0\n",
      "insert into dbo.Projects(BaseSeries,Name,Id) values (?, ?, ?)\n",
      "М60938  ПАО \"ММК\". ГОП. Аглоцех. Аглофабрика №3. Спекательный корпус. Модернизация 101.0\n",
      "insert into dbo.Projects(BaseSeries,Name,Id) values (?, ?, ?)\n",
      "М60764 ПАО \"ММК\". ЛПЦ№11. АНГЦ. Модернизация 93.0\n",
      "insert into dbo.Projects(BaseSeries,Name,Id) values (?, ?, ?)\n",
      "М60763 ПАО \"ММК\". ЛПЦ №11. АНО/АНГЦ. Модернизация 92.0\n",
      "insert into dbo.Projects(BaseSeries,Name,Id) values (?, ?, ?)\n",
      "Мс32829 ПАО \"ММК\". ГОП. ЦПАШ.\r\n",
      "Тракт подачи ЖРС для новой аглофабрики 131.0\n",
      "insert into dbo.Projects(BaseSeries,Name,Id) values (?, ?, ?)\n",
      "М60746 ПАО \"ММК\". ЛПЦ №11. Агрегат перемотки и инспекции. Модернизация 88.0\n",
      "insert into dbo.Projects(BaseSeries,Name,Id) values (?, ?, ?)\n",
      "Мс32788 ПАО \"ММК\". ГОП. Строительство новой аглофабрики 129.0\n",
      "insert into dbo.Projects(BaseSeries,Name,Id) values (?, ?, ?)\n",
      "М32848 ПАО \"ММК\". ЦЭС. Техническое перевооружение. Турбогенератор № 6. Инцидент - разрушение турбогенератора 6 39.0\n",
      "insert into dbo.Projects(BaseSeries,Name,Id) values (?, ?, ?)\n",
      "М60874 ПАО \"ММК\". ГОП. РОФ. УШХ. Модернизация 97.0\n",
      "insert into dbo.Projects(BaseSeries,Name,Id) values (?, ?, ?)\n",
      "М60755 ПАО \"ММК\". ЛПЦ №11. Агрегат упаковки рулонов №2. \r\n",
      "Модернизация 90.0\n",
      "insert into dbo.Projects(BaseSeries,Name,Id) values (?, ?, ?)\n",
      "М38137 АО \"МАГНИТОГОРСКИЙ ГИПРОМЕЗ\". Производственная база в районе обувной фабрики 61.0\n",
      "insert into dbo.Projects(BaseSeries,Name,Id) values (?, ?, ?)\n",
      "М60885 ПАО \"ММК\". ККЦ. Участок внепечной обработки стали. \r\n",
      "Установка электродугового нагрева стали. Модернизация 98.0\n",
      "insert into dbo.Projects(BaseSeries,Name,Id) values (?, ?, ?)\n",
      "М60569 ПАО \"ММК\". ЦЛК. Центральное здание. Модернизация 85.0\n",
      "insert into dbo.Projects(BaseSeries,Name,Id) values (?, ?, ?)\n",
      "М60851 ПАО \"ММК\". Копровый цех. Участок №2. Модернизация 96.0\n",
      "insert into dbo.Projects(BaseSeries,Name,Id) values (?, ?, ?)\n",
      "М60693 ПАО \"ММК\". Доменный цех. Печь №10. Модернизация 87.0\n",
      "insert into dbo.Projects(BaseSeries,Name,Id) values (?, ?, ?)\n",
      "М32899 ПАО \"ММК\". СЦ. Техническое перевооружение.\r\n",
      "Оборудование технологического комплекса линии\r\n",
      "воздушного охлаждения катанки стана 170 54.0\n",
      "insert into dbo.Projects(BaseSeries,Name,Id) values (?, ?, ?)\n",
      "М60939 ПАО \"ММК\". ЭСПЦ. МНЛЗ №1, 2, 5. Модернизация 102.0\n",
      "insert into dbo.Projects(BaseSeries,Name,Id) values (?, ?, ?)\n",
      "М32890 ПАО \"ММК\". Листопрокатный цех № 4.Реконструкция стана 2500 горячей прокатки 52.0\n",
      "insert into dbo.Projects(BaseSeries,Name,Id) values (?, ?, ?)\n",
      "М32887 ПАО \"ММК\". ЛПЦ №10. Техническое перевооружение 50.0\n",
      "insert into dbo.Projects(BaseSeries,Name,Id) values (?, ?, ?)\n",
      "М61040 ПАО \"ММК\". ГОП. Аглоцех. Аглофабрика №2. СУУ №2. Модернизация 110.0\n",
      "insert into dbo.Projects(BaseSeries,Name,Id) values (?, ?, ?)\n",
      "М32684 ПАО \"ММК\". Цех водоснабжения. Реконструкция системы обратного водоснабжения ПАО\"ММК\" с расширением резервуара - охладителя 18.0\n",
      "insert into dbo.Projects(BaseSeries,Name,Id) values (?, ?, ?)\n",
      "М39883 ОАО \"ММК-МЕТИЗ\". Здание КЦ (калибровочная площадка).\r\n",
      "Калибровочное отделение 65.0\n",
      "insert into dbo.Projects(BaseSeries,Name,Id) values (?, ?, ?)\n",
      "М32889 ПАО \"ММК\". ЛПЦ №4. Стан 2500 горячей прокатки. Техническое перевооружение. Участок чистовых клетей 51.0\n",
      "insert into dbo.Projects(BaseSeries,Name,Id) values (?, ?, ?)\n",
      "М61036  ПАО \"ММК\". ГОП. Аглоцех. Аглофабрика №2. СУУ№2. Модернизация 109.0\n",
      "insert into dbo.Projects(BaseSeries,Name,Id) values (?, ?, ?)\n",
      "М32336 ПАО \"ММК\". Доменный цех. Установка БЗУ 10.0\n",
      "insert into dbo.Projects(BaseSeries,Name,Id) values (?, ?, ?)\n",
      "М39895 ООО \"Шлаксервис\". УПШ (ЭСПЦ). Шлаковый двор № 2 66.0\n",
      "insert into dbo.Projects(BaseSeries,Name,Id) values (?, ?, ?)\n",
      "М61024 ПАО\"ММК\". КХП. Коксовый цех. Коксовые батареи №13, 14. Здание бункеров кокса участка коксосортировки. Модернизация 107.0\n",
      "insert into dbo.Projects(BaseSeries,Name,Id) values (?, ?, ?)\n",
      "М32912 ПАО \"ММК\". ГОП. Агломерационный цех. Техническое  перевооружение. Аглофабрика №3. СУУ №4 55.0\n",
      "insert into dbo.Projects(BaseSeries,Name,Id) values (?, ?, ?)\n",
      "М61034 ПАО \"ММК\". ЛПЦ-5. Двухклетевой реверсивный стан. Модернизация 108.0\n",
      "insert into dbo.Projects(BaseSeries,Name,Id) values (?, ?, ?)\n",
      "М28516 ПАО \"ММК\" ПВЭС. Блок №2. Капремонт 4.0\n",
      "insert into dbo.Projects(BaseSeries,Name,Id) values (?, ?, ?)\n",
      "М61056 ПАО \"ММК\". Доменный цех. Ст. Доменная, ж.-д путь №3. Модернизация 114.0\n",
      "insert into dbo.Projects(BaseSeries,Name,Id) values (?, ?, ?)\n",
      "М61080 ПАО \"ММК\". Управление логистики. Ст. Входная, ж.-д путь №5. Дооборудование 115.0\n",
      "insert into dbo.Projects(BaseSeries,Name,Id) values (?, ?, ?)\n",
      "М32891 ПАО \"ММК\". Доменный цех. Печь №2. Аспирация литейных дворов 53.0\n",
      "insert into dbo.Projects(BaseSeries,Name,Id) values (?, ?, ?)\n",
      "М28517 ПАО \"ММК\". ТЭЦ. Капремонт. \r\n",
      "Котел №6. Пылесборный бункер 5.0\n",
      "insert into dbo.Projects(BaseSeries,Name,Id) values (?, ?, ?)\n",
      " М32874 ПАО \"ММК\". Доменный цех. Печь № 2. Реконструкция литейных дворов 1.0\n",
      "insert into dbo.Projects(BaseSeries,Name,Id) values (?, ?, ?)\n",
      "М61119 ПАО \"ММК\".ККЦ. Ст. Гранитная, ж.-д путь №28. Модернизация 117.0\n",
      "insert into dbo.Projects(BaseSeries,Name,Id) values (?, ?, ?)\n",
      "М61112 ПАО \"ММК\". Копровый цех. Участок №1. Дооборудование 116.0\n",
      "insert into dbo.Projects(BaseSeries,Name,Id) values (?, ?, ?)\n",
      "М60951 ПАО \"ММК\". ТЭЦ. Модернизация 103.0\n",
      "insert into dbo.Projects(BaseSeries,Name,Id) values (?, ?, ?)\n",
      "М60973         ПАО \"ММК\". УПП. Участок №1. Склад №32.\r\n",
      "                             Дооборудования 104.0\n",
      "insert into dbo.Projects(BaseSeries,Name,Id) values (?, ?, ?)\n",
      "М60979 ПАО \"ММК\". ГОП. ЦПАШ. ГРП№1. Модернизация 105.0\n",
      "insert into dbo.Projects(BaseSeries,Name,Id) values (?, ?, ?)\n",
      "М32817 ПАО \"ММК\". ГОП. РОФ. Водозаборная насосная станция 32.0\n",
      "insert into dbo.Projects(BaseSeries,Name,Id) values (?, ?, ?)\n",
      "М32927         ПАО \"ММК\". УПП.Склад оборудования, поступающего на объекты ПАО \"ММК\" (Мазутка-3) 58.0\n",
      "insert into dbo.Projects(BaseSeries,Name,Id) values (?, ?, ?)\n",
      "М61235 ПАО \"ММК\". Доменный цех. Печь №6.\r\n",
      "Модернизация 121.0\n",
      "insert into dbo.Projects(BaseSeries,Name,Id) values (?, ?, ?)\n",
      "М32921 ПАО \"ММК\". Доменный цех. Печь №2. Техперевооружение 57.0\n",
      "insert into dbo.Projects(BaseSeries,Name,Id) values (?, ?, ?)\n",
      "М61047 ПАО \"ММК\". КХП.Коксовый цех. Коксовая батарея №9.\r\n",
      "Аспирационные системы А-1 и А-2. Модернизация 113.0\n",
      "insert into dbo.Projects(BaseSeries,Name,Id) values (?, ?, ?)\n",
      "М61221 ПАО \"ММК\". ГОП. Аглоцех. Аглофабрика №1. Модернизация 119.0\n",
      "insert into dbo.Projects(BaseSeries,Name,Id) values (?, ?, ?)\n",
      "М61202 ПАО \"ММК\". УПП. Участок оборудования №2. Склад упаковки материалов. Дооборудование 118.0\n",
      "insert into dbo.Projects(BaseSeries,Name,Id) values (?, ?, ?)\n",
      "М28541 ПАО \"ММК\". ГОП. Аглоцех. Капремонт. Аглофабрика №3. СУУ №4 6.0\n",
      "insert into dbo.Projects(BaseSeries,Name,Id) values (?, ?, ?)\n",
      "М32836 ПАО \"ММК\".УЛ. Техническое перевооружение.Контактная сеть станция Ежовка и перегонов со станции Доменная и Кольцевая 36.0\n",
      "insert into dbo.Projects(BaseSeries,Name,Id) values (?, ?, ?)\n",
      "М32937 ПАО \"ММК\". ГОП. Аглоцех. Техперевооружение. \r\n",
      "Сероулавливающая установка № 3. 59.0\n",
      "insert into dbo.Projects(BaseSeries,Name,Id) values (?, ?, ?)\n",
      "М61244 ПАО \"ММК\". Цех водоснабжения. \r\n",
      "Водоводы доменного цеха. Модернизация 122.0\n",
      "insert into dbo.Projects(BaseSeries,Name,Id) values (?, ?, ?)\n",
      "М61325  ПАО \"ММК\". Отдел управления собственностью. Весовое хозяйство. Дооборудование 127.0\n",
      "insert into dbo.Projects(BaseSeries,Name,Id) values (?, ?, ?)\n",
      "М32881 Подмости 47.0\n",
      "insert into dbo.Projects(BaseSeries,Name,Id) values (?, ?, ?)\n",
      "М39992 ОАО \"ММК-МЕТИЗ\". ЦЭР.\r\n",
      "Техническое перевооружение 70.0\n",
      "insert into dbo.Projects(BaseSeries,Name,Id) values (?, ?, ?)\n",
      "М39993 ОАО \"ММК-МЕТИЗ\". ЦЭР.\r\n",
      " Техническое перевооружение 71.0\n",
      "insert into dbo.Projects(BaseSeries,Name,Id) values (?, ?, ?)\n",
      "М61306 ПАО \"ММК\". ГОП. ДОЦ. Станция \"Лисья Гора\" (путь №2).\r\n",
      "Весовое хозяйство. Модернизация 123.0\n",
      "insert into dbo.Projects(BaseSeries,Name,Id) values (?, ?, ?)\n",
      "М61042 ПАО \"ММК\". КХП. Коксовый цех. Участок коксосортировки коксовых батарей №13,14. Галерея конвейера Д-12Б. Модернизация 111.0\n",
      "insert into dbo.Projects(BaseSeries,Name,Id) values (?, ?, ?)\n",
      "М61310 ПАО \"ММК\". Копровый цех. Участок №3. Весовое хозяйство.  Дооборудование 125.0\n",
      "insert into dbo.Projects(BaseSeries,Name,Id) values (?, ?, ?)\n",
      "М32917 ПАО \"ММК\". КХП. Подготовка строительной площадки БХУ 56.0\n",
      "insert into dbo.Projects(BaseSeries,Name,Id) values (?, ?, ?)\n",
      "М61309 ПАО \"ММК\". ГОП. Цех РОФ. Станция \"Площадка\" (путь №2). Весовое хозяйство. Модернизация 124.0\n",
      "insert into dbo.Projects(BaseSeries,Name,Id) values (?, ?, ?)\n",
      "М61043 ПАО \"ММК\". КХП. Коксовый цех. Участок коксосортировки коксовых батарей №13,14. Галерея конвейера К-26 А,Б. Модернизация 112.0\n",
      "insert into dbo.Projects(BaseSeries,Name,Id) values (?, ?, ?)\n",
      "М32939 ПАО \"ММК\". ЛПЦ-5. Техническое перевооружение 60.0\n",
      "insert into dbo.Projects(BaseSeries,Name,Id) values (?, ?, ?)\n",
      "М61314 ПАО \"ММК\". Доменный цех. Печь №1.\r\n",
      "Дооборудование 126.0\n",
      "insert into dbo.Projects(BaseSeries,Name,Id) values (?, ?, ?)\n",
      "М39901 АО \"Выксунский металлургический завод\". Электрометаллургический комплекс и необходимая инфраструктура 67.0\n"
     ]
    }
   ],
   "source": [
    "execute_values(projects_df, \"projects\")"
   ]
  },
  {
   "cell_type": "markdown",
   "metadata": {},
   "source": [
    "<h1>Узлы</h1>"
   ]
  },
  {
   "cell_type": "code",
   "execution_count": 670,
   "metadata": {},
   "outputs": [],
   "source": [
    "df10 = pd.DataFrame(df9[\"объект\"].str.split('.', 1).tolist(),\n",
    "                                 columns = ['f_p','o_p'])"
   ]
  },
  {
   "cell_type": "code",
   "execution_count": 671,
   "metadata": {},
   "outputs": [],
   "source": [
    "df10 = df10.fillna(\"\")"
   ]
  },
  {
   "cell_type": "code",
   "execution_count": 672,
   "metadata": {},
   "outputs": [],
   "source": [
    "df11 = df9.join(df10)"
   ]
  },
  {
   "cell_type": "code",
   "execution_count": 673,
   "metadata": {},
   "outputs": [],
   "source": [
    "df11[\"node_feature\"] = df11[\"baseSeries\"] + df11[\"nodeCode\"]"
   ]
  },
  {
   "cell_type": "code",
   "execution_count": 674,
   "metadata": {},
   "outputs": [],
   "source": [
    "enc = OrdinalEncoder()\n",
    "res = enc.fit_transform(np.array(df11[\"node_feature\"]).reshape(-1, 1))"
   ]
  },
  {
   "cell_type": "code",
   "execution_count": 675,
   "metadata": {},
   "outputs": [],
   "source": [
    "s = pd.DataFrame(pd.Series(res.flatten()) + 1)\n",
    "s = s.rename(columns={0: \"node_id\"})"
   ]
  },
  {
   "cell_type": "code",
   "execution_count": 676,
   "metadata": {},
   "outputs": [],
   "source": [
    "df12 = df11.join(s)"
   ]
  },
  {
   "cell_type": "code",
   "execution_count": 677,
   "metadata": {},
   "outputs": [],
   "source": [
    "nodes_df = df12[[\"node_id\", \"f_p\", \"project_id\", \"nodeCode\"]]"
   ]
  },
  {
   "cell_type": "code",
   "execution_count": 678,
   "metadata": {},
   "outputs": [],
   "source": [
    "chiefEngineerIds = [173, 337]"
   ]
  },
  {
   "cell_type": "code",
   "execution_count": 679,
   "metadata": {},
   "outputs": [
    {
     "name": "stderr",
     "output_type": "stream",
     "text": [
      "<ipython-input-679-24cbdb19fe02>:1: SettingWithCopyWarning: \n",
      "A value is trying to be set on a copy of a slice from a DataFrame.\n",
      "Try using .loc[row_indexer,col_indexer] = value instead\n",
      "\n",
      "See the caveats in the documentation: https://pandas.pydata.org/pandas-docs/stable/user_guide/indexing.html#returning-a-view-versus-a-copy\n",
      "  nodes_df[\"chief_engineer\"] = random.choices(chiefEngineerIds, k=len(nodes_df))\n"
     ]
    }
   ],
   "source": [
    "nodes_df[\"chief_engineer\"] = random.choices(chiefEngineerIds, k=len(nodes_df))"
   ]
  },
  {
   "cell_type": "code",
   "execution_count": 680,
   "metadata": {},
   "outputs": [],
   "source": [
    "nodes_df = nodes_df.rename(columns={\"node_id\": \"id\", \"f_p\": \"name\", \"nodeCode\": \"code\", \"chief_engineer\": \"chief_engineer_id\"})"
   ]
  },
  {
   "cell_type": "code",
   "execution_count": 681,
   "metadata": {},
   "outputs": [],
   "source": [
    "nodes_df = nodes_df.drop_duplicates(subset=[\"id\"])"
   ]
  },
  {
   "cell_type": "code",
   "execution_count": 684,
   "metadata": {},
   "outputs": [],
   "source": [
    "cursor.execute(open(\"sql_server/xx_nodes.sql\", \"r\").read())\n",
    "conn.commit()"
   ]
  },
  {
   "cell_type": "code",
   "execution_count": 685,
   "metadata": {},
   "outputs": [
    {
     "name": "stdout",
     "output_type": "stream",
     "text": [
      "insert into dbo.Nodes(Id,Name,Projectid,Code,Chiefengineerid) values (?, ?, ?, ?, ?)\n",
      "26.0 ЦЭС 16.0 03 337\n",
      "insert into dbo.Nodes(Id,Name,Projectid,Code,Chiefengineerid) values (?, ?, ?, ?, ?)\n",
      "34.0 Воздухонагреватель №23-бис 23.0 07 173\n",
      "insert into dbo.Nodes(Id,Name,Projectid,Code,Chiefengineerid) values (?, ?, ?, ?, ?)\n",
      "69.0 Аспирационная установка литейных дворов 37.0 05 337\n",
      "insert into dbo.Nodes(Id,Name,Projectid,Code,Chiefengineerid) values (?, ?, ?, ?, ?)\n",
      "24.0 Котел ТП-10 14.0  173\n",
      "insert into dbo.Nodes(Id,Name,Projectid,Code,Chiefengineerid) values (?, ?, ?, ?, ?)\n",
      "145.0 Воздухонагреватели 73.0 04 337\n",
      "insert into dbo.Nodes(Id,Name,Projectid,Code,Chiefengineerid) values (?, ?, ?, ?, ?)\n",
      "35.0 Реконструкция площадок 24.0 09 337\n",
      "insert into dbo.Nodes(Id,Name,Projectid,Code,Chiefengineerid) values (?, ?, ?, ?, ?)\n",
      "33.0 Воздухонагреватель №23-бис 22.0 07 173\n",
      "insert into dbo.Nodes(Id,Name,Projectid,Code,Chiefengineerid) values (?, ?, ?, ?, ?)\n",
      "32.0 Котел ТП-10 21.0  173\n",
      "insert into dbo.Nodes(Id,Name,Projectid,Code,Chiefengineerid) values (?, ?, ?, ?, ?)\n",
      "53.0 Благоустройство территории 34.0 04 337\n",
      "insert into dbo.Nodes(Id,Name,Projectid,Code,Chiefengineerid) values (?, ?, ?, ?, ?)\n",
      "87.0 Собственно печь 45.0 01 173\n",
      "insert into dbo.Nodes(Id,Name,Projectid,Code,Chiefengineerid) values (?, ?, ?, ?, ?)\n",
      "192.0 Весовое хозяйство 120.0  173\n",
      "insert into dbo.Nodes(Id,Name,Projectid,Code,Chiefengineerid) values (?, ?, ?, ?, ?)\n",
      "82.0 Кабельная эстакада 43.0 13 173\n",
      "insert into dbo.Nodes(Id,Name,Projectid,Code,Chiefengineerid) values (?, ?, ?, ?, ?)\n",
      "141.0 ПК-1 69.0 05 173\n",
      "insert into dbo.Nodes(Id,Name,Projectid,Code,Chiefengineerid) values (?, ?, ?, ?, ?)\n",
      "89.0 Литейные двор 45.0 04 173\n",
      "insert into dbo.Nodes(Id,Name,Projectid,Code,Chiefengineerid) values (?, ?, ?, ?, ?)\n",
      "81.0 Газопровод к ГРП ТЭЦ 42.0 02 173\n",
      "insert into dbo.Nodes(Id,Name,Projectid,Code,Chiefengineerid) values (?, ?, ?, ?, ?)\n",
      "123.0 Сортопрокатный цех 62.0 12 173\n",
      "insert into dbo.Nodes(Id,Name,Projectid,Code,Chiefengineerid) values (?, ?, ?, ?, ?)\n",
      "12.0 Шихтоподача 9.0 02-34К 337\n",
      "insert into dbo.Nodes(Id,Name,Projectid,Code,Chiefengineerid) values (?, ?, ?, ?, ?)\n",
      "13.0 Шихтоподача 9.0 04-65К 173\n",
      "insert into dbo.Nodes(Id,Name,Projectid,Code,Chiefengineerid) values (?, ?, ?, ?, ?)\n",
      "36.0 Фахверк по ряду Е 24.0 0904 337\n",
      "insert into dbo.Nodes(Id,Name,Projectid,Code,Chiefengineerid) values (?, ?, ?, ?, ?)\n",
      "16.0 Собственно печь 9.0 09-45К 173\n",
      "insert into dbo.Nodes(Id,Name,Projectid,Code,Chiefengineerid) values (?, ?, ?, ?, ?)\n",
      "39.0 Шихтоподача 27.0 10 337\n",
      "insert into dbo.Nodes(Id,Name,Projectid,Code,Chiefengineerid) values (?, ?, ?, ?, ?)\n",
      "27.0 Доменный цех 17.0 04 173\n",
      "insert into dbo.Nodes(Id,Name,Projectid,Code,Chiefengineerid) values (?, ?, ?, ?, ?)\n",
      "125.0 Склады 62.0 51 173\n",
      "insert into dbo.Nodes(Id,Name,Projectid,Code,Chiefengineerid) values (?, ?, ?, ?, ?)\n",
      "25.0 Участок газоочисток 15.0 01 173\n",
      "insert into dbo.Nodes(Id,Name,Projectid,Code,Chiefengineerid) values (?, ?, ?, ?, ?)\n",
      "124.0 Дымовые трубы 62.0 13 337\n",
      "insert into dbo.Nodes(Id,Name,Projectid,Code,Chiefengineerid) values (?, ?, ?, ?, ?)\n",
      "126.0 Электросталеплавильный цех 63.0 01 173\n",
      "insert into dbo.Nodes(Id,Name,Projectid,Code,Chiefengineerid) values (?, ?, ?, ?, ?)\n",
      "127.0 Внутриплощадочные сети и сооружения 63.0 03 337\n",
      "insert into dbo.Nodes(Id,Name,Projectid,Code,Chiefengineerid) values (?, ?, ?, ?, ?)\n",
      "29.0 2 и 3 этапы 19.0 01-01 173\n",
      "insert into dbo.Nodes(Id,Name,Projectid,Code,Chiefengineerid) values (?, ?, ?, ?, ?)\n",
      "46.0 Электрофильтр 30.0  173\n",
      "insert into dbo.Nodes(Id,Name,Projectid,Code,Chiefengineerid) values (?, ?, ?, ?, ?)\n",
      "45.0 Опоры аспирационных воздуховодов литейных дворов 29.0  173\n",
      "insert into dbo.Nodes(Id,Name,Projectid,Code,Chiefengineerid) values (?, ?, ?, ?, ?)\n",
      "18.0 Выпуск верхнего \"козла\" 9.0 10-38К 173\n",
      "insert into dbo.Nodes(Id,Name,Projectid,Code,Chiefengineerid) values (?, ?, ?, ?, ?)\n",
      "146.0 Пост №1 74.0  337\n",
      "insert into dbo.Nodes(Id,Name,Projectid,Code,Chiefengineerid) values (?, ?, ?, ?, ?)\n",
      "37.0 Насосная станция пожаротушения 25.0  337\n",
      "insert into dbo.Nodes(Id,Name,Projectid,Code,Chiefengineerid) values (?, ?, ?, ?, ?)\n",
      "3.0  Сортопрокатный цех 2.0 12 173\n",
      "insert into dbo.Nodes(Id,Name,Projectid,Code,Chiefengineerid) values (?, ?, ?, ?, ?)\n",
      "147.0 Котлы ТП-170 ст 75.0  173\n",
      "insert into dbo.Nodes(Id,Name,Projectid,Code,Chiefengineerid) values (?, ?, ?, ?, ?)\n",
      "47.0 Трасса воздуховодов по ряду Е 31.0  337\n",
      "insert into dbo.Nodes(Id,Name,Projectid,Code,Chiefengineerid) values (?, ?, ?, ?, ?)\n",
      "134.0 Объекты водного хозяйства 68.0 12 173\n",
      "insert into dbo.Nodes(Id,Name,Projectid,Code,Chiefengineerid) values (?, ?, ?, ?, ?)\n",
      "148.0 Дооборудование аспирационной установки 76.0  337\n",
      "insert into dbo.Nodes(Id,Name,Projectid,Code,Chiefengineerid) values (?, ?, ?, ?, ?)\n",
      "59.0 Шихтоподача 35.0 07 337\n",
      "insert into dbo.Nodes(Id,Name,Projectid,Code,Chiefengineerid) values (?, ?, ?, ?, ?)\n",
      "49.0 Опора 33.0  337\n",
      "insert into dbo.Nodes(Id,Name,Projectid,Code,Chiefengineerid) values (?, ?, ?, ?, ?)\n",
      "68.0 Аспирация подбункерных помещений 37.0 02 337\n",
      "insert into dbo.Nodes(Id,Name,Projectid,Code,Chiefengineerid) values (?, ?, ?, ?, ?)\n",
      "67.0  Аспирация литейных дворов 37.0 01 173\n",
      "insert into dbo.Nodes(Id,Name,Projectid,Code,Chiefengineerid) values (?, ?, ?, ?, ?)\n",
      "54.0 Собственно печь 35.0 01 173\n",
      "insert into dbo.Nodes(Id,Name,Projectid,Code,Chiefengineerid) values (?, ?, ?, ?, ?)\n",
      "56.0 Литейные дворы 35.0 04 337\n",
      "insert into dbo.Nodes(Id,Name,Projectid,Code,Chiefengineerid) values (?, ?, ?, ?, ?)\n",
      "149.0 Механизация замены электродвигателей массой свыше 80кг 77.0  337\n",
      "insert into dbo.Nodes(Id,Name,Projectid,Code,Chiefengineerid) values (?, ?, ?, ?, ?)\n",
      "150.0 Механизация замены электродвигателей массой свыше 80 кг 78.0  173\n",
      "insert into dbo.Nodes(Id,Name,Projectid,Code,Chiefengineerid) values (?, ?, ?, ?, ?)\n",
      "151.0 Механизация замены электродвигателей массой свыше 80кг 79.0  337\n",
      "insert into dbo.Nodes(Id,Name,Projectid,Code,Chiefengineerid) values (?, ?, ?, ?, ?)\n",
      "154.0 Механизация замены электродвигателей массой свыше 80кг 82.0  337\n",
      "insert into dbo.Nodes(Id,Name,Projectid,Code,Chiefengineerid) values (?, ?, ?, ?, ?)\n",
      "72.0 Реконструкция лестницы 38.0  173\n",
      "insert into dbo.Nodes(Id,Name,Projectid,Code,Chiefengineerid) values (?, ?, ?, ?, ?)\n",
      "153.0 Механизация замены электродвигателей массой свыше 80 кг 81.0  337\n",
      "insert into dbo.Nodes(Id,Name,Projectid,Code,Chiefengineerid) values (?, ?, ?, ?, ?)\n",
      "152.0 Механизация замены электродвигателей массой свыше 80 кг 80.0  337\n",
      "insert into dbo.Nodes(Id,Name,Projectid,Code,Chiefengineerid) values (?, ?, ?, ?, ?)\n",
      "71.0 \r\n",
      "Железнодорожный тупик №2 37.0 07 337\n",
      "insert into dbo.Nodes(Id,Name,Projectid,Code,Chiefengineerid) values (?, ?, ?, ?, ?)\n",
      "20.0 Участок компрессии продуктов разделения воздуха 12.0 03 173\n",
      "insert into dbo.Nodes(Id,Name,Projectid,Code,Chiefengineerid) values (?, ?, ?, ?, ?)\n",
      "178.0 Монтажные порталы и направляющие 106.0  173\n",
      "insert into dbo.Nodes(Id,Name,Projectid,Code,Chiefengineerid) values (?, ?, ?, ?, ?)\n",
      "55.0 Воздухонагреватели 35.0 03 337\n",
      "insert into dbo.Nodes(Id,Name,Projectid,Code,Chiefengineerid) values (?, ?, ?, ?, ?)\n",
      "57.0 Машинный зал 35.0 05 337\n",
      "insert into dbo.Nodes(Id,Name,Projectid,Code,Chiefengineerid) values (?, ?, ?, ?, ?)\n",
      "64.0 Энергетические сети 35.0 22 173\n",
      "insert into dbo.Nodes(Id,Name,Projectid,Code,Chiefengineerid) values (?, ?, ?, ?, ?)\n",
      "60.0 Пост управления печью 35.0 11 337\n",
      "insert into dbo.Nodes(Id,Name,Projectid,Code,Chiefengineerid) values (?, ?, ?, ?, ?)\n",
      "74.0 Литейные дворы 40.0 04 173\n",
      "insert into dbo.Nodes(Id,Name,Projectid,Code,Chiefengineerid) values (?, ?, ?, ?, ?)\n",
      "51.0 Станция подготовки воздуха горения 33.0 13 173\n",
      "insert into dbo.Nodes(Id,Name,Projectid,Code,Chiefengineerid) values (?, ?, ?, ?, ?)\n",
      "75.0 Машинный зал 40.0 05 173\n",
      "insert into dbo.Nodes(Id,Name,Projectid,Code,Chiefengineerid) values (?, ?, ?, ?, ?)\n",
      "63.0 Водоснабжение и канализация 35.0 16 337\n",
      "insert into dbo.Nodes(Id,Name,Projectid,Code,Chiefengineerid) values (?, ?, ?, ?, ?)\n",
      "50.0 Воздухонагреватели 33.0 03 337\n",
      "insert into dbo.Nodes(Id,Name,Projectid,Code,Chiefengineerid) values (?, ?, ?, ?, ?)\n",
      "156.0 Перевод вспомогательного оборудования БЗУ доменных печей с чистого азота на отбросной 84.0  337\n",
      "insert into dbo.Nodes(Id,Name,Projectid,Code,Chiefengineerid) values (?, ?, ?, ?, ?)\n",
      "70.0 Электрокабельная галерея 37.0 06 337\n",
      "insert into dbo.Nodes(Id,Name,Projectid,Code,Chiefengineerid) values (?, ?, ?, ?, ?)\n",
      "206.0 Здание воздухонагревателей 130.0 03 173\n",
      "insert into dbo.Nodes(Id,Name,Projectid,Code,Chiefengineerid) values (?, ?, ?, ?, ?)\n",
      "96.0  Камера фильтров 45.0 15 337\n",
      "insert into dbo.Nodes(Id,Name,Projectid,Code,Chiefengineerid) values (?, ?, ?, ?, ?)\n",
      "172.0 Модульная компрессорная станция 100.0  173\n",
      "insert into dbo.Nodes(Id,Name,Projectid,Code,Chiefengineerid) values (?, ?, ?, ?, ?)\n",
      "208.0 Помещение компрессорной операторской и электропомещение 5ЭП 132.0  173\n",
      "insert into dbo.Nodes(Id,Name,Projectid,Code,Chiefengineerid) values (?, ?, ?, ?, ?)\n",
      "21.0 Транспортировка силового трансформатора 11.0 13 173\n",
      "insert into dbo.Nodes(Id,Name,Projectid,Code,Chiefengineerid) values (?, ?, ?, ?, ?)\n",
      "61.0 Газоочистка 35.0 12 337\n",
      "insert into dbo.Nodes(Id,Name,Projectid,Code,Chiefengineerid) values (?, ?, ?, ?, ?)\n",
      "86.0 Помещение охлаждения полещади 45.0 00 173\n",
      "insert into dbo.Nodes(Id,Name,Projectid,Code,Chiefengineerid) values (?, ?, ?, ?, ?)\n",
      "30.0 2 и 3 этапы 19.0 2 337\n",
      "insert into dbo.Nodes(Id,Name,Projectid,Code,Chiefengineerid) values (?, ?, ?, ?, ?)\n",
      "76.0 Помещение скипового подъемника 40.0 06 337\n",
      "insert into dbo.Nodes(Id,Name,Projectid,Code,Chiefengineerid) values (?, ?, ?, ?, ?)\n",
      "103.0 Площадки для обслуживания гляделок и фотодатчиков 48.0  173\n",
      "insert into dbo.Nodes(Id,Name,Projectid,Code,Chiefengineerid) values (?, ?, ?, ?, ?)\n",
      "101.0 Демонтаж площадок воздухонагревателя 46.0  173\n",
      "insert into dbo.Nodes(Id,Name,Projectid,Code,Chiefengineerid) values (?, ?, ?, ?, ?)\n",
      "58.0 Здание скипового подъемника 35.0 06 337\n",
      "insert into dbo.Nodes(Id,Name,Projectid,Code,Chiefengineerid) values (?, ?, ?, ?, ?)\n",
      "93.0 Пылеуловитель 45.0 09 173\n",
      "insert into dbo.Nodes(Id,Name,Projectid,Code,Chiefengineerid) values (?, ?, ?, ?, ?)\n",
      "62.0 Камера фильтров 35.0 15 337\n",
      "insert into dbo.Nodes(Id,Name,Projectid,Code,Chiefengineerid) values (?, ?, ?, ?, ?)\n",
      "77.0 Насосная станция химочищенной воды 40.0 16 173\n",
      "insert into dbo.Nodes(Id,Name,Projectid,Code,Chiefengineerid) values (?, ?, ?, ?, ?)\n",
      "92.0 Шихтоподача 45.0 07 337\n",
      "insert into dbo.Nodes(Id,Name,Projectid,Code,Chiefengineerid) values (?, ?, ?, ?, ?)\n",
      "65.0 Подготовка площадки строительства 35.0 23 337\n",
      "insert into dbo.Nodes(Id,Name,Projectid,Code,Chiefengineerid) values (?, ?, ?, ?, ?)\n",
      "14.0 Воздухонагреватель №23 9.0 07-23К 173\n",
      "insert into dbo.Nodes(Id,Name,Projectid,Code,Chiefengineerid) values (?, ?, ?, ?, ?)\n",
      "155.0 Эжекторы ЭП-3-600 83.0  173\n",
      "insert into dbo.Nodes(Id,Name,Projectid,Code,Chiefengineerid) values (?, ?, ?, ?, ?)\n",
      "203.0 Скалолазный стенд (скалодром) 128.0 00 173\n",
      "insert into dbo.Nodes(Id,Name,Projectid,Code,Chiefengineerid) values (?, ?, ?, ?, ?)\n",
      "83.0 Литейные дворы 44.0 04 337\n",
      "insert into dbo.Nodes(Id,Name,Projectid,Code,Chiefengineerid) values (?, ?, ?, ?, ?)\n",
      "4.0 Станция подготовки воздуха горения 3.0 13 173\n",
      "insert into dbo.Nodes(Id,Name,Projectid,Code,Chiefengineerid) values (?, ?, ?, ?, ?)\n",
      "42.0 Системы десульфурации дымовых газов 28.0 04 173\n",
      "insert into dbo.Nodes(Id,Name,Projectid,Code,Chiefengineerid) values (?, ?, ?, ?, ?)\n",
      "78.0 Повысительная насосная станция 40.0 18 337\n",
      "insert into dbo.Nodes(Id,Name,Projectid,Code,Chiefengineerid) values (?, ?, ?, ?, ?)\n",
      "88.0 Воздухонагреватели 45.0 03 173\n",
      "insert into dbo.Nodes(Id,Name,Projectid,Code,Chiefengineerid) values (?, ?, ?, ?, ?)\n",
      "166.0 Установка видеонаблюдения 94.0  173\n",
      "insert into dbo.Nodes(Id,Name,Projectid,Code,Chiefengineerid) values (?, ?, ?, ?, ?)\n",
      "94.0 Пост управления печью 45.0 11 173\n",
      "insert into dbo.Nodes(Id,Name,Projectid,Code,Chiefengineerid) values (?, ?, ?, ?, ?)\n",
      "128.0 Участок вальцетокарного станка с ЧПУ мод 64.0  173\n",
      "insert into dbo.Nodes(Id,Name,Projectid,Code,Chiefengineerid) values (?, ?, ?, ?, ?)\n",
      "17.0 Собственно печь 9.0 09-50К 337\n",
      "insert into dbo.Nodes(Id,Name,Projectid,Code,Chiefengineerid) values (?, ?, ?, ?, ?)\n",
      "80.0  Замена парового котла КВГ-3Г на паровой котёл Е-75-3,9-440Г для увеличения выработки электроэнергии на турбогенераторе 41.0 02 173\n",
      "insert into dbo.Nodes(Id,Name,Projectid,Code,Chiefengineerid) values (?, ?, ?, ?, ?)\n",
      "23.0 Охлаждение оборудования стана 13.0 31 337\n",
      "insert into dbo.Nodes(Id,Name,Projectid,Code,Chiefengineerid) values (?, ?, ?, ?, ?)\n",
      "144.0 Монтаж дополнительного байпасного трубопровода технической воды 72.0  173\n",
      "insert into dbo.Nodes(Id,Name,Projectid,Code,Chiefengineerid) values (?, ?, ?, ?, ?)\n",
      "167.0 Замена газоходов чистого газа и ствола свечи дожигания 95.0  337\n",
      "insert into dbo.Nodes(Id,Name,Projectid,Code,Chiefengineerid) values (?, ?, ?, ?, ?)\n",
      "38.0 Установка весов ВЕСТА-150Д 26.0  337\n",
      "insert into dbo.Nodes(Id,Name,Projectid,Code,Chiefengineerid) values (?, ?, ?, ?, ?)\n",
      "171.0 Замена кабелей от ПС №46Г до электроустановок ПГУУ ИОФ-2 99.0  337\n",
      "insert into dbo.Nodes(Id,Name,Projectid,Code,Chiefengineerid) values (?, ?, ?, ?, ?)\n",
      "163.0 Перильное ограждение на крыше сущильных камер НТА 91.0  337\n",
      "insert into dbo.Nodes(Id,Name,Projectid,Code,Chiefengineerid) values (?, ?, ?, ?, ?)\n",
      "10.0 Замена покрытия кровли 8.0  173\n",
      "insert into dbo.Nodes(Id,Name,Projectid,Code,Chiefengineerid) values (?, ?, ?, ?, ?)\n",
      "104.0 Ликвидация склада для хранения битума объёмом 4000м3 49.0 01 337\n",
      "insert into dbo.Nodes(Id,Name,Projectid,Code,Chiefengineerid) values (?, ?, ?, ?, ?)\n",
      "40.0 Отделение приема и подготовки сырья Механизированный склад усреднения ЖРС 28.0 01 173\n",
      "insert into dbo.Nodes(Id,Name,Projectid,Code,Chiefengineerid) values (?, ?, ?, ?, ?)\n",
      "31.0 Подстанция 110/10/6кВ №11 20.0 01 337\n",
      "insert into dbo.Nodes(Id,Name,Projectid,Code,Chiefengineerid) values (?, ?, ?, ?, ?)\n",
      "41.0 Аглоцех 28.0 02 337\n",
      "insert into dbo.Nodes(Id,Name,Projectid,Code,Chiefengineerid) values (?, ?, ?, ?, ?)\n",
      "8.0 Здание СУУ-4 7.0  337\n",
      "insert into dbo.Nodes(Id,Name,Projectid,Code,Chiefengineerid) values (?, ?, ?, ?, ?)\n",
      "44.0 Внутриплощадочные сети и сооружения 28.0 22 173\n",
      "insert into dbo.Nodes(Id,Name,Projectid,Code,Chiefengineerid) values (?, ?, ?, ?, ?)\n",
      "158.0 Сгустители №1, 2, 3 86.0  337\n",
      "insert into dbo.Nodes(Id,Name,Projectid,Code,Chiefengineerid) values (?, ?, ?, ?, ?)\n",
      "161.0 Площадка для установки емкости ингибитора соляной кислоты 89.0  173\n",
      "insert into dbo.Nodes(Id,Name,Projectid,Code,Chiefengineerid) values (?, ?, ?, ?, ?)\n",
      "173.0 Стеновое ограждение между осями Б-Л по оси 4 с отм 101.0  173\n",
      "insert into dbo.Nodes(Id,Name,Projectid,Code,Chiefengineerid) values (?, ?, ?, ?, ?)\n",
      "165.0 Площадка обслуживания сушильных камер 93.0  173\n",
      "insert into dbo.Nodes(Id,Name,Projectid,Code,Chiefengineerid) values (?, ?, ?, ?, ?)\n",
      "164.0 Площадки для обслуживания сушильных камер 92.0  173\n",
      "insert into dbo.Nodes(Id,Name,Projectid,Code,Chiefengineerid) values (?, ?, ?, ?, ?)\n",
      "207.0 Собственно тракт 131.0 01 173\n",
      "insert into dbo.Nodes(Id,Name,Projectid,Code,Chiefengineerid) values (?, ?, ?, ?, ?)\n",
      "160.0 Площадки для обслуживания резервуаров масла для промасливающей машины 88.0  173\n",
      "insert into dbo.Nodes(Id,Name,Projectid,Code,Chiefengineerid) values (?, ?, ?, ?, ?)\n",
      "205.0 Тракт приема и подачи сырья 129.0 25 337\n",
      "insert into dbo.Nodes(Id,Name,Projectid,Code,Chiefengineerid) values (?, ?, ?, ?, ?)\n",
      "73.0 Собственно турбогенератор 39.0  337\n",
      "insert into dbo.Nodes(Id,Name,Projectid,Code,Chiefengineerid) values (?, ?, ?, ?, ?)\n",
      "52.0 Собственно тракт 34.0 01 173\n",
      "insert into dbo.Nodes(Id,Name,Projectid,Code,Chiefengineerid) values (?, ?, ?, ?, ?)\n",
      "169.0 Опоры и площадки обслуживания трубопроводов на шламопроводы 97.0  337\n",
      "insert into dbo.Nodes(Id,Name,Projectid,Code,Chiefengineerid) values (?, ?, ?, ?, ?)\n",
      "162.0 Площадки для обслуживания траспортировочных рельсов 90.0  173\n",
      "insert into dbo.Nodes(Id,Name,Projectid,Code,Chiefengineerid) values (?, ?, ?, ?, ?)\n",
      "122.0 Гараж с механической мастерской 61.0 01 173\n",
      "insert into dbo.Nodes(Id,Name,Projectid,Code,Chiefengineerid) values (?, ?, ?, ?, ?)\n",
      "79.0  Замена парового котла КВГ-3Г на паровой котёл Е-75-3,9-440Г для увеличения выработки электроэнергии на турбогенераторе 41.0 01 337\n",
      "insert into dbo.Nodes(Id,Name,Projectid,Code,Chiefengineerid) values (?, ?, ?, ?, ?)\n",
      "170.0 Замена клапанов газоотводящих \r\n",
      "трактов 98.0  173\n",
      "insert into dbo.Nodes(Id,Name,Projectid,Code,Chiefengineerid) values (?, ?, ?, ?, ?)\n",
      "157.0 Восстановление стенового ограждения 85.0  337\n",
      "insert into dbo.Nodes(Id,Name,Projectid,Code,Chiefengineerid) values (?, ?, ?, ?, ?)\n",
      "204.0 Аглоцех 129.0 02 337\n",
      "insert into dbo.Nodes(Id,Name,Projectid,Code,Chiefengineerid) values (?, ?, ?, ?, ?)\n",
      "168.0 ТП-1 96.0  173\n"
     ]
    },
    {
     "name": "stdout",
     "output_type": "stream",
     "text": [
      "insert into dbo.Nodes(Id,Name,Projectid,Code,Chiefengineerid) values (?, ?, ?, ?, ?)\n",
      "159.0 Система измерения температуры газа по радиусу бесконтактным способом 87.0  337\n",
      "insert into dbo.Nodes(Id,Name,Projectid,Code,Chiefengineerid) values (?, ?, ?, ?, ?)\n",
      "22.0 Внешнее электроснабжение 13.0 14 337\n",
      "insert into dbo.Nodes(Id,Name,Projectid,Code,Chiefengineerid) values (?, ?, ?, ?, ?)\n",
      "113.0 Электропомещение ЭП-3 54.0 04 173\n",
      "insert into dbo.Nodes(Id,Name,Projectid,Code,Chiefengineerid) values (?, ?, ?, ?, ?)\n",
      "174.0 Видеонаблюдение на рабочих площадках 102.0  337\n",
      "insert into dbo.Nodes(Id,Name,Projectid,Code,Chiefengineerid) values (?, ?, ?, ?, ?)\n",
      "43.0 Весы железнодорожные 28.0 10 337\n",
      "insert into dbo.Nodes(Id,Name,Projectid,Code,Chiefengineerid) values (?, ?, ?, ?, ?)\n",
      "111.0  \"Грязный\" оборотный цикл водоснабжения печей и рабочих клетей 52.0 26 173\n",
      "insert into dbo.Nodes(Id,Name,Projectid,Code,Chiefengineerid) values (?, ?, ?, ?, ?)\n",
      "109.0 Модернизация системы гидросбива окалины стана 2000 г 50.0  337\n",
      "insert into dbo.Nodes(Id,Name,Projectid,Code,Chiefengineerid) values (?, ?, ?, ?, ?)\n",
      "182.0 Поглотительные системы №1, 3 110.0  337\n",
      "insert into dbo.Nodes(Id,Name,Projectid,Code,Chiefengineerid) values (?, ?, ?, ?, ?)\n",
      "28.0 Ограждение 18.0  173\n",
      "insert into dbo.Nodes(Id,Name,Projectid,Code,Chiefengineerid) values (?, ?, ?, ?, ?)\n",
      "129.0 Восстановление строительных конструкций здания 65.0  337\n",
      "insert into dbo.Nodes(Id,Name,Projectid,Code,Chiefengineerid) values (?, ?, ?, ?, ?)\n",
      "110.0 Пролет между осями К-П 51.0 01 337\n",
      "insert into dbo.Nodes(Id,Name,Projectid,Code,Chiefengineerid) values (?, ?, ?, ?, ?)\n",
      "181.0 Восстановление поглотительной системы №2 с размещением дымовой трубы над скруббером 109.0  337\n",
      "insert into dbo.Nodes(Id,Name,Projectid,Code,Chiefengineerid) values (?, ?, ?, ?, ?)\n",
      "19.0 Печь №1 10.0 01 173\n",
      "insert into dbo.Nodes(Id,Name,Projectid,Code,Chiefengineerid) values (?, ?, ?, ?, ?)\n",
      "130.0 Ремонт колонн здания 66.0  173\n",
      "insert into dbo.Nodes(Id,Name,Projectid,Code,Chiefengineerid) values (?, ?, ?, ?, ?)\n",
      "11.0 Восстановление конструкций здания разливочных машин №3,4 9.0 00-4К 173\n",
      "insert into dbo.Nodes(Id,Name,Projectid,Code,Chiefengineerid) values (?, ?, ?, ?, ?)\n",
      "179.0 Здание бункеров кокса 107.0  173\n",
      "insert into dbo.Nodes(Id,Name,Projectid,Code,Chiefengineerid) values (?, ?, ?, ?, ?)\n",
      "114.0 Соединительный газоход от аглофабрики до СУУ 55.0  173\n",
      "insert into dbo.Nodes(Id,Name,Projectid,Code,Chiefengineerid) values (?, ?, ?, ?, ?)\n",
      "90.0 Машинный зал 45.0 05 173\n",
      "insert into dbo.Nodes(Id,Name,Projectid,Code,Chiefengineerid) values (?, ?, ?, ?, ?)\n",
      "180.0 Замена шинопровода 10 кВ 108.0  337\n",
      "insert into dbo.Nodes(Id,Name,Projectid,Code,Chiefengineerid) values (?, ?, ?, ?, ?)\n",
      "6.0 Котлоагрегаты №3,4 4.0 02-88К 173\n",
      "insert into dbo.Nodes(Id,Name,Projectid,Code,Chiefengineerid) values (?, ?, ?, ?, ?)\n",
      "5.0 Котлоагрегаты №1, 2 4.0 02-81К 337\n",
      "insert into dbo.Nodes(Id,Name,Projectid,Code,Chiefengineerid) values (?, ?, ?, ?, ?)\n",
      "186.0 Установка весов ВЕСТА-150Д 114.0  337\n",
      "insert into dbo.Nodes(Id,Name,Projectid,Code,Chiefengineerid) values (?, ?, ?, ?, ?)\n",
      "187.0 Установка весов 7260(VRS)1 115.0  337\n",
      "insert into dbo.Nodes(Id,Name,Projectid,Code,Chiefengineerid) values (?, ?, ?, ?, ?)\n",
      "99.0 Энергетические сети 45.0 22 337\n",
      "insert into dbo.Nodes(Id,Name,Projectid,Code,Chiefengineerid) values (?, ?, ?, ?, ?)\n",
      "112.0 Аспирационная установка литейных дворов 53.0 01 337\n",
      "insert into dbo.Nodes(Id,Name,Projectid,Code,Chiefengineerid) values (?, ?, ?, ?, ?)\n",
      "7.0 Площадка для обслуживания спецавтотранспорта 5.0 81К 337\n",
      "insert into dbo.Nodes(Id,Name,Projectid,Code,Chiefengineerid) values (?, ?, ?, ?, ?)\n",
      "1.0 Литейные дворы Помещение станции насосно-аккумуляторной 1.0 04 337\n",
      "insert into dbo.Nodes(Id,Name,Projectid,Code,Chiefengineerid) values (?, ?, ?, ?, ?)\n",
      "2.0 Машинный зал 1.0 05 173\n",
      "insert into dbo.Nodes(Id,Name,Projectid,Code,Chiefengineerid) values (?, ?, ?, ?, ?)\n",
      "189.0 Установка весов 117.0  173\n",
      "insert into dbo.Nodes(Id,Name,Projectid,Code,Chiefengineerid) values (?, ?, ?, ?, ?)\n",
      "84.0 Машинный зал 44.0 05 337\n",
      "insert into dbo.Nodes(Id,Name,Projectid,Code,Chiefengineerid) values (?, ?, ?, ?, ?)\n",
      "85.0 Помещение скипового подъемника 44.0 06 173\n",
      "insert into dbo.Nodes(Id,Name,Projectid,Code,Chiefengineerid) values (?, ?, ?, ?, ?)\n",
      "98.0 Электроснабжение 45.0 21 173\n",
      "insert into dbo.Nodes(Id,Name,Projectid,Code,Chiefengineerid) values (?, ?, ?, ?, ?)\n",
      "188.0 Весы железнодорожные\r\n",
      "Балки под рельсы 116.0  173\n",
      "insert into dbo.Nodes(Id,Name,Projectid,Code,Chiefengineerid) values (?, ?, ?, ?, ?)\n",
      "97.0 Водоснабжение и канализация 45.0 16 337\n",
      "insert into dbo.Nodes(Id,Name,Projectid,Code,Chiefengineerid) values (?, ?, ?, ?, ?)\n",
      "133.0 Трубопрокатный агрегат 68.0 01 173\n",
      "insert into dbo.Nodes(Id,Name,Projectid,Code,Chiefengineerid) values (?, ?, ?, ?, ?)\n",
      "105.0 Ликвидация базисного склада для мазута емкостью 32000 м3 49.0 02 173\n",
      "insert into dbo.Nodes(Id,Name,Projectid,Code,Chiefengineerid) values (?, ?, ?, ?, ?)\n",
      "175.0 Мероприятия по обеспечению безопасности и антитеррористической защищенности 103.0  173\n",
      "insert into dbo.Nodes(Id,Name,Projectid,Code,Chiefengineerid) values (?, ?, ?, ?, ?)\n",
      "176.0 Участок переработки электрического кабеля 104.0  173\n",
      "insert into dbo.Nodes(Id,Name,Projectid,Code,Chiefengineerid) values (?, ?, ?, ?, ?)\n",
      "177.0 Перенос тепловых сетей 105.0  173\n",
      "insert into dbo.Nodes(Id,Name,Projectid,Code,Chiefengineerid) values (?, ?, ?, ?, ?)\n",
      "48.0 Сети электроснабжения 32.0 03 173\n",
      "insert into dbo.Nodes(Id,Name,Projectid,Code,Chiefengineerid) values (?, ?, ?, ?, ?)\n",
      "117.0 Собственно склад 58.0 01 337\n",
      "insert into dbo.Nodes(Id,Name,Projectid,Code,Chiefengineerid) values (?, ?, ?, ?, ?)\n",
      "135.0 Очистные сооружения дождевых и дренажных вод 68.0 13 173\n",
      "insert into dbo.Nodes(Id,Name,Projectid,Code,Chiefengineerid) values (?, ?, ?, ?, ?)\n",
      "138.0 Внутрицеховые сети 69.0 02 173\n",
      "insert into dbo.Nodes(Id,Name,Projectid,Code,Chiefengineerid) values (?, ?, ?, ?, ?)\n",
      "107.0 Склад оборудования УПП 49.0 06 337\n",
      "insert into dbo.Nodes(Id,Name,Projectid,Code,Chiefengineerid) values (?, ?, ?, ?, ?)\n",
      "108.0 АЗС 49.0 08 173\n",
      "insert into dbo.Nodes(Id,Name,Projectid,Code,Chiefengineerid) values (?, ?, ?, ?, ?)\n",
      "193.0 Шихтоподача 121.0  337\n",
      "insert into dbo.Nodes(Id,Name,Projectid,Code,Chiefengineerid) values (?, ?, ?, ?, ?)\n",
      "15.0 Литейные дворы 9.0 08-37К 173\n",
      "insert into dbo.Nodes(Id,Name,Projectid,Code,Chiefengineerid) values (?, ?, ?, ?, ?)\n",
      "116.0 Насосные станции № 2 и № 35 57.0  337\n",
      "insert into dbo.Nodes(Id,Name,Projectid,Code,Chiefengineerid) values (?, ?, ?, ?, ?)\n",
      "185.0 Вытяжной воздуховод дымососа №202 113.0  173\n",
      "insert into dbo.Nodes(Id,Name,Projectid,Code,Chiefengineerid) values (?, ?, ?, ?, ?)\n",
      "191.0 Перенос инженерных сетей 119.0  337\n",
      "insert into dbo.Nodes(Id,Name,Projectid,Code,Chiefengineerid) values (?, ?, ?, ?, ?)\n",
      "190.0 Перенос электрических кабелей 118.0  173\n",
      "insert into dbo.Nodes(Id,Name,Projectid,Code,Chiefengineerid) values (?, ?, ?, ?, ?)\n",
      "137.0  Здание цеха 69.0 01 173\n",
      "insert into dbo.Nodes(Id,Name,Projectid,Code,Chiefengineerid) values (?, ?, ?, ?, ?)\n",
      "118.0 Внешние сети 58.0 02 173\n",
      "insert into dbo.Nodes(Id,Name,Projectid,Code,Chiefengineerid) values (?, ?, ?, ?, ?)\n",
      "9.0 Поглотительные системы №1-8 6.0 223К 337\n",
      "insert into dbo.Nodes(Id,Name,Projectid,Code,Chiefengineerid) values (?, ?, ?, ?, ?)\n",
      "139.0  Технологическое оборудование 69.0 03 173\n",
      "insert into dbo.Nodes(Id,Name,Projectid,Code,Chiefengineerid) values (?, ?, ?, ?, ?)\n",
      "140.0 Благоустройство территории и внутриплощадочные сети 69.0 04 173\n",
      "insert into dbo.Nodes(Id,Name,Projectid,Code,Chiefengineerid) values (?, ?, ?, ?, ?)\n",
      "100.0 Подготовка площадки строительства 45.0 23 337\n",
      "insert into dbo.Nodes(Id,Name,Projectid,Code,Chiefengineerid) values (?, ?, ?, ?, ?)\n",
      "66.0 Контактная сеть ст 36.0 01 173\n",
      "insert into dbo.Nodes(Id,Name,Projectid,Code,Chiefengineerid) values (?, ?, ?, ?, ?)\n",
      "119.0 Поглотительные системы № 3, 7 Поглотительная система № 3 59.0 01 173\n",
      "insert into dbo.Nodes(Id,Name,Projectid,Code,Chiefengineerid) values (?, ?, ?, ?, ?)\n",
      "194.0 Вынос водоводов от узла 11 до узла 13 и от насосной станции №20 122.0  173\n",
      "insert into dbo.Nodes(Id,Name,Projectid,Code,Chiefengineerid) values (?, ?, ?, ?, ?)\n",
      "95.0 Газоочистка 45.0 12 173\n",
      "insert into dbo.Nodes(Id,Name,Projectid,Code,Chiefengineerid) values (?, ?, ?, ?, ?)\n",
      "91.0 Помещение скипового подъемника 45.0 06 337\n",
      "insert into dbo.Nodes(Id,Name,Projectid,Code,Chiefengineerid) values (?, ?, ?, ?, ?)\n",
      "199.0 Установка весоизмерительной системы для взвешивания автотранспорта 127.0 01 337\n",
      "insert into dbo.Nodes(Id,Name,Projectid,Code,Chiefengineerid) values (?, ?, ?, ?, ?)\n",
      "200.0 Установка весоизмерительной системы для взвешивания автотранспорта 127.0 02 173\n",
      "insert into dbo.Nodes(Id,Name,Projectid,Code,Chiefengineerid) values (?, ?, ?, ?, ?)\n",
      "102.0 Подмости 47.0  173\n",
      "insert into dbo.Nodes(Id,Name,Projectid,Code,Chiefengineerid) values (?, ?, ?, ?, ?)\n",
      "201.0 Установка весоизмерительной системы для взвешивания автотранспорта 127.0 03 173\n",
      "insert into dbo.Nodes(Id,Name,Projectid,Code,Chiefengineerid) values (?, ?, ?, ?, ?)\n",
      "202.0 Установка весоизмерительной системы для взвешивания автотранспорта 127.0 04 337\n",
      "insert into dbo.Nodes(Id,Name,Projectid,Code,Chiefengineerid) values (?, ?, ?, ?, ?)\n",
      "106.0 Внешние сети электроснабжения 49.0 04 173\n",
      "insert into dbo.Nodes(Id,Name,Projectid,Code,Chiefengineerid) values (?, ?, ?, ?, ?)\n",
      "142.0 Дымовая труба Н=47,3 (Инв 70.0  337\n",
      "insert into dbo.Nodes(Id,Name,Projectid,Code,Chiefengineerid) values (?, ?, ?, ?, ?)\n",
      "143.0 Дымовая труба Н=80 (Инв 71.0  173\n",
      "insert into dbo.Nodes(Id,Name,Projectid,Code,Chiefengineerid) values (?, ?, ?, ?, ?)\n",
      "195.0 Установка весоизмерительной системы для взвешивания ж 123.0  337\n",
      "insert into dbo.Nodes(Id,Name,Projectid,Code,Chiefengineerid) values (?, ?, ?, ?, ?)\n",
      "183.0 Фахверк 111.0  337\n",
      "insert into dbo.Nodes(Id,Name,Projectid,Code,Chiefengineerid) values (?, ?, ?, ?, ?)\n",
      "197.0 Установка весоизмерительной системы для взвешивания ж 125.0  173\n",
      "insert into dbo.Nodes(Id,Name,Projectid,Code,Chiefengineerid) values (?, ?, ?, ?, ?)\n",
      "132.0 Сети электроснабжения 68.0 00 173\n",
      "insert into dbo.Nodes(Id,Name,Projectid,Code,Chiefengineerid) values (?, ?, ?, ?, ?)\n",
      "136.0 Контрольно-пропускные пункты 68.0 27 337\n",
      "insert into dbo.Nodes(Id,Name,Projectid,Code,Chiefengineerid) values (?, ?, ?, ?, ?)\n",
      "115.0 \r\n",
      "Крепи 56.0 00 337\n",
      "insert into dbo.Nodes(Id,Name,Projectid,Code,Chiefengineerid) values (?, ?, ?, ?, ?)\n",
      "196.0 Установка весоизмерительной системы для взвешивания ж 124.0  173\n",
      "insert into dbo.Nodes(Id,Name,Projectid,Code,Chiefengineerid) values (?, ?, ?, ?, ?)\n",
      "184.0 Участок привода 112.0  173\n",
      "insert into dbo.Nodes(Id,Name,Projectid,Code,Chiefengineerid) values (?, ?, ?, ?, ?)\n",
      "121.0 Реверсивный стан 1700 60.0 05 173\n",
      "insert into dbo.Nodes(Id,Name,Projectid,Code,Chiefengineerid) values (?, ?, ?, ?, ?)\n",
      "198.0 Ресивер азота 126.0  337\n",
      "insert into dbo.Nodes(Id,Name,Projectid,Code,Chiefengineerid) values (?, ?, ?, ?, ?)\n",
      "131.0 Электросталеплавильный цех (ЭСПЦ) 67.0 07 337\n",
      "insert into dbo.Nodes(Id,Name,Projectid,Code,Chiefengineerid) values (?, ?, ?, ?, ?)\n",
      "120.0 Поглотительные системы №3, 7 59.0 02 337\n"
     ]
    }
   ],
   "source": [
    "execute_values(nodes_df, \"nodes\")"
   ]
  },
  {
   "cell_type": "markdown",
   "metadata": {},
   "source": [
    "<h1>Подузлы</h1>"
   ]
  },
  {
   "cell_type": "code",
   "execution_count": 686,
   "metadata": {},
   "outputs": [],
   "source": [
    "df13 = pd.DataFrame(df12[\"o_p\"].str.split('.', 1).tolist(),\n",
    "                                 columns = ['s_p','m_p'])"
   ]
  },
  {
   "cell_type": "code",
   "execution_count": 687,
   "metadata": {},
   "outputs": [],
   "source": [
    "df13 = df13.fillna(\"\")"
   ]
  },
  {
   "cell_type": "code",
   "execution_count": 688,
   "metadata": {},
   "outputs": [],
   "source": [
    "df13[\"s_p\"] = df13[\"s_p\"].str.strip()\n",
    "df13[\"m_p\"] = df13[\"m_p\"].str.strip()"
   ]
  },
  {
   "cell_type": "code",
   "execution_count": 689,
   "metadata": {},
   "outputs": [],
   "source": [
    "df14 = df12.join(df13)"
   ]
  },
  {
   "cell_type": "code",
   "execution_count": 690,
   "metadata": {},
   "outputs": [],
   "source": [
    "df14[\"subnode_feature\"] = df11[\"node_feature\"] + df11[\"subnodeCode\"]"
   ]
  },
  {
   "cell_type": "code",
   "execution_count": 691,
   "metadata": {},
   "outputs": [],
   "source": [
    "enc = OrdinalEncoder()\n",
    "res = enc.fit_transform(np.array(df14[\"subnode_feature\"]).reshape(-1, 1))"
   ]
  },
  {
   "cell_type": "code",
   "execution_count": 692,
   "metadata": {},
   "outputs": [],
   "source": [
    "s = pd.DataFrame(pd.Series(res.flatten()) + 1)\n",
    "s = s.rename(columns={0: \"subnode_id\"})"
   ]
  },
  {
   "cell_type": "code",
   "execution_count": 693,
   "metadata": {},
   "outputs": [],
   "source": [
    "df15 = df14.join(s)"
   ]
  },
  {
   "cell_type": "code",
   "execution_count": 694,
   "metadata": {},
   "outputs": [],
   "source": [
    "subnodes_df = df15[[\"subnode_id\", \"node_id\", \"subnodeCode\", \"s_p\"]]"
   ]
  },
  {
   "cell_type": "code",
   "execution_count": 695,
   "metadata": {},
   "outputs": [],
   "source": [
    "subnodes_df = subnodes_df.rename(columns={\"subnode_id\": \"id\", \"s_p\": \"name\", \"subnodeCode\": \"code\"})"
   ]
  },
  {
   "cell_type": "code",
   "execution_count": 696,
   "metadata": {},
   "outputs": [],
   "source": [
    "subnodes_df = subnodes_df.drop_duplicates(subset=[\"id\"])"
   ]
  },
  {
   "cell_type": "code",
   "execution_count": 697,
   "metadata": {},
   "outputs": [],
   "source": [
    "cursor.execute(open(\"sql_server/xx_subnodes.sql\", \"r\").read())\n",
    "conn.commit()"
   ]
  },
  {
   "cell_type": "code",
   "execution_count": 698,
   "metadata": {},
   "outputs": [
    {
     "name": "stdout",
     "output_type": "stream",
     "text": [
      "insert into dbo.Subnodes(Id,NodeId,Code,Name) values (?, ?, ?, ?)\n",
      "26.0 26.0  ГРУ-10,5 кВ\n",
      "insert into dbo.Subnodes(Id,NodeId,Code,Name) values (?, ?, ?, ?)\n",
      "34.0 34.0 03 1 и 2 этапы\n",
      "insert into dbo.Subnodes(Id,NodeId,Code,Name) values (?, ?, ?, ?)\n",
      "77.0 69.0  Каркас здания\n",
      "insert into dbo.Subnodes(Id,NodeId,Code,Name) values (?, ?, ?, ?)\n",
      "24.0 24.0  Установка электрофильтра с системой удаления золы\n",
      "insert into dbo.Subnodes(Id,NodeId,Code,Name) values (?, ?, ?, ?)\n",
      "172.0 145.0 03 Станция разрежения\n",
      "insert into dbo.Subnodes(Id,NodeId,Code,Name) values (?, ?, ?, ?)\n",
      "171.0 145.0 01 Ремонт шихтового бункера БЗУ\n",
      "insert into dbo.Subnodes(Id,NodeId,Code,Name) values (?, ?, ?, ?)\n",
      "35.0 35.0 04 Балки рабочей площадки в осях 10… 15\n",
      "insert into dbo.Subnodes(Id,NodeId,Code,Name) values (?, ?, ?, ?)\n",
      "33.0 33.0 03 1 и 2 этапы\n",
      "insert into dbo.Subnodes(Id,NodeId,Code,Name) values (?, ?, ?, ?)\n",
      "175.0 145.0 07 Замена горловин бункеров агломерата\n",
      "insert into dbo.Subnodes(Id,NodeId,Code,Name) values (?, ?, ?, ?)\n",
      "32.0 32.0  Система сбора золы\n",
      "insert into dbo.Subnodes(Id,NodeId,Code,Name) values (?, ?, ?, ?)\n",
      "61.0 53.0  Прожекторные мачты\n",
      "insert into dbo.Subnodes(Id,NodeId,Code,Name) values (?, ?, ?, ?)\n",
      "98.0 87.0  Приемная площадка на отм\n",
      "insert into dbo.Subnodes(Id,NodeId,Code,Name) values (?, ?, ?, ?)\n",
      "224.0 192.0  Балки под рельсы\n",
      "insert into dbo.Subnodes(Id,NodeId,Code,Name) values (?, ?, ?, ?)\n",
      "90.0 82.0 00 \n",
      "insert into dbo.Subnodes(Id,NodeId,Code,Name) values (?, ?, ?, ?)\n",
      "166.0 141.0  Крепление воздуховодов\n",
      "insert into dbo.Subnodes(Id,NodeId,Code,Name) values (?, ?, ?, ?)\n",
      "100.0 89.0  Помещение вентиряторов охлаждения лещади\n",
      "insert into dbo.Subnodes(Id,NodeId,Code,Name) values (?, ?, ?, ?)\n",
      "89.0 81.0  Опоры газопровода (участок 3\n",
      "insert into dbo.Subnodes(Id,NodeId,Code,Name) values (?, ?, ?, ?)\n",
      "134.0 123.0 01 Здание\n",
      "insert into dbo.Subnodes(Id,NodeId,Code,Name) values (?, ?, ?, ?)\n",
      "138.0 123.0 05 Шламовая насосная станция\n",
      "insert into dbo.Subnodes(Id,NodeId,Code,Name) values (?, ?, ?, ?)\n",
      "141.0 123.0 08 Внутрицеховые коммуникации\n",
      "insert into dbo.Subnodes(Id,NodeId,Code,Name) values (?, ?, ?, ?)\n",
      "137.0 123.0 04 Мастерские\n",
      "insert into dbo.Subnodes(Id,NodeId,Code,Name) values (?, ?, ?, ?)\n",
      "12.0 12.0  Замена грохотов агломерата\n",
      "insert into dbo.Subnodes(Id,NodeId,Code,Name) values (?, ?, ?, ?)\n",
      "142.0 123.0 11 Встроенные помещения бытового назначения\n",
      "insert into dbo.Subnodes(Id,NodeId,Code,Name) values (?, ?, ?, ?)\n",
      "13.0 13.0  Замена грохотов агломерата\n",
      "insert into dbo.Subnodes(Id,NodeId,Code,Name) values (?, ?, ?, ?)\n",
      "177.0 145.0 22 Опоры коллектора пара и трубопроводов\n",
      "insert into dbo.Subnodes(Id,NodeId,Code,Name) values (?, ?, ?, ?)\n",
      "139.0 123.0 06 Электропомещения\n",
      "insert into dbo.Subnodes(Id,NodeId,Code,Name) values (?, ?, ?, ?)\n",
      "170.0 145.0 00 Выпуск верхнего \"козла\"\n",
      "insert into dbo.Subnodes(Id,NodeId,Code,Name) values (?, ?, ?, ?)\n",
      "16.0 16.0 01 Площадка на отм\n",
      "insert into dbo.Subnodes(Id,NodeId,Code,Name) values (?, ?, ?, ?)\n",
      "42.0 39.0 07 Замена щитов, решеток, отбойников\n",
      "insert into dbo.Subnodes(Id,NodeId,Code,Name) values (?, ?, ?, ?)\n",
      "174.0 145.0 06 Ремонт путей крана для замены скипов\n",
      "insert into dbo.Subnodes(Id,NodeId,Code,Name) values (?, ?, ?, ?)\n",
      "38.0 39.0 01 Демонтаж кронштейнов\n",
      "insert into dbo.Subnodes(Id,NodeId,Code,Name) values (?, ?, ?, ?)\n",
      "40.0 39.0 04 Воздуховоды\n",
      "insert into dbo.Subnodes(Id,NodeId,Code,Name) values (?, ?, ?, ?)\n",
      "173.0 145.0 04 Здание центральной смазочной станции Мастерская по обслуживанию гидровлического оборудования\n",
      "insert into dbo.Subnodes(Id,NodeId,Code,Name) values (?, ?, ?, ?)\n",
      "27.0 27.0  АС сбора и обработки технологических параметров\n",
      "insert into dbo.Subnodes(Id,NodeId,Code,Name) values (?, ?, ?, ?)\n",
      "176.0 145.0 15 Площадки\n",
      "insert into dbo.Subnodes(Id,NodeId,Code,Name) values (?, ?, ?, ?)\n",
      "147.0 125.0 02 Склад оборудования и запчастей\n",
      "insert into dbo.Subnodes(Id,NodeId,Code,Name) values (?, ?, ?, ?)\n",
      "25.0 25.0  Замена коллектора чистого доменного газа вдоль доменных печей № 1-10\n",
      "insert into dbo.Subnodes(Id,NodeId,Code,Name) values (?, ?, ?, ?)\n",
      "146.0 124.0 02 Труба газоочистки неорганизованных выбросов и ОПЧ\n",
      "insert into dbo.Subnodes(Id,NodeId,Code,Name) values (?, ?, ?, ?)\n",
      "149.0 126.0 10 Внутрицеховые трубопроводы\n",
      "insert into dbo.Subnodes(Id,NodeId,Code,Name) values (?, ?, ?, ?)\n",
      "148.0 126.0 02 ДСП-40\n",
      "insert into dbo.Subnodes(Id,NodeId,Code,Name) values (?, ?, ?, ?)\n",
      "150.0 127.0 02 Энергоснабжение\n",
      "insert into dbo.Subnodes(Id,NodeId,Code,Name) values (?, ?, ?, ?)\n",
      "29.0 29.0  Вторая и третья поглотительные системы\n",
      "insert into dbo.Subnodes(Id,NodeId,Code,Name) values (?, ?, ?, ?)\n",
      "135.0 123.0 02 Сортовой стан 9501\n",
      "insert into dbo.Subnodes(Id,NodeId,Code,Name) values (?, ?, ?, ?)\n",
      "54.0 46.0  Каркас\n",
      "insert into dbo.Subnodes(Id,NodeId,Code,Name) values (?, ?, ?, ?)\n",
      "53.0 45.0  \n",
      "insert into dbo.Subnodes(Id,NodeId,Code,Name) values (?, ?, ?, ?)\n",
      "43.0 39.0 09 Замена настила\n",
      "insert into dbo.Subnodes(Id,NodeId,Code,Name) values (?, ?, ?, ?)\n",
      "39.0 39.0 03 Опоры и площадки\n",
      "insert into dbo.Subnodes(Id,NodeId,Code,Name) values (?, ?, ?, ?)\n",
      "18.0 18.0  Рабочая площадка\n",
      "insert into dbo.Subnodes(Id,NodeId,Code,Name) values (?, ?, ?, ?)\n",
      "178.0 146.0  Замена опоры\n",
      "insert into dbo.Subnodes(Id,NodeId,Code,Name) values (?, ?, ?, ?)\n",
      "36.0 37.0  Балки\n",
      "insert into dbo.Subnodes(Id,NodeId,Code,Name) values (?, ?, ?, ?)\n",
      "3.0 3.0 02 Сортовой стан 9501\n",
      "insert into dbo.Subnodes(Id,NodeId,Code,Name) values (?, ?, ?, ?)\n",
      "41.0 39.0 06 Направляющие для замены скиповой лебедки\n",
      "insert into dbo.Subnodes(Id,NodeId,Code,Name) values (?, ?, ?, ?)\n",
      "179.0 147.0  № 1-4 и ТП-10 ст\n",
      "insert into dbo.Subnodes(Id,NodeId,Code,Name) values (?, ?, ?, ?)\n",
      "145.0 123.0 19 Холодильная станция электропомещений 2\n",
      "insert into dbo.Subnodes(Id,NodeId,Code,Name) values (?, ?, ?, ?)\n",
      "55.0 47.0  Опоры воздуховодов ф1220 по ряду Е\n",
      "insert into dbo.Subnodes(Id,NodeId,Code,Name) values (?, ?, ?, ?)\n",
      "157.0 134.0 01 Водоподготовка технологическая\n",
      "insert into dbo.Subnodes(Id,NodeId,Code,Name) values (?, ?, ?, ?)\n",
      "180.0 148.0  Площадки\n",
      "insert into dbo.Subnodes(Id,NodeId,Code,Name) values (?, ?, ?, ?)\n",
      "136.0 123.0 03 Сортовой стан 9511\n",
      "insert into dbo.Subnodes(Id,NodeId,Code,Name) values (?, ?, ?, ?)\n",
      "67.0 59.0  Демонтаж\n",
      "insert into dbo.Subnodes(Id,NodeId,Code,Name) values (?, ?, ?, ?)\n",
      "44.0 39.0 12 Замена задвижки и дроссельной группы\n",
      "insert into dbo.Subnodes(Id,NodeId,Code,Name) values (?, ?, ?, ?)\n",
      "57.0 49.0  \n",
      "insert into dbo.Subnodes(Id,NodeId,Code,Name) values (?, ?, ?, ?)\n",
      "76.0 68.0  Демонтаж металлоконструкций\n",
      "insert into dbo.Subnodes(Id,NodeId,Code,Name) values (?, ?, ?, ?)\n",
      "75.0 67.0  Демонтаж дымовой трубы\n",
      "insert into dbo.Subnodes(Id,NodeId,Code,Name) values (?, ?, ?, ?)\n",
      "62.0 54.0  Площадка для выпуска верхнего \"козла\"\n",
      "insert into dbo.Subnodes(Id,NodeId,Code,Name) values (?, ?, ?, ?)\n",
      "64.0 56.0  Демонтаж\n",
      "insert into dbo.Subnodes(Id,NodeId,Code,Name) values (?, ?, ?, ?)\n",
      "143.0 123.0 14 Тоннель водоводов\n",
      "insert into dbo.Subnodes(Id,NodeId,Code,Name) values (?, ?, ?, ?)\n",
      "181.0 149.0  Шихтоподача\n",
      "insert into dbo.Subnodes(Id,NodeId,Code,Name) values (?, ?, ?, ?)\n",
      "182.0 150.0  Шихтоподача\n",
      "insert into dbo.Subnodes(Id,NodeId,Code,Name) values (?, ?, ?, ?)\n",
      "183.0 151.0  Шихтоподача\n",
      "insert into dbo.Subnodes(Id,NodeId,Code,Name) values (?, ?, ?, ?)\n",
      "186.0 154.0  Шихтоподача\n",
      "insert into dbo.Subnodes(Id,NodeId,Code,Name) values (?, ?, ?, ?)\n",
      "80.0 72.0  \n",
      "insert into dbo.Subnodes(Id,NodeId,Code,Name) values (?, ?, ?, ?)\n",
      "185.0 153.0  Литейные дворы\n",
      "insert into dbo.Subnodes(Id,NodeId,Code,Name) values (?, ?, ?, ?)\n",
      "184.0 152.0  Шихтоподача\n",
      "insert into dbo.Subnodes(Id,NodeId,Code,Name) values (?, ?, ?, ?)\n",
      "79.0 71.0  \n",
      "insert into dbo.Subnodes(Id,NodeId,Code,Name) values (?, ?, ?, ?)\n",
      "20.0 20.0 02 Кислородные компрессоры\n",
      "insert into dbo.Subnodes(Id,NodeId,Code,Name) values (?, ?, ?, ?)\n",
      "210.0 178.0  \n",
      "insert into dbo.Subnodes(Id,NodeId,Code,Name) values (?, ?, ?, ?)\n",
      "63.0 55.0  Реконструкция площадок на отм\n",
      "insert into dbo.Subnodes(Id,NodeId,Code,Name) values (?, ?, ?, ?)\n",
      "65.0 57.0  Реконструкция здания\n",
      "insert into dbo.Subnodes(Id,NodeId,Code,Name) values (?, ?, ?, ?)\n",
      "72.0 64.0  Помещение узла регулирования азота\n",
      "insert into dbo.Subnodes(Id,NodeId,Code,Name) values (?, ?, ?, ?)\n",
      "68.0 60.0  Здание\n",
      "insert into dbo.Subnodes(Id,NodeId,Code,Name) values (?, ?, ?, ?)\n",
      "82.0 74.0  Реконструкция каркаса по ряду J\n",
      "insert into dbo.Subnodes(Id,NodeId,Code,Name) values (?, ?, ?, ?)\n",
      "59.0 51.0  Каркас здания\n",
      "insert into dbo.Subnodes(Id,NodeId,Code,Name) values (?, ?, ?, ?)\n",
      "83.0 75.0  Реконструкция здания\n",
      "insert into dbo.Subnodes(Id,NodeId,Code,Name) values (?, ?, ?, ?)\n",
      "71.0 63.0  Эстакада трубопроводов\n",
      "insert into dbo.Subnodes(Id,NodeId,Code,Name) values (?, ?, ?, ?)\n",
      "58.0 50.0  Опора под штуцер горячего дутья\n",
      "insert into dbo.Subnodes(Id,NodeId,Code,Name) values (?, ?, ?, ?)\n",
      "188.0 156.0  \n",
      "insert into dbo.Subnodes(Id,NodeId,Code,Name) values (?, ?, ?, ?)\n",
      "78.0 70.0  Крепи трассы в осях 36, 40, 41\n",
      "insert into dbo.Subnodes(Id,NodeId,Code,Name) values (?, ?, ?, ?)\n",
      "239.0 206.0  Трубопровод смешанного газа\n",
      "insert into dbo.Subnodes(Id,NodeId,Code,Name) values (?, ?, ?, ?)\n",
      "107.0 96.0  Каркас\n",
      "insert into dbo.Subnodes(Id,NodeId,Code,Name) values (?, ?, ?, ?)\n",
      "204.0 172.0  Опоры трубопроводов\n",
      "insert into dbo.Subnodes(Id,NodeId,Code,Name) values (?, ?, ?, ?)\n",
      "241.0 208.0  \n",
      "insert into dbo.Subnodes(Id,NodeId,Code,Name) values (?, ?, ?, ?)\n",
      "21.0 21.0 00 Реконструкция ворот\n",
      "insert into dbo.Subnodes(Id,NodeId,Code,Name) values (?, ?, ?, ?)\n",
      "69.0 61.0  Замена задвижки и дроссельной группы\n",
      "insert into dbo.Subnodes(Id,NodeId,Code,Name) values (?, ?, ?, ?)\n",
      "97.0 86.0  \n",
      "insert into dbo.Subnodes(Id,NodeId,Code,Name) values (?, ?, ?, ?)\n",
      "30.0 30.0 01 Вторая и третья\n",
      "insert into dbo.Subnodes(Id,NodeId,Code,Name) values (?, ?, ?, ?)\n",
      "84.0 76.0  Защитные экраны\n",
      "insert into dbo.Subnodes(Id,NodeId,Code,Name) values (?, ?, ?, ?)\n",
      "114.0 103.0  \n",
      "insert into dbo.Subnodes(Id,NodeId,Code,Name) values (?, ?, ?, ?)\n",
      "112.0 101.0  \n",
      "insert into dbo.Subnodes(Id,NodeId,Code,Name) values (?, ?, ?, ?)\n",
      "140.0 123.0 07 Подъемно-транспортное оборудование\n",
      "insert into dbo.Subnodes(Id,NodeId,Code,Name) values (?, ?, ?, ?)\n",
      "66.0 58.0  Монтажные балки\n",
      "insert into dbo.Subnodes(Id,NodeId,Code,Name) values (?, ?, ?, ?)\n",
      "104.0 93.0  Замена ограждений и настил площадок\n",
      "insert into dbo.Subnodes(Id,NodeId,Code,Name) values (?, ?, ?, ?)\n",
      "70.0 62.0  Кровля в осях 1-3, В-А\n",
      "insert into dbo.Subnodes(Id,NodeId,Code,Name) values (?, ?, ?, ?)\n",
      "85.0 77.0  Опоры трубопроводов\n",
      "insert into dbo.Subnodes(Id,NodeId,Code,Name) values (?, ?, ?, ?)\n",
      "103.0 92.0  Здание гидроуборки\n",
      "insert into dbo.Subnodes(Id,NodeId,Code,Name) values (?, ?, ?, ?)\n",
      "73.0 65.0  Перенос сетей\n",
      "insert into dbo.Subnodes(Id,NodeId,Code,Name) values (?, ?, ?, ?)\n",
      "14.0 14.0  Демонтаж площадок воздухонагревателя\n",
      "insert into dbo.Subnodes(Id,NodeId,Code,Name) values (?, ?, ?, ?)\n",
      "187.0 155.0  Подвод пара от ТГ № 1-4\n",
      "insert into dbo.Subnodes(Id,NodeId,Code,Name) values (?, ?, ?, ?)\n",
      "235.0 203.0  Каркас\n",
      "insert into dbo.Subnodes(Id,NodeId,Code,Name) values (?, ?, ?, ?)\n",
      "92.0 83.0 01 Восточный литейный двор\n",
      "insert into dbo.Subnodes(Id,NodeId,Code,Name) values (?, ?, ?, ?)\n",
      "4.0 4.0  Площадка для обслуживания элементов автоматики\n",
      "insert into dbo.Subnodes(Id,NodeId,Code,Name) values (?, ?, ?, ?)\n",
      "48.0 42.0 01 Сероулавливающая установка агломерационной машины №1\n",
      "insert into dbo.Subnodes(Id,NodeId,Code,Name) values (?, ?, ?, ?)\n",
      "93.0 83.0 02 Западный литейный двор\n",
      "insert into dbo.Subnodes(Id,NodeId,Code,Name) values (?, ?, ?, ?)\n",
      "144.0 123.0 15 Насосная станция термопроцессов\n",
      "insert into dbo.Subnodes(Id,NodeId,Code,Name) values (?, ?, ?, ?)\n",
      "86.0 78.0  Фахверк\n",
      "insert into dbo.Subnodes(Id,NodeId,Code,Name) values (?, ?, ?, ?)\n",
      "99.0 88.0  Замена ограждений и монтаж настила\n",
      "insert into dbo.Subnodes(Id,NodeId,Code,Name) values (?, ?, ?, ?)\n",
      "94.0 83.0 05 Помещение управления горновыми машинами №1, №2\n"
     ]
    },
    {
     "name": "stdout",
     "output_type": "stream",
     "text": [
      "insert into dbo.Subnodes(Id,NodeId,Code,Name) values (?, ?, ?, ?)\n",
      "198.0 166.0  Видеонаблюдение\n",
      "insert into dbo.Subnodes(Id,NodeId,Code,Name) values (?, ?, ?, ?)\n",
      "105.0 94.0  Козырек и рама под шкаф\n",
      "insert into dbo.Subnodes(Id,NodeId,Code,Name) values (?, ?, ?, ?)\n",
      "151.0 128.0  1К675\n",
      "insert into dbo.Subnodes(Id,NodeId,Code,Name) values (?, ?, ?, ?)\n",
      "17.0 17.0  Вставка ремонтная с холодильником заплечиков\n",
      "insert into dbo.Subnodes(Id,NodeId,Code,Name) values (?, ?, ?, ?)\n",
      "88.0 80.0  Внутриплощадочные сети и сооружения\n",
      "insert into dbo.Subnodes(Id,NodeId,Code,Name) values (?, ?, ?, ?)\n",
      "23.0 23.0 02 \"Чистый\" оборотный цикл водоснабжения\n",
      "insert into dbo.Subnodes(Id,NodeId,Code,Name) values (?, ?, ?, ?)\n",
      "169.0 144.0  Опоры трубопроводов\n",
      "insert into dbo.Subnodes(Id,NodeId,Code,Name) values (?, ?, ?, ?)\n",
      "199.0 167.0  Свеча дожигания конвертера №3\n",
      "insert into dbo.Subnodes(Id,NodeId,Code,Name) values (?, ?, ?, ?)\n",
      "37.0 38.0  Балки под рельсы\n",
      "insert into dbo.Subnodes(Id,NodeId,Code,Name) values (?, ?, ?, ?)\n",
      "203.0 171.0  Кабельная эстакада\n",
      "insert into dbo.Subnodes(Id,NodeId,Code,Name) values (?, ?, ?, ?)\n",
      "195.0 163.0  \n",
      "insert into dbo.Subnodes(Id,NodeId,Code,Name) values (?, ?, ?, ?)\n",
      "10.0 10.0  Усиление конструкций покрытия\n",
      "insert into dbo.Subnodes(Id,NodeId,Code,Name) values (?, ?, ?, ?)\n",
      "115.0 104.0  Участок подготовки и выдачи битума\n",
      "insert into dbo.Subnodes(Id,NodeId,Code,Name) values (?, ?, ?, ?)\n",
      "45.0 40.0 04 Подвод технической воды\n",
      "insert into dbo.Subnodes(Id,NodeId,Code,Name) values (?, ?, ?, ?)\n",
      "31.0 31.0  Собственно подстанция\n",
      "insert into dbo.Subnodes(Id,NodeId,Code,Name) values (?, ?, ?, ?)\n",
      "47.0 41.0 03 Здание подготовки шихты\n",
      "insert into dbo.Subnodes(Id,NodeId,Code,Name) values (?, ?, ?, ?)\n",
      "8.0 8.0  Восстановление строительных конструкций здания\n",
      "insert into dbo.Subnodes(Id,NodeId,Code,Name) values (?, ?, ?, ?)\n",
      "52.0 44.0 05 Сети связи\n",
      "insert into dbo.Subnodes(Id,NodeId,Code,Name) values (?, ?, ?, ?)\n",
      "190.0 158.0  Восстановление строительных конструкций\n",
      "insert into dbo.Subnodes(Id,NodeId,Code,Name) values (?, ?, ?, ?)\n",
      "193.0 161.0  Каркас и ограждения\n",
      "insert into dbo.Subnodes(Id,NodeId,Code,Name) values (?, ?, ?, ?)\n",
      "205.0 173.0  +31,600 до отм\n",
      "insert into dbo.Subnodes(Id,NodeId,Code,Name) values (?, ?, ?, ?)\n",
      "197.0 165.0  Каркас и ограждение\n",
      "insert into dbo.Subnodes(Id,NodeId,Code,Name) values (?, ?, ?, ?)\n",
      "196.0 164.0  Ограждение\n",
      "insert into dbo.Subnodes(Id,NodeId,Code,Name) values (?, ?, ?, ?)\n",
      "240.0 207.0  Галерея 6\n",
      "insert into dbo.Subnodes(Id,NodeId,Code,Name) values (?, ?, ?, ?)\n",
      "192.0 160.0  Площадка на отм\n",
      "insert into dbo.Subnodes(Id,NodeId,Code,Name) values (?, ?, ?, ?)\n",
      "238.0 205.0 15 Галерея YP02 LZ702\n",
      "insert into dbo.Subnodes(Id,NodeId,Code,Name) values (?, ?, ?, ?)\n",
      "237.0 205.0 11 Галерея-тоннель YP01 Каркас\n",
      "insert into dbo.Subnodes(Id,NodeId,Code,Name) values (?, ?, ?, ?)\n",
      "81.0 73.0  Укрытие трубного блока\n",
      "insert into dbo.Subnodes(Id,NodeId,Code,Name) values (?, ?, ?, ?)\n",
      "60.0 52.0  Галерея 7\n",
      "insert into dbo.Subnodes(Id,NodeId,Code,Name) values (?, ?, ?, ?)\n",
      "201.0 169.0  \n",
      "insert into dbo.Subnodes(Id,NodeId,Code,Name) values (?, ?, ?, ?)\n",
      "194.0 162.0  Площадки в осях I-K\n",
      "insert into dbo.Subnodes(Id,NodeId,Code,Name) values (?, ?, ?, ?)\n",
      "133.0 122.0  Перепланировка помещений\n",
      "insert into dbo.Subnodes(Id,NodeId,Code,Name) values (?, ?, ?, ?)\n",
      "87.0 79.0  Собственно станция\n",
      "insert into dbo.Subnodes(Id,NodeId,Code,Name) values (?, ?, ?, ?)\n",
      "202.0 170.0  Удлинение газохода\n",
      "insert into dbo.Subnodes(Id,NodeId,Code,Name) values (?, ?, ?, ?)\n",
      "46.0 41.0 01 Здание агломерационных машин №1, 2 и линейные охладители\n",
      "insert into dbo.Subnodes(Id,NodeId,Code,Name) values (?, ?, ?, ?)\n",
      "189.0 157.0  Устройство вентилируемого фасада здания из фасадных металлических кассет I этап\n",
      "insert into dbo.Subnodes(Id,NodeId,Code,Name) values (?, ?, ?, ?)\n",
      "236.0 204.0 03 Здание подготовки шихты\n",
      "insert into dbo.Subnodes(Id,NodeId,Code,Name) values (?, ?, ?, ?)\n",
      "200.0 168.0  Замена кабелей 3 кВ\n",
      "insert into dbo.Subnodes(Id,NodeId,Code,Name) values (?, ?, ?, ?)\n",
      "191.0 159.0  Опорные конструкции\n",
      "insert into dbo.Subnodes(Id,NodeId,Code,Name) values (?, ?, ?, ?)\n",
      "22.0 22.0 02 Сети 10 кВ\n",
      "insert into dbo.Subnodes(Id,NodeId,Code,Name) values (?, ?, ?, ?)\n",
      "124.0 113.0  Площадки и лестницы\n",
      "insert into dbo.Subnodes(Id,NodeId,Code,Name) values (?, ?, ?, ?)\n",
      "206.0 174.0  Площадка\n",
      "insert into dbo.Subnodes(Id,NodeId,Code,Name) values (?, ?, ?, ?)\n",
      "51.0 43.0 00 Балки под рельсы\n",
      "insert into dbo.Subnodes(Id,NodeId,Code,Name) values (?, ?, ?, ?)\n",
      "49.0 42.0 07 Газоочистки агломерационных машин №1, 2\n",
      "insert into dbo.Subnodes(Id,NodeId,Code,Name) values (?, ?, ?, ?)\n",
      "50.0 42.0 08 Газоочистки агломерационных машин №2\n",
      "insert into dbo.Subnodes(Id,NodeId,Code,Name) values (?, ?, ?, ?)\n",
      "122.0 111.0 05 Насосная станция 14000 м3/час\n",
      "insert into dbo.Subnodes(Id,NodeId,Code,Name) values (?, ?, ?, ?)\n",
      "120.0 109.0  п\n",
      "insert into dbo.Subnodes(Id,NodeId,Code,Name) values (?, ?, ?, ?)\n",
      "214.0 182.0  Поддерживающие конструкции газоходов чистого газа\n",
      "insert into dbo.Subnodes(Id,NodeId,Code,Name) values (?, ?, ?, ?)\n",
      "28.0 28.0  \n",
      "insert into dbo.Subnodes(Id,NodeId,Code,Name) values (?, ?, ?, ?)\n",
      "152.0 129.0  Балки покрытия\n",
      "insert into dbo.Subnodes(Id,NodeId,Code,Name) values (?, ?, ?, ?)\n",
      "121.0 110.0  Тоннель между осями 94-97 из маслоподвала №3\n",
      "insert into dbo.Subnodes(Id,NodeId,Code,Name) values (?, ?, ?, ?)\n",
      "213.0 181.0  Опоры газохода\n",
      "insert into dbo.Subnodes(Id,NodeId,Code,Name) values (?, ?, ?, ?)\n",
      "19.0 19.0 01 \n",
      "insert into dbo.Subnodes(Id,NodeId,Code,Name) values (?, ?, ?, ?)\n",
      "153.0 130.0  Оси 22, 26\n",
      "insert into dbo.Subnodes(Id,NodeId,Code,Name) values (?, ?, ?, ?)\n",
      "11.0 11.0  Тормозные конструкции\n",
      "insert into dbo.Subnodes(Id,NodeId,Code,Name) values (?, ?, ?, ?)\n",
      "211.0 179.0  Временное раскрепление\n",
      "insert into dbo.Subnodes(Id,NodeId,Code,Name) values (?, ?, ?, ?)\n",
      "125.0 114.0  Площадки на отм\n",
      "insert into dbo.Subnodes(Id,NodeId,Code,Name) values (?, ?, ?, ?)\n",
      "101.0 90.0  Демонтаж площадок участка мотор-генератора\n",
      "insert into dbo.Subnodes(Id,NodeId,Code,Name) values (?, ?, ?, ?)\n",
      "212.0 180.0  Конструкции для крепления кабельных конструкций\n",
      "insert into dbo.Subnodes(Id,NodeId,Code,Name) values (?, ?, ?, ?)\n",
      "6.0 6.0  Перенос щитов управления\n",
      "insert into dbo.Subnodes(Id,NodeId,Code,Name) values (?, ?, ?, ?)\n",
      "5.0 5.0  Демонтаж щита управления\n",
      "insert into dbo.Subnodes(Id,NodeId,Code,Name) values (?, ?, ?, ?)\n",
      "218.0 186.0  Балки под рельсы\n",
      "insert into dbo.Subnodes(Id,NodeId,Code,Name) values (?, ?, ?, ?)\n",
      "219.0 187.0  045\n",
      "insert into dbo.Subnodes(Id,NodeId,Code,Name) values (?, ?, ?, ?)\n",
      "110.0 99.0  Установка осушки воздуха\n",
      "insert into dbo.Subnodes(Id,NodeId,Code,Name) values (?, ?, ?, ?)\n",
      "123.0 112.0  Площадки и лестницы по зданию аспирационной установки\n",
      "insert into dbo.Subnodes(Id,NodeId,Code,Name) values (?, ?, ?, ?)\n",
      "7.0 7.0  Площадка\n",
      "insert into dbo.Subnodes(Id,NodeId,Code,Name) values (?, ?, ?, ?)\n",
      "1.0 1.0  Металлоконструкции\n",
      "insert into dbo.Subnodes(Id,NodeId,Code,Name) values (?, ?, ?, ?)\n",
      "91.0 83.0  Опоры аспирационных воздуховодов\n",
      "insert into dbo.Subnodes(Id,NodeId,Code,Name) values (?, ?, ?, ?)\n",
      "2.0 2.0  Эвакуационная лестница\n",
      "insert into dbo.Subnodes(Id,NodeId,Code,Name) values (?, ?, ?, ?)\n",
      "221.0 189.0  Крепи\n",
      "insert into dbo.Subnodes(Id,NodeId,Code,Name) values (?, ?, ?, ?)\n",
      "95.0 84.0  Эвакуационная лестница\n",
      "insert into dbo.Subnodes(Id,NodeId,Code,Name) values (?, ?, ?, ?)\n",
      "96.0 85.0  Усиление ж/б каркаса\n",
      "insert into dbo.Subnodes(Id,NodeId,Code,Name) values (?, ?, ?, ?)\n",
      "109.0 98.0  Крепление кабельного блока\n",
      "insert into dbo.Subnodes(Id,NodeId,Code,Name) values (?, ?, ?, ?)\n",
      "220.0 188.0  \n",
      "insert into dbo.Subnodes(Id,NodeId,Code,Name) values (?, ?, ?, ?)\n",
      "108.0 97.0  Эстакада водоводов\n",
      "insert into dbo.Subnodes(Id,NodeId,Code,Name) values (?, ?, ?, ?)\n",
      "156.0 133.0 01 Дымовая труба печи оправок\n",
      "insert into dbo.Subnodes(Id,NodeId,Code,Name) values (?, ?, ?, ?)\n",
      "116.0 105.0  Демонтаж\n",
      "insert into dbo.Subnodes(Id,NodeId,Code,Name) values (?, ?, ?, ?)\n",
      "207.0 175.0  Ограждающие конструкции\n",
      "insert into dbo.Subnodes(Id,NodeId,Code,Name) values (?, ?, ?, ?)\n",
      "208.0 176.0  Крепление кабельных конструкций\n",
      "insert into dbo.Subnodes(Id,NodeId,Code,Name) values (?, ?, ?, ?)\n",
      "209.0 177.0  Опоры трубопроводов\n",
      "insert into dbo.Subnodes(Id,NodeId,Code,Name) values (?, ?, ?, ?)\n",
      "56.0 48.0  Подстанция ПС № 67\n",
      "insert into dbo.Subnodes(Id,NodeId,Code,Name) values (?, ?, ?, ?)\n",
      "128.0 117.0  Опоры мачт наружного освещения\n",
      "insert into dbo.Subnodes(Id,NodeId,Code,Name) values (?, ?, ?, ?)\n",
      "159.0 135.0 00 Насосная станция осветленных стоков\n",
      "insert into dbo.Subnodes(Id,NodeId,Code,Name) values (?, ?, ?, ?)\n",
      "163.0 138.0  Опоры трубопроводов отопления\n",
      "insert into dbo.Subnodes(Id,NodeId,Code,Name) values (?, ?, ?, ?)\n",
      "118.0 107.0  Демонтаж объектов, попадающих  в зону строительства\n",
      "insert into dbo.Subnodes(Id,NodeId,Code,Name) values (?, ?, ?, ?)\n",
      "119.0 108.0  Демонтаж собственно АЗС и площадок\n",
      "insert into dbo.Subnodes(Id,NodeId,Code,Name) values (?, ?, ?, ?)\n",
      "225.0 193.0  Установка лебедки ПКМ\n",
      "insert into dbo.Subnodes(Id,NodeId,Code,Name) values (?, ?, ?, ?)\n",
      "15.0 15.0 04 Восстановление колонны по оси 16, ряд Е\n",
      "insert into dbo.Subnodes(Id,NodeId,Code,Name) values (?, ?, ?, ?)\n",
      "127.0 116.0  Сливной водовод с печи\n",
      "insert into dbo.Subnodes(Id,NodeId,Code,Name) values (?, ?, ?, ?)\n",
      "217.0 185.0  Опоры\n",
      "insert into dbo.Subnodes(Id,NodeId,Code,Name) values (?, ?, ?, ?)\n",
      "223.0 191.0  Трубопровод природного газа\n",
      "insert into dbo.Subnodes(Id,NodeId,Code,Name) values (?, ?, ?, ?)\n",
      "222.0 190.0  Кабельная эстакада\n",
      "insert into dbo.Subnodes(Id,NodeId,Code,Name) values (?, ?, ?, ?)\n",
      "162.0 137.0  Усиление прогонов покрытия в осях 1-7 пролет А-Б\n",
      "insert into dbo.Subnodes(Id,NodeId,Code,Name) values (?, ?, ?, ?)\n",
      "129.0 118.0  Кабельная эстакада и опоры трубопроводов\n",
      "insert into dbo.Subnodes(Id,NodeId,Code,Name) values (?, ?, ?, ?)\n",
      "9.0 9.0  Поддерживающие конструкции и площадки обслуживания скрубберов и газоходов \"чистого\" газа\n",
      "insert into dbo.Subnodes(Id,NodeId,Code,Name) values (?, ?, ?, ?)\n",
      "164.0 139.0  Дымовые трубы\n",
      "insert into dbo.Subnodes(Id,NodeId,Code,Name) values (?, ?, ?, ?)\n",
      "165.0 140.0  Опоры газопровода природного газа\n",
      "insert into dbo.Subnodes(Id,NodeId,Code,Name) values (?, ?, ?, ?)\n",
      "111.0 100.0  Площадки временного городка\n",
      "insert into dbo.Subnodes(Id,NodeId,Code,Name) values (?, ?, ?, ?)\n",
      "158.0 134.0 02 Водонапорная башня аварийного водоснабжения\n",
      "insert into dbo.Subnodes(Id,NodeId,Code,Name) values (?, ?, ?, ?)\n",
      "74.0 66.0  Ежовка\n",
      "insert into dbo.Subnodes(Id,NodeId,Code,Name) values (?, ?, ?, ?)\n",
      "130.0 119.0  Опоры газохода \"чистого\" газа\n",
      "insert into dbo.Subnodes(Id,NodeId,Code,Name) values (?, ?, ?, ?)\n",
      "226.0 194.0  Опоры трубопроводов\n",
      "insert into dbo.Subnodes(Id,NodeId,Code,Name) values (?, ?, ?, ?)\n",
      "106.0 95.0  Замена задвижки и дроссельной группы\n",
      "insert into dbo.Subnodes(Id,NodeId,Code,Name) values (?, ?, ?, ?)\n",
      "102.0 91.0  База колонны в осях 3' - 4', ряд J\n",
      "insert into dbo.Subnodes(Id,NodeId,Code,Name) values (?, ?, ?, ?)\n",
      "231.0 199.0  Весы автомобльные №1\n",
      "insert into dbo.Subnodes(Id,NodeId,Code,Name) values (?, ?, ?, ?)\n",
      "232.0 200.0  Весы автомобльные №2\n",
      "insert into dbo.Subnodes(Id,NodeId,Code,Name) values (?, ?, ?, ?)\n",
      "113.0 102.0  \n",
      "insert into dbo.Subnodes(Id,NodeId,Code,Name) values (?, ?, ?, ?)\n",
      "233.0 201.0  Весы автомобльные №3\n",
      "insert into dbo.Subnodes(Id,NodeId,Code,Name) values (?, ?, ?, ?)\n",
      "234.0 202.0  Весы автомобльные №5\n",
      "insert into dbo.Subnodes(Id,NodeId,Code,Name) values (?, ?, ?, ?)\n",
      "117.0 106.0  Защитные сетки\n",
      "insert into dbo.Subnodes(Id,NodeId,Code,Name) values (?, ?, ?, ?)\n",
      "167.0 142.0  №572)\n",
      "insert into dbo.Subnodes(Id,NodeId,Code,Name) values (?, ?, ?, ?)\n",
      "168.0 143.0  №108966)\n",
      "insert into dbo.Subnodes(Id,NodeId,Code,Name) values (?, ?, ?, ?)\n",
      "227.0 195.0  -д\n",
      "insert into dbo.Subnodes(Id,NodeId,Code,Name) values (?, ?, ?, ?)\n",
      "215.0 183.0  \n",
      "insert into dbo.Subnodes(Id,NodeId,Code,Name) values (?, ?, ?, ?)\n",
      "229.0 197.0  -д\n",
      "insert into dbo.Subnodes(Id,NodeId,Code,Name) values (?, ?, ?, ?)\n",
      "155.0 132.0 04 Эстакада трубопроводов и кабельных \r\n",
      "конструкций к ГРПШ 1, 2\n",
      "insert into dbo.Subnodes(Id,NodeId,Code,Name) values (?, ?, ?, ?)\n",
      "160.0 136.0 01 КПП№52(автомобильный)\n",
      "insert into dbo.Subnodes(Id,NodeId,Code,Name) values (?, ?, ?, ?)\n",
      "161.0 136.0 02 КПП №53(главный)\n",
      "insert into dbo.Subnodes(Id,NodeId,Code,Name) values (?, ?, ?, ?)\n",
      "126.0 115.0 00 \n",
      "insert into dbo.Subnodes(Id,NodeId,Code,Name) values (?, ?, ?, ?)\n",
      "228.0 196.0  -д\n",
      "insert into dbo.Subnodes(Id,NodeId,Code,Name) values (?, ?, ?, ?)\n",
      "216.0 184.0  Фахверк\n",
      "insert into dbo.Subnodes(Id,NodeId,Code,Name) values (?, ?, ?, ?)\n",
      "132.0 121.0  Система электроснабжения\n",
      "insert into dbo.Subnodes(Id,NodeId,Code,Name) values (?, ?, ?, ?)\n",
      "230.0 198.0  Стационарная площадка для обслуживания предохранительного клапана\n",
      "insert into dbo.Subnodes(Id,NodeId,Code,Name) values (?, ?, ?, ?)\n",
      "154.0 131.0 02 Участок подготовки и ремонта сменного оборудования\n",
      "insert into dbo.Subnodes(Id,NodeId,Code,Name) values (?, ?, ?, ?)\n",
      "131.0 120.0  Поглотительная система №7\n"
     ]
    }
   ],
   "source": [
    "execute_values(subnodes_df, \"subnodes\")"
   ]
  },
  {
   "cell_type": "markdown",
   "metadata": {},
   "source": [
    "<h1>Марки</h1>"
   ]
  },
  {
   "cell_type": "code",
   "execution_count": 699,
   "metadata": {},
   "outputs": [],
   "source": [
    "df15 = df15.drop([\"обозн\", \"комплекс\", \"объект\", \"level_0\", \"ОЗ_марки\"], axis=1)"
   ]
  },
  {
   "cell_type": "code",
   "execution_count": 700,
   "metadata": {},
   "outputs": [],
   "source": [
    "df15[\"t_эксплуат\"] = df15[\"t_эксплуат\"].str.replace(\"минус \", \"-\")\n",
    "df15[\"t_эксплуат\"] = df15[\"t_эксплуат\"].str.replace(\"плюс \", \"\")\n",
    "df15[\"t_эксплуат\"] = df15[\"t_эксплуат\"].str.replace(\"+\", \"\")\n",
    "df15[\"t_эксплуат\"] = df15[\"t_эксплуат\"].str.replace(\"- 39\", \"-39\")\n",
    "df15 = df15[df15[\"t_эксплуат\"] != \"-\"]\n",
    "df15 = df15[df15[\"t_эксплуат\"] != \"минус\"]\n",
    "df15[\"t_эксплуат\"] = df15[\"t_эксплуат\"].astype(\"float64\")"
   ]
  },
  {
   "cell_type": "code",
   "execution_count": 701,
   "metadata": {},
   "outputs": [],
   "source": [
    "df15[\"об_марки\"] = df15[\"об_марки\"].str.strip()\n",
    "df15[\"об_марки\"] = df15[\"об_марки\"].str.replace(\"KM\", \"КМ\")\n",
    "df15 = df15[df15[\"об_марки\"] != \"по\"]"
   ]
  },
  {
   "cell_type": "code",
   "execution_count": 702,
   "metadata": {},
   "outputs": [],
   "source": [
    "df15 = df15.drop([\"об_марки\"], axis=1)"
   ]
  },
  {
   "cell_type": "code",
   "execution_count": 703,
   "metadata": {},
   "outputs": [],
   "source": [
    "df15 = df15.drop([\"project_id\", \"f_p\", \"o_p\", \"s_p\", \"subnode_feature\", \"node_feature\", \"subnodeCode\"], axis=1)"
   ]
  },
  {
   "cell_type": "code",
   "execution_count": 750,
   "metadata": {},
   "outputs": [],
   "source": [
    "df15 = df15.drop([\"baseSeries\", \"nodeCode\", \"node_id\"], axis=1)"
   ]
  },
  {
   "cell_type": "code",
   "execution_count": 751,
   "metadata": {},
   "outputs": [],
   "source": [
    "df15[\"прим\"] = df15[\"прим\"].str.strip()\n",
    "df15[\"прим\"] = df15[\"прим\"].str.replace(\"\\r\\n       \", \" \")"
   ]
  },
  {
   "cell_type": "code",
   "execution_count": 752,
   "metadata": {},
   "outputs": [],
   "source": [
    "df15 = df15.drop([\"ДопКод\"], axis=1)"
   ]
  },
  {
   "cell_type": "code",
   "execution_count": 753,
   "metadata": {},
   "outputs": [],
   "source": [
    "df15[\"категория_пр\"] = 3"
   ]
  },
  {
   "cell_type": "code",
   "execution_count": 754,
   "metadata": {},
   "outputs": [],
   "source": [
    "df15[\"агрессивность\"] += 1\n",
    "df15[\"группа_газов\"] += 1\n",
    "df15[\"материал\"] += 1\n",
    "df15[\"вп_болты\"] += 1\n",
    "\n",
    "# Part\n",
    "df15.loc[df15[\"тип_ЛКМ\"] == \"ПФ\", \"тип_ЛКМ\"] = 1\n",
    "df15.loc[df15[\"тип_ЛКМ\"] == \"АУ\", \"тип_ЛКМ\"] = 2\n",
    "df15.loc[df15[\"тип_ЛКМ\"] == \"ЭЭ\", \"тип_ЛКМ\"] = 3\n",
    "df15.loc[df15[\"тип_ЛКМ\"] == \"МА\", \"тип_ЛКМ\"] = 4\n",
    "df15.loc[df15[\"тип_ЛКМ\"] == \"ПВ\", \"тип_ЛКМ\"] = 11"
   ]
  },
  {
   "cell_type": "code",
   "execution_count": 755,
   "metadata": {},
   "outputs": [],
   "source": [
    "df15 = df15.drop_duplicates(subset=[\"code\", \"subnode_id\"])"
   ]
  },
  {
   "cell_type": "code",
   "execution_count": 756,
   "metadata": {},
   "outputs": [],
   "source": [
    "df15_operating_cond = df15.copy()"
   ]
  },
  {
   "cell_type": "code",
   "execution_count": 757,
   "metadata": {},
   "outputs": [],
   "source": [
    "df15 = df15.rename(columns={\"код_отд\": \"department_id\",\n",
    "                            \"подп1\": \"signed1_id\",\n",
    "                            \"подп2\": \"signed2_id\",\n",
    "                            \"гл_спец\": \"chief_specialist_id\",\n",
    "                            \"рук_гр\": \"group_leader_id\",\n",
    "                            \"н_контр\": \"main_builder_id\",\n",
    "                            \"дата_выд\": \"issue_date\",\n",
    "                            \"кол_томов\": \"num_of_volumes\",\n",
    "                            \"дата_ред\": \"edited_date\",\n",
    "                            \"коэф_надежн\": \"safety_coeff\",\n",
    "                            \"t_эксплуат\": \"operating_temp\",\n",
    "                            \"зона_эксплуат\": \"operating_zone\",\n",
    "                            \"группа_газов\": \"gas_group\",\n",
    "                            \"агрессивность\": \"aggressiveness\",\n",
    "                            \"материал\": \"material\",\n",
    "                            \"тип_ЛКМ\": \"paintwork_type\",\n",
    "                            \"прим\": \"note\",\n",
    "                            \"категория_пр\": \"fire_hazard_category_id\",\n",
    "                            \"вп_болты\": \"high_tensile_bolts\",\n",
    "                            \"п_транспорт\": \"p_transport\",\n",
    "                            \"п_площадки\": \"p_site\",\n",
    "                            \"10ХСНД\": \"xcnd\",\n",
    "                            \"ТекстЗдСм\": \"task_text\",\n",
    "                            \"ДопОбъемы\": \"additional_text\",\n",
    "                            \"ВесПоВМП\": \"vmp_weight\",\n",
    "                            \"ВыпЗдСм\": \"impl_3d_estimate\",\n",
    "                            \"m_p\": \"name\"\n",
    "                       })"
   ]
  },
  {
   "cell_type": "code",
   "execution_count": 758,
   "metadata": {},
   "outputs": [],
   "source": [
    "df15[\"issue_date\"] = df15[\"issue_date\"].astype(object).where(df15[\"issue_date\"].notnull(), None)\n",
    "df15[\"edited_date\"] = df15[\"edited_date\"].astype(object).where(df15[\"edited_date\"].notnull(), None)\n",
    "df15 = df15.where(pd.notnull(df15), None)"
   ]
  },
  {
   "cell_type": "code",
   "execution_count": 759,
   "metadata": {},
   "outputs": [],
   "source": [
    "df15[\"chief_specialist_id\"] = df15[\"chief_specialist_id\"].replace(0, None)\n",
    "df15[\"group_leader_id\"] = df15[\"group_leader_id\"].replace(0, None)\n",
    "df15[\"main_builder_id\"] = df15[\"main_builder_id\"].replace(0, None)"
   ]
  },
  {
   "cell_type": "code",
   "execution_count": 760,
   "metadata": {},
   "outputs": [],
   "source": [
    "df16 = df15.drop([\"vmp_weight\", \"impl_3d_estimate\", \"xcnd\", \"task_text\", \"additional_text\", \"safety_coeff\", \"aggressiveness\", \"operating_temp\", \"operating_zone\", \"gas_group\", \"material\", \"high_tensile_bolts\"], axis=1)"
   ]
  },
  {
   "cell_type": "code",
   "execution_count": 761,
   "metadata": {},
   "outputs": [],
   "source": [
    "df16 = df16.reset_index(drop=True)"
   ]
  },
  {
   "cell_type": "code",
   "execution_count": 762,
   "metadata": {},
   "outputs": [],
   "source": [
    "df16[\"id\"].to_csv(\"mark_ids.csv\")"
   ]
  },
  {
   "cell_type": "code",
   "execution_count": 763,
   "metadata": {},
   "outputs": [],
   "source": [
    "cursor.execute(open(\"sql_server/7.sql\", \"r\").read())\n",
    "conn.commit()"
   ]
  },
  {
   "cell_type": "code",
   "execution_count": 764,
   "metadata": {},
   "outputs": [
    {
     "name": "stdout",
     "output_type": "stream",
     "text": [
      "execute_values() done\n"
     ]
    }
   ],
   "source": [
    "execute_values(df16, \"marks\")"
   ]
  },
  {
   "cell_type": "markdown",
   "metadata": {},
   "source": [
    "<h1>Условия эксплуатации марки</h1>"
   ]
  },
  {
   "cell_type": "code",
   "execution_count": 766,
   "metadata": {},
   "outputs": [],
   "source": [
    "df_op_cond = df15_operating_cond.loc[:, [\"id\", \"коэф_надежн\", \"агрессивность\", \"t_эксплуат\", \"зона_эксплуат\", \"группа_газов\", \"материал\", \"тип_ЛКМ\", \"вп_болты\"]]"
   ]
  },
  {
   "cell_type": "code",
   "execution_count": 767,
   "metadata": {},
   "outputs": [],
   "source": [
    "df_op_cond[\"t_эксплуат\"] = df_op_cond[\"t_эксплуат\"].fillna(-34)"
   ]
  },
  {
   "cell_type": "code",
   "execution_count": 768,
   "metadata": {},
   "outputs": [],
   "source": [
    "df_op_cond = df_op_cond.rename(columns={\"id\": \"mark_id\",\n",
    "                            \"коэф_надежн\": \"safety_coeff\",\n",
    "                            \"t_эксплуат\": \"temperature\",\n",
    "                            \"зона_эксплуат\": \"operating_area_id\",\n",
    "                            \"группа_газов\": \"gas_group_id\",\n",
    "                            \"агрессивность\": \"env_aggressiveness_id\",\n",
    "                            \"материал\": \"construction_material_id\",\n",
    "                            \"тип_ЛКМ\": \"paintwork_type_id\",\n",
    "                            \"вп_болты\": \"high_tensile_bolts_type_id\"\n",
    "                       })"
   ]
  },
  {
   "cell_type": "code",
   "execution_count": 769,
   "metadata": {},
   "outputs": [],
   "source": [
    "cursor.execute(open(\"sql_server/y_mark_operating_conditions.sql\", \"r\").read())\n",
    "conn.commit()"
   ]
  },
  {
   "cell_type": "code",
   "execution_count": 770,
   "metadata": {},
   "outputs": [
    {
     "name": "stdout",
     "output_type": "stream",
     "text": [
      "execute_values() done\n"
     ]
    }
   ],
   "source": [
    "execute_values(df_op_cond, \"mark_operating_conditions\")"
   ]
  },
  {
   "cell_type": "markdown",
   "metadata": {},
   "source": [
    "<h1>Задание на смету</h1>"
   ]
  },
  {
   "cell_type": "code",
   "execution_count": 771,
   "metadata": {},
   "outputs": [],
   "source": [
    "df_task = df15.loc[:, [\"id\", \"task_text\", \"additional_text\"]]"
   ]
  },
  {
   "cell_type": "code",
   "execution_count": 772,
   "metadata": {},
   "outputs": [],
   "source": [
    "df_task[\"task_text\"] = df_task[\"task_text\"].str.strip()"
   ]
  },
  {
   "cell_type": "code",
   "execution_count": 773,
   "metadata": {},
   "outputs": [],
   "source": [
    "df['обозн'] = 'Разработать сметную документацию к чертежам ' + df['обозн'].astype(str) + '\\r\\nСостав и объемы работ:'"
   ]
  },
  {
   "cell_type": "code",
   "execution_count": 774,
   "metadata": {},
   "outputs": [],
   "source": [
    "df_task.loc[df_task[\"task_text\"].isna(), \"task_text\"] = list(df.loc[df[\"код_марки\"].isin(df_task.loc[df_task[\"task_text\"].isna(), \"id\"]), \"обозн\"])"
   ]
  },
  {
   "cell_type": "code",
   "execution_count": 775,
   "metadata": {},
   "outputs": [],
   "source": [
    "df_task = df_task.rename(columns={\"id\": \"mark_id\"})"
   ]
  },
  {
   "cell_type": "code",
   "execution_count": 776,
   "metadata": {},
   "outputs": [],
   "source": [
    "df_task[\"task_text\"] = df_task[\"task_text\"].str.replace(\"\\r\\n\", \"\\n\")"
   ]
  },
  {
   "cell_type": "code",
   "execution_count": 777,
   "metadata": {},
   "outputs": [],
   "source": [
    "df_task[\"additional_text\"] = df_task[\"additional_text\"].str.replace(\"\\r\\n\", \"\\n\")"
   ]
  },
  {
   "cell_type": "code",
   "execution_count": 778,
   "metadata": {},
   "outputs": [],
   "source": [
    "cursor.execute(open(\"sql_server/y_estimate_task.sql\", \"r\").read())\n",
    "conn.commit()"
   ]
  },
  {
   "cell_type": "code",
   "execution_count": 779,
   "metadata": {},
   "outputs": [
    {
     "name": "stdout",
     "output_type": "stream",
     "text": [
      "execute_values() done\n"
     ]
    }
   ],
   "source": [
    "execute_values(df_task, \"estimate_task\")"
   ]
  },
  {
   "cell_type": "markdown",
   "metadata": {},
   "source": [
    "<h1>Выпуски спецификаций</h1>"
   ]
  },
  {
   "cell_type": "code",
   "execution_count": 780,
   "metadata": {},
   "outputs": [],
   "source": [
    "df = pd.read_sql_query('SELECT * FROM Pro_t.dbo.ВыпСпец', db_conn)"
   ]
  },
  {
   "cell_type": "code",
   "execution_count": 781,
   "metadata": {},
   "outputs": [],
   "source": [
    "df = df.replace(\"\", np.nan)"
   ]
  },
  {
   "cell_type": "code",
   "execution_count": 782,
   "metadata": {},
   "outputs": [],
   "source": [
    "df = df.drop_duplicates(subset=[\"код_марки\", \"выпуск\"])"
   ]
  },
  {
   "cell_type": "code",
   "execution_count": 783,
   "metadata": {},
   "outputs": [],
   "source": [
    "df = df.drop([\"вкл_вып\"], axis=1)"
   ]
  },
  {
   "cell_type": "code",
   "execution_count": 784,
   "metadata": {},
   "outputs": [],
   "source": [
    "df[\"текущий\"] = df[\"текущий\"].map(lambda x: True if (x == 1) else False)"
   ]
  },
  {
   "cell_type": "code",
   "execution_count": 785,
   "metadata": {},
   "outputs": [],
   "source": [
    "df = df.rename(columns={\"Поз_выпуска\": \"id\",\n",
    "                        \"код_марки\": \"mark_id\",\n",
    "                        \"выпуск\": \"num\",\n",
    "                        \"дата_созд\": \"created_date\",\n",
    "                        \"текущий\": \"is_current\",\n",
    "                        \"прим\": \"note\"\n",
    "                       })"
   ]
  },
  {
   "cell_type": "code",
   "execution_count": 786,
   "metadata": {},
   "outputs": [],
   "source": [
    "df[\"created_date\"] = df[\"created_date\"].astype(object).where(df[\"created_date\"].notnull(), datetime(2000, 1, 1))\n",
    "df = df.where(pd.notnull(df), None)"
   ]
  },
  {
   "cell_type": "code",
   "execution_count": 787,
   "metadata": {},
   "outputs": [],
   "source": [
    "m_ids = pd.read_csv(\"mark_ids.csv\")\n",
    "m_ids = m_ids.drop([\"Unnamed: 0\"], axis=1)\n",
    "m_ids = m_ids.values.flatten().tolist()"
   ]
  },
  {
   "cell_type": "code",
   "execution_count": 788,
   "metadata": {},
   "outputs": [],
   "source": [
    "df = df[df[\"mark_id\"].isin(m_ids)]"
   ]
  },
  {
   "cell_type": "code",
   "execution_count": 789,
   "metadata": {},
   "outputs": [],
   "source": [
    "df.loc[:, [\"id\", \"mark_id\", \"num\"]].to_csv(\"specs.csv\")"
   ]
  },
  {
   "cell_type": "code",
   "execution_count": 790,
   "metadata": {},
   "outputs": [],
   "source": [
    "cursor.execute(open(\"sql_server/3.sql\", \"r\").read())\n",
    "conn.commit()"
   ]
  },
  {
   "cell_type": "code",
   "execution_count": 791,
   "metadata": {},
   "outputs": [
    {
     "name": "stdout",
     "output_type": "stream",
     "text": [
      "execute_values() done\n"
     ]
    }
   ],
   "source": [
    "execute_values(df, \"specifications\")"
   ]
  },
  {
   "cell_type": "markdown",
   "metadata": {},
   "source": [
    "<h1>Листы</h1>"
   ]
  },
  {
   "cell_type": "code",
   "execution_count": 793,
   "metadata": {},
   "outputs": [],
   "source": [
    "df = pd.read_sql_query('SELECT * FROM Pro_t.dbo.Листы', db_conn)"
   ]
  },
  {
   "cell_type": "code",
   "execution_count": 794,
   "metadata": {},
   "outputs": [],
   "source": [
    "df = df.replace(\"\", np.nan)"
   ]
  },
  {
   "cell_type": "code",
   "execution_count": 795,
   "metadata": {},
   "outputs": [],
   "source": [
    "df = df[df[\"номер\"].isna() == False]"
   ]
  },
  {
   "cell_type": "code",
   "execution_count": 796,
   "metadata": {},
   "outputs": [],
   "source": [
    "df[\"тип_док\"] = df[\"тип_док\"] + 1"
   ]
  },
  {
   "cell_type": "code",
   "execution_count": 797,
   "metadata": {},
   "outputs": [],
   "source": [
    "df[\"вып\"] = df[\"вып\"].map(lambda x: np.nan if x == 0 else x)"
   ]
  },
  {
   "cell_type": "code",
   "execution_count": 798,
   "metadata": {},
   "outputs": [],
   "source": [
    "df[\"пров\"] = df[\"пров\"].map(lambda x: np.nan if x == 0 else x)"
   ]
  },
  {
   "cell_type": "code",
   "execution_count": 799,
   "metadata": {},
   "outputs": [],
   "source": [
    "df[\"норм\"] = df[\"норм\"].map(lambda x: np.nan if x == 0 else x)"
   ]
  },
  {
   "cell_type": "code",
   "execution_count": 800,
   "metadata": {},
   "outputs": [],
   "source": [
    "df = df.drop([\"шифр_вып\", \"шифр_пров\", \"шифр_норм\"], axis=1)"
   ]
  },
  {
   "cell_type": "code",
   "execution_count": 801,
   "metadata": {},
   "outputs": [],
   "source": [
    "df[\"формат\"] = df[\"формат\"].map(lambda x: 1.0 if np.isnan(x) else x)"
   ]
  },
  {
   "cell_type": "code",
   "execution_count": 802,
   "metadata": {},
   "outputs": [],
   "source": [
    "df = df.drop_duplicates(subset=[\"код_марки\", \"номер\", \"тип_док\"])"
   ]
  },
  {
   "cell_type": "code",
   "execution_count": 803,
   "metadata": {},
   "outputs": [],
   "source": [
    "df = df[df[\"вып\"].isna() == False]"
   ]
  },
  {
   "cell_type": "code",
   "execution_count": 804,
   "metadata": {},
   "outputs": [],
   "source": [
    "df[\"название\"] = df[\"название\"].str.strip()"
   ]
  },
  {
   "cell_type": "code",
   "execution_count": 805,
   "metadata": {},
   "outputs": [],
   "source": [
    "for i in range(0, len(df)):\n",
    "    try:\n",
    "        arr = df[\"название\"][i].split()\n",
    "        new_str = ' '.join(arr)\n",
    "        df.at[i, \"название\"] = new_str\n",
    "    except Exception:\n",
    "        pass"
   ]
  },
  {
   "cell_type": "code",
   "execution_count": 806,
   "metadata": {},
   "outputs": [],
   "source": [
    "df = df.rename(columns={\"поз_листа\": \"id\",\n",
    "                        \"код_марки\": \"mark_id\",\n",
    "                        \"номер\": \"num\",\n",
    "                        \"название\": \"name\",\n",
    "                        \"формат\": \"form\",\n",
    "                        \"вып\": \"creator_id\",\n",
    "                        \"пров\": \"inspector_id\",\n",
    "                        \"норм\": \"norm_contr_id\",\n",
    "                        \"тип_док\": \"type_id\",\n",
    "                        \"выпуск\": \"release_num\",\n",
    "                        \"листов\": \"num_of_pages\",\n",
    "                        \"прим\": \"note\"\n",
    "                       })"
   ]
  },
  {
   "cell_type": "code",
   "execution_count": 807,
   "metadata": {},
   "outputs": [],
   "source": [
    "df = df.where(pd.notnull(df), None)"
   ]
  },
  {
   "cell_type": "code",
   "execution_count": 808,
   "metadata": {},
   "outputs": [],
   "source": [
    "m_ids = pd.read_csv(\"mark_ids.csv\")\n",
    "m_ids = m_ids.drop([\"Unnamed: 0\"], axis=1)\n",
    "m_ids = m_ids.values.flatten().tolist()"
   ]
  },
  {
   "cell_type": "code",
   "execution_count": 809,
   "metadata": {},
   "outputs": [],
   "source": [
    "e_ids = pd.read_csv(\"employee_ids.csv\")\n",
    "e_ids = e_ids.drop([\"Unnamed: 0\"], axis=1)\n",
    "e_ids = e_ids.values.flatten().tolist()"
   ]
  },
  {
   "cell_type": "code",
   "execution_count": 810,
   "metadata": {},
   "outputs": [],
   "source": [
    "df = df[df[\"mark_id\"].isin(m_ids)]\n",
    "df.loc[df[\"creator_id\"].isin(e_ids) == False, \"creator_id\"] = None\n",
    "df.loc[df[\"inspector_id\"].isin(e_ids) == False, \"inspector_id\"] = None\n",
    "df.loc[df[\"norm_contr_id\"].isin(e_ids) == False, \"norm_contr_id\"] = None"
   ]
  },
  {
   "cell_type": "code",
   "execution_count": 811,
   "metadata": {},
   "outputs": [],
   "source": [
    "df[\"release_num\"] = df[\"release_num\"].fillna(0)\n",
    "df[\"num_of_pages\"] = df[\"num_of_pages\"].fillna(0)"
   ]
  },
  {
   "cell_type": "code",
   "execution_count": 812,
   "metadata": {},
   "outputs": [],
   "source": [
    "df = df[df[\"creator_id\"].isna() == False]\n",
    "df = df[df[\"name\"].isna() == False]"
   ]
  },
  {
   "cell_type": "code",
   "execution_count": 813,
   "metadata": {},
   "outputs": [],
   "source": [
    "cursor.execute(open(\"sql_server/6.sql\", \"r\").read())\n",
    "conn.commit()"
   ]
  },
  {
   "cell_type": "code",
   "execution_count": 814,
   "metadata": {},
   "outputs": [
    {
     "name": "stdout",
     "output_type": "stream",
     "text": [
      "execute_values() done\n"
     ]
    }
   ],
   "source": [
    "execute_values(df, \"docs\")"
   ]
  },
  {
   "cell_type": "markdown",
   "metadata": {},
   "source": [
    "<h1>Обозначения марок</h1>"
   ]
  },
  {
   "cell_type": "code",
   "execution_count": 816,
   "metadata": {},
   "outputs": [],
   "source": [
    "df = pd.read_sql_query('SELECT * FROM Pro_t.dbo.Об_марок', db_conn)"
   ]
  },
  {
   "cell_type": "code",
   "execution_count": 817,
   "metadata": {},
   "outputs": [],
   "source": [
    "df = df.iloc[:-1, :]"
   ]
  },
  {
   "cell_type": "code",
   "execution_count": 818,
   "metadata": {},
   "outputs": [],
   "source": [
    "df.loc[0, \"об_марки\"] = \"КМД\"\n",
    "df.loc[0, \"наим_марки\"] = \"Конструкции металлические деталировочные\""
   ]
  },
  {
   "cell_type": "code",
   "execution_count": 819,
   "metadata": {},
   "outputs": [],
   "source": [
    "df = df.rename(columns={\"Поз\": \"id\",\n",
    "                        \"об_марки\": \"designation\",\n",
    "                        \"наим_марки\": \"name\"\n",
    "                       })"
   ]
  },
  {
   "cell_type": "code",
   "execution_count": 820,
   "metadata": {},
   "outputs": [],
   "source": [
    "cursor.execute(open(\"sql_server/9.sql\", \"r\").read())\n",
    "conn.commit()"
   ]
  },
  {
   "cell_type": "code",
   "execution_count": 821,
   "metadata": {},
   "outputs": [
    {
     "name": "stdout",
     "output_type": "stream",
     "text": [
      "execute_values() done\n"
     ]
    }
   ],
   "source": [
    "execute_values(df, \"mark_designations\")"
   ]
  },
  {
   "cell_type": "markdown",
   "metadata": {},
   "source": [
    "<h1>Прилагаемые документы марки</h1>"
   ]
  },
  {
   "cell_type": "code",
   "execution_count": 823,
   "metadata": {},
   "outputs": [],
   "source": [
    "df = pd.read_sql_query('SELECT * FROM Pro_t.dbo.Од_прил', db_conn)"
   ]
  },
  {
   "cell_type": "code",
   "execution_count": 824,
   "metadata": {},
   "outputs": [],
   "source": [
    "df = df.replace(\"\", np.nan)"
   ]
  },
  {
   "cell_type": "code",
   "execution_count": 825,
   "metadata": {},
   "outputs": [],
   "source": [
    "df = df.drop_duplicates(subset=[\"код_марки\", \"обозн_прил\"])"
   ]
  },
  {
   "cell_type": "code",
   "execution_count": 826,
   "metadata": {},
   "outputs": [],
   "source": [
    "df = df.where(pd.notnull(df), None)"
   ]
  },
  {
   "cell_type": "code",
   "execution_count": 827,
   "metadata": {},
   "outputs": [],
   "source": [
    "df = df.rename(columns={\"Поз_прил\": \"id\",\n",
    "                        \"код_марки\": \"mark_id\",\n",
    "                        \"наим_прил\": \"name\",\n",
    "                        \"прим\": \"note\",\n",
    "                        \"обозн_прил\": \"designation\"\n",
    "                       })"
   ]
  },
  {
   "cell_type": "code",
   "execution_count": 828,
   "metadata": {},
   "outputs": [],
   "source": [
    "m_ids = pd.read_csv(\"mark_ids.csv\")\n",
    "m_ids = m_ids.drop([\"Unnamed: 0\"], axis=1)\n",
    "m_ids = m_ids.values.flatten().tolist()\n",
    "df = df[df[\"mark_id\"].isin(m_ids)]"
   ]
  },
  {
   "cell_type": "code",
   "execution_count": 829,
   "metadata": {},
   "outputs": [],
   "source": [
    "cursor.execute(open(\"sql_server/12.sql\", \"r\").read())\n",
    "conn.commit()"
   ]
  },
  {
   "cell_type": "code",
   "execution_count": 830,
   "metadata": {},
   "outputs": [
    {
     "name": "stdout",
     "output_type": "stream",
     "text": [
      "execute_values() done\n"
     ]
    }
   ],
   "source": [
    "execute_values(df, \"attached_docs\")"
   ]
  },
  {
   "cell_type": "markdown",
   "metadata": {},
   "source": [
    "<h1>Согласования</h1>"
   ]
  },
  {
   "cell_type": "code",
   "execution_count": 832,
   "metadata": {},
   "outputs": [],
   "source": [
    "df = pd.read_sql_query('SELECT * FROM Pro_t.dbo.Од_согл', db_conn)"
   ]
  },
  {
   "cell_type": "code",
   "execution_count": 833,
   "metadata": {},
   "outputs": [],
   "source": [
    "df = df.replace(\"\", np.nan)"
   ]
  },
  {
   "cell_type": "code",
   "execution_count": 834,
   "metadata": {},
   "outputs": [],
   "source": [
    "df = df.drop([\"отдел1\", \"отдел2\", \"отдел3\", \"отдел4\", \"отдел5\", \"отдел6\", \"отдел7\"], axis=1)"
   ]
  },
  {
   "cell_type": "code",
   "execution_count": 835,
   "metadata": {},
   "outputs": [],
   "source": [
    "p1 = df.iloc[:, [0,1]]\n",
    "p1 = p1.rename(columns={\"исп1\": \"исп\"})\n",
    "\n",
    "p2 = df.iloc[:, [0,2]]\n",
    "p2 = p2.rename(columns={\"исп2\": \"исп\"})\n",
    "\n",
    "p3 = df.iloc[:, [0,3]]\n",
    "p3 = p3.rename(columns={\"исп3\": \"исп\"})\n",
    "\n",
    "p4 = df.iloc[:, [0,4]]\n",
    "p4 = p4.rename(columns={\"исп4\": \"исп\"})\n",
    "\n",
    "p5 = df.iloc[:, [0,5]]\n",
    "p5 = p5.rename(columns={\"исп5\": \"исп\"})\n",
    "\n",
    "p6 = df.iloc[:, [0,6]]\n",
    "p6 = p6.rename(columns={\"исп6\": \"исп\"})\n",
    "\n",
    "p7 = df.iloc[:, [0,7]]\n",
    "p7 = p7.rename(columns={\"исп7\": \"исп\"})"
   ]
  },
  {
   "cell_type": "code",
   "execution_count": 836,
   "metadata": {},
   "outputs": [],
   "source": [
    "df = pd.concat([p1, p2, p3, p4, p5, p6, p7], ignore_index=True)"
   ]
  },
  {
   "cell_type": "code",
   "execution_count": 837,
   "metadata": {},
   "outputs": [],
   "source": [
    "df = df.dropna()\n",
    "df = df[df[\"исп\"] != 0]"
   ]
  },
  {
   "cell_type": "code",
   "execution_count": 838,
   "metadata": {},
   "outputs": [],
   "source": [
    "df = df.drop_duplicates()"
   ]
  },
  {
   "cell_type": "code",
   "execution_count": 839,
   "metadata": {},
   "outputs": [],
   "source": [
    "df.insert(0, 'id', range(1, len(df) + 1))"
   ]
  },
  {
   "cell_type": "code",
   "execution_count": 840,
   "metadata": {},
   "outputs": [],
   "source": [
    "df = df.rename(columns={\"код_марки\": \"mark_id\",\n",
    "                        \"исп\": \"employee_id\"\n",
    "                       })"
   ]
  },
  {
   "cell_type": "code",
   "execution_count": 841,
   "metadata": {},
   "outputs": [],
   "source": [
    "m_ids = pd.read_csv(\"mark_ids.csv\")\n",
    "e_ids = pd.read_csv(\"employee_ids.csv\")"
   ]
  },
  {
   "cell_type": "code",
   "execution_count": 842,
   "metadata": {},
   "outputs": [],
   "source": [
    "m_ids = m_ids.drop([\"Unnamed: 0\"], axis=1)\n",
    "e_ids = e_ids.drop([\"Unnamed: 0\"], axis=1)"
   ]
  },
  {
   "cell_type": "code",
   "execution_count": 843,
   "metadata": {},
   "outputs": [],
   "source": [
    "m_ids = m_ids.values.flatten().tolist()\n",
    "e_ids = e_ids.values.flatten().tolist()"
   ]
  },
  {
   "cell_type": "code",
   "execution_count": 844,
   "metadata": {},
   "outputs": [],
   "source": [
    "df = df[df[\"mark_id\"].isin(m_ids)]\n",
    "df = df[df[\"employee_id\"].isin(e_ids)]"
   ]
  },
  {
   "cell_type": "code",
   "execution_count": 845,
   "metadata": {},
   "outputs": [],
   "source": [
    "cursor.execute(open(\"sql_server/13.sql\", \"r\").read())\n",
    "conn.commit()"
   ]
  },
  {
   "cell_type": "code",
   "execution_count": 846,
   "metadata": {},
   "outputs": [
    {
     "name": "stdout",
     "output_type": "stream",
     "text": [
      "execute_values() done\n"
     ]
    }
   ],
   "source": [
    "execute_values(df, \"mark_approvals\")"
   ]
  },
  {
   "cell_type": "markdown",
   "metadata": {},
   "source": [
    "<h1>Ссылочные документы марки</h1>"
   ]
  },
  {
   "cell_type": "code",
   "execution_count": 848,
   "metadata": {},
   "outputs": [],
   "source": [
    "df = pd.read_sql_query('SELECT * FROM Pro_t.dbo.Од_ссыл', db_conn)"
   ]
  },
  {
   "cell_type": "code",
   "execution_count": 849,
   "metadata": {},
   "outputs": [],
   "source": [
    "df = df.replace(\"\", np.nan)"
   ]
  },
  {
   "cell_type": "code",
   "execution_count": 850,
   "metadata": {},
   "outputs": [],
   "source": [
    "df= df[df[\"шифр_сд\"] != \"1\"]\n",
    "df[\"шифр_сд\"] = df[\"шифр_сд\"].str.upper()"
   ]
  },
  {
   "cell_type": "code",
   "execution_count": 851,
   "metadata": {},
   "outputs": [],
   "source": [
    "m_ids = pd.read_csv(\"mark_ids.csv\")\n",
    "m_ids = m_ids.drop([\"Unnamed: 0\"], axis=1)\n",
    "m_ids = m_ids.values.flatten().tolist()\n",
    "df = df[df[\"код_марки\"].isin(m_ids)]"
   ]
  },
  {
   "cell_type": "code",
   "execution_count": 852,
   "metadata": {},
   "outputs": [
    {
     "name": "stderr",
     "output_type": "stream",
     "text": [
      "<ipython-input-852-9c8014e24f43>:2: DeprecationWarning: The default dtype for empty Series will be 'object' instead of 'float64' in a future version. Specify a dtype explicitly to silence this warning.\n",
      "  df = df.append(pd.Series(), ignore_index=True)\n"
     ]
    }
   ],
   "source": [
    "for i in range(1, 301):\n",
    "    df = df.append(pd.Series(), ignore_index=True)"
   ]
  },
  {
   "cell_type": "code",
   "execution_count": 853,
   "metadata": {},
   "outputs": [],
   "source": [
    "df.loc[:, \"код_марки\"] = random.choices(m_ids, k=300)\n",
    "df.loc[:, \"шифр_сд\"] = random.choices(range(1, 300), k=300)"
   ]
  },
  {
   "cell_type": "code",
   "execution_count": 854,
   "metadata": {},
   "outputs": [],
   "source": [
    "df = df.drop_duplicates(subset=[\"код_марки\", \"шифр_сд\"])"
   ]
  },
  {
   "cell_type": "code",
   "execution_count": 855,
   "metadata": {},
   "outputs": [],
   "source": [
    "df = df.drop([\"Поз_сд\"], axis=1)"
   ]
  },
  {
   "cell_type": "code",
   "execution_count": 856,
   "metadata": {},
   "outputs": [],
   "source": [
    "df.insert(0, 'id', range(1, len(df) + 1))"
   ]
  },
  {
   "cell_type": "code",
   "execution_count": 857,
   "metadata": {},
   "outputs": [],
   "source": [
    "df = df.rename(columns={\"код_марки\": \"mark_id\",\n",
    "                        \"шифр_сд\": \"linked_doc_id\",\n",
    "                        \"прим\": \"note\"\n",
    "                       })"
   ]
  },
  {
   "cell_type": "code",
   "execution_count": 858,
   "metadata": {},
   "outputs": [],
   "source": [
    "cursor.execute(open(\"sql_server/14.sql\", \"r\").read())\n",
    "conn.commit()"
   ]
  },
  {
   "cell_type": "code",
   "execution_count": 859,
   "metadata": {},
   "outputs": [
    {
     "name": "stdout",
     "output_type": "stream",
     "text": [
      "execute_values() done\n"
     ]
    }
   ],
   "source": [
    "execute_values(df, \"mark_linked_docs\")"
   ]
  },
  {
   "cell_type": "markdown",
   "metadata": {},
   "source": [
    "<h1>Учет дополнительных работ</h1>"
   ]
  },
  {
   "cell_type": "code",
   "execution_count": 861,
   "metadata": {},
   "outputs": [],
   "source": [
    "df = pd.read_sql_query('SELECT * FROM Pro_t.dbo.Од_вып_доп', db_conn)"
   ]
  },
  {
   "cell_type": "code",
   "execution_count": 862,
   "metadata": {},
   "outputs": [],
   "source": [
    "df = df.replace(\"\", np.nan)"
   ]
  },
  {
   "cell_type": "code",
   "execution_count": 863,
   "metadata": {},
   "outputs": [],
   "source": [
    "df = df.drop([\"шифр_исп\"], axis=1)"
   ]
  },
  {
   "cell_type": "code",
   "execution_count": 864,
   "metadata": {},
   "outputs": [],
   "source": [
    "df = df[df[\"код_исп\"].isna() == False]"
   ]
  },
  {
   "cell_type": "code",
   "execution_count": 865,
   "metadata": {},
   "outputs": [],
   "source": [
    "df = df.drop_duplicates(subset=[\"код_марки\", \"код_исп\"])"
   ]
  },
  {
   "cell_type": "code",
   "execution_count": 866,
   "metadata": {},
   "outputs": [],
   "source": [
    "m_ids = pd.read_csv(\"mark_ids.csv\")\n",
    "m_ids = m_ids.drop([\"Unnamed: 0\"], axis=1)\n",
    "m_ids = m_ids.values.flatten().tolist()\n",
    "df = df[df[\"код_марки\"].isin(m_ids)]"
   ]
  },
  {
   "cell_type": "code",
   "execution_count": 867,
   "metadata": {},
   "outputs": [],
   "source": [
    "df = df.rename(columns={\"Поз_вып_доп\": \"id\",\n",
    "                        \"код_марки\": \"mark_id\",\n",
    "                        \"код_исп\": \"employee_id\",\n",
    "                        \"расчет\": \"valuation\",\n",
    "                        \"заказ\": \"metal_order\",\n",
    "                       })"
   ]
  },
  {
   "cell_type": "code",
   "execution_count": 868,
   "metadata": {},
   "outputs": [],
   "source": [
    "cursor.execute(open(\"sql_server/11.sql\", \"r\").read())\n",
    "conn.commit()"
   ]
  },
  {
   "cell_type": "code",
   "execution_count": 869,
   "metadata": {},
   "outputs": [
    {
     "name": "stdout",
     "output_type": "stream",
     "text": [
      "execute_values() done\n"
     ]
    }
   ],
   "source": [
    "execute_values(df, \"additional_work\")"
   ]
  },
  {
   "cell_type": "markdown",
   "metadata": {},
   "source": [
    "<h1>Типовые конструкции</h1>"
   ]
  },
  {
   "cell_type": "code",
   "execution_count": 871,
   "metadata": {},
   "outputs": [],
   "source": [
    "df = pd.read_sql_query('SELECT * FROM Pro_t.dbo.Тс_типовые', db_conn)"
   ]
  },
  {
   "cell_type": "code",
   "execution_count": 872,
   "metadata": {},
   "outputs": [],
   "source": [
    "df = df[df[\"имя_тк\"].isna() == False]"
   ]
  },
  {
   "cell_type": "code",
   "execution_count": 873,
   "metadata": {},
   "outputs": [],
   "source": [
    "df[\"имя_тк\"] = df[\"имя_тк\"].str.strip()"
   ]
  },
  {
   "cell_type": "markdown",
   "metadata": {},
   "source": [
    "<h2>Типовые наименования типовых конструкций</h2>"
   ]
  },
  {
   "cell_type": "code",
   "execution_count": 874,
   "metadata": {},
   "outputs": [],
   "source": [
    "st_name_df = pd.DataFrame(data=df[\"имя_тк\"].unique(), columns=[\"name\"])"
   ]
  },
  {
   "cell_type": "code",
   "execution_count": 875,
   "metadata": {},
   "outputs": [],
   "source": [
    "st_name_df.loc[3, \"name\"] = \"Рельсы крановые КР-70 сталь К63\"\n",
    "st_name_df = st_name_df[st_name_df[\"name\"] != \"КР-70\"]\n",
    "st_name_df.loc[5, \"name\"] = \"Рельсы крановые Р-43\"\n",
    "st_name_df = st_name_df[st_name_df[\"name\"] != \"Оцинкованная сталь ГОСТ14918-80*\"]\n",
    "st_name_df.loc[11, \"name\"] = \"Рельсы крановые КР-70\"\n",
    "st_name_df.loc[12, \"name\"] = \"Детали крепления крановых рельсов\"\n",
    "st_name_df = st_name_df[st_name_df[\"name\"] != \"Крановый рельс КР-70\"]\n",
    "st_name_df.loc[16, \"name\"] = \"Накладка 5 на рельс Р-24 по ГОСТ 8141-56\""
   ]
  },
  {
   "cell_type": "code",
   "execution_count": 876,
   "metadata": {},
   "outputs": [],
   "source": [
    "st_name_df.insert(0, 'id', range(1, len(st_name_df) + 1))"
   ]
  },
  {
   "cell_type": "code",
   "execution_count": 877,
   "metadata": {},
   "outputs": [],
   "source": [
    "cursor.execute(open(\"sql_server/yyy_1.sql\", \"r\").read())\n",
    "conn.commit()"
   ]
  },
  {
   "cell_type": "code",
   "execution_count": 878,
   "metadata": {},
   "outputs": [
    {
     "name": "stdout",
     "output_type": "stream",
     "text": [
      "execute_values() done\n"
     ]
    }
   ],
   "source": [
    "execute_values(st_name_df, \"standard_construction_names\")"
   ]
  },
  {
   "cell_type": "markdown",
   "metadata": {},
   "source": [
    "--------------------"
   ]
  },
  {
   "cell_type": "code",
   "execution_count": 879,
   "metadata": {},
   "outputs": [],
   "source": [
    "m_ids = pd.read_csv(\"mark_ids.csv\")\n",
    "m_ids = m_ids.drop([\"Unnamed: 0\"], axis=1)\n",
    "m_ids = m_ids.values.flatten().tolist()\n",
    "df = df[df[\"код_марки\"].isin(m_ids)]"
   ]
  },
  {
   "cell_type": "code",
   "execution_count": 880,
   "metadata": {},
   "outputs": [],
   "source": [
    "specs = pd.read_csv(\"specs.csv\")\n",
    "specs = specs.drop([\"Unnamed: 0\"], axis=1)"
   ]
  },
  {
   "cell_type": "code",
   "execution_count": 881,
   "metadata": {},
   "outputs": [],
   "source": [
    "for index, row in df.iterrows():\n",
    "    try:\n",
    "        df.loc[index, \"specification_id\"] = specs.loc[(specs[\"mark_id\"] == row[\"код_марки\"]) & (specs[\"num\"] == row[\"выпуск\"]), \"id\"].values[0]\n",
    "    except:\n",
    "        pass"
   ]
  },
  {
   "cell_type": "code",
   "execution_count": 882,
   "metadata": {},
   "outputs": [],
   "source": [
    "df = df.drop([\"код_марки\", \"выпуск\"], axis=1)"
   ]
  },
  {
   "cell_type": "code",
   "execution_count": 883,
   "metadata": {},
   "outputs": [],
   "source": [
    "df.loc[24, \"кол_тк\"] = 1"
   ]
  },
  {
   "cell_type": "code",
   "execution_count": 884,
   "metadata": {},
   "outputs": [],
   "source": [
    "# https://wikiweight.info/strmat/massa-ankerov-hilti.html\n",
    "df.loc[28, \"вес_тк\"] = 0.056\n",
    "df.loc[32, \"вес_тк\"] = 0.056"
   ]
  },
  {
   "cell_type": "code",
   "execution_count": 885,
   "metadata": {},
   "outputs": [],
   "source": [
    "df.loc[25, \"вес_тк\"] = 0.024\n",
    "df.loc[29, \"вес_тк\"] = 0.024\n",
    "df.loc[25, \"кол_тк\"] = 360\n",
    "df.loc[29, \"кол_тк\"] = 360\n",
    "df = df[df[\"сч_тк\"] != 54]\n",
    "df = df[df[\"сч_тк\"] != 58]"
   ]
  },
  {
   "cell_type": "code",
   "execution_count": 886,
   "metadata": {},
   "outputs": [],
   "source": [
    "df = df.rename(columns={\"сч_тк\": \"id\",\n",
    "                        \"имя_тк\": \"name\",\n",
    "                        \"кол_тк\": \"num\",\n",
    "                        \"лист_тк\": \"sheet\",\n",
    "                        \"вес_тк\": \"weight\"\n",
    "                       })"
   ]
  },
  {
   "cell_type": "code",
   "execution_count": 887,
   "metadata": {},
   "outputs": [],
   "source": [
    "df = df.where(pd.notnull(df), None)"
   ]
  },
  {
   "cell_type": "code",
   "execution_count": 888,
   "metadata": {},
   "outputs": [],
   "source": [
    "cursor.execute(open(\"sql_server/47.sql\", \"r\").read())"
   ]
  },
  {
   "cell_type": "code",
   "execution_count": 889,
   "metadata": {},
   "outputs": [
    {
     "name": "stdout",
     "output_type": "stream",
     "text": [
      "execute_values() done\n"
     ]
    }
   ],
   "source": [
    "execute_values(df, \"standard_constructions\")"
   ]
  },
  {
   "cell_type": "markdown",
   "metadata": {},
   "source": [
    "<h1>Виды конструкций марки</h1>"
   ]
  },
  {
   "cell_type": "code",
   "execution_count": 891,
   "metadata": {},
   "outputs": [],
   "source": [
    "df = pd.read_sql_query('SELECT * FROM Pro_t.dbo.Тс_Виды_к', db_conn)"
   ]
  },
  {
   "cell_type": "code",
   "execution_count": 892,
   "metadata": {},
   "outputs": [],
   "source": [
    "df = df.drop_duplicates()"
   ]
  },
  {
   "cell_type": "code",
   "execution_count": 893,
   "metadata": {},
   "outputs": [],
   "source": [
    "df = df.dropna(subset=[\"кт_окраски\", \"кол_тип_констр\", \"имя_к\", \"Шифр_к\", \"Шифр_пк\"])"
   ]
  },
  {
   "cell_type": "code",
   "execution_count": 894,
   "metadata": {},
   "outputs": [],
   "source": [
    "m_ids = pd.read_csv(\"mark_ids.csv\")\n",
    "m_ids = m_ids.drop([\"Unnamed: 0\"], axis=1)\n",
    "m_ids = m_ids.values.flatten().tolist()\n",
    "df = df[df[\"код_марки\"].isin(m_ids)]"
   ]
  },
  {
   "cell_type": "code",
   "execution_count": 895,
   "metadata": {},
   "outputs": [],
   "source": [
    "specs = pd.read_csv(\"specs.csv\")\n",
    "specs = specs.drop([\"Unnamed: 0\"], axis=1)"
   ]
  },
  {
   "cell_type": "code",
   "execution_count": 896,
   "metadata": {},
   "outputs": [],
   "source": [
    "df.insert(1, \"specification_id\", 0, True) "
   ]
  },
  {
   "cell_type": "code",
   "execution_count": 897,
   "metadata": {},
   "outputs": [],
   "source": [
    "for index, row in df.iterrows():\n",
    "    try:\n",
    "        df.loc[index, \"specification_id\"] = specs.loc[(specs[\"mark_id\"] == row[\"код_марки\"]) & (specs[\"num\"] == row[\"выпуск\"]), \"id\"].values[0]\n",
    "    except:\n",
    "        pass"
   ]
  },
  {
   "cell_type": "code",
   "execution_count": 898,
   "metadata": {},
   "outputs": [],
   "source": [
    "df = df[df[\"specification_id\"] != 0]"
   ]
  },
  {
   "cell_type": "code",
   "execution_count": 899,
   "metadata": {},
   "outputs": [],
   "source": [
    "df = df.drop([\"код_марки\", \"выпуск\"], axis=1)"
   ]
  },
  {
   "cell_type": "code",
   "execution_count": 900,
   "metadata": {},
   "outputs": [],
   "source": [
    "df[\"Шифр_пк\"] = df[\"Шифр_пк\"].replace(0, np.nan)"
   ]
  },
  {
   "cell_type": "code",
   "execution_count": 901,
   "metadata": {},
   "outputs": [],
   "source": [
    "df = df.drop([\"вкл\", \"окраска\", \"огнезащита\", \"ПределОС\", \"ПредСост_несущ\", \"ПредСост_целост\", \"ПредСост_тепло_изол\", \"ПредСост_тепло_поток\", \"ПредСост_газ\", \"статус_к\", \"ТеорРасходОЗ\"], axis=1)"
   ]
  },
  {
   "cell_type": "code",
   "execution_count": 902,
   "metadata": {},
   "outputs": [],
   "source": [
    "df = df.rename(columns={\"сч_констр\": \"id\",\n",
    "                        \"имя_к\": \"name\",\n",
    "                        \"Шифр_к\": \"type_id\",\n",
    "                        \"Шифр_пк\": \"subtype_id\",\n",
    "                        \"расценка\": \"valuation\",\n",
    "                        \"шифр_тип_альбома\": \"standard_album_code\",\n",
    "                        \"кол_тип_констр\": \"num_of_standard_constructions\",\n",
    "                        \"притупление\": \"has_edge_blunting\",\n",
    "                        \"динамика\": \"has_dynamic_load\",\n",
    "                        \"фланцы\": \"has_flanged_connections\",\n",
    "                        \"контроль_сварки\": \"welding_control_id\",\n",
    "                        \"кт_окраски\": \"paintwork_coeff\",\n",
    "                       })"
   ]
  },
  {
   "cell_type": "code",
   "execution_count": 903,
   "metadata": {},
   "outputs": [],
   "source": [
    "df = df.where(pd.notnull(df), None)"
   ]
  },
  {
   "cell_type": "code",
   "execution_count": 904,
   "metadata": {},
   "outputs": [],
   "source": [
    "df = df[df[\"type_id\"] < 88]"
   ]
  },
  {
   "cell_type": "code",
   "execution_count": 905,
   "metadata": {},
   "outputs": [],
   "source": [
    "df = df[df[\"type_id\"] > 0]"
   ]
  },
  {
   "cell_type": "code",
   "execution_count": 906,
   "metadata": {},
   "outputs": [],
   "source": [
    "df = df.drop_duplicates(subset=[\"specification_id\", \"name\", \"paintwork_coeff\"])"
   ]
  },
  {
   "cell_type": "code",
   "execution_count": 907,
   "metadata": {},
   "outputs": [],
   "source": [
    "df.loc[:, [\"id\"]].to_csv(\"construction_ids.csv\")"
   ]
  },
  {
   "cell_type": "code",
   "execution_count": 908,
   "metadata": {},
   "outputs": [],
   "source": [
    "cursor.execute(open(\"sql_server/46.sql\", \"r\").read())\n",
    "conn.commit()"
   ]
  },
  {
   "cell_type": "code",
   "execution_count": 909,
   "metadata": {},
   "outputs": [
    {
     "name": "stdout",
     "output_type": "stream",
     "text": [
      "execute_values() done\n"
     ]
    }
   ],
   "source": [
    "execute_values(df, \"constructions\")"
   ]
  },
  {
   "cell_type": "markdown",
   "metadata": {},
   "source": [
    "<h1>Справочник болтов, диаметры</h1>"
   ]
  },
  {
   "cell_type": "code",
   "execution_count": 911,
   "metadata": {},
   "outputs": [],
   "source": [
    "df = pd.read_sql_query('SELECT * FROM Pro_t.dbo.Спр_болтов', db_conn)"
   ]
  },
  {
   "cell_type": "code",
   "execution_count": 912,
   "metadata": {},
   "outputs": [],
   "source": [
    "df = df.rename(columns={\"код_д\": \"id\",\n",
    "                        \"диаметр\": \"diameter\",\n",
    "                        \"масса_г\": \"nut_weight\",\n",
    "                        \"сталь_ш\": \"washer_steel\",\n",
    "                        \"масса_ш\": \"washer_weight\",\n",
    "                        \"толщина_ш\": \"washer_thickness\",\n",
    "                        \"ТУ_б\": \"bolt_tech_spec\",\n",
    "                        \"кл_пр_б\": \"strength_class\",\n",
    "                        \"ТУ_г\": \"nut_tech_spec\",\n",
    "                        \"ТУ_ш\": \"washer_tech_spec\",\n",
    "                       })"
   ]
  },
  {
   "cell_type": "code",
   "execution_count": 913,
   "metadata": {},
   "outputs": [],
   "source": [
    "cursor.execute(open(\"sql_server/20.sql\", \"r\").read())\n",
    "conn.commit()"
   ]
  },
  {
   "cell_type": "code",
   "execution_count": 914,
   "metadata": {},
   "outputs": [
    {
     "name": "stdout",
     "output_type": "stream",
     "text": [
      "execute_values() done\n"
     ]
    }
   ],
   "source": [
    "execute_values(df, \"bolt_diameters\")"
   ]
  },
  {
   "cell_type": "markdown",
   "metadata": {},
   "source": [
    "<h1>Справочник болтов, длины</h1>"
   ]
  },
  {
   "cell_type": "code",
   "execution_count": 916,
   "metadata": {},
   "outputs": [],
   "source": [
    "df = pd.read_sql_query('SELECT * FROM Pro_t.dbo.Спр_болтов_дл', db_conn)"
   ]
  },
  {
   "cell_type": "code",
   "execution_count": 917,
   "metadata": {},
   "outputs": [],
   "source": [
    "df = df.rename(columns={\"Код_болта\": \"id\",\n",
    "                        \"код_д\": \"diameter_id\",\n",
    "                        \"длина_б\": \"length\",\n",
    "                        \"длина_нар\": \"screw_length\",\n",
    "                        \"масса_б\": \"weight\"\n",
    "                       })"
   ]
  },
  {
   "cell_type": "code",
   "execution_count": 918,
   "metadata": {},
   "outputs": [],
   "source": [
    "cursor.execute(open(\"sql_server/21.sql\", \"r\").read())\n",
    "conn.commit()"
   ]
  },
  {
   "cell_type": "code",
   "execution_count": 919,
   "metadata": {},
   "outputs": [
    {
     "name": "stdout",
     "output_type": "stream",
     "text": [
      "execute_values() done\n"
     ]
    }
   ],
   "source": [
    "execute_values(df, \"bolt_lengths\")"
   ]
  },
  {
   "cell_type": "markdown",
   "metadata": {},
   "source": [
    "<h1>Высокопрочные болты видов конструкций</h1>"
   ]
  },
  {
   "cell_type": "code",
   "execution_count": 921,
   "metadata": {},
   "outputs": [],
   "source": [
    "df = pd.read_sql_query('SELECT * FROM Pro_t.dbo.Тс_болты', db_conn)"
   ]
  },
  {
   "cell_type": "code",
   "execution_count": 922,
   "metadata": {},
   "outputs": [
    {
     "data": {
      "text/html": [
       "<div>\n",
       "<style scoped>\n",
       "    .dataframe tbody tr th:only-of-type {\n",
       "        vertical-align: middle;\n",
       "    }\n",
       "\n",
       "    .dataframe tbody tr th {\n",
       "        vertical-align: top;\n",
       "    }\n",
       "\n",
       "    .dataframe thead th {\n",
       "        text-align: right;\n",
       "    }\n",
       "</style>\n",
       "<table border=\"1\" class=\"dataframe\">\n",
       "  <thead>\n",
       "    <tr style=\"text-align: right;\">\n",
       "      <th></th>\n",
       "      <th>поз_болта</th>\n",
       "      <th>сч_констр</th>\n",
       "      <th>код_диаметра</th>\n",
       "      <th>пакет</th>\n",
       "      <th>кол</th>\n",
       "      <th>гаек</th>\n",
       "      <th>шайб</th>\n",
       "    </tr>\n",
       "  </thead>\n",
       "  <tbody>\n",
       "    <tr>\n",
       "      <th>0</th>\n",
       "      <td>13</td>\n",
       "      <td>2573.0</td>\n",
       "      <td>NaN</td>\n",
       "      <td>0.0</td>\n",
       "      <td>0.0</td>\n",
       "      <td>1</td>\n",
       "      <td>2</td>\n",
       "    </tr>\n",
       "    <tr>\n",
       "      <th>1</th>\n",
       "      <td>14</td>\n",
       "      <td>4140.0</td>\n",
       "      <td>2.0</td>\n",
       "      <td>60.0</td>\n",
       "      <td>8.0</td>\n",
       "      <td>1</td>\n",
       "      <td>2</td>\n",
       "    </tr>\n",
       "    <tr>\n",
       "      <th>2</th>\n",
       "      <td>15</td>\n",
       "      <td>NaN</td>\n",
       "      <td>NaN</td>\n",
       "      <td>0.0</td>\n",
       "      <td>0.0</td>\n",
       "      <td>1</td>\n",
       "      <td>2</td>\n",
       "    </tr>\n",
       "    <tr>\n",
       "      <th>3</th>\n",
       "      <td>16</td>\n",
       "      <td>716.0</td>\n",
       "      <td>2.0</td>\n",
       "      <td>0.0</td>\n",
       "      <td>0.0</td>\n",
       "      <td>1</td>\n",
       "      <td>2</td>\n",
       "    </tr>\n",
       "    <tr>\n",
       "      <th>4</th>\n",
       "      <td>17</td>\n",
       "      <td>5262.0</td>\n",
       "      <td>NaN</td>\n",
       "      <td>0.0</td>\n",
       "      <td>0.0</td>\n",
       "      <td>1</td>\n",
       "      <td>2</td>\n",
       "    </tr>\n",
       "    <tr>\n",
       "      <th>5</th>\n",
       "      <td>18</td>\n",
       "      <td>7585.0</td>\n",
       "      <td>1.0</td>\n",
       "      <td>70.0</td>\n",
       "      <td>265.0</td>\n",
       "      <td>1</td>\n",
       "      <td>2</td>\n",
       "    </tr>\n",
       "    <tr>\n",
       "      <th>6</th>\n",
       "      <td>19</td>\n",
       "      <td>7758.0</td>\n",
       "      <td>NaN</td>\n",
       "      <td>NaN</td>\n",
       "      <td>NaN</td>\n",
       "      <td>1</td>\n",
       "      <td>2</td>\n",
       "    </tr>\n",
       "    <tr>\n",
       "      <th>7</th>\n",
       "      <td>20</td>\n",
       "      <td>7758.0</td>\n",
       "      <td>0.0</td>\n",
       "      <td>NaN</td>\n",
       "      <td>0.0</td>\n",
       "      <td>1</td>\n",
       "      <td>2</td>\n",
       "    </tr>\n",
       "    <tr>\n",
       "      <th>8</th>\n",
       "      <td>22</td>\n",
       "      <td>7896.0</td>\n",
       "      <td>2.0</td>\n",
       "      <td>72.0</td>\n",
       "      <td>77.0</td>\n",
       "      <td>1</td>\n",
       "      <td>2</td>\n",
       "    </tr>\n",
       "    <tr>\n",
       "      <th>9</th>\n",
       "      <td>24</td>\n",
       "      <td>958.0</td>\n",
       "      <td>1.0</td>\n",
       "      <td>25.0</td>\n",
       "      <td>50.0</td>\n",
       "      <td>1</td>\n",
       "      <td>2</td>\n",
       "    </tr>\n",
       "    <tr>\n",
       "      <th>10</th>\n",
       "      <td>25</td>\n",
       "      <td>958.0</td>\n",
       "      <td>1.0</td>\n",
       "      <td>45.0</td>\n",
       "      <td>150.0</td>\n",
       "      <td>1</td>\n",
       "      <td>2</td>\n",
       "    </tr>\n",
       "    <tr>\n",
       "      <th>11</th>\n",
       "      <td>26</td>\n",
       "      <td>10496.0</td>\n",
       "      <td>NaN</td>\n",
       "      <td>NaN</td>\n",
       "      <td>NaN</td>\n",
       "      <td>1</td>\n",
       "      <td>2</td>\n",
       "    </tr>\n",
       "    <tr>\n",
       "      <th>12</th>\n",
       "      <td>27</td>\n",
       "      <td>10496.0</td>\n",
       "      <td>0.0</td>\n",
       "      <td>NaN</td>\n",
       "      <td>0.0</td>\n",
       "      <td>1</td>\n",
       "      <td>2</td>\n",
       "    </tr>\n",
       "    <tr>\n",
       "      <th>13</th>\n",
       "      <td>28</td>\n",
       "      <td>10687.0</td>\n",
       "      <td>NaN</td>\n",
       "      <td>NaN</td>\n",
       "      <td>NaN</td>\n",
       "      <td>1</td>\n",
       "      <td>2</td>\n",
       "    </tr>\n",
       "    <tr>\n",
       "      <th>14</th>\n",
       "      <td>29</td>\n",
       "      <td>10687.0</td>\n",
       "      <td>0.0</td>\n",
       "      <td>NaN</td>\n",
       "      <td>0.0</td>\n",
       "      <td>1</td>\n",
       "      <td>2</td>\n",
       "    </tr>\n",
       "    <tr>\n",
       "      <th>15</th>\n",
       "      <td>30</td>\n",
       "      <td>10652.0</td>\n",
       "      <td>NaN</td>\n",
       "      <td>0.0</td>\n",
       "      <td>0.0</td>\n",
       "      <td>1</td>\n",
       "      <td>2</td>\n",
       "    </tr>\n",
       "    <tr>\n",
       "      <th>16</th>\n",
       "      <td>31</td>\n",
       "      <td>11945.0</td>\n",
       "      <td>NaN</td>\n",
       "      <td>0.0</td>\n",
       "      <td>0.0</td>\n",
       "      <td>1</td>\n",
       "      <td>2</td>\n",
       "    </tr>\n",
       "    <tr>\n",
       "      <th>17</th>\n",
       "      <td>37</td>\n",
       "      <td>15905.0</td>\n",
       "      <td>3.0</td>\n",
       "      <td>130.0</td>\n",
       "      <td>48.0</td>\n",
       "      <td>1</td>\n",
       "      <td>2</td>\n",
       "    </tr>\n",
       "    <tr>\n",
       "      <th>18</th>\n",
       "      <td>38</td>\n",
       "      <td>15905.0</td>\n",
       "      <td>0.0</td>\n",
       "      <td>0.0</td>\n",
       "      <td>0.0</td>\n",
       "      <td>1</td>\n",
       "      <td>2</td>\n",
       "    </tr>\n",
       "    <tr>\n",
       "      <th>19</th>\n",
       "      <td>39</td>\n",
       "      <td>15909.0</td>\n",
       "      <td>3.0</td>\n",
       "      <td>130.0</td>\n",
       "      <td>48.0</td>\n",
       "      <td>1</td>\n",
       "      <td>2</td>\n",
       "    </tr>\n",
       "    <tr>\n",
       "      <th>20</th>\n",
       "      <td>40</td>\n",
       "      <td>15909.0</td>\n",
       "      <td>0.0</td>\n",
       "      <td>0.0</td>\n",
       "      <td>0.0</td>\n",
       "      <td>1</td>\n",
       "      <td>2</td>\n",
       "    </tr>\n",
       "    <tr>\n",
       "      <th>21</th>\n",
       "      <td>43</td>\n",
       "      <td>16130.0</td>\n",
       "      <td>3.0</td>\n",
       "      <td>130.0</td>\n",
       "      <td>48.0</td>\n",
       "      <td>1</td>\n",
       "      <td>2</td>\n",
       "    </tr>\n",
       "    <tr>\n",
       "      <th>22</th>\n",
       "      <td>44</td>\n",
       "      <td>16130.0</td>\n",
       "      <td>0.0</td>\n",
       "      <td>0.0</td>\n",
       "      <td>0.0</td>\n",
       "      <td>1</td>\n",
       "      <td>2</td>\n",
       "    </tr>\n",
       "    <tr>\n",
       "      <th>23</th>\n",
       "      <td>45</td>\n",
       "      <td>19586.0</td>\n",
       "      <td>NaN</td>\n",
       "      <td>0.0</td>\n",
       "      <td>0.0</td>\n",
       "      <td>1</td>\n",
       "      <td>2</td>\n",
       "    </tr>\n",
       "  </tbody>\n",
       "</table>\n",
       "</div>"
      ],
      "text/plain": [
       "    поз_болта  сч_констр  код_диаметра  пакет    кол  гаек  шайб\n",
       "0          13     2573.0           NaN    0.0    0.0     1     2\n",
       "1          14     4140.0           2.0   60.0    8.0     1     2\n",
       "2          15        NaN           NaN    0.0    0.0     1     2\n",
       "3          16      716.0           2.0    0.0    0.0     1     2\n",
       "4          17     5262.0           NaN    0.0    0.0     1     2\n",
       "5          18     7585.0           1.0   70.0  265.0     1     2\n",
       "6          19     7758.0           NaN    NaN    NaN     1     2\n",
       "7          20     7758.0           0.0    NaN    0.0     1     2\n",
       "8          22     7896.0           2.0   72.0   77.0     1     2\n",
       "9          24      958.0           1.0   25.0   50.0     1     2\n",
       "10         25      958.0           1.0   45.0  150.0     1     2\n",
       "11         26    10496.0           NaN    NaN    NaN     1     2\n",
       "12         27    10496.0           0.0    NaN    0.0     1     2\n",
       "13         28    10687.0           NaN    NaN    NaN     1     2\n",
       "14         29    10687.0           0.0    NaN    0.0     1     2\n",
       "15         30    10652.0           NaN    0.0    0.0     1     2\n",
       "16         31    11945.0           NaN    0.0    0.0     1     2\n",
       "17         37    15905.0           3.0  130.0   48.0     1     2\n",
       "18         38    15905.0           0.0    0.0    0.0     1     2\n",
       "19         39    15909.0           3.0  130.0   48.0     1     2\n",
       "20         40    15909.0           0.0    0.0    0.0     1     2\n",
       "21         43    16130.0           3.0  130.0   48.0     1     2\n",
       "22         44    16130.0           0.0    0.0    0.0     1     2\n",
       "23         45    19586.0           NaN    0.0    0.0     1     2"
      ]
     },
     "execution_count": 922,
     "metadata": {},
     "output_type": "execute_result"
    }
   ],
   "source": [
    "df"
   ]
  },
  {
   "cell_type": "code",
   "execution_count": 923,
   "metadata": {},
   "outputs": [],
   "source": [
    "c_ids = pd.read_csv(\"construction_ids.csv\")\n",
    "c_ids = c_ids.drop([\"Unnamed: 0\"], axis=1)\n",
    "c_ids = c_ids.values.flatten().tolist()"
   ]
  },
  {
   "cell_type": "code",
   "execution_count": 924,
   "metadata": {},
   "outputs": [],
   "source": [
    "df = df[df[\"сч_констр\"].isin(c_ids)]"
   ]
  },
  {
   "cell_type": "code",
   "execution_count": 925,
   "metadata": {},
   "outputs": [
    {
     "name": "stderr",
     "output_type": "stream",
     "text": [
      "C:\\Users\\Public\\Anaconda\\lib\\site-packages\\pandas\\core\\indexing.py:1745: SettingWithCopyWarning: \n",
      "A value is trying to be set on a copy of a slice from a DataFrame.\n",
      "Try using .loc[row_indexer,col_indexer] = value instead\n",
      "\n",
      "See the caveats in the documentation: https://pandas.pydata.org/pandas-docs/stable/user_guide/indexing.html#returning-a-view-versus-a-copy\n",
      "  isetter(ilocs[0], value)\n"
     ]
    }
   ],
   "source": [
    "df.loc[:, \"код_диаметра\"] = df.loc[:, \"код_диаметра\"].replace(0, np.nan)"
   ]
  },
  {
   "cell_type": "code",
   "execution_count": 926,
   "metadata": {},
   "outputs": [],
   "source": [
    "df = df.dropna()"
   ]
  },
  {
   "cell_type": "code",
   "execution_count": 927,
   "metadata": {},
   "outputs": [],
   "source": [
    "df = df.rename(columns={\"поз_болта\": \"id\",\n",
    "                        \"сч_констр\": \"construction_id\",\n",
    "                        \"код_диаметра\": \"diameter_id\",\n",
    "                        \"пакет\": \"packet\",\n",
    "                        \"кол\": \"num\",\n",
    "                        \"гаек\": \"nut_num\",\n",
    "                        \"шайб\": \"washer_num\",\n",
    "                       })"
   ]
  },
  {
   "cell_type": "code",
   "execution_count": 928,
   "metadata": {},
   "outputs": [],
   "source": [
    "cursor.execute(open(\"sql_server/45.sql\", \"r\").read())\n",
    "conn.commit()"
   ]
  },
  {
   "cell_type": "code",
   "execution_count": 929,
   "metadata": {},
   "outputs": [
    {
     "name": "stdout",
     "output_type": "stream",
     "text": [
      "execute_values() done\n"
     ]
    }
   ],
   "source": [
    "execute_values(df, \"construction_bolts\")"
   ]
  },
  {
   "cell_type": "markdown",
   "metadata": {},
   "source": [
    "<h1>Виды профилей</h1>"
   ]
  },
  {
   "cell_type": "code",
   "execution_count": 931,
   "metadata": {},
   "outputs": [],
   "source": [
    "df = pd.read_sql_query('SELECT * FROM Pro_t.dbo.Спр_видов_п', db_conn)"
   ]
  },
  {
   "cell_type": "code",
   "execution_count": 932,
   "metadata": {},
   "outputs": [],
   "source": [
    "df[\"Имя_в\"] = df[\"Имя_в\"].str.strip()\n",
    "df[\"Прим\"] = df[\"Прим\"].str.strip()"
   ]
  },
  {
   "cell_type": "code",
   "execution_count": 933,
   "metadata": {},
   "outputs": [],
   "source": [
    "df = df.drop_duplicates(subset=[\"Имя_в\"])"
   ]
  },
  {
   "cell_type": "code",
   "execution_count": 934,
   "metadata": {},
   "outputs": [],
   "source": [
    "df = df.rename(columns={\"Шифр_в\": \"id\",\n",
    "                        \"Имя_в\": \"name\",\n",
    "                        \"Прим\": \"note\"\n",
    "                       })"
   ]
  },
  {
   "cell_type": "code",
   "execution_count": 935,
   "metadata": {},
   "outputs": [],
   "source": [
    "df = df.sort_values(by=[\"id\"])"
   ]
  },
  {
   "cell_type": "code",
   "execution_count": 936,
   "metadata": {},
   "outputs": [],
   "source": [
    "df = df.reset_index(drop=True)"
   ]
  },
  {
   "cell_type": "code",
   "execution_count": 937,
   "metadata": {},
   "outputs": [],
   "source": [
    "df.loc[:, [\"id\"]].to_csv(\"prof.csv\")"
   ]
  },
  {
   "cell_type": "code",
   "execution_count": 938,
   "metadata": {},
   "outputs": [],
   "source": [
    "cursor.execute(open(\"sql_server/23.sql\", \"r\").read())\n",
    "conn.commit()"
   ]
  },
  {
   "cell_type": "code",
   "execution_count": 939,
   "metadata": {},
   "outputs": [
    {
     "name": "stdout",
     "output_type": "stream",
     "text": [
      "execute_values() done\n"
     ]
    }
   ],
   "source": [
    "execute_values(df, \"profile_classes\")"
   ]
  },
  {
   "cell_type": "markdown",
   "metadata": {},
   "source": [
    "<h1>Типы профилей</h1>"
   ]
  },
  {
   "cell_type": "code",
   "execution_count": 941,
   "metadata": {},
   "outputs": [],
   "source": [
    "df = pd.read_sql_query('SELECT * FROM Pro_t.dbo.Спр_типов_проф', db_conn)"
   ]
  },
  {
   "cell_type": "code",
   "execution_count": 942,
   "metadata": {},
   "outputs": [],
   "source": [
    "df[\"Имя_т\"] = df[\"Имя_т\"].str.strip()"
   ]
  },
  {
   "cell_type": "code",
   "execution_count": 943,
   "metadata": {},
   "outputs": [],
   "source": [
    "df = df.rename(columns={\"Тип\": \"id\",\n",
    "                        \"Имя_т\": \"name\"\n",
    "                       })"
   ]
  },
  {
   "cell_type": "code",
   "execution_count": 944,
   "metadata": {},
   "outputs": [],
   "source": [
    "cursor.execute(open(\"sql_server/42.sql\", \"r\").read())\n",
    "conn.commit()"
   ]
  },
  {
   "cell_type": "code",
   "execution_count": 945,
   "metadata": {},
   "outputs": [
    {
     "name": "stdout",
     "output_type": "stream",
     "text": [
      "execute_values() done\n"
     ]
    }
   ],
   "source": [
    "execute_values(df, \"profile_types\")"
   ]
  },
  {
   "cell_type": "markdown",
   "metadata": {},
   "source": [
    "<h1>Профили</h1>"
   ]
  },
  {
   "cell_type": "code",
   "execution_count": 947,
   "metadata": {},
   "outputs": [],
   "source": [
    "df = pd.read_sql_query('SELECT * FROM Pro_t.dbo.Спр_проф_полн', db_conn)"
   ]
  },
  {
   "cell_type": "code",
   "execution_count": 948,
   "metadata": {},
   "outputs": [],
   "source": [
    "df = df.replace(\"\", np.nan)"
   ]
  },
  {
   "cell_type": "code",
   "execution_count": 949,
   "metadata": {},
   "outputs": [
    {
     "data": {
      "text/plain": [
       "Профиль      0\n",
       "Вид_п        0\n",
       "Имя_п        5\n",
       "Имя_п0       5\n",
       "Символ      37\n",
       "Вес          2\n",
       "Поверхн      2\n",
       "Тип_п        2\n",
       "Разрешен     0\n",
       "дл_имя       5\n",
       "dtype: int64"
      ]
     },
     "execution_count": 949,
     "metadata": {},
     "output_type": "execute_result"
    }
   ],
   "source": [
    "df.isna().sum()"
   ]
  },
  {
   "cell_type": "code",
   "execution_count": 950,
   "metadata": {},
   "outputs": [],
   "source": [
    "df = df[df[\"Имя_п\"].isna() == False]"
   ]
  },
  {
   "cell_type": "code",
   "execution_count": 951,
   "metadata": {},
   "outputs": [],
   "source": [
    "df = df[df[\"Вес\"].isna() == False]"
   ]
  },
  {
   "cell_type": "code",
   "execution_count": 952,
   "metadata": {},
   "outputs": [],
   "source": [
    "df[\"Имя_п\"] = df[\"Имя_п\"].str.strip()\n",
    "df[\"Имя_п0\"] = df[\"Имя_п0\"].str.strip()"
   ]
  },
  {
   "cell_type": "code",
   "execution_count": 953,
   "metadata": {},
   "outputs": [],
   "source": [
    "df = df.drop([\"Имя_п0\", \"дл_имя\"], axis=1)"
   ]
  },
  {
   "cell_type": "code",
   "execution_count": 954,
   "metadata": {},
   "outputs": [],
   "source": [
    "df = df[df[\"Разрешен\"]]\n",
    "df = df.drop([\"Разрешен\"], axis=1)"
   ]
  },
  {
   "cell_type": "code",
   "execution_count": 955,
   "metadata": {},
   "outputs": [],
   "source": [
    "df = df[(df[\"Имя_п\"] != \"200*160*7\") | (df[\"Символ\"].isna() == False)]"
   ]
  },
  {
   "cell_type": "code",
   "execution_count": 956,
   "metadata": {},
   "outputs": [],
   "source": [
    "df = df.drop_duplicates(subset=[\"Вид_п\", \"Имя_п\", \"Символ\"])"
   ]
  },
  {
   "cell_type": "code",
   "execution_count": 957,
   "metadata": {},
   "outputs": [],
   "source": [
    "df.loc[df[\"Вид_п\"] == 16, \"Символ\"] = \"-\"\n",
    "df.loc[df[\"Вид_п\"] == 17, \"Символ\"] = \"-\""
   ]
  },
  {
   "cell_type": "code",
   "execution_count": 958,
   "metadata": {},
   "outputs": [],
   "source": [
    "df_2 = pd.read_sql_query('SELECT * FROM Pro_t.dbo.Тс_элементы', db_conn)"
   ]
  },
  {
   "cell_type": "code",
   "execution_count": 959,
   "metadata": {},
   "outputs": [],
   "source": [
    "df_2[\"Имя_п\"] = df_2[\"Имя_п\"].str.strip()\n",
    "df_2[\"Символ\"] = df_2[\"Символ\"].str.strip()"
   ]
  },
  {
   "cell_type": "code",
   "execution_count": 960,
   "metadata": {},
   "outputs": [],
   "source": [
    "c_ids = pd.read_csv(\"construction_ids.csv\")\n",
    "c_ids = c_ids.drop([\"Unnamed: 0\"], axis=1)\n",
    "c_ids = c_ids.values.flatten().tolist()"
   ]
  },
  {
   "cell_type": "code",
   "execution_count": 961,
   "metadata": {},
   "outputs": [],
   "source": [
    "df_2 = df_2[df_2[\"Сч_констр\"].isin(c_ids)]"
   ]
  },
  {
   "cell_type": "code",
   "execution_count": 962,
   "metadata": {},
   "outputs": [],
   "source": [
    "p_ids = pd.read_csv(\"prof.csv\")\n",
    "p_ids = p_ids.drop([\"Unnamed: 0\"], axis=1)\n",
    "p_ids = p_ids.values.flatten().tolist()"
   ]
  },
  {
   "cell_type": "code",
   "execution_count": 963,
   "metadata": {},
   "outputs": [],
   "source": [
    "df_2 = df_2[df_2[\"Вид_п\"].isin(p_ids)]"
   ]
  },
  {
   "cell_type": "code",
   "execution_count": 964,
   "metadata": {},
   "outputs": [],
   "source": [
    "df_2 = df_2[df_2[\"Символ\"].isna() == False]"
   ]
  },
  {
   "cell_type": "code",
   "execution_count": 965,
   "metadata": {},
   "outputs": [],
   "source": [
    "df_2 = df_2.drop([\"МаркаОЗ\", \"АрифмВыр\"], axis=1)"
   ]
  },
  {
   "cell_type": "code",
   "execution_count": 966,
   "metadata": {},
   "outputs": [],
   "source": [
    "df_2 = df_2.drop([\"ПерекрПерим\", \"КолВСеч\", \"Поз\", \"ГруппаПТ\"], axis=1)"
   ]
  },
  {
   "cell_type": "code",
   "execution_count": 967,
   "metadata": {},
   "outputs": [],
   "source": [
    "for index, row in df_2.iterrows():\n",
    "    try:\n",
    "        df_2.loc[index, \"profile_id\"] = df.loc[(df[\"Вид_п\"] == row[\"Вид_п\"]) & (df[\"Имя_п\"] == row[\"Имя_п\"]) & (df[\"Символ\"] == row[\"Символ\"]), \"Профиль\"].values[0]\n",
    "    except Exception as e:\n",
    "        pass"
   ]
  },
  {
   "cell_type": "code",
   "execution_count": 968,
   "metadata": {},
   "outputs": [],
   "source": [
    "df_null = df_2.loc[df_2['profile_id'].isna()]"
   ]
  },
  {
   "cell_type": "code",
   "execution_count": 969,
   "metadata": {},
   "outputs": [],
   "source": [
    "df_null = df_null.drop([\"Сч_констр\", \"Сч_поз\", \"Сталь\", \"Длина\", \"статус\", \"profile_id\"], axis=1)"
   ]
  },
  {
   "cell_type": "code",
   "execution_count": 970,
   "metadata": {},
   "outputs": [],
   "source": [
    "df_null = df_null.rename(columns={\"Вид_п\": \"class_id\",\n",
    "                        \"Имя_п\": \"name\",\n",
    "                        \"Символ\": \"symbol\",\n",
    "                        \"Вес\": \"weight\",\n",
    "                        \"Поверхн\": \"area\",\n",
    "                        \"Тип_п\": \"type_id\"\n",
    "                       })"
   ]
  },
  {
   "cell_type": "code",
   "execution_count": 971,
   "metadata": {},
   "outputs": [],
   "source": [
    "df_null.insert(0, 'id', range(1962, len(df_null) + 1962))"
   ]
  },
  {
   "cell_type": "code",
   "execution_count": 972,
   "metadata": {},
   "outputs": [],
   "source": [
    "df = df.where(pd.notnull(df), None)"
   ]
  },
  {
   "cell_type": "code",
   "execution_count": 973,
   "metadata": {},
   "outputs": [],
   "source": [
    "df = df.rename(columns={\"Профиль\": \"id\",\n",
    "                        \"Вид_п\": \"class_id\",\n",
    "                        \"Имя_п\": \"name\",\n",
    "                        \"Символ\": \"symbol\",\n",
    "                        \"Вес\": \"weight\",\n",
    "                        \"Поверхн\": \"area\",\n",
    "                        \"Тип_п\": \"type_id\"\n",
    "                       })"
   ]
  },
  {
   "cell_type": "code",
   "execution_count": 974,
   "metadata": {},
   "outputs": [],
   "source": [
    "df = df.append(df_null, ignore_index = True)"
   ]
  },
  {
   "cell_type": "code",
   "execution_count": 975,
   "metadata": {},
   "outputs": [],
   "source": [
    "df[df.duplicated(subset=[\"class_id\", \"name\", \"symbol\"], keep=\"first\")]\n",
    "df = df.drop_duplicates(subset=[\"class_id\", \"name\", \"symbol\"])"
   ]
  },
  {
   "cell_type": "code",
   "execution_count": 976,
   "metadata": {},
   "outputs": [],
   "source": [
    "df = df[df[\"id\"] != 3194]"
   ]
  },
  {
   "cell_type": "code",
   "execution_count": 977,
   "metadata": {},
   "outputs": [],
   "source": [
    "df.loc[df[\"id\"] == 2755, \"weight\"] = 4.396\n",
    "df.loc[df[\"id\"] == 2755, \"area\"] = 0.00288"
   ]
  },
  {
   "cell_type": "code",
   "execution_count": 978,
   "metadata": {},
   "outputs": [],
   "source": [
    "df.loc[:, [\"id\", \"class_id\", \"name\", \"symbol\"]].to_csv(\"profiles.csv\")"
   ]
  },
  {
   "cell_type": "code",
   "execution_count": 979,
   "metadata": {},
   "outputs": [],
   "source": [
    "cursor.execute(open(\"sql_server/33.sql\", \"r\").read())\n",
    "conn.commit()"
   ]
  },
  {
   "cell_type": "code",
   "execution_count": 980,
   "metadata": {},
   "outputs": [
    {
     "name": "stdout",
     "output_type": "stream",
     "text": [
      "execute_values() done\n"
     ]
    }
   ],
   "source": [
    "execute_values(df, \"profiles\")"
   ]
  },
  {
   "cell_type": "markdown",
   "metadata": {},
   "source": [
    "<h1>Марки стали</h1>"
   ]
  },
  {
   "cell_type": "code",
   "execution_count": 982,
   "metadata": {},
   "outputs": [],
   "source": [
    "df = pd.read_sql_query('SELECT * FROM Pro_t.dbo.Спр_стали', db_conn)"
   ]
  },
  {
   "cell_type": "code",
   "execution_count": 983,
   "metadata": {},
   "outputs": [],
   "source": [
    "df = df.replace(\"\", np.nan)"
   ]
  },
  {
   "cell_type": "code",
   "execution_count": 984,
   "metadata": {},
   "outputs": [],
   "source": [
    "df = df.drop([71])"
   ]
  },
  {
   "cell_type": "code",
   "execution_count": 985,
   "metadata": {},
   "outputs": [],
   "source": [
    "df[\"Имя_с\"] = df[\"Имя_с\"].str.strip()\n",
    "df[\"Стандарт\"] = df[\"Стандарт\"].str.strip()"
   ]
  },
  {
   "cell_type": "code",
   "execution_count": 986,
   "metadata": {},
   "outputs": [],
   "source": [
    "df = df.rename(columns={\"Шифр_с\": \"id\",\n",
    "                        \"Имя_с\": \"name\",\n",
    "                        \"Стандарт\": \"standard\",\n",
    "                        \"Прочность\": \"strength\"\n",
    "                       })"
   ]
  },
  {
   "cell_type": "code",
   "execution_count": 987,
   "metadata": {},
   "outputs": [],
   "source": [
    "df = df.where(pd.notnull(df), None)"
   ]
  },
  {
   "cell_type": "code",
   "execution_count": 988,
   "metadata": {},
   "outputs": [],
   "source": [
    "cursor.execute(open(\"sql_server/41.sql\", \"r\").read())\n",
    "conn.commit()"
   ]
  },
  {
   "cell_type": "code",
   "execution_count": 989,
   "metadata": {},
   "outputs": [
    {
     "name": "stdout",
     "output_type": "stream",
     "text": [
      "execute_values() done\n"
     ]
    }
   ],
   "source": [
    "execute_values(df, \"steel\")"
   ]
  },
  {
   "cell_type": "markdown",
   "metadata": {},
   "source": [
    "<h1>Перечень элементов</h1>"
   ]
  },
  {
   "cell_type": "code",
   "execution_count": 991,
   "metadata": {},
   "outputs": [],
   "source": [
    "df = pd.read_sql_query('SELECT * FROM Pro_t.dbo.Тс_элементы', db_conn)"
   ]
  },
  {
   "cell_type": "code",
   "execution_count": 992,
   "metadata": {},
   "outputs": [],
   "source": [
    "df[\"Имя_п\"] = df[\"Имя_п\"].str.strip()\n",
    "df[\"Символ\"] = df[\"Символ\"].str.strip()"
   ]
  },
  {
   "cell_type": "code",
   "execution_count": 993,
   "metadata": {},
   "outputs": [],
   "source": [
    "c_ids = pd.read_csv(\"construction_ids.csv\")\n",
    "c_ids = c_ids.drop([\"Unnamed: 0\"], axis=1)\n",
    "c_ids = c_ids.values.flatten().tolist()"
   ]
  },
  {
   "cell_type": "code",
   "execution_count": 994,
   "metadata": {},
   "outputs": [],
   "source": [
    "df = df[df[\"Сч_констр\"].isin(c_ids)]"
   ]
  },
  {
   "cell_type": "code",
   "execution_count": 995,
   "metadata": {},
   "outputs": [],
   "source": [
    "p_ids = pd.read_csv(\"prof.csv\")\n",
    "p_ids = p_ids.drop([\"Unnamed: 0\"], axis=1)\n",
    "p_ids = p_ids.values.flatten().tolist()"
   ]
  },
  {
   "cell_type": "code",
   "execution_count": 996,
   "metadata": {},
   "outputs": [],
   "source": [
    "df = df[df[\"Вид_п\"].isin(p_ids)]"
   ]
  },
  {
   "cell_type": "code",
   "execution_count": 997,
   "metadata": {},
   "outputs": [],
   "source": [
    "df.loc[df[\"Сталь\"] == 72, \"Сталь\"] = 36"
   ]
  },
  {
   "cell_type": "code",
   "execution_count": 998,
   "metadata": {},
   "outputs": [],
   "source": [
    "df = df[df[\"Символ\"].isna() == False]"
   ]
  },
  {
   "cell_type": "code",
   "execution_count": 999,
   "metadata": {},
   "outputs": [],
   "source": [
    "df = df.drop([\"МаркаОЗ\", \"АрифмВыр\"], axis=1)"
   ]
  },
  {
   "cell_type": "code",
   "execution_count": 1000,
   "metadata": {},
   "outputs": [],
   "source": [
    "df = df.drop([\"ПерекрПерим\", \"КолВСеч\", \"Поз\", \"ГруппаПТ\"], axis=1)"
   ]
  },
  {
   "cell_type": "code",
   "execution_count": 1001,
   "metadata": {},
   "outputs": [],
   "source": [
    "profiles = pd.read_csv(\"profiles.csv\")\n",
    "profiles = profiles.drop([\"Unnamed: 0\"], axis=1)"
   ]
  },
  {
   "cell_type": "code",
   "execution_count": 1002,
   "metadata": {},
   "outputs": [],
   "source": [
    "df.loc[df[\"Сч_поз\"] == 179045, \"Имя_п\"] = \"140*4\"\n",
    "df.loc[df[\"Сч_поз\"] == 179034, \"Имя_п\"] = \"140*4\""
   ]
  },
  {
   "cell_type": "code",
   "execution_count": 1003,
   "metadata": {},
   "outputs": [],
   "source": [
    "for index, row in df.iterrows():\n",
    "    try:\n",
    "        df.loc[index, \"profile_id\"] = profiles.loc[(profiles[\"class_id\"] == row[\"Вид_п\"]) & (profiles[\"name\"] == row[\"Имя_п\"]) & (profiles[\"symbol\"] == row[\"Символ\"]), \"id\"].values[0]\n",
    "    except:\n",
    "        pass"
   ]
  },
  {
   "cell_type": "code",
   "execution_count": 1004,
   "metadata": {},
   "outputs": [],
   "source": [
    "df = df.drop([\"Имя_п\", \"Символ\", \"Вес\", \"Поверхн\", \"Тип_п\", \"статус\", \"Вид_п\"], axis=1)"
   ]
  },
  {
   "cell_type": "code",
   "execution_count": 1005,
   "metadata": {},
   "outputs": [],
   "source": [
    "df = df.rename(columns={\"Сч_констр\": \"construction_id\",\n",
    "                        \"Сч_поз\": \"id\",\n",
    "                        \"Сталь\": \"steel_id\",\n",
    "                        \"Длина\": \"length\"\n",
    "                       })"
   ]
  },
  {
   "cell_type": "code",
   "execution_count": 1006,
   "metadata": {},
   "outputs": [],
   "source": [
    "cursor.execute(open(\"sql_server/48.sql\", \"r\").read())\n",
    "conn.commit()"
   ]
  },
  {
   "cell_type": "code",
   "execution_count": 1007,
   "metadata": {},
   "outputs": [
    {
     "name": "stdout",
     "output_type": "stream",
     "text": [
      "execute_values() done\n"
     ]
    }
   ],
   "source": [
    "execute_values(df, \"construction_elements\")"
   ]
  },
  {
   "cell_type": "markdown",
   "metadata": {},
   "source": [
    "<h1>Разделы общих указаний</h1>"
   ]
  },
  {
   "cell_type": "code",
   "execution_count": 1009,
   "metadata": {},
   "outputs": [],
   "source": [
    "df = pd.DataFrame({'id': [1, 2, 3, 4, 5, 6, 7, 8, 9, 10, 11, 12, 13, 14, 15, 16, 17],\n",
    "                   'name': [\"Разработано на основании\",\n",
    "                            \"Разработано в соответствии\",\n",
    "                            \"Перечень технических регламентов\",\n",
    "                            \"Высотная отметка\",\n",
    "                            \"Климатические условия\",\n",
    "                            \"Конструктивные решения\",\n",
    "                            \"Характеристики конструкций\",\n",
    "                            \"Материал конструкций\",\n",
    "                            \"Указания по разработке КМД и ППР\",\n",
    "                            \"Указания по изготовлению и монтажу\",\n",
    "                            \"Крепление элементов\",\n",
    "                            \"Соединение элементов\",\n",
    "                            \"Антикоррозионная защита\",\n",
    "                            \"Огнезащита конструкций\",\n",
    "                            \"Перечень скрытых видов работ\",\n",
    "                            \"Перечень ответственных конструкций\",\n",
    "                            \"Коэффициент трудозатрат\"],\n",
    "                   'order_num': [1, 2, 3, 4, 5, 6, 7, 8, 9, 10, 11, 12, 13, 14, 15, 16, 17]})"
   ]
  },
  {
   "cell_type": "code",
   "execution_count": 1010,
   "metadata": {},
   "outputs": [],
   "source": [
    "cursor.execute(open(\"sql_server/37_2.sql\", \"r\").read())\n",
    "conn.commit()"
   ]
  },
  {
   "cell_type": "code",
   "execution_count": 1011,
   "metadata": {},
   "outputs": [
    {
     "name": "stdout",
     "output_type": "stream",
     "text": [
      "execute_values() done\n"
     ]
    }
   ],
   "source": [
    "execute_values(df, \"general_data_sections\")"
   ]
  },
  {
   "cell_type": "markdown",
   "metadata": {},
   "source": [
    "<h1>Пункты общих указаний марки</h1>"
   ]
  },
  {
   "cell_type": "code",
   "execution_count": 1013,
   "metadata": {},
   "outputs": [],
   "source": [
    "df = pd.DataFrame({\n",
    "#     'id': [1, 2, 3, 4, 5, 6, 7, 8, 9, 10, 11, 12, 13, 14, 15, 16, 17, 18, 19, 20, 21, 22, 23, 24, 25, 26, 27, 28, 29, 30, 31, 32, 33, 34, 35, 36, 37, 38, 39, 40, 41, 42, 43, 44, 45, 46, 47, 48, 49, 50, 51, 52, 53, 54, 55, 56, 57, 58, 59, 60, 61, 62, 63, 64, 65, 66, 67, 68, 69, 70, 71, 72, 73],\n",
    "                   'mark_id': [4320, 4320, 4320, 4320, 4320, 4320, 4320, 4320, 4320, 4320, 4320, 4320, 4320, 4320, 4320, 4320, 4320, 4320, 4320, 4320, 4320, 4320, 4320, 4320, 4320, 4320, 4320, 4320, 4320, 4320, 4320, 4320, 4320, 4320, 4320, 4320, 4320, 4320, 4320, 4320, 4320, 4320, 4320, 4320, 4320, 4320, 4320, 4320, 4320, 4320, 4320, 4320, 4320, 4320, 4320, 4320, 4320, 4320, 4320, 4320, 4320, 4320, 4320, 4320, 4320, 4320, 4320, 4320, 4320, 4320, 4320, 4320, 4320],\n",
    "                   'section_id': [1, 1, 1, 1, 2, 3, 3, 3, 3, 3, 3, 3, 3, 3, 3, 3, 4, 5, 5, 5, 5, 5, 5, 5, 6, 6, 6, 6, 6, 6, 6, 6, 6, 6, 7, 7, 7, 7, 8, 8, 9, 9, 10, 10, 10, 10, 11, 11, 12, 12, 12, 12, 12, 12, 12, 12, 12, 12, 12, 12, 13, 13, 13, 13, 13, 13, 13, 13, 13, 15, 15, 15, 15],\n",
    "                   'text': [\"Рабочая документация разработана на основании:\",\n",
    "                            \"- поручения от 28.02.2020 № АГЛ-35/0362\",\n",
    "                            \"- письма от 05.03.2020 № УПиН-35/0431\",\n",
    "                            \"- рекомендаций, выполненного специалистами \\\"АО МАГНИТОГОРСКИЙ ГИПРОМЕЗ\\\"\",\n",
    "                            \"Рабочая документация разработана в соответствии с техническими условиями, требованиями действующих технических регламентов, стандартов, сводов правил и других документов, содержащих установленные требования.\",\n",
    "                            \"Перечень технических регламентов и нормативных документов, в соответствии с требованиями которых разработана рабочая документация\",\n",
    "                            \"- Федеральный закон от 30.12.2009 № 384-ФЗ \\\"Технический регламент о безопасности зданий и сооружений\\\"\",\n",
    "                            \"- Федеральный закон от 22.07.2008 № 123-ФЗ \\\"Технический регламент о требованиях пожарной безопасности\\\"\",\n",
    "                            \"- СП 16.13330.2017 \\\"Стальные конструкции. Актуализированная редакция СНиП II-23-81*\\\"\",\n",
    "                            \"- СП 20.13330.2016 \\\"Нагрузки и воздействия. Актуализированная редакция СНиП 2.01.07-85*\\\"\",\n",
    "                            \"- СП 28.13330.2017 \\\"Защита строительных конструкций от коррозии. Актуализированная редакция СНиП 2.03.11-85\\\"\",\n",
    "                            \"- СП 53-102-2004 \\\"Общие правила проектирования стальных конструкций\\\"\",\n",
    "                            \"- СП 70.13330.2012 \\\"Несущие и ограждающие конструкции. Актуализированная редакция СНиП 3.03.01-87\\\"\",\n",
    "                            \"- ГОСТ 23118-2012 \\\"Конструкции стальные строительные. Общие технические условия\\\"\",\n",
    "                            \"- ГОСТ 27751-2014 \\\"Надежность строительных конструкций и оснований. Основные положения\\\"\",\n",
    "                            \"- ГОСТ 9.402-2004 \\\"Единая система защиты от коррозии и старения (ЕСЗКС). Покрытия лакокрасочные. Подготовка металлических поверхностей к окрашиванию\\\"\",\n",
    "                            \"Высотные отметки абсолютные.\",\n",
    "                            \"Климатические условия\",\n",
    "                            \"- климатический район – IB\",\n",
    "                            \"- расчетная температура наружного воздуха наиболее холодных суток обеспеченностью 0,98 – минус 43 °C\",\n",
    "                            \"- нормативное значение веса снегового покрова на 1 м^2 горизонтальной поверхности земли для г. Магнитогорска (согласно СП 20.13330-2016, приложение K, табл. K1) – 1,3 кПа (130 кг/м^2)\",\n",
    "                            \"- нормативное значение ветрового давления для II района (согласно СП 20.13330-2016, п. 11.14, табл. 11.1) – 0,30 кПа (30 кг/м^2)\",\n",
    "                            \"- зона влажности – сухая\",\n",
    "                            \"- расчетная сейсмическая активность – 5 баллов\",\n",
    "                            \"Конструктивные решения\",\n",
    "                            \"# Чертежи марки \\\"КМ\\\" являются исходным материалом для разработки деталировочных чертежей марки \\\"КМД\\\"\",\n",
    "                            \"# В данной рабочей документации разработано восстановление пролетных строений (усиление ферм пролетных строений, металлоконструкций по верхним и нижним поясам ферм) и восстановление антикоррозионного покрытия существующих элементов пролетных строений галереи конвейера № 706-1 УУК и КДИ аглоцеха ГОП ПАО \\\"ММК\\\"\",\n",
    "                            \"# Все работы должны выполняться специализированной организацией, имеющей свидетельство СРО на данный вид деятельности и имеющие допуск по электробезопасности\",\n",
    "                            \"# Работы производить по специально разработанному и согласованному в установленном порядке со всеми инспектирующими организациями и эксплуатацией цеха проекту производства работ (ППР) с соблюдением требований действующих нормативных документов и обязательным учетом фактического состояния существующих конструкций\",\n",
    "                            \"# При выполнении работ принять меры по обеспечению целостности и сохранности существующих сооружений и коммуникаций, находящихся в зоне производства работ\",\n",
    "                            \"# При производстве сварочных работ предусмотреть комплекс организационно-технических мероприятий по обеспечению пожарной безопасности\",\n",
    "                            \"# На всех этапах ведения демонтажных и монтажных работ обеспечить устойчивость и неизменяемость положения существующих конструкций\",\n",
    "                            \"# Перед началом работ необходимо выполнить очистку конструкций в зоне ремонта от мусора, грязи, технологической пыли\",\n",
    "                            \"# Исполнитель несет ответственность за соответствие выполненных работ чертежам. Всякое отступление от чертежей при производстве работ должно быть согласовано с организацией-разработчиком данной рабочей документации\",\n",
    "                            \"Характеристики конструкций\",\n",
    "                            \"- коэффициент надежности по ответственности – {}\",\n",
    "                            \"- степень агрессивного воздействия среды – {}\",\n",
    "                            \"- расчетная температура эксплуатации – {}\",\n",
    "                            \"Материал конструкций\",\n",
    "                            \"Марки сталей элементов конструкций приняты в зависимости от группы конструкций с учетом расчетной температуры и приведены в таблицах \\\"Ведомость элементов\\\", на схемах расположения элементов конструкций, на чертежах элементов и узлов конструкций и в спецификации металлопроката\",\n",
    "                            \"Указания по разработке КМД и ППР\",\n",
    "                            \"Отступления от рабочих чертежей КМ не допускаются. В случае необходимости эти отступления должны быть согласованы с организацией-разработчиком рабочих чертежей марки \\\"КМ\\\"\",\n",
    "                            \"Указания по изготовлению и монтажу металлоконструкций\",\n",
    "                            \"# Изготовление металлоконструкций производить в соответствии с требованиями ГОСТ 23118-2012, СП 53-101-98 \\\"Изготовление и контроль качества стальных строительных конструкций\\\", указаниями в чертежах марки \\\"КМ\\\"\",\n",
    "                            \"# Монтаж металлоконструкций производить в соответствии с требованиями СП 70.13330.2012 \\\"Несущие и ограждающие конструкции. Актуализированная редакция СНиП 3.03.01-87\\\", СНИП 12-04-2002 \\\"Безопасность труда в строительстве. Часть 2. Строительное производство\\\" и указаниями в чертежах марки \\\"КМ\\\"\",\n",
    "                            \"# Отклонения металлоконструкций при изготовлении и монтаже не должны превышать предельных значений, указанных в СП 53-101-98, СП 70.13330.2012 и в чертежах марки \\\"КМ\\\" данного основного комплекта\",\n",
    "                            \"Крепление элементов\",\n",
    "                            \"Минимальное усилие для расчетного прикрепления элементов – 5 тс\",\n",
    "                            \"Соединение элементов металлоконструкций\",\n",
    "                            \"- сварные\",\n",
    "                            \"- на болтах нормальной точности по ГОСТ Р ИСО 4014-2013\",\n",
    "                            \"# Материалы для сварки принимать по таблице Г.1 СП 16.13330.2017 в зависимости от марок стали свариваемых элементов\",\n",
    "                            \"# Монтажные швы выполнять ручной сваркой ГОСТ 9467-75 \\\"Электроды покрытые металлические для ручной дуговой сварки конструкционных и теплоустойчивых сталей. Типы\\\":\\nДля сталей C245 сварку производить электродами типа 342A\",\n",
    "                            \"# Применение прерывистых швов не допускается\",\n",
    "                            \"# Контроль качества монтажных сварных соединений должен осуществляться в соответствии с требованиями п. 10.4 СП 70.13330.2012\",\n",
    "                            \"# Болты класса точности B (нормальной точности) M20 приняты по ГОСТ Р ИСО 4014-2013 \\\"Болты с шестигранной головкой. Классы точности A и B\\\", класса прочности 8.8 по ГОСТ ISO 898-1-2014 \\\"Механические свойства крепежных изделий из углеродистых и легированных сталей. Часть 1. Болты, винты и шпильки установленных классов прочности с крупным и мелким шагом резьбы\\\"\",\n",
    "                            \"# Гайки тип 1 класса точности B приняты по ГОСТ ISO 4032-2014. При работе болтов на срез и растяжение класс прочности гаек принят в соответствии с классом прочности болтов: 5 – при 5.6\",\n",
    "                            \"Шайбы приняты круглые по ГОСТ 11371-78 исполнения 1 класса точности A\",\n",
    "                            \"Для болтов класса точности B диаметр отверстий в конструкциях, работающих на срез и смятие, принят d=dв+2\",\n",
    "                            \"В расчетных соединениях для болтов класса точности B разность номинальных диаметров отверстий и болтов не должна превышать 3 мм с учетом предельных отклонений диаметра отверстия и их овальности 0; +0,6; и 0; +1,0 по табл. 2 ГОСТ 23118-2012\",\n",
    "                            \"Антикоррозионная защита\",\n",
    "                            \"# Антикоррозионная защита запроектирована в соответствии с требованиями СП 28.13330.2017 \\\"Защита строительных конструкций от коррозии\\\"\",\n",
    "                            \"# Антикоррозионную защиту производить в соответствии с требованиями СП 72.13330.2016 \\\"Защита строительных конструкций и сооружений от коррозии. СНиП 3.04.03-85\\\" и ГОСТ 12.3.005-75 \\\"Система стандартов безопасности труда (ССБТ). Работы окрасочные. Общие требования безопасности\\\"\",\n",
    "                            \"# Подготовка поверхностей перед окраской должна осуществляться в соответствии с требованиями ГОСТ 9.402-2004 путем удаления ржавчины и прокатной окалины с помощью ручного или механизированного абразивного инструмента и очистки жировых и прочих загрязнений с помощью волосяных кистей или ветоши, смоченных в уайт-спирите. Перед нанесением антикоррозионного покрытия поверхности конструкций обеспылить\",\n",
    "                            \"# Защита металлоконструкций от коррозии осуществляется окраской лакокрасочными материалами группы III: эмалью XB-7141 по ТУ 2313-016-75351875-2005 в 4 слоя по 2 слоям грунтовки XC-010 по ТУ 6-21-7-89\",\n",
    "                            \"Общая толщина покрытия – 160 мкм\",\n",
    "                            \"Степень очистки поверхности стальных конструкций от окислов перед окраской – 2 по ГОСТ 9.402-2004\",\n",
    "                            \"Допускается замена лакокрасочных материалов на сертифицированные материалы с аналогичными техническими характеристиками\",\n",
    "                            \"Цвет окраски антикоррозионного покрытия принимать в соответствии с цветом окраски существующих конструкций\",\n",
    "                            \"Перечень видов работ, на которые должны быть составлены акты освидетельствования скрытых работ:\",\n",
    "                            \"- подготовка поверхности металлоконструкций под окраску\",\n",
    "                            \"- приемка грунтовочного слоя антикоррозионного покрытия\",\n",
    "                            \"- визуальный контроль качества сварных швов\"],\n",
    "                   'order_num': [1, 2, 3, 4, 1, 1, 2, 3, 4, 5, 6, 7, 8, 9, 10, 11, 1, 1, 2, 3, 4, 5, 6, 7, 1, 2, 3, 4, 5, 6, 7, 8, 9, 10, 1, 2, 3, 4, 1, 2, 1, 2, 1, 2, 3, 4, 1, 2, 1, 2, 3, 4, 5, 6, 7, 8, 9, 10, 11, 12, 1, 2, 3, 4, 5, 6, 7, 8, 9, 1, 2, 3, 4]})\n"
   ]
  },
  {
   "cell_type": "code",
   "execution_count": 1014,
   "metadata": {},
   "outputs": [],
   "source": [
    "df.insert(0, 'id', range(1, len(df) + 1))"
   ]
  },
  {
   "cell_type": "code",
   "execution_count": 1015,
   "metadata": {},
   "outputs": [],
   "source": [
    "cursor.execute(open(\"sql_server/35_xx.sql\", \"r\").read())\n",
    "conn.commit()"
   ]
  },
  {
   "cell_type": "code",
   "execution_count": 1016,
   "metadata": {},
   "outputs": [
    {
     "name": "stdout",
     "output_type": "stream",
     "text": [
      "execute_values() done\n"
     ]
    }
   ],
   "source": [
    "execute_values(df, \"mark_general_data_points\")"
   ]
  },
  {
   "cell_type": "markdown",
   "metadata": {},
   "source": [
    "<h1>Первый запуск до этой клетки, потом нужно программно добавить пользователей</h1>"
   ]
  },
  {
   "cell_type": "markdown",
   "metadata": {},
   "source": [
    "<h1>Пункты общих указаний пользователя (id seq fail)</h1>"
   ]
  },
  {
   "cell_type": "code",
   "execution_count": 2263,
   "metadata": {},
   "outputs": [],
   "source": [
    "df = pd.DataFrame({\n",
    "#     'id': [1, 2, 3, 4, 5, 6, 7, 8, 9, 10, 11, 12, 13, 14, 15, 16, 17, 18, 19, 20, 21, 22, 23, 24, 25, 26, 27, 28, 29, 30, 31, 32, 33, 34, 35, 36, 37, 38, 39, 40, 41, 42, 43, 44, 45, 46, 47, 48, 49, 50, 51, 52, 53, 54, 55, 56, 57, 58, 59, 60, 61, 62, 63, 64, 65, 66, 67, 68, 69, 70, 71, 72, 73],\n",
    "                   'user_id': [1, 1, 1, 1, 1, 1, 1, 1, 1, 1, 1, 1, 1, 1, 1, 1, 1, 1, 1, 1, 1, 1, 1, 1, 1, 1, 1, 1, 1, 1, 1, 1, 1, 1, 1, 1, 1, 1, 1, 1, 1, 1, 1, 1, 1, 1, 1, 1, 1, 1, 1, 1, 1, 1, 1, 1, 1, 1, 1, 1, 1, 1, 1, 1, 1, 1, 1, 1, 1, 1, 1, 1, 1],\n",
    "                   'section_id': [1, 1, 1, 1, 2, 3, 3, 3, 3, 3, 3, 3, 3, 3, 3, 3, 4, 5, 5, 5, 5, 5, 5, 5, 6, 6, 6, 6, 6, 6, 6, 6, 6, 6, 7, 7, 7, 7, 8, 8, 9, 9, 10, 10, 10, 10, 11, 11, 12, 12, 12, 12, 12, 12, 12, 12, 12, 12, 12, 12, 13, 13, 13, 13, 13, 13, 13, 13, 13, 15, 15, 15, 15],\n",
    "                   'text': [\"Рабочая документация разработана на основании:\",\n",
    "                            \"- поручения от 28.02.2020 № АГЛ-35/0362\",\n",
    "                            \"- письма от 05.03.2020 № УПиН-35/0431\",\n",
    "                            \"- рекомендаций, выполненного специалистами \\\"АО МАГНИТОГОРСКИЙ ГИПРОМЕЗ\\\"\",\n",
    "                            \"Рабочая документация разработана в соответствии с техническими условиями, требованиями действующих технических регламентов, стандартов, сводов правил и других документов, содержащих установленные требования.\",\n",
    "                            \"Перечень технических регламентов и нормативных документов, в соответствии с требованиями которых разработана рабочая документация\",\n",
    "                            \"- Федеральный закон от 30.12.2009 № 384-ФЗ \\\"Технический регламент о безопасности зданий и сооружений\\\"\",\n",
    "                            \"- Федеральный закон от 22.07.2008 № 123-ФЗ \\\"Технический регламент о требованиях пожарной безопасности\\\"\",\n",
    "                            \"- СП 16.13330.2017 \\\"Стальные конструкции. Актуализированная редакция СНиП II-23-81*\\\"\",\n",
    "                            \"- СП 20.13330.2016 \\\"Нагрузки и воздействия. Актуализированная редакция СНиП 2.01.07-85*\\\"\",\n",
    "                            \"- СП 28.13330.2017 \\\"Защита строительных конструкций от коррозии. Актуализированная редакция СНиП 2.03.11-85\\\"\",\n",
    "                            \"- СП 53-102-2004 \\\"Общие правила проектирования стальных конструкций\\\"\",\n",
    "                            \"- СП 70.13330.2012 \\\"Несущие и ограждающие конструкции. Актуализированная редакция СНиП 3.03.01-87\\\"\",\n",
    "                            \"- ГОСТ 23118-2012 \\\"Конструкции стальные строительные. Общие технические условия\\\"\",\n",
    "                            \"- ГОСТ 27751-2014 \\\"Надежность строительных конструкций и оснований. Основные положения\\\"\",\n",
    "                            \"- ГОСТ 9.402-2004 \\\"Единая система защиты от коррозии и старения (ЕСЗКС). Покрытия лакокрасочные. Подготовка металлических поверхностей к окрашиванию\\\"\",\n",
    "                            \"Высотные отметки абсолютные.\",\n",
    "                            \"Климатические условия\",\n",
    "                            \"- климатический район – IB\",\n",
    "                            \"- расчетная температура наружного воздуха наиболее холодных суток обеспеченностью 0,98 – минус 43 °C\",\n",
    "                            \"- нормативное значение веса снегового покрова на 1 м^2 горизонтальной поверхности земли для г. Магнитогорска (согласно СП 20.13330-2016, приложение K, табл. K1) – 1,3 кПа (130 кг/м^2)\",\n",
    "                            \"- нормативное значение ветрового давления для II района (согласно СП 20.13330-2016, п. 11.14, табл. 11.1) – 0,30 кПа (30 кг/м^2)\",\n",
    "                            \"- зона влажности – сухая\",\n",
    "                            \"- расчетная сейсмическая активность – 5 баллов\",\n",
    "                            \"Конструктивные решения\",\n",
    "                            \"# Чертежи марки \\\"КМ\\\" являются исходным материалом для разработки деталировочных чертежей марки \\\"КМД\\\"\",\n",
    "                            \"# В данной рабочей документации разработано восстановление пролетных строений (усиление ферм пролетных строений, металлоконструкций по верхним и нижним поясам ферм) и восстановление антикоррозионного покрытия существующих элементов пролетных строений галереи конвейера № 706-1 УУК и КДИ аглоцеха ГОП ПАО \\\"ММК\\\"\",\n",
    "                            \"# Все работы должны выполняться специализированной организацией, имеющей свидетельство СРО на данный вид деятельности и имеющие допуск по электробезопасности\",\n",
    "                            \"# Работы производить по специально разработанному и согласованному в установленном порядке со всеми инспектирующими организациями и эксплуатацией цеха проекту производства работ (ППР) с соблюдением требований действующих нормативных документов и обязательным учетом фактического состояния существующих конструкций\",\n",
    "                            \"# При выполнении работ принять меры по обеспечению целостности и сохранности существующих сооружений и коммуникаций, находящихся в зоне производства работ\",\n",
    "                            \"# При производстве сварочных работ предусмотреть комплекс организационно-технических мероприятий по обеспечению пожарной безопасности\",\n",
    "                            \"# На всех этапах ведения демонтажных и монтажных работ обеспечить устойчивость и неизменяемость положения существующих конструкций\",\n",
    "                            \"# Перед началом работ необходимо выполнить очистку конструкций в зоне ремонта от мусора, грязи, технологической пыли\",\n",
    "                            \"# Исполнитель несет ответственность за соответствие выполненных работ чертежам. Всякое отступление от чертежей при производстве работ должно быть согласовано с организацией-разработчиком данной рабочей документации\",\n",
    "                            \"Характеристики конструкций\",\n",
    "                            \"- коэффициент надежности по ответственности – {}\",\n",
    "                            \"- степень агрессивного воздействия среды – {}\",\n",
    "                            \"- расчетная температура эксплуатации – {}\",\n",
    "                            \"Материал конструкций\",\n",
    "                            \"Марки сталей элементов конструкций приняты в зависимости от группы конструкций с учетом расчетной температуры и приведены в таблицах \\\"Ведомость элементов\\\", на схемах расположения элементов конструкций, на чертежах элементов и узлов конструкций и в спецификации металлопроката\",\n",
    "                            \"Указания по разработке КМД и ППР\",\n",
    "                            \"Отступления от рабочих чертежей КМ не допускаются. В случае необходимости эти отступления должны быть согласованы с организацией-разработчиком рабочих чертежей марки \\\"КМ\\\"\",\n",
    "                            \"Указания по изготовлению и монтажу металлоконструкций\",\n",
    "                            \"# Изготовление металлоконструкций производить в соответствии с требованиями ГОСТ 23118-2012, СП 53-101-98 \\\"Изготовление и контроль качества стальных строительных конструкций\\\", указаниями в чертежах марки \\\"КМ\\\"\",\n",
    "                            \"# Монтаж металлоконструкций производить в соответствии с требованиями СП 70.13330.2012 \\\"Несущие и ограждающие конструкции. Актуализированная редакция СНиП 3.03.01-87\\\", СНИП 12-04-2002 \\\"Безопасность труда в строительстве. Часть 2. Строительное производство\\\" и указаниями в чертежах марки \\\"КМ\\\"\",\n",
    "                            \"# Отклонения металлоконструкций при изготовлении и монтаже не должны превышать предельных значений, указанных в СП 53-101-98, СП 70.13330.2012 и в чертежах марки \\\"КМ\\\" данного основного комплекта\",\n",
    "                            \"Крепление элементов\",\n",
    "                            \"Минимальное усилие для расчетного прикрепления элементов – 5 тс\",\n",
    "                            \"Соединение элементов металлоконструкций\",\n",
    "                            \"- сварные\",\n",
    "                            \"- на болтах нормальной точности по ГОСТ Р ИСО 4014-2013\",\n",
    "                            \"# Материалы для сварки принимать по таблице Г.1 СП 16.13330.2017 в зависимости от марок стали свариваемых элементов\",\n",
    "                            \"# Монтажные швы выполнять ручной сваркой ГОСТ 9467-75 \\\"Электроды покрытые металлические для ручной дуговой сварки конструкционных и теплоустойчивых сталей. Типы\\\":\\nДля сталей C245 сварку производить электродами типа 342A\",\n",
    "                            \"# Применение прерывистых швов не допускается\",\n",
    "                            \"# Контроль качества монтажных сварных соединений должен осуществляться в соответствии с требованиями п. 10.4 СП 70.13330.2012\",\n",
    "                            \"# Болты класса точности B (нормальной точности) M20 приняты по ГОСТ Р ИСО 4014-2013 \\\"Болты с шестигранной головкой. Классы точности A и B\\\", класса прочности 8.8 по ГОСТ ISO 898-1-2014 \\\"Механические свойства крепежных изделий из углеродистых и легированных сталей. Часть 1. Болты, винты и шпильки установленных классов прочности с крупным и мелким шагом резьбы\\\"\",\n",
    "                            \"# Гайки тип 1 класса точности B приняты по ГОСТ ISO 4032-2014. При работе болтов на срез и растяжение класс прочности гаек принят в соответствии с классом прочности болтов: 5 – при 5.6\",\n",
    "                            \"Шайбы приняты круглые по ГОСТ 11371-78 исполнения 1 класса точности A\",\n",
    "                            \"Для болтов класса точности B диаметр отверстий в конструкциях, работающих на срез и смятие, принят d=dв+2\",\n",
    "                            \"В расчетных соединениях для болтов класса точности B разность номинальных диаметров отверстий и болтов не должна превышать 3 мм с учетом предельных отклонений диаметра отверстия и их овальности 0; +0,6; и 0; +1,0 по табл. 2 ГОСТ 23118-2012\",\n",
    "                            \n",
    "                            \n",
    "                            \"Антикоррозионная защита\",\n",
    "                            \"# Антикоррозионная защита запроектирована в соответствии с требованиями СП 28.13330.2017 \\\"Защита строительных конструкций от коррозии\\\"\",\n",
    "                            \"# Антикоррозионную защиту производить в соответствии с требованиями СП 72.13330.2016 \\\"Защита строительных конструкций и сооружений от коррозии. СНиП 3.04.03-85\\\" и ГОСТ 12.3.005-75 \\\"Система стандартов безопасности труда (ССБТ). Работы окрасочные. Общие требования безопасности\\\"\",\n",
    "                            \"# Подготовка поверхностей перед окраской должна осуществляться в соответствии с требованиями ГОСТ 9.402-2004 путем удаления ржавчины и прокатной окалины с помощью ручного или механизированного абразивного инструмента и очистки жировых и прочих загрязнений с помощью волосяных кистей или ветоши, смоченных в уайт-спирите. Перед нанесением антикоррозионного покрытия поверхности конструкций обеспылить\",\n",
    "                            \"# Защита металлоконструкций от коррозии осуществляется окраской лакокрасочными материалами группы III: эмалью XB-7141 по ТУ 2313-016-75351875-2005 в 4 слоя по 2 слоям грунтовки XC-010 по ТУ 6-21-7-89\",\n",
    "                            \"Общая толщина покрытия – 160 мкм\",\n",
    "                            \"Степень очистки поверхности стальных конструкций от окислов перед окраской – 2 по ГОСТ 9.402-2004\",\n",
    "                            \"Допускается замена лакокрасочных материалов на сертифицированные материалы с аналогичными техническими характеристиками\",\n",
    "                            \"Цвет окраски антикоррозионного покрытия принимать в соответствии с цветом окраски существующих конструкций\",\n",
    "                            \"Перечень видов работ, на которые должны быть составлены акты освидетельствования скрытых работ:\",\n",
    "                            \"- подготовка поверхности металлоконструкций под окраску\",\n",
    "                            \"- приемка грунтовочного слоя антикоррозионного покрытия\",\n",
    "                            \"- визуальный контроль качества сварных швов\"],\n",
    "                   'order_num': [1, 2, 3, 4, 1, 1, 2, 3, 4, 5, 6, 7, 8, 9, 10, 11, 1, 1, 2, 3, 4, 5, 6, 7, 1, 2, 3, 4, 5, 6, 7, 8, 9, 10, 1, 2, 3, 4, 1, 2, 1, 2, 1, 2, 3, 4, 1, 2, 1, 2, 3, 4, 5, 6, 7, 8, 9, 10, 11, 12, 1, 2, 3, 4, 5, 6, 7, 8, 9, 1, 2, 3, 4]})"
   ]
  },
  {
   "cell_type": "code",
   "execution_count": 2264,
   "metadata": {},
   "outputs": [],
   "source": [
    "df.insert(0, 'id', range(1, len(df) + 1))"
   ]
  },
  {
   "cell_type": "code",
   "execution_count": 2265,
   "metadata": {},
   "outputs": [],
   "source": [
    "cursor.execute(open(\"sql_server/35_2.sql\", \"r\").read())\n",
    "conn.commit()"
   ]
  },
  {
   "cell_type": "markdown",
   "metadata": {},
   "source": [
    "Will fail first time. Need to create users."
   ]
  },
  {
   "cell_type": "code",
   "execution_count": 2266,
   "metadata": {
    "scrolled": true
   },
   "outputs": [
    {
     "name": "stdout",
     "output_type": "stream",
     "text": [
      "execute_values() done\n"
     ]
    }
   ],
   "source": [
    "execute_values(df, \"general_data_points\")"
   ]
  },
  {
   "cell_type": "code",
   "execution_count": 626,
   "metadata": {},
   "outputs": [],
   "source": [
    "conn.close()"
   ]
  },
  {
   "cell_type": "code",
   "execution_count": null,
   "metadata": {},
   "outputs": [],
   "source": []
  }
 ],
 "metadata": {
  "kernelspec": {
   "display_name": "Python 3",
   "language": "python",
   "name": "python3"
  },
  "language_info": {
   "codemirror_mode": {
    "name": "ipython",
    "version": 3
   },
   "file_extension": ".py",
   "mimetype": "text/x-python",
   "name": "python",
   "nbconvert_exporter": "python",
   "pygments_lexer": "ipython3",
   "version": "3.8.5"
  }
 },
 "nbformat": 4,
 "nbformat_minor": 4
}
