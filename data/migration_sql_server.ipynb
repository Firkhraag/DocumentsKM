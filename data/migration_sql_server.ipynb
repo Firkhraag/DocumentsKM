{
 "cells": [
  {
   "cell_type": "markdown",
   "metadata": {},
   "source": [
    "<h1>Импорты</h1>"
   ]
  },
  {
   "cell_type": "code",
   "execution_count": 7,
   "metadata": {},
   "outputs": [],
   "source": [
    "import pandas as pd\n",
    "import numpy as np\n",
    "import pyodbc\n",
    "import random\n",
    "import math\n",
    "from sklearn.preprocessing import OrdinalEncoder\n",
    "from datetime import datetime"
   ]
  },
  {
   "cell_type": "code",
   "execution_count": 8,
   "metadata": {},
   "outputs": [],
   "source": [
    "# Connect to old database\n",
    "db_conn = pyodbc.connect('Driver={SQL Server};'\n",
    "#                       'Server=BAMBI;'\n",
    "                         'Server=LAPTOP-JSR6TV0G;'\n",
    "                      'Database=Pro_t;'\n",
    "                      'Trusted_Connection=yes;')"
   ]
  },
  {
   "cell_type": "code",
   "execution_count": 640,
   "metadata": {},
   "outputs": [],
   "source": [
    "# Connect to archive\n",
    "archive_conn = pyodbc.connect('Driver={SQL Server};'\n",
    "                      'Server=progress;'\n",
    "                      'Database=ArchDocT;'\n",
    "                      'Trusted_Connection=yes;')"
   ]
  },
  {
   "cell_type": "code",
   "execution_count": 50,
   "metadata": {},
   "outputs": [
    {
     "name": "stdout",
     "output_type": "stream",
     "text": [
      "Connection successful\n"
     ]
    }
   ],
   "source": [
    "# Connect to new database\n",
    "try:\n",
    "    conn = pyodbc.connect('Driver={SQL Server};'\n",
    "#                       'Server=BAMBI;'\n",
    "                          'Server=LAPTOP-JSR6TV0G;'\n",
    "                      'Database=DocumentsKM;'\n",
    "                      'Trusted_Connection=yes;')\n",
    "    cursor = conn.cursor()\n",
    "except Exception as err:\n",
    "    cursor = None\n",
    "    print(\"Connection error:\", err)\n",
    "    \n",
    "# Check if the connection was valid\n",
    "if cursor != None:\n",
    "    print(\"Connection successful\")"
   ]
  },
  {
   "cell_type": "code",
   "execution_count": 10,
   "metadata": {},
   "outputs": [],
   "source": [
    "def to_pascal_case(snake_str):\n",
    "    components = snake_str.split('_')\n",
    "    return components[0].title() + ''.join(x.title() for x in components[1:])"
   ]
  },
  {
   "cell_type": "code",
   "execution_count": 11,
   "metadata": {},
   "outputs": [],
   "source": [
    "def execute_values(df, table_snake_case, has_dentity=True):\n",
    "    df.columns = map(to_pascal_case, df.columns)\n",
    "    df = df.replace({False: 0, True: 1})\n",
    "    table = to_pascal_case(table_snake_case)\n",
    "    if has_dentity:\n",
    "        cursor.execute(f\"SET IDENTITY_INSERT dbo.{table} ON\")\n",
    "    tuples = [tuple(x) for x in df.to_numpy()]\n",
    "    cols = ','.join(list(df.columns))\n",
    "    for entry in tuples:\n",
    "        query  = \"insert into dbo.%s(%s) values (\" % (table, cols)\n",
    "        num = 1\n",
    "        entry_list = []\n",
    "        for e in entry:\n",
    "            if num == len(entry):\n",
    "                query += \"?\"\n",
    "            else:\n",
    "                query += \"?, \"\n",
    "            num += 1\n",
    "#             print(e)\n",
    "            if (not isinstance(e, str)) and (not isinstance(e, bool)) and (not (e is None)) and (not (type(e) is pd.Timestamp)) and math.isnan(e):\n",
    "                entry_list.append(None)\n",
    "            else:\n",
    "                entry_list.append(e)\n",
    "        query += \")\"\n",
    "#         print(query)\n",
    "#         print(*entry_list)\n",
    "        cursor.execute(query, *entry_list)\n",
    "    if has_dentity:\n",
    "        cursor.execute(f\"SET IDENTITY_INSERT dbo.{table} OFF\")\n",
    "    conn.commit()"
   ]
  },
  {
   "cell_type": "markdown",
   "metadata": {},
   "source": [
    "To delete:\n",
    "    1) Select Tables\n",
    "    2) Press F7\n",
    "    3) Select tables\n",
    "    4) Delete them till it's done"
   ]
  },
  {
   "cell_type": "markdown",
   "metadata": {},
   "source": [
    "<h1>Должности, отделы, исполнители старое</h1>"
   ]
  },
  {
   "cell_type": "code",
   "execution_count": 275,
   "metadata": {},
   "outputs": [],
   "source": [
    "df = pd.DataFrame()"
   ]
  },
  {
   "cell_type": "code",
   "execution_count": 276,
   "metadata": {},
   "outputs": [],
   "source": [
    "df.insert(0, 'id', range(1, 101))"
   ]
  },
  {
   "cell_type": "code",
   "execution_count": 277,
   "metadata": {},
   "outputs": [],
   "source": [
    "df.insert(0, 'name', 'Position')"
   ]
  },
  {
   "cell_type": "code",
   "execution_count": 278,
   "metadata": {},
   "outputs": [],
   "source": [
    "cursor.execute(open(\"sql_server/25.sql\", \"r\").read())\n",
    "conn.commit()"
   ]
  },
  {
   "cell_type": "code",
   "execution_count": 279,
   "metadata": {},
   "outputs": [],
   "source": [
    "execute_values(df, \"positions\", False)"
   ]
  },
  {
   "cell_type": "code",
   "execution_count": 280,
   "metadata": {},
   "outputs": [],
   "source": [
    "df = pd.DataFrame()"
   ]
  },
  {
   "cell_type": "code",
   "execution_count": 281,
   "metadata": {},
   "outputs": [],
   "source": [
    "df.insert(0, 'id', range(1, 27))"
   ]
  },
  {
   "cell_type": "code",
   "execution_count": 282,
   "metadata": {},
   "outputs": [],
   "source": [
    "df.insert(0, 'code', list(map(chr, range(97, 123))))"
   ]
  },
  {
   "cell_type": "code",
   "execution_count": 283,
   "metadata": {},
   "outputs": [],
   "source": [
    "df.insert(0, 'name', 'Department')"
   ]
  },
  {
   "cell_type": "code",
   "execution_count": 284,
   "metadata": {},
   "outputs": [],
   "source": [
    "df.insert(0, 'short_name', 'Pos')"
   ]
  },
  {
   "cell_type": "code",
   "execution_count": 285,
   "metadata": {},
   "outputs": [],
   "source": [
    "df.insert(0, 'is_active', True)"
   ]
  },
  {
   "cell_type": "code",
   "execution_count": 286,
   "metadata": {},
   "outputs": [],
   "source": [
    "df.loc[:, [\"id\", \"code\"]].to_csv(\"departments.csv\")"
   ]
  },
  {
   "cell_type": "code",
   "execution_count": 287,
   "metadata": {},
   "outputs": [],
   "source": [
    "cursor.execute(open(\"sql_server/30.sql\", \"r\").read())\n",
    "conn.commit()"
   ]
  },
  {
   "cell_type": "code",
   "execution_count": 288,
   "metadata": {},
   "outputs": [],
   "source": [
    "execute_values(df, \"departments\")"
   ]
  },
  {
   "cell_type": "code",
   "execution_count": 289,
   "metadata": {},
   "outputs": [],
   "source": [
    "df = pd.DataFrame()"
   ]
  },
  {
   "cell_type": "code",
   "execution_count": 290,
   "metadata": {},
   "outputs": [],
   "source": [
    "df.insert(0, 'id', range(1, 464))"
   ]
  },
  {
   "cell_type": "code",
   "execution_count": 291,
   "metadata": {},
   "outputs": [],
   "source": [
    "df.insert(0, 'department_id', np.random.randint(26, size=463) + 1)"
   ]
  },
  {
   "cell_type": "code",
   "execution_count": 292,
   "metadata": {},
   "outputs": [],
   "source": [
    "df.insert(0, 'position_id', np.random.randint(100, size=463) + 1)"
   ]
  },
  {
   "cell_type": "code",
   "execution_count": 293,
   "metadata": {},
   "outputs": [],
   "source": [
    "df.insert(0, 'fullname', 'Name Surname Patronymic')"
   ]
  },
  {
   "cell_type": "code",
   "execution_count": 294,
   "metadata": {},
   "outputs": [],
   "source": [
    "df.insert(0, 'name', 'Name')"
   ]
  },
  {
   "cell_type": "code",
   "execution_count": 295,
   "metadata": {},
   "outputs": [],
   "source": [
    "df.insert(0, 'is_active', True)"
   ]
  },
  {
   "cell_type": "code",
   "execution_count": 296,
   "metadata": {},
   "outputs": [],
   "source": [
    "df[\"id\"].to_csv(\"employee_ids.csv\")"
   ]
  },
  {
   "cell_type": "code",
   "execution_count": 297,
   "metadata": {},
   "outputs": [],
   "source": [
    "cursor.execute(open(\"sql_server/26.sql\", \"r\").read())\n",
    "conn.commit()"
   ]
  },
  {
   "cell_type": "code",
   "execution_count": 298,
   "metadata": {},
   "outputs": [],
   "source": [
    "execute_values(df, \"employees\", False)"
   ]
  },
  {
   "cell_type": "markdown",
   "metadata": {},
   "source": [
    "<h1>Должности</h1>"
   ]
  },
  {
   "cell_type": "code",
   "execution_count": 173,
   "metadata": {},
   "outputs": [],
   "source": [
    "df = pd.read_json('post.json')"
   ]
  },
  {
   "cell_type": "code",
   "execution_count": 174,
   "metadata": {},
   "outputs": [],
   "source": [
    "df[\"name\"] = df[\"name\"].str.strip()"
   ]
  },
  {
   "cell_type": "code",
   "execution_count": 633,
   "metadata": {},
   "outputs": [],
   "source": [
    "cursor.execute(open(\"sql_server/25.sql\", \"r\").read())\n",
    "conn.commit()"
   ]
  },
  {
   "cell_type": "code",
   "execution_count": 176,
   "metadata": {},
   "outputs": [],
   "source": [
    "execute_values(df, \"positions\", False)"
   ]
  },
  {
   "cell_type": "markdown",
   "metadata": {},
   "source": [
    "<h1>Отделы</h1>"
   ]
  },
  {
   "cell_type": "code",
   "execution_count": 711,
   "metadata": {},
   "outputs": [],
   "source": [
    "df = pd.read_json('department.json')"
   ]
  },
  {
   "cell_type": "code",
   "execution_count": 712,
   "metadata": {},
   "outputs": [],
   "source": [
    "df[\"name\"] = df[\"name\"].str.strip()\n",
    "df[\"reduction\"] = df[\"reduction\"].str.strip()"
   ]
  },
  {
   "cell_type": "code",
   "execution_count": 180,
   "metadata": {},
   "outputs": [],
   "source": [
    "df = df.rename(columns={\"id\" : \"code\",\n",
    "                        \"reduction\": \"short_name\",\n",
    "                        \"enable\": \"is_active\"\n",
    "                       })"
   ]
  },
  {
   "cell_type": "code",
   "execution_count": 181,
   "metadata": {},
   "outputs": [],
   "source": [
    "df.insert(0, 'id', range(1, len(df) + 1))"
   ]
  },
  {
   "cell_type": "code",
   "execution_count": 182,
   "metadata": {},
   "outputs": [],
   "source": [
    "df.loc[:, [\"id\", \"code\"]].to_csv(\"departments.csv\")"
   ]
  },
  {
   "cell_type": "code",
   "execution_count": 632,
   "metadata": {},
   "outputs": [],
   "source": [
    "cursor.execute(open(\"sql_server/30.sql\", \"r\").read())\n",
    "conn.commit()"
   ]
  },
  {
   "cell_type": "code",
   "execution_count": 184,
   "metadata": {},
   "outputs": [],
   "source": [
    "execute_values(df, \"departments\")"
   ]
  },
  {
   "cell_type": "markdown",
   "metadata": {},
   "source": [
    "<h1>Исполнители</h1>"
   ]
  },
  {
   "cell_type": "code",
   "execution_count": 185,
   "metadata": {},
   "outputs": [],
   "source": [
    "df = pd.read_json('staff.json')"
   ]
  },
  {
   "cell_type": "code",
   "execution_count": 186,
   "metadata": {},
   "outputs": [],
   "source": [
    "df_dep = df['department'].apply(pd.Series)"
   ]
  },
  {
   "cell_type": "code",
   "execution_count": 187,
   "metadata": {},
   "outputs": [],
   "source": [
    "df_dep = df_dep.drop([\"name\", \"reduction\", \"enable\"], axis=1)"
   ]
  },
  {
   "cell_type": "code",
   "execution_count": 188,
   "metadata": {},
   "outputs": [],
   "source": [
    "df_dep = df_dep.rename(columns={\"id\": \"code\"})"
   ]
  },
  {
   "cell_type": "code",
   "execution_count": 189,
   "metadata": {},
   "outputs": [],
   "source": [
    "dep = pd.read_csv(\"departments.csv\")\n",
    "dep = dep.drop([\"Unnamed: 0\"], axis=1)"
   ]
  },
  {
   "cell_type": "code",
   "execution_count": 190,
   "metadata": {},
   "outputs": [],
   "source": [
    "for index, row in df_dep.iterrows():\n",
    "    try:\n",
    "        df_dep.loc[index, \"department_id\"] = dep.loc[dep[\"code\"] == row[\"code\"], \"id\"].values[0]\n",
    "    except:\n",
    "        df_dep.loc[index, \"department_id\"] = None"
   ]
  },
  {
   "cell_type": "code",
   "execution_count": 191,
   "metadata": {},
   "outputs": [],
   "source": [
    "df_dep = df_dep.drop([\"code\"], axis=1)"
   ]
  },
  {
   "cell_type": "code",
   "execution_count": 192,
   "metadata": {},
   "outputs": [],
   "source": [
    "df[\"department_id\"] = df_dep"
   ]
  },
  {
   "cell_type": "code",
   "execution_count": 193,
   "metadata": {},
   "outputs": [],
   "source": [
    "df_post = df['post'].apply(pd.Series)"
   ]
  },
  {
   "cell_type": "code",
   "execution_count": 194,
   "metadata": {},
   "outputs": [],
   "source": [
    "df_post = df_post.drop([\"name\"], axis=1)"
   ]
  },
  {
   "cell_type": "code",
   "execution_count": 195,
   "metadata": {},
   "outputs": [],
   "source": [
    "df_post = df_post.rename(columns={\"id\": \"position_id\"})"
   ]
  },
  {
   "cell_type": "code",
   "execution_count": 196,
   "metadata": {},
   "outputs": [],
   "source": [
    "df[\"position_id\"] = df_post"
   ]
  },
  {
   "cell_type": "code",
   "execution_count": 197,
   "metadata": {},
   "outputs": [],
   "source": [
    "df[\"is_active\"] = df[\"dismissedDate\"].isna()"
   ]
  },
  {
   "cell_type": "code",
   "execution_count": 198,
   "metadata": {},
   "outputs": [],
   "source": [
    "df = df.drop([\"tableNumber\", \"userName\", \"createdDate\", \"dismissedDate\", \"vacation\", \"post\", \"department\"], axis=1)"
   ]
  },
  {
   "cell_type": "code",
   "execution_count": 199,
   "metadata": {},
   "outputs": [],
   "source": [
    "df = df.dropna()"
   ]
  },
  {
   "cell_type": "code",
   "execution_count": 200,
   "metadata": {},
   "outputs": [],
   "source": [
    "df[\"name\"] = df[\"fullName\"].str.partition().loc[:, 0]"
   ]
  },
  {
   "cell_type": "code",
   "execution_count": 202,
   "metadata": {},
   "outputs": [],
   "source": [
    "df[\"id\"].to_csv(\"employee_ids.csv\")"
   ]
  },
  {
   "cell_type": "code",
   "execution_count": null,
   "metadata": {},
   "outputs": [],
   "source": [
    "cursor.execute(open(\"sql_server/26.sql\", \"r\").read())\n",
    "conn.commit()"
   ]
  },
  {
   "cell_type": "code",
   "execution_count": 204,
   "metadata": {},
   "outputs": [],
   "source": [
    "execute_values(df, \"employees\", False)"
   ]
  },
  {
   "cell_type": "markdown",
   "metadata": {},
   "source": [
    "<h1>Пользователи</h1>"
   ]
  },
  {
   "cell_type": "code",
   "execution_count": 299,
   "metadata": {},
   "outputs": [],
   "source": [
    "df = pd.DataFrame({'id': [1, 2], 'login': [\"1\", \"2\"], 'password': [\"1\", \"2\"], 'employee_id': [5, 6]})"
   ]
  },
  {
   "cell_type": "code",
   "execution_count": 300,
   "metadata": {},
   "outputs": [],
   "source": [
    "cursor.execute(open(\"sql_server/xx_users.sql\", \"r\").read())\n",
    "conn.commit()"
   ]
  },
  {
   "cell_type": "code",
   "execution_count": 301,
   "metadata": {},
   "outputs": [],
   "source": [
    "execute_values(df, \"users\")"
   ]
  },
  {
   "cell_type": "markdown",
   "metadata": {},
   "source": [
    "<h1>Значения по умолчанию</h1>"
   ]
  },
  {
   "cell_type": "code",
   "execution_count": 302,
   "metadata": {},
   "outputs": [],
   "source": [
    "df = pd.DataFrame({'user_id': [1, 2], 'department_id': [None, None], 'creator_id': [5, 6], 'inspector_id': [None, None], 'norm_contr_id': [None, None]})"
   ]
  },
  {
   "cell_type": "code",
   "execution_count": 303,
   "metadata": {},
   "outputs": [],
   "source": [
    "cursor.execute(open(\"sql_server/xx_default.sql\", \"r\").read())\n",
    "conn.commit()"
   ]
  },
  {
   "cell_type": "code",
   "execution_count": 304,
   "metadata": {},
   "outputs": [],
   "source": [
    "execute_values(df, \"default_values\", False)"
   ]
  },
  {
   "cell_type": "markdown",
   "metadata": {},
   "source": [
    "<h1>Условия эксплуатации</h1>"
   ]
  },
  {
   "cell_type": "code",
   "execution_count": 305,
   "metadata": {},
   "outputs": [],
   "source": [
    "df1 = pd.DataFrame({'id': [1, 2, 3, 4], 'name': [\"неагрессивная\", \"слабоагрессивная\", \"среднеагрессивная\", \"сильноагрессивная\"]})"
   ]
  },
  {
   "cell_type": "code",
   "execution_count": 306,
   "metadata": {},
   "outputs": [],
   "source": [
    "df2 = pd.DataFrame({'id': [1, 2, 3], 'name': [\"внутри помещения\", \"снаружи помещения\", \"в жидкостях\"]})"
   ]
  },
  {
   "cell_type": "code",
   "execution_count": 307,
   "metadata": {},
   "outputs": [],
   "source": [
    "df3 = pd.DataFrame({'id': [1, 2, 3, 4, 5], 'name': [\"нет газов (вода)\", \"газы группы А (кислоты)\", \"газы группы B, C и D (щелочи)\", \"бензин\", \"масло\"]})"
   ]
  },
  {
   "cell_type": "code",
   "execution_count": 308,
   "metadata": {},
   "outputs": [],
   "source": [
    "df4 = pd.DataFrame({'id': [1, 2, 3, 4], 'name': [\"сталь без покрытия\", \"оцинкованная сталь\", \"сталь горячего цинкования\", \"сталь с газотермическим напылением цинка\"]})"
   ]
  },
  {
   "cell_type": "code",
   "execution_count": 309,
   "metadata": {},
   "outputs": [],
   "source": [
    "df5 = pd.DataFrame({'id': [1, 2, 3, 4, 5, 6, 7, 8, 9, 10, 11, 12, 13, 14, 15, 16, 17], 'name': [\"ПФ\", \"АУ\", \"ЭЭ\", \"МА\", \"МБ\", \"НЦ\", \"ФФ\", \"ПА\", \"ПЭ\", \"ПБ\", \"ПВ\", \"СВ\", \"ПУ\", \"ЭП\", \"ПС\", \"КО\", \"АЦ\"]})"
   ]
  },
  {
   "cell_type": "code",
   "execution_count": 310,
   "metadata": {},
   "outputs": [],
   "source": [
    "df6 = pd.DataFrame({'id': [1, 2, 3, 4], 'name': [\"отсутствуют\", \"сдвигоустойчивые соединения\", \"фланцевые соединения\", \"сдвигоустойчивые и фланцевые соединения\"]})"
   ]
  },
  {
   "cell_type": "code",
   "execution_count": 311,
   "metadata": {},
   "outputs": [],
   "source": [
    "df5.loc[:, [\"id\", \"name\"]].to_csv(\"paintwork.csv\")"
   ]
  },
  {
   "cell_type": "code",
   "execution_count": 312,
   "metadata": {},
   "outputs": [],
   "source": [
    "cursor.execute(open(\"sql_server/y_1.sql\", \"r\").read())\n",
    "cursor.execute(open(\"sql_server/y_2.sql\", \"r\").read())\n",
    "cursor.execute(open(\"sql_server/y_3.sql\", \"r\").read())\n",
    "cursor.execute(open(\"sql_server/y_4.sql\", \"r\").read())\n",
    "cursor.execute(open(\"sql_server/y_5.sql\", \"r\").read())\n",
    "cursor.execute(open(\"sql_server/y_6.sql\", \"r\").read())\n",
    "conn.commit()"
   ]
  },
  {
   "cell_type": "code",
   "execution_count": null,
   "metadata": {},
   "outputs": [],
   "source": [
    "execute_values(df1, \"env_aggressiveness\")"
   ]
  },
  {
   "cell_type": "code",
   "execution_count": null,
   "metadata": {},
   "outputs": [],
   "source": [
    "execute_values(df2, \"operating_areas\")"
   ]
  },
  {
   "cell_type": "code",
   "execution_count": null,
   "metadata": {},
   "outputs": [],
   "source": [
    "execute_values(df3, \"gas_groups\")"
   ]
  },
  {
   "cell_type": "code",
   "execution_count": null,
   "metadata": {},
   "outputs": [],
   "source": [
    "execute_values(df4, \"construction_materials\")"
   ]
  },
  {
   "cell_type": "code",
   "execution_count": 316,
   "metadata": {},
   "outputs": [],
   "source": [
    "execute_values(df5, \"paintwork_types\")"
   ]
  },
  {
   "cell_type": "code",
   "execution_count": null,
   "metadata": {},
   "outputs": [],
   "source": [
    "execute_values(df6, \"high_tensile_bolts_types\")"
   ]
  },
  {
   "cell_type": "markdown",
   "metadata": {},
   "source": [
    "<h1>Стойкость лакокрасочных покрытий</h1>"
   ]
  },
  {
   "cell_type": "code",
   "execution_count": 320,
   "metadata": {},
   "outputs": [],
   "source": [
    "df = pd.DataFrame({'id': [1, 2, 3, 4, 5, 6, 7, 8, 9], 'name': [\"П\", \"А\", \"Х\", \"В\", \"Б\", \"М\", \"ХЩ\", \"ХК\", \"Т\"]})"
   ]
  },
  {
   "cell_type": "code",
   "execution_count": 321,
   "metadata": {},
   "outputs": [],
   "source": [
    "df.loc[:, [\"id\", \"name\"]].to_csv(\"paintwork_fastness.csv\")"
   ]
  },
  {
   "cell_type": "code",
   "execution_count": 322,
   "metadata": {},
   "outputs": [],
   "source": [
    "cursor.execute(open(\"sql_server/y_7.sql\", \"r\").read())\n",
    "conn.commit()"
   ]
  },
  {
   "cell_type": "code",
   "execution_count": null,
   "metadata": {},
   "outputs": [],
   "source": [
    "execute_values(df, \"paintwork_fastness\")"
   ]
  },
  {
   "cell_type": "markdown",
   "metadata": {},
   "source": [
    "<h1>Контроль сварки</h1>"
   ]
  },
  {
   "cell_type": "code",
   "execution_count": 224,
   "metadata": {},
   "outputs": [],
   "source": [
    "df = pd.DataFrame({'Id': [1, 2, 3, 4], 'Name': [\"не требуется\", \"опрыскиванием керосином\", \"ультразвуком\", \"гамма-излучением\"]})"
   ]
  },
  {
   "cell_type": "code",
   "execution_count": 225,
   "metadata": {},
   "outputs": [],
   "source": [
    "cursor.execute(open(\"sql_server/yy_1.sql\", \"r\").read())\n",
    "conn.commit()"
   ]
  },
  {
   "cell_type": "code",
   "execution_count": 226,
   "metadata": {},
   "outputs": [],
   "source": [
    "execute_values(df, \"WeldingControl\")"
   ]
  },
  {
   "cell_type": "markdown",
   "metadata": {},
   "source": [
    "<h1>Типы документов</h1>"
   ]
  },
  {
   "cell_type": "code",
   "execution_count": 227,
   "metadata": {},
   "outputs": [],
   "source": [
    "df = pd.DataFrame({'id': [1, 2, 3, 4, 5], 'code': [\"л.\", \"СМ\", \"ВМП\", \"СМС\", \"РР\"], 'name': [\"Листы основного комплекта\", \"Спецификация металлопроката\", \"Ведомость металлоконструкций по видам профилей\", \"Сводная спецификация металлопроката\", \"Расчет металлоконструкций\"]})"
   ]
  },
  {
   "cell_type": "code",
   "execution_count": 228,
   "metadata": {},
   "outputs": [],
   "source": [
    "cursor.execute(open(\"sql_server/x.sql\", \"r\").read())\n",
    "conn.commit()"
   ]
  },
  {
   "cell_type": "code",
   "execution_count": 229,
   "metadata": {},
   "outputs": [],
   "source": [
    "execute_values(df, \"doc_types\")"
   ]
  },
  {
   "cell_type": "markdown",
   "metadata": {},
   "source": [
    "<h1>Грунтовка</h1>"
   ]
  },
  {
   "cell_type": "code",
   "execution_count": 230,
   "metadata": {},
   "outputs": [],
   "source": [
    "df = pd.read_sql_query('SELECT * FROM Pro_t.dbo.Грунт_аз', db_conn)"
   ]
  },
  {
   "cell_type": "code",
   "execution_count": 231,
   "metadata": {},
   "outputs": [],
   "source": [
    "df = df.replace(\"\", np.nan)"
   ]
  },
  {
   "cell_type": "code",
   "execution_count": 232,
   "metadata": {},
   "outputs": [],
   "source": [
    "df[\"Приоритет\"] = df[\"Приоритет\"].map(lambda x: 0 if pd.isna(x) else x)"
   ]
  },
  {
   "cell_type": "code",
   "execution_count": 233,
   "metadata": {},
   "outputs": [],
   "source": [
    "df = df.rename(columns={\"поз\": \"id\",\n",
    "                        \"Группа_гр\": \"group_num\",\n",
    "                        \"Наим_гр\": \"name\",\n",
    "                        \"Можно_гр\": \"can_be_primed\",\n",
    "                        \"Приоритет\": \"priority\"\n",
    "                       })"
   ]
  },
  {
   "cell_type": "code",
   "execution_count": 234,
   "metadata": {},
   "outputs": [],
   "source": [
    "cursor.execute(open(\"sql_server/4.sql\", \"r\").read())\n",
    "conn.commit()"
   ]
  },
  {
   "cell_type": "code",
   "execution_count": 235,
   "metadata": {},
   "outputs": [],
   "source": [
    "execute_values(df, \"primer\")"
   ]
  },
  {
   "cell_type": "markdown",
   "metadata": {},
   "source": [
    "<h1>Степени очистки антикоррозионной защиты</h1>"
   ]
  },
  {
   "cell_type": "code",
   "execution_count": 236,
   "metadata": {},
   "outputs": [],
   "source": [
    "df = pd.read_sql_query('SELECT * FROM Pro_t.dbo.Степени_оч_аз', db_conn)"
   ]
  },
  {
   "cell_type": "code",
   "execution_count": 237,
   "metadata": {},
   "outputs": [],
   "source": [
    "df[\"Наим_оч\"] = df[\"Наим_оч\"].str.strip()"
   ]
  },
  {
   "cell_type": "code",
   "execution_count": 238,
   "metadata": {},
   "outputs": [],
   "source": [
    "df = df.rename(columns={\"Степень_оч\": \"id\",\n",
    "                        \"Наим_оч\": \"name\"\n",
    "                       })"
   ]
  },
  {
   "cell_type": "code",
   "execution_count": 239,
   "metadata": {},
   "outputs": [],
   "source": [
    "cursor.execute(open(\"sql_server/44.sql\", \"r\").read())\n",
    "conn.commit()"
   ]
  },
  {
   "cell_type": "code",
   "execution_count": 240,
   "metadata": {},
   "outputs": [],
   "source": [
    "execute_values(df, \"corr_prot_cleaning_degrees\")"
   ]
  },
  {
   "cell_type": "markdown",
   "metadata": {},
   "source": [
    "<h1>Варианты антикоррозионной защиты </h1>"
   ]
  },
  {
   "cell_type": "code",
   "execution_count": 241,
   "metadata": {},
   "outputs": [],
   "source": [
    "df = pd.read_sql_query('SELECT * FROM Pro_t.dbo.Варианты_аз', db_conn)"
   ]
  },
  {
   "cell_type": "code",
   "execution_count": 242,
   "metadata": {},
   "outputs": [],
   "source": [
    "df[\"Тип_лп\"] = df[\"Тип_лп\"].str.strip()\n",
    "df[\"Стойкость_лп\"] = df[\"Стойкость_лп\"].str.strip()"
   ]
  },
  {
   "cell_type": "code",
   "execution_count": 243,
   "metadata": {},
   "outputs": [],
   "source": [
    "df = df.replace(\"\", np.nan)"
   ]
  },
  {
   "cell_type": "code",
   "execution_count": 244,
   "metadata": {},
   "outputs": [],
   "source": [
    "df = df.drop_duplicates()"
   ]
  },
  {
   "cell_type": "code",
   "execution_count": 245,
   "metadata": {},
   "outputs": [],
   "source": [
    "df = df.drop_duplicates(subset=[\"Зона_экс\", \"Группа_газов\", \"Агресс_ср\", \"Матер_к\", \"Тип_лп\", \"Группа_лп\", \"Стойкость_лп\"])"
   ]
  },
  {
   "cell_type": "code",
   "execution_count": 246,
   "metadata": {},
   "outputs": [],
   "source": [
    "paintwork = pd.read_csv(\"paintwork.csv\")\n",
    "paintwork = paintwork.drop([\"Unnamed: 0\"], axis=1)"
   ]
  },
  {
   "cell_type": "code",
   "execution_count": 247,
   "metadata": {},
   "outputs": [],
   "source": [
    "for index, row in df.iterrows():\n",
    "    try:\n",
    "        df.loc[index, \"paintwork_type_id\"] = paintwork.loc[paintwork[\"name\"] == row[\"Тип_лп\"], \"id\"].values[0]\n",
    "    except:\n",
    "        df.loc[index, \"paintwork_type_id\"] = None"
   ]
  },
  {
   "cell_type": "code",
   "execution_count": 248,
   "metadata": {},
   "outputs": [],
   "source": [
    "paintwork_fastness = pd.read_csv(\"paintwork_fastness.csv\")\n",
    "paintwork_fastness = paintwork_fastness.drop([\"Unnamed: 0\"], axis=1)"
   ]
  },
  {
   "cell_type": "code",
   "execution_count": 249,
   "metadata": {},
   "outputs": [],
   "source": [
    "for index, row in df.iterrows():\n",
    "    try:\n",
    "        df.loc[index, \"paintwork_fastness_id\"] = paintwork_fastness.loc[paintwork_fastness[\"name\"] == row[\"Стойкость_лп\"], \"id\"].values[0]\n",
    "    except:\n",
    "        df.loc[index, \"paintwork_fastness_id\"] = None"
   ]
  },
  {
   "cell_type": "code",
   "execution_count": 250,
   "metadata": {},
   "outputs": [],
   "source": [
    "df = df.drop([\"Тип_лп\", \"Стойкость_лп\"], axis=1)"
   ]
  },
  {
   "cell_type": "code",
   "execution_count": 251,
   "metadata": {},
   "outputs": [],
   "source": [
    "df[\"Группа_газов\"] += 1\n",
    "df[\"Агресс_ср\"] += 1\n",
    "df[\"Матер_к\"] += 1"
   ]
  },
  {
   "cell_type": "code",
   "execution_count": 252,
   "metadata": {},
   "outputs": [],
   "source": [
    "df = df.rename(columns={\"Вариант\": \"id\",\n",
    "                        \"Зона_экс\": \"operating_area_id\",\n",
    "                        \"Группа_газов\": \"gas_group_id\",\n",
    "                        \"Агресс_ср\": \"env_aggressiveness_id\",\n",
    "                        \"Матер_к\": \"construction_material_id\",\n",
    "                        \"Группа_лп\": \"paintwork_group\",\n",
    "                        \"Кол_слоев_лп\": \"paintwork_num_of_layers\",\n",
    "                        \"Толщ_лпгр\": \"paintwork_primer_thickness\",\n",
    "                        \"Кол_слоев_гр\": \"primer_num_of_layers\",\n",
    "                        \"Степень_оч\": \"cleaning_degree_id\",\n",
    "                        \"Статус_аз\": \"status\"\n",
    "                       })"
   ]
  },
  {
   "cell_type": "code",
   "execution_count": 253,
   "metadata": {},
   "outputs": [],
   "source": [
    "df = df.where(pd.notnull(df), None)"
   ]
  },
  {
   "cell_type": "code",
   "execution_count": 254,
   "metadata": {},
   "outputs": [],
   "source": [
    "cursor.execute(open(\"sql_server/1.sql\", \"r\").read())\n",
    "conn.commit()"
   ]
  },
  {
   "cell_type": "code",
   "execution_count": 255,
   "metadata": {},
   "outputs": [],
   "source": [
    "execute_values(df, \"corr_prot_variants\")"
   ]
  },
  {
   "cell_type": "markdown",
   "metadata": {},
   "source": [
    "<h1>Способы антикоррозионной защиты</h1>"
   ]
  },
  {
   "cell_type": "code",
   "execution_count": 256,
   "metadata": {},
   "outputs": [],
   "source": [
    "df = pd.read_sql_query('SELECT * FROM Pro_t.dbo.Способы_аз', db_conn)"
   ]
  },
  {
   "cell_type": "code",
   "execution_count": 257,
   "metadata": {},
   "outputs": [],
   "source": [
    "df[\"Наим_сп\"] = df[\"Наим_сп\"].str.strip()"
   ]
  },
  {
   "cell_type": "code",
   "execution_count": 258,
   "metadata": {},
   "outputs": [],
   "source": [
    "df[\"Агресс_ср\"] += 1\n",
    "df[\"Матер_к\"] += 1"
   ]
  },
  {
   "cell_type": "code",
   "execution_count": 259,
   "metadata": {},
   "outputs": [],
   "source": [
    "df.insert(0, 'id', range(1, len(df) + 1))"
   ]
  },
  {
   "cell_type": "code",
   "execution_count": 260,
   "metadata": {},
   "outputs": [],
   "source": [
    "df = df.rename(columns={\"Агресс_ср\": \"env_aggressiveness_id\",\n",
    "                        \"Матер_к\": \"construction_material_id\",\n",
    "                        \"Наим_сп\": \"name\",\n",
    "                        \"Статус_сп\": \"status\"\n",
    "                       })"
   ]
  },
  {
   "cell_type": "code",
   "execution_count": 261,
   "metadata": {},
   "outputs": [],
   "source": [
    "cursor.execute(open(\"sql_server/19.sql\", \"r\").read())\n",
    "conn.commit()"
   ]
  },
  {
   "cell_type": "code",
   "execution_count": 262,
   "metadata": {},
   "outputs": [],
   "source": [
    "execute_values(df, \"corr_prot_methods\")"
   ]
  },
  {
   "cell_type": "markdown",
   "metadata": {},
   "source": [
    "<h1>Покрытия антикоррозионной защиты</h1>"
   ]
  },
  {
   "cell_type": "code",
   "execution_count": 263,
   "metadata": {},
   "outputs": [],
   "source": [
    "df = pd.read_sql_query('SELECT * FROM Pro_t.dbo.Покрытия_аз', db_conn)"
   ]
  },
  {
   "cell_type": "code",
   "execution_count": 264,
   "metadata": {},
   "outputs": [],
   "source": [
    "df = df.replace(\"\", None)"
   ]
  },
  {
   "cell_type": "code",
   "execution_count": 265,
   "metadata": {},
   "outputs": [],
   "source": [
    "df[\"Тип_лп\"] = df[\"Тип_лп\"].str.strip()\n",
    "df[\"Стойкость_лп\"] = df[\"Стойкость_лп\"].str.strip()\n",
    "df[\"Наим_лп\"] = df[\"Наим_лп\"].str.strip()"
   ]
  },
  {
   "cell_type": "code",
   "execution_count": 266,
   "metadata": {},
   "outputs": [],
   "source": [
    "df[\"Приоритет\"] = df[\"Приоритет\"].map(lambda x: 0 if pd.isna(x) else x)"
   ]
  },
  {
   "cell_type": "code",
   "execution_count": 267,
   "metadata": {},
   "outputs": [],
   "source": [
    "df = df.drop_duplicates(subset=[\"Тип_лп\", \"Группа_лп\", \"Стойкость_лп\", \"Наим_лп\"])"
   ]
  },
  {
   "cell_type": "code",
   "execution_count": 268,
   "metadata": {},
   "outputs": [],
   "source": [
    "paintwork = pd.read_csv(\"paintwork.csv\")\n",
    "paintwork = paintwork.drop([\"Unnamed: 0\"], axis=1)"
   ]
  },
  {
   "cell_type": "code",
   "execution_count": 269,
   "metadata": {},
   "outputs": [],
   "source": [
    "for index, row in df.iterrows():\n",
    "    try:\n",
    "        df.loc[index, \"paintwork_type_id\"] = paintwork.loc[paintwork[\"name\"] == row[\"Тип_лп\"], \"id\"].values[0]\n",
    "    except:\n",
    "        df.loc[index, \"paintwork_type_id\"] = None"
   ]
  },
  {
   "cell_type": "code",
   "execution_count": 270,
   "metadata": {},
   "outputs": [],
   "source": [
    "paintwork_fastness = pd.read_csv(\"paintwork_fastness.csv\")\n",
    "paintwork_fastness = paintwork_fastness.drop([\"Unnamed: 0\"], axis=1)"
   ]
  },
  {
   "cell_type": "code",
   "execution_count": 271,
   "metadata": {},
   "outputs": [],
   "source": [
    "for index, row in df.iterrows():\n",
    "    try:\n",
    "        df.loc[index, \"paintwork_fastness_id\"] = paintwork_fastness.loc[paintwork_fastness[\"name\"] == row[\"Стойкость_лп\"], \"id\"].values[0]\n",
    "    except:\n",
    "        df.loc[index, \"paintwork_fastness_id\"] = None"
   ]
  },
  {
   "cell_type": "code",
   "execution_count": 272,
   "metadata": {},
   "outputs": [],
   "source": [
    "df = df.drop([\"Тип_лп\", \"Стойкость_лп\"], axis=1)"
   ]
  },
  {
   "cell_type": "code",
   "execution_count": 273,
   "metadata": {},
   "outputs": [],
   "source": [
    "df = df.rename(columns={\"Покрытие\": \"id\",\n",
    "                        \"Группа_лп\": \"paintwork_group\",\n",
    "                        \"Наим_лп\": \"name\",\n",
    "                        \"Кол_сл_лп\": \"paintwork_num_of_layers\",\n",
    "                        \"Группа_гр\": \"primer_group\",\n",
    "                        \"Можно_лп\": \"can_be_painted\",\n",
    "                        \"Приоритет\": \"priority\"\n",
    "                       })"
   ]
  },
  {
   "cell_type": "code",
   "execution_count": 274,
   "metadata": {},
   "outputs": [],
   "source": [
    "df = df.where(pd.notnull(df), None)"
   ]
  },
  {
   "cell_type": "code",
   "execution_count": 275,
   "metadata": {},
   "outputs": [],
   "source": [
    "cursor.execute(open(\"sql_server/17.sql\", \"r\").read())\n",
    "conn.commit()"
   ]
  },
  {
   "cell_type": "code",
   "execution_count": 276,
   "metadata": {},
   "outputs": [],
   "source": [
    "execute_values(df, \"corr_prot_coatings\")"
   ]
  },
  {
   "cell_type": "markdown",
   "metadata": {},
   "source": [
    "<h1>Виды конструкций</h1>"
   ]
  },
  {
   "cell_type": "code",
   "execution_count": 326,
   "metadata": {},
   "outputs": [],
   "source": [
    "df = pd.read_sql_query('SELECT * FROM Pro_t.dbo.Спр_видов_к', db_conn)"
   ]
  },
  {
   "cell_type": "code",
   "execution_count": 327,
   "metadata": {},
   "outputs": [],
   "source": [
    "df[\"Имя_к\"] = df[\"Имя_к\"].str.strip()"
   ]
  },
  {
   "cell_type": "code",
   "execution_count": 328,
   "metadata": {},
   "outputs": [],
   "source": [
    "df = df[df[\"Имя_к\"].isna() == False]"
   ]
  },
  {
   "cell_type": "code",
   "execution_count": 329,
   "metadata": {},
   "outputs": [],
   "source": [
    "df = df.rename(columns={\"Шифр_к\": \"id\",\n",
    "                        \"Имя_к\": \"name\"\n",
    "                       })"
   ]
  },
  {
   "cell_type": "code",
   "execution_count": 330,
   "metadata": {},
   "outputs": [],
   "source": [
    "df.loc[df[\"id\"] == 2, \"name\"] = \"Двухветвевые колонны одноэтажных производственных зданий и крановых эстакад\"\n",
    "df.loc[df[\"id\"] == 9, \"name\"] = \"Подкраново-подстропильные фермы\"\n",
    "df.loc[df[\"id\"] == 34, \"name\"] = \"Переплеты, витражи из профильных труб с деталями крепления\""
   ]
  },
  {
   "cell_type": "code",
   "execution_count": 331,
   "metadata": {},
   "outputs": [],
   "source": [
    "cursor.execute(open(\"sql_server/22.sql\", \"r\").read())\n",
    "conn.commit()"
   ]
  },
  {
   "cell_type": "code",
   "execution_count": 332,
   "metadata": {},
   "outputs": [],
   "source": [
    "execute_values(df, \"construction_types\")"
   ]
  },
  {
   "cell_type": "markdown",
   "metadata": {},
   "source": [
    "<h1>Подвиды конструкций</h1>"
   ]
  },
  {
   "cell_type": "code",
   "execution_count": 333,
   "metadata": {},
   "outputs": [],
   "source": [
    "df = pd.read_sql_query('SELECT * FROM Pro_t.dbo.Спр_видов_пк', db_conn)"
   ]
  },
  {
   "cell_type": "code",
   "execution_count": 334,
   "metadata": {},
   "outputs": [],
   "source": [
    "df[\"Имя_пк\"] = df[\"Имя_пк\"].str.strip()\n",
    "df[\"Расценка\"] = df[\"Расценка\"].str.strip()"
   ]
  },
  {
   "cell_type": "code",
   "execution_count": 335,
   "metadata": {},
   "outputs": [],
   "source": [
    "df = df.drop_duplicates()"
   ]
  },
  {
   "cell_type": "code",
   "execution_count": 336,
   "metadata": {},
   "outputs": [],
   "source": [
    "df = df.drop([\"Шифр_пк\"], axis=1)"
   ]
  },
  {
   "cell_type": "code",
   "execution_count": 337,
   "metadata": {},
   "outputs": [],
   "source": [
    "df = df.rename(columns={\"Поз_пк\": \"id\",\n",
    "                        \"Шифр_к\": \"type_id\",\n",
    "                        \"Имя_пк\": \"name\",\n",
    "                        \"Расценка\": \"valuation\"\n",
    "                       })"
   ]
  },
  {
   "cell_type": "code",
   "execution_count": 338,
   "metadata": {},
   "outputs": [],
   "source": [
    "df.loc[df[\"id\"] == 11, \"name\"] = \"высотой свыше 150 м, поставляемые отдельными элементами\"\n",
    "df.loc[df[\"id\"] == 14, \"name\"] = \"коробчатого сечения пролетом 12 м и более\"\n",
    "df.loc[df[\"id\"] == 33, \"name\"] = \"с шагом стропильных ферм 6 м\"\n",
    "df.loc[df[\"id\"] == 34, \"name\"] = \"с шагом стропильных ферм 12 м\"\n",
    "df.loc[df[\"id\"] == 49, \"name\"] = \"составного сечения из горячекатаных профилей, соединенных планками\"\n",
    "df.loc[df[\"id\"] == 51, \"name\"] = \"ветви из двутавров с парал. гранями полок, решетка из г/кат. уголков и швеллеров\"\n",
    "df.loc[df[\"id\"] == 52, \"name\"] = \"ветви из двутавров (ГОСТ 8239-72) или швеллеров и решетка из г/кат. уголков\"\n",
    "df.loc[df[\"id\"] == 69, \"name\"] = \"с поясами из тавров, стенкой из листовой стали, пролетом 6 м, массой 1 м,т:\"\n",
    "df.loc[df[\"id\"] == 70, \"name\"] = \"с поясами из тавров, стенкой из листовой стали, пролетом 12 м и более,т:\"\n",
    "df.loc[df[\"id\"] == 71, \"name\"] = \"из листовой стали пролетом 6 м, массой 1 м,т:\"\n",
    "df.loc[df[\"id\"] == 72, \"name\"] = \"из листовой стали пролетом 12 м, массой 1 м,т:\"\n",
    "df.loc[df[\"id\"] == 83, \"name\"] = \"пролетом 12 м, решетчатые из г/кат. и гнутых профилей, масса 1 м до 0.4 т\"\n",
    "df.loc[df[\"id\"] == 84, \"name\"] = \"пролетом 12 м, решетчатые из г/кат. и гнутых профилей, масса 1 м свыше 0.4 т\"\n",
    "df.loc[df[\"id\"] == 85, \"name\"] = \"пролетом 12 м, решетчатые сост. сечения из листовой стали, масса 1 м до 0.4 т\"\n",
    "df.loc[df[\"id\"] == 86, \"name\"] = \"пролетом 12 м, решетчатые сост. сечения из листовой стали, масса 1 м свыше 0.4 т\"\n",
    "df.loc[df[\"id\"] == 87, \"name\"] = \"составного сечения из листовой стали, масса 1 м,т:\"\n",
    "df.loc[df[\"id\"] == 88, \"name\"] = \"составного сечения из двух и более уголков или швеллеров, масса 1 м,т:\"\n",
    "df.loc[df[\"id\"] == 89, \"name\"] = \"из двутавров с параллельными гранями полок, масса 1 м,т:\"\n",
    "df.loc[df[\"id\"] == 90, \"name\"] = \"составного сечения из листовой стали с верхним опиранием настила, масса марки,т:\"\n",
    "df.loc[df[\"id\"] == 91, \"name\"] = \"составного сечения при пониженном опирании настила, масса марки,т:\"\n",
    "df.loc[df[\"id\"] == 92, \"name\"] = \"из двутавров с парал. гранями полок с верхним опиранием настила, масса до 1 т\"\n",
    "df.loc[df[\"id\"] == 93, \"name\"] = \"из двутавров с парал. гранями полок с верхним опиранием настила, масса свыше 1 т\"\n",
    "df.loc[df[\"id\"] == 94, \"name\"] = \"из двутавров с парал. гранями полок с пониж. опиранием настила, масса до 1 т\"\n",
    "df.loc[df[\"id\"] == 95, \"name\"] = \"из двутавров с парал. гранями полок с пониж. опиранием настила, масса свыше 1 т\"\n",
    "df.loc[df[\"id\"] == 113, \"name\"] = \"фермы из парных уголков и тавров, попер. балки из двутавров, масса 1 м до 0.5 т\"\n",
    "df.loc[df[\"id\"] == 114, \"name\"] = \"фермы из парных уголков и тавров, попер. балки из двутавров, масса 1 м до 1 т\"\n",
    "df.loc[df[\"id\"] == 115, \"name\"] = \"фермы из парных уголков и тавров, попер. балки из двутавров, масса 1 м свыше 1 т\""
   ]
  },
  {
   "cell_type": "code",
   "execution_count": 339,
   "metadata": {},
   "outputs": [],
   "source": [
    "cursor.execute(open(\"sql_server/24.sql\", \"r\").read())\n",
    "conn.commit()"
   ]
  },
  {
   "cell_type": "code",
   "execution_count": 340,
   "metadata": {},
   "outputs": [],
   "source": [
    "execute_values(df, \"construction_subtypes\")"
   ]
  },
  {
   "cell_type": "markdown",
   "metadata": {},
   "source": [
    "<h1>Типовые наименования листов</h1>"
   ]
  },
  {
   "cell_type": "code",
   "execution_count": 341,
   "metadata": {},
   "outputs": [],
   "source": [
    "df = pd.read_sql_query('SELECT * FROM Pro_t.dbo.Спр_листов_н', db_conn)"
   ]
  },
  {
   "cell_type": "code",
   "execution_count": 342,
   "metadata": {},
   "outputs": [],
   "source": [
    "df[\"ш_листа\"] = df[\"ш_листа\"].str.strip()"
   ]
  },
  {
   "cell_type": "code",
   "execution_count": 343,
   "metadata": {},
   "outputs": [],
   "source": [
    "df = df.rename(columns={\"ш_номер\": \"id\",\n",
    "                        \"ш_листа\": \"name\"\n",
    "                       })"
   ]
  },
  {
   "cell_type": "code",
   "execution_count": 344,
   "metadata": {},
   "outputs": [],
   "source": [
    "cursor.execute(open(\"sql_server/27.sql\", \"r\").read())\n",
    "conn.commit()"
   ]
  },
  {
   "cell_type": "code",
   "execution_count": 345,
   "metadata": {},
   "outputs": [],
   "source": [
    "execute_values(df, \"sheet_names\")"
   ]
  },
  {
   "cell_type": "markdown",
   "metadata": {},
   "source": [
    "<h1>Виды ссылочных документов</h1>"
   ]
  },
  {
   "cell_type": "code",
   "execution_count": 346,
   "metadata": {},
   "outputs": [],
   "source": [
    "df = pd.read_sql_query('SELECT * FROM Pro_t.dbo.Спр_ссыл_в', db_conn)"
   ]
  },
  {
   "cell_type": "code",
   "execution_count": 347,
   "metadata": {},
   "outputs": [],
   "source": [
    "df[\"Наим_вида\"] = df[\"Наим_вида\"].str.strip()\n",
    "df[\"Наим_вида\"] = df[\"Наим_вида\"].str.capitalize()"
   ]
  },
  {
   "cell_type": "code",
   "execution_count": 348,
   "metadata": {},
   "outputs": [],
   "source": [
    "df = df.drop_duplicates(subset=[\"Наим_вида\"])"
   ]
  },
  {
   "cell_type": "code",
   "execution_count": 349,
   "metadata": {},
   "outputs": [],
   "source": [
    "df = df.rename(columns={\"Вид_сд\": \"id\",\n",
    "                        \"Наим_вида\": \"name\"\n",
    "                       })"
   ]
  },
  {
   "cell_type": "code",
   "execution_count": 350,
   "metadata": {},
   "outputs": [],
   "source": [
    "cursor.execute(open(\"sql_server/40.sql\", \"r\").read())\n",
    "conn.commit()"
   ]
  },
  {
   "cell_type": "code",
   "execution_count": 351,
   "metadata": {},
   "outputs": [],
   "source": [
    "execute_values(df, \"linked_doc_types\")"
   ]
  },
  {
   "cell_type": "markdown",
   "metadata": {},
   "source": [
    "<h1>Ссылочные документы</h1>"
   ]
  },
  {
   "cell_type": "code",
   "execution_count": 352,
   "metadata": {},
   "outputs": [],
   "source": [
    "df = pd.read_sql_query('SELECT * FROM Pro_t.dbo.Спр_ссыл', db_conn)"
   ]
  },
  {
   "cell_type": "code",
   "execution_count": 353,
   "metadata": {},
   "outputs": [],
   "source": [
    "df = df.replace(\"\", np.nan)"
   ]
  },
  {
   "cell_type": "code",
   "execution_count": 354,
   "metadata": {},
   "outputs": [],
   "source": [
    "df = df.dropna()"
   ]
  },
  {
   "cell_type": "code",
   "execution_count": 355,
   "metadata": {},
   "outputs": [],
   "source": [
    "df = df.drop_duplicates(subset=[\"Шифр_сд\"])"
   ]
  },
  {
   "cell_type": "code",
   "execution_count": 356,
   "metadata": {},
   "outputs": [],
   "source": [
    "df = df.reset_index(drop=True)"
   ]
  },
  {
   "cell_type": "code",
   "execution_count": 357,
   "metadata": {},
   "outputs": [],
   "source": [
    "df[\"Шифр_сд\"] = df[\"Шифр_сд\"].str.strip()\n",
    "df[\"Обозн_сд\"] = df[\"Обозн_сд\"].str.strip()\n",
    "df[\"Наим_сд\"] = df[\"Наим_сд\"].str.strip()"
   ]
  },
  {
   "cell_type": "code",
   "execution_count": 358,
   "metadata": {},
   "outputs": [],
   "source": [
    "for i in range(0, len(df)):\n",
    "    arr = df[\"Наим_сд\"][i].split()\n",
    "    new_str = ' '.join(arr)\n",
    "    df.at[i, \"Наим_сд\"] = new_str"
   ]
  },
  {
   "cell_type": "code",
   "execution_count": 359,
   "metadata": {},
   "outputs": [],
   "source": [
    "df[\"Наим_сд\"] = df[\"Наим_сд\"].str.replace(\"возду ха\", \"воздуха\")\n",
    "df[\"Наим_сд\"] = df[\"Наим_сд\"].str.replace(\"Материриалы\", \"Материалы\")\n",
    "df[\"Наим_сд\"] = df[\"Наим_сд\"].str.replace(\"рекоментации\", \"рекомендации\")\n",
    "df[\"Наим_сд\"] = df[\"Наим_сд\"].str.replace(\"рас пашные\", \"распашные\")\n",
    "df[\"Наим_сд\"] = df[\"Наим_сд\"].str.replace(\"металличе ческих\", \"металлических\")\n",
    "df[\"Наим_сд\"] = df[\"Наим_сд\"].str.replace(\"металличе ских\", \"металлических\")\n",
    "df[\"Наим_сд\"] = df[\"Наим_сд\"].str.replace(\"электри ческие\", \"электрические\")\n",
    "df[\"Наим_сд\"] = df[\"Наим_сд\"].str.replace(\"кра ны\", \"краны\")\n",
    "df[\"Наим_сд\"] = df[\"Наим_сд\"].str.replace(\"примене нием\", \"применением\")\n",
    "df[\"Наим_сд\"] = df[\"Наим_сд\"].str.replace(\"обслуживани сосудов\", \"обслуживания сосудов\")\n",
    "df[\"Наим_сд\"] = df[\"Наим_сд\"].str.replace(\"пе реплетами\", \"переплетами\")\n",
    "df[\"Наим_сд\"] = df[\"Наим_сд\"].str.replace(\"за полнением\", \"заполнением\")\n",
    "df[\"Наим_сд\"] = df[\"Наим_сд\"].str.replace(\"линй\", \"линий\")\n",
    "df[\"Наим_сд\"] = df[\"Наим_сд\"].str.replace(\"мосто вые\", \"мостовые\")\n",
    "df[\"Наим_сд\"] = df[\"Наим_сд\"].str.replace(\"покрыти ем\", \"покрытием\")\n",
    "df[\"Наим_сд\"] = df[\"Наим_сд\"].str.replace(\"со кращенному\", \"сокращенному\")\n",
    "df[\"Наим_сд\"] = df[\"Наим_сд\"].str.replace(\"покрытияпролетами\", \"покрытия пролетами\")\n",
    "df[\"Наим_сд\"] = df[\"Наим_сд\"].str.replace(\"широкополочныых\", \"широкополочных\")\n",
    "df[\"Наим_сд\"] = df[\"Наим_сд\"].str.replace(\"тав ров\", \"тавров\")\n",
    "df[\"Наим_сд\"] = df[\"Наим_сд\"].str.replace(\"зда ний\", \"зданий\")\n",
    "df[\"Наим_сд\"] = df[\"Наим_сд\"].str.replace(\"ремонтно -монтажных\", \"ремонтно-монтажных\")\n",
    "df[\"Наим_сд\"] = df[\"Наим_сд\"].str.replace(\"пок рытия\", \"покрытия\")\n",
    "df[\"Наим_сд\"] = df[\"Наим_сд\"].str.replace(\"профилирован ным\", \"профилированным\")\n",
    "df[\"Наим_сд\"] = df[\"Наим_сд\"].str.replace(\"стеклои минераловатных\", \"стекло и минераловатных\")\n",
    "df[\"Наим_сд\"] = df[\"Наим_сд\"].str.replace(\"окон,дверей\", \"окон, дверей\")\n",
    "df[\"Наим_сд\"] = df[\"Наим_сд\"].str.replace(\"пром.зданий\", \"пром. зданий\")\n",
    "df[\"Наим_сд\"] = df[\"Наим_сд\"].str.replace(\"строитель ные\", \"строительные\")\n",
    "df[\"Наим_сд\"] = df[\"Наим_сд\"].str.replace(\"сталь ные\", \"стальные\")\n",
    "df[\"Наим_сд\"] = df[\"Наим_сд\"].str.replace(\"наруж ного\", \"наружного\")\n",
    "df[\"Наим_сд\"] = df[\"Наим_сд\"].str.replace(\"ветров.район.\", \"ветров. район.\")\n",
    "df[\"Наим_сд\"] = df[\"Наим_сд\"].str.replace(\"выше и ниже -40 град.с.  ше и ниже -40 град.с.\", \"выше -40 град.с. и ниже -40 град.с.\")\n",
    "df[\"Наим_сд\"] = df[\"Наим_сд\"].str.replace(\"алю миниевых\", \"алюминиевых\")\n",
    "df[\"Наим_сд\"] = df[\"Наим_сд\"].str.replace(\"зданий,промышленных\", \"зданий, промышленных\")\n",
    "df[\"Наим_сд\"] = df[\"Наим_сд\"].str.replace(\"предприятий.шарнирные\", \"предприятий. Шарнирные\")\n",
    "df[\"Наим_сд\"] = df[\"Наим_сд\"].str.replace(\"связей.Чертежи\", \"связей. Чертежи\")\n",
    "df[\"Наим_сд\"] = df[\"Наим_сд\"].str.replace(\"сталь ными\", \"стальными\")\n",
    "df[\"Наим_сд\"] = df[\"Наим_сд\"].str.replace(\"унифици рованных\", \"унифицированных\")\n",
    "df[\"Наим_сд\"] = df[\"Наим_сд\"].str.replace(\"уз лы\", \"узлы\")\n",
    "df[\"Наим_сд\"] = df[\"Наим_сд\"].str.replace(\"железобе тонных\", \"железобетонных\")\n",
    "df[\"Наим_сд\"] = df[\"Наим_сд\"].str.replace(\"метал лопроката\", \"металлопроката\")\n",
    "df[\"Наим_сд\"] = df[\"Наим_сд\"].str.replace(\"выпу ску\", \"выпуску\")\n",
    "df[\"Наим_сд\"] = df[\"Наим_сд\"].str.replace(\"откры вающиеся\", \"открывающиеся\")\n",
    "df[\"Наим_сд\"] = df[\"Наим_сд\"].str.replace(\"светоаэра ционных\", \"светоаэрационных\")\n",
    "df[\"Наим_сд\"] = df[\"Наим_сд\"].str.replace(\"проектирования.Рабочие\", \"проектирования. Рабочие\")\n",
    "df[\"Наим_сд\"] = df[\"Наим_сд\"].str.replace(\"черте жи\", \"чертежи\")\n",
    "df[\"Наим_сд\"] = df[\"Наим_сд\"].str.replace(\"опорн.кранами\", \"опорн. кранами\")\n",
    "df[\"Наим_сд\"] = df[\"Наим_сд\"].str.replace(\"опорынми кранами\", \"опорными кранами\")\n",
    "df[\"Наим_сд\"] = df[\"Наим_сд\"].str.replace(\"несущ.конструкций\", \"несущ. конструкций\")\n",
    "df[\"Наим_сд\"] = df[\"Наим_сд\"].str.replace(\"подв.кранами\", \"подв. кранами\")\n",
    "df[\"Наим_сд\"] = df[\"Наим_сд\"].str.replace(\"кровлей,оборудованных\", \"кровлей, оборудованных\")\n",
    "df[\"Наим_сд\"] = df[\"Наим_сд\"].str.replace(\"одноэт.произв\", \"одноэт. произв\")\n",
    "df[\"Наим_сд\"] = df[\"Наим_сд\"].str.replace(\"произв.зданий\", \"произв. зданий\")\n",
    "df[\"Наим_сд\"] = df[\"Наим_сд\"].str.replace(\"кровлей,оборудованных\", \"кровлей, оборудованных\")\n",
    "df[\"Наим_сд\"] = df[\"Наим_сд\"].str.replace(\"специальн.назначения\", \"специальн. назначения\")\n",
    "df[\"Наим_сд\"] = df[\"Наим_сд\"].str.replace(\"зданий,оборудованных\", \"зданий, оборудованных\")\n",
    "df[\"Наим_сд\"] = df[\"Наим_сд\"].str.replace(\"две рей\", \"дверей\")"
   ]
  },
  {
   "cell_type": "code",
   "execution_count": 360,
   "metadata": {},
   "outputs": [],
   "source": [
    "df = df.drop_duplicates(subset=[\"Наим_сд\"])"
   ]
  },
  {
   "cell_type": "code",
   "execution_count": 361,
   "metadata": {},
   "outputs": [],
   "source": [
    "df.loc[df[\"Наим_сд\"].str.endswith('.') == False, \"Наим_сд\"] = df[df[\"Наим_сд\"].str.endswith('.') == False][\"Наим_сд\"] + '.'"
   ]
  },
  {
   "cell_type": "code",
   "execution_count": 362,
   "metadata": {},
   "outputs": [],
   "source": [
    "df.insert(0, 'id', range(1, len(df) + 1))"
   ]
  },
  {
   "cell_type": "code",
   "execution_count": 363,
   "metadata": {},
   "outputs": [],
   "source": [
    "df = df.rename(columns={\"Шифр_сд\": \"code\",\n",
    "                        \"Вид_сд\": \"type_id\",\n",
    "                        \"Обозн_сд\": \"designation\",\n",
    "                        \"Наим_сд\": \"name\"\n",
    "                       })"
   ]
  },
  {
   "cell_type": "code",
   "execution_count": 364,
   "metadata": {},
   "outputs": [],
   "source": [
    "cursor.execute(open(\"sql_server/39.sql\", \"r\").read())\n",
    "conn.commit()"
   ]
  },
  {
   "cell_type": "code",
   "execution_count": null,
   "metadata": {
    "scrolled": true
   },
   "outputs": [],
   "source": [
    "execute_values(df, \"linked_docs\")"
   ]
  },
  {
   "cell_type": "markdown",
   "metadata": {},
   "source": [
    "<h1>Категории производства по пожарной и взрывопожарной опасности</h1>"
   ]
  },
  {
   "cell_type": "code",
   "execution_count": 386,
   "metadata": {},
   "outputs": [],
   "source": [
    "df = pd.read_sql_query('SELECT * FROM Pro_t.dbo.Категории_пр', db_conn)"
   ]
  },
  {
   "cell_type": "code",
   "execution_count": 387,
   "metadata": {},
   "outputs": [],
   "source": [
    "df = df.replace(\"\", np.nan)"
   ]
  },
  {
   "cell_type": "code",
   "execution_count": 388,
   "metadata": {},
   "outputs": [],
   "source": [
    "df = df.rename(columns={\"поз\": \"id\",\n",
    "                        \"Категория\": \"category\",\n",
    "                        \"Название\": \"name\",\n",
    "                        \"Текст_од\": \"description\"\n",
    "                       })"
   ]
  },
  {
   "cell_type": "code",
   "execution_count": 389,
   "metadata": {},
   "outputs": [],
   "source": [
    "df = df.where(pd.notnull(df), None)"
   ]
  },
  {
   "cell_type": "code",
   "execution_count": 384,
   "metadata": {},
   "outputs": [],
   "source": [
    "cursor.execute(open(\"sql_server/5.sql\", \"r\").read())\n",
    "conn.commit()"
   ]
  },
  {
   "cell_type": "code",
   "execution_count": 393,
   "metadata": {},
   "outputs": [
    {
     "ename": "ProgrammingError",
     "evalue": "('42000', \"[42000] [Microsoft][ODBC SQL Server Driver][SQL Server]String or binary data would be truncated in table 'DocumentsKM.dbo.FireHazardCategories', column 'Category'. Truncated value: ''. (2628) (SQLExecDirectW); [42000] [Microsoft][ODBC SQL Server Driver][SQL Server]The statement has been terminated. (3621)\")",
     "output_type": "error",
     "traceback": [
      "\u001b[1;31m---------------------------------------------------------------------------\u001b[0m",
      "\u001b[1;31mProgrammingError\u001b[0m                          Traceback (most recent call last)",
      "\u001b[1;32m<ipython-input-393-996d32d57ca3>\u001b[0m in \u001b[0;36m<module>\u001b[1;34m\u001b[0m\n\u001b[1;32m----> 1\u001b[1;33m \u001b[0mexecute_values\u001b[0m\u001b[1;33m(\u001b[0m\u001b[0mdf\u001b[0m\u001b[1;33m,\u001b[0m \u001b[1;34m\"fire_hazard_categories\"\u001b[0m\u001b[1;33m)\u001b[0m\u001b[1;33m\u001b[0m\u001b[0m\n\u001b[0m",
      "\u001b[1;32m<ipython-input-274-2af01ad8d5f9>\u001b[0m in \u001b[0;36mexecute_values\u001b[1;34m(df, table_snake_case, has_dentity)\u001b[0m\n\u001b[0;32m     25\u001b[0m \u001b[1;31m#         print(query)\u001b[0m\u001b[1;33m\u001b[0m\u001b[1;33m\u001b[0m\u001b[0m\n\u001b[0;32m     26\u001b[0m \u001b[1;31m#         print(*entry_list)\u001b[0m\u001b[1;33m\u001b[0m\u001b[1;33m\u001b[0m\u001b[0m\n\u001b[1;32m---> 27\u001b[1;33m         \u001b[0mcursor\u001b[0m\u001b[1;33m.\u001b[0m\u001b[0mexecute\u001b[0m\u001b[1;33m(\u001b[0m\u001b[0mquery\u001b[0m\u001b[1;33m,\u001b[0m \u001b[1;33m*\u001b[0m\u001b[0mentry_list\u001b[0m\u001b[1;33m)\u001b[0m\u001b[1;33m\u001b[0m\u001b[0m\n\u001b[0m\u001b[0;32m     28\u001b[0m     \u001b[1;32mif\u001b[0m \u001b[0mhas_dentity\u001b[0m\u001b[1;33m:\u001b[0m\u001b[1;33m\u001b[0m\u001b[0m\n\u001b[0;32m     29\u001b[0m         \u001b[0mcursor\u001b[0m\u001b[1;33m.\u001b[0m\u001b[0mexecute\u001b[0m\u001b[1;33m(\u001b[0m\u001b[1;34mf\"SET IDENTITY_INSERT dbo.{table} OFF\"\u001b[0m\u001b[1;33m)\u001b[0m\u001b[1;33m\u001b[0m\u001b[0m\n",
      "\u001b[1;31mProgrammingError\u001b[0m: ('42000', \"[42000] [Microsoft][ODBC SQL Server Driver][SQL Server]String or binary data would be truncated in table 'DocumentsKM.dbo.FireHazardCategories', column 'Category'. Truncated value: ''. (2628) (SQLExecDirectW); [42000] [Microsoft][ODBC SQL Server Driver][SQL Server]The statement has been terminated. (3621)\")"
     ]
    }
   ],
   "source": [
    "execute_values(df, \"fire_hazard_categories\")"
   ]
  },
  {
   "cell_type": "markdown",
   "metadata": {},
   "source": [
    "<h1>Проекты старые</h1>"
   ]
  },
  {
   "cell_type": "code",
   "execution_count": 399,
   "metadata": {},
   "outputs": [
    {
     "name": "stderr",
     "output_type": "stream",
     "text": [
      "C:\\Users\\sigla\\Anaconda3\\lib\\site-packages\\ipykernel_launcher.py:96: SettingWithCopyWarning: \n",
      "A value is trying to be set on a copy of a slice from a DataFrame.\n",
      "Try using .loc[row_indexer,col_indexer] = value instead\n",
      "\n",
      "See the caveats in the documentation: https://pandas.pydata.org/pandas-docs/stable/user_guide/indexing.html#returning-a-view-versus-a-copy\n"
     ]
    },
    {
     "ename": "ProgrammingError",
     "evalue": "('42000', \"[42000] [Microsoft][ODBC SQL Server Driver][SQL Server]Table 'dbo.EstimateTask' does not have the identity property. Cannot perform SET operation. (8106) (SQLExecDirectW)\")",
     "output_type": "error",
     "traceback": [
      "\u001b[1;31m---------------------------------------------------------------------------\u001b[0m",
      "\u001b[1;31mProgrammingError\u001b[0m                          Traceback (most recent call last)",
      "\u001b[1;32m<ipython-input-399-33a87269aa97>\u001b[0m in \u001b[0;36m<module>\u001b[1;34m\u001b[0m\n\u001b[0;32m    264\u001b[0m \u001b[0mconn\u001b[0m\u001b[1;33m.\u001b[0m\u001b[0mcommit\u001b[0m\u001b[1;33m(\u001b[0m\u001b[1;33m)\u001b[0m\u001b[1;33m\u001b[0m\u001b[0m\n\u001b[0;32m    265\u001b[0m \u001b[1;33m\u001b[0m\u001b[0m\n\u001b[1;32m--> 266\u001b[1;33m \u001b[0mexecute_values\u001b[0m\u001b[1;33m(\u001b[0m\u001b[0mdf_task\u001b[0m\u001b[1;33m,\u001b[0m \u001b[1;34m\"estimate_task\"\u001b[0m\u001b[1;33m)\u001b[0m\u001b[1;33m\u001b[0m\u001b[0m\n\u001b[0m\u001b[0;32m    267\u001b[0m \u001b[1;33m\u001b[0m\u001b[0m\n\u001b[0;32m    268\u001b[0m \u001b[0mdf\u001b[0m \u001b[1;33m=\u001b[0m \u001b[0mpd\u001b[0m\u001b[1;33m.\u001b[0m\u001b[0mread_sql_query\u001b[0m\u001b[1;33m(\u001b[0m\u001b[1;34m'SELECT * FROM Pro_t_londonSQL.dbo.ВыпСпец'\u001b[0m\u001b[1;33m,\u001b[0m \u001b[0mdb_conn\u001b[0m\u001b[1;33m)\u001b[0m\u001b[1;33m\u001b[0m\u001b[0m\n",
      "\u001b[1;32m<ipython-input-274-2af01ad8d5f9>\u001b[0m in \u001b[0;36mexecute_values\u001b[1;34m(df, table_snake_case, has_dentity)\u001b[0m\n\u001b[0;32m      4\u001b[0m     \u001b[0mtable\u001b[0m \u001b[1;33m=\u001b[0m \u001b[0mto_pascal_case\u001b[0m\u001b[1;33m(\u001b[0m\u001b[0mtable_snake_case\u001b[0m\u001b[1;33m)\u001b[0m\u001b[1;33m\u001b[0m\u001b[0m\n\u001b[0;32m      5\u001b[0m     \u001b[1;32mif\u001b[0m \u001b[0mhas_dentity\u001b[0m\u001b[1;33m:\u001b[0m\u001b[1;33m\u001b[0m\u001b[0m\n\u001b[1;32m----> 6\u001b[1;33m         \u001b[0mcursor\u001b[0m\u001b[1;33m.\u001b[0m\u001b[0mexecute\u001b[0m\u001b[1;33m(\u001b[0m\u001b[1;34mf\"SET IDENTITY_INSERT dbo.{table} ON\"\u001b[0m\u001b[1;33m)\u001b[0m\u001b[1;33m\u001b[0m\u001b[0m\n\u001b[0m\u001b[0;32m      7\u001b[0m     \u001b[0mtuples\u001b[0m \u001b[1;33m=\u001b[0m \u001b[1;33m[\u001b[0m\u001b[0mtuple\u001b[0m\u001b[1;33m(\u001b[0m\u001b[0mx\u001b[0m\u001b[1;33m)\u001b[0m \u001b[1;32mfor\u001b[0m \u001b[0mx\u001b[0m \u001b[1;32min\u001b[0m \u001b[0mdf\u001b[0m\u001b[1;33m.\u001b[0m\u001b[0mto_numpy\u001b[0m\u001b[1;33m(\u001b[0m\u001b[1;33m)\u001b[0m\u001b[1;33m]\u001b[0m\u001b[1;33m\u001b[0m\u001b[0m\n\u001b[0;32m      8\u001b[0m     \u001b[0mcols\u001b[0m \u001b[1;33m=\u001b[0m \u001b[1;34m','\u001b[0m\u001b[1;33m.\u001b[0m\u001b[0mjoin\u001b[0m\u001b[1;33m(\u001b[0m\u001b[0mlist\u001b[0m\u001b[1;33m(\u001b[0m\u001b[0mdf\u001b[0m\u001b[1;33m.\u001b[0m\u001b[0mcolumns\u001b[0m\u001b[1;33m)\u001b[0m\u001b[1;33m)\u001b[0m\u001b[1;33m\u001b[0m\u001b[0m\n",
      "\u001b[1;31mProgrammingError\u001b[0m: ('42000', \"[42000] [Microsoft][ODBC SQL Server Driver][SQL Server]Table 'dbo.EstimateTask' does not have the identity property. Cannot perform SET operation. (8106) (SQLExecDirectW)\")"
     ]
    }
   ],
   "source": [
    "df = pd.read_sql_query('SELECT * FROM Pro_t.dbo.Марки', db_conn)\n",
    "\n",
    "df = df.dropna(subset=[\"код_марки\", \"обозн\", \"комплекс\", \"объект\"])\n",
    "\n",
    "e_ids = pd.read_csv(\"employee_ids.csv\")\n",
    "e_ids = e_ids.drop([\"Unnamed: 0\"], axis=1)\n",
    "e_ids = e_ids.values.flatten().tolist()\n",
    "df.loc[df[\"гл_спец\"].isin(e_ids) == False, \"гл_спец\"] = None\n",
    "df.loc[df[\"рук_гр\"].isin(e_ids) == False, \"рук_гр\"] = None\n",
    "df.loc[df[\"н_контр\"].isin(e_ids) == False, \"н_контр\"] = None\n",
    "\n",
    "df = df[df[\"обозн\"].str.contains(\"демонтаж\") == False]\n",
    "df = df[df[\"обозн\"].str.contains(\"Мновый\") == False]\n",
    "df[\"обозн\"] = df[\"обозн\"].str.replace(\",\", \".\")\n",
    "\n",
    "df2 = pd.DataFrame(df[\"обозн\"].str.split('-КМ', 1).tolist(),\n",
    "                                 columns = ['first','code'])\n",
    "\n",
    "df = df.reset_index()\n",
    "df2 = df2.join(df)\n",
    "\n",
    "df2 = df2.dropna(subset=[\"code\"])\n",
    "\n",
    "df2[\"code\"] = \"КМ\" + df2[\"code\"]\n",
    "\n",
    "df3 = pd.DataFrame(df2[\"first\"].str.split('.', 1).tolist(),\n",
    "                                 columns = ['baseSeries','middle'])\n",
    "\n",
    "df2 = df2.reset_index()\n",
    "df3 = df3.reset_index()\n",
    "df4 = df2.join(df3[[\"baseSeries\", \"middle\"]])\n",
    "\n",
    "df4 = df4.drop([\"first\", \"index\"], axis=1)\n",
    "df4 = df4.rename(columns={\"код_марки\": \"id\"})\n",
    "\n",
    "df5 = pd.DataFrame(df4[\"middle\"].fillna(\"\").str.split('.', 1).tolist(),\n",
    "                                 columns = ['node','subnode'])\n",
    "\n",
    "df6 = pd.DataFrame(df5[\"subnode\"].fillna(\"\").str.split('-', 1).tolist(),\n",
    "                                 columns = ['subnode_part','node_part'])\n",
    "\n",
    "df5 = df5.reset_index()\n",
    "df6 = df6.reset_index()\n",
    "df7 = df5.join(df6[[\"subnode_part\", \"node_part\"]])\n",
    "\n",
    "df7[\"node_part\"] = \"-\" + df7[\"node_part\"]\n",
    "df7[\"node2\"] = df7[\"node\"] + df7[\"node_part\"].fillna(\"\")\n",
    "\n",
    "df4 = df4.reset_index(drop=True)\n",
    "df7 = df7.reset_index(drop=True)\n",
    "df8 = df4.join(df7[[\"node2\", \"subnode_part\"]])\n",
    "\n",
    "df8 = df8.rename(columns={\"node2\": \"nodeCode\", \"subnode_part\": \"subnodeCode\"})\n",
    "df8 = df8.drop([\"middle\"], axis=1)\n",
    "\n",
    "enc = OrdinalEncoder()\n",
    "res = enc.fit_transform(np.array(df8[\"baseSeries\"]).reshape(-1, 1))\n",
    "\n",
    "s = pd.DataFrame(pd.Series(res.flatten()) + 1)\n",
    "s = s.rename(columns={0: \"project_id\"})\n",
    "\n",
    "df9 = df8.join(s)\n",
    "\n",
    "projects_df = df9[[\"baseSeries\", \"комплекс\", \"project_id\"]]\n",
    "\n",
    "projects_df = projects_df.drop_duplicates(subset=[\"project_id\"])\n",
    "\n",
    "projects_df = projects_df.rename(columns={\"baseSeries\": \"base_series\", \"комплекс\": \"name\", \"project_id\": \"id\"})\n",
    "\n",
    "cursor.execute(open(\"sql_server/xx_projects.sql\", \"r\").read())\n",
    "conn.commit()\n",
    "\n",
    "execute_values(projects_df, \"projects\", False)\n",
    "\n",
    "df10 = pd.DataFrame(df9[\"объект\"].str.split('.', 1).tolist(),\n",
    "                                 columns = ['f_p','o_p'])\n",
    "\n",
    "df10 = df10.fillna(\"\")\n",
    "\n",
    "df11 = df9.join(df10)\n",
    "\n",
    "df11[\"node_feature\"] = df11[\"baseSeries\"] + df11[\"nodeCode\"]\n",
    "\n",
    "enc = OrdinalEncoder()\n",
    "res = enc.fit_transform(np.array(df11[\"node_feature\"]).reshape(-1, 1))\n",
    "\n",
    "s = pd.DataFrame(pd.Series(res.flatten()) + 1)\n",
    "s = s.rename(columns={0: \"node_id\"})\n",
    "\n",
    "df12 = df11.join(s)\n",
    "\n",
    "nodes_df = df12[[\"node_id\", \"f_p\", \"project_id\", \"nodeCode\"]]\n",
    "\n",
    "chiefEngineerIds = [1, 2, 3]\n",
    "\n",
    "nodes_df[\"chief_engineer\"] = random.choices(chiefEngineerIds, k=len(nodes_df))\n",
    "\n",
    "nodes_df = nodes_df.rename(columns={\"node_id\": \"id\", \"f_p\": \"name\", \"nodeCode\": \"code\", \"chief_engineer\": \"chief_engineer_id\"})\n",
    "\n",
    "nodes_df = nodes_df.drop_duplicates(subset=[\"id\"])\n",
    "\n",
    "cursor.execute(open(\"sql_server/xx_nodes.sql\", \"r\").read())\n",
    "conn.commit()\n",
    "\n",
    "execute_values(nodes_df, \"nodes\", False)\n",
    "\n",
    "df13 = pd.DataFrame(df12[\"o_p\"].str.split('.', 1).tolist(),\n",
    "                                 columns = ['s_p','m_p'])\n",
    "\n",
    "df13 = df13.fillna(\"\")\n",
    "\n",
    "df13[\"s_p\"] = df13[\"s_p\"].str.strip()\n",
    "df13[\"m_p\"] = df13[\"m_p\"].str.strip()\n",
    "\n",
    "df14 = df12.join(df13)\n",
    "\n",
    "df14[\"subnode_feature\"] = df11[\"node_feature\"] + df11[\"subnodeCode\"]\n",
    "\n",
    "enc = OrdinalEncoder()\n",
    "res = enc.fit_transform(np.array(df14[\"subnode_feature\"]).reshape(-1, 1))\n",
    "\n",
    "s = pd.DataFrame(pd.Series(res.flatten()) + 1)\n",
    "s = s.rename(columns={0: \"subnode_id\"})\n",
    "\n",
    "df15 = df14.join(s)\n",
    "\n",
    "subnodes_df = df15[[\"subnode_id\", \"node_id\", \"subnodeCode\", \"s_p\"]]\n",
    "\n",
    "subnodes_df = subnodes_df.rename(columns={\"subnode_id\": \"id\", \"s_p\": \"name\", \"subnodeCode\": \"code\"})\n",
    "\n",
    "subnodes_df = subnodes_df.drop_duplicates(subset=[\"id\"])\n",
    "\n",
    "cursor.execute(open(\"sql_server/xx_subnodes.sql\", \"r\").read())\n",
    "conn.commit()\n",
    "\n",
    "execute_values(subnodes_df, \"subnodes\", False)\n",
    "\n",
    "df15 = df15.drop([\"обозн\", \"комплекс\", \"объект\", \"level_0\", \"ОЗ_марки\"], axis=1)\n",
    "\n",
    "df15[\"t_эксплуат\"] = df15[\"t_эксплуат\"].str.replace(\"минус \", \"-\")\n",
    "df15[\"t_эксплуат\"] = df15[\"t_эксплуат\"].str.replace(\"плюс \", \"\")\n",
    "df15[\"t_эксплуат\"] = df15[\"t_эксплуат\"].str.replace(\"+\", \"\")\n",
    "df15[\"t_эксплуат\"] = df15[\"t_эксплуат\"].str.replace(\"- 39\", \"-39\")\n",
    "df15 = df15[df15[\"t_эксплуат\"] != \"-\"]\n",
    "df15 = df15[df15[\"t_эксплуат\"] != \"минус\"]\n",
    "df15[\"t_эксплуат\"] = df15[\"t_эксплуат\"].astype(\"float64\")\n",
    "\n",
    "df15[\"об_марки\"] = df15[\"об_марки\"].str.strip()\n",
    "df15[\"об_марки\"] = df15[\"об_марки\"].str.replace(\"KM\", \"КМ\")\n",
    "df15 = df15[df15[\"об_марки\"] != \"по\"]\n",
    "\n",
    "df15 = df15.drop([\"об_марки\"], axis=1)\n",
    "\n",
    "df15 = df15.drop([\"project_id\", \"f_p\", \"o_p\", \"s_p\", \"subnode_feature\", \"node_feature\", \"subnodeCode\"], axis=1)\n",
    "\n",
    "df15 = df15.drop([\"baseSeries\", \"nodeCode\", \"node_id\"], axis=1)\n",
    "\n",
    "df15[\"прим\"] = df15[\"прим\"].str.strip()\n",
    "df15[\"прим\"] = df15[\"прим\"].str.replace(\"\\r\\n       \", \" \")\n",
    "\n",
    "df15 = df15.drop([\"ДопКод\"], axis=1)\n",
    "\n",
    "df15[\"категория_пр\"] = 3\n",
    "\n",
    "df15[\"агрессивность\"] += 1\n",
    "df15[\"группа_газов\"] += 1\n",
    "df15[\"материал\"] += 1\n",
    "df15[\"вп_болты\"] += 1\n",
    "\n",
    "# Part\n",
    "df15.loc[df15[\"тип_ЛКМ\"] == \"ПФ\", \"тип_ЛКМ\"] = 1\n",
    "df15.loc[df15[\"тип_ЛКМ\"] == \"АУ\", \"тип_ЛКМ\"] = 2\n",
    "df15.loc[df15[\"тип_ЛКМ\"] == \"ЭЭ\", \"тип_ЛКМ\"] = 3\n",
    "df15.loc[df15[\"тип_ЛКМ\"] == \"МА\", \"тип_ЛКМ\"] = 4\n",
    "df15.loc[df15[\"тип_ЛКМ\"] == \"ПВ\", \"тип_ЛКМ\"] = 11\n",
    "\n",
    "df15 = df15.drop_duplicates(subset=[\"code\", \"subnode_id\"])\n",
    "\n",
    "df15_operating_cond = df15.copy()\n",
    "\n",
    "df15 = df15.rename(columns={\"код_отд\": \"department_id\",\n",
    "                            \"подп1\": \"signed1_id\",\n",
    "                            \"подп2\": \"signed2_id\",\n",
    "                            \"гл_спец\": \"chief_specialist_id\",\n",
    "                            \"рук_гр\": \"group_leader_id\",\n",
    "                            \"н_контр\": \"norm_contr_id\",\n",
    "                            \"дата_выд\": \"issue_date\",\n",
    "                            \"кол_томов\": \"num_of_volumes\",\n",
    "                            \"дата_ред\": \"edited_date\",\n",
    "                            \"коэф_надежн\": \"safety_coeff\",\n",
    "                            \"t_эксплуат\": \"operating_temp\",\n",
    "                            \"зона_эксплуат\": \"operating_zone\",\n",
    "                            \"группа_газов\": \"gas_group\",\n",
    "                            \"агрессивность\": \"aggressiveness\",\n",
    "                            \"материал\": \"material\",\n",
    "                            \"тип_ЛКМ\": \"paintwork_type\",\n",
    "                            \"прим\": \"note\",\n",
    "                            \"категория_пр\": \"fire_hazard_category_id\",\n",
    "                            \"вп_болты\": \"high_tensile_bolts\",\n",
    "                            \"п_транспорт\": \"p_transport\",\n",
    "                            \"п_площадки\": \"p_site\",\n",
    "                            \"10ХСНД\": \"xcnd\",\n",
    "                            \"ТекстЗдСм\": \"task_text\",\n",
    "                            \"ДопОбъемы\": \"additional_text\",\n",
    "                            \"ВесПоВМП\": \"vmp_weight\",\n",
    "                            \"ВыпЗдСм\": \"impl_3d_estimate\",\n",
    "                            \"m_p\": \"name\"\n",
    "                       })\n",
    "\n",
    "df15[\"issue_date\"] = df15[\"issue_date\"].astype(object).where(df15[\"issue_date\"].notnull(), None)\n",
    "df15[\"edited_date\"] = df15[\"edited_date\"].astype(object).where(df15[\"edited_date\"].notnull(), None)\n",
    "df15 = df15.where(pd.notnull(df15), None)\n",
    "\n",
    "df15[\"chief_specialist_id\"] = df15[\"chief_specialist_id\"].replace(0, None)\n",
    "df15[\"group_leader_id\"] = df15[\"group_leader_id\"].replace(0, None)\n",
    "df15[\"norm_contr_id\"] = df15[\"norm_contr_id\"].replace(0, None)\n",
    "\n",
    "df16 = df15.drop([\"vmp_weight\", \"impl_3d_estimate\", \"xcnd\", \"task_text\", \"additional_text\", \"safety_coeff\", \"aggressiveness\", \"operating_temp\", \"operating_zone\", \"gas_group\", \"material\", \"high_tensile_bolts\"], axis=1)\n",
    "\n",
    "df16 = df16.reset_index(drop=True)\n",
    "\n",
    "df16[\"id\"].to_csv(\"mark_ids.csv\")\n",
    "\n",
    "cursor.execute(open(\"sql_server/7.sql\", \"r\").read())\n",
    "conn.commit()\n",
    "\n",
    "execute_values(df16, \"marks\")\n",
    "\n",
    "df_op_cond = df15_operating_cond.loc[:, [\"id\", \"коэф_надежн\", \"агрессивность\", \"t_эксплуат\", \"зона_эксплуат\", \"группа_газов\", \"материал\", \"тип_ЛКМ\", \"вп_болты\"]]\n",
    "\n",
    "df_op_cond[\"t_эксплуат\"] = df_op_cond[\"t_эксплуат\"].fillna(-34)\n",
    "\n",
    "df_op_cond = df_op_cond.rename(columns={\"id\": \"mark_id\",\n",
    "                            \"коэф_надежн\": \"safety_coeff\",\n",
    "                            \"t_эксплуат\": \"temperature\",\n",
    "                            \"зона_эксплуат\": \"operating_area_id\",\n",
    "                            \"группа_газов\": \"gas_group_id\",\n",
    "                            \"агрессивность\": \"env_aggressiveness_id\",\n",
    "                            \"материал\": \"construction_material_id\",\n",
    "                            \"тип_ЛКМ\": \"paintwork_type_id\",\n",
    "                            \"вп_болты\": \"high_tensile_bolts_type_id\"\n",
    "                       })\n",
    "\n",
    "# cursor.execute(open(\"sql_server/y_mark_operating_conditions.sql\", \"r\").read())\n",
    "# conn.commit()\n",
    "\n",
    "# execute_values(df_op_cond, \"mark_operating_conditions\")\n",
    "\n",
    "df_task = df15.loc[:, [\"id\", \"task_text\", \"additional_text\"]]\n",
    "\n",
    "df_task[\"task_text\"] = df_task[\"task_text\"].str.strip()\n",
    "\n",
    "df['обозн'] = 'Разработать сметную документацию к чертежам ' + df['обозн'].astype(str) + '\\r\\nСостав и объемы работ:'\n",
    "\n",
    "df_task.loc[df_task[\"task_text\"].isna(), \"task_text\"] = list(df.loc[df[\"код_марки\"].isin(df_task.loc[df_task[\"task_text\"].isna(), \"id\"]), \"обозн\"])\n",
    "\n",
    "df_task = df_task.rename(columns={\"id\": \"mark_id\"})\n",
    "\n",
    "df_task[\"task_text\"] = df_task[\"task_text\"].str.replace(\"\\r\\n\", \"\\n\")\n",
    "\n",
    "df_task[\"additional_text\"] = df_task[\"additional_text\"].str.replace(\"\\r\\n\", \"\\n\")\n",
    "\n",
    "cursor.execute(open(\"sql_server/y_estimate_task.sql\", \"r\").read())\n",
    "conn.commit()\n",
    "\n",
    "execute_values(df_task, \"estimate_task\")\n",
    "\n",
    "df = pd.read_sql_query('SELECT * FROM Pro_t_londonSQL.dbo.ВыпСпец', db_conn)\n",
    "\n",
    "df = df.replace(\"\", np.nan)\n",
    "\n",
    "df = df.drop_duplicates(subset=[\"код_марки\", \"выпуск\"])\n",
    "\n",
    "df = df.drop([\"вкл_вып\"], axis=1)\n",
    "\n",
    "df[\"текущий\"] = df[\"текущий\"].map(lambda x: True if (x == 1) else False)\n",
    "\n",
    "df.insert(0, 'id', range(1, len(df) + 1))\n",
    "\n",
    "df = df.rename(columns={\"код_марки\": \"mark_id\",\n",
    "                        \"выпуск\": \"num\",\n",
    "                        \"дата_созд\": \"created_date\",\n",
    "                        \"текущий\": \"is_current\",\n",
    "                        \"прим\": \"note\"\n",
    "                       })\n",
    "\n",
    "df[\"created_date\"] = df[\"created_date\"].astype(object).where(df[\"created_date\"].notnull(), datetime(2000, 1, 1))\n",
    "df = df.where(pd.notnull(df), None)\n",
    "\n",
    "m_ids = pd.read_csv(\"mark_ids.csv\")\n",
    "m_ids = m_ids.drop([\"Unnamed: 0\"], axis=1)\n",
    "m_ids = m_ids.values.flatten().tolist()\n",
    "\n",
    "df = df[df[\"mark_id\"].isin(m_ids)]\n",
    "\n",
    "df.loc[:, [\"id\", \"mark_id\", \"num\"]].to_csv(\"specs.csv\")\n",
    "\n",
    "cursor.execute(open(\"sql_server/3.sql\", \"r\").read())\n",
    "conn.commit()\n",
    "\n",
    "execute_values(df, \"specifications\")"
   ]
  },
  {
   "cell_type": "markdown",
   "metadata": {},
   "source": [
    "<h1>Проекты</h1>"
   ]
  },
  {
   "cell_type": "code",
   "execution_count": 724,
   "metadata": {},
   "outputs": [],
   "source": [
    "df = pd.read_sql_query('SELECT * FROM ArchDocT.dbo.Проекты', archive_conn)"
   ]
  },
  {
   "cell_type": "code",
   "execution_count": 725,
   "metadata": {},
   "outputs": [],
   "source": [
    "df = df.loc[:, [\"Проект\", \"Название\", \"БазСерия\"]]"
   ]
  },
  {
   "cell_type": "code",
   "execution_count": 726,
   "metadata": {},
   "outputs": [],
   "source": [
    "df = df.dropna()"
   ]
  },
  {
   "cell_type": "code",
   "execution_count": 727,
   "metadata": {},
   "outputs": [],
   "source": [
    "df.loc[:, \"Название\"] = df[\"Название\"].str.strip()\n",
    "df.loc[:, \"БазСерия\"] = df[\"БазСерия\"].str.strip()"
   ]
  },
  {
   "cell_type": "code",
   "execution_count": 728,
   "metadata": {},
   "outputs": [],
   "source": [
    "df = df.drop_duplicates(subset=[\"БазСерия\"])"
   ]
  },
  {
   "cell_type": "code",
   "execution_count": 729,
   "metadata": {},
   "outputs": [],
   "source": [
    "df = df.rename(columns={\"Проект\": \"id\",\n",
    "                        \"Название\": \"name\",\n",
    "                        \"БазСерия\": \"base_series\"\n",
    "                       })"
   ]
  },
  {
   "cell_type": "code",
   "execution_count": 730,
   "metadata": {},
   "outputs": [],
   "source": [
    "df[\"id\"].to_csv(\"project_ids.csv\")"
   ]
  },
  {
   "cell_type": "code",
   "execution_count": 696,
   "metadata": {},
   "outputs": [],
   "source": [
    "cursor.execute(open(\"sql_server/xx_projects.sql\", \"r\").read())\n",
    "conn.commit()"
   ]
  },
  {
   "cell_type": "code",
   "execution_count": 697,
   "metadata": {},
   "outputs": [],
   "source": [
    "execute_values(df, \"projects\", False)"
   ]
  },
  {
   "cell_type": "code",
   "execution_count": null,
   "metadata": {},
   "outputs": [],
   "source": []
  },
  {
   "cell_type": "code",
   "execution_count": null,
   "metadata": {},
   "outputs": [],
   "source": []
  },
  {
   "cell_type": "code",
   "execution_count": 323,
   "metadata": {},
   "outputs": [],
   "source": [
    "# df = pd.read_sql_query('SELECT * FROM Pro_t.dbo.Марки', db_conn)"
   ]
  },
  {
   "cell_type": "code",
   "execution_count": 324,
   "metadata": {},
   "outputs": [],
   "source": [
    "# df = df.dropna(subset=[\"код_марки\", \"обозн\", \"комплекс\", \"объект\"])"
   ]
  },
  {
   "cell_type": "code",
   "execution_count": 325,
   "metadata": {},
   "outputs": [],
   "source": [
    "# e_ids = pd.read_csv(\"employee_ids.csv\")\n",
    "# e_ids = e_ids.drop([\"Unnamed: 0\"], axis=1)\n",
    "# e_ids = e_ids.values.flatten().tolist()\n",
    "# df.loc[df[\"гл_спец\"].isin(e_ids) == False, \"гл_спец\"] = None\n",
    "# df.loc[df[\"рук_гр\"].isin(e_ids) == False, \"рук_гр\"] = None\n",
    "# df.loc[df[\"н_контр\"].isin(e_ids) == False, \"н_контр\"] = None"
   ]
  },
  {
   "cell_type": "code",
   "execution_count": 326,
   "metadata": {},
   "outputs": [],
   "source": [
    "# df = df[df[\"обозн\"].str.contains(\"демонтаж\") == False]\n",
    "# df = df[df[\"обозн\"].str.contains(\"Мновый\") == False]\n",
    "# df[\"обозн\"] = df[\"обозн\"].str.replace(\",\", \".\")"
   ]
  },
  {
   "cell_type": "code",
   "execution_count": 327,
   "metadata": {},
   "outputs": [],
   "source": [
    "# df2 = pd.DataFrame(df[\"обозн\"].str.split('-КМ', 1).tolist(),\n",
    "#                                  columns = ['first','code'])"
   ]
  },
  {
   "cell_type": "code",
   "execution_count": 328,
   "metadata": {},
   "outputs": [],
   "source": [
    "# df = df.reset_index()\n",
    "# df2 = df2.join(df)"
   ]
  },
  {
   "cell_type": "code",
   "execution_count": 329,
   "metadata": {},
   "outputs": [],
   "source": [
    "# df2 = df2.dropna(subset=[\"code\"])"
   ]
  },
  {
   "cell_type": "code",
   "execution_count": 330,
   "metadata": {},
   "outputs": [],
   "source": [
    "# df2[\"code\"] = \"КМ\" + df2[\"code\"]"
   ]
  },
  {
   "cell_type": "code",
   "execution_count": 331,
   "metadata": {},
   "outputs": [],
   "source": [
    "# df3 = pd.DataFrame(df2[\"first\"].str.split('.', 1).tolist(),\n",
    "#                                  columns = ['baseSeries','middle'])"
   ]
  },
  {
   "cell_type": "code",
   "execution_count": 332,
   "metadata": {},
   "outputs": [],
   "source": [
    "# df2 = df2.reset_index()\n",
    "# df3 = df3.reset_index()\n",
    "# df4 = df2.join(df3[[\"baseSeries\", \"middle\"]])"
   ]
  },
  {
   "cell_type": "code",
   "execution_count": 333,
   "metadata": {},
   "outputs": [],
   "source": [
    "# df4 = df4.drop([\"first\", \"index\"], axis=1)\n",
    "# df4 = df4.rename(columns={\"код_марки\": \"id\"})"
   ]
  },
  {
   "cell_type": "code",
   "execution_count": 334,
   "metadata": {},
   "outputs": [],
   "source": [
    "# df5 = pd.DataFrame(df4[\"middle\"].fillna(\"\").str.split('.', 1).tolist(),\n",
    "#                                  columns = ['node','subnode'])"
   ]
  },
  {
   "cell_type": "code",
   "execution_count": 335,
   "metadata": {},
   "outputs": [],
   "source": [
    "# df6 = pd.DataFrame(df5[\"subnode\"].fillna(\"\").str.split('-', 1).tolist(),\n",
    "#                                  columns = ['subnode_part','node_part'])"
   ]
  },
  {
   "cell_type": "code",
   "execution_count": 336,
   "metadata": {},
   "outputs": [],
   "source": [
    "# df5 = df5.reset_index()\n",
    "# df6 = df6.reset_index()\n",
    "# df7 = df5.join(df6[[\"subnode_part\", \"node_part\"]])"
   ]
  },
  {
   "cell_type": "code",
   "execution_count": 337,
   "metadata": {},
   "outputs": [],
   "source": [
    "# df7[\"node_part\"] = \"-\" + df7[\"node_part\"]\n",
    "# df7[\"node2\"] = df7[\"node\"] + df7[\"node_part\"].fillna(\"\")"
   ]
  },
  {
   "cell_type": "code",
   "execution_count": 338,
   "metadata": {},
   "outputs": [],
   "source": [
    "# df4 = df4.reset_index(drop=True)\n",
    "# df7 = df7.reset_index(drop=True)\n",
    "# df8 = df4.join(df7[[\"node2\", \"subnode_part\"]])"
   ]
  },
  {
   "cell_type": "code",
   "execution_count": 339,
   "metadata": {},
   "outputs": [],
   "source": [
    "# df8 = df8.rename(columns={\"node2\": \"nodeCode\", \"subnode_part\": \"subnodeCode\"})\n",
    "# df8 = df8.drop([\"middle\"], axis=1)"
   ]
  },
  {
   "cell_type": "code",
   "execution_count": 340,
   "metadata": {},
   "outputs": [],
   "source": [
    "# enc = OrdinalEncoder()\n",
    "# res = enc.fit_transform(np.array(df8[\"baseSeries\"]).reshape(-1, 1))"
   ]
  },
  {
   "cell_type": "code",
   "execution_count": 341,
   "metadata": {},
   "outputs": [],
   "source": [
    "# s = pd.DataFrame(pd.Series(res.flatten()) + 1)\n",
    "# s = s.rename(columns={0: \"project_id\"})"
   ]
  },
  {
   "cell_type": "code",
   "execution_count": 342,
   "metadata": {},
   "outputs": [],
   "source": [
    "# df9 = df8.join(s)"
   ]
  },
  {
   "cell_type": "code",
   "execution_count": 343,
   "metadata": {},
   "outputs": [],
   "source": [
    "# projects_df = df9[[\"baseSeries\", \"комплекс\", \"project_id\"]]"
   ]
  },
  {
   "cell_type": "code",
   "execution_count": 344,
   "metadata": {},
   "outputs": [],
   "source": [
    "# projects_df = projects_df.drop_duplicates(subset=[\"project_id\"])"
   ]
  },
  {
   "cell_type": "code",
   "execution_count": 345,
   "metadata": {},
   "outputs": [],
   "source": [
    "# projects_df = projects_df.rename(columns={\"baseSeries\": \"base_series\", \"комплекс\": \"name\", \"project_id\": \"id\"})"
   ]
  },
  {
   "cell_type": "code",
   "execution_count": 639,
   "metadata": {},
   "outputs": [],
   "source": [
    "# cursor.execute(open(\"sql_server/xx_projects.sql\", \"r\").read())\n",
    "# conn.commit()"
   ]
  },
  {
   "cell_type": "code",
   "execution_count": 347,
   "metadata": {},
   "outputs": [],
   "source": [
    "# execute_values(projects_df, \"projects\", False)"
   ]
  },
  {
   "cell_type": "markdown",
   "metadata": {},
   "source": [
    "<h1>Узлы</h1>"
   ]
  },
  {
   "cell_type": "code",
   "execution_count": 702,
   "metadata": {},
   "outputs": [],
   "source": [
    "df = pd.read_sql_query('SELECT * FROM ArchDocT.dbo.Узлы', archive_conn)"
   ]
  },
  {
   "cell_type": "code",
   "execution_count": 703,
   "metadata": {},
   "outputs": [],
   "source": [
    "df = df.loc[:, [\"Узел\", \"Проект\", \"КодУзла\", \"НазвУзла\", \"ГИП\"]]"
   ]
  },
  {
   "cell_type": "code",
   "execution_count": 704,
   "metadata": {},
   "outputs": [],
   "source": [
    "df = df.dropna(subset=[\"КодУзла\"])"
   ]
  },
  {
   "cell_type": "code",
   "execution_count": null,
   "metadata": {},
   "outputs": [],
   "source": [
    "p_ids = pd.read_csv(\"project_ids.csv\")\n",
    "p_ids = p_ids.drop([\"Unnamed: 0\"], axis=1)\n",
    "p_ids = p_ids.values.flatten().tolist()"
   ]
  },
  {
   "cell_type": "code",
   "execution_count": null,
   "metadata": {},
   "outputs": [],
   "source": [
    "df = df[df[\"Проект\"].isin(m_ids)]"
   ]
  },
  {
   "cell_type": "code",
   "execution_count": null,
   "metadata": {},
   "outputs": [],
   "source": []
  },
  {
   "cell_type": "code",
   "execution_count": 348,
   "metadata": {},
   "outputs": [],
   "source": [
    "# df10 = pd.DataFrame(df9[\"объект\"].str.split('.', 1).tolist(),\n",
    "#                                  columns = ['f_p','o_p'])"
   ]
  },
  {
   "cell_type": "code",
   "execution_count": 349,
   "metadata": {},
   "outputs": [],
   "source": [
    "# df10 = df10.fillna(\"\")"
   ]
  },
  {
   "cell_type": "code",
   "execution_count": 350,
   "metadata": {},
   "outputs": [],
   "source": [
    "# df11 = df9.join(df10)"
   ]
  },
  {
   "cell_type": "code",
   "execution_count": 351,
   "metadata": {},
   "outputs": [],
   "source": [
    "# df11[\"node_feature\"] = df11[\"baseSeries\"] + df11[\"nodeCode\"]"
   ]
  },
  {
   "cell_type": "code",
   "execution_count": 352,
   "metadata": {},
   "outputs": [],
   "source": [
    "# enc = OrdinalEncoder()\n",
    "# res = enc.fit_transform(np.array(df11[\"node_feature\"]).reshape(-1, 1))"
   ]
  },
  {
   "cell_type": "code",
   "execution_count": 353,
   "metadata": {},
   "outputs": [],
   "source": [
    "# s = pd.DataFrame(pd.Series(res.flatten()) + 1)\n",
    "# s = s.rename(columns={0: \"node_id\"})"
   ]
  },
  {
   "cell_type": "code",
   "execution_count": 354,
   "metadata": {},
   "outputs": [],
   "source": [
    "# df12 = df11.join(s)"
   ]
  },
  {
   "cell_type": "code",
   "execution_count": 355,
   "metadata": {},
   "outputs": [],
   "source": [
    "# nodes_df = df12[[\"node_id\", \"f_p\", \"project_id\", \"nodeCode\"]]"
   ]
  },
  {
   "cell_type": "code",
   "execution_count": 356,
   "metadata": {},
   "outputs": [],
   "source": [
    "# chiefEngineerIds = [173, 337]"
   ]
  },
  {
   "cell_type": "code",
   "execution_count": 357,
   "metadata": {},
   "outputs": [
    {
     "name": "stderr",
     "output_type": "stream",
     "text": [
      "<ipython-input-357-24cbdb19fe02>:1: SettingWithCopyWarning: \n",
      "A value is trying to be set on a copy of a slice from a DataFrame.\n",
      "Try using .loc[row_indexer,col_indexer] = value instead\n",
      "\n",
      "See the caveats in the documentation: https://pandas.pydata.org/pandas-docs/stable/user_guide/indexing.html#returning-a-view-versus-a-copy\n",
      "  nodes_df[\"chief_engineer\"] = random.choices(chiefEngineerIds, k=len(nodes_df))\n"
     ]
    }
   ],
   "source": [
    "# nodes_df[\"chief_engineer\"] = random.choices(chiefEngineerIds, k=len(nodes_df))"
   ]
  },
  {
   "cell_type": "code",
   "execution_count": 358,
   "metadata": {},
   "outputs": [],
   "source": [
    "# nodes_df = nodes_df.rename(columns={\"node_id\": \"id\", \"f_p\": \"name\", \"nodeCode\": \"code\", \"chief_engineer\": \"chief_engineer_id\"})"
   ]
  },
  {
   "cell_type": "code",
   "execution_count": 359,
   "metadata": {},
   "outputs": [],
   "source": [
    "# nodes_df = nodes_df.drop_duplicates(subset=[\"id\"])"
   ]
  },
  {
   "cell_type": "code",
   "execution_count": 360,
   "metadata": {},
   "outputs": [],
   "source": [
    "# cursor.execute(open(\"sql_server/xx_nodes.sql\", \"r\").read())\n",
    "# conn.commit()"
   ]
  },
  {
   "cell_type": "code",
   "execution_count": 361,
   "metadata": {},
   "outputs": [],
   "source": [
    "# execute_values(nodes_df, \"nodes\", False)"
   ]
  },
  {
   "cell_type": "markdown",
   "metadata": {},
   "source": [
    "<h1>Подузлы</h1>"
   ]
  },
  {
   "cell_type": "code",
   "execution_count": 708,
   "metadata": {},
   "outputs": [],
   "source": [
    "df = pd.read_sql_query('SELECT * FROM ArchDocT.dbo.Подузлы', archive_conn)"
   ]
  },
  {
   "cell_type": "code",
   "execution_count": 709,
   "metadata": {},
   "outputs": [],
   "source": [
    "df = df.loc[:, [\"Подузел\", \"Узел\", \"КодПодуз\", \"НазвПодузла\"]]"
   ]
  },
  {
   "cell_type": "code",
   "execution_count": 710,
   "metadata": {},
   "outputs": [
    {
     "data": {
      "text/plain": [
       "Подузел            0\n",
       "Узел               0\n",
       "КодПодуз           0\n",
       "НазвПодузла    64876\n",
       "dtype: int64"
      ]
     },
     "execution_count": 710,
     "metadata": {},
     "output_type": "execute_result"
    }
   ],
   "source": [
    "df.isna().sum()"
   ]
  },
  {
   "cell_type": "code",
   "execution_count": null,
   "metadata": {},
   "outputs": [],
   "source": []
  },
  {
   "cell_type": "code",
   "execution_count": 362,
   "metadata": {},
   "outputs": [],
   "source": [
    "# df13 = pd.DataFrame(df12[\"o_p\"].str.split('.', 1).tolist(),\n",
    "#                                  columns = ['s_p','m_p'])"
   ]
  },
  {
   "cell_type": "code",
   "execution_count": 363,
   "metadata": {},
   "outputs": [],
   "source": [
    "# df13 = df13.fillna(\"\")"
   ]
  },
  {
   "cell_type": "code",
   "execution_count": 364,
   "metadata": {},
   "outputs": [],
   "source": [
    "# df13[\"s_p\"] = df13[\"s_p\"].str.strip()\n",
    "# df13[\"m_p\"] = df13[\"m_p\"].str.strip()"
   ]
  },
  {
   "cell_type": "code",
   "execution_count": 365,
   "metadata": {},
   "outputs": [],
   "source": [
    "# df14 = df12.join(df13)"
   ]
  },
  {
   "cell_type": "code",
   "execution_count": 366,
   "metadata": {},
   "outputs": [],
   "source": [
    "# df14[\"subnode_feature\"] = df11[\"node_feature\"] + df11[\"subnodeCode\"]"
   ]
  },
  {
   "cell_type": "code",
   "execution_count": 367,
   "metadata": {},
   "outputs": [],
   "source": [
    "# enc = OrdinalEncoder()\n",
    "# res = enc.fit_transform(np.array(df14[\"subnode_feature\"]).reshape(-1, 1))"
   ]
  },
  {
   "cell_type": "code",
   "execution_count": 368,
   "metadata": {},
   "outputs": [],
   "source": [
    "# s = pd.DataFrame(pd.Series(res.flatten()) + 1)\n",
    "# s = s.rename(columns={0: \"subnode_id\"})"
   ]
  },
  {
   "cell_type": "code",
   "execution_count": 369,
   "metadata": {},
   "outputs": [],
   "source": [
    "# df15 = df14.join(s)"
   ]
  },
  {
   "cell_type": "code",
   "execution_count": 370,
   "metadata": {},
   "outputs": [],
   "source": [
    "# subnodes_df = df15[[\"subnode_id\", \"node_id\", \"subnodeCode\", \"s_p\"]]"
   ]
  },
  {
   "cell_type": "code",
   "execution_count": 371,
   "metadata": {},
   "outputs": [],
   "source": [
    "# subnodes_df = subnodes_df.rename(columns={\"subnode_id\": \"id\", \"s_p\": \"name\", \"subnodeCode\": \"code\"})"
   ]
  },
  {
   "cell_type": "code",
   "execution_count": 372,
   "metadata": {},
   "outputs": [],
   "source": [
    "# subnodes_df = subnodes_df.drop_duplicates(subset=[\"id\"])"
   ]
  },
  {
   "cell_type": "code",
   "execution_count": 373,
   "metadata": {},
   "outputs": [],
   "source": [
    "# cursor.execute(open(\"sql_server/xx_subnodes.sql\", \"r\").read())\n",
    "# conn.commit()"
   ]
  },
  {
   "cell_type": "code",
   "execution_count": 374,
   "metadata": {},
   "outputs": [],
   "source": [
    "# execute_values(subnodes_df, \"subnodes\", False)"
   ]
  },
  {
   "cell_type": "markdown",
   "metadata": {},
   "source": [
    "<h1>Марки</h1>"
   ]
  },
  {
   "cell_type": "code",
   "execution_count": 375,
   "metadata": {},
   "outputs": [],
   "source": [
    "df15 = df15.drop([\"обозн\", \"комплекс\", \"объект\", \"level_0\", \"ОЗ_марки\"], axis=1)"
   ]
  },
  {
   "cell_type": "code",
   "execution_count": 376,
   "metadata": {},
   "outputs": [],
   "source": [
    "df15[\"t_эксплуат\"] = df15[\"t_эксплуат\"].str.replace(\"минус \", \"-\")\n",
    "df15[\"t_эксплуат\"] = df15[\"t_эксплуат\"].str.replace(\"плюс \", \"\")\n",
    "df15[\"t_эксплуат\"] = df15[\"t_эксплуат\"].str.replace(\"+\", \"\")\n",
    "df15[\"t_эксплуат\"] = df15[\"t_эксплуат\"].str.replace(\"- 39\", \"-39\")\n",
    "df15 = df15[df15[\"t_эксплуат\"] != \"-\"]\n",
    "df15 = df15[df15[\"t_эксплуат\"] != \"минус\"]\n",
    "df15[\"t_эксплуат\"] = df15[\"t_эксплуат\"].astype(\"float64\")"
   ]
  },
  {
   "cell_type": "code",
   "execution_count": 377,
   "metadata": {},
   "outputs": [],
   "source": [
    "df15[\"об_марки\"] = df15[\"об_марки\"].str.strip()\n",
    "df15[\"об_марки\"] = df15[\"об_марки\"].str.replace(\"KM\", \"КМ\")\n",
    "df15 = df15[df15[\"об_марки\"] != \"по\"]"
   ]
  },
  {
   "cell_type": "code",
   "execution_count": 378,
   "metadata": {},
   "outputs": [],
   "source": [
    "df15 = df15.drop([\"об_марки\"], axis=1)"
   ]
  },
  {
   "cell_type": "code",
   "execution_count": 379,
   "metadata": {},
   "outputs": [],
   "source": [
    "df15 = df15.drop([\"project_id\", \"f_p\", \"o_p\", \"s_p\", \"subnode_feature\", \"node_feature\", \"subnodeCode\"], axis=1)"
   ]
  },
  {
   "cell_type": "code",
   "execution_count": 380,
   "metadata": {},
   "outputs": [],
   "source": [
    "df15 = df15.drop([\"baseSeries\", \"nodeCode\", \"node_id\"], axis=1)"
   ]
  },
  {
   "cell_type": "code",
   "execution_count": 381,
   "metadata": {},
   "outputs": [],
   "source": [
    "df15[\"прим\"] = df15[\"прим\"].str.strip()\n",
    "df15[\"прим\"] = df15[\"прим\"].str.replace(\"\\r\\n       \", \" \")"
   ]
  },
  {
   "cell_type": "code",
   "execution_count": 382,
   "metadata": {},
   "outputs": [],
   "source": [
    "df15 = df15.drop([\"ДопКод\"], axis=1)"
   ]
  },
  {
   "cell_type": "code",
   "execution_count": 383,
   "metadata": {},
   "outputs": [],
   "source": [
    "df15[\"категория_пр\"] = 3"
   ]
  },
  {
   "cell_type": "code",
   "execution_count": 384,
   "metadata": {},
   "outputs": [],
   "source": [
    "df15[\"агрессивность\"] += 1\n",
    "df15[\"группа_газов\"] += 1\n",
    "df15[\"материал\"] += 1\n",
    "df15[\"вп_болты\"] += 1\n",
    "\n",
    "# Part\n",
    "df15.loc[df15[\"тип_ЛКМ\"] == \"ПФ\", \"тип_ЛКМ\"] = 1\n",
    "df15.loc[df15[\"тип_ЛКМ\"] == \"АУ\", \"тип_ЛКМ\"] = 2\n",
    "df15.loc[df15[\"тип_ЛКМ\"] == \"ЭЭ\", \"тип_ЛКМ\"] = 3\n",
    "df15.loc[df15[\"тип_ЛКМ\"] == \"МА\", \"тип_ЛКМ\"] = 4\n",
    "df15.loc[df15[\"тип_ЛКМ\"] == \"ПВ\", \"тип_ЛКМ\"] = 11"
   ]
  },
  {
   "cell_type": "code",
   "execution_count": 385,
   "metadata": {},
   "outputs": [],
   "source": [
    "df15 = df15.drop_duplicates(subset=[\"code\", \"subnode_id\"])"
   ]
  },
  {
   "cell_type": "code",
   "execution_count": 386,
   "metadata": {},
   "outputs": [],
   "source": [
    "df15_operating_cond = df15.copy()"
   ]
  },
  {
   "cell_type": "code",
   "execution_count": 387,
   "metadata": {},
   "outputs": [],
   "source": [
    "df15 = df15.rename(columns={\"код_отд\": \"department_id\",\n",
    "                            \"подп1\": \"signed1_id\",\n",
    "                            \"подп2\": \"signed2_id\",\n",
    "                            \"гл_спец\": \"chief_specialist_id\",\n",
    "                            \"рук_гр\": \"group_leader_id\",\n",
    "                            \"н_контр\": \"norm_contr_id\",\n",
    "                            \"дата_выд\": \"issue_date\",\n",
    "                            \"кол_томов\": \"num_of_volumes\",\n",
    "                            \"дата_ред\": \"edited_date\",\n",
    "                            \"коэф_надежн\": \"safety_coeff\",\n",
    "                            \"t_эксплуат\": \"operating_temp\",\n",
    "                            \"зона_эксплуат\": \"operating_zone\",\n",
    "                            \"группа_газов\": \"gas_group\",\n",
    "                            \"агрессивность\": \"aggressiveness\",\n",
    "                            \"материал\": \"material\",\n",
    "                            \"тип_ЛКМ\": \"paintwork_type\",\n",
    "                            \"прим\": \"note\",\n",
    "                            \"категория_пр\": \"fire_hazard_category_id\",\n",
    "                            \"вп_болты\": \"high_tensile_bolts\",\n",
    "                            \"п_транспорт\": \"p_transport\",\n",
    "                            \"п_площадки\": \"p_site\",\n",
    "                            \"10ХСНД\": \"xcnd\",\n",
    "                            \"ТекстЗдСм\": \"task_text\",\n",
    "                            \"ДопОбъемы\": \"additional_text\",\n",
    "                            \"ВесПоВМП\": \"vmp_weight\",\n",
    "                            \"ВыпЗдСм\": \"impl_3d_estimate\",\n",
    "                            \"m_p\": \"name\"\n",
    "                       })"
   ]
  },
  {
   "cell_type": "code",
   "execution_count": 388,
   "metadata": {},
   "outputs": [],
   "source": [
    "df15[\"issue_date\"] = df15[\"issue_date\"].astype(object).where(df15[\"issue_date\"].notnull(), None)\n",
    "df15[\"edited_date\"] = df15[\"edited_date\"].astype(object).where(df15[\"edited_date\"].notnull(), None)\n",
    "df15 = df15.where(pd.notnull(df15), None)"
   ]
  },
  {
   "cell_type": "code",
   "execution_count": 389,
   "metadata": {},
   "outputs": [],
   "source": [
    "df15[\"chief_specialist_id\"] = df15[\"chief_specialist_id\"].replace(0, None)\n",
    "df15[\"group_leader_id\"] = df15[\"group_leader_id\"].replace(0, None)\n",
    "df15[\"norm_contr_id\"] = df15[\"norm_contr_id\"].replace(0, None)"
   ]
  },
  {
   "cell_type": "code",
   "execution_count": 390,
   "metadata": {},
   "outputs": [],
   "source": [
    "df16 = df15.drop([\"vmp_weight\", \"impl_3d_estimate\", \"xcnd\", \"task_text\", \"additional_text\", \"safety_coeff\", \"aggressiveness\", \"operating_temp\", \"operating_zone\", \"gas_group\", \"material\", \"high_tensile_bolts\"], axis=1)"
   ]
  },
  {
   "cell_type": "code",
   "execution_count": 391,
   "metadata": {},
   "outputs": [],
   "source": [
    "df16 = df16.reset_index(drop=True)"
   ]
  },
  {
   "cell_type": "code",
   "execution_count": 392,
   "metadata": {},
   "outputs": [],
   "source": [
    "df16[\"id\"].to_csv(\"mark_ids.csv\")"
   ]
  },
  {
   "cell_type": "code",
   "execution_count": 393,
   "metadata": {},
   "outputs": [],
   "source": [
    "cursor.execute(open(\"sql_server/7.sql\", \"r\").read())\n",
    "conn.commit()"
   ]
  },
  {
   "cell_type": "code",
   "execution_count": 394,
   "metadata": {},
   "outputs": [],
   "source": [
    "execute_values(df16, \"marks\")"
   ]
  },
  {
   "cell_type": "markdown",
   "metadata": {},
   "source": [
    "<h1>Условия эксплуатации марки</h1>"
   ]
  },
  {
   "cell_type": "code",
   "execution_count": 395,
   "metadata": {},
   "outputs": [],
   "source": [
    "df_op_cond = df15_operating_cond.loc[:, [\"id\", \"коэф_надежн\", \"агрессивность\", \"t_эксплуат\", \"зона_эксплуат\", \"группа_газов\", \"материал\", \"тип_ЛКМ\", \"вп_болты\"]]"
   ]
  },
  {
   "cell_type": "code",
   "execution_count": 396,
   "metadata": {},
   "outputs": [],
   "source": [
    "df_op_cond[\"t_эксплуат\"] = df_op_cond[\"t_эксплуат\"].fillna(-34)"
   ]
  },
  {
   "cell_type": "code",
   "execution_count": 397,
   "metadata": {},
   "outputs": [],
   "source": [
    "df_op_cond = df_op_cond.rename(columns={\"id\": \"mark_id\",\n",
    "                            \"коэф_надежн\": \"safety_coeff\",\n",
    "                            \"t_эксплуат\": \"temperature\",\n",
    "                            \"зона_эксплуат\": \"operating_area_id\",\n",
    "                            \"группа_газов\": \"gas_group_id\",\n",
    "                            \"агрессивность\": \"env_aggressiveness_id\",\n",
    "                            \"материал\": \"construction_material_id\",\n",
    "                            \"тип_ЛКМ\": \"paintwork_type_id\",\n",
    "                            \"вп_болты\": \"high_tensile_bolts_type_id\"\n",
    "                       })"
   ]
  },
  {
   "cell_type": "code",
   "execution_count": 398,
   "metadata": {},
   "outputs": [],
   "source": [
    "cursor.execute(open(\"sql_server/y_mark_operating_conditions.sql\", \"r\").read())\n",
    "conn.commit()"
   ]
  },
  {
   "cell_type": "code",
   "execution_count": 399,
   "metadata": {},
   "outputs": [],
   "source": [
    "execute_values(df_op_cond, \"mark_operating_conditions\", False)"
   ]
  },
  {
   "cell_type": "markdown",
   "metadata": {},
   "source": [
    "<h1>Задание на смету</h1>"
   ]
  },
  {
   "cell_type": "code",
   "execution_count": 400,
   "metadata": {},
   "outputs": [],
   "source": [
    "df_task = df15.loc[:, [\"id\", \"task_text\", \"additional_text\"]]"
   ]
  },
  {
   "cell_type": "code",
   "execution_count": 401,
   "metadata": {},
   "outputs": [],
   "source": [
    "df_task[\"task_text\"] = df_task[\"task_text\"].str.strip()"
   ]
  },
  {
   "cell_type": "code",
   "execution_count": 402,
   "metadata": {},
   "outputs": [],
   "source": [
    "df['обозн'] = 'Разработать сметную документацию к чертежам ' + df['обозн'].astype(str) + '\\r\\nСостав и объемы работ:'"
   ]
  },
  {
   "cell_type": "code",
   "execution_count": 403,
   "metadata": {},
   "outputs": [],
   "source": [
    "df_task.loc[df_task[\"task_text\"].isna(), \"task_text\"] = list(df.loc[df[\"код_марки\"].isin(df_task.loc[df_task[\"task_text\"].isna(), \"id\"]), \"обозн\"])"
   ]
  },
  {
   "cell_type": "code",
   "execution_count": 404,
   "metadata": {},
   "outputs": [],
   "source": [
    "df_task = df_task.rename(columns={\"id\": \"mark_id\"})"
   ]
  },
  {
   "cell_type": "code",
   "execution_count": 405,
   "metadata": {},
   "outputs": [],
   "source": [
    "df_task[\"task_text\"] = df_task[\"task_text\"].str.replace(\"\\r\\n\", \"\\n\")"
   ]
  },
  {
   "cell_type": "code",
   "execution_count": 406,
   "metadata": {},
   "outputs": [],
   "source": [
    "df_task[\"additional_text\"] = df_task[\"additional_text\"].str.replace(\"\\r\\n\", \"\\n\")"
   ]
  },
  {
   "cell_type": "code",
   "execution_count": 407,
   "metadata": {},
   "outputs": [],
   "source": [
    "cursor.execute(open(\"sql_server/y_estimate_task.sql\", \"r\").read())\n",
    "conn.commit()"
   ]
  },
  {
   "cell_type": "code",
   "execution_count": 408,
   "metadata": {},
   "outputs": [],
   "source": [
    "execute_values(df_task, \"estimate_task\", False)"
   ]
  },
  {
   "cell_type": "markdown",
   "metadata": {},
   "source": [
    "<h1>Выпуски спецификаций</h1>"
   ]
  },
  {
   "cell_type": "code",
   "execution_count": 409,
   "metadata": {},
   "outputs": [],
   "source": [
    "df = pd.read_sql_query('SELECT * FROM Pro_t.dbo.ВыпСпец', db_conn)"
   ]
  },
  {
   "cell_type": "code",
   "execution_count": 410,
   "metadata": {},
   "outputs": [],
   "source": [
    "df = df.replace(\"\", np.nan)"
   ]
  },
  {
   "cell_type": "code",
   "execution_count": 411,
   "metadata": {},
   "outputs": [],
   "source": [
    "df = df.drop_duplicates(subset=[\"код_марки\", \"выпуск\"])"
   ]
  },
  {
   "cell_type": "code",
   "execution_count": 412,
   "metadata": {},
   "outputs": [],
   "source": [
    "df = df.drop([\"вкл_вып\"], axis=1)"
   ]
  },
  {
   "cell_type": "code",
   "execution_count": 413,
   "metadata": {},
   "outputs": [],
   "source": [
    "df[\"текущий\"] = df[\"текущий\"].map(lambda x: True if (x == 1) else False)"
   ]
  },
  {
   "cell_type": "code",
   "execution_count": 414,
   "metadata": {},
   "outputs": [],
   "source": [
    "df = df.rename(columns={\"Поз_выпуска\": \"id\",\n",
    "                        \"код_марки\": \"mark_id\",\n",
    "                        \"выпуск\": \"num\",\n",
    "                        \"дата_созд\": \"created_date\",\n",
    "                        \"текущий\": \"is_current\",\n",
    "                        \"прим\": \"note\"\n",
    "                       })"
   ]
  },
  {
   "cell_type": "code",
   "execution_count": 415,
   "metadata": {},
   "outputs": [],
   "source": [
    "df[\"created_date\"] = df[\"created_date\"].astype(object).where(df[\"created_date\"].notnull(), datetime(2000, 1, 1))\n",
    "df = df.where(pd.notnull(df), None)"
   ]
  },
  {
   "cell_type": "code",
   "execution_count": 416,
   "metadata": {},
   "outputs": [],
   "source": [
    "m_ids = pd.read_csv(\"mark_ids.csv\")\n",
    "m_ids = m_ids.drop([\"Unnamed: 0\"], axis=1)\n",
    "m_ids = m_ids.values.flatten().tolist()"
   ]
  },
  {
   "cell_type": "code",
   "execution_count": 417,
   "metadata": {},
   "outputs": [],
   "source": [
    "df = df[df[\"mark_id\"].isin(m_ids)]"
   ]
  },
  {
   "cell_type": "code",
   "execution_count": 418,
   "metadata": {},
   "outputs": [],
   "source": [
    "df.loc[:, [\"id\", \"mark_id\", \"num\"]].to_csv(\"specs.csv\")"
   ]
  },
  {
   "cell_type": "code",
   "execution_count": 419,
   "metadata": {},
   "outputs": [],
   "source": [
    "cursor.execute(open(\"sql_server/3.sql\", \"r\").read())\n",
    "conn.commit()"
   ]
  },
  {
   "cell_type": "code",
   "execution_count": 420,
   "metadata": {},
   "outputs": [],
   "source": [
    "execute_values(df, \"specifications\")"
   ]
  },
  {
   "cell_type": "markdown",
   "metadata": {},
   "source": [
    "<h1>Листы</h1>"
   ]
  },
  {
   "cell_type": "code",
   "execution_count": 421,
   "metadata": {},
   "outputs": [],
   "source": [
    "df = pd.read_sql_query('SELECT * FROM Pro_t.dbo.Листы', db_conn)"
   ]
  },
  {
   "cell_type": "code",
   "execution_count": 422,
   "metadata": {},
   "outputs": [],
   "source": [
    "df = df.replace(\"\", np.nan)"
   ]
  },
  {
   "cell_type": "code",
   "execution_count": 423,
   "metadata": {},
   "outputs": [],
   "source": [
    "df = df[df[\"номер\"].isna() == False]"
   ]
  },
  {
   "cell_type": "code",
   "execution_count": 424,
   "metadata": {},
   "outputs": [],
   "source": [
    "df[\"тип_док\"] = df[\"тип_док\"] + 1"
   ]
  },
  {
   "cell_type": "code",
   "execution_count": 425,
   "metadata": {},
   "outputs": [],
   "source": [
    "df[\"вып\"] = df[\"вып\"].map(lambda x: np.nan if x == 0 else x)"
   ]
  },
  {
   "cell_type": "code",
   "execution_count": 426,
   "metadata": {},
   "outputs": [],
   "source": [
    "df[\"пров\"] = df[\"пров\"].map(lambda x: np.nan if x == 0 else x)"
   ]
  },
  {
   "cell_type": "code",
   "execution_count": 427,
   "metadata": {},
   "outputs": [],
   "source": [
    "df[\"норм\"] = df[\"норм\"].map(lambda x: np.nan if x == 0 else x)"
   ]
  },
  {
   "cell_type": "code",
   "execution_count": 428,
   "metadata": {},
   "outputs": [],
   "source": [
    "df = df.drop([\"шифр_вып\", \"шифр_пров\", \"шифр_норм\"], axis=1)"
   ]
  },
  {
   "cell_type": "code",
   "execution_count": 429,
   "metadata": {},
   "outputs": [],
   "source": [
    "df[\"формат\"] = df[\"формат\"].map(lambda x: 1.0 if np.isnan(x) else x)"
   ]
  },
  {
   "cell_type": "code",
   "execution_count": 430,
   "metadata": {},
   "outputs": [],
   "source": [
    "df = df.drop_duplicates(subset=[\"код_марки\", \"номер\", \"тип_док\"])"
   ]
  },
  {
   "cell_type": "code",
   "execution_count": 431,
   "metadata": {},
   "outputs": [],
   "source": [
    "df = df[df[\"вып\"].isna() == False]"
   ]
  },
  {
   "cell_type": "code",
   "execution_count": 432,
   "metadata": {},
   "outputs": [],
   "source": [
    "df[\"название\"] = df[\"название\"].str.strip()"
   ]
  },
  {
   "cell_type": "code",
   "execution_count": 433,
   "metadata": {},
   "outputs": [],
   "source": [
    "for i in range(0, len(df)):\n",
    "    try:\n",
    "        arr = df[\"название\"][i].split()\n",
    "        new_str = ' '.join(arr)\n",
    "        df.at[i, \"название\"] = new_str\n",
    "    except Exception:\n",
    "        pass"
   ]
  },
  {
   "cell_type": "code",
   "execution_count": 434,
   "metadata": {},
   "outputs": [],
   "source": [
    "df = df.rename(columns={\"поз_листа\": \"id\",\n",
    "                        \"код_марки\": \"mark_id\",\n",
    "                        \"номер\": \"num\",\n",
    "                        \"название\": \"name\",\n",
    "                        \"формат\": \"form\",\n",
    "                        \"вып\": \"creator_id\",\n",
    "                        \"пров\": \"inspector_id\",\n",
    "                        \"норм\": \"norm_contr_id\",\n",
    "                        \"тип_док\": \"type_id\",\n",
    "                        \"выпуск\": \"release_num\",\n",
    "                        \"листов\": \"num_of_pages\",\n",
    "                        \"прим\": \"note\"\n",
    "                       })"
   ]
  },
  {
   "cell_type": "code",
   "execution_count": 435,
   "metadata": {},
   "outputs": [],
   "source": [
    "df = df.where(pd.notnull(df), None)"
   ]
  },
  {
   "cell_type": "code",
   "execution_count": 436,
   "metadata": {},
   "outputs": [],
   "source": [
    "m_ids = pd.read_csv(\"mark_ids.csv\")\n",
    "m_ids = m_ids.drop([\"Unnamed: 0\"], axis=1)\n",
    "m_ids = m_ids.values.flatten().tolist()"
   ]
  },
  {
   "cell_type": "code",
   "execution_count": 437,
   "metadata": {},
   "outputs": [],
   "source": [
    "e_ids = pd.read_csv(\"employee_ids.csv\")\n",
    "e_ids = e_ids.drop([\"Unnamed: 0\"], axis=1)\n",
    "e_ids = e_ids.values.flatten().tolist()"
   ]
  },
  {
   "cell_type": "code",
   "execution_count": 438,
   "metadata": {},
   "outputs": [],
   "source": [
    "df = df[df[\"mark_id\"].isin(m_ids)]\n",
    "df.loc[df[\"creator_id\"].isin(e_ids) == False, \"creator_id\"] = None\n",
    "df.loc[df[\"inspector_id\"].isin(e_ids) == False, \"inspector_id\"] = None\n",
    "df.loc[df[\"norm_contr_id\"].isin(e_ids) == False, \"norm_contr_id\"] = None"
   ]
  },
  {
   "cell_type": "code",
   "execution_count": 439,
   "metadata": {},
   "outputs": [],
   "source": [
    "df[\"release_num\"] = df[\"release_num\"].fillna(0)\n",
    "df[\"num_of_pages\"] = df[\"num_of_pages\"].fillna(0)"
   ]
  },
  {
   "cell_type": "code",
   "execution_count": 440,
   "metadata": {},
   "outputs": [],
   "source": [
    "df = df[df[\"creator_id\"].isna() == False]\n",
    "df = df[df[\"name\"].isna() == False]"
   ]
  },
  {
   "cell_type": "code",
   "execution_count": 441,
   "metadata": {},
   "outputs": [],
   "source": [
    "cursor.execute(open(\"sql_server/6.sql\", \"r\").read())\n",
    "conn.commit()"
   ]
  },
  {
   "cell_type": "code",
   "execution_count": 442,
   "metadata": {},
   "outputs": [],
   "source": [
    "execute_values(df, \"docs\")"
   ]
  },
  {
   "cell_type": "markdown",
   "metadata": {},
   "source": [
    "<h1>Обозначения марок</h1>"
   ]
  },
  {
   "cell_type": "code",
   "execution_count": 443,
   "metadata": {},
   "outputs": [],
   "source": [
    "df = pd.read_sql_query('SELECT * FROM Pro_t.dbo.Об_марок', db_conn)"
   ]
  },
  {
   "cell_type": "code",
   "execution_count": 444,
   "metadata": {},
   "outputs": [],
   "source": [
    "df = df.iloc[:-1, :]"
   ]
  },
  {
   "cell_type": "code",
   "execution_count": 445,
   "metadata": {},
   "outputs": [],
   "source": [
    "df.loc[0, \"об_марки\"] = \"КМД\"\n",
    "df.loc[0, \"наим_марки\"] = \"Конструкции металлические деталировочные\""
   ]
  },
  {
   "cell_type": "code",
   "execution_count": 446,
   "metadata": {},
   "outputs": [],
   "source": [
    "df = df.rename(columns={\"Поз\": \"id\",\n",
    "                        \"об_марки\": \"designation\",\n",
    "                        \"наим_марки\": \"name\"\n",
    "                       })"
   ]
  },
  {
   "cell_type": "code",
   "execution_count": 447,
   "metadata": {},
   "outputs": [],
   "source": [
    "cursor.execute(open(\"sql_server/9.sql\", \"r\").read())\n",
    "conn.commit()"
   ]
  },
  {
   "cell_type": "code",
   "execution_count": 448,
   "metadata": {},
   "outputs": [],
   "source": [
    "execute_values(df, \"mark_designations\")"
   ]
  },
  {
   "cell_type": "markdown",
   "metadata": {},
   "source": [
    "<h1>Прилагаемые документы марки</h1>"
   ]
  },
  {
   "cell_type": "code",
   "execution_count": 449,
   "metadata": {},
   "outputs": [],
   "source": [
    "df = pd.read_sql_query('SELECT * FROM Pro_t.dbo.Од_прил', db_conn)"
   ]
  },
  {
   "cell_type": "code",
   "execution_count": 450,
   "metadata": {},
   "outputs": [],
   "source": [
    "df = df.replace(\"\", np.nan)"
   ]
  },
  {
   "cell_type": "code",
   "execution_count": 451,
   "metadata": {},
   "outputs": [],
   "source": [
    "df = df.drop_duplicates(subset=[\"код_марки\", \"обозн_прил\"])"
   ]
  },
  {
   "cell_type": "code",
   "execution_count": 452,
   "metadata": {},
   "outputs": [],
   "source": [
    "df = df.where(pd.notnull(df), None)"
   ]
  },
  {
   "cell_type": "code",
   "execution_count": 453,
   "metadata": {},
   "outputs": [],
   "source": [
    "df = df.rename(columns={\"Поз_прил\": \"id\",\n",
    "                        \"код_марки\": \"mark_id\",\n",
    "                        \"наим_прил\": \"name\",\n",
    "                        \"прим\": \"note\",\n",
    "                        \"обозн_прил\": \"designation\"\n",
    "                       })"
   ]
  },
  {
   "cell_type": "code",
   "execution_count": 454,
   "metadata": {},
   "outputs": [],
   "source": [
    "m_ids = pd.read_csv(\"mark_ids.csv\")\n",
    "m_ids = m_ids.drop([\"Unnamed: 0\"], axis=1)\n",
    "m_ids = m_ids.values.flatten().tolist()\n",
    "df = df[df[\"mark_id\"].isin(m_ids)]"
   ]
  },
  {
   "cell_type": "code",
   "execution_count": 455,
   "metadata": {},
   "outputs": [],
   "source": [
    "cursor.execute(open(\"sql_server/12.sql\", \"r\").read())\n",
    "conn.commit()"
   ]
  },
  {
   "cell_type": "code",
   "execution_count": 456,
   "metadata": {},
   "outputs": [],
   "source": [
    "execute_values(df, \"attached_docs\")"
   ]
  },
  {
   "cell_type": "markdown",
   "metadata": {},
   "source": [
    "<h1>Согласования</h1>"
   ]
  },
  {
   "cell_type": "code",
   "execution_count": 457,
   "metadata": {},
   "outputs": [],
   "source": [
    "df = pd.read_sql_query('SELECT * FROM Pro_t.dbo.Од_согл', db_conn)"
   ]
  },
  {
   "cell_type": "code",
   "execution_count": 458,
   "metadata": {},
   "outputs": [],
   "source": [
    "df = df.replace(\"\", np.nan)"
   ]
  },
  {
   "cell_type": "code",
   "execution_count": 459,
   "metadata": {},
   "outputs": [],
   "source": [
    "df = df.drop([\"отдел1\", \"отдел2\", \"отдел3\", \"отдел4\", \"отдел5\", \"отдел6\", \"отдел7\"], axis=1)"
   ]
  },
  {
   "cell_type": "code",
   "execution_count": 460,
   "metadata": {},
   "outputs": [],
   "source": [
    "p1 = df.iloc[:, [0,1]]\n",
    "p1 = p1.rename(columns={\"исп1\": \"исп\"})\n",
    "\n",
    "p2 = df.iloc[:, [0,2]]\n",
    "p2 = p2.rename(columns={\"исп2\": \"исп\"})\n",
    "\n",
    "p3 = df.iloc[:, [0,3]]\n",
    "p3 = p3.rename(columns={\"исп3\": \"исп\"})\n",
    "\n",
    "p4 = df.iloc[:, [0,4]]\n",
    "p4 = p4.rename(columns={\"исп4\": \"исп\"})\n",
    "\n",
    "p5 = df.iloc[:, [0,5]]\n",
    "p5 = p5.rename(columns={\"исп5\": \"исп\"})\n",
    "\n",
    "p6 = df.iloc[:, [0,6]]\n",
    "p6 = p6.rename(columns={\"исп6\": \"исп\"})\n",
    "\n",
    "p7 = df.iloc[:, [0,7]]\n",
    "p7 = p7.rename(columns={\"исп7\": \"исп\"})"
   ]
  },
  {
   "cell_type": "code",
   "execution_count": 461,
   "metadata": {},
   "outputs": [],
   "source": [
    "df = pd.concat([p1, p2, p3, p4, p5, p6, p7], ignore_index=True)"
   ]
  },
  {
   "cell_type": "code",
   "execution_count": 462,
   "metadata": {},
   "outputs": [],
   "source": [
    "df = df.dropna()\n",
    "df = df[df[\"исп\"] != 0]"
   ]
  },
  {
   "cell_type": "code",
   "execution_count": 463,
   "metadata": {},
   "outputs": [],
   "source": [
    "df = df.drop_duplicates()"
   ]
  },
  {
   "cell_type": "code",
   "execution_count": 464,
   "metadata": {},
   "outputs": [],
   "source": [
    "df.insert(0, 'id', range(1, len(df) + 1))"
   ]
  },
  {
   "cell_type": "code",
   "execution_count": 465,
   "metadata": {},
   "outputs": [],
   "source": [
    "df = df.rename(columns={\"код_марки\": \"mark_id\",\n",
    "                        \"исп\": \"employee_id\"\n",
    "                       })"
   ]
  },
  {
   "cell_type": "code",
   "execution_count": 466,
   "metadata": {},
   "outputs": [],
   "source": [
    "m_ids = pd.read_csv(\"mark_ids.csv\")\n",
    "e_ids = pd.read_csv(\"employee_ids.csv\")"
   ]
  },
  {
   "cell_type": "code",
   "execution_count": 467,
   "metadata": {},
   "outputs": [],
   "source": [
    "m_ids = m_ids.drop([\"Unnamed: 0\"], axis=1)\n",
    "e_ids = e_ids.drop([\"Unnamed: 0\"], axis=1)"
   ]
  },
  {
   "cell_type": "code",
   "execution_count": 468,
   "metadata": {},
   "outputs": [],
   "source": [
    "m_ids = m_ids.values.flatten().tolist()\n",
    "e_ids = e_ids.values.flatten().tolist()"
   ]
  },
  {
   "cell_type": "code",
   "execution_count": 469,
   "metadata": {},
   "outputs": [],
   "source": [
    "df = df[df[\"mark_id\"].isin(m_ids)]\n",
    "df = df[df[\"employee_id\"].isin(e_ids)]"
   ]
  },
  {
   "cell_type": "code",
   "execution_count": 470,
   "metadata": {},
   "outputs": [],
   "source": [
    "cursor.execute(open(\"sql_server/13.sql\", \"r\").read())\n",
    "conn.commit()"
   ]
  },
  {
   "cell_type": "code",
   "execution_count": 471,
   "metadata": {},
   "outputs": [],
   "source": [
    "execute_values(df, \"mark_approvals\")"
   ]
  },
  {
   "cell_type": "markdown",
   "metadata": {},
   "source": [
    "<h1>Ссылочные документы марки</h1>"
   ]
  },
  {
   "cell_type": "code",
   "execution_count": 472,
   "metadata": {},
   "outputs": [],
   "source": [
    "df = pd.read_sql_query('SELECT * FROM Pro_t.dbo.Од_ссыл', db_conn)"
   ]
  },
  {
   "cell_type": "code",
   "execution_count": 473,
   "metadata": {},
   "outputs": [],
   "source": [
    "df = df.replace(\"\", np.nan)"
   ]
  },
  {
   "cell_type": "code",
   "execution_count": 474,
   "metadata": {},
   "outputs": [],
   "source": [
    "df= df[df[\"шифр_сд\"] != \"1\"]\n",
    "df[\"шифр_сд\"] = df[\"шифр_сд\"].str.upper()"
   ]
  },
  {
   "cell_type": "code",
   "execution_count": 475,
   "metadata": {},
   "outputs": [],
   "source": [
    "m_ids = pd.read_csv(\"mark_ids.csv\")\n",
    "m_ids = m_ids.drop([\"Unnamed: 0\"], axis=1)\n",
    "m_ids = m_ids.values.flatten().tolist()\n",
    "df = df[df[\"код_марки\"].isin(m_ids)]"
   ]
  },
  {
   "cell_type": "code",
   "execution_count": 476,
   "metadata": {},
   "outputs": [
    {
     "name": "stderr",
     "output_type": "stream",
     "text": [
      "<ipython-input-476-9c8014e24f43>:2: DeprecationWarning: The default dtype for empty Series will be 'object' instead of 'float64' in a future version. Specify a dtype explicitly to silence this warning.\n",
      "  df = df.append(pd.Series(), ignore_index=True)\n"
     ]
    }
   ],
   "source": [
    "for i in range(1, 301):\n",
    "    df = df.append(pd.Series(), ignore_index=True)"
   ]
  },
  {
   "cell_type": "code",
   "execution_count": 477,
   "metadata": {},
   "outputs": [],
   "source": [
    "df.loc[:, \"код_марки\"] = random.choices(m_ids, k=300)\n",
    "df.loc[:, \"шифр_сд\"] = random.choices(range(1, 300), k=300)"
   ]
  },
  {
   "cell_type": "code",
   "execution_count": 478,
   "metadata": {},
   "outputs": [],
   "source": [
    "df = df.drop_duplicates(subset=[\"код_марки\", \"шифр_сд\"])"
   ]
  },
  {
   "cell_type": "code",
   "execution_count": 479,
   "metadata": {},
   "outputs": [],
   "source": [
    "df = df.drop([\"Поз_сд\"], axis=1)"
   ]
  },
  {
   "cell_type": "code",
   "execution_count": 480,
   "metadata": {},
   "outputs": [],
   "source": [
    "df.insert(0, 'id', range(1, len(df) + 1))"
   ]
  },
  {
   "cell_type": "code",
   "execution_count": 481,
   "metadata": {},
   "outputs": [],
   "source": [
    "df = df.rename(columns={\"код_марки\": \"mark_id\",\n",
    "                        \"шифр_сд\": \"linked_doc_id\",\n",
    "                        \"прим\": \"note\"\n",
    "                       })"
   ]
  },
  {
   "cell_type": "code",
   "execution_count": 482,
   "metadata": {},
   "outputs": [],
   "source": [
    "cursor.execute(open(\"sql_server/14.sql\", \"r\").read())\n",
    "conn.commit()"
   ]
  },
  {
   "cell_type": "code",
   "execution_count": 483,
   "metadata": {},
   "outputs": [],
   "source": [
    "execute_values(df, \"mark_linked_docs\")"
   ]
  },
  {
   "cell_type": "markdown",
   "metadata": {},
   "source": [
    "<h1>Учет дополнительных работ</h1>"
   ]
  },
  {
   "cell_type": "code",
   "execution_count": 484,
   "metadata": {},
   "outputs": [],
   "source": [
    "df = pd.read_sql_query('SELECT * FROM Pro_t.dbo.Од_вып_доп', db_conn)"
   ]
  },
  {
   "cell_type": "code",
   "execution_count": 485,
   "metadata": {},
   "outputs": [],
   "source": [
    "df = df.replace(\"\", np.nan)"
   ]
  },
  {
   "cell_type": "code",
   "execution_count": 486,
   "metadata": {},
   "outputs": [],
   "source": [
    "df = df.drop([\"шифр_исп\"], axis=1)"
   ]
  },
  {
   "cell_type": "code",
   "execution_count": 487,
   "metadata": {},
   "outputs": [],
   "source": [
    "df = df[df[\"код_исп\"].isna() == False]"
   ]
  },
  {
   "cell_type": "code",
   "execution_count": 488,
   "metadata": {},
   "outputs": [],
   "source": [
    "df = df.drop_duplicates(subset=[\"код_марки\", \"код_исп\"])"
   ]
  },
  {
   "cell_type": "code",
   "execution_count": 489,
   "metadata": {},
   "outputs": [],
   "source": [
    "m_ids = pd.read_csv(\"mark_ids.csv\")\n",
    "m_ids = m_ids.drop([\"Unnamed: 0\"], axis=1)\n",
    "m_ids = m_ids.values.flatten().tolist()\n",
    "df = df[df[\"код_марки\"].isin(m_ids)]"
   ]
  },
  {
   "cell_type": "code",
   "execution_count": 490,
   "metadata": {},
   "outputs": [],
   "source": [
    "df = df.rename(columns={\"Поз_вып_доп\": \"id\",\n",
    "                        \"код_марки\": \"mark_id\",\n",
    "                        \"код_исп\": \"employee_id\",\n",
    "                        \"расчет\": \"valuation\",\n",
    "                        \"заказ\": \"metal_order\",\n",
    "                       })"
   ]
  },
  {
   "cell_type": "code",
   "execution_count": 491,
   "metadata": {},
   "outputs": [],
   "source": [
    "cursor.execute(open(\"sql_server/11.sql\", \"r\").read())\n",
    "conn.commit()"
   ]
  },
  {
   "cell_type": "code",
   "execution_count": 492,
   "metadata": {},
   "outputs": [],
   "source": [
    "execute_values(df, \"additional_work\")"
   ]
  },
  {
   "cell_type": "markdown",
   "metadata": {},
   "source": [
    "<h1>Типовые конструкции</h1>"
   ]
  },
  {
   "cell_type": "code",
   "execution_count": 493,
   "metadata": {},
   "outputs": [],
   "source": [
    "df = pd.read_sql_query('SELECT * FROM Pro_t.dbo.Тс_типовые', db_conn)"
   ]
  },
  {
   "cell_type": "code",
   "execution_count": 494,
   "metadata": {},
   "outputs": [],
   "source": [
    "df = df[df[\"имя_тк\"].isna() == False]"
   ]
  },
  {
   "cell_type": "code",
   "execution_count": 495,
   "metadata": {},
   "outputs": [],
   "source": [
    "df[\"имя_тк\"] = df[\"имя_тк\"].str.strip()"
   ]
  },
  {
   "cell_type": "markdown",
   "metadata": {},
   "source": [
    "<h2>Типовые наименования типовых конструкций</h2>"
   ]
  },
  {
   "cell_type": "code",
   "execution_count": 496,
   "metadata": {},
   "outputs": [],
   "source": [
    "st_name_df = pd.DataFrame(data=df[\"имя_тк\"].unique(), columns=[\"name\"])"
   ]
  },
  {
   "cell_type": "code",
   "execution_count": 497,
   "metadata": {},
   "outputs": [],
   "source": [
    "st_name_df.loc[3, \"name\"] = \"Рельсы крановые КР-70 сталь К63\"\n",
    "st_name_df = st_name_df[st_name_df[\"name\"] != \"КР-70\"]\n",
    "st_name_df.loc[5, \"name\"] = \"Рельсы крановые Р-43\"\n",
    "st_name_df = st_name_df[st_name_df[\"name\"] != \"Оцинкованная сталь ГОСТ14918-80*\"]\n",
    "st_name_df.loc[11, \"name\"] = \"Рельсы крановые КР-70\"\n",
    "st_name_df.loc[12, \"name\"] = \"Детали крепления крановых рельсов\"\n",
    "st_name_df = st_name_df[st_name_df[\"name\"] != \"Крановый рельс КР-70\"]\n",
    "st_name_df.loc[16, \"name\"] = \"Накладка 5 на рельс Р-24 по ГОСТ 8141-56\""
   ]
  },
  {
   "cell_type": "code",
   "execution_count": 498,
   "metadata": {},
   "outputs": [],
   "source": [
    "st_name_df.insert(0, 'id', range(1, len(st_name_df) + 1))"
   ]
  },
  {
   "cell_type": "code",
   "execution_count": 499,
   "metadata": {},
   "outputs": [],
   "source": [
    "cursor.execute(open(\"sql_server/yyy_1.sql\", \"r\").read())\n",
    "conn.commit()"
   ]
  },
  {
   "cell_type": "code",
   "execution_count": 500,
   "metadata": {},
   "outputs": [],
   "source": [
    "execute_values(st_name_df, \"standard_construction_names\")"
   ]
  },
  {
   "cell_type": "markdown",
   "metadata": {},
   "source": [
    "--------------------"
   ]
  },
  {
   "cell_type": "code",
   "execution_count": 501,
   "metadata": {},
   "outputs": [],
   "source": [
    "m_ids = pd.read_csv(\"mark_ids.csv\")\n",
    "m_ids = m_ids.drop([\"Unnamed: 0\"], axis=1)\n",
    "m_ids = m_ids.values.flatten().tolist()\n",
    "df = df[df[\"код_марки\"].isin(m_ids)]"
   ]
  },
  {
   "cell_type": "code",
   "execution_count": 502,
   "metadata": {},
   "outputs": [],
   "source": [
    "specs = pd.read_csv(\"specs.csv\")\n",
    "specs = specs.drop([\"Unnamed: 0\"], axis=1)"
   ]
  },
  {
   "cell_type": "code",
   "execution_count": 503,
   "metadata": {},
   "outputs": [],
   "source": [
    "for index, row in df.iterrows():\n",
    "    try:\n",
    "        df.loc[index, \"specification_id\"] = specs.loc[(specs[\"mark_id\"] == row[\"код_марки\"]) & (specs[\"num\"] == row[\"выпуск\"]), \"id\"].values[0]\n",
    "    except:\n",
    "        pass"
   ]
  },
  {
   "cell_type": "code",
   "execution_count": 504,
   "metadata": {},
   "outputs": [],
   "source": [
    "df = df.drop([\"код_марки\", \"выпуск\"], axis=1)"
   ]
  },
  {
   "cell_type": "code",
   "execution_count": 505,
   "metadata": {},
   "outputs": [],
   "source": [
    "df.loc[24, \"кол_тк\"] = 1"
   ]
  },
  {
   "cell_type": "code",
   "execution_count": 506,
   "metadata": {},
   "outputs": [],
   "source": [
    "# https://wikiweight.info/strmat/massa-ankerov-hilti.html\n",
    "df.loc[28, \"вес_тк\"] = 0.056\n",
    "df.loc[32, \"вес_тк\"] = 0.056"
   ]
  },
  {
   "cell_type": "code",
   "execution_count": 507,
   "metadata": {},
   "outputs": [],
   "source": [
    "df.loc[25, \"вес_тк\"] = 0.024\n",
    "df.loc[29, \"вес_тк\"] = 0.024\n",
    "df.loc[25, \"кол_тк\"] = 360\n",
    "df.loc[29, \"кол_тк\"] = 360\n",
    "df = df[df[\"сч_тк\"] != 54]\n",
    "df = df[df[\"сч_тк\"] != 58]"
   ]
  },
  {
   "cell_type": "code",
   "execution_count": 508,
   "metadata": {},
   "outputs": [],
   "source": [
    "df = df.rename(columns={\"сч_тк\": \"id\",\n",
    "                        \"имя_тк\": \"name\",\n",
    "                        \"кол_тк\": \"num\",\n",
    "                        \"лист_тк\": \"sheet\",\n",
    "                        \"вес_тк\": \"weight\"\n",
    "                       })"
   ]
  },
  {
   "cell_type": "code",
   "execution_count": 509,
   "metadata": {},
   "outputs": [],
   "source": [
    "df = df.where(pd.notnull(df), None)"
   ]
  },
  {
   "cell_type": "code",
   "execution_count": 510,
   "metadata": {},
   "outputs": [],
   "source": [
    "cursor.execute(open(\"sql_server/47.sql\", \"r\").read())\n",
    "conn.commit()"
   ]
  },
  {
   "cell_type": "code",
   "execution_count": 511,
   "metadata": {},
   "outputs": [],
   "source": [
    "execute_values(df, \"standard_constructions\")"
   ]
  },
  {
   "cell_type": "markdown",
   "metadata": {},
   "source": [
    "<h1>Виды конструкций марки</h1>"
   ]
  },
  {
   "cell_type": "code",
   "execution_count": 512,
   "metadata": {},
   "outputs": [],
   "source": [
    "df = pd.read_sql_query('SELECT * FROM Pro_t.dbo.Тс_Виды_к', db_conn)"
   ]
  },
  {
   "cell_type": "code",
   "execution_count": 513,
   "metadata": {},
   "outputs": [],
   "source": [
    "df = df.drop_duplicates()"
   ]
  },
  {
   "cell_type": "code",
   "execution_count": 514,
   "metadata": {},
   "outputs": [],
   "source": [
    "df = df.dropna(subset=[\"кт_окраски\", \"кол_тип_констр\", \"имя_к\", \"Шифр_к\", \"Шифр_пк\"])"
   ]
  },
  {
   "cell_type": "code",
   "execution_count": 515,
   "metadata": {},
   "outputs": [],
   "source": [
    "m_ids = pd.read_csv(\"mark_ids.csv\")\n",
    "m_ids = m_ids.drop([\"Unnamed: 0\"], axis=1)\n",
    "m_ids = m_ids.values.flatten().tolist()\n",
    "df = df[df[\"код_марки\"].isin(m_ids)]"
   ]
  },
  {
   "cell_type": "code",
   "execution_count": 516,
   "metadata": {},
   "outputs": [],
   "source": [
    "specs = pd.read_csv(\"specs.csv\")\n",
    "specs = specs.drop([\"Unnamed: 0\"], axis=1)"
   ]
  },
  {
   "cell_type": "code",
   "execution_count": 517,
   "metadata": {},
   "outputs": [],
   "source": [
    "df.insert(1, \"specification_id\", 0, True) "
   ]
  },
  {
   "cell_type": "code",
   "execution_count": 518,
   "metadata": {},
   "outputs": [],
   "source": [
    "for index, row in df.iterrows():\n",
    "    try:\n",
    "        df.loc[index, \"specification_id\"] = specs.loc[(specs[\"mark_id\"] == row[\"код_марки\"]) & (specs[\"num\"] == row[\"выпуск\"]), \"id\"].values[0]\n",
    "    except:\n",
    "        pass"
   ]
  },
  {
   "cell_type": "code",
   "execution_count": 519,
   "metadata": {},
   "outputs": [],
   "source": [
    "df = df[df[\"specification_id\"] != 0]"
   ]
  },
  {
   "cell_type": "code",
   "execution_count": 520,
   "metadata": {},
   "outputs": [],
   "source": [
    "df = df.drop([\"код_марки\", \"выпуск\"], axis=1)"
   ]
  },
  {
   "cell_type": "code",
   "execution_count": 521,
   "metadata": {},
   "outputs": [],
   "source": [
    "df[\"Шифр_пк\"] = df[\"Шифр_пк\"].replace(0, np.nan)"
   ]
  },
  {
   "cell_type": "code",
   "execution_count": 522,
   "metadata": {},
   "outputs": [],
   "source": [
    "df = df.drop([\"вкл\", \"окраска\", \"огнезащита\", \"ПределОС\", \"ПредСост_несущ\", \"ПредСост_целост\", \"ПредСост_тепло_изол\", \"ПредСост_тепло_поток\", \"ПредСост_газ\", \"статус_к\", \"ТеорРасходОЗ\"], axis=1)"
   ]
  },
  {
   "cell_type": "code",
   "execution_count": 523,
   "metadata": {},
   "outputs": [],
   "source": [
    "df = df.rename(columns={\"сч_констр\": \"id\",\n",
    "                        \"имя_к\": \"name\",\n",
    "                        \"Шифр_к\": \"type_id\",\n",
    "                        \"Шифр_пк\": \"subtype_id\",\n",
    "                        \"расценка\": \"valuation\",\n",
    "                        \"шифр_тип_альбома\": \"standard_album_code\",\n",
    "                        \"кол_тип_констр\": \"num_of_standard_constructions\",\n",
    "                        \"притупление\": \"has_edge_blunting\",\n",
    "                        \"динамика\": \"has_dynamic_load\",\n",
    "                        \"фланцы\": \"has_flanged_connections\",\n",
    "                        \"контроль_сварки\": \"welding_control_id\",\n",
    "                        \"кт_окраски\": \"paintwork_coeff\",\n",
    "                       })"
   ]
  },
  {
   "cell_type": "code",
   "execution_count": 524,
   "metadata": {},
   "outputs": [],
   "source": [
    "df = df.where(pd.notnull(df), None)"
   ]
  },
  {
   "cell_type": "code",
   "execution_count": 525,
   "metadata": {},
   "outputs": [],
   "source": [
    "df = df[df[\"type_id\"] < 88]"
   ]
  },
  {
   "cell_type": "code",
   "execution_count": 526,
   "metadata": {},
   "outputs": [],
   "source": [
    "df = df[df[\"type_id\"] > 0]"
   ]
  },
  {
   "cell_type": "code",
   "execution_count": 527,
   "metadata": {},
   "outputs": [],
   "source": [
    "df = df.drop_duplicates(subset=[\"specification_id\", \"name\", \"paintwork_coeff\"])"
   ]
  },
  {
   "cell_type": "code",
   "execution_count": 528,
   "metadata": {},
   "outputs": [],
   "source": [
    "df.loc[:, [\"id\"]].to_csv(\"construction_ids.csv\")"
   ]
  },
  {
   "cell_type": "code",
   "execution_count": 529,
   "metadata": {},
   "outputs": [],
   "source": [
    "cursor.execute(open(\"sql_server/46.sql\", \"r\").read())\n",
    "conn.commit()"
   ]
  },
  {
   "cell_type": "code",
   "execution_count": 530,
   "metadata": {},
   "outputs": [],
   "source": [
    "execute_values(df, \"constructions\")"
   ]
  },
  {
   "cell_type": "markdown",
   "metadata": {},
   "source": [
    "<h1>Справочник болтов, диаметры</h1>"
   ]
  },
  {
   "cell_type": "code",
   "execution_count": 531,
   "metadata": {},
   "outputs": [],
   "source": [
    "df = pd.read_sql_query('SELECT * FROM Pro_t.dbo.Спр_болтов', db_conn)"
   ]
  },
  {
   "cell_type": "code",
   "execution_count": 532,
   "metadata": {},
   "outputs": [],
   "source": [
    "df = df.rename(columns={\"код_д\": \"id\",\n",
    "                        \"диаметр\": \"diameter\",\n",
    "                        \"масса_г\": \"nut_weight\",\n",
    "                        \"сталь_ш\": \"washer_steel\",\n",
    "                        \"масса_ш\": \"washer_weight\",\n",
    "                        \"толщина_ш\": \"washer_thickness\",\n",
    "                        \"ТУ_б\": \"bolt_tech_spec\",\n",
    "                        \"кл_пр_б\": \"strength_class\",\n",
    "                        \"ТУ_г\": \"nut_tech_spec\",\n",
    "                        \"ТУ_ш\": \"washer_tech_spec\",\n",
    "                       })"
   ]
  },
  {
   "cell_type": "code",
   "execution_count": 533,
   "metadata": {},
   "outputs": [],
   "source": [
    "cursor.execute(open(\"sql_server/20.sql\", \"r\").read())\n",
    "conn.commit()"
   ]
  },
  {
   "cell_type": "code",
   "execution_count": 534,
   "metadata": {},
   "outputs": [],
   "source": [
    "execute_values(df, \"bolt_diameters\")"
   ]
  },
  {
   "cell_type": "markdown",
   "metadata": {},
   "source": [
    "<h1>Справочник болтов, длины</h1>"
   ]
  },
  {
   "cell_type": "code",
   "execution_count": 535,
   "metadata": {},
   "outputs": [],
   "source": [
    "df = pd.read_sql_query('SELECT * FROM Pro_t.dbo.Спр_болтов_дл', db_conn)"
   ]
  },
  {
   "cell_type": "code",
   "execution_count": 536,
   "metadata": {},
   "outputs": [],
   "source": [
    "df = df.rename(columns={\"Код_болта\": \"id\",\n",
    "                        \"код_д\": \"diameter_id\",\n",
    "                        \"длина_б\": \"length\",\n",
    "                        \"длина_нар\": \"screw_length\",\n",
    "                        \"масса_б\": \"weight\"\n",
    "                       })"
   ]
  },
  {
   "cell_type": "code",
   "execution_count": 537,
   "metadata": {},
   "outputs": [],
   "source": [
    "cursor.execute(open(\"sql_server/21.sql\", \"r\").read())\n",
    "conn.commit()"
   ]
  },
  {
   "cell_type": "code",
   "execution_count": 538,
   "metadata": {},
   "outputs": [],
   "source": [
    "execute_values(df, \"bolt_lengths\")"
   ]
  },
  {
   "cell_type": "markdown",
   "metadata": {},
   "source": [
    "<h1>Высокопрочные болты видов конструкций</h1>"
   ]
  },
  {
   "cell_type": "code",
   "execution_count": 539,
   "metadata": {},
   "outputs": [],
   "source": [
    "df = pd.read_sql_query('SELECT * FROM Pro_t.dbo.Тс_болты', db_conn)"
   ]
  },
  {
   "cell_type": "code",
   "execution_count": 540,
   "metadata": {},
   "outputs": [],
   "source": [
    "c_ids = pd.read_csv(\"construction_ids.csv\")\n",
    "c_ids = c_ids.drop([\"Unnamed: 0\"], axis=1)\n",
    "c_ids = c_ids.values.flatten().tolist()"
   ]
  },
  {
   "cell_type": "code",
   "execution_count": 541,
   "metadata": {},
   "outputs": [],
   "source": [
    "df = df[df[\"сч_констр\"].isin(c_ids)]"
   ]
  },
  {
   "cell_type": "code",
   "execution_count": 542,
   "metadata": {},
   "outputs": [],
   "source": [
    "df.loc[:, \"код_диаметра\"] = df.loc[:, \"код_диаметра\"].replace(0, np.nan)"
   ]
  },
  {
   "cell_type": "code",
   "execution_count": 543,
   "metadata": {},
   "outputs": [],
   "source": [
    "df = df.dropna()"
   ]
  },
  {
   "cell_type": "code",
   "execution_count": 544,
   "metadata": {},
   "outputs": [],
   "source": [
    "df = df.rename(columns={\"поз_болта\": \"id\",\n",
    "                        \"сч_констр\": \"construction_id\",\n",
    "                        \"код_диаметра\": \"diameter_id\",\n",
    "                        \"пакет\": \"packet\",\n",
    "                        \"кол\": \"num\",\n",
    "                        \"гаек\": \"nut_num\",\n",
    "                        \"шайб\": \"washer_num\",\n",
    "                       })"
   ]
  },
  {
   "cell_type": "code",
   "execution_count": 545,
   "metadata": {},
   "outputs": [],
   "source": [
    "cursor.execute(open(\"sql_server/45.sql\", \"r\").read())\n",
    "conn.commit()"
   ]
  },
  {
   "cell_type": "code",
   "execution_count": 546,
   "metadata": {},
   "outputs": [],
   "source": [
    "execute_values(df, \"construction_bolts\")"
   ]
  },
  {
   "cell_type": "markdown",
   "metadata": {},
   "source": [
    "<h1>Виды профилей</h1>"
   ]
  },
  {
   "cell_type": "code",
   "execution_count": 547,
   "metadata": {},
   "outputs": [],
   "source": [
    "df = pd.read_sql_query('SELECT * FROM Pro_t.dbo.Спр_видов_п', db_conn)"
   ]
  },
  {
   "cell_type": "code",
   "execution_count": 548,
   "metadata": {},
   "outputs": [],
   "source": [
    "df[\"Имя_в\"] = df[\"Имя_в\"].str.strip()\n",
    "df[\"Прим\"] = df[\"Прим\"].str.strip()"
   ]
  },
  {
   "cell_type": "code",
   "execution_count": 549,
   "metadata": {},
   "outputs": [],
   "source": [
    "df = df.drop_duplicates(subset=[\"Имя_в\"])"
   ]
  },
  {
   "cell_type": "code",
   "execution_count": 550,
   "metadata": {},
   "outputs": [],
   "source": [
    "df = df.rename(columns={\"Шифр_в\": \"id\",\n",
    "                        \"Имя_в\": \"name\",\n",
    "                        \"Прим\": \"note\"\n",
    "                       })"
   ]
  },
  {
   "cell_type": "code",
   "execution_count": 551,
   "metadata": {},
   "outputs": [],
   "source": [
    "df = df.sort_values(by=[\"id\"])"
   ]
  },
  {
   "cell_type": "code",
   "execution_count": 552,
   "metadata": {},
   "outputs": [],
   "source": [
    "df = df.reset_index(drop=True)"
   ]
  },
  {
   "cell_type": "code",
   "execution_count": 553,
   "metadata": {},
   "outputs": [],
   "source": [
    "df.loc[:, [\"id\"]].to_csv(\"prof.csv\")"
   ]
  },
  {
   "cell_type": "code",
   "execution_count": 554,
   "metadata": {},
   "outputs": [],
   "source": [
    "cursor.execute(open(\"sql_server/23.sql\", \"r\").read())\n",
    "conn.commit()"
   ]
  },
  {
   "cell_type": "code",
   "execution_count": 555,
   "metadata": {},
   "outputs": [],
   "source": [
    "execute_values(df, \"profile_classes\")"
   ]
  },
  {
   "cell_type": "markdown",
   "metadata": {},
   "source": [
    "<h1>Типы профилей</h1>"
   ]
  },
  {
   "cell_type": "code",
   "execution_count": 556,
   "metadata": {},
   "outputs": [],
   "source": [
    "df = pd.read_sql_query('SELECT * FROM Pro_t.dbo.Спр_типов_проф', db_conn)"
   ]
  },
  {
   "cell_type": "code",
   "execution_count": 557,
   "metadata": {},
   "outputs": [],
   "source": [
    "df[\"Имя_т\"] = df[\"Имя_т\"].str.strip()"
   ]
  },
  {
   "cell_type": "code",
   "execution_count": 558,
   "metadata": {},
   "outputs": [],
   "source": [
    "df = df.rename(columns={\"Тип\": \"id\",\n",
    "                        \"Имя_т\": \"name\"\n",
    "                       })"
   ]
  },
  {
   "cell_type": "code",
   "execution_count": 559,
   "metadata": {},
   "outputs": [],
   "source": [
    "cursor.execute(open(\"sql_server/42.sql\", \"r\").read())\n",
    "conn.commit()"
   ]
  },
  {
   "cell_type": "code",
   "execution_count": 560,
   "metadata": {},
   "outputs": [],
   "source": [
    "execute_values(df, \"profile_types\")"
   ]
  },
  {
   "cell_type": "markdown",
   "metadata": {},
   "source": [
    "<h1>Профили</h1>"
   ]
  },
  {
   "cell_type": "code",
   "execution_count": 561,
   "metadata": {},
   "outputs": [],
   "source": [
    "df = pd.read_sql_query('SELECT * FROM Pro_t.dbo.Спр_проф_полн', db_conn)"
   ]
  },
  {
   "cell_type": "code",
   "execution_count": 562,
   "metadata": {},
   "outputs": [],
   "source": [
    "df = df.replace(\"\", np.nan)"
   ]
  },
  {
   "cell_type": "code",
   "execution_count": 563,
   "metadata": {},
   "outputs": [],
   "source": [
    "df = df[df[\"Имя_п\"].isna() == False]"
   ]
  },
  {
   "cell_type": "code",
   "execution_count": 564,
   "metadata": {},
   "outputs": [],
   "source": [
    "df = df[df[\"Вес\"].isna() == False]"
   ]
  },
  {
   "cell_type": "code",
   "execution_count": 565,
   "metadata": {},
   "outputs": [],
   "source": [
    "df[\"Имя_п\"] = df[\"Имя_п\"].str.strip()\n",
    "df[\"Имя_п0\"] = df[\"Имя_п0\"].str.strip()"
   ]
  },
  {
   "cell_type": "code",
   "execution_count": 566,
   "metadata": {},
   "outputs": [],
   "source": [
    "df = df.drop([\"Имя_п0\", \"дл_имя\"], axis=1)"
   ]
  },
  {
   "cell_type": "code",
   "execution_count": 567,
   "metadata": {},
   "outputs": [],
   "source": [
    "df = df[df[\"Разрешен\"]]\n",
    "df = df.drop([\"Разрешен\"], axis=1)"
   ]
  },
  {
   "cell_type": "code",
   "execution_count": 568,
   "metadata": {},
   "outputs": [],
   "source": [
    "df = df[(df[\"Имя_п\"] != \"200*160*7\") | (df[\"Символ\"].isna() == False)]"
   ]
  },
  {
   "cell_type": "code",
   "execution_count": 569,
   "metadata": {},
   "outputs": [],
   "source": [
    "df = df.drop_duplicates(subset=[\"Вид_п\", \"Имя_п\", \"Символ\"])"
   ]
  },
  {
   "cell_type": "code",
   "execution_count": 570,
   "metadata": {},
   "outputs": [],
   "source": [
    "df.loc[df[\"Вид_п\"] == 16, \"Символ\"] = \"-\"\n",
    "df.loc[df[\"Вид_п\"] == 17, \"Символ\"] = \"-\""
   ]
  },
  {
   "cell_type": "code",
   "execution_count": 571,
   "metadata": {},
   "outputs": [],
   "source": [
    "df_2 = pd.read_sql_query('SELECT * FROM Pro_t.dbo.Тс_элементы', db_conn)"
   ]
  },
  {
   "cell_type": "code",
   "execution_count": 572,
   "metadata": {},
   "outputs": [],
   "source": [
    "df_2[\"Имя_п\"] = df_2[\"Имя_п\"].str.strip()\n",
    "df_2[\"Символ\"] = df_2[\"Символ\"].str.strip()"
   ]
  },
  {
   "cell_type": "code",
   "execution_count": 573,
   "metadata": {},
   "outputs": [],
   "source": [
    "c_ids = pd.read_csv(\"construction_ids.csv\")\n",
    "c_ids = c_ids.drop([\"Unnamed: 0\"], axis=1)\n",
    "c_ids = c_ids.values.flatten().tolist()"
   ]
  },
  {
   "cell_type": "code",
   "execution_count": 574,
   "metadata": {},
   "outputs": [],
   "source": [
    "df_2 = df_2[df_2[\"Сч_констр\"].isin(c_ids)]"
   ]
  },
  {
   "cell_type": "code",
   "execution_count": 575,
   "metadata": {},
   "outputs": [],
   "source": [
    "p_ids = pd.read_csv(\"prof.csv\")\n",
    "p_ids = p_ids.drop([\"Unnamed: 0\"], axis=1)\n",
    "p_ids = p_ids.values.flatten().tolist()"
   ]
  },
  {
   "cell_type": "code",
   "execution_count": 576,
   "metadata": {},
   "outputs": [],
   "source": [
    "df_2 = df_2[df_2[\"Вид_п\"].isin(p_ids)]"
   ]
  },
  {
   "cell_type": "code",
   "execution_count": 577,
   "metadata": {},
   "outputs": [],
   "source": [
    "df_2 = df_2[df_2[\"Символ\"].isna() == False]"
   ]
  },
  {
   "cell_type": "code",
   "execution_count": 578,
   "metadata": {},
   "outputs": [],
   "source": [
    "df_2 = df_2.drop([\"МаркаОЗ\", \"АрифмВыр\"], axis=1)"
   ]
  },
  {
   "cell_type": "code",
   "execution_count": 579,
   "metadata": {},
   "outputs": [],
   "source": [
    "df_2 = df_2.drop([\"ПерекрПерим\", \"КолВСеч\", \"Поз\", \"ГруппаПТ\"], axis=1)"
   ]
  },
  {
   "cell_type": "code",
   "execution_count": 580,
   "metadata": {},
   "outputs": [],
   "source": [
    "for index, row in df_2.iterrows():\n",
    "    try:\n",
    "        df_2.loc[index, \"profile_id\"] = df.loc[(df[\"Вид_п\"] == row[\"Вид_п\"]) & (df[\"Имя_п\"] == row[\"Имя_п\"]) & (df[\"Символ\"] == row[\"Символ\"]), \"Профиль\"].values[0]\n",
    "    except Exception as e:\n",
    "        pass"
   ]
  },
  {
   "cell_type": "code",
   "execution_count": 581,
   "metadata": {},
   "outputs": [],
   "source": [
    "df_null = df_2.loc[df_2['profile_id'].isna()]"
   ]
  },
  {
   "cell_type": "code",
   "execution_count": 582,
   "metadata": {},
   "outputs": [],
   "source": [
    "df_null = df_null.drop([\"Сч_констр\", \"Сч_поз\", \"Сталь\", \"Длина\", \"статус\", \"profile_id\"], axis=1)"
   ]
  },
  {
   "cell_type": "code",
   "execution_count": 583,
   "metadata": {},
   "outputs": [],
   "source": [
    "df_null = df_null.rename(columns={\"Вид_п\": \"class_id\",\n",
    "                        \"Имя_п\": \"name\",\n",
    "                        \"Символ\": \"symbol\",\n",
    "                        \"Вес\": \"weight\",\n",
    "                        \"Поверхн\": \"area\",\n",
    "                        \"Тип_п\": \"type_id\"\n",
    "                       })"
   ]
  },
  {
   "cell_type": "code",
   "execution_count": 584,
   "metadata": {},
   "outputs": [],
   "source": [
    "df_null.insert(0, 'id', range(1962, len(df_null) + 1962))"
   ]
  },
  {
   "cell_type": "code",
   "execution_count": 585,
   "metadata": {},
   "outputs": [],
   "source": [
    "df = df.where(pd.notnull(df), None)"
   ]
  },
  {
   "cell_type": "code",
   "execution_count": 586,
   "metadata": {},
   "outputs": [],
   "source": [
    "df = df.rename(columns={\"Профиль\": \"id\",\n",
    "                        \"Вид_п\": \"class_id\",\n",
    "                        \"Имя_п\": \"name\",\n",
    "                        \"Символ\": \"symbol\",\n",
    "                        \"Вес\": \"weight\",\n",
    "                        \"Поверхн\": \"area\",\n",
    "                        \"Тип_п\": \"type_id\"\n",
    "                       })"
   ]
  },
  {
   "cell_type": "code",
   "execution_count": 587,
   "metadata": {},
   "outputs": [],
   "source": [
    "df = df.append(df_null, ignore_index = True)"
   ]
  },
  {
   "cell_type": "code",
   "execution_count": 588,
   "metadata": {},
   "outputs": [],
   "source": [
    "df[df.duplicated(subset=[\"class_id\", \"name\", \"symbol\"], keep=\"first\")]\n",
    "df = df.drop_duplicates(subset=[\"class_id\", \"name\", \"symbol\"])"
   ]
  },
  {
   "cell_type": "code",
   "execution_count": 589,
   "metadata": {},
   "outputs": [],
   "source": [
    "df = df[df[\"id\"] != 3194]"
   ]
  },
  {
   "cell_type": "code",
   "execution_count": 590,
   "metadata": {},
   "outputs": [],
   "source": [
    "df.loc[df[\"id\"] == 2755, \"weight\"] = 4.396\n",
    "df.loc[df[\"id\"] == 2755, \"area\"] = 0.00288"
   ]
  },
  {
   "cell_type": "code",
   "execution_count": 591,
   "metadata": {},
   "outputs": [],
   "source": [
    "df.loc[:, [\"id\", \"class_id\", \"name\", \"symbol\"]].to_csv(\"profiles.csv\")"
   ]
  },
  {
   "cell_type": "code",
   "execution_count": 592,
   "metadata": {},
   "outputs": [],
   "source": [
    "cursor.execute(open(\"sql_server/33.sql\", \"r\").read())\n",
    "conn.commit()"
   ]
  },
  {
   "cell_type": "code",
   "execution_count": 593,
   "metadata": {},
   "outputs": [],
   "source": [
    "execute_values(df, \"profiles\")"
   ]
  },
  {
   "cell_type": "markdown",
   "metadata": {},
   "source": [
    "<h1>Марки стали</h1>"
   ]
  },
  {
   "cell_type": "code",
   "execution_count": 594,
   "metadata": {},
   "outputs": [],
   "source": [
    "df = pd.read_sql_query('SELECT * FROM Pro_t.dbo.Спр_стали', db_conn)"
   ]
  },
  {
   "cell_type": "code",
   "execution_count": 595,
   "metadata": {},
   "outputs": [],
   "source": [
    "df = df.replace(\"\", np.nan)"
   ]
  },
  {
   "cell_type": "code",
   "execution_count": 596,
   "metadata": {},
   "outputs": [],
   "source": [
    "df = df.drop([71])"
   ]
  },
  {
   "cell_type": "code",
   "execution_count": 597,
   "metadata": {},
   "outputs": [],
   "source": [
    "df[\"Имя_с\"] = df[\"Имя_с\"].str.strip()\n",
    "df[\"Стандарт\"] = df[\"Стандарт\"].str.strip()"
   ]
  },
  {
   "cell_type": "code",
   "execution_count": 598,
   "metadata": {},
   "outputs": [],
   "source": [
    "df = df.rename(columns={\"Шифр_с\": \"id\",\n",
    "                        \"Имя_с\": \"name\",\n",
    "                        \"Стандарт\": \"standard\",\n",
    "                        \"Прочность\": \"strength\"\n",
    "                       })"
   ]
  },
  {
   "cell_type": "code",
   "execution_count": 599,
   "metadata": {},
   "outputs": [],
   "source": [
    "df = df.where(pd.notnull(df), None)"
   ]
  },
  {
   "cell_type": "code",
   "execution_count": 600,
   "metadata": {},
   "outputs": [],
   "source": [
    "cursor.execute(open(\"sql_server/41.sql\", \"r\").read())\n",
    "conn.commit()"
   ]
  },
  {
   "cell_type": "code",
   "execution_count": 601,
   "metadata": {},
   "outputs": [],
   "source": [
    "execute_values(df, \"steel\")"
   ]
  },
  {
   "cell_type": "markdown",
   "metadata": {},
   "source": [
    "<h1>Перечень элементов</h1>"
   ]
  },
  {
   "cell_type": "code",
   "execution_count": 602,
   "metadata": {},
   "outputs": [],
   "source": [
    "df = pd.read_sql_query('SELECT * FROM Pro_t.dbo.Тс_элементы', db_conn)"
   ]
  },
  {
   "cell_type": "code",
   "execution_count": 603,
   "metadata": {},
   "outputs": [],
   "source": [
    "df[\"Имя_п\"] = df[\"Имя_п\"].str.strip()\n",
    "df[\"Символ\"] = df[\"Символ\"].str.strip()"
   ]
  },
  {
   "cell_type": "code",
   "execution_count": 604,
   "metadata": {},
   "outputs": [],
   "source": [
    "c_ids = pd.read_csv(\"construction_ids.csv\")\n",
    "c_ids = c_ids.drop([\"Unnamed: 0\"], axis=1)\n",
    "c_ids = c_ids.values.flatten().tolist()"
   ]
  },
  {
   "cell_type": "code",
   "execution_count": 605,
   "metadata": {},
   "outputs": [],
   "source": [
    "df = df[df[\"Сч_констр\"].isin(c_ids)]"
   ]
  },
  {
   "cell_type": "code",
   "execution_count": 606,
   "metadata": {},
   "outputs": [],
   "source": [
    "p_ids = pd.read_csv(\"prof.csv\")\n",
    "p_ids = p_ids.drop([\"Unnamed: 0\"], axis=1)\n",
    "p_ids = p_ids.values.flatten().tolist()"
   ]
  },
  {
   "cell_type": "code",
   "execution_count": 607,
   "metadata": {},
   "outputs": [],
   "source": [
    "df = df[df[\"Вид_п\"].isin(p_ids)]"
   ]
  },
  {
   "cell_type": "code",
   "execution_count": 608,
   "metadata": {},
   "outputs": [],
   "source": [
    "df.loc[df[\"Сталь\"] == 72, \"Сталь\"] = 36"
   ]
  },
  {
   "cell_type": "code",
   "execution_count": 609,
   "metadata": {},
   "outputs": [],
   "source": [
    "df = df[df[\"Символ\"].isna() == False]"
   ]
  },
  {
   "cell_type": "code",
   "execution_count": 610,
   "metadata": {},
   "outputs": [],
   "source": [
    "df = df.drop([\"МаркаОЗ\", \"АрифмВыр\"], axis=1)"
   ]
  },
  {
   "cell_type": "code",
   "execution_count": 611,
   "metadata": {},
   "outputs": [],
   "source": [
    "df = df.drop([\"ПерекрПерим\", \"КолВСеч\", \"Поз\", \"ГруппаПТ\"], axis=1)"
   ]
  },
  {
   "cell_type": "code",
   "execution_count": 612,
   "metadata": {},
   "outputs": [],
   "source": [
    "profiles = pd.read_csv(\"profiles.csv\")\n",
    "profiles = profiles.drop([\"Unnamed: 0\"], axis=1)"
   ]
  },
  {
   "cell_type": "code",
   "execution_count": 613,
   "metadata": {},
   "outputs": [],
   "source": [
    "df.loc[df[\"Сч_поз\"] == 179045, \"Имя_п\"] = \"140*4\"\n",
    "df.loc[df[\"Сч_поз\"] == 179034, \"Имя_п\"] = \"140*4\""
   ]
  },
  {
   "cell_type": "code",
   "execution_count": 614,
   "metadata": {},
   "outputs": [],
   "source": [
    "for index, row in df.iterrows():\n",
    "    try:\n",
    "        df.loc[index, \"profile_id\"] = profiles.loc[(profiles[\"class_id\"] == row[\"Вид_п\"]) & (profiles[\"name\"] == row[\"Имя_п\"]) & (profiles[\"symbol\"] == row[\"Символ\"]), \"id\"].values[0]\n",
    "    except:\n",
    "        pass"
   ]
  },
  {
   "cell_type": "code",
   "execution_count": 615,
   "metadata": {},
   "outputs": [],
   "source": [
    "df = df.drop([\"Имя_п\", \"Символ\", \"Вес\", \"Поверхн\", \"Тип_п\", \"статус\", \"Вид_п\"], axis=1)"
   ]
  },
  {
   "cell_type": "code",
   "execution_count": 616,
   "metadata": {},
   "outputs": [],
   "source": [
    "df = df.rename(columns={\"Сч_констр\": \"construction_id\",\n",
    "                        \"Сч_поз\": \"id\",\n",
    "                        \"Сталь\": \"steel_id\",\n",
    "                        \"Длина\": \"length\"\n",
    "                       })"
   ]
  },
  {
   "cell_type": "code",
   "execution_count": 617,
   "metadata": {},
   "outputs": [],
   "source": [
    "cursor.execute(open(\"sql_server/48.sql\", \"r\").read())\n",
    "conn.commit()"
   ]
  },
  {
   "cell_type": "code",
   "execution_count": 618,
   "metadata": {},
   "outputs": [],
   "source": [
    "execute_values(df, \"construction_elements\")"
   ]
  },
  {
   "cell_type": "markdown",
   "metadata": {},
   "source": [
    "<h1>Разделы общих указаний пользователя</h1>"
   ]
  },
  {
   "cell_type": "code",
   "execution_count": 506,
   "metadata": {},
   "outputs": [],
   "source": [
    "df = pd.DataFrame({'name': [\"Разработано на основании\",\n",
    "                            \"Разработано в соответствии\",\n",
    "                            \"Перечень технических регламентов\",\n",
    "                            \"Высотная отметка\",\n",
    "                            \"Климатические условия\",\n",
    "                            \"Конструктивные решения\",\n",
    "                            \"Характеристики конструкций\",\n",
    "                            \"Материал конструкций\",\n",
    "                            \"Указания по разработке КМД и ППР\",\n",
    "                            \"Указания по изготовлению и монтажу\",\n",
    "                            \"Крепление элементов\",\n",
    "                            \"Соединение элементов\",\n",
    "                            \"Антикоррозионная защита\",\n",
    "                            \"Огнезащита конструкций\",\n",
    "                            \"Перечень скрытых видов работ\",\n",
    "                            \"Перечень ответственных конструкций\",\n",
    "                            \"Коэффициент трудозатрат\"]})"
   ]
  },
  {
   "cell_type": "code",
   "execution_count": 507,
   "metadata": {},
   "outputs": [],
   "source": [
    "df_sections_len = len(df)"
   ]
  },
  {
   "cell_type": "code",
   "execution_count": 508,
   "metadata": {},
   "outputs": [],
   "source": [
    "df.insert(1, 'order_num', range(1, len(df) + 1))"
   ]
  },
  {
   "cell_type": "code",
   "execution_count": 509,
   "metadata": {},
   "outputs": [],
   "source": [
    "df2 = df.copy()"
   ]
  },
  {
   "cell_type": "code",
   "execution_count": 510,
   "metadata": {},
   "outputs": [],
   "source": [
    "df.insert(2, 'user_id', 1)\n",
    "df2.insert(2, 'user_id', 2)"
   ]
  },
  {
   "cell_type": "code",
   "execution_count": 511,
   "metadata": {},
   "outputs": [],
   "source": [
    "df = df.append(df2, ignore_index=True)"
   ]
  },
  {
   "cell_type": "code",
   "execution_count": 512,
   "metadata": {},
   "outputs": [],
   "source": [
    "df.insert(0, 'id', range(1, len(df) + 1))"
   ]
  },
  {
   "cell_type": "code",
   "execution_count": 516,
   "metadata": {},
   "outputs": [],
   "source": [
    "cursor.execute(open(\"sql_server/37_2.sql\", \"r\").read())\n",
    "conn.commit()"
   ]
  },
  {
   "cell_type": "code",
   "execution_count": 517,
   "metadata": {},
   "outputs": [],
   "source": [
    "execute_values(df, \"general_data_sections\")"
   ]
  },
  {
   "cell_type": "markdown",
   "metadata": {},
   "source": [
    "<h1>Пункты и разделы общих указаний марки</h1>"
   ]
  },
  {
   "cell_type": "code",
   "execution_count": 51,
   "metadata": {},
   "outputs": [],
   "source": [
    "df_sections = pd.read_sql_query('SELECT * FROM Pro_t.dbo.Спр_разделы_н', db_conn)\n",
    "df_sections_full = df_sections.copy()"
   ]
  },
  {
   "cell_type": "code",
   "execution_count": 52,
   "metadata": {},
   "outputs": [],
   "source": [
    "df_sections = df_sections.loc[:, [\"раздел\", \"заголовок_кр\", \"порядок_р\"]]"
   ]
  },
  {
   "cell_type": "code",
   "execution_count": 53,
   "metadata": {},
   "outputs": [],
   "source": [
    "df_sections = df_sections.rename(columns={\"раздел\": \"id\",\n",
    "                        \"заголовок_кр\": \"name\",\n",
    "                        \"порядок_р\": \"order_num\",\n",
    "                       })"
   ]
  },
  {
   "cell_type": "code",
   "execution_count": null,
   "metadata": {},
   "outputs": [],
   "source": []
  },
  {
   "cell_type": "code",
   "execution_count": 54,
   "metadata": {},
   "outputs": [],
   "source": [
    "df2 = pd.read_sql_query('SELECT * FROM Pro_t.dbo.Спр_пункты_н', db_conn)"
   ]
  },
  {
   "cell_type": "code",
   "execution_count": 55,
   "metadata": {},
   "outputs": [],
   "source": [
    "df2[\"текст\"] = df2[\"текст\"].str.strip()"
   ]
  },
  {
   "cell_type": "code",
   "execution_count": null,
   "metadata": {},
   "outputs": [],
   "source": []
  },
  {
   "cell_type": "code",
   "execution_count": 56,
   "metadata": {},
   "outputs": [],
   "source": [
    "df = pd.read_sql_query('SELECT * FROM Pro_t.dbo.Оу_пункты_н', db_conn)"
   ]
  },
  {
   "cell_type": "code",
   "execution_count": 57,
   "metadata": {
    "scrolled": true
   },
   "outputs": [],
   "source": [
    "df = df[df[\"включать\"] == True]"
   ]
  },
  {
   "cell_type": "code",
   "execution_count": 58,
   "metadata": {},
   "outputs": [],
   "source": [
    "df[\"текст_о\"] = df[\"текст_о\"].str.strip()"
   ]
  },
  {
   "cell_type": "code",
   "execution_count": 59,
   "metadata": {},
   "outputs": [],
   "source": [
    "df = df.drop([\"включать\", \"оригинал\", \"оригинал\", \"пункт_фикс_о\", \"нов_пункт\", \"неразрывать_о\"], axis=1)"
   ]
  },
  {
   "cell_type": "code",
   "execution_count": 60,
   "metadata": {},
   "outputs": [],
   "source": [
    "m_ids = pd.read_csv(\"mark_ids.csv\")\n",
    "m_ids = m_ids.drop([\"Unnamed: 0\"], axis=1)\n",
    "m_ids = m_ids.values.flatten().tolist()\n",
    "df = df[df[\"код_марки\"].isin(m_ids)]"
   ]
  },
  {
   "cell_type": "code",
   "execution_count": 61,
   "metadata": {},
   "outputs": [],
   "source": [
    "df = df[df[\"пункт_о\"].isin(list(df2[\"пункт\"]))]"
   ]
  },
  {
   "cell_type": "code",
   "execution_count": 62,
   "metadata": {},
   "outputs": [],
   "source": [
    "df3 = pd.DataFrame({'раздел': [], 'текст': [], 'порядок_п': []})\n",
    "for index, row in df.iterrows():\n",
    "    df3 = df3.append(df2.loc[df2[\"пункт\"] == df[\"пункт_о\"][index], [\"раздел\", \"текст\", \"порядок_п\"]])"
   ]
  },
  {
   "cell_type": "code",
   "execution_count": 63,
   "metadata": {},
   "outputs": [],
   "source": [
    "df.reset_index(drop=True, inplace=True)\n",
    "df3.reset_index(drop=True, inplace=True)\n",
    "df4 = pd.concat([df, df3], axis=1)"
   ]
  },
  {
   "cell_type": "code",
   "execution_count": 64,
   "metadata": {
    "scrolled": true
   },
   "outputs": [],
   "source": [
    "for index, row in df4.iterrows():\n",
    "    if df4.loc[index, \"текст_о\"] == None:\n",
    "        df4.loc[index, \"текст_о\"] = df4.loc[index, \"текст\"]"
   ]
  },
  {
   "cell_type": "code",
   "execution_count": 65,
   "metadata": {},
   "outputs": [],
   "source": [
    "df4 = df4.drop([\"пункт_о\", \"текст\"], axis=1)"
   ]
  },
  {
   "cell_type": "code",
   "execution_count": 66,
   "metadata": {},
   "outputs": [],
   "source": [
    "df4.loc[3, \"текст_о\"] = '#Конструкции с монтажными сварными соединениями закреплять сначала на временных болтах класса точности С (М16; М20; М24) (выбрать нужное) классов прочности 4.6; 4.8 (выбрать нужное), а затем по проекту.'"
   ]
  },
  {
   "cell_type": "code",
   "execution_count": 67,
   "metadata": {},
   "outputs": [],
   "source": [
    "df4 = df4.dropna()"
   ]
  },
  {
   "cell_type": "code",
   "execution_count": 68,
   "metadata": {},
   "outputs": [],
   "source": [
    "df4 = df4.replace(\"\", None)"
   ]
  },
  {
   "cell_type": "code",
   "execution_count": 69,
   "metadata": {},
   "outputs": [],
   "source": [
    "df4[\"текст_о\"] = df4[\"текст_о\"].map(lambda x: \"# \" + x[1:] if x[0] == \"#\" else x)"
   ]
  },
  {
   "cell_type": "code",
   "execution_count": 70,
   "metadata": {},
   "outputs": [],
   "source": [
    "global_point_num = df4[\"Поз_пункта\"].max() + 1"
   ]
  },
  {
   "cell_type": "code",
   "execution_count": 71,
   "metadata": {},
   "outputs": [],
   "source": [
    "def changeOrderNumGroupBySection(df, m):\n",
    "    global global_point_num\n",
    "    df_list = []\n",
    "    for s in df[\"раздел\"].unique():\n",
    "        df2 = df[df[\"раздел\"] == s]\n",
    "        df2 = df2.sort_values(by=['порядок_п'])\n",
    "        df2[\"порядок_п\"] = range(2, len(df2) + 2)\n",
    "        name = df_sections_full.loc[df_sections_full[\"раздел\"] == s, \"заголовок\"]\n",
    "        name = list(name)[0]\n",
    "        df2 = pd.concat([pd.DataFrame([[global_point_num, m, name, s, 1]], columns=['Поз_пункта', 'код_марки', 'текст_о', 'раздел', 'порядок_п']), df2])\n",
    "        global_point_num += 1\n",
    "        df_list.append(df2.copy())\n",
    "    return pd.concat(df_list)"
   ]
  },
  {
   "cell_type": "code",
   "execution_count": 72,
   "metadata": {},
   "outputs": [],
   "source": [
    "def changeOrderNumGroupByMark(df):\n",
    "    df_list = []\n",
    "    section_df_list = []\n",
    "    id_num = 1\n",
    "    for m in df[\"код_марки\"].unique():\n",
    "        df2 = df[df[\"код_марки\"] == m]\n",
    "        sections = df2['раздел'].unique()\n",
    "        df3 = df_sections[df_sections[\"id\"].isin(sections)]\n",
    "        df3 = df3.drop([\"id\"], axis=1)\n",
    "        df3.insert(0, 'id', range(id_num, len(df3) + id_num))\n",
    "        df3.insert(2, 'mark_id', m)\n",
    "        df3 = df3.drop([\"order_num\"], axis=1)\n",
    "        df3.insert(2, 'order_num', range(1, len(df3) + 1))\n",
    "        section_df_list.append(df3.copy())\n",
    "        id_num += len(df3)\n",
    "        df2 = changeOrderNumGroupBySection(df2, m)\n",
    "        df_list.append(df2.copy())\n",
    "    return (pd.concat(df_list), pd.concat(section_df_list))"
   ]
  },
  {
   "cell_type": "code",
   "execution_count": 73,
   "metadata": {},
   "outputs": [],
   "source": [
    "(df5, df6) = changeOrderNumGroupByMark(df4)"
   ]
  },
  {
   "cell_type": "code",
   "execution_count": 74,
   "metadata": {},
   "outputs": [],
   "source": [
    "cursor.execute(open(\"sql_server/37_3.sql\", \"r\").read())\n",
    "conn.commit()"
   ]
  },
  {
   "cell_type": "code",
   "execution_count": 75,
   "metadata": {},
   "outputs": [],
   "source": [
    "execute_values(df6, \"mark_general_data_sections\")"
   ]
  },
  {
   "cell_type": "code",
   "execution_count": 76,
   "metadata": {},
   "outputs": [],
   "source": [
    "df5 = df5.drop([\"код_марки\"], axis=1)"
   ]
  },
  {
   "cell_type": "code",
   "execution_count": 77,
   "metadata": {},
   "outputs": [],
   "source": [
    "df5 = df5.reset_index(drop=True)"
   ]
  },
  {
   "cell_type": "code",
   "execution_count": 78,
   "metadata": {},
   "outputs": [],
   "source": [
    "df5 = df5.rename(columns={\"Поз_пункта\": \"id\",\n",
    "                          \"текст_о\": \"text\",\n",
    "                          \"раздел\": \"section_id\",\n",
    "                          \"порядок_п\": \"order_num\",\n",
    "                       })"
   ]
  },
  {
   "cell_type": "code",
   "execution_count": 79,
   "metadata": {},
   "outputs": [],
   "source": [
    "cursor.execute(open(\"sql_server/35_xx.sql\", \"r\").read())\n",
    "conn.commit()"
   ]
  },
  {
   "cell_type": "code",
   "execution_count": null,
   "metadata": {},
   "outputs": [],
   "source": [
    "execute_values(df5, \"mark_general_data_points\")"
   ]
  },
  {
   "cell_type": "markdown",
   "metadata": {},
   "source": [
    "<h1>Пункты общих указаний пользователя</h1>"
   ]
  },
  {
   "cell_type": "code",
   "execution_count": 518,
   "metadata": {},
   "outputs": [],
   "source": [
    "df = pd.DataFrame({'section_id': [1, 1, 1, 1, 2, 3, 3, 3, 3, 3, 3, 3, 3, 3, 3, 3, 4, 5, 5, 5, 5, 5, 5, 5, 6, 6, 6, 6, 6, 6, 6, 6, 6, 6, 7, 7, 7, 7, 8, 8, 9, 9, 10, 10, 10, 10, 11, 11, 12, 12, 12, 12, 12, 12, 12, 12, 12, 12, 12, 12, 13, 13, 13, 13, 13, 13, 13, 13, 13, 15, 15, 15, 15],\n",
    "                   'text': [\"Рабочая документация разработана на основании:\",\n",
    "                            \"- поручения от 28.02.2020 № АГЛ-35/0362\",\n",
    "                            \"- письма от 05.03.2020 № УПиН-35/0431\",\n",
    "                            \"- рекомендаций, выполненного специалистами \\\"АО МАГНИТОГОРСКИЙ ГИПРОМЕЗ\\\"\",\n",
    "                            \"Рабочая документация разработана в соответствии с техническими условиями, требованиями действующих технических регламентов, стандартов, сводов правил и других документов, содержащих установленные требования.\",\n",
    "                            \"Перечень технических регламентов и нормативных документов, в соответствии с требованиями которых разработана рабочая документация\",\n",
    "                            \"- Федеральный закон от 30.12.2009 № 384-ФЗ \\\"Технический регламент о безопасности зданий и сооружений\\\"\",\n",
    "                            \"- Федеральный закон от 22.07.2008 № 123-ФЗ \\\"Технический регламент о требованиях пожарной безопасности\\\"\",\n",
    "                            \"- СП 16.13330.2017 \\\"Стальные конструкции. Актуализированная редакция СНиП II-23-81*\\\"\",\n",
    "                            \"- СП 20.13330.2016 \\\"Нагрузки и воздействия. Актуализированная редакция СНиП 2.01.07-85*\\\"\",\n",
    "                            \"- СП 28.13330.2017 \\\"Защита строительных конструкций от коррозии. Актуализированная редакция СНиП 2.03.11-85\\\"\",\n",
    "                            \"- СП 53-102-2004 \\\"Общие правила проектирования стальных конструкций\\\"\",\n",
    "                            \"- СП 70.13330.2012 \\\"Несущие и ограждающие конструкции. Актуализированная редакция СНиП 3.03.01-87\\\"\",\n",
    "                            \"- ГОСТ 23118-2012 \\\"Конструкции стальные строительные. Общие технические условия\\\"\",\n",
    "                            \"- ГОСТ 27751-2014 \\\"Надежность строительных конструкций и оснований. Основные положения\\\"\",\n",
    "                            \"- ГОСТ 9.402-2004 \\\"Единая система защиты от коррозии и старения (ЕСЗКС). Покрытия лакокрасочные. Подготовка металлических поверхностей к окрашиванию\\\"\",\n",
    "                            \"Высотные отметки абсолютные.\",\n",
    "                            \"Климатические условия\",\n",
    "                            \"- климатический район – IB\",\n",
    "                            \"- расчетная температура наружного воздуха наиболее холодных суток обеспеченностью 0,98 – минус 43 °C\",\n",
    "                            \"- нормативное значение веса снегового покрова на 1 м^2 горизонтальной поверхности земли для г. Магнитогорска (согласно СП 20.13330-2016, приложение K, табл. K1) – 1,3 кПа (130 кг/м^2)\",\n",
    "                            \"- нормативное значение ветрового давления для II района (согласно СП 20.13330-2016, п. 11.14, табл. 11.1) – 0,30 кПа (30 кг/м^2)\",\n",
    "                            \"- зона влажности – сухая\",\n",
    "                            \"- расчетная сейсмическая активность – 5 баллов\",\n",
    "                            \"Конструктивные решения\",\n",
    "                            \"# Чертежи марки \\\"КМ\\\" являются исходным материалом для разработки деталировочных чертежей марки \\\"КМД\\\"\",\n",
    "                            \"# В данной рабочей документации разработано восстановление пролетных строений (усиление ферм пролетных строений, металлоконструкций по верхним и нижним поясам ферм) и восстановление антикоррозионного покрытия существующих элементов пролетных строений галереи конвейера № 706-1 УУК и КДИ аглоцеха ГОП ПАО \\\"ММК\\\"\",\n",
    "                            \"# Все работы должны выполняться специализированной организацией, имеющей свидетельство СРО на данный вид деятельности и имеющие допуск по электробезопасности\",\n",
    "                            \"# Работы производить по специально разработанному и согласованному в установленном порядке со всеми инспектирующими организациями и эксплуатацией цеха проекту производства работ (ППР) с соблюдением требований действующих нормативных документов и обязательным учетом фактического состояния существующих конструкций\",\n",
    "                            \"# При выполнении работ принять меры по обеспечению целостности и сохранности существующих сооружений и коммуникаций, находящихся в зоне производства работ\",\n",
    "                            \"# При производстве сварочных работ предусмотреть комплекс организационно-технических мероприятий по обеспечению пожарной безопасности\",\n",
    "                            \"# На всех этапах ведения демонтажных и монтажных работ обеспечить устойчивость и неизменяемость положения существующих конструкций\",\n",
    "                            \"# Перед началом работ необходимо выполнить очистку конструкций в зоне ремонта от мусора, грязи, технологической пыли\",\n",
    "                            \"# Исполнитель несет ответственность за соответствие выполненных работ чертежам. Всякое отступление от чертежей при производстве работ должно быть согласовано с организацией-разработчиком данной рабочей документации\",\n",
    "                            \"Характеристики конструкций\",\n",
    "                            \"- коэффициент надежности по ответственности – {}\",\n",
    "                            \"- степень агрессивного воздействия среды – {}\",\n",
    "                            \"- расчетная температура эксплуатации – {}\",\n",
    "                            \"Материал конструкций\",\n",
    "                            \"Марки сталей элементов конструкций приняты в зависимости от группы конструкций с учетом расчетной температуры и приведены в таблицах \\\"Ведомость элементов\\\", на схемах расположения элементов конструкций, на чертежах элементов и узлов конструкций и в спецификации металлопроката\",\n",
    "                            \"Указания по разработке КМД и ППР\",\n",
    "                            \"Отступления от рабочих чертежей КМ не допускаются. В случае необходимости эти отступления должны быть согласованы с организацией-разработчиком рабочих чертежей марки \\\"КМ\\\"\",\n",
    "                            \"Указания по изготовлению и монтажу металлоконструкций\",\n",
    "                            \"# Изготовление металлоконструкций производить в соответствии с требованиями ГОСТ 23118-2012, СП 53-101-98 \\\"Изготовление и контроль качества стальных строительных конструкций\\\", указаниями в чертежах марки \\\"КМ\\\"\",\n",
    "                            \"# Монтаж металлоконструкций производить в соответствии с требованиями СП 70.13330.2012 \\\"Несущие и ограждающие конструкции. Актуализированная редакция СНиП 3.03.01-87\\\", СНИП 12-04-2002 \\\"Безопасность труда в строительстве. Часть 2. Строительное производство\\\" и указаниями в чертежах марки \\\"КМ\\\"\",\n",
    "                            \"# Отклонения металлоконструкций при изготовлении и монтаже не должны превышать предельных значений, указанных в СП 53-101-98, СП 70.13330.2012 и в чертежах марки \\\"КМ\\\" данного основного комплекта\",\n",
    "                            \"Крепление элементов\",\n",
    "                            \"Минимальное усилие для расчетного прикрепления элементов – 5 тс\",\n",
    "                            \"Соединение элементов металлоконструкций\",\n",
    "                            \"- сварные\",\n",
    "                            \"- на болтах нормальной точности по ГОСТ Р ИСО 4014-2013\",\n",
    "                            \"# Материалы для сварки принимать по таблице Г.1 СП 16.13330.2017 в зависимости от марок стали свариваемых элементов\",\n",
    "                            \"# Монтажные швы выполнять ручной сваркой ГОСТ 9467-75 \\\"Электроды покрытые металлические для ручной дуговой сварки конструкционных и теплоустойчивых сталей. Типы\\\":\\nДля сталей C245 сварку производить электродами типа 342A\",\n",
    "                            \"# Применение прерывистых швов не допускается\",\n",
    "                            \"# Контроль качества монтажных сварных соединений должен осуществляться в соответствии с требованиями п. 10.4 СП 70.13330.2012\",\n",
    "                            \"# Болты класса точности B (нормальной точности) M20 приняты по ГОСТ Р ИСО 4014-2013 \\\"Болты с шестигранной головкой. Классы точности A и B\\\", класса прочности 8.8 по ГОСТ ISO 898-1-2014 \\\"Механические свойства крепежных изделий из углеродистых и легированных сталей. Часть 1. Болты, винты и шпильки установленных классов прочности с крупным и мелким шагом резьбы\\\"\",\n",
    "                            \"# Гайки тип 1 класса точности B приняты по ГОСТ ISO 4032-2014. При работе болтов на срез и растяжение класс прочности гаек принят в соответствии с классом прочности болтов: 5 – при 5.6\",\n",
    "                            \"Шайбы приняты круглые по ГОСТ 11371-78 исполнения 1 класса точности A\",\n",
    "                            \"Для болтов класса точности B диаметр отверстий в конструкциях, работающих на срез и смятие, принят d=dв+2\",\n",
    "                            \"В расчетных соединениях для болтов класса точности B разность номинальных диаметров отверстий и болтов не должна превышать 3 мм с учетом предельных отклонений диаметра отверстия и их овальности 0; +0,6; и 0; +1,0 по табл. 2 ГОСТ 23118-2012\",\n",
    "                            \"Антикоррозионная защита\",\n",
    "                            \"# Антикоррозионная защита запроектирована в соответствии с требованиями СП 28.13330.2017 \\\"Защита строительных конструкций от коррозии\\\"\",\n",
    "                            \"# Антикоррозионную защиту производить в соответствии с требованиями СП 72.13330.2016 \\\"Защита строительных конструкций и сооружений от коррозии. СНиП 3.04.03-85\\\" и ГОСТ 12.3.005-75 \\\"Система стандартов безопасности труда (ССБТ). Работы окрасочные. Общие требования безопасности\\\"\",\n",
    "                            \"# Подготовка поверхностей перед окраской должна осуществляться в соответствии с требованиями ГОСТ 9.402-2004 путем удаления ржавчины и прокатной окалины с помощью ручного или механизированного абразивного инструмента и очистки жировых и прочих загрязнений с помощью волосяных кистей или ветоши, смоченных в уайт-спирите. Перед нанесением антикоррозионного покрытия поверхности конструкций обеспылить\",\n",
    "                            \"# Защита металлоконструкций от коррозии осуществляется окраской лакокрасочными материалами группы III: эмалью XB-7141 по ТУ 2313-016-75351875-2005 в 4 слоя по 2 слоям грунтовки XC-010 по ТУ 6-21-7-89\",\n",
    "                            \"Общая толщина покрытия – 160 мкм\",\n",
    "                            \"Степень очистки поверхности стальных конструкций от окислов перед окраской – 2 по ГОСТ 9.402-2004\",\n",
    "                            \"Допускается замена лакокрасочных материалов на сертифицированные материалы с аналогичными техническими характеристиками\",\n",
    "                            \"Цвет окраски антикоррозионного покрытия принимать в соответствии с цветом окраски существующих конструкций\",\n",
    "                            \"Перечень видов работ, на которые должны быть составлены акты освидетельствования скрытых работ:\",\n",
    "                            \"- подготовка поверхности металлоконструкций под окраску\",\n",
    "                            \"- приемка грунтовочного слоя антикоррозионного покрытия\",\n",
    "                            \"- визуальный контроль качества сварных швов\"],\n",
    "                   'order_num': [1, 2, 3, 4, 1, 1, 2, 3, 4, 5, 6, 7, 8, 9, 10, 11, 1, 1, 2, 3, 4, 5, 6, 7, 1, 2, 3, 4, 5, 6, 7, 8, 9, 10, 1, 2, 3, 4, 1, 2, 1, 2, 1, 2, 3, 4, 1, 2, 1, 2, 3, 4, 5, 6, 7, 8, 9, 10, 11, 12, 1, 2, 3, 4, 5, 6, 7, 8, 9, 1, 2, 3, 4]})"
   ]
  },
  {
   "cell_type": "code",
   "execution_count": 519,
   "metadata": {},
   "outputs": [],
   "source": [
    "df2 = df.copy()"
   ]
  },
  {
   "cell_type": "code",
   "execution_count": 520,
   "metadata": {},
   "outputs": [],
   "source": [
    "df2['section_id'] += df_sections_len"
   ]
  },
  {
   "cell_type": "code",
   "execution_count": 521,
   "metadata": {},
   "outputs": [],
   "source": [
    "df = df.append(df2, ignore_index=True)"
   ]
  },
  {
   "cell_type": "code",
   "execution_count": 522,
   "metadata": {},
   "outputs": [],
   "source": [
    "df.insert(0, 'id', range(1, len(df) + 1))"
   ]
  },
  {
   "cell_type": "code",
   "execution_count": 523,
   "metadata": {},
   "outputs": [],
   "source": [
    "cursor.execute(open(\"sql_server/35_2.sql\", \"r\").read())\n",
    "conn.commit()"
   ]
  },
  {
   "cell_type": "code",
   "execution_count": 524,
   "metadata": {
    "scrolled": true
   },
   "outputs": [],
   "source": [
    "execute_values(df, \"general_data_points\")"
   ]
  },
  {
   "cell_type": "code",
   "execution_count": 49,
   "metadata": {},
   "outputs": [],
   "source": [
    "conn.close()"
   ]
  },
  {
   "cell_type": "code",
   "execution_count": null,
   "metadata": {},
   "outputs": [],
   "source": []
  }
 ],
 "metadata": {
  "kernelspec": {
   "display_name": "Python 3",
   "language": "python",
   "name": "python3"
  },
  "language_info": {
   "codemirror_mode": {
    "name": "ipython",
    "version": 3
   },
   "file_extension": ".py",
   "mimetype": "text/x-python",
   "name": "python",
   "nbconvert_exporter": "python",
   "pygments_lexer": "ipython3",
   "version": "3.6.5"
  }
 },
 "nbformat": 4,
 "nbformat_minor": 4
}
