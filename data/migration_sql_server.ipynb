{
 "cells": [
  {
   "cell_type": "markdown",
   "metadata": {},
   "source": [
    "<h1>Импорты</h1>"
   ]
  },
  {
   "cell_type": "code",
   "execution_count": 1062,
   "metadata": {},
   "outputs": [],
   "source": [
    "import pandas as pd\n",
    "import numpy as np\n",
    "import pyodbc\n",
    "import random\n",
    "import math\n",
    "from sklearn.preprocessing import OrdinalEncoder\n",
    "from datetime import datetime"
   ]
  },
  {
   "cell_type": "code",
   "execution_count": 1063,
   "metadata": {},
   "outputs": [],
   "source": [
    "import warnings\n",
    "warnings.filterwarnings('ignore')"
   ]
  },
  {
   "cell_type": "code",
   "execution_count": 1064,
   "metadata": {},
   "outputs": [],
   "source": [
    "# Connect to old database\n",
    "db_conn = pyodbc.connect('Driver={SQL Server};'\n",
    "                          'Server=BAMBI;'\n",
    "                          'Database=Pro_t;'\n",
    "                          'Trusted_Connection=yes;')"
   ]
  },
  {
   "cell_type": "code",
   "execution_count": 1065,
   "metadata": {},
   "outputs": [],
   "source": [
    "# Connect to archive\n",
    "archive_conn = pyodbc.connect('Driver={SQL Server};'\n",
    "                              'Server=progress;'\n",
    "                              'Database=ArchDocT;'\n",
    "                              'Trusted_Connection=yes;')"
   ]
  },
  {
   "cell_type": "code",
   "execution_count": 1066,
   "metadata": {},
   "outputs": [
    {
     "name": "stdout",
     "output_type": "stream",
     "text": [
      "Connection successful\n"
     ]
    }
   ],
   "source": [
    "# Connect to new database\n",
    "try:\n",
    "    conn = pyodbc.connect('Driver={SQL Server};'\n",
    "                          'Server=FAST;'\n",
    "#                           'Server=BAMBI;'\n",
    "                          'Database=DocumentsKM;'\n",
    "                          'Trusted_Connection=yes;')\n",
    "    cursor = conn.cursor()\n",
    "except Exception as err:\n",
    "    cursor = None\n",
    "    print(\"Connection error:\", err)\n",
    "    \n",
    "# Check if the connection was valid\n",
    "if cursor != None:\n",
    "    print(\"Connection successful\")"
   ]
  },
  {
   "cell_type": "code",
   "execution_count": 1067,
   "metadata": {},
   "outputs": [],
   "source": [
    "def to_pascal_case(snake_str):\n",
    "    components = snake_str.split('_')\n",
    "    return components[0].title() + ''.join(x.title() for x in components[1:])"
   ]
  },
  {
   "cell_type": "code",
   "execution_count": 1068,
   "metadata": {},
   "outputs": [],
   "source": [
    "def execute_values(df, table_snake_case, has_dentity=True):\n",
    "    df.columns = map(to_pascal_case, df.columns)\n",
    "    df = df.replace({False: 0, True: 1})\n",
    "    table = to_pascal_case(table_snake_case)\n",
    "    if has_dentity:\n",
    "        cursor.execute(f\"SET IDENTITY_INSERT {table} ON\")\n",
    "    tuples = [tuple(x) for x in df.to_numpy()]\n",
    "    cols = ','.join(list(df.columns))\n",
    "    for entry in tuples:\n",
    "        query  = \"insert into %s(%s) values (\" % (table, cols)\n",
    "        num = 1\n",
    "        entry_list = []\n",
    "        for e in entry:\n",
    "            if num == len(entry):\n",
    "                query += \"?\"\n",
    "            else:\n",
    "                query += \"?, \"\n",
    "            num += 1\n",
    "            if (not isinstance(e, str)) and (not isinstance(e, bool)) and (not (e is None)) and (not (type(e) is pd.Timestamp)) and math.isnan(e):\n",
    "                entry_list.append(None)\n",
    "            else:\n",
    "                entry_list.append(e)\n",
    "        query += \")\"\n",
    "        cursor.execute(query, *entry_list)\n",
    "    if has_dentity:\n",
    "        cursor.execute(f\"SET IDENTITY_INSERT {table} OFF\")\n",
    "    conn.commit()\n",
    "    cursor.execute(f\"ALTER SCHEMA dbo TRANSFER [GIPROMEZ\\ВладАИ].[{table}]\")\n",
    "    conn.commit()"
   ]
  },
  {
   "cell_type": "markdown",
   "metadata": {},
   "source": [
    "To delete:\n",
    "    1) Select Tables\n",
    "    2) Press F7\n",
    "    3) Select tables\n",
    "    4) Delete them till it's done"
   ]
  },
  {
   "cell_type": "markdown",
   "metadata": {},
   "source": [
    "<h1>Исполнители старые id в новые</h1>"
   ]
  },
  {
   "cell_type": "code",
   "execution_count": 564,
   "metadata": {},
   "outputs": [],
   "source": [
    "# df = pd.read_sql_query('SELECT * FROM DocumentsKM.dbo.Old_New', conn)"
   ]
  },
  {
   "cell_type": "code",
   "execution_count": 565,
   "metadata": {},
   "outputs": [],
   "source": [
    "# df.to_csv('old_new.csv', index=False)"
   ]
  },
  {
   "cell_type": "code",
   "execution_count": 566,
   "metadata": {},
   "outputs": [],
   "source": [
    "new_old_employees = pd.read_csv(\"old_new.csv\")"
   ]
  },
  {
   "cell_type": "code",
   "execution_count": 567,
   "metadata": {},
   "outputs": [],
   "source": [
    "def to_new_employee_ids(df, column_name):\n",
    "    return df[column_name].map(lambda x: list(new_old_employees.loc[new_old_employees[\"OldId\"] == x, \"NewId\"])[0] if list(new_old_employees.loc[new_old_employees[\"OldId\"] == x, \"NewId\"]) else None)"
   ]
  },
  {
   "cell_type": "markdown",
   "metadata": {},
   "source": [
    "<h1>Подузлы марок</h1>"
   ]
  },
  {
   "cell_type": "code",
   "execution_count": 568,
   "metadata": {},
   "outputs": [],
   "source": [
    "# df = pd.read_sql_query('SELECT * FROM DocumentsKM.dbo.Marks', conn)"
   ]
  },
  {
   "cell_type": "code",
   "execution_count": 569,
   "metadata": {},
   "outputs": [],
   "source": [
    "# df = df.loc[:, [\"Id\", \"ArchSubnodeId\", \"ArchMarkId\"]]"
   ]
  },
  {
   "cell_type": "code",
   "execution_count": 570,
   "metadata": {},
   "outputs": [],
   "source": [
    "# df.to_csv('mark_archive.csv', index=False)"
   ]
  },
  {
   "cell_type": "code",
   "execution_count": 571,
   "metadata": {},
   "outputs": [],
   "source": [
    "mark_archive = pd.read_csv(\"mark_archive.csv\")"
   ]
  },
  {
   "cell_type": "markdown",
   "metadata": {},
   "source": [
    "<h1>Архив</h1>"
   ]
  },
  {
   "cell_type": "code",
   "execution_count": 572,
   "metadata": {},
   "outputs": [],
   "source": [
    "archive_nodes = pd.read_sql_query('SELECT * FROM ArchDocT.dbo.Узлы', archive_conn)"
   ]
  },
  {
   "cell_type": "code",
   "execution_count": 573,
   "metadata": {},
   "outputs": [],
   "source": [
    "archive_subnodes = pd.read_sql_query('SELECT * FROM ArchDocT.dbo.Подузлы', archive_conn)"
   ]
  },
  {
   "cell_type": "code",
   "execution_count": 574,
   "metadata": {},
   "outputs": [],
   "source": [
    "archive_marks = pd.read_sql_query('SELECT * FROM ArchDocT.dbo.МаркиПроекта', archive_conn)"
   ]
  },
  {
   "cell_type": "code",
   "execution_count": 575,
   "metadata": {},
   "outputs": [],
   "source": [
    "archive_nodes = archive_nodes.loc[:, [\"Узел\", \"ГИП\"]]"
   ]
  },
  {
   "cell_type": "code",
   "execution_count": 576,
   "metadata": {},
   "outputs": [],
   "source": [
    "archive_subnodes = archive_subnodes.loc[:, [\"Подузел\", \"Узел\"]]"
   ]
  },
  {
   "cell_type": "code",
   "execution_count": 577,
   "metadata": {},
   "outputs": [],
   "source": [
    "archive_marks = archive_marks.loc[:, [\"Марка\", \"Подузел\", \"НазвМарки\"]]"
   ]
  },
  {
   "cell_type": "markdown",
   "metadata": {},
   "source": [
    "<h1>Должности</h1>"
   ]
  },
  {
   "cell_type": "code",
   "execution_count": 578,
   "metadata": {},
   "outputs": [],
   "source": [
    "df = pd.read_json('post.json')"
   ]
  },
  {
   "cell_type": "code",
   "execution_count": 579,
   "metadata": {},
   "outputs": [],
   "source": [
    "df[\"name\"] = df[\"name\"].str.strip()"
   ]
  },
  {
   "cell_type": "code",
   "execution_count": 580,
   "metadata": {},
   "outputs": [],
   "source": [
    "cursor.execute(open(\"sql_server/25.sql\", \"r\").read())\n",
    "conn.commit()"
   ]
  },
  {
   "cell_type": "code",
   "execution_count": 581,
   "metadata": {},
   "outputs": [],
   "source": [
    "execute_values(df, \"positions\", False)"
   ]
  },
  {
   "cell_type": "markdown",
   "metadata": {},
   "source": [
    "<h1>Отделы</h1>"
   ]
  },
  {
   "cell_type": "code",
   "execution_count": 582,
   "metadata": {},
   "outputs": [],
   "source": [
    "df = pd.read_json('department.json')"
   ]
  },
  {
   "cell_type": "code",
   "execution_count": 583,
   "metadata": {},
   "outputs": [],
   "source": [
    "df[\"name\"] = df[\"name\"].str.strip()\n",
    "df[\"reduction\"] = df[\"reduction\"].str.strip()"
   ]
  },
  {
   "cell_type": "code",
   "execution_count": 584,
   "metadata": {},
   "outputs": [],
   "source": [
    "df = df.rename(columns={\"id\" : \"code\",\n",
    "                        \"reduction\": \"short_name\",\n",
    "                        \"enable\": \"is_active\"\n",
    "                       })"
   ]
  },
  {
   "cell_type": "code",
   "execution_count": 585,
   "metadata": {},
   "outputs": [],
   "source": [
    "df.insert(0, 'id', range(1, len(df) + 1))"
   ]
  },
  {
   "cell_type": "code",
   "execution_count": 586,
   "metadata": {},
   "outputs": [],
   "source": [
    "df.loc[:, [\"id\", \"code\"]].to_csv(\"departments.csv\", index=False)"
   ]
  },
  {
   "cell_type": "code",
   "execution_count": 587,
   "metadata": {},
   "outputs": [],
   "source": [
    "cursor.execute(open(\"sql_server/30.sql\", \"r\").read())\n",
    "conn.commit()"
   ]
  },
  {
   "cell_type": "code",
   "execution_count": 588,
   "metadata": {},
   "outputs": [],
   "source": [
    "execute_values(df, \"departments\")"
   ]
  },
  {
   "cell_type": "markdown",
   "metadata": {},
   "source": [
    "<h1>Исполнители</h1>"
   ]
  },
  {
   "cell_type": "code",
   "execution_count": 589,
   "metadata": {},
   "outputs": [],
   "source": [
    "df = pd.read_json('staff.json')"
   ]
  },
  {
   "cell_type": "code",
   "execution_count": 590,
   "metadata": {},
   "outputs": [],
   "source": [
    "df_dep = df['department'].apply(pd.Series)"
   ]
  },
  {
   "cell_type": "code",
   "execution_count": 591,
   "metadata": {},
   "outputs": [],
   "source": [
    "df_dep = df_dep.drop([\"name\", \"reduction\", \"enable\"], axis=1)"
   ]
  },
  {
   "cell_type": "code",
   "execution_count": 592,
   "metadata": {},
   "outputs": [],
   "source": [
    "df_dep = df_dep.rename(columns={\"id\": \"code\"})"
   ]
  },
  {
   "cell_type": "code",
   "execution_count": 593,
   "metadata": {},
   "outputs": [],
   "source": [
    "dep = pd.read_csv(\"departments.csv\")"
   ]
  },
  {
   "cell_type": "code",
   "execution_count": 594,
   "metadata": {},
   "outputs": [],
   "source": [
    "for index, row in df_dep.iterrows():\n",
    "    try:\n",
    "        df_dep.loc[index, \"department_id\"] = dep.loc[dep[\"code\"] == row[\"code\"], \"id\"].values[0]\n",
    "    except:\n",
    "        df_dep.loc[index, \"department_id\"] = None"
   ]
  },
  {
   "cell_type": "code",
   "execution_count": 595,
   "metadata": {},
   "outputs": [],
   "source": [
    "df_dep = df_dep.drop([\"code\"], axis=1)"
   ]
  },
  {
   "cell_type": "code",
   "execution_count": 596,
   "metadata": {},
   "outputs": [],
   "source": [
    "df[\"department_id\"] = df_dep"
   ]
  },
  {
   "cell_type": "code",
   "execution_count": 597,
   "metadata": {},
   "outputs": [],
   "source": [
    "df_post = df['post'].apply(pd.Series)"
   ]
  },
  {
   "cell_type": "code",
   "execution_count": 598,
   "metadata": {},
   "outputs": [],
   "source": [
    "df_post = df_post.drop([\"name\"], axis=1)"
   ]
  },
  {
   "cell_type": "code",
   "execution_count": 599,
   "metadata": {},
   "outputs": [],
   "source": [
    "df_post = df_post.rename(columns={\"id\": \"position_id\"})"
   ]
  },
  {
   "cell_type": "code",
   "execution_count": 600,
   "metadata": {},
   "outputs": [],
   "source": [
    "df[\"position_id\"] = df_post"
   ]
  },
  {
   "cell_type": "code",
   "execution_count": 601,
   "metadata": {},
   "outputs": [],
   "source": [
    "df[\"is_active\"] = df[\"dismissedDate\"].isna()"
   ]
  },
  {
   "cell_type": "code",
   "execution_count": 602,
   "metadata": {},
   "outputs": [],
   "source": [
    "df = df.drop([\"tableNumber\", \"userName\", \"createdDate\", \"dismissedDate\", \"vacation\", \"post\", \"department\"], axis=1)"
   ]
  },
  {
   "cell_type": "code",
   "execution_count": 603,
   "metadata": {},
   "outputs": [],
   "source": [
    "df = df.dropna()"
   ]
  },
  {
   "cell_type": "code",
   "execution_count": 604,
   "metadata": {},
   "outputs": [],
   "source": [
    "df[\"name\"] = df[\"fullName\"].str.partition().loc[:, 0]"
   ]
  },
  {
   "cell_type": "code",
   "execution_count": 605,
   "metadata": {},
   "outputs": [],
   "source": [
    "df[\"id\"].to_csv(\"employee_ids.csv\", index=False)"
   ]
  },
  {
   "cell_type": "code",
   "execution_count": 606,
   "metadata": {},
   "outputs": [],
   "source": [
    "cursor.execute(open(\"sql_server/26.sql\", \"r\").read())\n",
    "conn.commit()"
   ]
  },
  {
   "cell_type": "code",
   "execution_count": 607,
   "metadata": {},
   "outputs": [],
   "source": [
    "execute_values(df, \"employees\", False)"
   ]
  },
  {
   "cell_type": "markdown",
   "metadata": {},
   "source": [
    "<h1>Пользователи</h1>"
   ]
  },
  {
   "cell_type": "code",
   "execution_count": 608,
   "metadata": {},
   "outputs": [],
   "source": [
    "df = pd.DataFrame({'id': [1, 2], 'login': [\"1\", \"2\"], 'password': [\"1\", \"2\"], 'employee_id': [5, 6]})"
   ]
  },
  {
   "cell_type": "code",
   "execution_count": 609,
   "metadata": {},
   "outputs": [],
   "source": [
    "cursor.execute(open(\"sql_server/xx_users.sql\", \"r\").read())\n",
    "conn.commit()"
   ]
  },
  {
   "cell_type": "code",
   "execution_count": 610,
   "metadata": {},
   "outputs": [],
   "source": [
    "execute_values(df, \"users\")"
   ]
  },
  {
   "cell_type": "markdown",
   "metadata": {},
   "source": [
    "<h1>Значения по умолчанию</h1>"
   ]
  },
  {
   "cell_type": "code",
   "execution_count": 611,
   "metadata": {},
   "outputs": [],
   "source": [
    "df = pd.DataFrame({'user_id': [1, 2], 'department_id': [74, 74], 'creator_id': [5, 6], 'inspector_id': [None, None], 'norm_contr_id': [None, None]})"
   ]
  },
  {
   "cell_type": "code",
   "execution_count": 612,
   "metadata": {},
   "outputs": [],
   "source": [
    "cursor.execute(open(\"sql_server/xx_default.sql\", \"r\").read())\n",
    "conn.commit()"
   ]
  },
  {
   "cell_type": "code",
   "execution_count": 613,
   "metadata": {},
   "outputs": [],
   "source": [
    "execute_values(df, \"default_values\", False)"
   ]
  },
  {
   "cell_type": "markdown",
   "metadata": {},
   "source": [
    "<h1>Условия эксплуатации</h1>"
   ]
  },
  {
   "cell_type": "code",
   "execution_count": 614,
   "metadata": {},
   "outputs": [],
   "source": [
    "df1 = pd.DataFrame({'id': [1, 2, 3, 4], 'name': [\"неагрессивная\", \"слабоагрессивная\", \"среднеагрессивная\", \"сильноагрессивная\"]})"
   ]
  },
  {
   "cell_type": "code",
   "execution_count": 615,
   "metadata": {},
   "outputs": [],
   "source": [
    "df2 = pd.DataFrame({'id': [1, 2, 3], 'name': [\"внутри помещения\", \"снаружи помещения\", \"в жидкостях\"]})"
   ]
  },
  {
   "cell_type": "code",
   "execution_count": 616,
   "metadata": {},
   "outputs": [],
   "source": [
    "df3 = pd.DataFrame({'id': [1, 2, 3, 4, 5], 'name': [\"нет газов (вода)\", \"газы группы А (кислоты)\", \"газы группы B, C и D (щелочи)\", \"бензин\", \"масло\"]})"
   ]
  },
  {
   "cell_type": "code",
   "execution_count": 617,
   "metadata": {},
   "outputs": [],
   "source": [
    "df4 = pd.DataFrame({'id': [1, 2, 3, 4], 'name': [\"сталь без покрытия\", \"оцинкованная сталь\", \"сталь горячего цинкования\", \"сталь с газотермическим напылением цинка\"]})"
   ]
  },
  {
   "cell_type": "code",
   "execution_count": 618,
   "metadata": {},
   "outputs": [],
   "source": [
    "df5 = pd.DataFrame({'id': [1, 2, 3, 4, 5, 6, 7, 8, 9, 10, 11, 12, 13, 14, 15, 16, 17], 'name': [\"ПФ\", \"АУ\", \"ЭЭ\", \"МА\", \"МБ\", \"НЦ\", \"ФФ\", \"ПА\", \"ПЭ\", \"ПБ\", \"ПВ\", \"СВ\", \"ПУ\", \"ЭП\", \"ПС\", \"КО\", \"АЦ\"]})"
   ]
  },
  {
   "cell_type": "code",
   "execution_count": 619,
   "metadata": {},
   "outputs": [],
   "source": [
    "df6 = pd.DataFrame({'id': [1, 2, 3, 4], 'name': [\"отсутствуют\", \"сдвигоустойчивые соединения\", \"фланцевые соединения\", \"сдвигоустойчивые и фланцевые соединения\"]})"
   ]
  },
  {
   "cell_type": "code",
   "execution_count": 620,
   "metadata": {},
   "outputs": [],
   "source": [
    "df5.loc[:, [\"id\", \"name\"]].to_csv(\"paintwork.csv\", index=False)"
   ]
  },
  {
   "cell_type": "code",
   "execution_count": 621,
   "metadata": {},
   "outputs": [],
   "source": [
    "cursor.execute(open(\"sql_server/y_1.sql\", \"r\").read())\n",
    "cursor.execute(open(\"sql_server/y_2.sql\", \"r\").read())\n",
    "cursor.execute(open(\"sql_server/y_3.sql\", \"r\").read())\n",
    "cursor.execute(open(\"sql_server/y_4.sql\", \"r\").read())\n",
    "cursor.execute(open(\"sql_server/y_5.sql\", \"r\").read())\n",
    "cursor.execute(open(\"sql_server/y_6.sql\", \"r\").read())\n",
    "conn.commit()"
   ]
  },
  {
   "cell_type": "code",
   "execution_count": 622,
   "metadata": {},
   "outputs": [],
   "source": [
    "execute_values(df1, \"env_aggressiveness\")"
   ]
  },
  {
   "cell_type": "code",
   "execution_count": 623,
   "metadata": {},
   "outputs": [],
   "source": [
    "execute_values(df2, \"operating_areas\")"
   ]
  },
  {
   "cell_type": "code",
   "execution_count": 624,
   "metadata": {},
   "outputs": [],
   "source": [
    "execute_values(df3, \"gas_groups\")"
   ]
  },
  {
   "cell_type": "code",
   "execution_count": 625,
   "metadata": {},
   "outputs": [],
   "source": [
    "execute_values(df4, \"construction_materials\")"
   ]
  },
  {
   "cell_type": "code",
   "execution_count": 626,
   "metadata": {},
   "outputs": [],
   "source": [
    "execute_values(df5, \"paintwork_types\")"
   ]
  },
  {
   "cell_type": "code",
   "execution_count": 627,
   "metadata": {},
   "outputs": [],
   "source": [
    "execute_values(df6, \"high_tensile_bolts_types\")"
   ]
  },
  {
   "cell_type": "markdown",
   "metadata": {},
   "source": [
    "<h1>Стойкость лакокрасочных покрытий</h1>"
   ]
  },
  {
   "cell_type": "code",
   "execution_count": 628,
   "metadata": {},
   "outputs": [],
   "source": [
    "df = pd.DataFrame({'id': [1, 2, 3, 4, 5, 6, 7, 8, 9], 'name': [\"П\", \"А\", \"Х\", \"В\", \"Б\", \"М\", \"ХЩ\", \"ХК\", \"Т\"]})"
   ]
  },
  {
   "cell_type": "code",
   "execution_count": 629,
   "metadata": {},
   "outputs": [],
   "source": [
    "df.loc[:, [\"id\", \"name\"]].to_csv(\"paintwork_fastness.csv\", index=False)"
   ]
  },
  {
   "cell_type": "code",
   "execution_count": 630,
   "metadata": {},
   "outputs": [],
   "source": [
    "cursor.execute(open(\"sql_server/y_7.sql\", \"r\").read())\n",
    "conn.commit()"
   ]
  },
  {
   "cell_type": "code",
   "execution_count": 631,
   "metadata": {},
   "outputs": [],
   "source": [
    "execute_values(df, \"paintwork_fastness\")"
   ]
  },
  {
   "cell_type": "markdown",
   "metadata": {},
   "source": [
    "<h1>Контроль сварки</h1>"
   ]
  },
  {
   "cell_type": "code",
   "execution_count": 632,
   "metadata": {},
   "outputs": [],
   "source": [
    "df = pd.DataFrame({'Id': [1, 2, 3, 4], 'Name': [\"не требуется\", \"опрыскиванием керосином\", \"ультразвуком\", \"гамма-излучением\"]})"
   ]
  },
  {
   "cell_type": "code",
   "execution_count": 633,
   "metadata": {},
   "outputs": [],
   "source": [
    "cursor.execute(open(\"sql_server/yy_1.sql\", \"r\").read())\n",
    "conn.commit()"
   ]
  },
  {
   "cell_type": "code",
   "execution_count": 634,
   "metadata": {},
   "outputs": [],
   "source": [
    "execute_values(df, \"WeldingControl\")"
   ]
  },
  {
   "cell_type": "markdown",
   "metadata": {},
   "source": [
    "<h1>Типы документов</h1>"
   ]
  },
  {
   "cell_type": "code",
   "execution_count": 635,
   "metadata": {},
   "outputs": [],
   "source": [
    "df = pd.DataFrame({'id': [1, 2, 3, 4, 5], 'code': [\"л.\", \"СМ\", \"ВМП\", \"СМС\", \"РР\"], 'name': [\"Листы основного комплекта\", \"Спецификация металлопроката\", \"Ведомость металлоконструкций по видам профилей\", \"Сводная спецификация металлопроката\", \"Расчет металлоконструкций\"]})"
   ]
  },
  {
   "cell_type": "code",
   "execution_count": 636,
   "metadata": {},
   "outputs": [],
   "source": [
    "cursor.execute(open(\"sql_server/x.sql\", \"r\").read())\n",
    "conn.commit()"
   ]
  },
  {
   "cell_type": "code",
   "execution_count": 637,
   "metadata": {},
   "outputs": [],
   "source": [
    "execute_values(df, \"doc_types\")"
   ]
  },
  {
   "cell_type": "markdown",
   "metadata": {},
   "source": [
    "<h1>Грунтовка</h1>"
   ]
  },
  {
   "cell_type": "code",
   "execution_count": 638,
   "metadata": {},
   "outputs": [],
   "source": [
    "df = pd.read_sql_query('SELECT * FROM Pro_t.dbo.Грунт_аз', db_conn)"
   ]
  },
  {
   "cell_type": "code",
   "execution_count": 639,
   "metadata": {},
   "outputs": [],
   "source": [
    "df = df.replace(\"\", np.nan)"
   ]
  },
  {
   "cell_type": "code",
   "execution_count": 640,
   "metadata": {},
   "outputs": [],
   "source": [
    "df[\"Приоритет\"] = df[\"Приоритет\"].map(lambda x: 0 if pd.isna(x) else x)"
   ]
  },
  {
   "cell_type": "code",
   "execution_count": 641,
   "metadata": {},
   "outputs": [],
   "source": [
    "df = df.rename(columns={\"поз\": \"id\",\n",
    "                        \"Группа_гр\": \"group_num\",\n",
    "                        \"Наим_гр\": \"name\",\n",
    "                        \"Можно_гр\": \"can_be_primed\",\n",
    "                        \"Приоритет\": \"priority\"\n",
    "                       })"
   ]
  },
  {
   "cell_type": "code",
   "execution_count": 642,
   "metadata": {},
   "outputs": [],
   "source": [
    "cursor.execute(open(\"sql_server/4.sql\", \"r\").read())\n",
    "conn.commit()"
   ]
  },
  {
   "cell_type": "code",
   "execution_count": 643,
   "metadata": {},
   "outputs": [],
   "source": [
    "execute_values(df, \"primer\")"
   ]
  },
  {
   "cell_type": "markdown",
   "metadata": {},
   "source": [
    "<h1>Степени очистки антикоррозионной защиты</h1>"
   ]
  },
  {
   "cell_type": "code",
   "execution_count": 644,
   "metadata": {},
   "outputs": [],
   "source": [
    "df = pd.read_sql_query('SELECT * FROM Pro_t.dbo.Степени_оч_аз', db_conn)"
   ]
  },
  {
   "cell_type": "code",
   "execution_count": 645,
   "metadata": {},
   "outputs": [],
   "source": [
    "df[\"Наим_оч\"] = df[\"Наим_оч\"].str.strip()"
   ]
  },
  {
   "cell_type": "code",
   "execution_count": 646,
   "metadata": {},
   "outputs": [],
   "source": [
    "df = df.rename(columns={\"Степень_оч\": \"id\",\n",
    "                        \"Наим_оч\": \"name\"\n",
    "                       })"
   ]
  },
  {
   "cell_type": "code",
   "execution_count": 647,
   "metadata": {},
   "outputs": [],
   "source": [
    "cursor.execute(open(\"sql_server/44.sql\", \"r\").read())\n",
    "conn.commit()"
   ]
  },
  {
   "cell_type": "code",
   "execution_count": 648,
   "metadata": {},
   "outputs": [],
   "source": [
    "execute_values(df, \"corr_prot_cleaning_degrees\")"
   ]
  },
  {
   "cell_type": "markdown",
   "metadata": {},
   "source": [
    "<h1>Варианты антикоррозионной защиты </h1>"
   ]
  },
  {
   "cell_type": "code",
   "execution_count": 649,
   "metadata": {},
   "outputs": [],
   "source": [
    "df = pd.read_sql_query('SELECT * FROM Pro_t.dbo.Варианты_аз', db_conn)"
   ]
  },
  {
   "cell_type": "code",
   "execution_count": 650,
   "metadata": {},
   "outputs": [],
   "source": [
    "df[\"Тип_лп\"] = df[\"Тип_лп\"].str.strip()\n",
    "df[\"Стойкость_лп\"] = df[\"Стойкость_лп\"].str.strip()"
   ]
  },
  {
   "cell_type": "code",
   "execution_count": 651,
   "metadata": {},
   "outputs": [],
   "source": [
    "df = df.replace(\"\", np.nan)"
   ]
  },
  {
   "cell_type": "code",
   "execution_count": 652,
   "metadata": {},
   "outputs": [],
   "source": [
    "df = df.drop_duplicates()"
   ]
  },
  {
   "cell_type": "code",
   "execution_count": 653,
   "metadata": {},
   "outputs": [],
   "source": [
    "df = df.drop_duplicates(subset=[\"Зона_экс\", \"Группа_газов\", \"Агресс_ср\", \"Матер_к\", \"Тип_лп\", \"Группа_лп\", \"Стойкость_лп\"])"
   ]
  },
  {
   "cell_type": "code",
   "execution_count": 654,
   "metadata": {},
   "outputs": [],
   "source": [
    "paintwork = pd.read_csv(\"paintwork.csv\")"
   ]
  },
  {
   "cell_type": "code",
   "execution_count": 655,
   "metadata": {},
   "outputs": [],
   "source": [
    "for index, row in df.iterrows():\n",
    "    try:\n",
    "        df.loc[index, \"paintwork_type_id\"] = paintwork.loc[paintwork[\"name\"] == row[\"Тип_лп\"], \"id\"].values[0]\n",
    "    except:\n",
    "        df.loc[index, \"paintwork_type_id\"] = None"
   ]
  },
  {
   "cell_type": "code",
   "execution_count": 656,
   "metadata": {},
   "outputs": [],
   "source": [
    "paintwork_fastness = pd.read_csv(\"paintwork_fastness.csv\")"
   ]
  },
  {
   "cell_type": "code",
   "execution_count": 657,
   "metadata": {},
   "outputs": [],
   "source": [
    "for index, row in df.iterrows():\n",
    "    try:\n",
    "        df.loc[index, \"paintwork_fastness_id\"] = paintwork_fastness.loc[paintwork_fastness[\"name\"] == row[\"Стойкость_лп\"], \"id\"].values[0]\n",
    "    except:\n",
    "        df.loc[index, \"paintwork_fastness_id\"] = None"
   ]
  },
  {
   "cell_type": "code",
   "execution_count": 658,
   "metadata": {},
   "outputs": [],
   "source": [
    "df = df.drop([\"Тип_лп\", \"Стойкость_лп\"], axis=1)"
   ]
  },
  {
   "cell_type": "code",
   "execution_count": 659,
   "metadata": {},
   "outputs": [],
   "source": [
    "df[\"Группа_газов\"] += 1\n",
    "df[\"Агресс_ср\"] += 1\n",
    "df[\"Матер_к\"] += 1"
   ]
  },
  {
   "cell_type": "code",
   "execution_count": 660,
   "metadata": {},
   "outputs": [],
   "source": [
    "df = df.rename(columns={\"Вариант\": \"id\",\n",
    "                        \"Зона_экс\": \"operating_area_id\",\n",
    "                        \"Группа_газов\": \"gas_group_id\",\n",
    "                        \"Агресс_ср\": \"env_aggressiveness_id\",\n",
    "                        \"Матер_к\": \"construction_material_id\",\n",
    "                        \"Группа_лп\": \"paintwork_group\",\n",
    "                        \"Кол_слоев_лп\": \"paintwork_num_of_layers\",\n",
    "                        \"Толщ_лпгр\": \"paintwork_primer_thickness\",\n",
    "                        \"Кол_слоев_гр\": \"primer_num_of_layers\",\n",
    "                        \"Степень_оч\": \"cleaning_degree_id\",\n",
    "                        \"Статус_аз\": \"status\"\n",
    "                       })"
   ]
  },
  {
   "cell_type": "code",
   "execution_count": 661,
   "metadata": {},
   "outputs": [],
   "source": [
    "df = df.where(pd.notnull(df), None)"
   ]
  },
  {
   "cell_type": "code",
   "execution_count": 662,
   "metadata": {},
   "outputs": [],
   "source": [
    "cursor.execute(open(\"sql_server/1.sql\", \"r\").read())\n",
    "conn.commit()"
   ]
  },
  {
   "cell_type": "code",
   "execution_count": 663,
   "metadata": {},
   "outputs": [],
   "source": [
    "execute_values(df, \"corr_prot_variants\")"
   ]
  },
  {
   "cell_type": "markdown",
   "metadata": {},
   "source": [
    "<h1>Способы антикоррозионной защиты</h1>"
   ]
  },
  {
   "cell_type": "code",
   "execution_count": 664,
   "metadata": {},
   "outputs": [],
   "source": [
    "df = pd.read_sql_query('SELECT * FROM Pro_t.dbo.Способы_аз', db_conn)"
   ]
  },
  {
   "cell_type": "code",
   "execution_count": 665,
   "metadata": {},
   "outputs": [],
   "source": [
    "df[\"Наим_сп\"] = df[\"Наим_сп\"].str.strip()"
   ]
  },
  {
   "cell_type": "code",
   "execution_count": 666,
   "metadata": {},
   "outputs": [],
   "source": [
    "df[\"Агресс_ср\"] += 1\n",
    "df[\"Матер_к\"] += 1"
   ]
  },
  {
   "cell_type": "code",
   "execution_count": 667,
   "metadata": {},
   "outputs": [],
   "source": [
    "df.insert(0, 'id', range(1, len(df) + 1))"
   ]
  },
  {
   "cell_type": "code",
   "execution_count": 668,
   "metadata": {},
   "outputs": [],
   "source": [
    "df = df.rename(columns={\"Агресс_ср\": \"env_aggressiveness_id\",\n",
    "                        \"Матер_к\": \"construction_material_id\",\n",
    "                        \"Наим_сп\": \"name\",\n",
    "                        \"Статус_сп\": \"status\"\n",
    "                       })"
   ]
  },
  {
   "cell_type": "code",
   "execution_count": 669,
   "metadata": {},
   "outputs": [],
   "source": [
    "cursor.execute(open(\"sql_server/19.sql\", \"r\").read())\n",
    "conn.commit()"
   ]
  },
  {
   "cell_type": "code",
   "execution_count": 670,
   "metadata": {},
   "outputs": [],
   "source": [
    "execute_values(df, \"corr_prot_methods\")"
   ]
  },
  {
   "cell_type": "markdown",
   "metadata": {},
   "source": [
    "<h1>Покрытия антикоррозионной защиты</h1>"
   ]
  },
  {
   "cell_type": "code",
   "execution_count": 671,
   "metadata": {},
   "outputs": [],
   "source": [
    "df = pd.read_sql_query('SELECT * FROM Pro_t.dbo.Покрытия_аз', db_conn)"
   ]
  },
  {
   "cell_type": "code",
   "execution_count": 672,
   "metadata": {},
   "outputs": [],
   "source": [
    "df = df.replace(\"\", None)"
   ]
  },
  {
   "cell_type": "code",
   "execution_count": 673,
   "metadata": {},
   "outputs": [],
   "source": [
    "df[\"Тип_лп\"] = df[\"Тип_лп\"].str.strip()\n",
    "df[\"Стойкость_лп\"] = df[\"Стойкость_лп\"].str.strip()\n",
    "df[\"Наим_лп\"] = df[\"Наим_лп\"].str.strip()"
   ]
  },
  {
   "cell_type": "code",
   "execution_count": 674,
   "metadata": {},
   "outputs": [],
   "source": [
    "df[\"Приоритет\"] = df[\"Приоритет\"].map(lambda x: 0 if pd.isna(x) else x)"
   ]
  },
  {
   "cell_type": "code",
   "execution_count": 675,
   "metadata": {},
   "outputs": [],
   "source": [
    "df = df.drop_duplicates(subset=[\"Тип_лп\", \"Группа_лп\", \"Стойкость_лп\", \"Наим_лп\"])"
   ]
  },
  {
   "cell_type": "code",
   "execution_count": 676,
   "metadata": {},
   "outputs": [],
   "source": [
    "paintwork = pd.read_csv(\"paintwork.csv\")"
   ]
  },
  {
   "cell_type": "code",
   "execution_count": 677,
   "metadata": {},
   "outputs": [],
   "source": [
    "for index, row in df.iterrows():\n",
    "    try:\n",
    "        df.loc[index, \"paintwork_type_id\"] = paintwork.loc[paintwork[\"name\"] == row[\"Тип_лп\"], \"id\"].values[0]\n",
    "    except:\n",
    "        df.loc[index, \"paintwork_type_id\"] = None"
   ]
  },
  {
   "cell_type": "code",
   "execution_count": 678,
   "metadata": {},
   "outputs": [],
   "source": [
    "paintwork_fastness = pd.read_csv(\"paintwork_fastness.csv\")"
   ]
  },
  {
   "cell_type": "code",
   "execution_count": 679,
   "metadata": {},
   "outputs": [],
   "source": [
    "for index, row in df.iterrows():\n",
    "    try:\n",
    "        df.loc[index, \"paintwork_fastness_id\"] = paintwork_fastness.loc[paintwork_fastness[\"name\"] == row[\"Стойкость_лп\"], \"id\"].values[0]\n",
    "    except:\n",
    "        df.loc[index, \"paintwork_fastness_id\"] = None"
   ]
  },
  {
   "cell_type": "code",
   "execution_count": 680,
   "metadata": {},
   "outputs": [],
   "source": [
    "df = df.drop([\"Тип_лп\", \"Стойкость_лп\"], axis=1)"
   ]
  },
  {
   "cell_type": "code",
   "execution_count": 681,
   "metadata": {},
   "outputs": [],
   "source": [
    "df = df.rename(columns={\"Покрытие\": \"id\",\n",
    "                        \"Группа_лп\": \"paintwork_group\",\n",
    "                        \"Наим_лп\": \"name\",\n",
    "                        \"Кол_сл_лп\": \"paintwork_num_of_layers\",\n",
    "                        \"Группа_гр\": \"primer_group\",\n",
    "                        \"Можно_лп\": \"can_be_painted\",\n",
    "                        \"Приоритет\": \"priority\"\n",
    "                       })"
   ]
  },
  {
   "cell_type": "code",
   "execution_count": 682,
   "metadata": {},
   "outputs": [],
   "source": [
    "df = df.where(pd.notnull(df), None)"
   ]
  },
  {
   "cell_type": "code",
   "execution_count": 683,
   "metadata": {},
   "outputs": [],
   "source": [
    "cursor.execute(open(\"sql_server/17.sql\", \"r\").read())\n",
    "conn.commit()"
   ]
  },
  {
   "cell_type": "code",
   "execution_count": 684,
   "metadata": {},
   "outputs": [],
   "source": [
    "execute_values(df, \"corr_prot_coatings\")"
   ]
  },
  {
   "cell_type": "markdown",
   "metadata": {},
   "source": [
    "<h1>Виды конструкций</h1>"
   ]
  },
  {
   "cell_type": "code",
   "execution_count": 685,
   "metadata": {},
   "outputs": [],
   "source": [
    "df = pd.read_sql_query('SELECT * FROM Pro_t.dbo.Спр_видов_к', db_conn)"
   ]
  },
  {
   "cell_type": "code",
   "execution_count": 686,
   "metadata": {},
   "outputs": [],
   "source": [
    "df[\"Имя_к\"] = df[\"Имя_к\"].str.strip()"
   ]
  },
  {
   "cell_type": "code",
   "execution_count": 687,
   "metadata": {},
   "outputs": [],
   "source": [
    "df = df[df[\"Имя_к\"].isna() == False]"
   ]
  },
  {
   "cell_type": "code",
   "execution_count": 688,
   "metadata": {},
   "outputs": [],
   "source": [
    "df = df.rename(columns={\"Шифр_к\": \"id\",\n",
    "                        \"Имя_к\": \"name\"\n",
    "                       })"
   ]
  },
  {
   "cell_type": "code",
   "execution_count": 689,
   "metadata": {},
   "outputs": [],
   "source": [
    "df.loc[df[\"id\"] == 2, \"name\"] = \"Двухветвевые колонны одноэтажных производственных зданий и крановых эстакад\"\n",
    "df.loc[df[\"id\"] == 9, \"name\"] = \"Подкраново-подстропильные фермы\"\n",
    "df.loc[df[\"id\"] == 34, \"name\"] = \"Переплеты, витражи из профильных труб с деталями крепления\""
   ]
  },
  {
   "cell_type": "code",
   "execution_count": 690,
   "metadata": {},
   "outputs": [],
   "source": [
    "cursor.execute(open(\"sql_server/22.sql\", \"r\").read())\n",
    "conn.commit()"
   ]
  },
  {
   "cell_type": "code",
   "execution_count": 691,
   "metadata": {},
   "outputs": [],
   "source": [
    "execute_values(df, \"construction_types\")"
   ]
  },
  {
   "cell_type": "markdown",
   "metadata": {},
   "source": [
    "<h1>Подвиды конструкций</h1>"
   ]
  },
  {
   "cell_type": "code",
   "execution_count": 692,
   "metadata": {},
   "outputs": [],
   "source": [
    "df = pd.read_sql_query('SELECT * FROM Pro_t.dbo.Спр_видов_пк', db_conn)"
   ]
  },
  {
   "cell_type": "code",
   "execution_count": 693,
   "metadata": {},
   "outputs": [],
   "source": [
    "df[\"Имя_пк\"] = df[\"Имя_пк\"].str.strip()\n",
    "df[\"Расценка\"] = df[\"Расценка\"].str.strip()"
   ]
  },
  {
   "cell_type": "code",
   "execution_count": 694,
   "metadata": {},
   "outputs": [],
   "source": [
    "df = df.drop_duplicates()"
   ]
  },
  {
   "cell_type": "code",
   "execution_count": 695,
   "metadata": {},
   "outputs": [],
   "source": [
    "df = df.drop([\"Шифр_пк\"], axis=1)"
   ]
  },
  {
   "cell_type": "code",
   "execution_count": 696,
   "metadata": {},
   "outputs": [],
   "source": [
    "df = df.rename(columns={\"Поз_пк\": \"id\",\n",
    "                        \"Шифр_к\": \"type_id\",\n",
    "                        \"Имя_пк\": \"name\",\n",
    "                        \"Расценка\": \"valuation\"\n",
    "                       })"
   ]
  },
  {
   "cell_type": "code",
   "execution_count": 697,
   "metadata": {},
   "outputs": [],
   "source": [
    "df.loc[df[\"id\"] == 11, \"name\"] = \"высотой свыше 150 м, поставляемые отдельными элементами\"\n",
    "df.loc[df[\"id\"] == 14, \"name\"] = \"коробчатого сечения пролетом 12 м и более\"\n",
    "df.loc[df[\"id\"] == 33, \"name\"] = \"с шагом стропильных ферм 6 м\"\n",
    "df.loc[df[\"id\"] == 34, \"name\"] = \"с шагом стропильных ферм 12 м\"\n",
    "df.loc[df[\"id\"] == 49, \"name\"] = \"составного сечения из горячекатаных профилей, соединенных планками\"\n",
    "df.loc[df[\"id\"] == 51, \"name\"] = \"ветви из двутавров с парал. гранями полок, решетка из г/кат. уголков и швеллеров\"\n",
    "df.loc[df[\"id\"] == 52, \"name\"] = \"ветви из двутавров (ГОСТ 8239-72) или швеллеров и решетка из г/кат. уголков\"\n",
    "df.loc[df[\"id\"] == 69, \"name\"] = \"с поясами из тавров, стенкой из листовой стали, пролетом 6 м, массой 1 м,т:\"\n",
    "df.loc[df[\"id\"] == 70, \"name\"] = \"с поясами из тавров, стенкой из листовой стали, пролетом 12 м и более,т:\"\n",
    "df.loc[df[\"id\"] == 71, \"name\"] = \"из листовой стали пролетом 6 м, массой 1 м,т:\"\n",
    "df.loc[df[\"id\"] == 72, \"name\"] = \"из листовой стали пролетом 12 м, массой 1 м,т:\"\n",
    "df.loc[df[\"id\"] == 83, \"name\"] = \"пролетом 12 м, решетчатые из г/кат. и гнутых профилей, масса 1 м до 0.4 т\"\n",
    "df.loc[df[\"id\"] == 84, \"name\"] = \"пролетом 12 м, решетчатые из г/кат. и гнутых профилей, масса 1 м свыше 0.4 т\"\n",
    "df.loc[df[\"id\"] == 85, \"name\"] = \"пролетом 12 м, решетчатые сост. сечения из листовой стали, масса 1 м до 0.4 т\"\n",
    "df.loc[df[\"id\"] == 86, \"name\"] = \"пролетом 12 м, решетчатые сост. сечения из листовой стали, масса 1 м свыше 0.4 т\"\n",
    "df.loc[df[\"id\"] == 87, \"name\"] = \"составного сечения из листовой стали, масса 1 м,т:\"\n",
    "df.loc[df[\"id\"] == 88, \"name\"] = \"составного сечения из двух и более уголков или швеллеров, масса 1 м,т:\"\n",
    "df.loc[df[\"id\"] == 89, \"name\"] = \"из двутавров с параллельными гранями полок, масса 1 м,т:\"\n",
    "df.loc[df[\"id\"] == 90, \"name\"] = \"составного сечения из листовой стали с верхним опиранием настила, масса марки,т:\"\n",
    "df.loc[df[\"id\"] == 91, \"name\"] = \"составного сечения при пониженном опирании настила, масса марки,т:\"\n",
    "df.loc[df[\"id\"] == 92, \"name\"] = \"из двутавров с парал. гранями полок с верхним опиранием настила, масса до 1 т\"\n",
    "df.loc[df[\"id\"] == 93, \"name\"] = \"из двутавров с парал. гранями полок с верхним опиранием настила, масса свыше 1 т\"\n",
    "df.loc[df[\"id\"] == 94, \"name\"] = \"из двутавров с парал. гранями полок с пониж. опиранием настила, масса до 1 т\"\n",
    "df.loc[df[\"id\"] == 95, \"name\"] = \"из двутавров с парал. гранями полок с пониж. опиранием настила, масса свыше 1 т\"\n",
    "df.loc[df[\"id\"] == 113, \"name\"] = \"фермы из парных уголков и тавров, попер. балки из двутавров, масса 1 м до 0.5 т\"\n",
    "df.loc[df[\"id\"] == 114, \"name\"] = \"фермы из парных уголков и тавров, попер. балки из двутавров, масса 1 м до 1 т\"\n",
    "df.loc[df[\"id\"] == 115, \"name\"] = \"фермы из парных уголков и тавров, попер. балки из двутавров, масса 1 м свыше 1 т\""
   ]
  },
  {
   "cell_type": "code",
   "execution_count": 698,
   "metadata": {},
   "outputs": [],
   "source": [
    "cursor.execute(open(\"sql_server/24.sql\", \"r\").read())\n",
    "conn.commit()"
   ]
  },
  {
   "cell_type": "code",
   "execution_count": 699,
   "metadata": {},
   "outputs": [],
   "source": [
    "execute_values(df, \"construction_subtypes\")"
   ]
  },
  {
   "cell_type": "markdown",
   "metadata": {},
   "source": [
    "<h1>Типовые наименования листов</h1>"
   ]
  },
  {
   "cell_type": "code",
   "execution_count": 700,
   "metadata": {},
   "outputs": [],
   "source": [
    "df = pd.read_sql_query('SELECT * FROM Pro_t.dbo.Спр_листов_н', db_conn)"
   ]
  },
  {
   "cell_type": "code",
   "execution_count": 701,
   "metadata": {},
   "outputs": [],
   "source": [
    "df[\"ш_листа\"] = df[\"ш_листа\"].str.strip()"
   ]
  },
  {
   "cell_type": "code",
   "execution_count": 702,
   "metadata": {},
   "outputs": [],
   "source": [
    "df = df.rename(columns={\"ш_номер\": \"id\",\n",
    "                        \"ш_листа\": \"name\"\n",
    "                       })"
   ]
  },
  {
   "cell_type": "code",
   "execution_count": 703,
   "metadata": {},
   "outputs": [],
   "source": [
    "cursor.execute(open(\"sql_server/27.sql\", \"r\").read())\n",
    "conn.commit()"
   ]
  },
  {
   "cell_type": "code",
   "execution_count": 704,
   "metadata": {},
   "outputs": [],
   "source": [
    "execute_values(df, \"sheet_names\")"
   ]
  },
  {
   "cell_type": "markdown",
   "metadata": {},
   "source": [
    "<h1>Виды ссылочных документов</h1>"
   ]
  },
  {
   "cell_type": "code",
   "execution_count": 705,
   "metadata": {},
   "outputs": [],
   "source": [
    "df = pd.read_sql_query('SELECT * FROM Pro_t.dbo.Спр_ссыл_в', db_conn)"
   ]
  },
  {
   "cell_type": "code",
   "execution_count": 706,
   "metadata": {},
   "outputs": [],
   "source": [
    "df[\"Наим_вида\"] = df[\"Наим_вида\"].str.strip()\n",
    "df[\"Наим_вида\"] = df[\"Наим_вида\"].str.capitalize()"
   ]
  },
  {
   "cell_type": "code",
   "execution_count": 707,
   "metadata": {},
   "outputs": [],
   "source": [
    "df = df.drop_duplicates(subset=[\"Наим_вида\"])"
   ]
  },
  {
   "cell_type": "code",
   "execution_count": 708,
   "metadata": {},
   "outputs": [],
   "source": [
    "df = df.rename(columns={\"Вид_сд\": \"id\",\n",
    "                        \"Наим_вида\": \"name\"\n",
    "                       })"
   ]
  },
  {
   "cell_type": "code",
   "execution_count": 709,
   "metadata": {},
   "outputs": [],
   "source": [
    "cursor.execute(open(\"sql_server/40.sql\", \"r\").read())\n",
    "conn.commit()"
   ]
  },
  {
   "cell_type": "code",
   "execution_count": 710,
   "metadata": {},
   "outputs": [],
   "source": [
    "execute_values(df, \"linked_doc_types\")"
   ]
  },
  {
   "cell_type": "markdown",
   "metadata": {},
   "source": [
    "<h1>Ссылочные документы</h1>"
   ]
  },
  {
   "cell_type": "code",
   "execution_count": 711,
   "metadata": {},
   "outputs": [],
   "source": [
    "df = pd.read_sql_query('SELECT * FROM Pro_t.dbo.Спр_ссыл', db_conn)"
   ]
  },
  {
   "cell_type": "code",
   "execution_count": 712,
   "metadata": {},
   "outputs": [],
   "source": [
    "df = df.replace(\"\", np.nan)"
   ]
  },
  {
   "cell_type": "code",
   "execution_count": 713,
   "metadata": {},
   "outputs": [],
   "source": [
    "df = df.dropna()"
   ]
  },
  {
   "cell_type": "code",
   "execution_count": 714,
   "metadata": {},
   "outputs": [],
   "source": [
    "df = df.drop_duplicates(subset=[\"Шифр_сд\"])"
   ]
  },
  {
   "cell_type": "code",
   "execution_count": 715,
   "metadata": {},
   "outputs": [],
   "source": [
    "df = df.reset_index(drop=True)"
   ]
  },
  {
   "cell_type": "code",
   "execution_count": 716,
   "metadata": {},
   "outputs": [],
   "source": [
    "df[\"Шифр_сд\"] = df[\"Шифр_сд\"].str.strip()\n",
    "df[\"Обозн_сд\"] = df[\"Обозн_сд\"].str.strip()\n",
    "df[\"Наим_сд\"] = df[\"Наим_сд\"].str.strip()"
   ]
  },
  {
   "cell_type": "code",
   "execution_count": 717,
   "metadata": {},
   "outputs": [],
   "source": [
    "for i in range(0, len(df)):\n",
    "    arr = df[\"Наим_сд\"][i].split()\n",
    "    new_str = ' '.join(arr)\n",
    "    df.at[i, \"Наим_сд\"] = new_str"
   ]
  },
  {
   "cell_type": "code",
   "execution_count": 718,
   "metadata": {},
   "outputs": [],
   "source": [
    "df[\"Наим_сд\"] = df[\"Наим_сд\"].str.replace(\"возду ха\", \"воздуха\")\n",
    "df[\"Наим_сд\"] = df[\"Наим_сд\"].str.replace(\"Материриалы\", \"Материалы\")\n",
    "df[\"Наим_сд\"] = df[\"Наим_сд\"].str.replace(\"рекоментации\", \"рекомендации\")\n",
    "df[\"Наим_сд\"] = df[\"Наим_сд\"].str.replace(\"рас пашные\", \"распашные\")\n",
    "df[\"Наим_сд\"] = df[\"Наим_сд\"].str.replace(\"металличе ческих\", \"металлических\")\n",
    "df[\"Наим_сд\"] = df[\"Наим_сд\"].str.replace(\"металличе ских\", \"металлических\")\n",
    "df[\"Наим_сд\"] = df[\"Наим_сд\"].str.replace(\"электри ческие\", \"электрические\")\n",
    "df[\"Наим_сд\"] = df[\"Наим_сд\"].str.replace(\"кра ны\", \"краны\")\n",
    "df[\"Наим_сд\"] = df[\"Наим_сд\"].str.replace(\"примене нием\", \"применением\")\n",
    "df[\"Наим_сд\"] = df[\"Наим_сд\"].str.replace(\"обслуживани сосудов\", \"обслуживания сосудов\")\n",
    "df[\"Наим_сд\"] = df[\"Наим_сд\"].str.replace(\"пе реплетами\", \"переплетами\")\n",
    "df[\"Наим_сд\"] = df[\"Наим_сд\"].str.replace(\"за полнением\", \"заполнением\")\n",
    "df[\"Наим_сд\"] = df[\"Наим_сд\"].str.replace(\"линй\", \"линий\")\n",
    "df[\"Наим_сд\"] = df[\"Наим_сд\"].str.replace(\"мосто вые\", \"мостовые\")\n",
    "df[\"Наим_сд\"] = df[\"Наим_сд\"].str.replace(\"покрыти ем\", \"покрытием\")\n",
    "df[\"Наим_сд\"] = df[\"Наим_сд\"].str.replace(\"со кращенному\", \"сокращенному\")\n",
    "df[\"Наим_сд\"] = df[\"Наим_сд\"].str.replace(\"покрытияпролетами\", \"покрытия пролетами\")\n",
    "df[\"Наим_сд\"] = df[\"Наим_сд\"].str.replace(\"широкополочныых\", \"широкополочных\")\n",
    "df[\"Наим_сд\"] = df[\"Наим_сд\"].str.replace(\"тав ров\", \"тавров\")\n",
    "df[\"Наим_сд\"] = df[\"Наим_сд\"].str.replace(\"зда ний\", \"зданий\")\n",
    "df[\"Наим_сд\"] = df[\"Наим_сд\"].str.replace(\"ремонтно -монтажных\", \"ремонтно-монтажных\")\n",
    "df[\"Наим_сд\"] = df[\"Наим_сд\"].str.replace(\"пок рытия\", \"покрытия\")\n",
    "df[\"Наим_сд\"] = df[\"Наим_сд\"].str.replace(\"профилирован ным\", \"профилированным\")\n",
    "df[\"Наим_сд\"] = df[\"Наим_сд\"].str.replace(\"стеклои минераловатных\", \"стекло и минераловатных\")\n",
    "df[\"Наим_сд\"] = df[\"Наим_сд\"].str.replace(\"окон,дверей\", \"окон, дверей\")\n",
    "df[\"Наим_сд\"] = df[\"Наим_сд\"].str.replace(\"пром.зданий\", \"пром. зданий\")\n",
    "df[\"Наим_сд\"] = df[\"Наим_сд\"].str.replace(\"строитель ные\", \"строительные\")\n",
    "df[\"Наим_сд\"] = df[\"Наим_сд\"].str.replace(\"сталь ные\", \"стальные\")\n",
    "df[\"Наим_сд\"] = df[\"Наим_сд\"].str.replace(\"наруж ного\", \"наружного\")\n",
    "df[\"Наим_сд\"] = df[\"Наим_сд\"].str.replace(\"ветров.район.\", \"ветров. район.\")\n",
    "df[\"Наим_сд\"] = df[\"Наим_сд\"].str.replace(\"выше и ниже -40 град.с.  ше и ниже -40 град.с.\", \"выше -40 град.с. и ниже -40 град.с.\")\n",
    "df[\"Наим_сд\"] = df[\"Наим_сд\"].str.replace(\"алю миниевых\", \"алюминиевых\")\n",
    "df[\"Наим_сд\"] = df[\"Наим_сд\"].str.replace(\"зданий,промышленных\", \"зданий, промышленных\")\n",
    "df[\"Наим_сд\"] = df[\"Наим_сд\"].str.replace(\"предприятий.шарнирные\", \"предприятий. Шарнирные\")\n",
    "df[\"Наим_сд\"] = df[\"Наим_сд\"].str.replace(\"связей.Чертежи\", \"связей. Чертежи\")\n",
    "df[\"Наим_сд\"] = df[\"Наим_сд\"].str.replace(\"сталь ными\", \"стальными\")\n",
    "df[\"Наим_сд\"] = df[\"Наим_сд\"].str.replace(\"унифици рованных\", \"унифицированных\")\n",
    "df[\"Наим_сд\"] = df[\"Наим_сд\"].str.replace(\"уз лы\", \"узлы\")\n",
    "df[\"Наим_сд\"] = df[\"Наим_сд\"].str.replace(\"железобе тонных\", \"железобетонных\")\n",
    "df[\"Наим_сд\"] = df[\"Наим_сд\"].str.replace(\"метал лопроката\", \"металлопроката\")\n",
    "df[\"Наим_сд\"] = df[\"Наим_сд\"].str.replace(\"выпу ску\", \"выпуску\")\n",
    "df[\"Наим_сд\"] = df[\"Наим_сд\"].str.replace(\"откры вающиеся\", \"открывающиеся\")\n",
    "df[\"Наим_сд\"] = df[\"Наим_сд\"].str.replace(\"светоаэра ционных\", \"светоаэрационных\")\n",
    "df[\"Наим_сд\"] = df[\"Наим_сд\"].str.replace(\"проектирования.Рабочие\", \"проектирования. Рабочие\")\n",
    "df[\"Наим_сд\"] = df[\"Наим_сд\"].str.replace(\"черте жи\", \"чертежи\")\n",
    "df[\"Наим_сд\"] = df[\"Наим_сд\"].str.replace(\"опорн.кранами\", \"опорн. кранами\")\n",
    "df[\"Наим_сд\"] = df[\"Наим_сд\"].str.replace(\"опорынми кранами\", \"опорными кранами\")\n",
    "df[\"Наим_сд\"] = df[\"Наим_сд\"].str.replace(\"несущ.конструкций\", \"несущ. конструкций\")\n",
    "df[\"Наим_сд\"] = df[\"Наим_сд\"].str.replace(\"подв.кранами\", \"подв. кранами\")\n",
    "df[\"Наим_сд\"] = df[\"Наим_сд\"].str.replace(\"кровлей,оборудованных\", \"кровлей, оборудованных\")\n",
    "df[\"Наим_сд\"] = df[\"Наим_сд\"].str.replace(\"одноэт.произв\", \"одноэт. произв\")\n",
    "df[\"Наим_сд\"] = df[\"Наим_сд\"].str.replace(\"произв.зданий\", \"произв. зданий\")\n",
    "df[\"Наим_сд\"] = df[\"Наим_сд\"].str.replace(\"кровлей,оборудованных\", \"кровлей, оборудованных\")\n",
    "df[\"Наим_сд\"] = df[\"Наим_сд\"].str.replace(\"специальн.назначения\", \"специальн. назначения\")\n",
    "df[\"Наим_сд\"] = df[\"Наим_сд\"].str.replace(\"зданий,оборудованных\", \"зданий, оборудованных\")\n",
    "df[\"Наим_сд\"] = df[\"Наим_сд\"].str.replace(\"две рей\", \"дверей\")"
   ]
  },
  {
   "cell_type": "code",
   "execution_count": 719,
   "metadata": {},
   "outputs": [],
   "source": [
    "df = df.drop_duplicates(subset=[\"Наим_сд\"])"
   ]
  },
  {
   "cell_type": "code",
   "execution_count": 720,
   "metadata": {},
   "outputs": [],
   "source": [
    "df.loc[df[\"Наим_сд\"].str.endswith('.') == False, \"Наим_сд\"] = df[df[\"Наим_сд\"].str.endswith('.') == False][\"Наим_сд\"] + '.'"
   ]
  },
  {
   "cell_type": "code",
   "execution_count": 721,
   "metadata": {},
   "outputs": [],
   "source": [
    "df.insert(0, 'id', range(1, len(df) + 1))"
   ]
  },
  {
   "cell_type": "code",
   "execution_count": 722,
   "metadata": {},
   "outputs": [],
   "source": [
    "df = df.rename(columns={\"Шифр_сд\": \"code\",\n",
    "                        \"Вид_сд\": \"type_id\",\n",
    "                        \"Обозн_сд\": \"designation\",\n",
    "                        \"Наим_сд\": \"name\"\n",
    "                       })"
   ]
  },
  {
   "cell_type": "code",
   "execution_count": 723,
   "metadata": {},
   "outputs": [],
   "source": [
    "cursor.execute(open(\"sql_server/39.sql\", \"r\").read())\n",
    "conn.commit()"
   ]
  },
  {
   "cell_type": "code",
   "execution_count": 724,
   "metadata": {
    "scrolled": true
   },
   "outputs": [],
   "source": [
    "execute_values(df, \"linked_docs\")"
   ]
  },
  {
   "cell_type": "markdown",
   "metadata": {},
   "source": [
    "<h1>Категории производства по пожарной и взрывопожарной опасности</h1>"
   ]
  },
  {
   "cell_type": "code",
   "execution_count": 725,
   "metadata": {},
   "outputs": [],
   "source": [
    "df = pd.read_sql_query('SELECT * FROM Pro_t.dbo.Категории_пр', db_conn)"
   ]
  },
  {
   "cell_type": "code",
   "execution_count": 726,
   "metadata": {},
   "outputs": [],
   "source": [
    "df = df.replace(\"\", np.nan)"
   ]
  },
  {
   "cell_type": "code",
   "execution_count": 727,
   "metadata": {},
   "outputs": [],
   "source": [
    "df = df.rename(columns={\"поз\": \"id\",\n",
    "                        \"Категория\": \"category\",\n",
    "                        \"Название\": \"name\",\n",
    "                        \"Текст_од\": \"description\"\n",
    "                       })"
   ]
  },
  {
   "cell_type": "code",
   "execution_count": 728,
   "metadata": {},
   "outputs": [],
   "source": [
    "df = df.where(pd.notnull(df), None)"
   ]
  },
  {
   "cell_type": "code",
   "execution_count": 729,
   "metadata": {},
   "outputs": [],
   "source": [
    "cursor.execute(open(\"sql_server/5.sql\", \"r\").read())\n",
    "conn.commit()"
   ]
  },
  {
   "cell_type": "code",
   "execution_count": 730,
   "metadata": {},
   "outputs": [],
   "source": [
    "execute_values(df, \"fire_hazard_categories\")"
   ]
  },
  {
   "cell_type": "markdown",
   "metadata": {},
   "source": [
    "<h1>Марки</h1>"
   ]
  },
  {
   "cell_type": "code",
   "execution_count": 731,
   "metadata": {},
   "outputs": [],
   "source": [
    "employee_df = pd.read_sql_query('SELECT * FROM DocumentsKM.dbo.Employees', conn)"
   ]
  },
  {
   "cell_type": "code",
   "execution_count": 732,
   "metadata": {},
   "outputs": [],
   "source": [
    "df = pd.read_sql_query('SELECT * FROM Pro_t.dbo.Марки', db_conn)"
   ]
  },
  {
   "cell_type": "code",
   "execution_count": 733,
   "metadata": {},
   "outputs": [],
   "source": [
    "df = df.loc[:, [\"обозн\", \"код_марки\", \"объект\", \"комплекс\", \"гл_спец\", \"рук_гр\", \"н_контр\", \"дата_выд\", 'дата_ред', \"кол_томов\", \"прим\", 'коэф_надежн', 't_эксплуат', 'зона_эксплуат', 'группа_газов', 'агрессивность', 'материал', 'тип_ЛКМ', 'вп_болты', 'категория_пр', 'ТекстЗдСм', 'ДопОбъемы', \"подп1\"]]"
   ]
  },
  {
   "cell_type": "code",
   "execution_count": 734,
   "metadata": {},
   "outputs": [],
   "source": [
    "df[\"обозн\"] = df[\"обозн\"].str.strip()"
   ]
  },
  {
   "cell_type": "code",
   "execution_count": 735,
   "metadata": {},
   "outputs": [],
   "source": [
    "df[\"обозн\"] = df[\"обозн\"].str.replace(\"KM\", \"КМ\")"
   ]
  },
  {
   "cell_type": "code",
   "execution_count": 736,
   "metadata": {},
   "outputs": [],
   "source": [
    "df2 = pd.DataFrame(df[\"обозн\"].str.split('-КМ', 1).tolist(),\n",
    "                   columns = ['first','code'])"
   ]
  },
  {
   "cell_type": "code",
   "execution_count": 737,
   "metadata": {},
   "outputs": [],
   "source": [
    "df = df.join(df2[[\"code\"]])"
   ]
  },
  {
   "cell_type": "code",
   "execution_count": 738,
   "metadata": {},
   "outputs": [],
   "source": [
    "df = df[df[\"code\"] != \"\"]"
   ]
  },
  {
   "cell_type": "code",
   "execution_count": 739,
   "metadata": {},
   "outputs": [],
   "source": [
    "df.loc[:, \"code\"] = \"КМ\" + df[\"code\"]"
   ]
  },
  {
   "cell_type": "code",
   "execution_count": 740,
   "metadata": {},
   "outputs": [],
   "source": [
    "df = df.dropna(subset=[\"кол_томов\", \"t_эксплуат\", \"группа_газов\", \"code\", \"подп1\"])"
   ]
  },
  {
   "cell_type": "code",
   "execution_count": 741,
   "metadata": {},
   "outputs": [],
   "source": [
    "df[\"t_эксплуат\"] = df[\"t_эксплуат\"].str.replace(\"минус \", \"-\")\n",
    "df[\"t_эксплуат\"] = df[\"t_эксплуат\"].str.replace(\"плюс \", \"\")\n",
    "df[\"t_эксплуат\"] = df[\"t_эксплуат\"].str.replace(\"+\", \"\")\n",
    "df[\"t_эксплуат\"] = df[\"t_эксплуат\"].str.replace(\"- 39\", \"-39\")\n",
    "df = df[df[\"t_эксплуат\"] != \"-\"]\n",
    "df = df[df[\"t_эксплуат\"] != \"минус\"]\n",
    "df[\"t_эксплуат\"] = df[\"t_эксплуат\"].astype(\"float64\")"
   ]
  },
  {
   "cell_type": "code",
   "execution_count": 742,
   "metadata": {},
   "outputs": [],
   "source": [
    "df[\"прим\"] = df[\"прим\"].str.strip()\n",
    "df[\"прим\"] = df[\"прим\"].str.replace(\"\\r\\n       \", \" \")"
   ]
  },
  {
   "cell_type": "code",
   "execution_count": 743,
   "metadata": {},
   "outputs": [],
   "source": [
    "df[\"категория_пр\"] = 3"
   ]
  },
  {
   "cell_type": "code",
   "execution_count": 744,
   "metadata": {},
   "outputs": [],
   "source": [
    "df[\"агрессивность\"] += 1\n",
    "df[\"группа_газов\"] += 1\n",
    "df[\"материал\"] += 1\n",
    "df[\"вп_болты\"] += 1"
   ]
  },
  {
   "cell_type": "code",
   "execution_count": 745,
   "metadata": {},
   "outputs": [],
   "source": [
    "df.loc[df[\"тип_ЛКМ\"] == \"ПФ\", \"тип_ЛКМ\"] = 1\n",
    "df.loc[df[\"тип_ЛКМ\"] == \"АУ\", \"тип_ЛКМ\"] = 2\n",
    "df.loc[df[\"тип_ЛКМ\"] == \"ЭЭ\", \"тип_ЛКМ\"] = 3\n",
    "df.loc[df[\"тип_ЛКМ\"] == \"МА\", \"тип_ЛКМ\"] = 4\n",
    "df.loc[df[\"тип_ЛКМ\"] == \"ПВ\", \"тип_ЛКМ\"] = 11"
   ]
  },
  {
   "cell_type": "code",
   "execution_count": 746,
   "metadata": {},
   "outputs": [],
   "source": [
    "df.loc[:, 'подп1'] = to_new_employee_ids(df, 'подп1')\n",
    "df.loc[:, 'гл_спец'] = to_new_employee_ids(df, 'гл_спец')\n",
    "df.loc[:, 'рук_гр'] = to_new_employee_ids(df, 'рук_гр')\n",
    "df.loc[:, 'н_контр'] = to_new_employee_ids(df, 'н_контр')"
   ]
  },
  {
   "cell_type": "code",
   "execution_count": 747,
   "metadata": {},
   "outputs": [],
   "source": [
    "df = df[(df[\"гл_спец\"].isna() == False) | (df[\"рук_гр\"].isna() == False) | (df[\"н_контр\"].isna() == False)]"
   ]
  },
  {
   "cell_type": "code",
   "execution_count": 748,
   "metadata": {},
   "outputs": [],
   "source": [
    "for index, row in df.iterrows():\n",
    "    try:\n",
    "        v1 = employee_df.loc[employee_df[\"Id\"] == row[\"гл_спец\"], \"DepartmentId\"].values\n",
    "        if (len(v1) == 1):\n",
    "            df.loc[index, \"department_id\"] = v1[0]\n",
    "            continue\n",
    "            \n",
    "        v1 = employee_df.loc[employee_df[\"Id\"] == row[\"рук_гр\"], \"DepartmentId\"].values\n",
    "        if (len(v1) == 1):\n",
    "            df.loc[index, \"department_id\"] = v1[0]\n",
    "            continue\n",
    "            \n",
    "        v1 = employee_df.loc[employee_df[\"Id\"] == row[\"н_контр\"], \"DepartmentId\"].values\n",
    "        df.loc[index, \"department_id\"] = v1[0]\n",
    "    except:\n",
    "        df.loc[index, \"department_id\"] = None"
   ]
  },
  {
   "cell_type": "code",
   "execution_count": 749,
   "metadata": {},
   "outputs": [],
   "source": [
    "df = df.dropna(subset=[\"department_id\"])"
   ]
  },
  {
   "cell_type": "code",
   "execution_count": 750,
   "metadata": {},
   "outputs": [],
   "source": [
    "df = df.dropna(subset=[\"объект\", \"комплекс\"])"
   ]
  },
  {
   "cell_type": "code",
   "execution_count": 751,
   "metadata": {},
   "outputs": [],
   "source": [
    "for index, row in df.iterrows():\n",
    "    try:\n",
    "        df.loc[index, \"subnode_id\"] = mark_archive.loc[mark_archive[\"Id\"] == row[\"код_марки\"], \"ArchSubnodeId\"].values[0]\n",
    "    except:\n",
    "        df.loc[index, \"subnode_id\"] = None"
   ]
  },
  {
   "cell_type": "code",
   "execution_count": 752,
   "metadata": {},
   "outputs": [],
   "source": [
    "df = df.dropna(subset=[\"subnode_id\"])"
   ]
  },
  {
   "cell_type": "code",
   "execution_count": 753,
   "metadata": {},
   "outputs": [],
   "source": [
    "for index, row in df.iterrows():\n",
    "    try:\n",
    "        df.loc[index, \"ArchSubnodeId\"] = mark_archive.loc[mark_archive[\"Id\"] == row[\"код_марки\"], \"ArchSubnodeId\"].values[0]\n",
    "    except:\n",
    "        df.loc[index, \"ArchSubnodeId\"] = None"
   ]
  },
  {
   "cell_type": "code",
   "execution_count": 754,
   "metadata": {},
   "outputs": [],
   "source": [
    "for index, row in df.iterrows():\n",
    "    try:\n",
    "        df.loc[index, \"name\"] = archive_marks.loc[archive_marks[\"Марка\"] == row[\"ArchSubnodeId\"], \"НазвМарки\"].values[0]\n",
    "    except:\n",
    "        df.loc[index, \"name\"] = None"
   ]
  },
  {
   "cell_type": "code",
   "execution_count": 755,
   "metadata": {},
   "outputs": [],
   "source": [
    "for index, row in df.iterrows():\n",
    "    try:\n",
    "        df.loc[index, \"node_id\"] = archive_subnodes.loc[archive_subnodes[\"Подузел\"] == row[\"subnode_id\"], \"Узел\"].values[0]\n",
    "    except:\n",
    "        df.loc[index, \"node_id\"] = None"
   ]
  },
  {
   "cell_type": "code",
   "execution_count": 756,
   "metadata": {},
   "outputs": [],
   "source": [
    "for index, row in df.iterrows():\n",
    "    try:\n",
    "        df.loc[index, \"chief_engineer_name\"] = archive_nodes.loc[archive_nodes[\"Узел\"] == row[\"node_id\"], \"ГИП\"].values[0]\n",
    "    except:\n",
    "        df.loc[index, \"chief_engineer_name\"] = None"
   ]
  },
  {
   "cell_type": "code",
   "execution_count": 757,
   "metadata": {},
   "outputs": [],
   "source": [
    "df = df.drop([\"ArchSubnodeId\", \"node_id\"], axis = 1)"
   ]
  },
  {
   "cell_type": "code",
   "execution_count": null,
   "metadata": {},
   "outputs": [],
   "source": []
  },
  {
   "cell_type": "code",
   "execution_count": 758,
   "metadata": {},
   "outputs": [],
   "source": [
    "df = df.drop_duplicates(subset=[\"code\", \"subnode_id\"])"
   ]
  },
  {
   "cell_type": "code",
   "execution_count": 759,
   "metadata": {},
   "outputs": [],
   "source": [
    "df_op_cond = df.loc[:, [\"код_марки\", \"коэф_надежн\", \"агрессивность\", \"t_эксплуат\", \"зона_эксплуат\", \"группа_газов\", \"материал\", \"тип_ЛКМ\", \"вп_болты\"]]"
   ]
  },
  {
   "cell_type": "code",
   "execution_count": 760,
   "metadata": {},
   "outputs": [],
   "source": [
    "df_task = df.loc[:, [\"обозн\", \"код_марки\", \"ТекстЗдСм\", \"ДопОбъемы\"]]"
   ]
  },
  {
   "cell_type": "code",
   "execution_count": 761,
   "metadata": {},
   "outputs": [],
   "source": [
    "df = df.drop([\"ТекстЗдСм\", \"ДопОбъемы\", \"коэф_надежн\", \"агрессивность\", \"t_эксплуат\", \"зона_эксплуат\", \"группа_газов\", \"материал\", \"вп_болты\", \"тип_ЛКМ\"], axis=1)"
   ]
  },
  {
   "cell_type": "code",
   "execution_count": 762,
   "metadata": {},
   "outputs": [],
   "source": [
    "df = df.rename(columns={\"код_марки\": \"id\",\n",
    "                        \"обозн\": \"designation\",\n",
    "                        \"комплекс\": \"complex_name\",\n",
    "                        \"объект\": \"object_name\",\n",
    "                        \"подп1\": \"signed_id\",\n",
    "                        \"гл_спец\": \"chief_specialist_id\",\n",
    "                        \"рук_гр\": \"group_leader_id\",\n",
    "                        \"н_контр\": \"norm_contr_id\",\n",
    "                        \"дата_выд\": \"issue_date\",\n",
    "                        \"кол_томов\": \"num_of_volumes\",\n",
    "                        \"дата_ред\": \"edited_date\",\n",
    "                        \"прим\": \"note\",\n",
    "                        \"категория_пр\": \"fire_hazard_category_id\",\n",
    "                       })"
   ]
  },
  {
   "cell_type": "code",
   "execution_count": 763,
   "metadata": {},
   "outputs": [],
   "source": [
    "df[\"issue_date\"] = df[\"issue_date\"].astype(object).where(df[\"issue_date\"].notnull(), None)\n",
    "df[\"edited_date\"] = df[\"edited_date\"].astype(object).where(df[\"edited_date\"].notnull(), None)\n",
    "df = df.where(pd.notnull(df), None)"
   ]
  },
  {
   "cell_type": "code",
   "execution_count": 764,
   "metadata": {},
   "outputs": [],
   "source": [
    "df = df.reset_index(drop=True)"
   ]
  },
  {
   "cell_type": "code",
   "execution_count": 765,
   "metadata": {},
   "outputs": [],
   "source": [
    "df[\"task\"] = None"
   ]
  },
  {
   "cell_type": "code",
   "execution_count": 766,
   "metadata": {},
   "outputs": [],
   "source": [
    "df[\"id\"].to_csv(\"mark_ids.csv\", index=False)"
   ]
  },
  {
   "cell_type": "code",
   "execution_count": 767,
   "metadata": {},
   "outputs": [],
   "source": [
    "cursor.execute(open(\"sql_server/7.sql\", \"r\").read())\n",
    "conn.commit()"
   ]
  },
  {
   "cell_type": "code",
   "execution_count": 768,
   "metadata": {},
   "outputs": [],
   "source": [
    "execute_values(df, \"marks\")"
   ]
  },
  {
   "cell_type": "markdown",
   "metadata": {},
   "source": [
    "<h1>Условия эксплуатации марки</h1>"
   ]
  },
  {
   "cell_type": "code",
   "execution_count": 769,
   "metadata": {},
   "outputs": [],
   "source": [
    "df_op_cond = df_op_cond.rename(columns={\"код_марки\": \"mark_id\",\n",
    "                            \"коэф_надежн\": \"safety_coeff\",\n",
    "                            \"t_эксплуат\": \"temperature\",\n",
    "                            \"зона_эксплуат\": \"operating_area_id\",\n",
    "                            \"группа_газов\": \"gas_group_id\",\n",
    "                            \"агрессивность\": \"env_aggressiveness_id\",\n",
    "                            \"материал\": \"construction_material_id\",\n",
    "                            \"тип_ЛКМ\": \"paintwork_type_id\",\n",
    "                            \"вп_болты\": \"high_tensile_bolts_type_id\"\n",
    "                       })"
   ]
  },
  {
   "cell_type": "code",
   "execution_count": 770,
   "metadata": {},
   "outputs": [],
   "source": [
    "cursor.execute(open(\"sql_server/y_mark_operating_conditions.sql\", \"r\").read())\n",
    "conn.commit()"
   ]
  },
  {
   "cell_type": "code",
   "execution_count": 771,
   "metadata": {},
   "outputs": [],
   "source": [
    "execute_values(df_op_cond, \"mark_operating_conditions\", False)"
   ]
  },
  {
   "cell_type": "markdown",
   "metadata": {},
   "source": [
    "<h1>Задание на смету</h1>"
   ]
  },
  {
   "cell_type": "code",
   "execution_count": 772,
   "metadata": {},
   "outputs": [],
   "source": [
    "df_task = df_task.rename(columns={\"код_марки\": \"mark_id\",\n",
    "                                  \"ТекстЗдСм\": \"task_text\",\n",
    "                                  \"ДопОбъемы\": \"additional_text\",\n",
    "                                 })"
   ]
  },
  {
   "cell_type": "code",
   "execution_count": 773,
   "metadata": {},
   "outputs": [],
   "source": [
    "df_task[\"task_text\"] = df_task[\"task_text\"].str.strip()\n",
    "df_task[\"additional_text\"] = df_task[\"additional_text\"].str.strip()"
   ]
  },
  {
   "cell_type": "code",
   "execution_count": 774,
   "metadata": {},
   "outputs": [],
   "source": [
    "df_task[\"task_text\"] = df_task[\"task_text\"].str.replace(\"\\r\\n\", \"\\n\")\n",
    "df_task[\"additional_text\"] = df_task[\"additional_text\"].str.replace(\"\\r\\n\", \"\\n\")"
   ]
  },
  {
   "cell_type": "code",
   "execution_count": 775,
   "metadata": {},
   "outputs": [],
   "source": [
    "df_task['обозн'] = 'Разработать сметную документацию к чертежам ' + df_task['обозн'].astype(str) + '\\r\\nСостав и объемы работ:'"
   ]
  },
  {
   "cell_type": "code",
   "execution_count": 776,
   "metadata": {},
   "outputs": [],
   "source": [
    "df_task.loc[df_task[\"task_text\"].isna(), \"task_text\"] = df_task.loc[df_task[\"task_text\"].isna(), \"обозн\"]"
   ]
  },
  {
   "cell_type": "code",
   "execution_count": 777,
   "metadata": {},
   "outputs": [],
   "source": [
    "df_task = df_task.drop([\"обозн\"], axis=1)"
   ]
  },
  {
   "cell_type": "code",
   "execution_count": 778,
   "metadata": {},
   "outputs": [],
   "source": [
    "df_task['additional_text'] = df_task['additional_text'].str.replace('град.С', '°C')"
   ]
  },
  {
   "cell_type": "code",
   "execution_count": 779,
   "metadata": {},
   "outputs": [],
   "source": [
    "cursor.execute(open(\"sql_server/y_estimate_task.sql\", \"r\").read())\n",
    "conn.commit()"
   ]
  },
  {
   "cell_type": "code",
   "execution_count": 780,
   "metadata": {},
   "outputs": [],
   "source": [
    "execute_values(df_task, \"estimate_task\", False)"
   ]
  },
  {
   "cell_type": "markdown",
   "metadata": {},
   "source": [
    "<h1>Выпуски спецификаций</h1>"
   ]
  },
  {
   "cell_type": "code",
   "execution_count": 781,
   "metadata": {},
   "outputs": [],
   "source": [
    "df = pd.read_sql_query('SELECT * FROM Pro_t.dbo.ВыпСпец', db_conn)"
   ]
  },
  {
   "cell_type": "code",
   "execution_count": 782,
   "metadata": {},
   "outputs": [
    {
     "data": {
      "text/html": [
       "<div>\n",
       "<style scoped>\n",
       "    .dataframe tbody tr th:only-of-type {\n",
       "        vertical-align: middle;\n",
       "    }\n",
       "\n",
       "    .dataframe tbody tr th {\n",
       "        vertical-align: top;\n",
       "    }\n",
       "\n",
       "    .dataframe thead th {\n",
       "        text-align: right;\n",
       "    }\n",
       "</style>\n",
       "<table border=\"1\" class=\"dataframe\">\n",
       "  <thead>\n",
       "    <tr style=\"text-align: right;\">\n",
       "      <th></th>\n",
       "      <th>Поз_выпуска</th>\n",
       "      <th>код_марки</th>\n",
       "      <th>выпуск</th>\n",
       "      <th>дата_созд</th>\n",
       "      <th>прим</th>\n",
       "      <th>текущий</th>\n",
       "      <th>вкл_вып</th>\n",
       "    </tr>\n",
       "  </thead>\n",
       "  <tbody>\n",
       "    <tr>\n",
       "      <th>0</th>\n",
       "      <td>1</td>\n",
       "      <td>1910</td>\n",
       "      <td>0</td>\n",
       "      <td>2009-04-02</td>\n",
       "      <td>None</td>\n",
       "      <td>1</td>\n",
       "      <td>True</td>\n",
       "    </tr>\n",
       "    <tr>\n",
       "      <th>1</th>\n",
       "      <td>2</td>\n",
       "      <td>1895</td>\n",
       "      <td>0</td>\n",
       "      <td>2009-04-02</td>\n",
       "      <td>None</td>\n",
       "      <td>1</td>\n",
       "      <td>True</td>\n",
       "    </tr>\n",
       "    <tr>\n",
       "      <th>2</th>\n",
       "      <td>3</td>\n",
       "      <td>1888</td>\n",
       "      <td>0</td>\n",
       "      <td>2009-04-02</td>\n",
       "      <td>None</td>\n",
       "      <td>1</td>\n",
       "      <td>True</td>\n",
       "    </tr>\n",
       "    <tr>\n",
       "      <th>3</th>\n",
       "      <td>4</td>\n",
       "      <td>1912</td>\n",
       "      <td>0</td>\n",
       "      <td>NaT</td>\n",
       "      <td>None</td>\n",
       "      <td>1</td>\n",
       "      <td>True</td>\n",
       "    </tr>\n",
       "    <tr>\n",
       "      <th>4</th>\n",
       "      <td>5</td>\n",
       "      <td>1903</td>\n",
       "      <td>0</td>\n",
       "      <td>2009-04-03</td>\n",
       "      <td>None</td>\n",
       "      <td>1</td>\n",
       "      <td>True</td>\n",
       "    </tr>\n",
       "    <tr>\n",
       "      <th>...</th>\n",
       "      <td>...</td>\n",
       "      <td>...</td>\n",
       "      <td>...</td>\n",
       "      <td>...</td>\n",
       "      <td>...</td>\n",
       "      <td>...</td>\n",
       "      <td>...</td>\n",
       "    </tr>\n",
       "    <tr>\n",
       "      <th>3366</th>\n",
       "      <td>3844</td>\n",
       "      <td>5593</td>\n",
       "      <td>0</td>\n",
       "      <td>NaT</td>\n",
       "      <td>None</td>\n",
       "      <td>1</td>\n",
       "      <td>True</td>\n",
       "    </tr>\n",
       "    <tr>\n",
       "      <th>3367</th>\n",
       "      <td>3845</td>\n",
       "      <td>5594</td>\n",
       "      <td>0</td>\n",
       "      <td>NaT</td>\n",
       "      <td>None</td>\n",
       "      <td>1</td>\n",
       "      <td>True</td>\n",
       "    </tr>\n",
       "    <tr>\n",
       "      <th>3368</th>\n",
       "      <td>3846</td>\n",
       "      <td>5595</td>\n",
       "      <td>0</td>\n",
       "      <td>NaT</td>\n",
       "      <td>None</td>\n",
       "      <td>1</td>\n",
       "      <td>True</td>\n",
       "    </tr>\n",
       "    <tr>\n",
       "      <th>3369</th>\n",
       "      <td>3847</td>\n",
       "      <td>5595</td>\n",
       "      <td>1</td>\n",
       "      <td>2020-01-20</td>\n",
       "      <td>None</td>\n",
       "      <td>0</td>\n",
       "      <td>True</td>\n",
       "    </tr>\n",
       "    <tr>\n",
       "      <th>3370</th>\n",
       "      <td>3848</td>\n",
       "      <td>5596</td>\n",
       "      <td>0</td>\n",
       "      <td>2020-09-16</td>\n",
       "      <td>None</td>\n",
       "      <td>1</td>\n",
       "      <td>True</td>\n",
       "    </tr>\n",
       "  </tbody>\n",
       "</table>\n",
       "<p>3371 rows × 7 columns</p>\n",
       "</div>"
      ],
      "text/plain": [
       "      Поз_выпуска  код_марки  выпуск  дата_созд  прим  текущий  вкл_вып\n",
       "0               1       1910       0 2009-04-02  None        1     True\n",
       "1               2       1895       0 2009-04-02  None        1     True\n",
       "2               3       1888       0 2009-04-02  None        1     True\n",
       "3               4       1912       0        NaT  None        1     True\n",
       "4               5       1903       0 2009-04-03  None        1     True\n",
       "...           ...        ...     ...        ...   ...      ...      ...\n",
       "3366         3844       5593       0        NaT  None        1     True\n",
       "3367         3845       5594       0        NaT  None        1     True\n",
       "3368         3846       5595       0        NaT  None        1     True\n",
       "3369         3847       5595       1 2020-01-20  None        0     True\n",
       "3370         3848       5596       0 2020-09-16  None        1     True\n",
       "\n",
       "[3371 rows x 7 columns]"
      ]
     },
     "execution_count": 782,
     "metadata": {},
     "output_type": "execute_result"
    }
   ],
   "source": [
    "df"
   ]
  },
  {
   "cell_type": "code",
   "execution_count": 783,
   "metadata": {},
   "outputs": [],
   "source": [
    "df = df.replace(\"\", np.nan)"
   ]
  },
  {
   "cell_type": "code",
   "execution_count": 784,
   "metadata": {},
   "outputs": [],
   "source": [
    "df = df.drop_duplicates(subset=[\"код_марки\", \"выпуск\"])"
   ]
  },
  {
   "cell_type": "code",
   "execution_count": 785,
   "metadata": {},
   "outputs": [],
   "source": [
    "df[\"текущий\"] = df[\"текущий\"].map(lambda x: True if (x == 1) else False)\n",
    "df[\"вкл_вып\"] = df[\"вкл_вып\"].map(lambda x: True if (x == 1) else False)"
   ]
  },
  {
   "cell_type": "code",
   "execution_count": 786,
   "metadata": {},
   "outputs": [],
   "source": [
    "df = df.rename(columns={\"Поз_выпуска\": \"id\",\n",
    "                        \"код_марки\": \"mark_id\",\n",
    "                        \"выпуск\": \"num\",\n",
    "                        \"дата_созд\": \"created_date\",\n",
    "                        \"текущий\": \"is_current\",\n",
    "                        \"вкл_вып\": \"is_included\",\n",
    "                        \"прим\": \"note\"\n",
    "                       })"
   ]
  },
  {
   "cell_type": "code",
   "execution_count": 787,
   "metadata": {},
   "outputs": [],
   "source": [
    "df[\"created_date\"] = df[\"created_date\"].astype(object).where(df[\"created_date\"].notnull(), datetime(2000, 1, 1))\n",
    "df = df.where(pd.notnull(df), None)"
   ]
  },
  {
   "cell_type": "code",
   "execution_count": 788,
   "metadata": {},
   "outputs": [],
   "source": [
    "m_ids = pd.read_csv(\"mark_ids.csv\")\n",
    "m_ids = m_ids.values.flatten().tolist()"
   ]
  },
  {
   "cell_type": "code",
   "execution_count": 789,
   "metadata": {},
   "outputs": [],
   "source": [
    "df = df[df[\"mark_id\"].isin(m_ids)]"
   ]
  },
  {
   "cell_type": "code",
   "execution_count": 790,
   "metadata": {},
   "outputs": [],
   "source": [
    "df.loc[:, [\"id\", \"mark_id\", \"num\"]].to_csv(\"specs.csv\", index=False)"
   ]
  },
  {
   "cell_type": "code",
   "execution_count": 791,
   "metadata": {},
   "outputs": [],
   "source": [
    "cursor.execute(open(\"sql_server/3.sql\", \"r\").read())\n",
    "conn.commit()"
   ]
  },
  {
   "cell_type": "code",
   "execution_count": 792,
   "metadata": {},
   "outputs": [],
   "source": [
    "execute_values(df, \"specifications\")"
   ]
  },
  {
   "cell_type": "markdown",
   "metadata": {},
   "source": [
    "<h1>Листы</h1>"
   ]
  },
  {
   "cell_type": "code",
   "execution_count": 793,
   "metadata": {},
   "outputs": [],
   "source": [
    "df = pd.read_sql_query('SELECT * FROM Pro_t.dbo.Листы', db_conn)"
   ]
  },
  {
   "cell_type": "code",
   "execution_count": 794,
   "metadata": {},
   "outputs": [],
   "source": [
    "df = df.replace(\"\", np.nan)"
   ]
  },
  {
   "cell_type": "code",
   "execution_count": 795,
   "metadata": {},
   "outputs": [],
   "source": [
    "df = df[df[\"номер\"].isna() == False]"
   ]
  },
  {
   "cell_type": "code",
   "execution_count": 796,
   "metadata": {},
   "outputs": [],
   "source": [
    "df[\"тип_док\"] = df[\"тип_док\"] + 1"
   ]
  },
  {
   "cell_type": "code",
   "execution_count": 797,
   "metadata": {},
   "outputs": [],
   "source": [
    "df[\"вып\"] = df[\"вып\"].map(lambda x: np.nan if x == 0 else x)"
   ]
  },
  {
   "cell_type": "code",
   "execution_count": 798,
   "metadata": {},
   "outputs": [],
   "source": [
    "df[\"пров\"] = df[\"пров\"].map(lambda x: np.nan if x == 0 else x)"
   ]
  },
  {
   "cell_type": "code",
   "execution_count": 799,
   "metadata": {},
   "outputs": [],
   "source": [
    "df[\"норм\"] = df[\"норм\"].map(lambda x: np.nan if x == 0 else x)"
   ]
  },
  {
   "cell_type": "code",
   "execution_count": 800,
   "metadata": {},
   "outputs": [],
   "source": [
    "df = df.drop([\"шифр_вып\", \"шифр_пров\", \"шифр_норм\"], axis=1)"
   ]
  },
  {
   "cell_type": "code",
   "execution_count": 801,
   "metadata": {},
   "outputs": [],
   "source": [
    "df[\"формат\"] = df[\"формат\"].map(lambda x: 1.0 if np.isnan(x) else x)"
   ]
  },
  {
   "cell_type": "code",
   "execution_count": 802,
   "metadata": {},
   "outputs": [],
   "source": [
    "df = df.drop_duplicates(subset=[\"код_марки\", \"номер\", \"тип_док\"])"
   ]
  },
  {
   "cell_type": "code",
   "execution_count": 803,
   "metadata": {},
   "outputs": [],
   "source": [
    "df = df[df[\"вып\"].isna() == False]"
   ]
  },
  {
   "cell_type": "code",
   "execution_count": 804,
   "metadata": {},
   "outputs": [],
   "source": [
    "df[\"название\"] = df[\"название\"].str.strip()"
   ]
  },
  {
   "cell_type": "code",
   "execution_count": 805,
   "metadata": {},
   "outputs": [],
   "source": [
    "for i in range(0, len(df)):\n",
    "    try:\n",
    "        arr = df[\"название\"][i].split()\n",
    "        new_str = ' '.join(arr)\n",
    "        df.at[i, \"название\"] = new_str\n",
    "    except Exception:\n",
    "        pass"
   ]
  },
  {
   "cell_type": "code",
   "execution_count": 806,
   "metadata": {},
   "outputs": [],
   "source": [
    "df.loc[:, 'вып'] = to_new_employee_ids(df, 'вып')\n",
    "df.loc[:, 'пров'] = to_new_employee_ids(df, 'пров')\n",
    "df.loc[:, 'норм'] = to_new_employee_ids(df, 'норм')"
   ]
  },
  {
   "cell_type": "code",
   "execution_count": 807,
   "metadata": {},
   "outputs": [],
   "source": [
    "df = df.rename(columns={\"поз_листа\": \"id\",\n",
    "                        \"код_марки\": \"mark_id\",\n",
    "                        \"номер\": \"num\",\n",
    "                        \"название\": \"name\",\n",
    "                        \"формат\": \"form\",\n",
    "                        \"вып\": \"creator_id\",\n",
    "                        \"пров\": \"inspector_id\",\n",
    "                        \"норм\": \"norm_contr_id\",\n",
    "                        \"тип_док\": \"type_id\",\n",
    "                        \"выпуск\": \"release_num\",\n",
    "                        \"листов\": \"num_of_pages\",\n",
    "                        \"прим\": \"note\"\n",
    "                       })"
   ]
  },
  {
   "cell_type": "code",
   "execution_count": 808,
   "metadata": {},
   "outputs": [],
   "source": [
    "df = df.where(pd.notnull(df), None)"
   ]
  },
  {
   "cell_type": "code",
   "execution_count": 809,
   "metadata": {},
   "outputs": [],
   "source": [
    "m_ids = pd.read_csv(\"mark_ids.csv\")\n",
    "m_ids = m_ids.values.flatten().tolist()"
   ]
  },
  {
   "cell_type": "code",
   "execution_count": 810,
   "metadata": {},
   "outputs": [],
   "source": [
    "e_ids = pd.read_csv(\"employee_ids.csv\")\n",
    "e_ids = e_ids.values.flatten().tolist()"
   ]
  },
  {
   "cell_type": "code",
   "execution_count": 811,
   "metadata": {},
   "outputs": [],
   "source": [
    "df = df[df[\"mark_id\"].isin(m_ids)]\n",
    "df.loc[df[\"creator_id\"].isin(e_ids) == False, \"creator_id\"] = None\n",
    "df.loc[df[\"inspector_id\"].isin(e_ids) == False, \"inspector_id\"] = None\n",
    "df.loc[df[\"norm_contr_id\"].isin(e_ids) == False, \"norm_contr_id\"] = None"
   ]
  },
  {
   "cell_type": "code",
   "execution_count": 812,
   "metadata": {},
   "outputs": [],
   "source": [
    "df[\"release_num\"] = df[\"release_num\"].fillna(0)\n",
    "df[\"num_of_pages\"] = df[\"num_of_pages\"].fillna(0)"
   ]
  },
  {
   "cell_type": "code",
   "execution_count": 813,
   "metadata": {},
   "outputs": [],
   "source": [
    "df = df[df[\"creator_id\"].isna() == False]\n",
    "df = df[df[\"name\"].isna() == False]"
   ]
  },
  {
   "cell_type": "code",
   "execution_count": 814,
   "metadata": {},
   "outputs": [],
   "source": [
    "cursor.execute(open(\"sql_server/6.sql\", \"r\").read())\n",
    "conn.commit()"
   ]
  },
  {
   "cell_type": "code",
   "execution_count": 815,
   "metadata": {},
   "outputs": [],
   "source": [
    "execute_values(df, \"docs\")"
   ]
  },
  {
   "cell_type": "markdown",
   "metadata": {},
   "source": [
    "<h1>Обозначения марок</h1>"
   ]
  },
  {
   "cell_type": "code",
   "execution_count": 816,
   "metadata": {},
   "outputs": [],
   "source": [
    "df = pd.read_sql_query('SELECT * FROM Pro_t.dbo.Об_марок', db_conn)"
   ]
  },
  {
   "cell_type": "code",
   "execution_count": 817,
   "metadata": {},
   "outputs": [],
   "source": [
    "df = df.iloc[:-1, :]"
   ]
  },
  {
   "cell_type": "code",
   "execution_count": 818,
   "metadata": {},
   "outputs": [],
   "source": [
    "df.loc[0, \"об_марки\"] = \"КМД\"\n",
    "df.loc[0, \"наим_марки\"] = \"Конструкции металлические деталировочные\""
   ]
  },
  {
   "cell_type": "code",
   "execution_count": 819,
   "metadata": {},
   "outputs": [],
   "source": [
    "df = df.rename(columns={\"Поз\": \"id\",\n",
    "                        \"об_марки\": \"designation\",\n",
    "                        \"наим_марки\": \"name\"\n",
    "                       })"
   ]
  },
  {
   "cell_type": "code",
   "execution_count": 820,
   "metadata": {},
   "outputs": [],
   "source": [
    "cursor.execute(open(\"sql_server/9.sql\", \"r\").read())\n",
    "conn.commit()"
   ]
  },
  {
   "cell_type": "code",
   "execution_count": 821,
   "metadata": {},
   "outputs": [],
   "source": [
    "execute_values(df, \"mark_designations\")"
   ]
  },
  {
   "cell_type": "markdown",
   "metadata": {},
   "source": [
    "<h1>Прилагаемые документы марки</h1>"
   ]
  },
  {
   "cell_type": "code",
   "execution_count": 822,
   "metadata": {},
   "outputs": [],
   "source": [
    "df = pd.read_sql_query('SELECT * FROM Pro_t.dbo.Од_прил', db_conn)"
   ]
  },
  {
   "cell_type": "code",
   "execution_count": 823,
   "metadata": {},
   "outputs": [],
   "source": [
    "df = df.replace(\"\", np.nan)"
   ]
  },
  {
   "cell_type": "code",
   "execution_count": 824,
   "metadata": {},
   "outputs": [],
   "source": [
    "df = df.drop_duplicates(subset=[\"код_марки\", \"обозн_прил\"])"
   ]
  },
  {
   "cell_type": "code",
   "execution_count": 825,
   "metadata": {},
   "outputs": [],
   "source": [
    "df = df.where(pd.notnull(df), None)"
   ]
  },
  {
   "cell_type": "code",
   "execution_count": 826,
   "metadata": {},
   "outputs": [],
   "source": [
    "df = df.rename(columns={\"Поз_прил\": \"id\",\n",
    "                        \"код_марки\": \"mark_id\",\n",
    "                        \"наим_прил\": \"name\",\n",
    "                        \"прим\": \"note\",\n",
    "                        \"обозн_прил\": \"designation\"\n",
    "                       })"
   ]
  },
  {
   "cell_type": "code",
   "execution_count": 827,
   "metadata": {},
   "outputs": [],
   "source": [
    "m_ids = pd.read_csv(\"mark_ids.csv\")\n",
    "m_ids = m_ids.values.flatten().tolist()\n",
    "df = df[df[\"mark_id\"].isin(m_ids)]"
   ]
  },
  {
   "cell_type": "code",
   "execution_count": 828,
   "metadata": {},
   "outputs": [],
   "source": [
    "cursor.execute(open(\"sql_server/12.sql\", \"r\").read())\n",
    "conn.commit()"
   ]
  },
  {
   "cell_type": "code",
   "execution_count": 829,
   "metadata": {},
   "outputs": [],
   "source": [
    "execute_values(df, \"attached_docs\")"
   ]
  },
  {
   "cell_type": "markdown",
   "metadata": {},
   "source": [
    "<h1>Согласования</h1>"
   ]
  },
  {
   "cell_type": "code",
   "execution_count": 830,
   "metadata": {},
   "outputs": [],
   "source": [
    "df = pd.read_sql_query('SELECT * FROM Pro_t.dbo.Од_согл', db_conn)"
   ]
  },
  {
   "cell_type": "code",
   "execution_count": 831,
   "metadata": {},
   "outputs": [],
   "source": [
    "df = df.replace(\"\", np.nan)"
   ]
  },
  {
   "cell_type": "code",
   "execution_count": 832,
   "metadata": {},
   "outputs": [],
   "source": [
    "df = df.drop([\"отдел1\", \"отдел2\", \"отдел3\", \"отдел4\", \"отдел5\", \"отдел6\", \"отдел7\"], axis=1)"
   ]
  },
  {
   "cell_type": "code",
   "execution_count": 833,
   "metadata": {},
   "outputs": [],
   "source": [
    "p1 = df.iloc[:, [0,1]]\n",
    "p1 = p1.rename(columns={\"исп1\": \"исп\"})\n",
    "\n",
    "p2 = df.iloc[:, [0,2]]\n",
    "p2 = p2.rename(columns={\"исп2\": \"исп\"})\n",
    "\n",
    "p3 = df.iloc[:, [0,3]]\n",
    "p3 = p3.rename(columns={\"исп3\": \"исп\"})\n",
    "\n",
    "p4 = df.iloc[:, [0,4]]\n",
    "p4 = p4.rename(columns={\"исп4\": \"исп\"})\n",
    "\n",
    "p5 = df.iloc[:, [0,5]]\n",
    "p5 = p5.rename(columns={\"исп5\": \"исп\"})\n",
    "\n",
    "p6 = df.iloc[:, [0,6]]\n",
    "p6 = p6.rename(columns={\"исп6\": \"исп\"})\n",
    "\n",
    "p7 = df.iloc[:, [0,7]]\n",
    "p7 = p7.rename(columns={\"исп7\": \"исп\"})"
   ]
  },
  {
   "cell_type": "code",
   "execution_count": 834,
   "metadata": {},
   "outputs": [],
   "source": [
    "df = pd.concat([p1, p2, p3, p4, p5, p6, p7], ignore_index=True)"
   ]
  },
  {
   "cell_type": "code",
   "execution_count": 835,
   "metadata": {},
   "outputs": [],
   "source": [
    "df = df.dropna()\n",
    "df = df[df[\"исп\"] != 0]"
   ]
  },
  {
   "cell_type": "code",
   "execution_count": 836,
   "metadata": {},
   "outputs": [],
   "source": [
    "df.insert(0, 'id', range(1, len(df) + 1))"
   ]
  },
  {
   "cell_type": "code",
   "execution_count": 837,
   "metadata": {},
   "outputs": [],
   "source": [
    "df.loc[:, 'исп'] = to_new_employee_ids(df, 'исп')"
   ]
  },
  {
   "cell_type": "code",
   "execution_count": 838,
   "metadata": {},
   "outputs": [],
   "source": [
    "df = df.drop_duplicates(subset=[\"код_марки\", \"исп\"])"
   ]
  },
  {
   "cell_type": "code",
   "execution_count": 839,
   "metadata": {},
   "outputs": [],
   "source": [
    "df = df.rename(columns={\"код_марки\": \"mark_id\",\n",
    "                        \"исп\": \"employee_id\"\n",
    "                       })"
   ]
  },
  {
   "cell_type": "code",
   "execution_count": 840,
   "metadata": {},
   "outputs": [],
   "source": [
    "m_ids = pd.read_csv(\"mark_ids.csv\")\n",
    "e_ids = pd.read_csv(\"employee_ids.csv\")"
   ]
  },
  {
   "cell_type": "code",
   "execution_count": 841,
   "metadata": {},
   "outputs": [],
   "source": [
    "m_ids = m_ids.values.flatten().tolist()\n",
    "e_ids = e_ids.values.flatten().tolist()"
   ]
  },
  {
   "cell_type": "code",
   "execution_count": 842,
   "metadata": {},
   "outputs": [],
   "source": [
    "df = df[df[\"mark_id\"].isin(m_ids)]\n",
    "df = df[df[\"employee_id\"].isin(e_ids)]"
   ]
  },
  {
   "cell_type": "code",
   "execution_count": 843,
   "metadata": {},
   "outputs": [],
   "source": [
    "cursor.execute(open(\"sql_server/13.sql\", \"r\").read())\n",
    "conn.commit()"
   ]
  },
  {
   "cell_type": "code",
   "execution_count": 844,
   "metadata": {},
   "outputs": [],
   "source": [
    "execute_values(df, \"mark_approvals\")"
   ]
  },
  {
   "cell_type": "markdown",
   "metadata": {},
   "source": [
    "<h1>Ссылочные документы марки</h1>"
   ]
  },
  {
   "cell_type": "code",
   "execution_count": 845,
   "metadata": {},
   "outputs": [],
   "source": [
    "df = pd.read_sql_query('SELECT * FROM Pro_t.dbo.Од_ссыл', db_conn)"
   ]
  },
  {
   "cell_type": "code",
   "execution_count": 846,
   "metadata": {},
   "outputs": [],
   "source": [
    "df = df.replace(\"\", np.nan)"
   ]
  },
  {
   "cell_type": "code",
   "execution_count": 847,
   "metadata": {},
   "outputs": [],
   "source": [
    "df= df[df[\"шифр_сд\"] != \"1\"]\n",
    "df[\"шифр_сд\"] = df[\"шифр_сд\"].str.upper()"
   ]
  },
  {
   "cell_type": "code",
   "execution_count": 848,
   "metadata": {},
   "outputs": [],
   "source": [
    "m_ids = pd.read_csv(\"mark_ids.csv\")\n",
    "m_ids = m_ids.values.flatten().tolist()\n",
    "df = df[df[\"код_марки\"].isin(m_ids)]"
   ]
  },
  {
   "cell_type": "code",
   "execution_count": 849,
   "metadata": {},
   "outputs": [],
   "source": [
    "for i in range(1, 301):\n",
    "    df = df.append(pd.Series(), ignore_index=True)"
   ]
  },
  {
   "cell_type": "code",
   "execution_count": 850,
   "metadata": {},
   "outputs": [],
   "source": [
    "df.loc[:, \"код_марки\"] = random.choices(m_ids, k=300)\n",
    "df.loc[:, \"шифр_сд\"] = random.choices(range(1, 300), k=300)"
   ]
  },
  {
   "cell_type": "code",
   "execution_count": 851,
   "metadata": {},
   "outputs": [],
   "source": [
    "df = df.drop_duplicates(subset=[\"код_марки\", \"шифр_сд\"])"
   ]
  },
  {
   "cell_type": "code",
   "execution_count": 852,
   "metadata": {},
   "outputs": [],
   "source": [
    "df = df.drop([\"Поз_сд\"], axis=1)"
   ]
  },
  {
   "cell_type": "code",
   "execution_count": 853,
   "metadata": {},
   "outputs": [],
   "source": [
    "df.insert(0, 'id', range(1, len(df) + 1))"
   ]
  },
  {
   "cell_type": "code",
   "execution_count": 854,
   "metadata": {},
   "outputs": [],
   "source": [
    "df = df.rename(columns={\"код_марки\": \"mark_id\",\n",
    "                        \"шифр_сд\": \"linked_doc_id\",\n",
    "                        \"прим\": \"note\"\n",
    "                       })"
   ]
  },
  {
   "cell_type": "code",
   "execution_count": 855,
   "metadata": {},
   "outputs": [],
   "source": [
    "cursor.execute(open(\"sql_server/14.sql\", \"r\").read())\n",
    "conn.commit()"
   ]
  },
  {
   "cell_type": "code",
   "execution_count": 856,
   "metadata": {},
   "outputs": [],
   "source": [
    "execute_values(df, \"mark_linked_docs\")"
   ]
  },
  {
   "cell_type": "markdown",
   "metadata": {},
   "source": [
    "<h1>Учет дополнительных работ</h1>"
   ]
  },
  {
   "cell_type": "code",
   "execution_count": 857,
   "metadata": {},
   "outputs": [],
   "source": [
    "df = pd.read_sql_query('SELECT * FROM Pro_t.dbo.Од_вып_доп', db_conn)"
   ]
  },
  {
   "cell_type": "code",
   "execution_count": 858,
   "metadata": {},
   "outputs": [],
   "source": [
    "df = df.replace(\"\", np.nan)"
   ]
  },
  {
   "cell_type": "code",
   "execution_count": 859,
   "metadata": {},
   "outputs": [],
   "source": [
    "df = df.drop([\"шифр_исп\"], axis=1)"
   ]
  },
  {
   "cell_type": "code",
   "execution_count": 860,
   "metadata": {},
   "outputs": [],
   "source": [
    "df = df[df[\"код_исп\"].isna() == False]"
   ]
  },
  {
   "cell_type": "code",
   "execution_count": 861,
   "metadata": {},
   "outputs": [],
   "source": [
    "df.loc[:, 'код_исп'] = to_new_employee_ids(df, 'код_исп')"
   ]
  },
  {
   "cell_type": "code",
   "execution_count": 862,
   "metadata": {},
   "outputs": [],
   "source": [
    "df = df.drop_duplicates(subset=[\"код_марки\", \"код_исп\"])"
   ]
  },
  {
   "cell_type": "code",
   "execution_count": 863,
   "metadata": {},
   "outputs": [],
   "source": [
    "df = df.dropna(subset=[\"код_исп\"])"
   ]
  },
  {
   "cell_type": "code",
   "execution_count": 864,
   "metadata": {},
   "outputs": [],
   "source": [
    "m_ids = pd.read_csv(\"mark_ids.csv\")\n",
    "m_ids = m_ids.values.flatten().tolist()\n",
    "df = df[df[\"код_марки\"].isin(m_ids)]"
   ]
  },
  {
   "cell_type": "code",
   "execution_count": 865,
   "metadata": {},
   "outputs": [],
   "source": [
    "df = df.rename(columns={\"Поз_вып_доп\": \"id\",\n",
    "                        \"код_марки\": \"mark_id\",\n",
    "                        \"код_исп\": \"employee_id\",\n",
    "                        \"расчет\": \"valuation\",\n",
    "                        \"заказ\": \"metal_order\",\n",
    "                       })"
   ]
  },
  {
   "cell_type": "code",
   "execution_count": 866,
   "metadata": {},
   "outputs": [],
   "source": [
    "cursor.execute(open(\"sql_server/11.sql\", \"r\").read())\n",
    "conn.commit()"
   ]
  },
  {
   "cell_type": "code",
   "execution_count": 867,
   "metadata": {},
   "outputs": [],
   "source": [
    "execute_values(df, \"additional_work\")"
   ]
  },
  {
   "cell_type": "markdown",
   "metadata": {},
   "source": [
    "<h1>Типовые конструкции</h1>"
   ]
  },
  {
   "cell_type": "code",
   "execution_count": 868,
   "metadata": {},
   "outputs": [],
   "source": [
    "df = pd.read_sql_query('SELECT * FROM Pro_t.dbo.Тс_типовые', db_conn)"
   ]
  },
  {
   "cell_type": "code",
   "execution_count": 869,
   "metadata": {},
   "outputs": [],
   "source": [
    "df = df[df[\"имя_тк\"].isna() == False]"
   ]
  },
  {
   "cell_type": "code",
   "execution_count": 870,
   "metadata": {},
   "outputs": [],
   "source": [
    "df[\"имя_тк\"] = df[\"имя_тк\"].str.strip()"
   ]
  },
  {
   "cell_type": "markdown",
   "metadata": {},
   "source": [
    "<h2>Типовые наименования типовых конструкций</h2>"
   ]
  },
  {
   "cell_type": "code",
   "execution_count": 871,
   "metadata": {},
   "outputs": [],
   "source": [
    "st_name_df = pd.DataFrame(data=df[\"имя_тк\"].unique(), columns=[\"name\"])"
   ]
  },
  {
   "cell_type": "code",
   "execution_count": 872,
   "metadata": {},
   "outputs": [],
   "source": [
    "st_name_df.loc[3, \"name\"] = \"Рельсы крановые КР-70 сталь К63\"\n",
    "st_name_df = st_name_df[st_name_df[\"name\"] != \"КР-70\"]\n",
    "st_name_df.loc[5, \"name\"] = \"Рельсы крановые Р-43\"\n",
    "st_name_df = st_name_df[st_name_df[\"name\"] != \"Оцинкованная сталь ГОСТ14918-80*\"]\n",
    "st_name_df.loc[11, \"name\"] = \"Рельсы крановые КР-70\"\n",
    "st_name_df.loc[12, \"name\"] = \"Детали крепления крановых рельсов\"\n",
    "st_name_df = st_name_df[st_name_df[\"name\"] != \"Крановый рельс КР-70\"]\n",
    "st_name_df.loc[16, \"name\"] = \"Накладка 5 на рельс Р-24 по ГОСТ 8141-56\""
   ]
  },
  {
   "cell_type": "code",
   "execution_count": 873,
   "metadata": {},
   "outputs": [],
   "source": [
    "st_name_df.insert(0, 'id', range(1, len(st_name_df) + 1))"
   ]
  },
  {
   "cell_type": "code",
   "execution_count": 874,
   "metadata": {},
   "outputs": [],
   "source": [
    "cursor.execute(open(\"sql_server/yyy_1.sql\", \"r\").read())\n",
    "conn.commit()"
   ]
  },
  {
   "cell_type": "code",
   "execution_count": 875,
   "metadata": {},
   "outputs": [],
   "source": [
    "execute_values(st_name_df, \"standard_construction_names\")"
   ]
  },
  {
   "cell_type": "markdown",
   "metadata": {},
   "source": [
    "--------------------"
   ]
  },
  {
   "cell_type": "code",
   "execution_count": 876,
   "metadata": {},
   "outputs": [],
   "source": [
    "m_ids = pd.read_csv(\"mark_ids.csv\")\n",
    "m_ids = m_ids.values.flatten().tolist()\n",
    "df = df[df[\"код_марки\"].isin(m_ids)]"
   ]
  },
  {
   "cell_type": "code",
   "execution_count": 877,
   "metadata": {},
   "outputs": [],
   "source": [
    "specs = pd.read_csv(\"specs.csv\")"
   ]
  },
  {
   "cell_type": "code",
   "execution_count": 878,
   "metadata": {},
   "outputs": [],
   "source": [
    "for index, row in df.iterrows():\n",
    "    try:\n",
    "        df.loc[index, \"specification_id\"] = specs.loc[(specs[\"mark_id\"] == row[\"код_марки\"]) & (specs[\"num\"] == row[\"выпуск\"]), \"id\"].values[0]\n",
    "    except:\n",
    "        pass"
   ]
  },
  {
   "cell_type": "code",
   "execution_count": 879,
   "metadata": {},
   "outputs": [],
   "source": [
    "df = df.drop([\"код_марки\", \"выпуск\"], axis=1)"
   ]
  },
  {
   "cell_type": "code",
   "execution_count": 880,
   "metadata": {},
   "outputs": [],
   "source": [
    "if 24 in df.index:\n",
    "    df.loc[24, \"кол_тк\"] = 1"
   ]
  },
  {
   "cell_type": "code",
   "execution_count": 881,
   "metadata": {},
   "outputs": [],
   "source": [
    "# https://wikiweight.info/strmat/massa-ankerov-hilti.html\n",
    "if 28 in df.index:\n",
    "    df.loc[28, \"вес_тк\"] = 0.056\n",
    "if 32 in df.index:\n",
    "    df.loc[32, \"вес_тк\"] = 0.056"
   ]
  },
  {
   "cell_type": "code",
   "execution_count": 882,
   "metadata": {},
   "outputs": [],
   "source": [
    "if 25 in df.index:\n",
    "    df.loc[25, \"вес_тк\"] = 0.024\n",
    "if 29 in df.index:\n",
    "    df.loc[29, \"вес_тк\"] = 0.024\n",
    "if 25 in df.index:\n",
    "    df.loc[25, \"кол_тк\"] = 360\n",
    "if 29 in df.index:\n",
    "    df.loc[29, \"кол_тк\"] = 360\n",
    "df = df[df[\"сч_тк\"] != 54]\n",
    "df = df[df[\"сч_тк\"] != 58]"
   ]
  },
  {
   "cell_type": "code",
   "execution_count": 883,
   "metadata": {},
   "outputs": [],
   "source": [
    "df = df.rename(columns={\"сч_тк\": \"id\",\n",
    "                        \"имя_тк\": \"name\",\n",
    "                        \"кол_тк\": \"num\",\n",
    "                        \"лист_тк\": \"sheet\",\n",
    "                        \"вес_тк\": \"weight\"\n",
    "                       })"
   ]
  },
  {
   "cell_type": "code",
   "execution_count": 884,
   "metadata": {},
   "outputs": [],
   "source": [
    "df = df.where(pd.notnull(df), None)"
   ]
  },
  {
   "cell_type": "code",
   "execution_count": 885,
   "metadata": {},
   "outputs": [],
   "source": [
    "cursor.execute(open(\"sql_server/47.sql\", \"r\").read())\n",
    "conn.commit()"
   ]
  },
  {
   "cell_type": "code",
   "execution_count": 886,
   "metadata": {},
   "outputs": [],
   "source": [
    "execute_values(df, \"standard_constructions\")"
   ]
  },
  {
   "cell_type": "markdown",
   "metadata": {},
   "source": [
    "<h1>Виды конструкций марки</h1>"
   ]
  },
  {
   "cell_type": "code",
   "execution_count": 887,
   "metadata": {},
   "outputs": [],
   "source": [
    "df = pd.read_sql_query('SELECT * FROM Pro_t.dbo.Тс_Виды_к', db_conn)"
   ]
  },
  {
   "cell_type": "code",
   "execution_count": 888,
   "metadata": {},
   "outputs": [],
   "source": [
    "df = df.drop_duplicates()"
   ]
  },
  {
   "cell_type": "code",
   "execution_count": 889,
   "metadata": {},
   "outputs": [],
   "source": [
    "df = df.dropna(subset=[\"кт_окраски\", \"кол_тип_констр\", \"имя_к\", \"Шифр_к\", \"Шифр_пк\"])"
   ]
  },
  {
   "cell_type": "code",
   "execution_count": 890,
   "metadata": {},
   "outputs": [],
   "source": [
    "m_ids = pd.read_csv(\"mark_ids.csv\")\n",
    "m_ids = m_ids.values.flatten().tolist()\n",
    "df = df[df[\"код_марки\"].isin(m_ids)]"
   ]
  },
  {
   "cell_type": "code",
   "execution_count": 891,
   "metadata": {},
   "outputs": [],
   "source": [
    "specs = pd.read_csv(\"specs.csv\")"
   ]
  },
  {
   "cell_type": "code",
   "execution_count": 892,
   "metadata": {},
   "outputs": [],
   "source": [
    "df.insert(1, \"specification_id\", 0, True) "
   ]
  },
  {
   "cell_type": "code",
   "execution_count": 893,
   "metadata": {},
   "outputs": [],
   "source": [
    "for index, row in df.iterrows():\n",
    "    try:\n",
    "        df.loc[index, \"specification_id\"] = specs.loc[(specs[\"mark_id\"] == row[\"код_марки\"]) & (specs[\"num\"] == row[\"выпуск\"]), \"id\"].values[0]\n",
    "    except:\n",
    "        pass"
   ]
  },
  {
   "cell_type": "code",
   "execution_count": 894,
   "metadata": {},
   "outputs": [],
   "source": [
    "df = df[df[\"specification_id\"] != 0]"
   ]
  },
  {
   "cell_type": "code",
   "execution_count": 895,
   "metadata": {},
   "outputs": [],
   "source": [
    "df = df.drop([\"код_марки\", \"выпуск\"], axis=1)"
   ]
  },
  {
   "cell_type": "code",
   "execution_count": 896,
   "metadata": {},
   "outputs": [],
   "source": [
    "df[\"Шифр_пк\"] = df[\"Шифр_пк\"].replace(0, np.nan)"
   ]
  },
  {
   "cell_type": "code",
   "execution_count": 897,
   "metadata": {},
   "outputs": [],
   "source": [
    "df = df.drop([\"вкл\", \"окраска\", \"огнезащита\", \"ПределОС\", \"ПредСост_несущ\", \"ПредСост_целост\", \"ПредСост_тепло_изол\", \"ПредСост_тепло_поток\", \"ПредСост_газ\", \"статус_к\", \"ТеорРасходОЗ\"], axis=1)"
   ]
  },
  {
   "cell_type": "code",
   "execution_count": 898,
   "metadata": {},
   "outputs": [],
   "source": [
    "df = df.rename(columns={\"сч_констр\": \"id\",\n",
    "                        \"имя_к\": \"name\",\n",
    "                        \"Шифр_к\": \"type_id\",\n",
    "                        \"Шифр_пк\": \"subtype_id\",\n",
    "                        \"расценка\": \"valuation\",\n",
    "                        \"шифр_тип_альбома\": \"standard_album_code\",\n",
    "                        \"кол_тип_констр\": \"num_of_standard_constructions\",\n",
    "                        \"притупление\": \"has_edge_blunting\",\n",
    "                        \"динамика\": \"has_dynamic_load\",\n",
    "                        \"фланцы\": \"has_flanged_connections\",\n",
    "                        \"контроль_сварки\": \"welding_control_id\",\n",
    "                        \"кт_окраски\": \"paintwork_coeff\",\n",
    "                       })"
   ]
  },
  {
   "cell_type": "code",
   "execution_count": 899,
   "metadata": {},
   "outputs": [],
   "source": [
    "df = df.where(pd.notnull(df), None)"
   ]
  },
  {
   "cell_type": "code",
   "execution_count": 900,
   "metadata": {},
   "outputs": [],
   "source": [
    "df = df[df[\"type_id\"] < 88]"
   ]
  },
  {
   "cell_type": "code",
   "execution_count": 901,
   "metadata": {},
   "outputs": [],
   "source": [
    "df = df[df[\"type_id\"] > 0]"
   ]
  },
  {
   "cell_type": "code",
   "execution_count": 902,
   "metadata": {},
   "outputs": [],
   "source": [
    "df = df.drop_duplicates(subset=[\"specification_id\", \"name\", \"paintwork_coeff\"])"
   ]
  },
  {
   "cell_type": "code",
   "execution_count": 903,
   "metadata": {},
   "outputs": [],
   "source": [
    "df.loc[:, [\"id\"]].to_csv(\"construction_ids.csv\", index=False)"
   ]
  },
  {
   "cell_type": "code",
   "execution_count": 904,
   "metadata": {},
   "outputs": [],
   "source": [
    "cursor.execute(open(\"sql_server/46.sql\", \"r\").read())\n",
    "conn.commit()"
   ]
  },
  {
   "cell_type": "code",
   "execution_count": 905,
   "metadata": {},
   "outputs": [],
   "source": [
    "execute_values(df, \"constructions\")"
   ]
  },
  {
   "cell_type": "markdown",
   "metadata": {},
   "source": [
    "<h1>Справочник болтов, диаметры</h1>"
   ]
  },
  {
   "cell_type": "code",
   "execution_count": 906,
   "metadata": {},
   "outputs": [],
   "source": [
    "df = pd.read_sql_query('SELECT * FROM Pro_t.dbo.Спр_болтов', db_conn)"
   ]
  },
  {
   "cell_type": "code",
   "execution_count": 907,
   "metadata": {},
   "outputs": [],
   "source": [
    "df = df.rename(columns={\"код_д\": \"id\",\n",
    "                        \"диаметр\": \"diameter\",\n",
    "                        \"масса_г\": \"nut_weight\",\n",
    "                        \"сталь_ш\": \"washer_steel\",\n",
    "                        \"масса_ш\": \"washer_weight\",\n",
    "                        \"толщина_ш\": \"washer_thickness\",\n",
    "                        \"ТУ_б\": \"bolt_tech_spec\",\n",
    "                        \"кл_пр_б\": \"strength_class\",\n",
    "                        \"ТУ_г\": \"nut_tech_spec\",\n",
    "                        \"ТУ_ш\": \"washer_tech_spec\",\n",
    "                       })"
   ]
  },
  {
   "cell_type": "code",
   "execution_count": 908,
   "metadata": {},
   "outputs": [],
   "source": [
    "cursor.execute(open(\"sql_server/20.sql\", \"r\").read())\n",
    "conn.commit()"
   ]
  },
  {
   "cell_type": "code",
   "execution_count": 909,
   "metadata": {},
   "outputs": [],
   "source": [
    "execute_values(df, \"bolt_diameters\")"
   ]
  },
  {
   "cell_type": "markdown",
   "metadata": {},
   "source": [
    "<h1>Справочник болтов, длины</h1>"
   ]
  },
  {
   "cell_type": "code",
   "execution_count": 910,
   "metadata": {},
   "outputs": [],
   "source": [
    "df = pd.read_sql_query('SELECT * FROM Pro_t.dbo.Спр_болтов_дл', db_conn)"
   ]
  },
  {
   "cell_type": "code",
   "execution_count": 911,
   "metadata": {},
   "outputs": [],
   "source": [
    "df = df.rename(columns={\"Код_болта\": \"id\",\n",
    "                        \"код_д\": \"diameter_id\",\n",
    "                        \"длина_б\": \"length\",\n",
    "                        \"длина_нар\": \"screw_length\",\n",
    "                        \"масса_б\": \"weight\"\n",
    "                       })"
   ]
  },
  {
   "cell_type": "code",
   "execution_count": 912,
   "metadata": {},
   "outputs": [],
   "source": [
    "cursor.execute(open(\"sql_server/21.sql\", \"r\").read())\n",
    "conn.commit()"
   ]
  },
  {
   "cell_type": "code",
   "execution_count": 913,
   "metadata": {},
   "outputs": [],
   "source": [
    "execute_values(df, \"bolt_lengths\")"
   ]
  },
  {
   "cell_type": "markdown",
   "metadata": {},
   "source": [
    "<h1>Высокопрочные болты видов конструкций</h1>"
   ]
  },
  {
   "cell_type": "code",
   "execution_count": 914,
   "metadata": {},
   "outputs": [],
   "source": [
    "df = pd.read_sql_query('SELECT * FROM Pro_t.dbo.Тс_болты', db_conn)"
   ]
  },
  {
   "cell_type": "code",
   "execution_count": 915,
   "metadata": {},
   "outputs": [],
   "source": [
    "c_ids = pd.read_csv(\"construction_ids.csv\")\n",
    "c_ids = c_ids.values.flatten().tolist()"
   ]
  },
  {
   "cell_type": "code",
   "execution_count": 916,
   "metadata": {},
   "outputs": [],
   "source": [
    "df = df[df[\"сч_констр\"].isin(c_ids)]"
   ]
  },
  {
   "cell_type": "code",
   "execution_count": 917,
   "metadata": {},
   "outputs": [],
   "source": [
    "df.loc[:, \"код_диаметра\"] = df.loc[:, \"код_диаметра\"].replace(0, np.nan)"
   ]
  },
  {
   "cell_type": "code",
   "execution_count": 918,
   "metadata": {},
   "outputs": [],
   "source": [
    "df = df.dropna()"
   ]
  },
  {
   "cell_type": "code",
   "execution_count": 919,
   "metadata": {},
   "outputs": [],
   "source": [
    "df = df.rename(columns={\"поз_болта\": \"id\",\n",
    "                        \"сч_констр\": \"construction_id\",\n",
    "                        \"код_диаметра\": \"diameter_id\",\n",
    "                        \"пакет\": \"packet\",\n",
    "                        \"кол\": \"num\",\n",
    "                        \"гаек\": \"nut_num\",\n",
    "                        \"шайб\": \"washer_num\",\n",
    "                       })"
   ]
  },
  {
   "cell_type": "code",
   "execution_count": 920,
   "metadata": {},
   "outputs": [],
   "source": [
    "cursor.execute(open(\"sql_server/45.sql\", \"r\").read())\n",
    "conn.commit()"
   ]
  },
  {
   "cell_type": "code",
   "execution_count": 921,
   "metadata": {},
   "outputs": [],
   "source": [
    "execute_values(df, \"construction_bolts\")"
   ]
  },
  {
   "cell_type": "markdown",
   "metadata": {},
   "source": [
    "<h1>Виды профилей</h1>"
   ]
  },
  {
   "cell_type": "code",
   "execution_count": 922,
   "metadata": {},
   "outputs": [],
   "source": [
    "df = pd.read_sql_query('SELECT * FROM Pro_t.dbo.Спр_видов_п', db_conn)"
   ]
  },
  {
   "cell_type": "code",
   "execution_count": 923,
   "metadata": {},
   "outputs": [],
   "source": [
    "df[\"Имя_в\"] = df[\"Имя_в\"].str.strip()\n",
    "df[\"Прим\"] = df[\"Прим\"].str.strip()"
   ]
  },
  {
   "cell_type": "code",
   "execution_count": 924,
   "metadata": {},
   "outputs": [],
   "source": [
    "df = df.drop_duplicates(subset=[\"Имя_в\"])"
   ]
  },
  {
   "cell_type": "code",
   "execution_count": 925,
   "metadata": {},
   "outputs": [],
   "source": [
    "df = df.rename(columns={\"Шифр_в\": \"id\",\n",
    "                        \"Имя_в\": \"name\",\n",
    "                        \"Прим\": \"note\"\n",
    "                       })"
   ]
  },
  {
   "cell_type": "code",
   "execution_count": 926,
   "metadata": {},
   "outputs": [],
   "source": [
    "df = df.sort_values(by=[\"id\"])"
   ]
  },
  {
   "cell_type": "code",
   "execution_count": 927,
   "metadata": {},
   "outputs": [],
   "source": [
    "df = df.reset_index(drop=True)"
   ]
  },
  {
   "cell_type": "code",
   "execution_count": 928,
   "metadata": {},
   "outputs": [],
   "source": [
    "df.loc[:, [\"id\"]].to_csv(\"prof.csv\", index=False)"
   ]
  },
  {
   "cell_type": "code",
   "execution_count": 929,
   "metadata": {},
   "outputs": [],
   "source": [
    "cursor.execute(open(\"sql_server/23.sql\", \"r\").read())\n",
    "conn.commit()"
   ]
  },
  {
   "cell_type": "code",
   "execution_count": 930,
   "metadata": {},
   "outputs": [],
   "source": [
    "execute_values(df, \"profile_classes\")"
   ]
  },
  {
   "cell_type": "markdown",
   "metadata": {},
   "source": [
    "<h1>Типы профилей</h1>"
   ]
  },
  {
   "cell_type": "code",
   "execution_count": 931,
   "metadata": {},
   "outputs": [],
   "source": [
    "df = pd.read_sql_query('SELECT * FROM Pro_t.dbo.Спр_типов_проф', db_conn)"
   ]
  },
  {
   "cell_type": "code",
   "execution_count": 932,
   "metadata": {},
   "outputs": [],
   "source": [
    "df[\"Имя_т\"] = df[\"Имя_т\"].str.strip()"
   ]
  },
  {
   "cell_type": "code",
   "execution_count": 933,
   "metadata": {},
   "outputs": [],
   "source": [
    "df = df.rename(columns={\"Тип\": \"id\",\n",
    "                        \"Имя_т\": \"name\"\n",
    "                       })"
   ]
  },
  {
   "cell_type": "code",
   "execution_count": 934,
   "metadata": {},
   "outputs": [],
   "source": [
    "cursor.execute(open(\"sql_server/42.sql\", \"r\").read())\n",
    "conn.commit()"
   ]
  },
  {
   "cell_type": "code",
   "execution_count": 935,
   "metadata": {},
   "outputs": [],
   "source": [
    "execute_values(df, \"profile_types\")"
   ]
  },
  {
   "cell_type": "markdown",
   "metadata": {},
   "source": [
    "<h1>Профили</h1>"
   ]
  },
  {
   "cell_type": "code",
   "execution_count": 936,
   "metadata": {},
   "outputs": [],
   "source": [
    "df = pd.read_sql_query('SELECT * FROM Pro_t.dbo.Спр_проф_полн', db_conn)"
   ]
  },
  {
   "cell_type": "code",
   "execution_count": 937,
   "metadata": {},
   "outputs": [],
   "source": [
    "df = df.replace(\"\", np.nan)"
   ]
  },
  {
   "cell_type": "code",
   "execution_count": 938,
   "metadata": {},
   "outputs": [],
   "source": [
    "df = df[df[\"Имя_п\"].isna() == False]"
   ]
  },
  {
   "cell_type": "code",
   "execution_count": 939,
   "metadata": {},
   "outputs": [],
   "source": [
    "df = df[df[\"Вес\"].isna() == False]"
   ]
  },
  {
   "cell_type": "code",
   "execution_count": 940,
   "metadata": {},
   "outputs": [],
   "source": [
    "df[\"Имя_п\"] = df[\"Имя_п\"].str.strip()\n",
    "df[\"Имя_п0\"] = df[\"Имя_п0\"].str.strip()"
   ]
  },
  {
   "cell_type": "code",
   "execution_count": 941,
   "metadata": {},
   "outputs": [],
   "source": [
    "df = df.drop([\"Имя_п0\", \"дл_имя\"], axis=1)"
   ]
  },
  {
   "cell_type": "code",
   "execution_count": 942,
   "metadata": {},
   "outputs": [],
   "source": [
    "df = df[df[\"Разрешен\"]]\n",
    "df = df.drop([\"Разрешен\"], axis=1)"
   ]
  },
  {
   "cell_type": "code",
   "execution_count": 943,
   "metadata": {},
   "outputs": [],
   "source": [
    "df = df[(df[\"Имя_п\"] != \"200*160*7\") | (df[\"Символ\"].isna() == False)]"
   ]
  },
  {
   "cell_type": "code",
   "execution_count": 944,
   "metadata": {},
   "outputs": [],
   "source": [
    "df = df.drop_duplicates(subset=[\"Вид_п\", \"Имя_п\", \"Символ\"])"
   ]
  },
  {
   "cell_type": "code",
   "execution_count": 945,
   "metadata": {},
   "outputs": [],
   "source": [
    "df.loc[df[\"Вид_п\"] == 16, \"Символ\"] = \"-\"\n",
    "df.loc[df[\"Вид_п\"] == 17, \"Символ\"] = \"-\""
   ]
  },
  {
   "cell_type": "code",
   "execution_count": 946,
   "metadata": {},
   "outputs": [],
   "source": [
    "df_2 = pd.read_sql_query('SELECT * FROM Pro_t.dbo.Тс_элементы', db_conn)"
   ]
  },
  {
   "cell_type": "code",
   "execution_count": 947,
   "metadata": {},
   "outputs": [],
   "source": [
    "df_2[\"Имя_п\"] = df_2[\"Имя_п\"].str.strip()\n",
    "df_2[\"Символ\"] = df_2[\"Символ\"].str.strip()"
   ]
  },
  {
   "cell_type": "code",
   "execution_count": 948,
   "metadata": {},
   "outputs": [],
   "source": [
    "c_ids = pd.read_csv(\"construction_ids.csv\")\n",
    "c_ids = c_ids.values.flatten().tolist()"
   ]
  },
  {
   "cell_type": "code",
   "execution_count": 949,
   "metadata": {},
   "outputs": [],
   "source": [
    "df_2 = df_2[df_2[\"Сч_констр\"].isin(c_ids)]"
   ]
  },
  {
   "cell_type": "code",
   "execution_count": 950,
   "metadata": {},
   "outputs": [],
   "source": [
    "p_ids = pd.read_csv(\"prof.csv\")\n",
    "p_ids = p_ids.values.flatten().tolist()"
   ]
  },
  {
   "cell_type": "code",
   "execution_count": 951,
   "metadata": {},
   "outputs": [],
   "source": [
    "df_2 = df_2[df_2[\"Вид_п\"].isin(p_ids)]"
   ]
  },
  {
   "cell_type": "code",
   "execution_count": 952,
   "metadata": {},
   "outputs": [],
   "source": [
    "df_2 = df_2[df_2[\"Символ\"].isna() == False]"
   ]
  },
  {
   "cell_type": "code",
   "execution_count": 953,
   "metadata": {},
   "outputs": [],
   "source": [
    "df_2 = df_2.drop([\"МаркаОЗ\", \"АрифмВыр\"], axis=1)"
   ]
  },
  {
   "cell_type": "code",
   "execution_count": 954,
   "metadata": {},
   "outputs": [],
   "source": [
    "df_2 = df_2.drop([\"ПерекрПерим\", \"КолВСеч\", \"Поз\", \"ГруппаПТ\"], axis=1)"
   ]
  },
  {
   "cell_type": "code",
   "execution_count": 955,
   "metadata": {},
   "outputs": [],
   "source": [
    "for index, row in df_2.iterrows():\n",
    "    try:\n",
    "        df_2.loc[index, \"profile_id\"] = df.loc[(df[\"Вид_п\"] == row[\"Вид_п\"]) & (df[\"Имя_п\"] == row[\"Имя_п\"]) & (df[\"Символ\"] == row[\"Символ\"]), \"Профиль\"].values[0]\n",
    "    except Exception as e:\n",
    "        pass"
   ]
  },
  {
   "cell_type": "code",
   "execution_count": 956,
   "metadata": {},
   "outputs": [],
   "source": [
    "df_null = df_2.loc[df_2['profile_id'].isna()]"
   ]
  },
  {
   "cell_type": "code",
   "execution_count": 957,
   "metadata": {},
   "outputs": [],
   "source": [
    "df_null = df_null.drop([\"Сч_констр\", \"Сч_поз\", \"Сталь\", \"Длина\", \"статус\", \"profile_id\"], axis=1)"
   ]
  },
  {
   "cell_type": "code",
   "execution_count": 958,
   "metadata": {},
   "outputs": [],
   "source": [
    "df_null = df_null.rename(columns={\"Вид_п\": \"class_id\",\n",
    "                        \"Имя_п\": \"name\",\n",
    "                        \"Символ\": \"symbol\",\n",
    "                        \"Вес\": \"weight\",\n",
    "                        \"Поверхн\": \"area\",\n",
    "                        \"Тип_п\": \"type_id\"\n",
    "                       })"
   ]
  },
  {
   "cell_type": "code",
   "execution_count": 959,
   "metadata": {},
   "outputs": [],
   "source": [
    "df_null.insert(0, 'id', range(1962, len(df_null) + 1962))"
   ]
  },
  {
   "cell_type": "code",
   "execution_count": 960,
   "metadata": {},
   "outputs": [],
   "source": [
    "df = df.where(pd.notnull(df), None)"
   ]
  },
  {
   "cell_type": "code",
   "execution_count": 961,
   "metadata": {},
   "outputs": [],
   "source": [
    "df = df.rename(columns={\"Профиль\": \"id\",\n",
    "                        \"Вид_п\": \"class_id\",\n",
    "                        \"Имя_п\": \"name\",\n",
    "                        \"Символ\": \"symbol\",\n",
    "                        \"Вес\": \"weight\",\n",
    "                        \"Поверхн\": \"area\",\n",
    "                        \"Тип_п\": \"type_id\"\n",
    "                       })"
   ]
  },
  {
   "cell_type": "code",
   "execution_count": 962,
   "metadata": {},
   "outputs": [],
   "source": [
    "df = df.append(df_null, ignore_index = True)"
   ]
  },
  {
   "cell_type": "code",
   "execution_count": 963,
   "metadata": {},
   "outputs": [],
   "source": [
    "df[df.duplicated(subset=[\"class_id\", \"name\", \"symbol\"], keep=\"first\")]\n",
    "df = df.drop_duplicates(subset=[\"class_id\", \"name\", \"symbol\"])"
   ]
  },
  {
   "cell_type": "code",
   "execution_count": 964,
   "metadata": {},
   "outputs": [],
   "source": [
    "df = df[df[\"id\"] != 3194]"
   ]
  },
  {
   "cell_type": "code",
   "execution_count": 965,
   "metadata": {},
   "outputs": [],
   "source": [
    "df.loc[df[\"id\"] == 2755, \"weight\"] = 4.396\n",
    "df.loc[df[\"id\"] == 2755, \"area\"] = 0.00288"
   ]
  },
  {
   "cell_type": "code",
   "execution_count": 966,
   "metadata": {},
   "outputs": [],
   "source": [
    "df.loc[:, [\"id\", \"class_id\", \"name\", \"symbol\"]].to_csv(\"profiles.csv\", index=False)"
   ]
  },
  {
   "cell_type": "code",
   "execution_count": 967,
   "metadata": {},
   "outputs": [],
   "source": [
    "cursor.execute(open(\"sql_server/33.sql\", \"r\").read())\n",
    "conn.commit()"
   ]
  },
  {
   "cell_type": "code",
   "execution_count": 968,
   "metadata": {},
   "outputs": [],
   "source": [
    "execute_values(df, \"profiles\")"
   ]
  },
  {
   "cell_type": "markdown",
   "metadata": {},
   "source": [
    "<h1>Марки стали</h1>"
   ]
  },
  {
   "cell_type": "code",
   "execution_count": 969,
   "metadata": {},
   "outputs": [],
   "source": [
    "df = pd.read_sql_query('SELECT * FROM Pro_t.dbo.Спр_стали', db_conn)"
   ]
  },
  {
   "cell_type": "code",
   "execution_count": 970,
   "metadata": {},
   "outputs": [],
   "source": [
    "df = df.replace(\"\", np.nan)"
   ]
  },
  {
   "cell_type": "code",
   "execution_count": 971,
   "metadata": {},
   "outputs": [],
   "source": [
    "df = df.drop([71])"
   ]
  },
  {
   "cell_type": "code",
   "execution_count": 972,
   "metadata": {},
   "outputs": [],
   "source": [
    "df[\"Имя_с\"] = df[\"Имя_с\"].str.strip()\n",
    "df[\"Стандарт\"] = df[\"Стандарт\"].str.strip()"
   ]
  },
  {
   "cell_type": "code",
   "execution_count": 973,
   "metadata": {},
   "outputs": [],
   "source": [
    "df = df.rename(columns={\"Шифр_с\": \"id\",\n",
    "                        \"Имя_с\": \"name\",\n",
    "                        \"Стандарт\": \"standard\",\n",
    "                        \"Прочность\": \"strength\"\n",
    "                       })"
   ]
  },
  {
   "cell_type": "code",
   "execution_count": 974,
   "metadata": {},
   "outputs": [],
   "source": [
    "df = df.where(pd.notnull(df), None)"
   ]
  },
  {
   "cell_type": "code",
   "execution_count": 975,
   "metadata": {},
   "outputs": [],
   "source": [
    "cursor.execute(open(\"sql_server/41.sql\", \"r\").read())\n",
    "conn.commit()"
   ]
  },
  {
   "cell_type": "code",
   "execution_count": 976,
   "metadata": {},
   "outputs": [],
   "source": [
    "execute_values(df, \"steel\")"
   ]
  },
  {
   "cell_type": "markdown",
   "metadata": {},
   "source": [
    "<h1>Перечень элементов</h1>"
   ]
  },
  {
   "cell_type": "code",
   "execution_count": 977,
   "metadata": {},
   "outputs": [],
   "source": [
    "df = pd.read_sql_query('SELECT * FROM Pro_t.dbo.Тс_элементы', db_conn)"
   ]
  },
  {
   "cell_type": "code",
   "execution_count": 978,
   "metadata": {},
   "outputs": [
    {
     "data": {
      "text/html": [
       "<div>\n",
       "<style scoped>\n",
       "    .dataframe tbody tr th:only-of-type {\n",
       "        vertical-align: middle;\n",
       "    }\n",
       "\n",
       "    .dataframe tbody tr th {\n",
       "        vertical-align: top;\n",
       "    }\n",
       "\n",
       "    .dataframe thead th {\n",
       "        text-align: right;\n",
       "    }\n",
       "</style>\n",
       "<table border=\"1\" class=\"dataframe\">\n",
       "  <thead>\n",
       "    <tr style=\"text-align: right;\">\n",
       "      <th></th>\n",
       "      <th>Сч_поз</th>\n",
       "      <th>Сч_констр</th>\n",
       "      <th>Вид_п</th>\n",
       "      <th>Имя_п</th>\n",
       "      <th>Символ</th>\n",
       "      <th>Вес</th>\n",
       "      <th>Поверхн</th>\n",
       "      <th>Тип_п</th>\n",
       "      <th>Сталь</th>\n",
       "      <th>Длина</th>\n",
       "      <th>статус</th>\n",
       "      <th>АрифмВыр</th>\n",
       "      <th>МаркаОЗ</th>\n",
       "      <th>ГруппаПТ</th>\n",
       "      <th>Поз</th>\n",
       "      <th>ПерекрПерим</th>\n",
       "      <th>КолВСеч</th>\n",
       "    </tr>\n",
       "  </thead>\n",
       "  <tbody>\n",
       "    <tr>\n",
       "      <th>103344</th>\n",
       "      <td>172950</td>\n",
       "      <td>20944.0</td>\n",
       "      <td>19</td>\n",
       "      <td>12</td>\n",
       "      <td>s=</td>\n",
       "      <td>94.199997</td>\n",
       "      <td>0.020000</td>\n",
       "      <td>6.0</td>\n",
       "      <td>35</td>\n",
       "      <td>63.459999</td>\n",
       "      <td>0</td>\n",
       "      <td>64.958/1.04</td>\n",
       "      <td>None</td>\n",
       "      <td>1.0</td>\n",
       "      <td>0.0</td>\n",
       "      <td>0.0</td>\n",
       "      <td>1.0</td>\n",
       "    </tr>\n",
       "    <tr>\n",
       "      <th>103345</th>\n",
       "      <td>172951</td>\n",
       "      <td>20944.0</td>\n",
       "      <td>19</td>\n",
       "      <td>10</td>\n",
       "      <td>s=</td>\n",
       "      <td>78.500000</td>\n",
       "      <td>0.020000</td>\n",
       "      <td>6.0</td>\n",
       "      <td>35</td>\n",
       "      <td>110.152000</td>\n",
       "      <td>0</td>\n",
       "      <td>110+0.152</td>\n",
       "      <td>None</td>\n",
       "      <td>1.0</td>\n",
       "      <td>0.0</td>\n",
       "      <td>0.0</td>\n",
       "      <td>1.0</td>\n",
       "    </tr>\n",
       "    <tr>\n",
       "      <th>103346</th>\n",
       "      <td>172952</td>\n",
       "      <td>20944.0</td>\n",
       "      <td>7</td>\n",
       "      <td>63*5</td>\n",
       "      <td>L</td>\n",
       "      <td>4.810000</td>\n",
       "      <td>0.002500</td>\n",
       "      <td>3.0</td>\n",
       "      <td>34</td>\n",
       "      <td>53.799999</td>\n",
       "      <td>0</td>\n",
       "      <td>55.93/1.04</td>\n",
       "      <td>None</td>\n",
       "      <td>1.0</td>\n",
       "      <td>0.0</td>\n",
       "      <td>0.0</td>\n",
       "      <td>1.0</td>\n",
       "    </tr>\n",
       "    <tr>\n",
       "      <th>103347</th>\n",
       "      <td>172953</td>\n",
       "      <td>20944.0</td>\n",
       "      <td>19</td>\n",
       "      <td>14</td>\n",
       "      <td>s=</td>\n",
       "      <td>109.900002</td>\n",
       "      <td>0.020000</td>\n",
       "      <td>6.0</td>\n",
       "      <td>36</td>\n",
       "      <td>4.865385</td>\n",
       "      <td>0</td>\n",
       "      <td>5.06/1.04</td>\n",
       "      <td>None</td>\n",
       "      <td>1.0</td>\n",
       "      <td>0.0</td>\n",
       "      <td>0.0</td>\n",
       "      <td>1.0</td>\n",
       "    </tr>\n",
       "    <tr>\n",
       "      <th>103348</th>\n",
       "      <td>172954</td>\n",
       "      <td>20945.0</td>\n",
       "      <td>7</td>\n",
       "      <td>75*6</td>\n",
       "      <td>L</td>\n",
       "      <td>6.890000</td>\n",
       "      <td>0.003000</td>\n",
       "      <td>3.0</td>\n",
       "      <td>35</td>\n",
       "      <td>54.423077</td>\n",
       "      <td>0</td>\n",
       "      <td>(3.900*4+3.790*2+2.800*4+1.870*10+1.760*2)/1.04</td>\n",
       "      <td>None</td>\n",
       "      <td>1.0</td>\n",
       "      <td>0.0</td>\n",
       "      <td>0.0</td>\n",
       "      <td>1.0</td>\n",
       "    </tr>\n",
       "    <tr>\n",
       "      <th>103349</th>\n",
       "      <td>172955</td>\n",
       "      <td>20945.0</td>\n",
       "      <td>62</td>\n",
       "      <td>30Ш1</td>\n",
       "      <td>I</td>\n",
       "      <td>56.799999</td>\n",
       "      <td>0.013411</td>\n",
       "      <td>1.0</td>\n",
       "      <td>36</td>\n",
       "      <td>3.336539</td>\n",
       "      <td>0</td>\n",
       "      <td>3.47/1.04</td>\n",
       "      <td>None</td>\n",
       "      <td>1.0</td>\n",
       "      <td>0.0</td>\n",
       "      <td>0.0</td>\n",
       "      <td>1.0</td>\n",
       "    </tr>\n",
       "    <tr>\n",
       "      <th>103351</th>\n",
       "      <td>172957</td>\n",
       "      <td>20945.0</td>\n",
       "      <td>19</td>\n",
       "      <td>12</td>\n",
       "      <td>s=</td>\n",
       "      <td>94.199997</td>\n",
       "      <td>0.020000</td>\n",
       "      <td>6.0</td>\n",
       "      <td>36</td>\n",
       "      <td>0.259615</td>\n",
       "      <td>0</td>\n",
       "      <td>0.27/1.04</td>\n",
       "      <td>None</td>\n",
       "      <td>1.0</td>\n",
       "      <td>0.0</td>\n",
       "      <td>0.0</td>\n",
       "      <td>1.0</td>\n",
       "    </tr>\n",
       "    <tr>\n",
       "      <th>103352</th>\n",
       "      <td>172958</td>\n",
       "      <td>20945.0</td>\n",
       "      <td>19</td>\n",
       "      <td>8</td>\n",
       "      <td>s=</td>\n",
       "      <td>62.799999</td>\n",
       "      <td>0.020000</td>\n",
       "      <td>6.0</td>\n",
       "      <td>36</td>\n",
       "      <td>0.432692</td>\n",
       "      <td>0</td>\n",
       "      <td>0.45/1.04</td>\n",
       "      <td>None</td>\n",
       "      <td>1.0</td>\n",
       "      <td>0.0</td>\n",
       "      <td>0.0</td>\n",
       "      <td>1.0</td>\n",
       "    </tr>\n",
       "    <tr>\n",
       "      <th>103353</th>\n",
       "      <td>172959</td>\n",
       "      <td>20945.0</td>\n",
       "      <td>19</td>\n",
       "      <td>30</td>\n",
       "      <td>s=</td>\n",
       "      <td>235.500000</td>\n",
       "      <td>0.020000</td>\n",
       "      <td>6.0</td>\n",
       "      <td>35</td>\n",
       "      <td>0.060000</td>\n",
       "      <td>0</td>\n",
       "      <td>0.02/1.04</td>\n",
       "      <td>None</td>\n",
       "      <td>1.0</td>\n",
       "      <td>0.0</td>\n",
       "      <td>0.0</td>\n",
       "      <td>1.0</td>\n",
       "    </tr>\n",
       "    <tr>\n",
       "      <th>103354</th>\n",
       "      <td>172960</td>\n",
       "      <td>20945.0</td>\n",
       "      <td>19</td>\n",
       "      <td>20</td>\n",
       "      <td>s=</td>\n",
       "      <td>157.000000</td>\n",
       "      <td>0.020000</td>\n",
       "      <td>6.0</td>\n",
       "      <td>36</td>\n",
       "      <td>0.060000</td>\n",
       "      <td>0</td>\n",
       "      <td>0.03/1.04</td>\n",
       "      <td>None</td>\n",
       "      <td>1.0</td>\n",
       "      <td>0.0</td>\n",
       "      <td>0.0</td>\n",
       "      <td>1.0</td>\n",
       "    </tr>\n",
       "    <tr>\n",
       "      <th>103355</th>\n",
       "      <td>172961</td>\n",
       "      <td>20945.0</td>\n",
       "      <td>19</td>\n",
       "      <td>10</td>\n",
       "      <td>s=</td>\n",
       "      <td>78.500000</td>\n",
       "      <td>0.020000</td>\n",
       "      <td>6.0</td>\n",
       "      <td>36</td>\n",
       "      <td>1.105769</td>\n",
       "      <td>0</td>\n",
       "      <td>1.15/1.04</td>\n",
       "      <td>None</td>\n",
       "      <td>1.0</td>\n",
       "      <td>0.0</td>\n",
       "      <td>0.0</td>\n",
       "      <td>1.0</td>\n",
       "    </tr>\n",
       "    <tr>\n",
       "      <th>103356</th>\n",
       "      <td>172962</td>\n",
       "      <td>20946.0</td>\n",
       "      <td>19</td>\n",
       "      <td>10</td>\n",
       "      <td>s=</td>\n",
       "      <td>78.500000</td>\n",
       "      <td>0.020000</td>\n",
       "      <td>6.0</td>\n",
       "      <td>35</td>\n",
       "      <td>3.038461</td>\n",
       "      <td>0</td>\n",
       "      <td>3.16/1.04</td>\n",
       "      <td>None</td>\n",
       "      <td>1.0</td>\n",
       "      <td>0.0</td>\n",
       "      <td>0.0</td>\n",
       "      <td>1.0</td>\n",
       "    </tr>\n",
       "    <tr>\n",
       "      <th>103357</th>\n",
       "      <td>172963</td>\n",
       "      <td>20946.0</td>\n",
       "      <td>19</td>\n",
       "      <td>20</td>\n",
       "      <td>s=</td>\n",
       "      <td>157.000000</td>\n",
       "      <td>0.020000</td>\n",
       "      <td>6.0</td>\n",
       "      <td>35</td>\n",
       "      <td>0.528846</td>\n",
       "      <td>0</td>\n",
       "      <td>0.55/1.04</td>\n",
       "      <td>None</td>\n",
       "      <td>1.0</td>\n",
       "      <td>0.0</td>\n",
       "      <td>0.0</td>\n",
       "      <td>1.0</td>\n",
       "    </tr>\n",
       "    <tr>\n",
       "      <th>103358</th>\n",
       "      <td>172964</td>\n",
       "      <td>20946.0</td>\n",
       "      <td>19</td>\n",
       "      <td>16</td>\n",
       "      <td>s=</td>\n",
       "      <td>125.599998</td>\n",
       "      <td>0.020000</td>\n",
       "      <td>6.0</td>\n",
       "      <td>35</td>\n",
       "      <td>2.288461</td>\n",
       "      <td>0</td>\n",
       "      <td>2.38/1.04</td>\n",
       "      <td>None</td>\n",
       "      <td>1.0</td>\n",
       "      <td>0.0</td>\n",
       "      <td>0.0</td>\n",
       "      <td>1.0</td>\n",
       "    </tr>\n",
       "  </tbody>\n",
       "</table>\n",
       "</div>"
      ],
      "text/plain": [
       "        Сч_поз  Сч_констр  Вид_п  Имя_п Символ         Вес   Поверхн  Тип_п  \\\n",
       "103344  172950    20944.0     19     12     s=   94.199997  0.020000    6.0   \n",
       "103345  172951    20944.0     19     10     s=   78.500000  0.020000    6.0   \n",
       "103346  172952    20944.0      7   63*5      L    4.810000  0.002500    3.0   \n",
       "103347  172953    20944.0     19     14     s=  109.900002  0.020000    6.0   \n",
       "103348  172954    20945.0      7   75*6      L    6.890000  0.003000    3.0   \n",
       "103349  172955    20945.0     62  30Ш1       I   56.799999  0.013411    1.0   \n",
       "103351  172957    20945.0     19     12     s=   94.199997  0.020000    6.0   \n",
       "103352  172958    20945.0     19      8     s=   62.799999  0.020000    6.0   \n",
       "103353  172959    20945.0     19     30     s=  235.500000  0.020000    6.0   \n",
       "103354  172960    20945.0     19     20     s=  157.000000  0.020000    6.0   \n",
       "103355  172961    20945.0     19     10     s=   78.500000  0.020000    6.0   \n",
       "103356  172962    20946.0     19     10     s=   78.500000  0.020000    6.0   \n",
       "103357  172963    20946.0     19     20     s=  157.000000  0.020000    6.0   \n",
       "103358  172964    20946.0     19     16     s=  125.599998  0.020000    6.0   \n",
       "\n",
       "        Сталь       Длина  статус  \\\n",
       "103344     35   63.459999       0   \n",
       "103345     35  110.152000       0   \n",
       "103346     34   53.799999       0   \n",
       "103347     36    4.865385       0   \n",
       "103348     35   54.423077       0   \n",
       "103349     36    3.336539       0   \n",
       "103351     36    0.259615       0   \n",
       "103352     36    0.432692       0   \n",
       "103353     35    0.060000       0   \n",
       "103354     36    0.060000       0   \n",
       "103355     36    1.105769       0   \n",
       "103356     35    3.038461       0   \n",
       "103357     35    0.528846       0   \n",
       "103358     35    2.288461       0   \n",
       "\n",
       "                                               АрифмВыр МаркаОЗ  ГруппаПТ  \\\n",
       "103344                                      64.958/1.04    None       1.0   \n",
       "103345                                        110+0.152    None       1.0   \n",
       "103346                                       55.93/1.04    None       1.0   \n",
       "103347                                        5.06/1.04    None       1.0   \n",
       "103348  (3.900*4+3.790*2+2.800*4+1.870*10+1.760*2)/1.04    None       1.0   \n",
       "103349                                        3.47/1.04    None       1.0   \n",
       "103351                                        0.27/1.04    None       1.0   \n",
       "103352                                        0.45/1.04    None       1.0   \n",
       "103353                                        0.02/1.04    None       1.0   \n",
       "103354                                        0.03/1.04    None       1.0   \n",
       "103355                                        1.15/1.04    None       1.0   \n",
       "103356                                        3.16/1.04    None       1.0   \n",
       "103357                                        0.55/1.04    None       1.0   \n",
       "103358                                        2.38/1.04    None       1.0   \n",
       "\n",
       "        Поз  ПерекрПерим  КолВСеч  \n",
       "103344  0.0          0.0      1.0  \n",
       "103345  0.0          0.0      1.0  \n",
       "103346  0.0          0.0      1.0  \n",
       "103347  0.0          0.0      1.0  \n",
       "103348  0.0          0.0      1.0  \n",
       "103349  0.0          0.0      1.0  \n",
       "103351  0.0          0.0      1.0  \n",
       "103352  0.0          0.0      1.0  \n",
       "103353  0.0          0.0      1.0  \n",
       "103354  0.0          0.0      1.0  \n",
       "103355  0.0          0.0      1.0  \n",
       "103356  0.0          0.0      1.0  \n",
       "103357  0.0          0.0      1.0  \n",
       "103358  0.0          0.0      1.0  "
      ]
     },
     "execution_count": 978,
     "metadata": {},
     "output_type": "execute_result"
    }
   ],
   "source": [
    "df[df[\"АрифмВыр\"].isna() == False]"
   ]
  },
  {
   "cell_type": "code",
   "execution_count": 979,
   "metadata": {},
   "outputs": [],
   "source": [
    "df[\"Имя_п\"] = df[\"Имя_п\"].str.strip()\n",
    "df[\"Символ\"] = df[\"Символ\"].str.strip()"
   ]
  },
  {
   "cell_type": "code",
   "execution_count": 980,
   "metadata": {},
   "outputs": [],
   "source": [
    "c_ids = pd.read_csv(\"construction_ids.csv\")\n",
    "c_ids = c_ids.values.flatten().tolist()"
   ]
  },
  {
   "cell_type": "code",
   "execution_count": 981,
   "metadata": {},
   "outputs": [],
   "source": [
    "df = df[df[\"Сч_констр\"].isin(c_ids)]"
   ]
  },
  {
   "cell_type": "code",
   "execution_count": 982,
   "metadata": {},
   "outputs": [],
   "source": [
    "p_ids = pd.read_csv(\"prof.csv\")\n",
    "p_ids = p_ids.values.flatten().tolist()"
   ]
  },
  {
   "cell_type": "code",
   "execution_count": 983,
   "metadata": {},
   "outputs": [],
   "source": [
    "df = df[df[\"Вид_п\"].isin(p_ids)]"
   ]
  },
  {
   "cell_type": "code",
   "execution_count": 984,
   "metadata": {},
   "outputs": [],
   "source": [
    "df.loc[df[\"Сталь\"] == 72, \"Сталь\"] = 36"
   ]
  },
  {
   "cell_type": "code",
   "execution_count": 985,
   "metadata": {},
   "outputs": [],
   "source": [
    "df = df[df[\"Символ\"].isna() == False]"
   ]
  },
  {
   "cell_type": "code",
   "execution_count": 986,
   "metadata": {},
   "outputs": [],
   "source": [
    "df = df.drop([\"МаркаОЗ\"], axis=1)"
   ]
  },
  {
   "cell_type": "code",
   "execution_count": 987,
   "metadata": {},
   "outputs": [],
   "source": [
    "df = df.drop([\"ПерекрПерим\", \"КолВСеч\", \"Поз\", \"ГруппаПТ\"], axis=1)"
   ]
  },
  {
   "cell_type": "code",
   "execution_count": 988,
   "metadata": {},
   "outputs": [],
   "source": [
    "profiles = pd.read_csv(\"profiles.csv\")"
   ]
  },
  {
   "cell_type": "code",
   "execution_count": 989,
   "metadata": {},
   "outputs": [],
   "source": [
    "df.loc[df[\"Сч_поз\"] == 179045, \"Имя_п\"] = \"140*4\"\n",
    "df.loc[df[\"Сч_поз\"] == 179034, \"Имя_п\"] = \"140*4\""
   ]
  },
  {
   "cell_type": "code",
   "execution_count": 990,
   "metadata": {},
   "outputs": [],
   "source": [
    "for index, row in df.iterrows():\n",
    "    try:\n",
    "        df.loc[index, \"profile_id\"] = profiles.loc[(profiles[\"class_id\"] == row[\"Вид_п\"]) & (profiles[\"name\"] == row[\"Имя_п\"]) & (profiles[\"symbol\"] == row[\"Символ\"]), \"id\"].values[0]\n",
    "    except:\n",
    "        pass"
   ]
  },
  {
   "cell_type": "code",
   "execution_count": 991,
   "metadata": {},
   "outputs": [],
   "source": [
    "df = df.drop([\"Имя_п\", \"Символ\", \"Вес\", \"Поверхн\", \"Тип_п\", \"статус\", \"Вид_п\"], axis=1)"
   ]
  },
  {
   "cell_type": "code",
   "execution_count": 992,
   "metadata": {},
   "outputs": [],
   "source": [
    "df = df.rename(columns={\"Сч_констр\": \"construction_id\",\n",
    "                        \"Сч_поз\": \"id\",\n",
    "                        \"Сталь\": \"steel_id\",\n",
    "                        \"Длина\": \"length\",\n",
    "                        \"АрифмВыр\": \"arithmetic_expression\"\n",
    "                       })"
   ]
  },
  {
   "cell_type": "code",
   "execution_count": 993,
   "metadata": {},
   "outputs": [],
   "source": [
    "df = df.where(pd.notnull(df), None)"
   ]
  },
  {
   "cell_type": "code",
   "execution_count": 994,
   "metadata": {},
   "outputs": [],
   "source": [
    "cursor.execute(open(\"sql_server/48.sql\", \"r\").read())\n",
    "conn.commit()"
   ]
  },
  {
   "cell_type": "code",
   "execution_count": 995,
   "metadata": {},
   "outputs": [],
   "source": [
    "execute_values(df, \"construction_elements\")"
   ]
  },
  {
   "cell_type": "markdown",
   "metadata": {},
   "source": [
    "<h1>Разделы общих указаний</h1>"
   ]
  },
  {
   "cell_type": "code",
   "execution_count": 996,
   "metadata": {},
   "outputs": [],
   "source": [
    "df = pd.DataFrame({'name': [\"Разработано на основании\",\n",
    "                            \"Разработано в соответствии\",\n",
    "                            \"Перечень технических регламентов\",\n",
    "                            \"Высотная отметка\",\n",
    "                            \"Климатические условия\",\n",
    "                            \"Конструктивные решения\",\n",
    "                            \"Характеристики конструкций\",\n",
    "                            \"Материал конструкций\",\n",
    "                            \"Указания по разработке КМД и ППР\",\n",
    "                            \"Указания по изготовлению и монтажу\",\n",
    "                            \"Крепление элементов\",\n",
    "                            \"Соединение элементов\",\n",
    "                            \"Антикоррозионная защита\",\n",
    "                            \"Огнезащита конструкций\",\n",
    "                            \"Перечень скрытых видов работ\",\n",
    "                            \"Перечень ответственных конструкций\",\n",
    "                            \"Коэффициент трудозатрат\"]})"
   ]
  },
  {
   "cell_type": "code",
   "execution_count": 997,
   "metadata": {},
   "outputs": [],
   "source": [
    "df_sections_len = len(df)"
   ]
  },
  {
   "cell_type": "code",
   "execution_count": 998,
   "metadata": {},
   "outputs": [],
   "source": [
    "df.insert(1, 'order_num', range(1, len(df) + 1))"
   ]
  },
  {
   "cell_type": "code",
   "execution_count": 999,
   "metadata": {},
   "outputs": [],
   "source": [
    "df.insert(0, 'id', range(1, len(df) + 1))"
   ]
  },
  {
   "cell_type": "code",
   "execution_count": 1000,
   "metadata": {},
   "outputs": [],
   "source": [
    "cursor.execute(open(\"sql_server/37_2.sql\", \"r\").read())\n",
    "conn.commit()"
   ]
  },
  {
   "cell_type": "code",
   "execution_count": 1001,
   "metadata": {},
   "outputs": [],
   "source": [
    "execute_values(df, \"general_data_sections\")"
   ]
  },
  {
   "cell_type": "markdown",
   "metadata": {},
   "source": [
    "<h1>Пункты и разделы общих указаний марки</h1>"
   ]
  },
  {
   "cell_type": "code",
   "execution_count": 1069,
   "metadata": {},
   "outputs": [],
   "source": [
    "df_sections = pd.read_sql_query('SELECT * FROM Pro_t.dbo.Спр_разделы_н', db_conn)\n",
    "df_sections_full = df_sections.copy()"
   ]
  },
  {
   "cell_type": "code",
   "execution_count": 1070,
   "metadata": {},
   "outputs": [],
   "source": [
    "df_sections = df_sections.loc[:, [\"раздел\", \"заголовок_кр\", \"порядок_р\"]]"
   ]
  },
  {
   "cell_type": "code",
   "execution_count": 1071,
   "metadata": {},
   "outputs": [],
   "source": [
    "df_sections = df_sections.rename(columns={\"раздел\": \"id\",\n",
    "                        \"заголовок_кр\": \"name\",\n",
    "                        \"порядок_р\": \"order_num\",\n",
    "                       })"
   ]
  },
  {
   "cell_type": "code",
   "execution_count": null,
   "metadata": {},
   "outputs": [],
   "source": []
  },
  {
   "cell_type": "code",
   "execution_count": 1072,
   "metadata": {},
   "outputs": [],
   "source": [
    "df2 = pd.read_sql_query('SELECT * FROM Pro_t.dbo.Спр_пункты_н', db_conn)"
   ]
  },
  {
   "cell_type": "code",
   "execution_count": 1073,
   "metadata": {},
   "outputs": [],
   "source": [
    "df2[\"текст\"] = df2[\"текст\"].str.strip()"
   ]
  },
  {
   "cell_type": "code",
   "execution_count": null,
   "metadata": {},
   "outputs": [],
   "source": []
  },
  {
   "cell_type": "code",
   "execution_count": 1074,
   "metadata": {},
   "outputs": [],
   "source": [
    "df = pd.read_sql_query('SELECT * FROM Pro_t.dbo.Оу_пункты_н', db_conn)"
   ]
  },
  {
   "cell_type": "code",
   "execution_count": 1075,
   "metadata": {
    "scrolled": true
   },
   "outputs": [],
   "source": [
    "df = df[df[\"включать\"] == True]"
   ]
  },
  {
   "cell_type": "code",
   "execution_count": 1076,
   "metadata": {},
   "outputs": [],
   "source": [
    "df[\"текст_о\"] = df[\"текст_о\"].str.strip()"
   ]
  },
  {
   "cell_type": "code",
   "execution_count": 1077,
   "metadata": {},
   "outputs": [],
   "source": [
    "df = df.drop([\"включать\", \"оригинал\", \"оригинал\", \"пункт_фикс_о\", \"нов_пункт\"], axis=1)"
   ]
  },
  {
   "cell_type": "code",
   "execution_count": 1078,
   "metadata": {},
   "outputs": [],
   "source": [
    "m_ids = pd.read_csv(\"mark_ids.csv\")\n",
    "m_ids = m_ids.values.flatten().tolist()\n",
    "df = df[df[\"код_марки\"].isin(m_ids)]"
   ]
  },
  {
   "cell_type": "code",
   "execution_count": 1079,
   "metadata": {},
   "outputs": [],
   "source": [
    "df = df[df[\"пункт_о\"].isin(list(df2[\"пункт\"]))]"
   ]
  },
  {
   "cell_type": "code",
   "execution_count": 1080,
   "metadata": {},
   "outputs": [],
   "source": [
    "df3 = pd.DataFrame({'раздел': [], 'текст': [], 'порядок_п': []})\n",
    "for index, row in df.iterrows():\n",
    "    df3 = df3.append(df2.loc[df2[\"пункт\"] == df[\"пункт_о\"][index], [\"раздел\", \"текст\", \"порядок_п\"]])"
   ]
  },
  {
   "cell_type": "code",
   "execution_count": 1081,
   "metadata": {},
   "outputs": [],
   "source": [
    "df.reset_index(drop=True, inplace=True)\n",
    "df3.reset_index(drop=True, inplace=True)\n",
    "df4 = pd.concat([df, df3], axis=1)"
   ]
  },
  {
   "cell_type": "code",
   "execution_count": 1082,
   "metadata": {
    "scrolled": true
   },
   "outputs": [],
   "source": [
    "for index, row in df4.iterrows():\n",
    "    if df4.loc[index, \"текст_о\"] == None:\n",
    "        df4.loc[index, \"текст_о\"] = df4.loc[index, \"текст\"]"
   ]
  },
  {
   "cell_type": "code",
   "execution_count": 1083,
   "metadata": {},
   "outputs": [],
   "source": [
    "df4 = df4.drop([\"пункт_о\", \"текст\"], axis=1)"
   ]
  },
  {
   "cell_type": "code",
   "execution_count": 1084,
   "metadata": {},
   "outputs": [],
   "source": [
    "df4.loc[3, \"текст_о\"] = '#Конструкции с монтажными сварными соединениями закреплять сначала на временных болтах класса точности С (М16; М20; М24) (выбрать нужное) классов прочности 4.6; 4.8 (выбрать нужное), а затем по проекту.'"
   ]
  },
  {
   "cell_type": "code",
   "execution_count": 1085,
   "metadata": {},
   "outputs": [],
   "source": [
    "df4 = df4.dropna()"
   ]
  },
  {
   "cell_type": "code",
   "execution_count": 1086,
   "metadata": {},
   "outputs": [],
   "source": [
    "df4 = df4.replace(\"\", None)"
   ]
  },
  {
   "cell_type": "code",
   "execution_count": 1087,
   "metadata": {},
   "outputs": [],
   "source": [
    "global_point_num = df4[\"Поз_пункта\"].max() + 1"
   ]
  },
  {
   "cell_type": "code",
   "execution_count": 1088,
   "metadata": {},
   "outputs": [],
   "source": [
    "def changeOrderNumGroupBySection(df, m):\n",
    "    global global_point_num\n",
    "    df_list = []\n",
    "    for s in df[\"раздел\"].unique():\n",
    "        df2 = df[df[\"раздел\"] == s]\n",
    "        df2 = df2.sort_values(by=['порядок_п'])\n",
    "        df3 = df2.drop('текст_о', axis=1).join(df2['текст_о'].str.split('\\r\\n', expand=True).stack().reset_index(level=1, drop=True).rename('текст_о'))\n",
    "        df3 = df3[df3[\"текст_о\"].str.len() > 0]\n",
    "        df3[\"текст_о\"] = df3[\"текст_о\"].map(lambda x: \"# \" + x[1:] if x[0] == \"#\" else x)\n",
    "        df3 = df3.drop_duplicates(subset=['раздел', 'текст_о'])\n",
    "        df3[\"порядок_п\"] = range(2, len(df3) + 2)\n",
    "        name = df_sections_full.loc[df_sections_full[\"раздел\"] == s, \"заголовок\"]\n",
    "        name = list(name)[0]\n",
    "        df3[\"текст_о\"] = df3[\"текст_о\"].str.strip()\n",
    "        df3[\"текст_о\"] = df3[\"текст_о\"].str.replace(r'\\b;$', '', regex=True).str.strip()\n",
    "        df3[\"текст_о\"] = df3[\"текст_о\"].str.replace(r'\\b\\.$', '', regex=True).str.strip()\n",
    "        df3 = pd.concat([pd.DataFrame([[global_point_num, m, name, s, 1]], columns=['Поз_пункта', 'код_марки', 'текст_о', 'раздел', 'порядок_п']), df3])\n",
    "        global_point_num += 1\n",
    "        df_list.append(df3.copy())\n",
    "    return pd.concat(df_list)"
   ]
  },
  {
   "cell_type": "code",
   "execution_count": 1089,
   "metadata": {},
   "outputs": [],
   "source": [
    "def changeOrderNumGroupByMark(df):\n",
    "    df_list = []\n",
    "    section_df_list = []\n",
    "    id_num = 1\n",
    "    for m in df[\"код_марки\"].unique():\n",
    "        df2 = df[df[\"код_марки\"] == m]\n",
    "        sections = df2['раздел'].unique()\n",
    "        df3 = df_sections[df_sections[\"id\"].isin(sections)]\n",
    "        df3 = df3.rename(columns={\"id\": \"old_id\"})\n",
    "        df3.insert(0, 'id', range(id_num, len(df3) + id_num))\n",
    "        df3.insert(2, 'mark_id', m)\n",
    "        df3 = df3.drop([\"order_num\"], axis=1)\n",
    "        df3.insert(2, 'order_num', range(1, len(df3) + 1))\n",
    "        section_df_list.append(df3.copy())\n",
    "        df2 = changeOrderNumGroupBySection(df2, m)\n",
    "        df2 = df2.reset_index(drop=True)\n",
    "        for index, row in df2.iterrows():\n",
    "            df2.loc[index, \"раздел\"] = df3.loc[df3[\"old_id\"] == row[\"раздел\"], \"id\"].values[0]\n",
    "\n",
    "        df_list.append(df2.copy())\n",
    "        id_num += len(df3)\n",
    "        break\n",
    "    return (pd.concat(df_list), pd.concat(section_df_list))"
   ]
  },
  {
   "cell_type": "code",
   "execution_count": 1090,
   "metadata": {},
   "outputs": [],
   "source": [
    "(df5, df6) = changeOrderNumGroupByMark(df4)"
   ]
  },
  {
   "cell_type": "code",
   "execution_count": 1091,
   "metadata": {},
   "outputs": [],
   "source": [
    "df6 = df6.drop([\"old_id\"], axis=1)"
   ]
  },
  {
   "cell_type": "code",
   "execution_count": null,
   "metadata": {},
   "outputs": [],
   "source": []
  },
  {
   "cell_type": "code",
   "execution_count": 1092,
   "metadata": {},
   "outputs": [],
   "source": [
    "cursor.execute(open(\"sql_server/37_3.sql\", \"r\").read())\n",
    "conn.commit()"
   ]
  },
  {
   "cell_type": "code",
   "execution_count": 1093,
   "metadata": {},
   "outputs": [],
   "source": [
    "execute_values(df6, \"mark_general_data_sections\")"
   ]
  },
  {
   "cell_type": "code",
   "execution_count": 1094,
   "metadata": {},
   "outputs": [],
   "source": [
    "df5 = df5.drop([\"код_марки\"], axis=1)"
   ]
  },
  {
   "cell_type": "code",
   "execution_count": 1095,
   "metadata": {},
   "outputs": [],
   "source": [
    "df5 = df5.reset_index(drop=True)"
   ]
  },
  {
   "cell_type": "code",
   "execution_count": 1096,
   "metadata": {},
   "outputs": [],
   "source": [
    "df5['текст_о'] = df5['текст_о'].str.replace('град.С', '°C')\n",
    "df5['текст_о'] = df5['текст_о'].str.replace('м2', 'м^2')"
   ]
  },
  {
   "cell_type": "code",
   "execution_count": 1098,
   "metadata": {},
   "outputs": [],
   "source": [
    "df5[\"неразрывать_о\"] = df5[\"неразрывать_о\"].map(lambda x: False if pd.isna(x) else x)"
   ]
  },
  {
   "cell_type": "code",
   "execution_count": 1099,
   "metadata": {},
   "outputs": [],
   "source": [
    "df5 = df5.rename(columns={\"Поз_пункта\": \"id\",\n",
    "                          \"текст_о\": \"text\",\n",
    "                          \"раздел\": \"section_id\",\n",
    "                          \"порядок_п\": \"order_num\",\n",
    "                          \"неразрывать_о\": \"has_line_break\",\n",
    "                       })"
   ]
  },
  {
   "cell_type": "code",
   "execution_count": 1100,
   "metadata": {},
   "outputs": [],
   "source": [
    "df5 = df5.drop(['id'], axis=1)"
   ]
  },
  {
   "cell_type": "code",
   "execution_count": 1101,
   "metadata": {},
   "outputs": [],
   "source": [
    "df5.insert(0, 'id', range(1, len(df5) + 1))"
   ]
  },
  {
   "cell_type": "code",
   "execution_count": 1102,
   "metadata": {},
   "outputs": [],
   "source": [
    "cursor.execute(open(\"sql_server/35_xx.sql\", \"r\").read())\n",
    "conn.commit()"
   ]
  },
  {
   "cell_type": "code",
   "execution_count": 1103,
   "metadata": {},
   "outputs": [],
   "source": [
    "execute_values(df5, \"mark_general_data_points\")"
   ]
  },
  {
   "cell_type": "markdown",
   "metadata": {},
   "source": [
    "<h1>Пункты общих указаний</h1>"
   ]
  },
  {
   "cell_type": "code",
   "execution_count": 1104,
   "metadata": {},
   "outputs": [],
   "source": [
    "df = pd.DataFrame({'section_id': [1, 1, 1, 1, 2, 3, 3, 3, 3, 3, 3, 3, 3, 3, 3, 3, 4, 5, 5, 5, 5, 5, 5, 5, 6, 6, 6, 6, 6, 6, 6, 6, 6, 6, 7, 7, 7, 7, 8, 8, 9, 9, 10, 10, 10, 10, 11, 11, 12, 12, 12, 12, 12, 12, 12, 12, 12, 12, 12, 12, 13, 13, 13, 13, 13, 13, 13, 13, 13, 15, 15, 15, 15],\n",
    "                   'text': [\"Рабочая документация разработана на основании:\",\n",
    "                            \"- поручения от 28.02.2020 № АГЛ-35/0362\",\n",
    "                            \"- письма от 05.03.2020 № УПиН-35/0431\",\n",
    "                            \"- рекомендаций, выполненного специалистами \\\"АО МАГНИТОГОРСКИЙ ГИПРОМЕЗ\\\"\",\n",
    "                            \"Рабочая документация разработана в соответствии с техническими условиями, требованиями действующих технических регламентов, стандартов, сводов правил и других документов, содержащих установленные требования.\",\n",
    "                            \"Перечень технических регламентов и нормативных документов, в соответствии с требованиями которых разработана рабочая документация\",\n",
    "                            \"- Федеральный закон от 30.12.2009 № 384-ФЗ \\\"Технический регламент о безопасности зданий и сооружений\\\"\",\n",
    "                            \"- Федеральный закон от 22.07.2008 № 123-ФЗ \\\"Технический регламент о требованиях пожарной безопасности\\\"\",\n",
    "                            \"- СП 16.13330.2017 \\\"Стальные конструкции. Актуализированная редакция СНиП II-23-81*\\\"\",\n",
    "                            \"- СП 20.13330.2016 \\\"Нагрузки и воздействия. Актуализированная редакция СНиП 2.01.07-85*\\\"\",\n",
    "                            \"- СП 28.13330.2017 \\\"Защита строительных конструкций от коррозии. Актуализированная редакция СНиП 2.03.11-85\\\"\",\n",
    "                            \"- СП 53-102-2004 \\\"Общие правила проектирования стальных конструкций\\\"\",\n",
    "                            \"- СП 70.13330.2012 \\\"Несущие и ограждающие конструкции. Актуализированная редакция СНиП 3.03.01-87\\\"\",\n",
    "                            \"- ГОСТ 23118-2012 \\\"Конструкции стальные строительные. Общие технические условия\\\"\",\n",
    "                            \"- ГОСТ 27751-2014 \\\"Надежность строительных конструкций и оснований. Основные положения\\\"\",\n",
    "                            \"- ГОСТ 9.402-2004 \\\"Единая система защиты от коррозии и старения (ЕСЗКС). Покрытия лакокрасочные. Подготовка металлических поверхностей к окрашиванию\\\"\",\n",
    "                            \"Высотные отметки абсолютные.\",\n",
    "                            \"Климатические условия\",\n",
    "                            \"- климатический район - IB\",\n",
    "                            \"- расчетная температура наружного воздуха наиболее холодных суток обеспеченностью 0,98 - минус 43 °C\",\n",
    "                            \"- нормативное значение веса снегового покрова на 1 м^2 горизонтальной поверхности земли для г. Магнитогорска (согласно СП 20.13330-2016, приложение K, табл. K1) - 1,3 кПа (130 кг/м^2)\",\n",
    "                            \"- нормативное значение ветрового давления для II района (согласно СП 20.13330-2016, п. 11.14, табл. 11.1) - 0,30 кПа (30 кг/м^2)\",\n",
    "                            \"- зона влажности - сухая\",\n",
    "                            \"- расчетная сейсмическая активность - 5 баллов\",\n",
    "                            \"Конструктивные решения\",\n",
    "                            \"# Чертежи марки \\\"КМ\\\" являются исходным материалом для разработки деталировочных чертежей марки \\\"КМД\\\"\",\n",
    "                            \"# В данной рабочей документации разработано восстановление пролетных строений (усиление ферм пролетных строений, металлоконструкций по верхним и нижним поясам ферм) и восстановление антикоррозионного покрытия существующих элементов пролетных строений галереи конвейера № 706-1 УУК и КДИ аглоцеха ГОП ПАО \\\"ММК\\\"\",\n",
    "                            \"# Все работы должны выполняться специализированной организацией, имеющей свидетельство СРО на данный вид деятельности и имеющие допуск по электробезопасности\",\n",
    "                            \"# Работы производить по специально разработанному и согласованному в установленном порядке со всеми инспектирующими организациями и эксплуатацией цеха проекту производства работ (ППР) с соблюдением требований действующих нормативных документов и обязательным учетом фактического состояния существующих конструкций\",\n",
    "                            \"# При выполнении работ принять меры по обеспечению целостности и сохранности существующих сооружений и коммуникаций, находящихся в зоне производства работ\",\n",
    "                            \"# При производстве сварочных работ предусмотреть комплекс организационно-технических мероприятий по обеспечению пожарной безопасности\",\n",
    "                            \"# На всех этапах ведения демонтажных и монтажных работ обеспечить устойчивость и неизменяемость положения существующих конструкций\",\n",
    "                            \"# Перед началом работ необходимо выполнить очистку конструкций в зоне ремонта от мусора, грязи, технологической пыли\",\n",
    "                            \"# Исполнитель несет ответственность за соответствие выполненных работ чертежам. Всякое отступление от чертежей при производстве работ должно быть согласовано с организацией-разработчиком данной рабочей документации\",\n",
    "                            \"Характеристики конструкций\",\n",
    "                            \"- коэффициент надежности по ответственности - {}\",\n",
    "                            \"- степень агрессивного воздействия среды - {}\",\n",
    "                            \"- расчетная температура эксплуатации - {}\",\n",
    "                            \"Материал конструкций\",\n",
    "                            \"Марки сталей элементов конструкций приняты в зависимости от группы конструкций с учетом расчетной температуры и приведены в таблицах \\\"Ведомость элементов\\\", на схемах расположения элементов конструкций, на чертежах элементов и узлов конструкций и в спецификации металлопроката\",\n",
    "                            \"Указания по разработке КМД и ППР\",\n",
    "                            \"Отступления от рабочих чертежей КМ не допускаются. В случае необходимости эти отступления должны быть согласованы с организацией-разработчиком рабочих чертежей марки \\\"КМ\\\"\",\n",
    "                            \"Указания по изготовлению и монтажу металлоконструкций\",\n",
    "                            \"# Изготовление металлоконструкций производить в соответствии с требованиями ГОСТ 23118-2012, СП 53-101-98 \\\"Изготовление и контроль качества стальных строительных конструкций\\\", указаниями в чертежах марки \\\"КМ\\\"\",\n",
    "                            \"# Монтаж металлоконструкций производить в соответствии с требованиями СП 70.13330.2012 \\\"Несущие и ограждающие конструкции. Актуализированная редакция СНиП 3.03.01-87\\\", СНИП 12-04-2002 \\\"Безопасность труда в строительстве. Часть 2. Строительное производство\\\" и указаниями в чертежах марки \\\"КМ\\\"\",\n",
    "                            \"# Отклонения металлоконструкций при изготовлении и монтаже не должны превышать предельных значений, указанных в СП 53-101-98, СП 70.13330.2012 и в чертежах марки \\\"КМ\\\" данного основного комплекта\",\n",
    "                            \"Крепление элементов\",\n",
    "                            \"Минимальное усилие для расчетного прикрепления элементов - 5 тс\",\n",
    "                            \"Соединение элементов металлоконструкций\",\n",
    "                            \"- сварные\",\n",
    "                            \"- на болтах нормальной точности по ГОСТ Р ИСО 4014-2013\",\n",
    "                            \"# Материалы для сварки принимать по таблице Г.1 СП 16.13330.2017 в зависимости от марок стали свариваемых элементов\",\n",
    "                            \"# Монтажные швы выполнять ручной сваркой ГОСТ 9467-75 \\\"Электроды покрытые металлические для ручной дуговой сварки конструкционных и теплоустойчивых сталей. Типы\\\":\\nДля сталей C245 сварку производить электродами типа 342A\",\n",
    "                            \"# Применение прерывистых швов не допускается\",\n",
    "                            \"# Контроль качества монтажных сварных соединений должен осуществляться в соответствии с требованиями п. 10.4 СП 70.13330.2012\",\n",
    "                            \"# Болты класса точности B (нормальной точности) M20 приняты по ГОСТ Р ИСО 4014-2013 \\\"Болты с шестигранной головкой. Классы точности A и B\\\", класса прочности 8.8 по ГОСТ ISO 898-1-2014 \\\"Механические свойства крепежных изделий из углеродистых и легированных сталей. Часть 1. Болты, винты и шпильки установленных классов прочности с крупным и мелким шагом резьбы\\\"\",\n",
    "                            \"# Гайки тип 1 класса точности B приняты по ГОСТ ISO 4032-2014. При работе болтов на срез и растяжение класс прочности гаек принят в соответствии с классом прочности болтов: 5 - при 5.6\",\n",
    "                            \"Шайбы приняты круглые по ГОСТ 11371-78 исполнения 1 класса точности A\",\n",
    "                            \"Для болтов класса точности B диаметр отверстий в конструкциях, работающих на срез и смятие, принят d=dв+2\",\n",
    "                            \"В расчетных соединениях для болтов класса точности B разность номинальных диаметров отверстий и болтов не должна превышать 3 мм с учетом предельных отклонений диаметра отверстия и их овальности 0; +0,6; и 0; +1,0 по табл. 2 ГОСТ 23118-2012\",\n",
    "                            \"Антикоррозионная защита\",\n",
    "                            \"# Антикоррозионная защита запроектирована в соответствии с требованиями СП 28.13330.2017 \\\"Защита строительных конструкций от коррозии\\\"\",\n",
    "                            \"# Антикоррозионную защиту производить в соответствии с требованиями СП 72.13330.2016 \\\"Защита строительных конструкций и сооружений от коррозии. СНиП 3.04.03-85\\\" и ГОСТ 12.3.005-75 \\\"Система стандартов безопасности труда (ССБТ). Работы окрасочные. Общие требования безопасности\\\"\",\n",
    "                            \"# Подготовка поверхностей перед окраской должна осуществляться в соответствии с требованиями ГОСТ 9.402-2004 путем удаления ржавчины и прокатной окалины с помощью ручного или механизированного абразивного инструмента и очистки жировых и прочих загрязнений с помощью волосяных кистей или ветоши, смоченных в уайт-спирите. Перед нанесением антикоррозионного покрытия поверхности конструкций обеспылить\",\n",
    "                            \"# Защита металлоконструкций от коррозии осуществляется окраской лакокрасочными материалами группы III: эмалью XB-7141 по ТУ 2313-016-75351875-2005 в 4 слоя по 2 слоям грунтовки XC-010 по ТУ 6-21-7-89\",\n",
    "                            \"Общая толщина покрытия - 160 мкм\",\n",
    "                            \"Степень очистки поверхности стальных конструкций от окислов перед окраской - 2 по ГОСТ 9.402-2004\",\n",
    "                            \"Допускается замена лакокрасочных материалов на сертифицированные материалы с аналогичными техническими характеристиками\",\n",
    "                            \"Цвет окраски антикоррозионного покрытия принимать в соответствии с цветом окраски существующих конструкций\",\n",
    "                            \"Перечень видов работ, на которые должны быть составлены акты освидетельствования скрытых работ:\",\n",
    "                            \"- подготовка поверхности металлоконструкций под окраску\",\n",
    "                            \"- приемка грунтовочного слоя антикоррозионного покрытия\",\n",
    "                            \"- визуальный контроль качества сварных швов\"],\n",
    "                   'order_num': [1, 2, 3, 4, 1, 1, 2, 3, 4, 5, 6, 7, 8, 9, 10, 11, 1, 1, 2, 3, 4, 5, 6, 7, 1, 2, 3, 4, 5, 6, 7, 8, 9, 10, 1, 2, 3, 4, 1, 2, 1, 2, 1, 2, 3, 4, 1, 2, 1, 2, 3, 4, 5, 6, 7, 8, 9, 10, 11, 12, 1, 2, 3, 4, 5, 6, 7, 8, 9, 1, 2, 3, 4]})"
   ]
  },
  {
   "cell_type": "code",
   "execution_count": 1105,
   "metadata": {},
   "outputs": [],
   "source": [
    "df.insert(0, 'id', range(1, len(df) + 1))"
   ]
  },
  {
   "cell_type": "code",
   "execution_count": 1106,
   "metadata": {},
   "outputs": [],
   "source": [
    "cursor.execute(open(\"sql_server/35_2.sql\", \"r\").read())\n",
    "conn.commit()"
   ]
  },
  {
   "cell_type": "code",
   "execution_count": 1107,
   "metadata": {
    "scrolled": true
   },
   "outputs": [],
   "source": [
    "execute_values(df, \"general_data_points\")"
   ]
  },
  {
   "cell_type": "markdown",
   "metadata": {},
   "source": [
    "<h1>Название организации</h1>"
   ]
  },
  {
   "cell_type": "code",
   "execution_count": 1108,
   "metadata": {},
   "outputs": [],
   "source": [
    "df = pd.DataFrame({'model': [\"Акционерное общество\"], 'name': ['\"Магнитогорский институт по проектированию металлургических заводов\"'], 'short_name': ['АО \"МАГНИТОГОРСКИЙ ГИПРОМЕЗ\"']})"
   ]
  },
  {
   "cell_type": "code",
   "execution_count": 1109,
   "metadata": {},
   "outputs": [],
   "source": [
    "cursor.execute(open(\"sql_server/org.sql\", \"r\").read())\n",
    "conn.commit()"
   ]
  },
  {
   "cell_type": "code",
   "execution_count": 1110,
   "metadata": {},
   "outputs": [],
   "source": [
    "execute_values(df, \"organization_name\", False)"
   ]
  },
  {
   "cell_type": "code",
   "execution_count": 1111,
   "metadata": {},
   "outputs": [],
   "source": [
    "conn.close()"
   ]
  },
  {
   "cell_type": "code",
   "execution_count": null,
   "metadata": {},
   "outputs": [],
   "source": []
  }
 ],
 "metadata": {
  "kernelspec": {
   "display_name": "Python 3",
   "language": "python",
   "name": "python3"
  },
  "language_info": {
   "codemirror_mode": {
    "name": "ipython",
    "version": 3
   },
   "file_extension": ".py",
   "mimetype": "text/x-python",
   "name": "python",
   "nbconvert_exporter": "python",
   "pygments_lexer": "ipython3",
   "version": "3.8.5"
  }
 },
 "nbformat": 4,
 "nbformat_minor": 4
}
