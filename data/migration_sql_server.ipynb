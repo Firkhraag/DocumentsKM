{
 "cells": [
  {
   "cell_type": "markdown",
   "metadata": {},
   "source": [
    "<h1>Импорты</h1>"
   ]
  },
  {
   "cell_type": "code",
   "execution_count": 1077,
   "metadata": {},
   "outputs": [],
   "source": [
    "import pandas as pd\n",
    "import numpy as np\n",
    "import pyodbc\n",
    "import random\n",
    "import math\n",
    "from sklearn.preprocessing import OrdinalEncoder\n",
    "from datetime import datetime"
   ]
  },
  {
   "cell_type": "code",
   "execution_count": 1078,
   "metadata": {},
   "outputs": [],
   "source": [
    "# Connect to old database\n",
    "db_conn = pyodbc.connect('Driver={SQL Server};'\n",
    "                      'Server=BAMBI;'\n",
    "                      'Database=Pro_t;'\n",
    "                      'Trusted_Connection=yes;')"
   ]
  },
  {
   "cell_type": "code",
   "execution_count": 1079,
   "metadata": {},
   "outputs": [
    {
     "name": "stdout",
     "output_type": "stream",
     "text": [
      "Connection successful\n"
     ]
    }
   ],
   "source": [
    "# Connect to new database\n",
    "try:\n",
    "    conn = pyodbc.connect('Driver={SQL Server};'\n",
    "                      'Server=BAMBI;'\n",
    "                      'Database=DocumentsKM;'\n",
    "                      'Trusted_Connection=yes;')\n",
    "    cursor = conn.cursor()\n",
    "except Exception as err:\n",
    "    cursor = None\n",
    "    print(\"Connection error:\", err)\n",
    "    \n",
    "# Check if the connection was valid\n",
    "if cursor != None:\n",
    "    print(\"Connection successful\")"
   ]
  },
  {
   "cell_type": "code",
   "execution_count": 1080,
   "metadata": {},
   "outputs": [],
   "source": [
    "def to_pascal_case(snake_str):\n",
    "    components = snake_str.split('_')\n",
    "    return components[0].title() + ''.join(x.title() for x in components[1:])"
   ]
  },
  {
   "cell_type": "code",
   "execution_count": 1081,
   "metadata": {},
   "outputs": [],
   "source": [
    "def execute_values(df, table_snake_case, has_dentity=True):\n",
    "    df.columns = map(to_pascal_case, df.columns)\n",
    "    df = df.replace({False: 0, True: 1})\n",
    "    table = to_pascal_case(table_snake_case)\n",
    "    if has_dentity:\n",
    "        cursor.execute(f\"SET IDENTITY_INSERT dbo.{table} ON\")\n",
    "    tuples = [tuple(x) for x in df.to_numpy()]\n",
    "    cols = ','.join(list(df.columns))\n",
    "    for entry in tuples:\n",
    "        query  = \"insert into dbo.%s(%s) values (\" % (table, cols)\n",
    "        num = 1\n",
    "        entry_list = []\n",
    "        for e in entry:\n",
    "            if num == len(entry):\n",
    "                query += \"?\"\n",
    "            else:\n",
    "                query += \"?, \"\n",
    "            num += 1\n",
    "#             print(e)\n",
    "            if (not isinstance(e, str)) and (not isinstance(e, bool)) and (not (e is None)) and (not (type(e) is pd.Timestamp)) and math.isnan(e):\n",
    "                entry_list.append(None)\n",
    "            else:\n",
    "                entry_list.append(e)\n",
    "        query += \")\"\n",
    "#         print(query)\n",
    "#         print(*entry_list)\n",
    "        cursor.execute(query, *entry_list)\n",
    "    if has_dentity:\n",
    "        cursor.execute(f\"SET IDENTITY_INSERT dbo.{table} OFF\")\n",
    "    conn.commit()"
   ]
  },
  {
   "cell_type": "markdown",
   "metadata": {},
   "source": [
    "To delete:\n",
    "    1) Select Tables\n",
    "    2) Press F7\n",
    "    3) Select tables\n",
    "    4) Delete them till it's done"
   ]
  },
  {
   "cell_type": "markdown",
   "metadata": {},
   "source": [
    "<h1>Должности</h1>"
   ]
  },
  {
   "cell_type": "code",
   "execution_count": 1082,
   "metadata": {},
   "outputs": [],
   "source": [
    "df = pd.read_json('post.json')"
   ]
  },
  {
   "cell_type": "code",
   "execution_count": 1083,
   "metadata": {},
   "outputs": [],
   "source": [
    "df[\"name\"] = df[\"name\"].str.strip()"
   ]
  },
  {
   "cell_type": "code",
   "execution_count": 1084,
   "metadata": {},
   "outputs": [],
   "source": [
    "cursor.execute(open(\"sql_server/25.sql\", \"r\").read())\n",
    "conn.commit()"
   ]
  },
  {
   "cell_type": "code",
   "execution_count": 1085,
   "metadata": {},
   "outputs": [],
   "source": [
    "execute_values(df, \"positions\", False)"
   ]
  },
  {
   "cell_type": "markdown",
   "metadata": {},
   "source": [
    "<h1>Отделы</h1>"
   ]
  },
  {
   "cell_type": "code",
   "execution_count": 1086,
   "metadata": {},
   "outputs": [],
   "source": [
    "df = pd.read_json('department.json')"
   ]
  },
  {
   "cell_type": "code",
   "execution_count": 1087,
   "metadata": {},
   "outputs": [],
   "source": [
    "df = df[df[\"enable\"]]"
   ]
  },
  {
   "cell_type": "code",
   "execution_count": 1088,
   "metadata": {},
   "outputs": [],
   "source": [
    "df[\"name\"] = df[\"name\"].str.strip()\n",
    "df[\"reduction\"] = df[\"reduction\"].str.strip()"
   ]
  },
  {
   "cell_type": "code",
   "execution_count": 1089,
   "metadata": {},
   "outputs": [],
   "source": [
    "df.loc[62, \"name\"] = \"Строительный отдел №1-а\"\n",
    "df.loc[64, \"name\"] = \"Строительный отдел №1-б\""
   ]
  },
  {
   "cell_type": "code",
   "execution_count": 1090,
   "metadata": {},
   "outputs": [],
   "source": [
    "df = df.drop([\"enable\"], axis=1)"
   ]
  },
  {
   "cell_type": "code",
   "execution_count": 1091,
   "metadata": {},
   "outputs": [],
   "source": [
    "df = df.rename(columns={\"id\" : \"code\",\n",
    "                        \"reduction\": \"short_name\"\n",
    "                       })"
   ]
  },
  {
   "cell_type": "code",
   "execution_count": 1092,
   "metadata": {},
   "outputs": [],
   "source": [
    "df.insert(0, 'id', range(1, len(df) + 1))"
   ]
  },
  {
   "cell_type": "code",
   "execution_count": 1093,
   "metadata": {},
   "outputs": [],
   "source": [
    "df.loc[:, [\"id\", \"code\"]].to_csv(\"departments.csv\")"
   ]
  },
  {
   "cell_type": "code",
   "execution_count": 1094,
   "metadata": {},
   "outputs": [],
   "source": [
    "cursor.execute(open(\"sql_server/30.sql\", \"r\").read())\n",
    "conn.commit()"
   ]
  },
  {
   "cell_type": "code",
   "execution_count": 1095,
   "metadata": {},
   "outputs": [],
   "source": [
    "execute_values(df, \"departments\")"
   ]
  },
  {
   "cell_type": "markdown",
   "metadata": {},
   "source": [
    "<h1>Исполнители</h1>"
   ]
  },
  {
   "cell_type": "code",
   "execution_count": 1096,
   "metadata": {},
   "outputs": [],
   "source": [
    "df = pd.read_json('staff.json')"
   ]
  },
  {
   "cell_type": "code",
   "execution_count": 1097,
   "metadata": {},
   "outputs": [],
   "source": [
    "df_dep = df['department'].apply(pd.Series)"
   ]
  },
  {
   "cell_type": "code",
   "execution_count": 1098,
   "metadata": {},
   "outputs": [],
   "source": [
    "df_dep = df_dep.drop([\"name\", \"reduction\", \"enable\"], axis=1)"
   ]
  },
  {
   "cell_type": "code",
   "execution_count": 1099,
   "metadata": {},
   "outputs": [],
   "source": [
    "df_dep = df_dep.rename(columns={\"id\": \"code\"})"
   ]
  },
  {
   "cell_type": "code",
   "execution_count": 1100,
   "metadata": {},
   "outputs": [],
   "source": [
    "dep = pd.read_csv(\"departments.csv\")\n",
    "dep = dep.drop([\"Unnamed: 0\"], axis=1)"
   ]
  },
  {
   "cell_type": "code",
   "execution_count": 1101,
   "metadata": {},
   "outputs": [],
   "source": [
    "for index, row in df_dep.iterrows():\n",
    "    try:\n",
    "        df_dep.loc[index, \"department_id\"] = dep.loc[dep[\"code\"] == row[\"code\"], \"id\"].values[0]\n",
    "    except:\n",
    "        df_dep.loc[index, \"department_id\"] = None"
   ]
  },
  {
   "cell_type": "code",
   "execution_count": 1102,
   "metadata": {},
   "outputs": [],
   "source": [
    "df_dep = df_dep.drop([\"code\"], axis=1)"
   ]
  },
  {
   "cell_type": "code",
   "execution_count": 1103,
   "metadata": {},
   "outputs": [],
   "source": [
    "df[\"department_id\"] = df_dep"
   ]
  },
  {
   "cell_type": "code",
   "execution_count": 1104,
   "metadata": {},
   "outputs": [],
   "source": [
    "df_post = df['post'].apply(pd.Series)"
   ]
  },
  {
   "cell_type": "code",
   "execution_count": 1105,
   "metadata": {},
   "outputs": [],
   "source": [
    "df_post = df_post.drop([\"name\"], axis=1)"
   ]
  },
  {
   "cell_type": "code",
   "execution_count": 1106,
   "metadata": {},
   "outputs": [],
   "source": [
    "df_post = df_post.rename(columns={\"id\": \"position_id\"})"
   ]
  },
  {
   "cell_type": "code",
   "execution_count": 1107,
   "metadata": {},
   "outputs": [],
   "source": [
    "df[\"position_id\"] = df_post"
   ]
  },
  {
   "cell_type": "code",
   "execution_count": 1108,
   "metadata": {},
   "outputs": [],
   "source": [
    "df = df.drop([\"tableNumber\", \"userName\", \"createdDate\", \"dismissedDate\", \"vacation\", \"post\", \"department\"], axis=1)"
   ]
  },
  {
   "cell_type": "code",
   "execution_count": 1109,
   "metadata": {},
   "outputs": [],
   "source": [
    "df = df.dropna()"
   ]
  },
  {
   "cell_type": "code",
   "execution_count": 1110,
   "metadata": {},
   "outputs": [],
   "source": [
    "df[\"name\"] = df[\"fullName\"].str.partition().loc[:, 0]"
   ]
  },
  {
   "cell_type": "code",
   "execution_count": 1111,
   "metadata": {},
   "outputs": [],
   "source": [
    "df.loc[3078, \"name\"] = \"ОАО МАГНИТОГОРСКИЙ ГИПРОМЕЗ\""
   ]
  },
  {
   "cell_type": "code",
   "execution_count": 1112,
   "metadata": {},
   "outputs": [],
   "source": [
    "df[\"id\"].to_csv(\"employee_ids.csv\")"
   ]
  },
  {
   "cell_type": "code",
   "execution_count": 1113,
   "metadata": {},
   "outputs": [],
   "source": [
    "cursor.execute(open(\"sql_server/26.sql\", \"r\").read())\n",
    "conn.commit()"
   ]
  },
  {
   "cell_type": "code",
   "execution_count": 1114,
   "metadata": {},
   "outputs": [],
   "source": [
    "execute_values(df, \"employees\", False)"
   ]
  },
  {
   "cell_type": "markdown",
   "metadata": {},
   "source": [
    "<h1>Пользователи</h1>"
   ]
  },
  {
   "cell_type": "code",
   "execution_count": 1115,
   "metadata": {},
   "outputs": [],
   "source": [
    "df = pd.DataFrame({'id': [1, 2], 'login': [\"1\", \"2\"], 'password': [\"1\", \"2\"], 'employee_id': [5, 6]})"
   ]
  },
  {
   "cell_type": "code",
   "execution_count": 1116,
   "metadata": {},
   "outputs": [],
   "source": [
    "cursor.execute(open(\"sql_server/xx_users.sql\", \"r\").read())\n",
    "conn.commit()"
   ]
  },
  {
   "cell_type": "code",
   "execution_count": 1117,
   "metadata": {},
   "outputs": [],
   "source": [
    "execute_values(df, \"users\")"
   ]
  },
  {
   "cell_type": "markdown",
   "metadata": {},
   "source": [
    "<h1>Значения по умолчанию</h1>"
   ]
  },
  {
   "cell_type": "code",
   "execution_count": 1118,
   "metadata": {},
   "outputs": [],
   "source": [
    "df = pd.DataFrame({'user_id': [1, 2], 'department_id': [None, None], 'creator_id': [5, 6], 'inspector_id': [None, None], 'norm_contr_id': [None, None]})"
   ]
  },
  {
   "cell_type": "code",
   "execution_count": 1119,
   "metadata": {},
   "outputs": [],
   "source": [
    "cursor.execute(open(\"sql_server/xx_default.sql\", \"r\").read())\n",
    "conn.commit()"
   ]
  },
  {
   "cell_type": "code",
   "execution_count": 1120,
   "metadata": {},
   "outputs": [],
   "source": [
    "execute_values(df, \"default_values\", False)"
   ]
  },
  {
   "cell_type": "markdown",
   "metadata": {},
   "source": [
    "<h1>Условия эксплуатации</h1>"
   ]
  },
  {
   "cell_type": "code",
   "execution_count": 1121,
   "metadata": {},
   "outputs": [],
   "source": [
    "df1 = pd.DataFrame({'id': [1, 2, 3, 4], 'name': [\"неагрессивная\", \"слабоагрессивная\", \"среднеагрессивная\", \"сильноагрессивная\"]})"
   ]
  },
  {
   "cell_type": "code",
   "execution_count": 1122,
   "metadata": {},
   "outputs": [],
   "source": [
    "df2 = pd.DataFrame({'id': [1, 2, 3], 'name': [\"внутри помещения\", \"снаружи помещения\", \"в жидкостях\"]})"
   ]
  },
  {
   "cell_type": "code",
   "execution_count": 1123,
   "metadata": {},
   "outputs": [],
   "source": [
    "df3 = pd.DataFrame({'id': [1, 2, 3, 4, 5], 'name': [\"нет газов (вода)\", \"газы группы А (кислоты)\", \"газы группы B, C и D (щелочи)\", \"бензин\", \"масло\"]})"
   ]
  },
  {
   "cell_type": "code",
   "execution_count": 1124,
   "metadata": {},
   "outputs": [],
   "source": [
    "df4 = pd.DataFrame({'id': [1, 2, 3, 4], 'name': [\"сталь без покрытия\", \"оцинкованная сталь\", \"сталь горячего цинкования\", \"сталь с газотермическим напылением цинка\"]})"
   ]
  },
  {
   "cell_type": "code",
   "execution_count": 1125,
   "metadata": {},
   "outputs": [],
   "source": [
    "df5 = pd.DataFrame({'id': [1, 2, 3, 4, 5, 6, 7, 8, 9, 10, 11, 12, 13, 14, 15, 16, 17], 'name': [\"ПФ\", \"АУ\", \"ЭЭ\", \"МА\", \"МБ\", \"НЦ\", \"ФФ\", \"ПА\", \"ПЭ\", \"ПБ\", \"ПВ\", \"СВ\", \"ПУ\", \"ЭП\", \"ПС\", \"КО\", \"АЦ\"]})"
   ]
  },
  {
   "cell_type": "code",
   "execution_count": 1126,
   "metadata": {},
   "outputs": [],
   "source": [
    "df6 = pd.DataFrame({'id': [1, 2, 3, 4], 'name': [\"отсутствуют\", \"сдвигоустойчивые соединения\", \"фланцевые соединения\", \"сдвигоустойчивые и фланцевые соединения\"]})"
   ]
  },
  {
   "cell_type": "code",
   "execution_count": 1127,
   "metadata": {},
   "outputs": [],
   "source": [
    "df5.loc[:, [\"id\", \"name\"]].to_csv(\"paintwork.csv\")"
   ]
  },
  {
   "cell_type": "code",
   "execution_count": 1128,
   "metadata": {},
   "outputs": [],
   "source": [
    "cursor.execute(open(\"sql_server/y_1.sql\", \"r\").read())\n",
    "cursor.execute(open(\"sql_server/y_2.sql\", \"r\").read())\n",
    "cursor.execute(open(\"sql_server/y_3.sql\", \"r\").read())\n",
    "cursor.execute(open(\"sql_server/y_4.sql\", \"r\").read())\n",
    "cursor.execute(open(\"sql_server/y_5.sql\", \"r\").read())\n",
    "cursor.execute(open(\"sql_server/y_6.sql\", \"r\").read())\n",
    "conn.commit()"
   ]
  },
  {
   "cell_type": "code",
   "execution_count": 1129,
   "metadata": {},
   "outputs": [],
   "source": [
    "execute_values(df1, \"env_aggressiveness\")\n",
    "execute_values(df2, \"operating_areas\")\n",
    "execute_values(df3, \"gas_groups\")\n",
    "execute_values(df4, \"construction_materials\")\n",
    "execute_values(df5, \"paintwork_types\")\n",
    "execute_values(df6, \"high_tensile_bolts_types\")"
   ]
  },
  {
   "cell_type": "markdown",
   "metadata": {},
   "source": [
    "<h1>Стойкость лакокрасочных покрытий</h1>"
   ]
  },
  {
   "cell_type": "code",
   "execution_count": 1130,
   "metadata": {},
   "outputs": [],
   "source": [
    "df = pd.DataFrame({'id': [1, 2, 3, 4, 5, 6, 7, 8, 9], 'name': [\"П\", \"А\", \"Х\", \"В\", \"Б\", \"М\", \"ХЩ\", \"ХК\", \"Т\"]})"
   ]
  },
  {
   "cell_type": "code",
   "execution_count": 1131,
   "metadata": {},
   "outputs": [],
   "source": [
    "df.loc[:, [\"id\", \"name\"]].to_csv(\"paintwork_fastness.csv\")"
   ]
  },
  {
   "cell_type": "code",
   "execution_count": 1132,
   "metadata": {},
   "outputs": [],
   "source": [
    "cursor.execute(open(\"sql_server/y_7.sql\", \"r\").read())\n",
    "conn.commit()"
   ]
  },
  {
   "cell_type": "code",
   "execution_count": 1133,
   "metadata": {},
   "outputs": [],
   "source": [
    "execute_values(df, \"paintwork_fastness\")"
   ]
  },
  {
   "cell_type": "markdown",
   "metadata": {},
   "source": [
    "<h1>Контроль сварки</h1>"
   ]
  },
  {
   "cell_type": "code",
   "execution_count": 1134,
   "metadata": {},
   "outputs": [],
   "source": [
    "df = pd.DataFrame({'Id': [1, 2, 3, 4], 'Name': [\"не требуется\", \"опрыскиванием керосином\", \"ультразвуком\", \"гамма-излучением\"]})"
   ]
  },
  {
   "cell_type": "code",
   "execution_count": 1135,
   "metadata": {},
   "outputs": [],
   "source": [
    "cursor.execute(open(\"sql_server/yy_1.sql\", \"r\").read())\n",
    "conn.commit()"
   ]
  },
  {
   "cell_type": "code",
   "execution_count": 1136,
   "metadata": {},
   "outputs": [],
   "source": [
    "execute_values(df, \"WeldingControl\")"
   ]
  },
  {
   "cell_type": "markdown",
   "metadata": {},
   "source": [
    "<h1>Типы документов</h1>"
   ]
  },
  {
   "cell_type": "code",
   "execution_count": 1137,
   "metadata": {},
   "outputs": [],
   "source": [
    "df = pd.DataFrame({'id': [1, 2, 3, 4, 5], 'code': [\"л.\", \"СМ\", \"ВМП\", \"СМС\", \"РР\"], 'name': [\"Листы основного комплекта\", \"Спецификация металлопроката\", \"Ведомость металлоконструкций по видам профилей\", \"Сводная спецификация металлопроката\", \"Расчет металлоконструкций\"]})"
   ]
  },
  {
   "cell_type": "code",
   "execution_count": 1138,
   "metadata": {},
   "outputs": [],
   "source": [
    "cursor.execute(open(\"sql_server/x.sql\", \"r\").read())\n",
    "conn.commit()"
   ]
  },
  {
   "cell_type": "code",
   "execution_count": 1139,
   "metadata": {},
   "outputs": [],
   "source": [
    "execute_values(df, \"doc_types\")"
   ]
  },
  {
   "cell_type": "markdown",
   "metadata": {},
   "source": [
    "<h1>Грунтовка</h1>"
   ]
  },
  {
   "cell_type": "code",
   "execution_count": 1140,
   "metadata": {},
   "outputs": [],
   "source": [
    "df = pd.read_sql_query('SELECT * FROM Pro_t.dbo.Грунт_аз', db_conn)"
   ]
  },
  {
   "cell_type": "code",
   "execution_count": 1141,
   "metadata": {},
   "outputs": [],
   "source": [
    "df = df.replace(\"\", np.nan)"
   ]
  },
  {
   "cell_type": "code",
   "execution_count": 1142,
   "metadata": {},
   "outputs": [],
   "source": [
    "df[\"Приоритет\"] = df[\"Приоритет\"].map(lambda x: 0 if pd.isna(x) else x)"
   ]
  },
  {
   "cell_type": "code",
   "execution_count": 1143,
   "metadata": {},
   "outputs": [],
   "source": [
    "df = df.rename(columns={\"поз\": \"id\",\n",
    "                        \"Группа_гр\": \"group_num\",\n",
    "                        \"Наим_гр\": \"name\",\n",
    "                        \"Можно_гр\": \"can_be_primed\",\n",
    "                        \"Приоритет\": \"priority\"\n",
    "                       })"
   ]
  },
  {
   "cell_type": "code",
   "execution_count": 1144,
   "metadata": {},
   "outputs": [],
   "source": [
    "cursor.execute(open(\"sql_server/4.sql\", \"r\").read())\n",
    "conn.commit()"
   ]
  },
  {
   "cell_type": "code",
   "execution_count": 1145,
   "metadata": {},
   "outputs": [],
   "source": [
    "execute_values(df, \"primer\")"
   ]
  },
  {
   "cell_type": "markdown",
   "metadata": {},
   "source": [
    "<h1>Степени очистки антикоррозионной защиты</h1>"
   ]
  },
  {
   "cell_type": "code",
   "execution_count": 1146,
   "metadata": {},
   "outputs": [],
   "source": [
    "df = pd.read_sql_query('SELECT * FROM Pro_t.dbo.Степени_оч_аз', db_conn)"
   ]
  },
  {
   "cell_type": "code",
   "execution_count": 1147,
   "metadata": {},
   "outputs": [],
   "source": [
    "df[\"Наим_оч\"] = df[\"Наим_оч\"].str.strip()"
   ]
  },
  {
   "cell_type": "code",
   "execution_count": 1148,
   "metadata": {},
   "outputs": [],
   "source": [
    "df = df.rename(columns={\"Степень_оч\": \"id\",\n",
    "                        \"Наим_оч\": \"name\"\n",
    "                       })"
   ]
  },
  {
   "cell_type": "code",
   "execution_count": 1149,
   "metadata": {},
   "outputs": [],
   "source": [
    "cursor.execute(open(\"sql_server/44.sql\", \"r\").read())\n",
    "conn.commit()"
   ]
  },
  {
   "cell_type": "code",
   "execution_count": 1150,
   "metadata": {},
   "outputs": [],
   "source": [
    "execute_values(df, \"corr_prot_cleaning_degrees\")"
   ]
  },
  {
   "cell_type": "markdown",
   "metadata": {},
   "source": [
    "<h1>Варианты антикоррозионной защиты </h1>"
   ]
  },
  {
   "cell_type": "code",
   "execution_count": 1151,
   "metadata": {},
   "outputs": [],
   "source": [
    "df = pd.read_sql_query('SELECT * FROM Pro_t.dbo.Варианты_аз', db_conn)"
   ]
  },
  {
   "cell_type": "code",
   "execution_count": 1152,
   "metadata": {},
   "outputs": [],
   "source": [
    "df[\"Тип_лп\"] = df[\"Тип_лп\"].str.strip()\n",
    "df[\"Стойкость_лп\"] = df[\"Стойкость_лп\"].str.strip()"
   ]
  },
  {
   "cell_type": "code",
   "execution_count": 1153,
   "metadata": {},
   "outputs": [],
   "source": [
    "df = df.replace(\"\", np.nan)"
   ]
  },
  {
   "cell_type": "code",
   "execution_count": 1154,
   "metadata": {},
   "outputs": [],
   "source": [
    "df = df.drop_duplicates()"
   ]
  },
  {
   "cell_type": "code",
   "execution_count": 1155,
   "metadata": {},
   "outputs": [],
   "source": [
    "df = df.drop_duplicates(subset=[\"Зона_экс\", \"Группа_газов\", \"Агресс_ср\", \"Матер_к\", \"Тип_лп\", \"Группа_лп\", \"Стойкость_лп\"])"
   ]
  },
  {
   "cell_type": "code",
   "execution_count": 1156,
   "metadata": {},
   "outputs": [],
   "source": [
    "paintwork = pd.read_csv(\"paintwork.csv\")\n",
    "paintwork = paintwork.drop([\"Unnamed: 0\"], axis=1)"
   ]
  },
  {
   "cell_type": "code",
   "execution_count": 1157,
   "metadata": {},
   "outputs": [],
   "source": [
    "for index, row in df.iterrows():\n",
    "    try:\n",
    "        df.loc[index, \"paintwork_type_id\"] = paintwork.loc[paintwork[\"name\"] == row[\"Тип_лп\"], \"id\"].values[0]\n",
    "    except:\n",
    "        df.loc[index, \"paintwork_type_id\"] = None"
   ]
  },
  {
   "cell_type": "code",
   "execution_count": 1158,
   "metadata": {},
   "outputs": [],
   "source": [
    "paintwork_fastness = pd.read_csv(\"paintwork_fastness.csv\")\n",
    "paintwork_fastness = paintwork_fastness.drop([\"Unnamed: 0\"], axis=1)"
   ]
  },
  {
   "cell_type": "code",
   "execution_count": 1159,
   "metadata": {},
   "outputs": [],
   "source": [
    "for index, row in df.iterrows():\n",
    "    try:\n",
    "        df.loc[index, \"paintwork_fastness_id\"] = paintwork_fastness.loc[paintwork_fastness[\"name\"] == row[\"Стойкость_лп\"], \"id\"].values[0]\n",
    "    except:\n",
    "        df.loc[index, \"paintwork_fastness_id\"] = None"
   ]
  },
  {
   "cell_type": "code",
   "execution_count": 1160,
   "metadata": {},
   "outputs": [],
   "source": [
    "df = df.drop([\"Тип_лп\", \"Стойкость_лп\"], axis=1)"
   ]
  },
  {
   "cell_type": "code",
   "execution_count": 1161,
   "metadata": {},
   "outputs": [],
   "source": [
    "df[\"Группа_газов\"] += 1\n",
    "df[\"Агресс_ср\"] += 1\n",
    "df[\"Матер_к\"] += 1"
   ]
  },
  {
   "cell_type": "code",
   "execution_count": 1162,
   "metadata": {},
   "outputs": [],
   "source": [
    "df = df.rename(columns={\"Вариант\": \"id\",\n",
    "                        \"Зона_экс\": \"operating_area_id\",\n",
    "                        \"Группа_газов\": \"gas_group_id\",\n",
    "                        \"Агресс_ср\": \"env_aggressiveness_id\",\n",
    "                        \"Матер_к\": \"construction_material_id\",\n",
    "                        \"Группа_лп\": \"paintwork_group\",\n",
    "                        \"Кол_слоев_лп\": \"paintwork_num_of_layers\",\n",
    "                        \"Толщ_лпгр\": \"paintwork_primer_thickness\",\n",
    "                        \"Кол_слоев_гр\": \"primer_num_of_layers\",\n",
    "                        \"Степень_оч\": \"cleaning_degree_id\",\n",
    "                        \"Статус_аз\": \"status\"\n",
    "                       })"
   ]
  },
  {
   "cell_type": "code",
   "execution_count": 1163,
   "metadata": {},
   "outputs": [],
   "source": [
    "df = df.where(pd.notnull(df), None)"
   ]
  },
  {
   "cell_type": "code",
   "execution_count": 1164,
   "metadata": {},
   "outputs": [],
   "source": [
    "cursor.execute(open(\"sql_server/1.sql\", \"r\").read())\n",
    "conn.commit()"
   ]
  },
  {
   "cell_type": "code",
   "execution_count": 1165,
   "metadata": {},
   "outputs": [],
   "source": [
    "execute_values(df, \"corr_prot_variants\")"
   ]
  },
  {
   "cell_type": "markdown",
   "metadata": {},
   "source": [
    "<h1>Способы антикоррозионной защиты</h1>"
   ]
  },
  {
   "cell_type": "code",
   "execution_count": 1166,
   "metadata": {},
   "outputs": [],
   "source": [
    "df = pd.read_sql_query('SELECT * FROM Pro_t.dbo.Способы_аз', db_conn)"
   ]
  },
  {
   "cell_type": "code",
   "execution_count": 1167,
   "metadata": {},
   "outputs": [],
   "source": [
    "df[\"Наим_сп\"] = df[\"Наим_сп\"].str.strip()"
   ]
  },
  {
   "cell_type": "code",
   "execution_count": 1168,
   "metadata": {},
   "outputs": [],
   "source": [
    "df[\"Агресс_ср\"] += 1\n",
    "df[\"Матер_к\"] += 1"
   ]
  },
  {
   "cell_type": "code",
   "execution_count": 1169,
   "metadata": {},
   "outputs": [],
   "source": [
    "df.insert(0, 'id', range(1, len(df) + 1))"
   ]
  },
  {
   "cell_type": "code",
   "execution_count": 1170,
   "metadata": {},
   "outputs": [],
   "source": [
    "df = df.rename(columns={\"Агресс_ср\": \"env_aggressiveness_id\",\n",
    "                        \"Матер_к\": \"construction_material_id\",\n",
    "                        \"Наим_сп\": \"name\",\n",
    "                        \"Статус_сп\": \"status\"\n",
    "                       })"
   ]
  },
  {
   "cell_type": "code",
   "execution_count": 1171,
   "metadata": {},
   "outputs": [],
   "source": [
    "cursor.execute(open(\"sql_server/19.sql\", \"r\").read())\n",
    "conn.commit()"
   ]
  },
  {
   "cell_type": "code",
   "execution_count": 1172,
   "metadata": {},
   "outputs": [],
   "source": [
    "execute_values(df, \"corr_prot_methods\")"
   ]
  },
  {
   "cell_type": "markdown",
   "metadata": {},
   "source": [
    "<h1>Покрытия антикоррозионной защиты</h1>"
   ]
  },
  {
   "cell_type": "code",
   "execution_count": 1173,
   "metadata": {},
   "outputs": [],
   "source": [
    "df = pd.read_sql_query('SELECT * FROM Pro_t.dbo.Покрытия_аз', db_conn)"
   ]
  },
  {
   "cell_type": "code",
   "execution_count": 1174,
   "metadata": {},
   "outputs": [],
   "source": [
    "df = df.replace(\"\", None)"
   ]
  },
  {
   "cell_type": "code",
   "execution_count": 1175,
   "metadata": {},
   "outputs": [],
   "source": [
    "df[\"Тип_лп\"] = df[\"Тип_лп\"].str.strip()\n",
    "df[\"Стойкость_лп\"] = df[\"Стойкость_лп\"].str.strip()\n",
    "df[\"Наим_лп\"] = df[\"Наим_лп\"].str.strip()"
   ]
  },
  {
   "cell_type": "code",
   "execution_count": 1176,
   "metadata": {},
   "outputs": [],
   "source": [
    "df[\"Приоритет\"] = df[\"Приоритет\"].map(lambda x: 0 if pd.isna(x) else x)"
   ]
  },
  {
   "cell_type": "code",
   "execution_count": 1177,
   "metadata": {},
   "outputs": [],
   "source": [
    "df = df.drop_duplicates(subset=[\"Тип_лп\", \"Группа_лп\", \"Стойкость_лп\", \"Наим_лп\"])"
   ]
  },
  {
   "cell_type": "code",
   "execution_count": 1178,
   "metadata": {},
   "outputs": [],
   "source": [
    "paintwork = pd.read_csv(\"paintwork.csv\")\n",
    "paintwork = paintwork.drop([\"Unnamed: 0\"], axis=1)"
   ]
  },
  {
   "cell_type": "code",
   "execution_count": 1179,
   "metadata": {},
   "outputs": [],
   "source": [
    "for index, row in df.iterrows():\n",
    "    try:\n",
    "        df.loc[index, \"paintwork_type_id\"] = paintwork.loc[paintwork[\"name\"] == row[\"Тип_лп\"], \"id\"].values[0]\n",
    "    except:\n",
    "        df.loc[index, \"paintwork_type_id\"] = None"
   ]
  },
  {
   "cell_type": "code",
   "execution_count": 1180,
   "metadata": {},
   "outputs": [],
   "source": [
    "paintwork_fastness = pd.read_csv(\"paintwork_fastness.csv\")\n",
    "paintwork_fastness = paintwork_fastness.drop([\"Unnamed: 0\"], axis=1)"
   ]
  },
  {
   "cell_type": "code",
   "execution_count": 1181,
   "metadata": {},
   "outputs": [],
   "source": [
    "for index, row in df.iterrows():\n",
    "    try:\n",
    "        df.loc[index, \"paintwork_fastness_id\"] = paintwork_fastness.loc[paintwork_fastness[\"name\"] == row[\"Стойкость_лп\"], \"id\"].values[0]\n",
    "    except:\n",
    "        df.loc[index, \"paintwork_fastness_id\"] = None"
   ]
  },
  {
   "cell_type": "code",
   "execution_count": 1182,
   "metadata": {},
   "outputs": [],
   "source": [
    "df = df.drop([\"Тип_лп\", \"Стойкость_лп\"], axis=1)"
   ]
  },
  {
   "cell_type": "code",
   "execution_count": 1183,
   "metadata": {},
   "outputs": [],
   "source": [
    "df = df.rename(columns={\"Покрытие\": \"id\",\n",
    "                        \"Группа_лп\": \"paintwork_group\",\n",
    "                        \"Наим_лп\": \"name\",\n",
    "                        \"Кол_сл_лп\": \"paintwork_num_of_layers\",\n",
    "                        \"Группа_гр\": \"primer_group\",\n",
    "                        \"Можно_лп\": \"can_be_painted\",\n",
    "                        \"Приоритет\": \"priority\"\n",
    "                       })"
   ]
  },
  {
   "cell_type": "code",
   "execution_count": 1184,
   "metadata": {},
   "outputs": [],
   "source": [
    "df = df.where(pd.notnull(df), None)"
   ]
  },
  {
   "cell_type": "code",
   "execution_count": 1185,
   "metadata": {},
   "outputs": [],
   "source": [
    "cursor.execute(open(\"sql_server/17.sql\", \"r\").read())\n",
    "conn.commit()"
   ]
  },
  {
   "cell_type": "code",
   "execution_count": 1186,
   "metadata": {},
   "outputs": [],
   "source": [
    "execute_values(df, \"corr_prot_coatings\")"
   ]
  },
  {
   "cell_type": "markdown",
   "metadata": {},
   "source": [
    "<h1>Виды конструкций</h1>"
   ]
  },
  {
   "cell_type": "code",
   "execution_count": 1187,
   "metadata": {},
   "outputs": [],
   "source": [
    "df = pd.read_sql_query('SELECT * FROM Pro_t.dbo.Спр_видов_к', db_conn)"
   ]
  },
  {
   "cell_type": "code",
   "execution_count": 1188,
   "metadata": {},
   "outputs": [],
   "source": [
    "df[\"Имя_к\"] = df[\"Имя_к\"].str.strip()"
   ]
  },
  {
   "cell_type": "code",
   "execution_count": 1189,
   "metadata": {},
   "outputs": [],
   "source": [
    "df = df[df[\"Имя_к\"].isna() == False]"
   ]
  },
  {
   "cell_type": "code",
   "execution_count": 1190,
   "metadata": {},
   "outputs": [],
   "source": [
    "df = df.rename(columns={\"Шифр_к\": \"id\",\n",
    "                        \"Имя_к\": \"name\"\n",
    "                       })"
   ]
  },
  {
   "cell_type": "code",
   "execution_count": 1191,
   "metadata": {},
   "outputs": [],
   "source": [
    "df.loc[df[\"id\"] == 2, \"name\"] = \"Двухветвевые колонны одноэтажных производственных зданий и крановых эстакад\"\n",
    "df.loc[df[\"id\"] == 9, \"name\"] = \"Подкраново-подстропильные фермы\"\n",
    "df.loc[df[\"id\"] == 34, \"name\"] = \"Переплеты, витражи из профильных труб с деталями крепления\""
   ]
  },
  {
   "cell_type": "code",
   "execution_count": 1192,
   "metadata": {},
   "outputs": [],
   "source": [
    "cursor.execute(open(\"sql_server/22.sql\", \"r\").read())\n",
    "conn.commit()"
   ]
  },
  {
   "cell_type": "code",
   "execution_count": 1193,
   "metadata": {},
   "outputs": [],
   "source": [
    "execute_values(df, \"construction_types\")"
   ]
  },
  {
   "cell_type": "markdown",
   "metadata": {},
   "source": [
    "<h1>Подвиды конструкций</h1>"
   ]
  },
  {
   "cell_type": "code",
   "execution_count": 1194,
   "metadata": {},
   "outputs": [],
   "source": [
    "df = pd.read_sql_query('SELECT * FROM Pro_t.dbo.Спр_видов_пк', db_conn)"
   ]
  },
  {
   "cell_type": "code",
   "execution_count": 1195,
   "metadata": {},
   "outputs": [],
   "source": [
    "df[\"Имя_пк\"] = df[\"Имя_пк\"].str.strip()\n",
    "df[\"Расценка\"] = df[\"Расценка\"].str.strip()"
   ]
  },
  {
   "cell_type": "code",
   "execution_count": 1196,
   "metadata": {},
   "outputs": [],
   "source": [
    "df = df.drop_duplicates()"
   ]
  },
  {
   "cell_type": "code",
   "execution_count": 1197,
   "metadata": {},
   "outputs": [],
   "source": [
    "df = df.drop([\"Шифр_пк\"], axis=1)"
   ]
  },
  {
   "cell_type": "code",
   "execution_count": 1198,
   "metadata": {},
   "outputs": [],
   "source": [
    "df = df.rename(columns={\"Поз_пк\": \"id\",\n",
    "                        \"Шифр_к\": \"type_id\",\n",
    "                        \"Имя_пк\": \"name\",\n",
    "                        \"Расценка\": \"valuation\"\n",
    "                       })"
   ]
  },
  {
   "cell_type": "code",
   "execution_count": 1199,
   "metadata": {},
   "outputs": [],
   "source": [
    "df.loc[df[\"id\"] == 11, \"name\"] = \"высотой свыше 150 м, поставляемые отдельными элементами\"\n",
    "df.loc[df[\"id\"] == 14, \"name\"] = \"коробчатого сечения пролетом 12 м и более\"\n",
    "df.loc[df[\"id\"] == 33, \"name\"] = \"с шагом стропильных ферм 6 м\"\n",
    "df.loc[df[\"id\"] == 34, \"name\"] = \"с шагом стропильных ферм 12 м\"\n",
    "df.loc[df[\"id\"] == 49, \"name\"] = \"составного сечения из горячекатаных профилей, соединенных планками\"\n",
    "df.loc[df[\"id\"] == 51, \"name\"] = \"ветви из двутавров с парал. гранями полок, решетка из г/кат. уголков и швеллеров\"\n",
    "df.loc[df[\"id\"] == 52, \"name\"] = \"ветви из двутавров (ГОСТ 8239-72) или швеллеров и решетка из г/кат. уголков\"\n",
    "df.loc[df[\"id\"] == 69, \"name\"] = \"с поясами из тавров, стенкой из листовой стали, пролетом 6 м, массой 1 м,т:\"\n",
    "df.loc[df[\"id\"] == 70, \"name\"] = \"с поясами из тавров, стенкой из листовой стали, пролетом 12 м и более,т:\"\n",
    "df.loc[df[\"id\"] == 71, \"name\"] = \"из листовой стали пролетом 6 м, массой 1 м,т:\"\n",
    "df.loc[df[\"id\"] == 72, \"name\"] = \"из листовой стали пролетом 12 м, массой 1 м,т:\"\n",
    "df.loc[df[\"id\"] == 83, \"name\"] = \"пролетом 12 м, решетчатые из г/кат. и гнутых профилей, масса 1 м до 0.4 т\"\n",
    "df.loc[df[\"id\"] == 84, \"name\"] = \"пролетом 12 м, решетчатые из г/кат. и гнутых профилей, масса 1 м свыше 0.4 т\"\n",
    "df.loc[df[\"id\"] == 85, \"name\"] = \"пролетом 12 м, решетчатые сост. сечения из листовой стали, масса 1 м до 0.4 т\"\n",
    "df.loc[df[\"id\"] == 86, \"name\"] = \"пролетом 12 м, решетчатые сост. сечения из листовой стали, масса 1 м свыше 0.4 т\"\n",
    "df.loc[df[\"id\"] == 87, \"name\"] = \"составного сечения из листовой стали, масса 1 м,т:\"\n",
    "df.loc[df[\"id\"] == 88, \"name\"] = \"составного сечения из двух и более уголков или швеллеров, масса 1 м,т:\"\n",
    "df.loc[df[\"id\"] == 89, \"name\"] = \"из двутавров с параллельными гранями полок, масса 1 м,т:\"\n",
    "df.loc[df[\"id\"] == 90, \"name\"] = \"составного сечения из листовой стали с верхним опиранием настила, масса марки,т:\"\n",
    "df.loc[df[\"id\"] == 91, \"name\"] = \"составного сечения при пониженном опирании настила, масса марки,т:\"\n",
    "df.loc[df[\"id\"] == 92, \"name\"] = \"из двутавров с парал. гранями полок с верхним опиранием настила, масса до 1 т\"\n",
    "df.loc[df[\"id\"] == 93, \"name\"] = \"из двутавров с парал. гранями полок с верхним опиранием настила, масса свыше 1 т\"\n",
    "df.loc[df[\"id\"] == 94, \"name\"] = \"из двутавров с парал. гранями полок с пониж. опиранием настила, масса до 1 т\"\n",
    "df.loc[df[\"id\"] == 95, \"name\"] = \"из двутавров с парал. гранями полок с пониж. опиранием настила, масса свыше 1 т\"\n",
    "df.loc[df[\"id\"] == 113, \"name\"] = \"фермы из парных уголков и тавров, попер. балки из двутавров, масса 1 м до 0.5 т\"\n",
    "df.loc[df[\"id\"] == 114, \"name\"] = \"фермы из парных уголков и тавров, попер. балки из двутавров, масса 1 м до 1 т\"\n",
    "df.loc[df[\"id\"] == 115, \"name\"] = \"фермы из парных уголков и тавров, попер. балки из двутавров, масса 1 м свыше 1 т\""
   ]
  },
  {
   "cell_type": "code",
   "execution_count": 1200,
   "metadata": {},
   "outputs": [],
   "source": [
    "cursor.execute(open(\"sql_server/24.sql\", \"r\").read())\n",
    "conn.commit()"
   ]
  },
  {
   "cell_type": "code",
   "execution_count": 1201,
   "metadata": {},
   "outputs": [],
   "source": [
    "execute_values(df, \"construction_subtypes\")"
   ]
  },
  {
   "cell_type": "markdown",
   "metadata": {},
   "source": [
    "<h1>Типовые наименования листов</h1>"
   ]
  },
  {
   "cell_type": "code",
   "execution_count": 1202,
   "metadata": {},
   "outputs": [],
   "source": [
    "df = pd.read_sql_query('SELECT * FROM Pro_t.dbo.Спр_листов_н', db_conn)"
   ]
  },
  {
   "cell_type": "code",
   "execution_count": 1203,
   "metadata": {},
   "outputs": [],
   "source": [
    "df[\"ш_листа\"] = df[\"ш_листа\"].str.strip()"
   ]
  },
  {
   "cell_type": "code",
   "execution_count": 1204,
   "metadata": {},
   "outputs": [],
   "source": [
    "df = df.rename(columns={\"ш_номер\": \"id\",\n",
    "                        \"ш_листа\": \"name\"\n",
    "                       })"
   ]
  },
  {
   "cell_type": "code",
   "execution_count": 1205,
   "metadata": {},
   "outputs": [],
   "source": [
    "cursor.execute(open(\"sql_server/27.sql\", \"r\").read())\n",
    "conn.commit()"
   ]
  },
  {
   "cell_type": "code",
   "execution_count": 1206,
   "metadata": {},
   "outputs": [],
   "source": [
    "execute_values(df, \"sheet_names\")"
   ]
  },
  {
   "cell_type": "markdown",
   "metadata": {},
   "source": [
    "<h1>Виды ссылочных документов</h1>"
   ]
  },
  {
   "cell_type": "code",
   "execution_count": 1207,
   "metadata": {},
   "outputs": [],
   "source": [
    "df = pd.read_sql_query('SELECT * FROM Pro_t.dbo.Спр_ссыл_в', db_conn)"
   ]
  },
  {
   "cell_type": "code",
   "execution_count": 1208,
   "metadata": {},
   "outputs": [],
   "source": [
    "df[\"Наим_вида\"] = df[\"Наим_вида\"].str.strip()\n",
    "df[\"Наим_вида\"] = df[\"Наим_вида\"].str.capitalize()"
   ]
  },
  {
   "cell_type": "code",
   "execution_count": 1209,
   "metadata": {},
   "outputs": [],
   "source": [
    "df = df.drop_duplicates(subset=[\"Наим_вида\"])"
   ]
  },
  {
   "cell_type": "code",
   "execution_count": 1210,
   "metadata": {},
   "outputs": [],
   "source": [
    "df = df.rename(columns={\"Вид_сд\": \"id\",\n",
    "                        \"Наим_вида\": \"name\"\n",
    "                       })"
   ]
  },
  {
   "cell_type": "code",
   "execution_count": 1211,
   "metadata": {},
   "outputs": [],
   "source": [
    "cursor.execute(open(\"sql_server/40.sql\", \"r\").read())\n",
    "conn.commit()"
   ]
  },
  {
   "cell_type": "code",
   "execution_count": 1212,
   "metadata": {},
   "outputs": [],
   "source": [
    "execute_values(df, \"linked_doc_types\")"
   ]
  },
  {
   "cell_type": "markdown",
   "metadata": {},
   "source": [
    "<h1>Ссылочные документы</h1>"
   ]
  },
  {
   "cell_type": "code",
   "execution_count": 1213,
   "metadata": {},
   "outputs": [],
   "source": [
    "df = pd.read_sql_query('SELECT * FROM Pro_t.dbo.Спр_ссыл', db_conn)"
   ]
  },
  {
   "cell_type": "code",
   "execution_count": 1214,
   "metadata": {},
   "outputs": [],
   "source": [
    "df = df.replace(\"\", np.nan)"
   ]
  },
  {
   "cell_type": "code",
   "execution_count": 1215,
   "metadata": {},
   "outputs": [],
   "source": [
    "df = df.dropna()"
   ]
  },
  {
   "cell_type": "code",
   "execution_count": 1216,
   "metadata": {},
   "outputs": [],
   "source": [
    "df = df.drop_duplicates(subset=[\"Шифр_сд\"])"
   ]
  },
  {
   "cell_type": "code",
   "execution_count": 1217,
   "metadata": {},
   "outputs": [],
   "source": [
    "df = df.reset_index(drop=True)"
   ]
  },
  {
   "cell_type": "code",
   "execution_count": 1218,
   "metadata": {},
   "outputs": [],
   "source": [
    "df[\"Шифр_сд\"] = df[\"Шифр_сд\"].str.strip()\n",
    "df[\"Обозн_сд\"] = df[\"Обозн_сд\"].str.strip()\n",
    "df[\"Наим_сд\"] = df[\"Наим_сд\"].str.strip()"
   ]
  },
  {
   "cell_type": "code",
   "execution_count": 1219,
   "metadata": {},
   "outputs": [],
   "source": [
    "for i in range(0, len(df)):\n",
    "    arr = df[\"Наим_сд\"][i].split()\n",
    "    new_str = ' '.join(arr)\n",
    "    df.at[i, \"Наим_сд\"] = new_str"
   ]
  },
  {
   "cell_type": "code",
   "execution_count": 1220,
   "metadata": {},
   "outputs": [],
   "source": [
    "df[\"Наим_сд\"] = df[\"Наим_сд\"].str.replace(\"возду ха\", \"воздуха\")\n",
    "df[\"Наим_сд\"] = df[\"Наим_сд\"].str.replace(\"Материриалы\", \"Материалы\")\n",
    "df[\"Наим_сд\"] = df[\"Наим_сд\"].str.replace(\"рекоментации\", \"рекомендации\")\n",
    "df[\"Наим_сд\"] = df[\"Наим_сд\"].str.replace(\"рас пашные\", \"распашные\")\n",
    "df[\"Наим_сд\"] = df[\"Наим_сд\"].str.replace(\"металличе ческих\", \"металлических\")\n",
    "df[\"Наим_сд\"] = df[\"Наим_сд\"].str.replace(\"металличе ских\", \"металлических\")\n",
    "df[\"Наим_сд\"] = df[\"Наим_сд\"].str.replace(\"электри ческие\", \"электрические\")\n",
    "df[\"Наим_сд\"] = df[\"Наим_сд\"].str.replace(\"кра ны\", \"краны\")\n",
    "df[\"Наим_сд\"] = df[\"Наим_сд\"].str.replace(\"примене нием\", \"применением\")\n",
    "df[\"Наим_сд\"] = df[\"Наим_сд\"].str.replace(\"обслуживани сосудов\", \"обслуживания сосудов\")\n",
    "df[\"Наим_сд\"] = df[\"Наим_сд\"].str.replace(\"пе реплетами\", \"переплетами\")\n",
    "df[\"Наим_сд\"] = df[\"Наим_сд\"].str.replace(\"за полнением\", \"заполнением\")\n",
    "df[\"Наим_сд\"] = df[\"Наим_сд\"].str.replace(\"линй\", \"линий\")\n",
    "df[\"Наим_сд\"] = df[\"Наим_сд\"].str.replace(\"мосто вые\", \"мостовые\")\n",
    "df[\"Наим_сд\"] = df[\"Наим_сд\"].str.replace(\"покрыти ем\", \"покрытием\")\n",
    "df[\"Наим_сд\"] = df[\"Наим_сд\"].str.replace(\"со кращенному\", \"сокращенному\")\n",
    "df[\"Наим_сд\"] = df[\"Наим_сд\"].str.replace(\"покрытияпролетами\", \"покрытия пролетами\")\n",
    "df[\"Наим_сд\"] = df[\"Наим_сд\"].str.replace(\"широкополочныых\", \"широкополочных\")\n",
    "df[\"Наим_сд\"] = df[\"Наим_сд\"].str.replace(\"тав ров\", \"тавров\")\n",
    "df[\"Наим_сд\"] = df[\"Наим_сд\"].str.replace(\"зда ний\", \"зданий\")\n",
    "df[\"Наим_сд\"] = df[\"Наим_сд\"].str.replace(\"ремонтно -монтажных\", \"ремонтно-монтажных\")\n",
    "df[\"Наим_сд\"] = df[\"Наим_сд\"].str.replace(\"пок рытия\", \"покрытия\")\n",
    "df[\"Наим_сд\"] = df[\"Наим_сд\"].str.replace(\"профилирован ным\", \"профилированным\")\n",
    "df[\"Наим_сд\"] = df[\"Наим_сд\"].str.replace(\"стеклои минераловатных\", \"стекло и минераловатных\")\n",
    "df[\"Наим_сд\"] = df[\"Наим_сд\"].str.replace(\"окон,дверей\", \"окон, дверей\")\n",
    "df[\"Наим_сд\"] = df[\"Наим_сд\"].str.replace(\"пром.зданий\", \"пром. зданий\")\n",
    "df[\"Наим_сд\"] = df[\"Наим_сд\"].str.replace(\"строитель ные\", \"строительные\")\n",
    "df[\"Наим_сд\"] = df[\"Наим_сд\"].str.replace(\"сталь ные\", \"стальные\")\n",
    "df[\"Наим_сд\"] = df[\"Наим_сд\"].str.replace(\"наруж ного\", \"наружного\")\n",
    "df[\"Наим_сд\"] = df[\"Наим_сд\"].str.replace(\"ветров.район.\", \"ветров. район.\")\n",
    "df[\"Наим_сд\"] = df[\"Наим_сд\"].str.replace(\"выше и ниже -40 град.с.  ше и ниже -40 град.с.\", \"выше -40 град.с. и ниже -40 град.с.\")\n",
    "df[\"Наим_сд\"] = df[\"Наим_сд\"].str.replace(\"алю миниевых\", \"алюминиевых\")\n",
    "df[\"Наим_сд\"] = df[\"Наим_сд\"].str.replace(\"зданий,промышленных\", \"зданий, промышленных\")\n",
    "df[\"Наим_сд\"] = df[\"Наим_сд\"].str.replace(\"предприятий.шарнирные\", \"предприятий. Шарнирные\")\n",
    "df[\"Наим_сд\"] = df[\"Наим_сд\"].str.replace(\"связей.Чертежи\", \"связей. Чертежи\")\n",
    "df[\"Наим_сд\"] = df[\"Наим_сд\"].str.replace(\"сталь ными\", \"стальными\")\n",
    "df[\"Наим_сд\"] = df[\"Наим_сд\"].str.replace(\"унифици рованных\", \"унифицированных\")\n",
    "df[\"Наим_сд\"] = df[\"Наим_сд\"].str.replace(\"уз лы\", \"узлы\")\n",
    "df[\"Наим_сд\"] = df[\"Наим_сд\"].str.replace(\"железобе тонных\", \"железобетонных\")\n",
    "df[\"Наим_сд\"] = df[\"Наим_сд\"].str.replace(\"метал лопроката\", \"металлопроката\")\n",
    "df[\"Наим_сд\"] = df[\"Наим_сд\"].str.replace(\"выпу ску\", \"выпуску\")\n",
    "df[\"Наим_сд\"] = df[\"Наим_сд\"].str.replace(\"откры вающиеся\", \"открывающиеся\")\n",
    "df[\"Наим_сд\"] = df[\"Наим_сд\"].str.replace(\"светоаэра ционных\", \"светоаэрационных\")\n",
    "df[\"Наим_сд\"] = df[\"Наим_сд\"].str.replace(\"проектирования.Рабочие\", \"проектирования. Рабочие\")\n",
    "df[\"Наим_сд\"] = df[\"Наим_сд\"].str.replace(\"черте жи\", \"чертежи\")\n",
    "df[\"Наим_сд\"] = df[\"Наим_сд\"].str.replace(\"опорн.кранами\", \"опорн. кранами\")\n",
    "df[\"Наим_сд\"] = df[\"Наим_сд\"].str.replace(\"опорынми кранами\", \"опорными кранами\")\n",
    "df[\"Наим_сд\"] = df[\"Наим_сд\"].str.replace(\"несущ.конструкций\", \"несущ. конструкций\")\n",
    "df[\"Наим_сд\"] = df[\"Наим_сд\"].str.replace(\"подв.кранами\", \"подв. кранами\")\n",
    "df[\"Наим_сд\"] = df[\"Наим_сд\"].str.replace(\"кровлей,оборудованных\", \"кровлей, оборудованных\")\n",
    "df[\"Наим_сд\"] = df[\"Наим_сд\"].str.replace(\"одноэт.произв\", \"одноэт. произв\")\n",
    "df[\"Наим_сд\"] = df[\"Наим_сд\"].str.replace(\"произв.зданий\", \"произв. зданий\")\n",
    "df[\"Наим_сд\"] = df[\"Наим_сд\"].str.replace(\"кровлей,оборудованных\", \"кровлей, оборудованных\")\n",
    "df[\"Наим_сд\"] = df[\"Наим_сд\"].str.replace(\"специальн.назначения\", \"специальн. назначения\")\n",
    "df[\"Наим_сд\"] = df[\"Наим_сд\"].str.replace(\"зданий,оборудованных\", \"зданий, оборудованных\")\n",
    "df[\"Наим_сд\"] = df[\"Наим_сд\"].str.replace(\"две рей\", \"дверей\")"
   ]
  },
  {
   "cell_type": "code",
   "execution_count": 1221,
   "metadata": {},
   "outputs": [],
   "source": [
    "df = df.drop_duplicates(subset=[\"Наим_сд\"])"
   ]
  },
  {
   "cell_type": "code",
   "execution_count": 1222,
   "metadata": {},
   "outputs": [],
   "source": [
    "df.loc[df[\"Наим_сд\"].str.endswith('.') == False, \"Наим_сд\"] = df[df[\"Наим_сд\"].str.endswith('.') == False][\"Наим_сд\"] + '.'"
   ]
  },
  {
   "cell_type": "code",
   "execution_count": 1223,
   "metadata": {},
   "outputs": [],
   "source": [
    "df.insert(0, 'id', range(1, len(df) + 1))"
   ]
  },
  {
   "cell_type": "code",
   "execution_count": 1224,
   "metadata": {},
   "outputs": [],
   "source": [
    "df = df.rename(columns={\"Шифр_сд\": \"code\",\n",
    "                        \"Вид_сд\": \"type_id\",\n",
    "                        \"Обозн_сд\": \"designation\",\n",
    "                        \"Наим_сд\": \"name\"\n",
    "                       })"
   ]
  },
  {
   "cell_type": "code",
   "execution_count": 1225,
   "metadata": {},
   "outputs": [],
   "source": [
    "cursor.execute(open(\"sql_server/39.sql\", \"r\").read())\n",
    "conn.commit()"
   ]
  },
  {
   "cell_type": "code",
   "execution_count": 1226,
   "metadata": {
    "scrolled": true
   },
   "outputs": [],
   "source": [
    "execute_values(df, \"linked_docs\")"
   ]
  },
  {
   "cell_type": "markdown",
   "metadata": {},
   "source": [
    "<h1>Категории производства по пожарной и взрывопожарной опасности</h1>"
   ]
  },
  {
   "cell_type": "code",
   "execution_count": 1227,
   "metadata": {},
   "outputs": [],
   "source": [
    "df = pd.read_sql_query('SELECT * FROM Pro_t.dbo.Категории_пр', db_conn)"
   ]
  },
  {
   "cell_type": "code",
   "execution_count": 1228,
   "metadata": {},
   "outputs": [],
   "source": [
    "df = df.replace(\"\", np.nan)"
   ]
  },
  {
   "cell_type": "code",
   "execution_count": 1229,
   "metadata": {},
   "outputs": [],
   "source": [
    "df = df.rename(columns={\"поз\": \"id\",\n",
    "                        \"Категория\": \"category\",\n",
    "                        \"Название\": \"name\",\n",
    "                        \"Текст_од\": \"description\"\n",
    "                       })"
   ]
  },
  {
   "cell_type": "code",
   "execution_count": 1230,
   "metadata": {},
   "outputs": [],
   "source": [
    "df = df.where(pd.notnull(df), None)"
   ]
  },
  {
   "cell_type": "code",
   "execution_count": 1231,
   "metadata": {},
   "outputs": [],
   "source": [
    "cursor.execute(open(\"sql_server/5.sql\", \"r\").read())\n",
    "conn.commit()"
   ]
  },
  {
   "cell_type": "code",
   "execution_count": 1232,
   "metadata": {},
   "outputs": [],
   "source": [
    "execute_values(df, \"fire_hazard_categories\")"
   ]
  },
  {
   "cell_type": "markdown",
   "metadata": {},
   "source": [
    "<h1>Проекты</h1>"
   ]
  },
  {
   "cell_type": "code",
   "execution_count": 1233,
   "metadata": {},
   "outputs": [],
   "source": [
    "df = pd.read_sql_query('SELECT * FROM Pro_t.dbo.Марки', db_conn)"
   ]
  },
  {
   "cell_type": "code",
   "execution_count": 1234,
   "metadata": {},
   "outputs": [],
   "source": [
    "df = df.dropna(subset=[\"код_марки\", \"обозн\", \"комплекс\", \"объект\"])"
   ]
  },
  {
   "cell_type": "code",
   "execution_count": 1235,
   "metadata": {},
   "outputs": [],
   "source": [
    "e_ids = pd.read_csv(\"employee_ids.csv\")\n",
    "e_ids = e_ids.drop([\"Unnamed: 0\"], axis=1)\n",
    "e_ids = e_ids.values.flatten().tolist()\n",
    "df.loc[df[\"гл_спец\"].isin(e_ids) == False, \"гл_спец\"] = None\n",
    "df.loc[df[\"рук_гр\"].isin(e_ids) == False, \"рук_гр\"] = None\n",
    "df.loc[df[\"н_контр\"].isin(e_ids) == False, \"н_контр\"] = None"
   ]
  },
  {
   "cell_type": "code",
   "execution_count": 1236,
   "metadata": {},
   "outputs": [],
   "source": [
    "df = df[df[\"обозн\"].str.contains(\"демонтаж\") == False]\n",
    "df = df[df[\"обозн\"].str.contains(\"Мновый\") == False]\n",
    "df[\"обозн\"] = df[\"обозн\"].str.replace(\",\", \".\")"
   ]
  },
  {
   "cell_type": "code",
   "execution_count": 1237,
   "metadata": {},
   "outputs": [],
   "source": [
    "df2 = pd.DataFrame(df[\"обозн\"].str.split('-КМ', 1).tolist(),\n",
    "                                 columns = ['first','code'])"
   ]
  },
  {
   "cell_type": "code",
   "execution_count": 1238,
   "metadata": {},
   "outputs": [],
   "source": [
    "df = df.reset_index()\n",
    "df2 = df2.join(df)"
   ]
  },
  {
   "cell_type": "code",
   "execution_count": 1239,
   "metadata": {},
   "outputs": [],
   "source": [
    "df2 = df2.dropna(subset=[\"code\"])"
   ]
  },
  {
   "cell_type": "code",
   "execution_count": 1240,
   "metadata": {},
   "outputs": [],
   "source": [
    "df2[\"code\"] = \"КМ\" + df2[\"code\"]"
   ]
  },
  {
   "cell_type": "code",
   "execution_count": 1241,
   "metadata": {},
   "outputs": [],
   "source": [
    "df3 = pd.DataFrame(df2[\"first\"].str.split('.', 1).tolist(),\n",
    "                                 columns = ['baseSeries','middle'])"
   ]
  },
  {
   "cell_type": "code",
   "execution_count": 1242,
   "metadata": {},
   "outputs": [],
   "source": [
    "df2 = df2.reset_index()\n",
    "df3 = df3.reset_index()\n",
    "df4 = df2.join(df3[[\"baseSeries\", \"middle\"]])"
   ]
  },
  {
   "cell_type": "code",
   "execution_count": 1243,
   "metadata": {},
   "outputs": [],
   "source": [
    "df4 = df4.drop([\"first\", \"index\"], axis=1)\n",
    "df4 = df4.rename(columns={\"код_марки\": \"id\"})"
   ]
  },
  {
   "cell_type": "code",
   "execution_count": 1244,
   "metadata": {},
   "outputs": [],
   "source": [
    "df5 = pd.DataFrame(df4[\"middle\"].fillna(\"\").str.split('.', 1).tolist(),\n",
    "                                 columns = ['node','subnode'])"
   ]
  },
  {
   "cell_type": "code",
   "execution_count": 1245,
   "metadata": {},
   "outputs": [],
   "source": [
    "df6 = pd.DataFrame(df5[\"subnode\"].fillna(\"\").str.split('-', 1).tolist(),\n",
    "                                 columns = ['subnode_part','node_part'])"
   ]
  },
  {
   "cell_type": "code",
   "execution_count": 1246,
   "metadata": {},
   "outputs": [],
   "source": [
    "df5 = df5.reset_index()\n",
    "df6 = df6.reset_index()\n",
    "df7 = df5.join(df6[[\"subnode_part\", \"node_part\"]])"
   ]
  },
  {
   "cell_type": "code",
   "execution_count": 1247,
   "metadata": {},
   "outputs": [],
   "source": [
    "df7[\"node_part\"] = \"-\" + df7[\"node_part\"]\n",
    "df7[\"node2\"] = df7[\"node\"] + df7[\"node_part\"].fillna(\"\")"
   ]
  },
  {
   "cell_type": "code",
   "execution_count": 1248,
   "metadata": {},
   "outputs": [],
   "source": [
    "df4 = df4.reset_index(drop=True)\n",
    "df7 = df7.reset_index(drop=True)\n",
    "df8 = df4.join(df7[[\"node2\", \"subnode_part\"]])"
   ]
  },
  {
   "cell_type": "code",
   "execution_count": 1249,
   "metadata": {},
   "outputs": [],
   "source": [
    "df8 = df8.rename(columns={\"node2\": \"nodeCode\", \"subnode_part\": \"subnodeCode\"})\n",
    "df8 = df8.drop([\"middle\"], axis=1)"
   ]
  },
  {
   "cell_type": "code",
   "execution_count": 1250,
   "metadata": {},
   "outputs": [],
   "source": [
    "enc = OrdinalEncoder()\n",
    "res = enc.fit_transform(np.array(df8[\"baseSeries\"]).reshape(-1, 1))"
   ]
  },
  {
   "cell_type": "code",
   "execution_count": 1251,
   "metadata": {},
   "outputs": [],
   "source": [
    "s = pd.DataFrame(pd.Series(res.flatten()) + 1)\n",
    "s = s.rename(columns={0: \"project_id\"})"
   ]
  },
  {
   "cell_type": "code",
   "execution_count": 1252,
   "metadata": {},
   "outputs": [],
   "source": [
    "df9 = df8.join(s)"
   ]
  },
  {
   "cell_type": "code",
   "execution_count": 1253,
   "metadata": {},
   "outputs": [],
   "source": [
    "projects_df = df9[[\"baseSeries\", \"комплекс\", \"project_id\"]]"
   ]
  },
  {
   "cell_type": "code",
   "execution_count": 1254,
   "metadata": {},
   "outputs": [],
   "source": [
    "projects_df = projects_df.drop_duplicates(subset=[\"project_id\"])"
   ]
  },
  {
   "cell_type": "code",
   "execution_count": 1255,
   "metadata": {},
   "outputs": [],
   "source": [
    "projects_df = projects_df.rename(columns={\"baseSeries\": \"base_series\", \"комплекс\": \"name\", \"project_id\": \"id\"})"
   ]
  },
  {
   "cell_type": "code",
   "execution_count": 1256,
   "metadata": {},
   "outputs": [],
   "source": [
    "cursor.execute(open(\"sql_server/xx_projects.sql\", \"r\").read())\n",
    "conn.commit()"
   ]
  },
  {
   "cell_type": "code",
   "execution_count": 1257,
   "metadata": {},
   "outputs": [],
   "source": [
    "execute_values(projects_df, \"projects\", False)"
   ]
  },
  {
   "cell_type": "markdown",
   "metadata": {},
   "source": [
    "<h1>Узлы</h1>"
   ]
  },
  {
   "cell_type": "code",
   "execution_count": 1258,
   "metadata": {},
   "outputs": [],
   "source": [
    "df10 = pd.DataFrame(df9[\"объект\"].str.split('.', 1).tolist(),\n",
    "                                 columns = ['f_p','o_p'])"
   ]
  },
  {
   "cell_type": "code",
   "execution_count": 1259,
   "metadata": {},
   "outputs": [],
   "source": [
    "df10 = df10.fillna(\"\")"
   ]
  },
  {
   "cell_type": "code",
   "execution_count": 1260,
   "metadata": {},
   "outputs": [],
   "source": [
    "df11 = df9.join(df10)"
   ]
  },
  {
   "cell_type": "code",
   "execution_count": 1261,
   "metadata": {},
   "outputs": [],
   "source": [
    "df11[\"node_feature\"] = df11[\"baseSeries\"] + df11[\"nodeCode\"]"
   ]
  },
  {
   "cell_type": "code",
   "execution_count": 1262,
   "metadata": {},
   "outputs": [],
   "source": [
    "enc = OrdinalEncoder()\n",
    "res = enc.fit_transform(np.array(df11[\"node_feature\"]).reshape(-1, 1))"
   ]
  },
  {
   "cell_type": "code",
   "execution_count": 1263,
   "metadata": {},
   "outputs": [],
   "source": [
    "s = pd.DataFrame(pd.Series(res.flatten()) + 1)\n",
    "s = s.rename(columns={0: \"node_id\"})"
   ]
  },
  {
   "cell_type": "code",
   "execution_count": 1264,
   "metadata": {},
   "outputs": [],
   "source": [
    "df12 = df11.join(s)"
   ]
  },
  {
   "cell_type": "code",
   "execution_count": 1265,
   "metadata": {},
   "outputs": [],
   "source": [
    "nodes_df = df12[[\"node_id\", \"f_p\", \"project_id\", \"nodeCode\"]]"
   ]
  },
  {
   "cell_type": "code",
   "execution_count": 1266,
   "metadata": {},
   "outputs": [],
   "source": [
    "chiefEngineerIds = [173, 337]"
   ]
  },
  {
   "cell_type": "code",
   "execution_count": 1267,
   "metadata": {},
   "outputs": [
    {
     "name": "stderr",
     "output_type": "stream",
     "text": [
      "<ipython-input-1267-24cbdb19fe02>:1: SettingWithCopyWarning: \n",
      "A value is trying to be set on a copy of a slice from a DataFrame.\n",
      "Try using .loc[row_indexer,col_indexer] = value instead\n",
      "\n",
      "See the caveats in the documentation: https://pandas.pydata.org/pandas-docs/stable/user_guide/indexing.html#returning-a-view-versus-a-copy\n",
      "  nodes_df[\"chief_engineer\"] = random.choices(chiefEngineerIds, k=len(nodes_df))\n"
     ]
    }
   ],
   "source": [
    "nodes_df[\"chief_engineer\"] = random.choices(chiefEngineerIds, k=len(nodes_df))"
   ]
  },
  {
   "cell_type": "code",
   "execution_count": 1268,
   "metadata": {},
   "outputs": [],
   "source": [
    "nodes_df = nodes_df.rename(columns={\"node_id\": \"id\", \"f_p\": \"name\", \"nodeCode\": \"code\", \"chief_engineer\": \"chief_engineer_id\"})"
   ]
  },
  {
   "cell_type": "code",
   "execution_count": 1269,
   "metadata": {},
   "outputs": [],
   "source": [
    "nodes_df = nodes_df.drop_duplicates(subset=[\"id\"])"
   ]
  },
  {
   "cell_type": "code",
   "execution_count": 1270,
   "metadata": {},
   "outputs": [],
   "source": [
    "cursor.execute(open(\"sql_server/xx_nodes.sql\", \"r\").read())\n",
    "conn.commit()"
   ]
  },
  {
   "cell_type": "code",
   "execution_count": 1271,
   "metadata": {},
   "outputs": [],
   "source": [
    "execute_values(nodes_df, \"nodes\", False)"
   ]
  },
  {
   "cell_type": "markdown",
   "metadata": {},
   "source": [
    "<h1>Подузлы</h1>"
   ]
  },
  {
   "cell_type": "code",
   "execution_count": 1272,
   "metadata": {},
   "outputs": [],
   "source": [
    "df13 = pd.DataFrame(df12[\"o_p\"].str.split('.', 1).tolist(),\n",
    "                                 columns = ['s_p','m_p'])"
   ]
  },
  {
   "cell_type": "code",
   "execution_count": 1273,
   "metadata": {},
   "outputs": [],
   "source": [
    "df13 = df13.fillna(\"\")"
   ]
  },
  {
   "cell_type": "code",
   "execution_count": 1274,
   "metadata": {},
   "outputs": [],
   "source": [
    "df13[\"s_p\"] = df13[\"s_p\"].str.strip()\n",
    "df13[\"m_p\"] = df13[\"m_p\"].str.strip()"
   ]
  },
  {
   "cell_type": "code",
   "execution_count": 1275,
   "metadata": {},
   "outputs": [],
   "source": [
    "df14 = df12.join(df13)"
   ]
  },
  {
   "cell_type": "code",
   "execution_count": 1276,
   "metadata": {},
   "outputs": [],
   "source": [
    "df14[\"subnode_feature\"] = df11[\"node_feature\"] + df11[\"subnodeCode\"]"
   ]
  },
  {
   "cell_type": "code",
   "execution_count": 1277,
   "metadata": {},
   "outputs": [],
   "source": [
    "enc = OrdinalEncoder()\n",
    "res = enc.fit_transform(np.array(df14[\"subnode_feature\"]).reshape(-1, 1))"
   ]
  },
  {
   "cell_type": "code",
   "execution_count": 1278,
   "metadata": {},
   "outputs": [],
   "source": [
    "s = pd.DataFrame(pd.Series(res.flatten()) + 1)\n",
    "s = s.rename(columns={0: \"subnode_id\"})"
   ]
  },
  {
   "cell_type": "code",
   "execution_count": 1279,
   "metadata": {},
   "outputs": [],
   "source": [
    "df15 = df14.join(s)"
   ]
  },
  {
   "cell_type": "code",
   "execution_count": 1280,
   "metadata": {},
   "outputs": [],
   "source": [
    "subnodes_df = df15[[\"subnode_id\", \"node_id\", \"subnodeCode\", \"s_p\"]]"
   ]
  },
  {
   "cell_type": "code",
   "execution_count": 1281,
   "metadata": {},
   "outputs": [],
   "source": [
    "subnodes_df = subnodes_df.rename(columns={\"subnode_id\": \"id\", \"s_p\": \"name\", \"subnodeCode\": \"code\"})"
   ]
  },
  {
   "cell_type": "code",
   "execution_count": 1282,
   "metadata": {},
   "outputs": [],
   "source": [
    "subnodes_df = subnodes_df.drop_duplicates(subset=[\"id\"])"
   ]
  },
  {
   "cell_type": "code",
   "execution_count": 1283,
   "metadata": {},
   "outputs": [],
   "source": [
    "cursor.execute(open(\"sql_server/xx_subnodes.sql\", \"r\").read())\n",
    "conn.commit()"
   ]
  },
  {
   "cell_type": "code",
   "execution_count": 1284,
   "metadata": {},
   "outputs": [],
   "source": [
    "execute_values(subnodes_df, \"subnodes\", False)"
   ]
  },
  {
   "cell_type": "markdown",
   "metadata": {},
   "source": [
    "<h1>Марки</h1>"
   ]
  },
  {
   "cell_type": "code",
   "execution_count": 1285,
   "metadata": {},
   "outputs": [],
   "source": [
    "df15 = df15.drop([\"обозн\", \"комплекс\", \"объект\", \"level_0\", \"ОЗ_марки\"], axis=1)"
   ]
  },
  {
   "cell_type": "code",
   "execution_count": 1286,
   "metadata": {},
   "outputs": [],
   "source": [
    "df15[\"t_эксплуат\"] = df15[\"t_эксплуат\"].str.replace(\"минус \", \"-\")\n",
    "df15[\"t_эксплуат\"] = df15[\"t_эксплуат\"].str.replace(\"плюс \", \"\")\n",
    "df15[\"t_эксплуат\"] = df15[\"t_эксплуат\"].str.replace(\"+\", \"\")\n",
    "df15[\"t_эксплуат\"] = df15[\"t_эксплуат\"].str.replace(\"- 39\", \"-39\")\n",
    "df15 = df15[df15[\"t_эксплуат\"] != \"-\"]\n",
    "df15 = df15[df15[\"t_эксплуат\"] != \"минус\"]\n",
    "df15[\"t_эксплуат\"] = df15[\"t_эксплуат\"].astype(\"float64\")"
   ]
  },
  {
   "cell_type": "code",
   "execution_count": 1287,
   "metadata": {},
   "outputs": [],
   "source": [
    "df15[\"об_марки\"] = df15[\"об_марки\"].str.strip()\n",
    "df15[\"об_марки\"] = df15[\"об_марки\"].str.replace(\"KM\", \"КМ\")\n",
    "df15 = df15[df15[\"об_марки\"] != \"по\"]"
   ]
  },
  {
   "cell_type": "code",
   "execution_count": 1288,
   "metadata": {},
   "outputs": [],
   "source": [
    "df15 = df15.drop([\"об_марки\"], axis=1)"
   ]
  },
  {
   "cell_type": "code",
   "execution_count": 1289,
   "metadata": {},
   "outputs": [],
   "source": [
    "df15 = df15.drop([\"project_id\", \"f_p\", \"o_p\", \"s_p\", \"subnode_feature\", \"node_feature\", \"subnodeCode\"], axis=1)"
   ]
  },
  {
   "cell_type": "code",
   "execution_count": 1290,
   "metadata": {},
   "outputs": [],
   "source": [
    "df15 = df15.drop([\"baseSeries\", \"nodeCode\", \"node_id\"], axis=1)"
   ]
  },
  {
   "cell_type": "code",
   "execution_count": 1291,
   "metadata": {},
   "outputs": [],
   "source": [
    "df15[\"прим\"] = df15[\"прим\"].str.strip()\n",
    "df15[\"прим\"] = df15[\"прим\"].str.replace(\"\\r\\n       \", \" \")"
   ]
  },
  {
   "cell_type": "code",
   "execution_count": 1292,
   "metadata": {},
   "outputs": [],
   "source": [
    "df15 = df15.drop([\"ДопКод\"], axis=1)"
   ]
  },
  {
   "cell_type": "code",
   "execution_count": 1293,
   "metadata": {},
   "outputs": [],
   "source": [
    "df15[\"категория_пр\"] = 3"
   ]
  },
  {
   "cell_type": "code",
   "execution_count": 1294,
   "metadata": {},
   "outputs": [],
   "source": [
    "df15[\"агрессивность\"] += 1\n",
    "df15[\"группа_газов\"] += 1\n",
    "df15[\"материал\"] += 1\n",
    "df15[\"вп_болты\"] += 1\n",
    "\n",
    "# Part\n",
    "df15.loc[df15[\"тип_ЛКМ\"] == \"ПФ\", \"тип_ЛКМ\"] = 1\n",
    "df15.loc[df15[\"тип_ЛКМ\"] == \"АУ\", \"тип_ЛКМ\"] = 2\n",
    "df15.loc[df15[\"тип_ЛКМ\"] == \"ЭЭ\", \"тип_ЛКМ\"] = 3\n",
    "df15.loc[df15[\"тип_ЛКМ\"] == \"МА\", \"тип_ЛКМ\"] = 4\n",
    "df15.loc[df15[\"тип_ЛКМ\"] == \"ПВ\", \"тип_ЛКМ\"] = 11"
   ]
  },
  {
   "cell_type": "code",
   "execution_count": 1295,
   "metadata": {},
   "outputs": [],
   "source": [
    "df15 = df15.drop_duplicates(subset=[\"code\", \"subnode_id\"])"
   ]
  },
  {
   "cell_type": "code",
   "execution_count": 1296,
   "metadata": {},
   "outputs": [],
   "source": [
    "df15_operating_cond = df15.copy()"
   ]
  },
  {
   "cell_type": "code",
   "execution_count": 1297,
   "metadata": {},
   "outputs": [],
   "source": [
    "df15 = df15.rename(columns={\"код_отд\": \"department_id\",\n",
    "                            \"подп1\": \"signed1_id\",\n",
    "                            \"подп2\": \"signed2_id\",\n",
    "                            \"гл_спец\": \"chief_specialist_id\",\n",
    "                            \"рук_гр\": \"group_leader_id\",\n",
    "                            \"н_контр\": \"norm_contr_id\",\n",
    "                            \"дата_выд\": \"issue_date\",\n",
    "                            \"кол_томов\": \"num_of_volumes\",\n",
    "                            \"дата_ред\": \"edited_date\",\n",
    "                            \"коэф_надежн\": \"safety_coeff\",\n",
    "                            \"t_эксплуат\": \"operating_temp\",\n",
    "                            \"зона_эксплуат\": \"operating_zone\",\n",
    "                            \"группа_газов\": \"gas_group\",\n",
    "                            \"агрессивность\": \"aggressiveness\",\n",
    "                            \"материал\": \"material\",\n",
    "                            \"тип_ЛКМ\": \"paintwork_type\",\n",
    "                            \"прим\": \"note\",\n",
    "                            \"категория_пр\": \"fire_hazard_category_id\",\n",
    "                            \"вп_болты\": \"high_tensile_bolts\",\n",
    "                            \"п_транспорт\": \"p_transport\",\n",
    "                            \"п_площадки\": \"p_site\",\n",
    "                            \"10ХСНД\": \"xcnd\",\n",
    "                            \"ТекстЗдСм\": \"task_text\",\n",
    "                            \"ДопОбъемы\": \"additional_text\",\n",
    "                            \"ВесПоВМП\": \"vmp_weight\",\n",
    "                            \"ВыпЗдСм\": \"impl_3d_estimate\",\n",
    "                            \"m_p\": \"name\"\n",
    "                       })"
   ]
  },
  {
   "cell_type": "code",
   "execution_count": 1300,
   "metadata": {},
   "outputs": [],
   "source": [
    "df15[\"issue_date\"] = df15[\"issue_date\"].astype(object).where(df15[\"issue_date\"].notnull(), None)\n",
    "df15[\"edited_date\"] = df15[\"edited_date\"].astype(object).where(df15[\"edited_date\"].notnull(), None)\n",
    "df15 = df15.where(pd.notnull(df15), None)"
   ]
  },
  {
   "cell_type": "code",
   "execution_count": 1301,
   "metadata": {},
   "outputs": [],
   "source": [
    "df15[\"chief_specialist_id\"] = df15[\"chief_specialist_id\"].replace(0, None)\n",
    "df15[\"group_leader_id\"] = df15[\"group_leader_id\"].replace(0, None)\n",
    "df15[\"norm_contr_id\"] = df15[\"norm_contr_id\"].replace(0, None)"
   ]
  },
  {
   "cell_type": "code",
   "execution_count": 1302,
   "metadata": {},
   "outputs": [],
   "source": [
    "df16 = df15.drop([\"vmp_weight\", \"impl_3d_estimate\", \"xcnd\", \"task_text\", \"additional_text\", \"safety_coeff\", \"aggressiveness\", \"operating_temp\", \"operating_zone\", \"gas_group\", \"material\", \"high_tensile_bolts\"], axis=1)"
   ]
  },
  {
   "cell_type": "code",
   "execution_count": 1303,
   "metadata": {},
   "outputs": [],
   "source": [
    "df16 = df16.reset_index(drop=True)"
   ]
  },
  {
   "cell_type": "code",
   "execution_count": 1304,
   "metadata": {},
   "outputs": [],
   "source": [
    "df16[\"id\"].to_csv(\"mark_ids.csv\")"
   ]
  },
  {
   "cell_type": "code",
   "execution_count": 1305,
   "metadata": {},
   "outputs": [],
   "source": [
    "cursor.execute(open(\"sql_server/7.sql\", \"r\").read())\n",
    "conn.commit()"
   ]
  },
  {
   "cell_type": "code",
   "execution_count": 1306,
   "metadata": {},
   "outputs": [],
   "source": [
    "execute_values(df16, \"marks\")"
   ]
  },
  {
   "cell_type": "markdown",
   "metadata": {},
   "source": [
    "<h1>Условия эксплуатации марки</h1>"
   ]
  },
  {
   "cell_type": "code",
   "execution_count": 1307,
   "metadata": {},
   "outputs": [],
   "source": [
    "df_op_cond = df15_operating_cond.loc[:, [\"id\", \"коэф_надежн\", \"агрессивность\", \"t_эксплуат\", \"зона_эксплуат\", \"группа_газов\", \"материал\", \"тип_ЛКМ\", \"вп_болты\"]]"
   ]
  },
  {
   "cell_type": "code",
   "execution_count": 1308,
   "metadata": {},
   "outputs": [],
   "source": [
    "df_op_cond[\"t_эксплуат\"] = df_op_cond[\"t_эксплуат\"].fillna(-34)"
   ]
  },
  {
   "cell_type": "code",
   "execution_count": 1309,
   "metadata": {},
   "outputs": [],
   "source": [
    "df_op_cond = df_op_cond.rename(columns={\"id\": \"mark_id\",\n",
    "                            \"коэф_надежн\": \"safety_coeff\",\n",
    "                            \"t_эксплуат\": \"temperature\",\n",
    "                            \"зона_эксплуат\": \"operating_area_id\",\n",
    "                            \"группа_газов\": \"gas_group_id\",\n",
    "                            \"агрессивность\": \"env_aggressiveness_id\",\n",
    "                            \"материал\": \"construction_material_id\",\n",
    "                            \"тип_ЛКМ\": \"paintwork_type_id\",\n",
    "                            \"вп_болты\": \"high_tensile_bolts_type_id\"\n",
    "                       })"
   ]
  },
  {
   "cell_type": "code",
   "execution_count": 1310,
   "metadata": {},
   "outputs": [],
   "source": [
    "cursor.execute(open(\"sql_server/y_mark_operating_conditions.sql\", \"r\").read())\n",
    "conn.commit()"
   ]
  },
  {
   "cell_type": "code",
   "execution_count": 1311,
   "metadata": {},
   "outputs": [],
   "source": [
    "execute_values(df_op_cond, \"mark_operating_conditions\", False)"
   ]
  },
  {
   "cell_type": "markdown",
   "metadata": {},
   "source": [
    "<h1>Задание на смету</h1>"
   ]
  },
  {
   "cell_type": "code",
   "execution_count": 1312,
   "metadata": {},
   "outputs": [],
   "source": [
    "df_task = df15.loc[:, [\"id\", \"task_text\", \"additional_text\"]]"
   ]
  },
  {
   "cell_type": "code",
   "execution_count": 1313,
   "metadata": {},
   "outputs": [],
   "source": [
    "df_task[\"task_text\"] = df_task[\"task_text\"].str.strip()"
   ]
  },
  {
   "cell_type": "code",
   "execution_count": 1314,
   "metadata": {},
   "outputs": [],
   "source": [
    "df['обозн'] = 'Разработать сметную документацию к чертежам ' + df['обозн'].astype(str) + '\\r\\nСостав и объемы работ:'"
   ]
  },
  {
   "cell_type": "code",
   "execution_count": 1315,
   "metadata": {},
   "outputs": [],
   "source": [
    "df_task.loc[df_task[\"task_text\"].isna(), \"task_text\"] = list(df.loc[df[\"код_марки\"].isin(df_task.loc[df_task[\"task_text\"].isna(), \"id\"]), \"обозн\"])"
   ]
  },
  {
   "cell_type": "code",
   "execution_count": 1316,
   "metadata": {},
   "outputs": [],
   "source": [
    "df_task = df_task.rename(columns={\"id\": \"mark_id\"})"
   ]
  },
  {
   "cell_type": "code",
   "execution_count": 1317,
   "metadata": {},
   "outputs": [],
   "source": [
    "df_task[\"task_text\"] = df_task[\"task_text\"].str.replace(\"\\r\\n\", \"\\n\")"
   ]
  },
  {
   "cell_type": "code",
   "execution_count": 1318,
   "metadata": {},
   "outputs": [],
   "source": [
    "df_task[\"additional_text\"] = df_task[\"additional_text\"].str.replace(\"\\r\\n\", \"\\n\")"
   ]
  },
  {
   "cell_type": "code",
   "execution_count": 1319,
   "metadata": {},
   "outputs": [],
   "source": [
    "cursor.execute(open(\"sql_server/y_estimate_task.sql\", \"r\").read())\n",
    "conn.commit()"
   ]
  },
  {
   "cell_type": "code",
   "execution_count": 1320,
   "metadata": {},
   "outputs": [],
   "source": [
    "execute_values(df_task, \"estimate_task\", False)"
   ]
  },
  {
   "cell_type": "markdown",
   "metadata": {},
   "source": [
    "<h1>Выпуски спецификаций</h1>"
   ]
  },
  {
   "cell_type": "code",
   "execution_count": 1321,
   "metadata": {},
   "outputs": [],
   "source": [
    "df = pd.read_sql_query('SELECT * FROM Pro_t.dbo.ВыпСпец', db_conn)"
   ]
  },
  {
   "cell_type": "code",
   "execution_count": 1322,
   "metadata": {},
   "outputs": [],
   "source": [
    "df = df.replace(\"\", np.nan)"
   ]
  },
  {
   "cell_type": "code",
   "execution_count": 1323,
   "metadata": {},
   "outputs": [],
   "source": [
    "df = df.drop_duplicates(subset=[\"код_марки\", \"выпуск\"])"
   ]
  },
  {
   "cell_type": "code",
   "execution_count": 1324,
   "metadata": {},
   "outputs": [],
   "source": [
    "df = df.drop([\"вкл_вып\"], axis=1)"
   ]
  },
  {
   "cell_type": "code",
   "execution_count": 1325,
   "metadata": {},
   "outputs": [],
   "source": [
    "df[\"текущий\"] = df[\"текущий\"].map(lambda x: True if (x == 1) else False)"
   ]
  },
  {
   "cell_type": "code",
   "execution_count": 1326,
   "metadata": {},
   "outputs": [],
   "source": [
    "df = df.rename(columns={\"Поз_выпуска\": \"id\",\n",
    "                        \"код_марки\": \"mark_id\",\n",
    "                        \"выпуск\": \"num\",\n",
    "                        \"дата_созд\": \"created_date\",\n",
    "                        \"текущий\": \"is_current\",\n",
    "                        \"прим\": \"note\"\n",
    "                       })"
   ]
  },
  {
   "cell_type": "code",
   "execution_count": 1327,
   "metadata": {},
   "outputs": [],
   "source": [
    "df[\"created_date\"] = df[\"created_date\"].astype(object).where(df[\"created_date\"].notnull(), datetime(2000, 1, 1))\n",
    "df = df.where(pd.notnull(df), None)"
   ]
  },
  {
   "cell_type": "code",
   "execution_count": 1328,
   "metadata": {},
   "outputs": [],
   "source": [
    "m_ids = pd.read_csv(\"mark_ids.csv\")\n",
    "m_ids = m_ids.drop([\"Unnamed: 0\"], axis=1)\n",
    "m_ids = m_ids.values.flatten().tolist()"
   ]
  },
  {
   "cell_type": "code",
   "execution_count": 1329,
   "metadata": {},
   "outputs": [],
   "source": [
    "df = df[df[\"mark_id\"].isin(m_ids)]"
   ]
  },
  {
   "cell_type": "code",
   "execution_count": 1330,
   "metadata": {},
   "outputs": [],
   "source": [
    "df.loc[:, [\"id\", \"mark_id\", \"num\"]].to_csv(\"specs.csv\")"
   ]
  },
  {
   "cell_type": "code",
   "execution_count": 1331,
   "metadata": {},
   "outputs": [],
   "source": [
    "cursor.execute(open(\"sql_server/3.sql\", \"r\").read())\n",
    "conn.commit()"
   ]
  },
  {
   "cell_type": "code",
   "execution_count": 1332,
   "metadata": {},
   "outputs": [],
   "source": [
    "execute_values(df, \"specifications\")"
   ]
  },
  {
   "cell_type": "markdown",
   "metadata": {},
   "source": [
    "<h1>Листы</h1>"
   ]
  },
  {
   "cell_type": "code",
   "execution_count": 1333,
   "metadata": {},
   "outputs": [],
   "source": [
    "df = pd.read_sql_query('SELECT * FROM Pro_t.dbo.Листы', db_conn)"
   ]
  },
  {
   "cell_type": "code",
   "execution_count": 1334,
   "metadata": {},
   "outputs": [],
   "source": [
    "df = df.replace(\"\", np.nan)"
   ]
  },
  {
   "cell_type": "code",
   "execution_count": 1335,
   "metadata": {},
   "outputs": [],
   "source": [
    "df = df[df[\"номер\"].isna() == False]"
   ]
  },
  {
   "cell_type": "code",
   "execution_count": 1336,
   "metadata": {},
   "outputs": [],
   "source": [
    "df[\"тип_док\"] = df[\"тип_док\"] + 1"
   ]
  },
  {
   "cell_type": "code",
   "execution_count": 1337,
   "metadata": {},
   "outputs": [],
   "source": [
    "df[\"вып\"] = df[\"вып\"].map(lambda x: np.nan if x == 0 else x)"
   ]
  },
  {
   "cell_type": "code",
   "execution_count": 1338,
   "metadata": {},
   "outputs": [],
   "source": [
    "df[\"пров\"] = df[\"пров\"].map(lambda x: np.nan if x == 0 else x)"
   ]
  },
  {
   "cell_type": "code",
   "execution_count": 1339,
   "metadata": {},
   "outputs": [],
   "source": [
    "df[\"норм\"] = df[\"норм\"].map(lambda x: np.nan if x == 0 else x)"
   ]
  },
  {
   "cell_type": "code",
   "execution_count": 1340,
   "metadata": {},
   "outputs": [],
   "source": [
    "df = df.drop([\"шифр_вып\", \"шифр_пров\", \"шифр_норм\"], axis=1)"
   ]
  },
  {
   "cell_type": "code",
   "execution_count": 1341,
   "metadata": {},
   "outputs": [],
   "source": [
    "df[\"формат\"] = df[\"формат\"].map(lambda x: 1.0 if np.isnan(x) else x)"
   ]
  },
  {
   "cell_type": "code",
   "execution_count": 1342,
   "metadata": {},
   "outputs": [],
   "source": [
    "df = df.drop_duplicates(subset=[\"код_марки\", \"номер\", \"тип_док\"])"
   ]
  },
  {
   "cell_type": "code",
   "execution_count": 1343,
   "metadata": {},
   "outputs": [],
   "source": [
    "df = df[df[\"вып\"].isna() == False]"
   ]
  },
  {
   "cell_type": "code",
   "execution_count": 1344,
   "metadata": {},
   "outputs": [],
   "source": [
    "df[\"название\"] = df[\"название\"].str.strip()"
   ]
  },
  {
   "cell_type": "code",
   "execution_count": 1345,
   "metadata": {},
   "outputs": [],
   "source": [
    "for i in range(0, len(df)):\n",
    "    try:\n",
    "        arr = df[\"название\"][i].split()\n",
    "        new_str = ' '.join(arr)\n",
    "        df.at[i, \"название\"] = new_str\n",
    "    except Exception:\n",
    "        pass"
   ]
  },
  {
   "cell_type": "code",
   "execution_count": 1346,
   "metadata": {},
   "outputs": [],
   "source": [
    "df = df.rename(columns={\"поз_листа\": \"id\",\n",
    "                        \"код_марки\": \"mark_id\",\n",
    "                        \"номер\": \"num\",\n",
    "                        \"название\": \"name\",\n",
    "                        \"формат\": \"form\",\n",
    "                        \"вып\": \"creator_id\",\n",
    "                        \"пров\": \"inspector_id\",\n",
    "                        \"норм\": \"norm_contr_id\",\n",
    "                        \"тип_док\": \"type_id\",\n",
    "                        \"выпуск\": \"release_num\",\n",
    "                        \"листов\": \"num_of_pages\",\n",
    "                        \"прим\": \"note\"\n",
    "                       })"
   ]
  },
  {
   "cell_type": "code",
   "execution_count": 1347,
   "metadata": {},
   "outputs": [],
   "source": [
    "df = df.where(pd.notnull(df), None)"
   ]
  },
  {
   "cell_type": "code",
   "execution_count": 1348,
   "metadata": {},
   "outputs": [],
   "source": [
    "m_ids = pd.read_csv(\"mark_ids.csv\")\n",
    "m_ids = m_ids.drop([\"Unnamed: 0\"], axis=1)\n",
    "m_ids = m_ids.values.flatten().tolist()"
   ]
  },
  {
   "cell_type": "code",
   "execution_count": 1349,
   "metadata": {},
   "outputs": [],
   "source": [
    "e_ids = pd.read_csv(\"employee_ids.csv\")\n",
    "e_ids = e_ids.drop([\"Unnamed: 0\"], axis=1)\n",
    "e_ids = e_ids.values.flatten().tolist()"
   ]
  },
  {
   "cell_type": "code",
   "execution_count": 1350,
   "metadata": {},
   "outputs": [],
   "source": [
    "df = df[df[\"mark_id\"].isin(m_ids)]\n",
    "df.loc[df[\"creator_id\"].isin(e_ids) == False, \"creator_id\"] = None\n",
    "df.loc[df[\"inspector_id\"].isin(e_ids) == False, \"inspector_id\"] = None\n",
    "df.loc[df[\"norm_contr_id\"].isin(e_ids) == False, \"norm_contr_id\"] = None"
   ]
  },
  {
   "cell_type": "code",
   "execution_count": 1351,
   "metadata": {},
   "outputs": [],
   "source": [
    "df[\"release_num\"] = df[\"release_num\"].fillna(0)\n",
    "df[\"num_of_pages\"] = df[\"num_of_pages\"].fillna(0)"
   ]
  },
  {
   "cell_type": "code",
   "execution_count": 1352,
   "metadata": {},
   "outputs": [],
   "source": [
    "df = df[df[\"creator_id\"].isna() == False]\n",
    "df = df[df[\"name\"].isna() == False]"
   ]
  },
  {
   "cell_type": "code",
   "execution_count": 1353,
   "metadata": {},
   "outputs": [],
   "source": [
    "cursor.execute(open(\"sql_server/6.sql\", \"r\").read())\n",
    "conn.commit()"
   ]
  },
  {
   "cell_type": "code",
   "execution_count": 1354,
   "metadata": {},
   "outputs": [],
   "source": [
    "execute_values(df, \"docs\")"
   ]
  },
  {
   "cell_type": "markdown",
   "metadata": {},
   "source": [
    "<h1>Обозначения марок</h1>"
   ]
  },
  {
   "cell_type": "code",
   "execution_count": 1355,
   "metadata": {},
   "outputs": [],
   "source": [
    "df = pd.read_sql_query('SELECT * FROM Pro_t.dbo.Об_марок', db_conn)"
   ]
  },
  {
   "cell_type": "code",
   "execution_count": 1356,
   "metadata": {},
   "outputs": [],
   "source": [
    "df = df.iloc[:-1, :]"
   ]
  },
  {
   "cell_type": "code",
   "execution_count": 1357,
   "metadata": {},
   "outputs": [],
   "source": [
    "df.loc[0, \"об_марки\"] = \"КМД\"\n",
    "df.loc[0, \"наим_марки\"] = \"Конструкции металлические деталировочные\""
   ]
  },
  {
   "cell_type": "code",
   "execution_count": 1358,
   "metadata": {},
   "outputs": [],
   "source": [
    "df = df.rename(columns={\"Поз\": \"id\",\n",
    "                        \"об_марки\": \"designation\",\n",
    "                        \"наим_марки\": \"name\"\n",
    "                       })"
   ]
  },
  {
   "cell_type": "code",
   "execution_count": 1359,
   "metadata": {},
   "outputs": [],
   "source": [
    "cursor.execute(open(\"sql_server/9.sql\", \"r\").read())\n",
    "conn.commit()"
   ]
  },
  {
   "cell_type": "code",
   "execution_count": 1360,
   "metadata": {},
   "outputs": [],
   "source": [
    "execute_values(df, \"mark_designations\")"
   ]
  },
  {
   "cell_type": "markdown",
   "metadata": {},
   "source": [
    "<h1>Прилагаемые документы марки</h1>"
   ]
  },
  {
   "cell_type": "code",
   "execution_count": 1361,
   "metadata": {},
   "outputs": [],
   "source": [
    "df = pd.read_sql_query('SELECT * FROM Pro_t.dbo.Од_прил', db_conn)"
   ]
  },
  {
   "cell_type": "code",
   "execution_count": 1362,
   "metadata": {},
   "outputs": [],
   "source": [
    "df = df.replace(\"\", np.nan)"
   ]
  },
  {
   "cell_type": "code",
   "execution_count": 1363,
   "metadata": {},
   "outputs": [],
   "source": [
    "df = df.drop_duplicates(subset=[\"код_марки\", \"обозн_прил\"])"
   ]
  },
  {
   "cell_type": "code",
   "execution_count": 1364,
   "metadata": {},
   "outputs": [],
   "source": [
    "df = df.where(pd.notnull(df), None)"
   ]
  },
  {
   "cell_type": "code",
   "execution_count": 1365,
   "metadata": {},
   "outputs": [],
   "source": [
    "df = df.rename(columns={\"Поз_прил\": \"id\",\n",
    "                        \"код_марки\": \"mark_id\",\n",
    "                        \"наим_прил\": \"name\",\n",
    "                        \"прим\": \"note\",\n",
    "                        \"обозн_прил\": \"designation\"\n",
    "                       })"
   ]
  },
  {
   "cell_type": "code",
   "execution_count": 1366,
   "metadata": {},
   "outputs": [],
   "source": [
    "m_ids = pd.read_csv(\"mark_ids.csv\")\n",
    "m_ids = m_ids.drop([\"Unnamed: 0\"], axis=1)\n",
    "m_ids = m_ids.values.flatten().tolist()\n",
    "df = df[df[\"mark_id\"].isin(m_ids)]"
   ]
  },
  {
   "cell_type": "code",
   "execution_count": 1367,
   "metadata": {},
   "outputs": [],
   "source": [
    "cursor.execute(open(\"sql_server/12.sql\", \"r\").read())\n",
    "conn.commit()"
   ]
  },
  {
   "cell_type": "code",
   "execution_count": 1368,
   "metadata": {},
   "outputs": [],
   "source": [
    "execute_values(df, \"attached_docs\")"
   ]
  },
  {
   "cell_type": "markdown",
   "metadata": {},
   "source": [
    "<h1>Согласования</h1>"
   ]
  },
  {
   "cell_type": "code",
   "execution_count": 1369,
   "metadata": {},
   "outputs": [],
   "source": [
    "df = pd.read_sql_query('SELECT * FROM Pro_t.dbo.Од_согл', db_conn)"
   ]
  },
  {
   "cell_type": "code",
   "execution_count": 1370,
   "metadata": {},
   "outputs": [],
   "source": [
    "df = df.replace(\"\", np.nan)"
   ]
  },
  {
   "cell_type": "code",
   "execution_count": 1371,
   "metadata": {},
   "outputs": [],
   "source": [
    "df = df.drop([\"отдел1\", \"отдел2\", \"отдел3\", \"отдел4\", \"отдел5\", \"отдел6\", \"отдел7\"], axis=1)"
   ]
  },
  {
   "cell_type": "code",
   "execution_count": 1372,
   "metadata": {},
   "outputs": [],
   "source": [
    "p1 = df.iloc[:, [0,1]]\n",
    "p1 = p1.rename(columns={\"исп1\": \"исп\"})\n",
    "\n",
    "p2 = df.iloc[:, [0,2]]\n",
    "p2 = p2.rename(columns={\"исп2\": \"исп\"})\n",
    "\n",
    "p3 = df.iloc[:, [0,3]]\n",
    "p3 = p3.rename(columns={\"исп3\": \"исп\"})\n",
    "\n",
    "p4 = df.iloc[:, [0,4]]\n",
    "p4 = p4.rename(columns={\"исп4\": \"исп\"})\n",
    "\n",
    "p5 = df.iloc[:, [0,5]]\n",
    "p5 = p5.rename(columns={\"исп5\": \"исп\"})\n",
    "\n",
    "p6 = df.iloc[:, [0,6]]\n",
    "p6 = p6.rename(columns={\"исп6\": \"исп\"})\n",
    "\n",
    "p7 = df.iloc[:, [0,7]]\n",
    "p7 = p7.rename(columns={\"исп7\": \"исп\"})"
   ]
  },
  {
   "cell_type": "code",
   "execution_count": 1373,
   "metadata": {},
   "outputs": [],
   "source": [
    "df = pd.concat([p1, p2, p3, p4, p5, p6, p7], ignore_index=True)"
   ]
  },
  {
   "cell_type": "code",
   "execution_count": 1374,
   "metadata": {},
   "outputs": [],
   "source": [
    "df = df.dropna()\n",
    "df = df[df[\"исп\"] != 0]"
   ]
  },
  {
   "cell_type": "code",
   "execution_count": 1375,
   "metadata": {},
   "outputs": [],
   "source": [
    "df = df.drop_duplicates()"
   ]
  },
  {
   "cell_type": "code",
   "execution_count": 1376,
   "metadata": {},
   "outputs": [],
   "source": [
    "df.insert(0, 'id', range(1, len(df) + 1))"
   ]
  },
  {
   "cell_type": "code",
   "execution_count": 1377,
   "metadata": {},
   "outputs": [],
   "source": [
    "df = df.rename(columns={\"код_марки\": \"mark_id\",\n",
    "                        \"исп\": \"employee_id\"\n",
    "                       })"
   ]
  },
  {
   "cell_type": "code",
   "execution_count": 1378,
   "metadata": {},
   "outputs": [],
   "source": [
    "m_ids = pd.read_csv(\"mark_ids.csv\")\n",
    "e_ids = pd.read_csv(\"employee_ids.csv\")"
   ]
  },
  {
   "cell_type": "code",
   "execution_count": 1379,
   "metadata": {},
   "outputs": [],
   "source": [
    "m_ids = m_ids.drop([\"Unnamed: 0\"], axis=1)\n",
    "e_ids = e_ids.drop([\"Unnamed: 0\"], axis=1)"
   ]
  },
  {
   "cell_type": "code",
   "execution_count": 1380,
   "metadata": {},
   "outputs": [],
   "source": [
    "m_ids = m_ids.values.flatten().tolist()\n",
    "e_ids = e_ids.values.flatten().tolist()"
   ]
  },
  {
   "cell_type": "code",
   "execution_count": 1381,
   "metadata": {},
   "outputs": [],
   "source": [
    "df = df[df[\"mark_id\"].isin(m_ids)]\n",
    "df = df[df[\"employee_id\"].isin(e_ids)]"
   ]
  },
  {
   "cell_type": "code",
   "execution_count": 1382,
   "metadata": {},
   "outputs": [],
   "source": [
    "cursor.execute(open(\"sql_server/13.sql\", \"r\").read())\n",
    "conn.commit()"
   ]
  },
  {
   "cell_type": "code",
   "execution_count": 1383,
   "metadata": {},
   "outputs": [],
   "source": [
    "execute_values(df, \"mark_approvals\")"
   ]
  },
  {
   "cell_type": "markdown",
   "metadata": {},
   "source": [
    "<h1>Ссылочные документы марки</h1>"
   ]
  },
  {
   "cell_type": "code",
   "execution_count": 1384,
   "metadata": {},
   "outputs": [],
   "source": [
    "df = pd.read_sql_query('SELECT * FROM Pro_t.dbo.Од_ссыл', db_conn)"
   ]
  },
  {
   "cell_type": "code",
   "execution_count": 1385,
   "metadata": {},
   "outputs": [],
   "source": [
    "df = df.replace(\"\", np.nan)"
   ]
  },
  {
   "cell_type": "code",
   "execution_count": 1386,
   "metadata": {},
   "outputs": [],
   "source": [
    "df= df[df[\"шифр_сд\"] != \"1\"]\n",
    "df[\"шифр_сд\"] = df[\"шифр_сд\"].str.upper()"
   ]
  },
  {
   "cell_type": "code",
   "execution_count": 1387,
   "metadata": {},
   "outputs": [],
   "source": [
    "m_ids = pd.read_csv(\"mark_ids.csv\")\n",
    "m_ids = m_ids.drop([\"Unnamed: 0\"], axis=1)\n",
    "m_ids = m_ids.values.flatten().tolist()\n",
    "df = df[df[\"код_марки\"].isin(m_ids)]"
   ]
  },
  {
   "cell_type": "code",
   "execution_count": 1388,
   "metadata": {},
   "outputs": [
    {
     "name": "stderr",
     "output_type": "stream",
     "text": [
      "<ipython-input-1388-9c8014e24f43>:2: DeprecationWarning: The default dtype for empty Series will be 'object' instead of 'float64' in a future version. Specify a dtype explicitly to silence this warning.\n",
      "  df = df.append(pd.Series(), ignore_index=True)\n"
     ]
    }
   ],
   "source": [
    "for i in range(1, 301):\n",
    "    df = df.append(pd.Series(), ignore_index=True)"
   ]
  },
  {
   "cell_type": "code",
   "execution_count": 1389,
   "metadata": {},
   "outputs": [],
   "source": [
    "df.loc[:, \"код_марки\"] = random.choices(m_ids, k=300)\n",
    "df.loc[:, \"шифр_сд\"] = random.choices(range(1, 300), k=300)"
   ]
  },
  {
   "cell_type": "code",
   "execution_count": 1390,
   "metadata": {},
   "outputs": [],
   "source": [
    "df = df.drop_duplicates(subset=[\"код_марки\", \"шифр_сд\"])"
   ]
  },
  {
   "cell_type": "code",
   "execution_count": 1391,
   "metadata": {},
   "outputs": [],
   "source": [
    "df = df.drop([\"Поз_сд\"], axis=1)"
   ]
  },
  {
   "cell_type": "code",
   "execution_count": 1392,
   "metadata": {},
   "outputs": [],
   "source": [
    "df.insert(0, 'id', range(1, len(df) + 1))"
   ]
  },
  {
   "cell_type": "code",
   "execution_count": 1393,
   "metadata": {},
   "outputs": [],
   "source": [
    "df = df.rename(columns={\"код_марки\": \"mark_id\",\n",
    "                        \"шифр_сд\": \"linked_doc_id\",\n",
    "                        \"прим\": \"note\"\n",
    "                       })"
   ]
  },
  {
   "cell_type": "code",
   "execution_count": 1394,
   "metadata": {},
   "outputs": [],
   "source": [
    "cursor.execute(open(\"sql_server/14.sql\", \"r\").read())\n",
    "conn.commit()"
   ]
  },
  {
   "cell_type": "code",
   "execution_count": 1395,
   "metadata": {},
   "outputs": [],
   "source": [
    "execute_values(df, \"mark_linked_docs\")"
   ]
  },
  {
   "cell_type": "markdown",
   "metadata": {},
   "source": [
    "<h1>Учет дополнительных работ</h1>"
   ]
  },
  {
   "cell_type": "code",
   "execution_count": 1396,
   "metadata": {},
   "outputs": [],
   "source": [
    "df = pd.read_sql_query('SELECT * FROM Pro_t.dbo.Од_вып_доп', db_conn)"
   ]
  },
  {
   "cell_type": "code",
   "execution_count": 1397,
   "metadata": {},
   "outputs": [],
   "source": [
    "df = df.replace(\"\", np.nan)"
   ]
  },
  {
   "cell_type": "code",
   "execution_count": 1398,
   "metadata": {},
   "outputs": [],
   "source": [
    "df = df.drop([\"шифр_исп\"], axis=1)"
   ]
  },
  {
   "cell_type": "code",
   "execution_count": 1399,
   "metadata": {},
   "outputs": [],
   "source": [
    "df = df[df[\"код_исп\"].isna() == False]"
   ]
  },
  {
   "cell_type": "code",
   "execution_count": 1400,
   "metadata": {},
   "outputs": [],
   "source": [
    "df = df.drop_duplicates(subset=[\"код_марки\", \"код_исп\"])"
   ]
  },
  {
   "cell_type": "code",
   "execution_count": 1401,
   "metadata": {},
   "outputs": [],
   "source": [
    "m_ids = pd.read_csv(\"mark_ids.csv\")\n",
    "m_ids = m_ids.drop([\"Unnamed: 0\"], axis=1)\n",
    "m_ids = m_ids.values.flatten().tolist()\n",
    "df = df[df[\"код_марки\"].isin(m_ids)]"
   ]
  },
  {
   "cell_type": "code",
   "execution_count": 1402,
   "metadata": {},
   "outputs": [],
   "source": [
    "df = df.rename(columns={\"Поз_вып_доп\": \"id\",\n",
    "                        \"код_марки\": \"mark_id\",\n",
    "                        \"код_исп\": \"employee_id\",\n",
    "                        \"расчет\": \"valuation\",\n",
    "                        \"заказ\": \"metal_order\",\n",
    "                       })"
   ]
  },
  {
   "cell_type": "code",
   "execution_count": 1403,
   "metadata": {},
   "outputs": [],
   "source": [
    "cursor.execute(open(\"sql_server/11.sql\", \"r\").read())\n",
    "conn.commit()"
   ]
  },
  {
   "cell_type": "code",
   "execution_count": 1404,
   "metadata": {},
   "outputs": [],
   "source": [
    "execute_values(df, \"additional_work\")"
   ]
  },
  {
   "cell_type": "markdown",
   "metadata": {},
   "source": [
    "<h1>Типовые конструкции</h1>"
   ]
  },
  {
   "cell_type": "code",
   "execution_count": 1405,
   "metadata": {},
   "outputs": [],
   "source": [
    "df = pd.read_sql_query('SELECT * FROM Pro_t.dbo.Тс_типовые', db_conn)"
   ]
  },
  {
   "cell_type": "code",
   "execution_count": 1406,
   "metadata": {},
   "outputs": [],
   "source": [
    "df = df[df[\"имя_тк\"].isna() == False]"
   ]
  },
  {
   "cell_type": "code",
   "execution_count": 1407,
   "metadata": {},
   "outputs": [],
   "source": [
    "df[\"имя_тк\"] = df[\"имя_тк\"].str.strip()"
   ]
  },
  {
   "cell_type": "markdown",
   "metadata": {},
   "source": [
    "<h2>Типовые наименования типовых конструкций</h2>"
   ]
  },
  {
   "cell_type": "code",
   "execution_count": 1408,
   "metadata": {},
   "outputs": [],
   "source": [
    "st_name_df = pd.DataFrame(data=df[\"имя_тк\"].unique(), columns=[\"name\"])"
   ]
  },
  {
   "cell_type": "code",
   "execution_count": 1409,
   "metadata": {},
   "outputs": [],
   "source": [
    "st_name_df.loc[3, \"name\"] = \"Рельсы крановые КР-70 сталь К63\"\n",
    "st_name_df = st_name_df[st_name_df[\"name\"] != \"КР-70\"]\n",
    "st_name_df.loc[5, \"name\"] = \"Рельсы крановые Р-43\"\n",
    "st_name_df = st_name_df[st_name_df[\"name\"] != \"Оцинкованная сталь ГОСТ14918-80*\"]\n",
    "st_name_df.loc[11, \"name\"] = \"Рельсы крановые КР-70\"\n",
    "st_name_df.loc[12, \"name\"] = \"Детали крепления крановых рельсов\"\n",
    "st_name_df = st_name_df[st_name_df[\"name\"] != \"Крановый рельс КР-70\"]\n",
    "st_name_df.loc[16, \"name\"] = \"Накладка 5 на рельс Р-24 по ГОСТ 8141-56\""
   ]
  },
  {
   "cell_type": "code",
   "execution_count": 1410,
   "metadata": {},
   "outputs": [],
   "source": [
    "st_name_df.insert(0, 'id', range(1, len(st_name_df) + 1))"
   ]
  },
  {
   "cell_type": "code",
   "execution_count": 1411,
   "metadata": {},
   "outputs": [],
   "source": [
    "cursor.execute(open(\"sql_server/yyy_1.sql\", \"r\").read())\n",
    "conn.commit()"
   ]
  },
  {
   "cell_type": "code",
   "execution_count": 1412,
   "metadata": {},
   "outputs": [],
   "source": [
    "execute_values(st_name_df, \"standard_construction_names\")"
   ]
  },
  {
   "cell_type": "markdown",
   "metadata": {},
   "source": [
    "--------------------"
   ]
  },
  {
   "cell_type": "code",
   "execution_count": 1413,
   "metadata": {},
   "outputs": [],
   "source": [
    "m_ids = pd.read_csv(\"mark_ids.csv\")\n",
    "m_ids = m_ids.drop([\"Unnamed: 0\"], axis=1)\n",
    "m_ids = m_ids.values.flatten().tolist()\n",
    "df = df[df[\"код_марки\"].isin(m_ids)]"
   ]
  },
  {
   "cell_type": "code",
   "execution_count": 1414,
   "metadata": {},
   "outputs": [],
   "source": [
    "specs = pd.read_csv(\"specs.csv\")\n",
    "specs = specs.drop([\"Unnamed: 0\"], axis=1)"
   ]
  },
  {
   "cell_type": "code",
   "execution_count": 1415,
   "metadata": {},
   "outputs": [],
   "source": [
    "for index, row in df.iterrows():\n",
    "    try:\n",
    "        df.loc[index, \"specification_id\"] = specs.loc[(specs[\"mark_id\"] == row[\"код_марки\"]) & (specs[\"num\"] == row[\"выпуск\"]), \"id\"].values[0]\n",
    "    except:\n",
    "        pass"
   ]
  },
  {
   "cell_type": "code",
   "execution_count": 1416,
   "metadata": {},
   "outputs": [],
   "source": [
    "df = df.drop([\"код_марки\", \"выпуск\"], axis=1)"
   ]
  },
  {
   "cell_type": "code",
   "execution_count": 1417,
   "metadata": {},
   "outputs": [],
   "source": [
    "df.loc[24, \"кол_тк\"] = 1"
   ]
  },
  {
   "cell_type": "code",
   "execution_count": 1418,
   "metadata": {},
   "outputs": [],
   "source": [
    "# https://wikiweight.info/strmat/massa-ankerov-hilti.html\n",
    "df.loc[28, \"вес_тк\"] = 0.056\n",
    "df.loc[32, \"вес_тк\"] = 0.056"
   ]
  },
  {
   "cell_type": "code",
   "execution_count": 1419,
   "metadata": {},
   "outputs": [],
   "source": [
    "df.loc[25, \"вес_тк\"] = 0.024\n",
    "df.loc[29, \"вес_тк\"] = 0.024\n",
    "df.loc[25, \"кол_тк\"] = 360\n",
    "df.loc[29, \"кол_тк\"] = 360\n",
    "df = df[df[\"сч_тк\"] != 54]\n",
    "df = df[df[\"сч_тк\"] != 58]"
   ]
  },
  {
   "cell_type": "code",
   "execution_count": 1420,
   "metadata": {},
   "outputs": [],
   "source": [
    "df = df.rename(columns={\"сч_тк\": \"id\",\n",
    "                        \"имя_тк\": \"name\",\n",
    "                        \"кол_тк\": \"num\",\n",
    "                        \"лист_тк\": \"sheet\",\n",
    "                        \"вес_тк\": \"weight\"\n",
    "                       })"
   ]
  },
  {
   "cell_type": "code",
   "execution_count": 1421,
   "metadata": {},
   "outputs": [],
   "source": [
    "df = df.where(pd.notnull(df), None)"
   ]
  },
  {
   "cell_type": "code",
   "execution_count": 1422,
   "metadata": {},
   "outputs": [],
   "source": [
    "cursor.execute(open(\"sql_server/47.sql\", \"r\").read())\n",
    "conn.commit()"
   ]
  },
  {
   "cell_type": "code",
   "execution_count": 1423,
   "metadata": {},
   "outputs": [],
   "source": [
    "execute_values(df, \"standard_constructions\")"
   ]
  },
  {
   "cell_type": "markdown",
   "metadata": {},
   "source": [
    "<h1>Виды конструкций марки</h1>"
   ]
  },
  {
   "cell_type": "code",
   "execution_count": 1424,
   "metadata": {},
   "outputs": [],
   "source": [
    "df = pd.read_sql_query('SELECT * FROM Pro_t.dbo.Тс_Виды_к', db_conn)"
   ]
  },
  {
   "cell_type": "code",
   "execution_count": 1425,
   "metadata": {},
   "outputs": [],
   "source": [
    "df = df.drop_duplicates()"
   ]
  },
  {
   "cell_type": "code",
   "execution_count": 1426,
   "metadata": {},
   "outputs": [],
   "source": [
    "df = df.dropna(subset=[\"кт_окраски\", \"кол_тип_констр\", \"имя_к\", \"Шифр_к\", \"Шифр_пк\"])"
   ]
  },
  {
   "cell_type": "code",
   "execution_count": 1427,
   "metadata": {},
   "outputs": [],
   "source": [
    "m_ids = pd.read_csv(\"mark_ids.csv\")\n",
    "m_ids = m_ids.drop([\"Unnamed: 0\"], axis=1)\n",
    "m_ids = m_ids.values.flatten().tolist()\n",
    "df = df[df[\"код_марки\"].isin(m_ids)]"
   ]
  },
  {
   "cell_type": "code",
   "execution_count": 1428,
   "metadata": {},
   "outputs": [],
   "source": [
    "specs = pd.read_csv(\"specs.csv\")\n",
    "specs = specs.drop([\"Unnamed: 0\"], axis=1)"
   ]
  },
  {
   "cell_type": "code",
   "execution_count": 1429,
   "metadata": {},
   "outputs": [],
   "source": [
    "df.insert(1, \"specification_id\", 0, True) "
   ]
  },
  {
   "cell_type": "code",
   "execution_count": 1430,
   "metadata": {},
   "outputs": [],
   "source": [
    "for index, row in df.iterrows():\n",
    "    try:\n",
    "        df.loc[index, \"specification_id\"] = specs.loc[(specs[\"mark_id\"] == row[\"код_марки\"]) & (specs[\"num\"] == row[\"выпуск\"]), \"id\"].values[0]\n",
    "    except:\n",
    "        pass"
   ]
  },
  {
   "cell_type": "code",
   "execution_count": 1431,
   "metadata": {},
   "outputs": [],
   "source": [
    "df = df[df[\"specification_id\"] != 0]"
   ]
  },
  {
   "cell_type": "code",
   "execution_count": 1432,
   "metadata": {},
   "outputs": [],
   "source": [
    "df = df.drop([\"код_марки\", \"выпуск\"], axis=1)"
   ]
  },
  {
   "cell_type": "code",
   "execution_count": 1433,
   "metadata": {},
   "outputs": [],
   "source": [
    "df[\"Шифр_пк\"] = df[\"Шифр_пк\"].replace(0, np.nan)"
   ]
  },
  {
   "cell_type": "code",
   "execution_count": 1434,
   "metadata": {},
   "outputs": [],
   "source": [
    "df = df.drop([\"вкл\", \"окраска\", \"огнезащита\", \"ПределОС\", \"ПредСост_несущ\", \"ПредСост_целост\", \"ПредСост_тепло_изол\", \"ПредСост_тепло_поток\", \"ПредСост_газ\", \"статус_к\", \"ТеорРасходОЗ\"], axis=1)"
   ]
  },
  {
   "cell_type": "code",
   "execution_count": 1435,
   "metadata": {},
   "outputs": [],
   "source": [
    "df = df.rename(columns={\"сч_констр\": \"id\",\n",
    "                        \"имя_к\": \"name\",\n",
    "                        \"Шифр_к\": \"type_id\",\n",
    "                        \"Шифр_пк\": \"subtype_id\",\n",
    "                        \"расценка\": \"valuation\",\n",
    "                        \"шифр_тип_альбома\": \"standard_album_code\",\n",
    "                        \"кол_тип_констр\": \"num_of_standard_constructions\",\n",
    "                        \"притупление\": \"has_edge_blunting\",\n",
    "                        \"динамика\": \"has_dynamic_load\",\n",
    "                        \"фланцы\": \"has_flanged_connections\",\n",
    "                        \"контроль_сварки\": \"welding_control_id\",\n",
    "                        \"кт_окраски\": \"paintwork_coeff\",\n",
    "                       })"
   ]
  },
  {
   "cell_type": "code",
   "execution_count": 1436,
   "metadata": {},
   "outputs": [],
   "source": [
    "df = df.where(pd.notnull(df), None)"
   ]
  },
  {
   "cell_type": "code",
   "execution_count": 1437,
   "metadata": {},
   "outputs": [],
   "source": [
    "df = df[df[\"type_id\"] < 88]"
   ]
  },
  {
   "cell_type": "code",
   "execution_count": 1438,
   "metadata": {},
   "outputs": [],
   "source": [
    "df = df[df[\"type_id\"] > 0]"
   ]
  },
  {
   "cell_type": "code",
   "execution_count": 1439,
   "metadata": {},
   "outputs": [],
   "source": [
    "df = df.drop_duplicates(subset=[\"specification_id\", \"name\", \"paintwork_coeff\"])"
   ]
  },
  {
   "cell_type": "code",
   "execution_count": 1440,
   "metadata": {},
   "outputs": [],
   "source": [
    "df.loc[:, [\"id\"]].to_csv(\"construction_ids.csv\")"
   ]
  },
  {
   "cell_type": "code",
   "execution_count": 1441,
   "metadata": {},
   "outputs": [],
   "source": [
    "cursor.execute(open(\"sql_server/46.sql\", \"r\").read())\n",
    "conn.commit()"
   ]
  },
  {
   "cell_type": "code",
   "execution_count": 1442,
   "metadata": {},
   "outputs": [],
   "source": [
    "execute_values(df, \"constructions\")"
   ]
  },
  {
   "cell_type": "markdown",
   "metadata": {},
   "source": [
    "<h1>Справочник болтов, диаметры</h1>"
   ]
  },
  {
   "cell_type": "code",
   "execution_count": 1443,
   "metadata": {},
   "outputs": [],
   "source": [
    "df = pd.read_sql_query('SELECT * FROM Pro_t.dbo.Спр_болтов', db_conn)"
   ]
  },
  {
   "cell_type": "code",
   "execution_count": 1444,
   "metadata": {},
   "outputs": [],
   "source": [
    "df = df.rename(columns={\"код_д\": \"id\",\n",
    "                        \"диаметр\": \"diameter\",\n",
    "                        \"масса_г\": \"nut_weight\",\n",
    "                        \"сталь_ш\": \"washer_steel\",\n",
    "                        \"масса_ш\": \"washer_weight\",\n",
    "                        \"толщина_ш\": \"washer_thickness\",\n",
    "                        \"ТУ_б\": \"bolt_tech_spec\",\n",
    "                        \"кл_пр_б\": \"strength_class\",\n",
    "                        \"ТУ_г\": \"nut_tech_spec\",\n",
    "                        \"ТУ_ш\": \"washer_tech_spec\",\n",
    "                       })"
   ]
  },
  {
   "cell_type": "code",
   "execution_count": 1445,
   "metadata": {},
   "outputs": [],
   "source": [
    "cursor.execute(open(\"sql_server/20.sql\", \"r\").read())\n",
    "conn.commit()"
   ]
  },
  {
   "cell_type": "code",
   "execution_count": 1446,
   "metadata": {},
   "outputs": [],
   "source": [
    "execute_values(df, \"bolt_diameters\")"
   ]
  },
  {
   "cell_type": "markdown",
   "metadata": {},
   "source": [
    "<h1>Справочник болтов, длины</h1>"
   ]
  },
  {
   "cell_type": "code",
   "execution_count": 1447,
   "metadata": {},
   "outputs": [],
   "source": [
    "df = pd.read_sql_query('SELECT * FROM Pro_t.dbo.Спр_болтов_дл', db_conn)"
   ]
  },
  {
   "cell_type": "code",
   "execution_count": 1448,
   "metadata": {},
   "outputs": [],
   "source": [
    "df = df.rename(columns={\"Код_болта\": \"id\",\n",
    "                        \"код_д\": \"diameter_id\",\n",
    "                        \"длина_б\": \"length\",\n",
    "                        \"длина_нар\": \"screw_length\",\n",
    "                        \"масса_б\": \"weight\"\n",
    "                       })"
   ]
  },
  {
   "cell_type": "code",
   "execution_count": 1449,
   "metadata": {},
   "outputs": [],
   "source": [
    "cursor.execute(open(\"sql_server/21.sql\", \"r\").read())\n",
    "conn.commit()"
   ]
  },
  {
   "cell_type": "code",
   "execution_count": 1450,
   "metadata": {},
   "outputs": [],
   "source": [
    "execute_values(df, \"bolt_lengths\")"
   ]
  },
  {
   "cell_type": "markdown",
   "metadata": {},
   "source": [
    "<h1>Высокопрочные болты видов конструкций</h1>"
   ]
  },
  {
   "cell_type": "code",
   "execution_count": 1451,
   "metadata": {},
   "outputs": [],
   "source": [
    "df = pd.read_sql_query('SELECT * FROM Pro_t.dbo.Тс_болты', db_conn)"
   ]
  },
  {
   "cell_type": "code",
   "execution_count": 1452,
   "metadata": {},
   "outputs": [],
   "source": [
    "c_ids = pd.read_csv(\"construction_ids.csv\")\n",
    "c_ids = c_ids.drop([\"Unnamed: 0\"], axis=1)\n",
    "c_ids = c_ids.values.flatten().tolist()"
   ]
  },
  {
   "cell_type": "code",
   "execution_count": 1453,
   "metadata": {},
   "outputs": [],
   "source": [
    "df = df[df[\"сч_констр\"].isin(c_ids)]"
   ]
  },
  {
   "cell_type": "code",
   "execution_count": 1454,
   "metadata": {},
   "outputs": [],
   "source": [
    "df.loc[:, \"код_диаметра\"] = df.loc[:, \"код_диаметра\"].replace(0, np.nan)"
   ]
  },
  {
   "cell_type": "code",
   "execution_count": 1455,
   "metadata": {},
   "outputs": [],
   "source": [
    "df = df.dropna()"
   ]
  },
  {
   "cell_type": "code",
   "execution_count": 1456,
   "metadata": {},
   "outputs": [],
   "source": [
    "df = df.rename(columns={\"поз_болта\": \"id\",\n",
    "                        \"сч_констр\": \"construction_id\",\n",
    "                        \"код_диаметра\": \"diameter_id\",\n",
    "                        \"пакет\": \"packet\",\n",
    "                        \"кол\": \"num\",\n",
    "                        \"гаек\": \"nut_num\",\n",
    "                        \"шайб\": \"washer_num\",\n",
    "                       })"
   ]
  },
  {
   "cell_type": "code",
   "execution_count": 1457,
   "metadata": {},
   "outputs": [],
   "source": [
    "cursor.execute(open(\"sql_server/45.sql\", \"r\").read())\n",
    "conn.commit()"
   ]
  },
  {
   "cell_type": "code",
   "execution_count": 1458,
   "metadata": {},
   "outputs": [],
   "source": [
    "execute_values(df, \"construction_bolts\")"
   ]
  },
  {
   "cell_type": "markdown",
   "metadata": {},
   "source": [
    "<h1>Виды профилей</h1>"
   ]
  },
  {
   "cell_type": "code",
   "execution_count": 1459,
   "metadata": {},
   "outputs": [],
   "source": [
    "df = pd.read_sql_query('SELECT * FROM Pro_t.dbo.Спр_видов_п', db_conn)"
   ]
  },
  {
   "cell_type": "code",
   "execution_count": 1460,
   "metadata": {},
   "outputs": [],
   "source": [
    "df[\"Имя_в\"] = df[\"Имя_в\"].str.strip()\n",
    "df[\"Прим\"] = df[\"Прим\"].str.strip()"
   ]
  },
  {
   "cell_type": "code",
   "execution_count": 1461,
   "metadata": {},
   "outputs": [],
   "source": [
    "df = df.drop_duplicates(subset=[\"Имя_в\"])"
   ]
  },
  {
   "cell_type": "code",
   "execution_count": 1462,
   "metadata": {},
   "outputs": [],
   "source": [
    "df = df.rename(columns={\"Шифр_в\": \"id\",\n",
    "                        \"Имя_в\": \"name\",\n",
    "                        \"Прим\": \"note\"\n",
    "                       })"
   ]
  },
  {
   "cell_type": "code",
   "execution_count": 1463,
   "metadata": {},
   "outputs": [],
   "source": [
    "df = df.sort_values(by=[\"id\"])"
   ]
  },
  {
   "cell_type": "code",
   "execution_count": 1464,
   "metadata": {},
   "outputs": [],
   "source": [
    "df = df.reset_index(drop=True)"
   ]
  },
  {
   "cell_type": "code",
   "execution_count": 1465,
   "metadata": {},
   "outputs": [],
   "source": [
    "df.loc[:, [\"id\"]].to_csv(\"prof.csv\")"
   ]
  },
  {
   "cell_type": "code",
   "execution_count": 1466,
   "metadata": {},
   "outputs": [],
   "source": [
    "cursor.execute(open(\"sql_server/23.sql\", \"r\").read())\n",
    "conn.commit()"
   ]
  },
  {
   "cell_type": "code",
   "execution_count": 1467,
   "metadata": {},
   "outputs": [],
   "source": [
    "execute_values(df, \"profile_classes\")"
   ]
  },
  {
   "cell_type": "markdown",
   "metadata": {},
   "source": [
    "<h1>Типы профилей</h1>"
   ]
  },
  {
   "cell_type": "code",
   "execution_count": 1468,
   "metadata": {},
   "outputs": [],
   "source": [
    "df = pd.read_sql_query('SELECT * FROM Pro_t.dbo.Спр_типов_проф', db_conn)"
   ]
  },
  {
   "cell_type": "code",
   "execution_count": 1469,
   "metadata": {},
   "outputs": [],
   "source": [
    "df[\"Имя_т\"] = df[\"Имя_т\"].str.strip()"
   ]
  },
  {
   "cell_type": "code",
   "execution_count": 1470,
   "metadata": {},
   "outputs": [],
   "source": [
    "df = df.rename(columns={\"Тип\": \"id\",\n",
    "                        \"Имя_т\": \"name\"\n",
    "                       })"
   ]
  },
  {
   "cell_type": "code",
   "execution_count": 1471,
   "metadata": {},
   "outputs": [],
   "source": [
    "cursor.execute(open(\"sql_server/42.sql\", \"r\").read())\n",
    "conn.commit()"
   ]
  },
  {
   "cell_type": "code",
   "execution_count": 1472,
   "metadata": {},
   "outputs": [],
   "source": [
    "execute_values(df, \"profile_types\")"
   ]
  },
  {
   "cell_type": "markdown",
   "metadata": {},
   "source": [
    "<h1>Профили</h1>"
   ]
  },
  {
   "cell_type": "code",
   "execution_count": 1473,
   "metadata": {},
   "outputs": [],
   "source": [
    "df = pd.read_sql_query('SELECT * FROM Pro_t.dbo.Спр_проф_полн', db_conn)"
   ]
  },
  {
   "cell_type": "code",
   "execution_count": 1474,
   "metadata": {},
   "outputs": [],
   "source": [
    "df = df.replace(\"\", np.nan)"
   ]
  },
  {
   "cell_type": "code",
   "execution_count": 1475,
   "metadata": {},
   "outputs": [],
   "source": [
    "df = df[df[\"Имя_п\"].isna() == False]"
   ]
  },
  {
   "cell_type": "code",
   "execution_count": 1476,
   "metadata": {},
   "outputs": [],
   "source": [
    "df = df[df[\"Вес\"].isna() == False]"
   ]
  },
  {
   "cell_type": "code",
   "execution_count": 1477,
   "metadata": {},
   "outputs": [],
   "source": [
    "df[\"Имя_п\"] = df[\"Имя_п\"].str.strip()\n",
    "df[\"Имя_п0\"] = df[\"Имя_п0\"].str.strip()"
   ]
  },
  {
   "cell_type": "code",
   "execution_count": 1478,
   "metadata": {},
   "outputs": [],
   "source": [
    "df = df.drop([\"Имя_п0\", \"дл_имя\"], axis=1)"
   ]
  },
  {
   "cell_type": "code",
   "execution_count": 1479,
   "metadata": {},
   "outputs": [],
   "source": [
    "df = df[df[\"Разрешен\"]]\n",
    "df = df.drop([\"Разрешен\"], axis=1)"
   ]
  },
  {
   "cell_type": "code",
   "execution_count": 1480,
   "metadata": {},
   "outputs": [],
   "source": [
    "df = df[(df[\"Имя_п\"] != \"200*160*7\") | (df[\"Символ\"].isna() == False)]"
   ]
  },
  {
   "cell_type": "code",
   "execution_count": 1481,
   "metadata": {},
   "outputs": [],
   "source": [
    "df = df.drop_duplicates(subset=[\"Вид_п\", \"Имя_п\", \"Символ\"])"
   ]
  },
  {
   "cell_type": "code",
   "execution_count": 1482,
   "metadata": {},
   "outputs": [],
   "source": [
    "df.loc[df[\"Вид_п\"] == 16, \"Символ\"] = \"-\"\n",
    "df.loc[df[\"Вид_п\"] == 17, \"Символ\"] = \"-\""
   ]
  },
  {
   "cell_type": "code",
   "execution_count": 1483,
   "metadata": {},
   "outputs": [],
   "source": [
    "df_2 = pd.read_sql_query('SELECT * FROM Pro_t.dbo.Тс_элементы', db_conn)"
   ]
  },
  {
   "cell_type": "code",
   "execution_count": 1484,
   "metadata": {},
   "outputs": [],
   "source": [
    "df_2[\"Имя_п\"] = df_2[\"Имя_п\"].str.strip()\n",
    "df_2[\"Символ\"] = df_2[\"Символ\"].str.strip()"
   ]
  },
  {
   "cell_type": "code",
   "execution_count": 1485,
   "metadata": {},
   "outputs": [],
   "source": [
    "c_ids = pd.read_csv(\"construction_ids.csv\")\n",
    "c_ids = c_ids.drop([\"Unnamed: 0\"], axis=1)\n",
    "c_ids = c_ids.values.flatten().tolist()"
   ]
  },
  {
   "cell_type": "code",
   "execution_count": 1486,
   "metadata": {},
   "outputs": [],
   "source": [
    "df_2 = df_2[df_2[\"Сч_констр\"].isin(c_ids)]"
   ]
  },
  {
   "cell_type": "code",
   "execution_count": 1487,
   "metadata": {},
   "outputs": [],
   "source": [
    "p_ids = pd.read_csv(\"prof.csv\")\n",
    "p_ids = p_ids.drop([\"Unnamed: 0\"], axis=1)\n",
    "p_ids = p_ids.values.flatten().tolist()"
   ]
  },
  {
   "cell_type": "code",
   "execution_count": 1488,
   "metadata": {},
   "outputs": [],
   "source": [
    "df_2 = df_2[df_2[\"Вид_п\"].isin(p_ids)]"
   ]
  },
  {
   "cell_type": "code",
   "execution_count": 1489,
   "metadata": {},
   "outputs": [],
   "source": [
    "df_2 = df_2[df_2[\"Символ\"].isna() == False]"
   ]
  },
  {
   "cell_type": "code",
   "execution_count": 1490,
   "metadata": {},
   "outputs": [],
   "source": [
    "df_2 = df_2.drop([\"МаркаОЗ\", \"АрифмВыр\"], axis=1)"
   ]
  },
  {
   "cell_type": "code",
   "execution_count": 1491,
   "metadata": {},
   "outputs": [],
   "source": [
    "df_2 = df_2.drop([\"ПерекрПерим\", \"КолВСеч\", \"Поз\", \"ГруппаПТ\"], axis=1)"
   ]
  },
  {
   "cell_type": "code",
   "execution_count": 1492,
   "metadata": {},
   "outputs": [],
   "source": [
    "for index, row in df_2.iterrows():\n",
    "    try:\n",
    "        df_2.loc[index, \"profile_id\"] = df.loc[(df[\"Вид_п\"] == row[\"Вид_п\"]) & (df[\"Имя_п\"] == row[\"Имя_п\"]) & (df[\"Символ\"] == row[\"Символ\"]), \"Профиль\"].values[0]\n",
    "    except Exception as e:\n",
    "        pass"
   ]
  },
  {
   "cell_type": "code",
   "execution_count": 1493,
   "metadata": {},
   "outputs": [],
   "source": [
    "df_null = df_2.loc[df_2['profile_id'].isna()]"
   ]
  },
  {
   "cell_type": "code",
   "execution_count": 1494,
   "metadata": {},
   "outputs": [],
   "source": [
    "df_null = df_null.drop([\"Сч_констр\", \"Сч_поз\", \"Сталь\", \"Длина\", \"статус\", \"profile_id\"], axis=1)"
   ]
  },
  {
   "cell_type": "code",
   "execution_count": 1495,
   "metadata": {},
   "outputs": [],
   "source": [
    "df_null = df_null.rename(columns={\"Вид_п\": \"class_id\",\n",
    "                        \"Имя_п\": \"name\",\n",
    "                        \"Символ\": \"symbol\",\n",
    "                        \"Вес\": \"weight\",\n",
    "                        \"Поверхн\": \"area\",\n",
    "                        \"Тип_п\": \"type_id\"\n",
    "                       })"
   ]
  },
  {
   "cell_type": "code",
   "execution_count": 1496,
   "metadata": {},
   "outputs": [],
   "source": [
    "df_null.insert(0, 'id', range(1962, len(df_null) + 1962))"
   ]
  },
  {
   "cell_type": "code",
   "execution_count": 1497,
   "metadata": {},
   "outputs": [],
   "source": [
    "df = df.where(pd.notnull(df), None)"
   ]
  },
  {
   "cell_type": "code",
   "execution_count": 1498,
   "metadata": {},
   "outputs": [],
   "source": [
    "df = df.rename(columns={\"Профиль\": \"id\",\n",
    "                        \"Вид_п\": \"class_id\",\n",
    "                        \"Имя_п\": \"name\",\n",
    "                        \"Символ\": \"symbol\",\n",
    "                        \"Вес\": \"weight\",\n",
    "                        \"Поверхн\": \"area\",\n",
    "                        \"Тип_п\": \"type_id\"\n",
    "                       })"
   ]
  },
  {
   "cell_type": "code",
   "execution_count": 1499,
   "metadata": {},
   "outputs": [],
   "source": [
    "df = df.append(df_null, ignore_index = True)"
   ]
  },
  {
   "cell_type": "code",
   "execution_count": 1500,
   "metadata": {},
   "outputs": [],
   "source": [
    "df[df.duplicated(subset=[\"class_id\", \"name\", \"symbol\"], keep=\"first\")]\n",
    "df = df.drop_duplicates(subset=[\"class_id\", \"name\", \"symbol\"])"
   ]
  },
  {
   "cell_type": "code",
   "execution_count": 1501,
   "metadata": {},
   "outputs": [],
   "source": [
    "df = df[df[\"id\"] != 3194]"
   ]
  },
  {
   "cell_type": "code",
   "execution_count": 1502,
   "metadata": {},
   "outputs": [],
   "source": [
    "df.loc[df[\"id\"] == 2755, \"weight\"] = 4.396\n",
    "df.loc[df[\"id\"] == 2755, \"area\"] = 0.00288"
   ]
  },
  {
   "cell_type": "code",
   "execution_count": 1503,
   "metadata": {},
   "outputs": [],
   "source": [
    "df.loc[:, [\"id\", \"class_id\", \"name\", \"symbol\"]].to_csv(\"profiles.csv\")"
   ]
  },
  {
   "cell_type": "code",
   "execution_count": 1504,
   "metadata": {},
   "outputs": [],
   "source": [
    "cursor.execute(open(\"sql_server/33.sql\", \"r\").read())\n",
    "conn.commit()"
   ]
  },
  {
   "cell_type": "code",
   "execution_count": 1505,
   "metadata": {},
   "outputs": [],
   "source": [
    "execute_values(df, \"profiles\")"
   ]
  },
  {
   "cell_type": "markdown",
   "metadata": {},
   "source": [
    "<h1>Марки стали</h1>"
   ]
  },
  {
   "cell_type": "code",
   "execution_count": 1506,
   "metadata": {},
   "outputs": [],
   "source": [
    "df = pd.read_sql_query('SELECT * FROM Pro_t.dbo.Спр_стали', db_conn)"
   ]
  },
  {
   "cell_type": "code",
   "execution_count": 1507,
   "metadata": {},
   "outputs": [],
   "source": [
    "df = df.replace(\"\", np.nan)"
   ]
  },
  {
   "cell_type": "code",
   "execution_count": 1508,
   "metadata": {},
   "outputs": [],
   "source": [
    "df = df.drop([71])"
   ]
  },
  {
   "cell_type": "code",
   "execution_count": 1509,
   "metadata": {},
   "outputs": [],
   "source": [
    "df[\"Имя_с\"] = df[\"Имя_с\"].str.strip()\n",
    "df[\"Стандарт\"] = df[\"Стандарт\"].str.strip()"
   ]
  },
  {
   "cell_type": "code",
   "execution_count": 1510,
   "metadata": {},
   "outputs": [],
   "source": [
    "df = df.rename(columns={\"Шифр_с\": \"id\",\n",
    "                        \"Имя_с\": \"name\",\n",
    "                        \"Стандарт\": \"standard\",\n",
    "                        \"Прочность\": \"strength\"\n",
    "                       })"
   ]
  },
  {
   "cell_type": "code",
   "execution_count": 1511,
   "metadata": {},
   "outputs": [],
   "source": [
    "df = df.where(pd.notnull(df), None)"
   ]
  },
  {
   "cell_type": "code",
   "execution_count": 1512,
   "metadata": {},
   "outputs": [],
   "source": [
    "cursor.execute(open(\"sql_server/41.sql\", \"r\").read())\n",
    "conn.commit()"
   ]
  },
  {
   "cell_type": "code",
   "execution_count": 1513,
   "metadata": {},
   "outputs": [],
   "source": [
    "execute_values(df, \"steel\")"
   ]
  },
  {
   "cell_type": "markdown",
   "metadata": {},
   "source": [
    "<h1>Перечень элементов</h1>"
   ]
  },
  {
   "cell_type": "code",
   "execution_count": 1514,
   "metadata": {},
   "outputs": [],
   "source": [
    "df = pd.read_sql_query('SELECT * FROM Pro_t.dbo.Тс_элементы', db_conn)"
   ]
  },
  {
   "cell_type": "code",
   "execution_count": 1515,
   "metadata": {},
   "outputs": [],
   "source": [
    "df[\"Имя_п\"] = df[\"Имя_п\"].str.strip()\n",
    "df[\"Символ\"] = df[\"Символ\"].str.strip()"
   ]
  },
  {
   "cell_type": "code",
   "execution_count": 1516,
   "metadata": {},
   "outputs": [],
   "source": [
    "c_ids = pd.read_csv(\"construction_ids.csv\")\n",
    "c_ids = c_ids.drop([\"Unnamed: 0\"], axis=1)\n",
    "c_ids = c_ids.values.flatten().tolist()"
   ]
  },
  {
   "cell_type": "code",
   "execution_count": 1517,
   "metadata": {},
   "outputs": [],
   "source": [
    "df = df[df[\"Сч_констр\"].isin(c_ids)]"
   ]
  },
  {
   "cell_type": "code",
   "execution_count": 1518,
   "metadata": {},
   "outputs": [],
   "source": [
    "p_ids = pd.read_csv(\"prof.csv\")\n",
    "p_ids = p_ids.drop([\"Unnamed: 0\"], axis=1)\n",
    "p_ids = p_ids.values.flatten().tolist()"
   ]
  },
  {
   "cell_type": "code",
   "execution_count": 1519,
   "metadata": {},
   "outputs": [],
   "source": [
    "df = df[df[\"Вид_п\"].isin(p_ids)]"
   ]
  },
  {
   "cell_type": "code",
   "execution_count": 1520,
   "metadata": {},
   "outputs": [],
   "source": [
    "df.loc[df[\"Сталь\"] == 72, \"Сталь\"] = 36"
   ]
  },
  {
   "cell_type": "code",
   "execution_count": 1521,
   "metadata": {},
   "outputs": [],
   "source": [
    "df = df[df[\"Символ\"].isna() == False]"
   ]
  },
  {
   "cell_type": "code",
   "execution_count": 1522,
   "metadata": {},
   "outputs": [],
   "source": [
    "df = df.drop([\"МаркаОЗ\", \"АрифмВыр\"], axis=1)"
   ]
  },
  {
   "cell_type": "code",
   "execution_count": 1523,
   "metadata": {},
   "outputs": [],
   "source": [
    "df = df.drop([\"ПерекрПерим\", \"КолВСеч\", \"Поз\", \"ГруппаПТ\"], axis=1)"
   ]
  },
  {
   "cell_type": "code",
   "execution_count": 1524,
   "metadata": {},
   "outputs": [],
   "source": [
    "profiles = pd.read_csv(\"profiles.csv\")\n",
    "profiles = profiles.drop([\"Unnamed: 0\"], axis=1)"
   ]
  },
  {
   "cell_type": "code",
   "execution_count": 1525,
   "metadata": {},
   "outputs": [],
   "source": [
    "df.loc[df[\"Сч_поз\"] == 179045, \"Имя_п\"] = \"140*4\"\n",
    "df.loc[df[\"Сч_поз\"] == 179034, \"Имя_п\"] = \"140*4\""
   ]
  },
  {
   "cell_type": "code",
   "execution_count": 1526,
   "metadata": {},
   "outputs": [],
   "source": [
    "for index, row in df.iterrows():\n",
    "    try:\n",
    "        df.loc[index, \"profile_id\"] = profiles.loc[(profiles[\"class_id\"] == row[\"Вид_п\"]) & (profiles[\"name\"] == row[\"Имя_п\"]) & (profiles[\"symbol\"] == row[\"Символ\"]), \"id\"].values[0]\n",
    "    except:\n",
    "        pass"
   ]
  },
  {
   "cell_type": "code",
   "execution_count": 1527,
   "metadata": {},
   "outputs": [],
   "source": [
    "df = df.drop([\"Имя_п\", \"Символ\", \"Вес\", \"Поверхн\", \"Тип_п\", \"статус\", \"Вид_п\"], axis=1)"
   ]
  },
  {
   "cell_type": "code",
   "execution_count": 1528,
   "metadata": {},
   "outputs": [],
   "source": [
    "df = df.rename(columns={\"Сч_констр\": \"construction_id\",\n",
    "                        \"Сч_поз\": \"id\",\n",
    "                        \"Сталь\": \"steel_id\",\n",
    "                        \"Длина\": \"length\"\n",
    "                       })"
   ]
  },
  {
   "cell_type": "code",
   "execution_count": 1529,
   "metadata": {},
   "outputs": [],
   "source": [
    "cursor.execute(open(\"sql_server/48.sql\", \"r\").read())\n",
    "conn.commit()"
   ]
  },
  {
   "cell_type": "code",
   "execution_count": 1530,
   "metadata": {},
   "outputs": [],
   "source": [
    "execute_values(df, \"construction_elements\")"
   ]
  },
  {
   "cell_type": "markdown",
   "metadata": {},
   "source": [
    "<h1>Разделы общих указаний</h1>"
   ]
  },
  {
   "cell_type": "code",
   "execution_count": 1531,
   "metadata": {},
   "outputs": [],
   "source": [
    "df = pd.DataFrame({'id': [1, 2, 3, 4, 5, 6, 7, 8, 9, 10, 11, 12, 13, 14, 15, 16, 17],\n",
    "                   'name': [\"Разработано на основании\",\n",
    "                            \"Разработано в соответствии\",\n",
    "                            \"Перечень технических регламентов\",\n",
    "                            \"Высотная отметка\",\n",
    "                            \"Климатические условия\",\n",
    "                            \"Конструктивные решения\",\n",
    "                            \"Характеристики конструкций\",\n",
    "                            \"Материал конструкций\",\n",
    "                            \"Указания по разработке КМД и ППР\",\n",
    "                            \"Указания по изготовлению и монтажу\",\n",
    "                            \"Крепление элементов\",\n",
    "                            \"Соединение элементов\",\n",
    "                            \"Антикоррозионная защита\",\n",
    "                            \"Огнезащита конструкций\",\n",
    "                            \"Перечень скрытых видов работ\",\n",
    "                            \"Перечень ответственных конструкций\",\n",
    "                            \"Коэффициент трудозатрат\"],\n",
    "                   'order_num': [1, 2, 3, 4, 5, 6, 7, 8, 9, 10, 11, 12, 13, 14, 15, 16, 17]})"
   ]
  },
  {
   "cell_type": "code",
   "execution_count": 1532,
   "metadata": {},
   "outputs": [],
   "source": [
    "cursor.execute(open(\"sql_server/37_2.sql\", \"r\").read())\n",
    "conn.commit()"
   ]
  },
  {
   "cell_type": "code",
   "execution_count": 1533,
   "metadata": {},
   "outputs": [],
   "source": [
    "execute_values(df, \"general_data_sections\")"
   ]
  },
  {
   "cell_type": "markdown",
   "metadata": {},
   "source": [
    "<h1>Пункты общих указаний марки</h1>"
   ]
  },
  {
   "cell_type": "code",
   "execution_count": 1534,
   "metadata": {},
   "outputs": [],
   "source": [
    "df = pd.DataFrame({'mark_id': [4320, 4320, 4320, 4320, 4320, 4320, 4320, 4320, 4320, 4320, 4320, 4320, 4320, 4320, 4320, 4320, 4320, 4320, 4320, 4320, 4320, 4320, 4320, 4320, 4320, 4320, 4320, 4320, 4320, 4320, 4320, 4320, 4320, 4320, 4320, 4320, 4320, 4320, 4320, 4320, 4320, 4320, 4320, 4320, 4320, 4320, 4320, 4320, 4320, 4320, 4320, 4320, 4320, 4320, 4320, 4320, 4320, 4320, 4320, 4320, 4320, 4320, 4320, 4320, 4320, 4320, 4320, 4320, 4320, 4320, 4320, 4320, 4320],\n",
    "                   'section_id': [1, 1, 1, 1, 2, 3, 3, 3, 3, 3, 3, 3, 3, 3, 3, 3, 4, 5, 5, 5, 5, 5, 5, 5, 6, 6, 6, 6, 6, 6, 6, 6, 6, 6, 7, 7, 7, 7, 8, 8, 9, 9, 10, 10, 10, 10, 11, 11, 12, 12, 12, 12, 12, 12, 12, 12, 12, 12, 12, 12, 13, 13, 13, 13, 13, 13, 13, 13, 13, 15, 15, 15, 15],\n",
    "                   'text': [\"Рабочая документация разработана на основании:\",\n",
    "                            \"- поручения от 28.02.2020 № АГЛ-35/0362\",\n",
    "                            \"- письма от 05.03.2020 № УПиН-35/0431\",\n",
    "                            \"- рекомендаций, выполненного специалистами \\\"АО МАГНИТОГОРСКИЙ ГИПРОМЕЗ\\\"\",\n",
    "                            \"Рабочая документация разработана в соответствии с техническими условиями, требованиями действующих технических регламентов, стандартов, сводов правил и других документов, содержащих установленные требования.\",\n",
    "                            \"Перечень технических регламентов и нормативных документов, в соответствии с требованиями которых разработана рабочая документация\",\n",
    "                            \"- Федеральный закон от 30.12.2009 № 384-ФЗ \\\"Технический регламент о безопасности зданий и сооружений\\\"\",\n",
    "                            \"- Федеральный закон от 22.07.2008 № 123-ФЗ \\\"Технический регламент о требованиях пожарной безопасности\\\"\",\n",
    "                            \"- СП 16.13330.2017 \\\"Стальные конструкции. Актуализированная редакция СНиП II-23-81*\\\"\",\n",
    "                            \"- СП 20.13330.2016 \\\"Нагрузки и воздействия. Актуализированная редакция СНиП 2.01.07-85*\\\"\",\n",
    "                            \"- СП 28.13330.2017 \\\"Защита строительных конструкций от коррозии. Актуализированная редакция СНиП 2.03.11-85\\\"\",\n",
    "                            \"- СП 53-102-2004 \\\"Общие правила проектирования стальных конструкций\\\"\",\n",
    "                            \"- СП 70.13330.2012 \\\"Несущие и ограждающие конструкции. Актуализированная редакция СНиП 3.03.01-87\\\"\",\n",
    "                            \"- ГОСТ 23118-2012 \\\"Конструкции стальные строительные. Общие технические условия\\\"\",\n",
    "                            \"- ГОСТ 27751-2014 \\\"Надежность строительных конструкций и оснований. Основные положения\\\"\",\n",
    "                            \"- ГОСТ 9.402-2004 \\\"Единая система защиты от коррозии и старения (ЕСЗКС). Покрытия лакокрасочные. Подготовка металлических поверхностей к окрашиванию\\\"\",\n",
    "                            \"Высотные отметки абсолютные.\",\n",
    "                            \"Климатические условия\",\n",
    "                            \"- климатический район – IB\",\n",
    "                            \"- расчетная температура наружного воздуха наиболее холодных суток обеспеченностью 0,98 – минус 43 °C\",\n",
    "                            \"- нормативное значение веса снегового покрова на 1 м^2 горизонтальной поверхности земли для г. Магнитогорска (согласно СП 20.13330-2016, приложение K, табл. K1) – 1,3 кПа (130 кг/м^2)\",\n",
    "                            \"- нормативное значение ветрового давления для II района (согласно СП 20.13330-2016, п. 11.14, табл. 11.1) – 0,30 кПа (30 кг/м^2)\",\n",
    "                            \"- зона влажности – сухая\",\n",
    "                            \"- расчетная сейсмическая активность – 5 баллов\",\n",
    "                            \"Конструктивные решения\",\n",
    "                            \"# Чертежи марки \\\"КМ\\\" являются исходным материалом для разработки деталировочных чертежей марки \\\"КМД\\\"\",\n",
    "                            \"# В данной рабочей документации разработано восстановление пролетных строений (усиление ферм пролетных строений, металлоконструкций по верхним и нижним поясам ферм) и восстановление антикоррозионного покрытия существующих элементов пролетных строений галереи конвейера № 706-1 УУК и КДИ аглоцеха ГОП ПАО \\\"ММК\\\"\",\n",
    "                            \"# Все работы должны выполняться специализированной организацией, имеющей свидетельство СРО на данный вид деятельности и имеющие допуск по электробезопасности\",\n",
    "                            \"# Работы производить по специально разработанному и согласованному в установленном порядке со всеми инспектирующими организациями и эксплуатацией цеха проекту производства работ (ППР) с соблюдением требований действующих нормативных документов и обязательным учетом фактического состояния существующих конструкций\",\n",
    "                            \"# При выполнении работ принять меры по обеспечению целостности и сохранности существующих сооружений и коммуникаций, находящихся в зоне производства работ\",\n",
    "                            \"# При производстве сварочных работ предусмотреть комплекс организационно-технических мероприятий по обеспечению пожарной безопасности\",\n",
    "                            \"# На всех этапах ведения демонтажных и монтажных работ обеспечить устойчивость и неизменяемость положения существующих конструкций\",\n",
    "                            \"# Перед началом работ необходимо выполнить очистку конструкций в зоне ремонта от мусора, грязи, технологической пыли\",\n",
    "                            \"# Исполнитель несет ответственность за соответствие выполненных работ чертежам. Всякое отступление от чертежей при производстве работ должно быть согласовано с организацией-разработчиком данной рабочей документации\",\n",
    "                            \"Характеристики конструкций\",\n",
    "                            \"- коэффициент надежности по ответственности – {}\",\n",
    "                            \"- степень агрессивного воздействия среды – {}\",\n",
    "                            \"- расчетная температура эксплуатации – {}\",\n",
    "                            \"Материал конструкций\",\n",
    "                            \"Марки сталей элементов конструкций приняты в зависимости от группы конструкций с учетом расчетной температуры и приведены в таблицах \\\"Ведомость элементов\\\", на схемах расположения элементов конструкций, на чертежах элементов и узлов конструкций и в спецификации металлопроката\",\n",
    "                            \"Указания по разработке КМД и ППР\",\n",
    "                            \"Отступления от рабочих чертежей КМ не допускаются. В случае необходимости эти отступления должны быть согласованы с организацией-разработчиком рабочих чертежей марки \\\"КМ\\\"\",\n",
    "                            \"Указания по изготовлению и монтажу металлоконструкций\",\n",
    "                            \"# Изготовление металлоконструкций производить в соответствии с требованиями ГОСТ 23118-2012, СП 53-101-98 \\\"Изготовление и контроль качества стальных строительных конструкций\\\", указаниями в чертежах марки \\\"КМ\\\"\",\n",
    "                            \"# Монтаж металлоконструкций производить в соответствии с требованиями СП 70.13330.2012 \\\"Несущие и ограждающие конструкции. Актуализированная редакция СНиП 3.03.01-87\\\", СНИП 12-04-2002 \\\"Безопасность труда в строительстве. Часть 2. Строительное производство\\\" и указаниями в чертежах марки \\\"КМ\\\"\",\n",
    "                            \"# Отклонения металлоконструкций при изготовлении и монтаже не должны превышать предельных значений, указанных в СП 53-101-98, СП 70.13330.2012 и в чертежах марки \\\"КМ\\\" данного основного комплекта\",\n",
    "                            \"Крепление элементов\",\n",
    "                            \"Минимальное усилие для расчетного прикрепления элементов – 5 тс\",\n",
    "                            \"Соединение элементов металлоконструкций\",\n",
    "                            \"- сварные\",\n",
    "                            \"- на болтах нормальной точности по ГОСТ Р ИСО 4014-2013\",\n",
    "                            \"# Материалы для сварки принимать по таблице Г.1 СП 16.13330.2017 в зависимости от марок стали свариваемых элементов\",\n",
    "                            \"# Монтажные швы выполнять ручной сваркой ГОСТ 9467-75 \\\"Электроды покрытые металлические для ручной дуговой сварки конструкционных и теплоустойчивых сталей. Типы\\\":\\nДля сталей C245 сварку производить электродами типа 342A\",\n",
    "                            \"# Применение прерывистых швов не допускается\",\n",
    "                            \"# Контроль качества монтажных сварных соединений должен осуществляться в соответствии с требованиями п. 10.4 СП 70.13330.2012\",\n",
    "                            \"# Болты класса точности B (нормальной точности) M20 приняты по ГОСТ Р ИСО 4014-2013 \\\"Болты с шестигранной головкой. Классы точности A и B\\\", класса прочности 8.8 по ГОСТ ISO 898-1-2014 \\\"Механические свойства крепежных изделий из углеродистых и легированных сталей. Часть 1. Болты, винты и шпильки установленных классов прочности с крупным и мелким шагом резьбы\\\"\",\n",
    "                            \"# Гайки тип 1 класса точности B приняты по ГОСТ ISO 4032-2014. При работе болтов на срез и растяжение класс прочности гаек принят в соответствии с классом прочности болтов: 5 – при 5.6\",\n",
    "                            \"Шайбы приняты круглые по ГОСТ 11371-78 исполнения 1 класса точности A\",\n",
    "                            \"Для болтов класса точности B диаметр отверстий в конструкциях, работающих на срез и смятие, принят d=dв+2\",\n",
    "                            \"В расчетных соединениях для болтов класса точности B разность номинальных диаметров отверстий и болтов не должна превышать 3 мм с учетом предельных отклонений диаметра отверстия и их овальности 0; +0,6; и 0; +1,0 по табл. 2 ГОСТ 23118-2012\",\n",
    "                            \"Антикоррозионная защита\",\n",
    "                            \"# Антикоррозионная защита запроектирована в соответствии с требованиями СП 28.13330.2017 \\\"Защита строительных конструкций от коррозии\\\"\",\n",
    "                            \"# Антикоррозионную защиту производить в соответствии с требованиями СП 72.13330.2016 \\\"Защита строительных конструкций и сооружений от коррозии. СНиП 3.04.03-85\\\" и ГОСТ 12.3.005-75 \\\"Система стандартов безопасности труда (ССБТ). Работы окрасочные. Общие требования безопасности\\\"\",\n",
    "                            \"# Подготовка поверхностей перед окраской должна осуществляться в соответствии с требованиями ГОСТ 9.402-2004 путем удаления ржавчины и прокатной окалины с помощью ручного или механизированного абразивного инструмента и очистки жировых и прочих загрязнений с помощью волосяных кистей или ветоши, смоченных в уайт-спирите. Перед нанесением антикоррозионного покрытия поверхности конструкций обеспылить\",\n",
    "                            \"# Защита металлоконструкций от коррозии осуществляется окраской лакокрасочными материалами группы III: эмалью XB-7141 по ТУ 2313-016-75351875-2005 в 4 слоя по 2 слоям грунтовки XC-010 по ТУ 6-21-7-89\",\n",
    "                            \"Общая толщина покрытия – 160 мкм\",\n",
    "                            \"Степень очистки поверхности стальных конструкций от окислов перед окраской – 2 по ГОСТ 9.402-2004\",\n",
    "                            \"Допускается замена лакокрасочных материалов на сертифицированные материалы с аналогичными техническими характеристиками\",\n",
    "                            \"Цвет окраски антикоррозионного покрытия принимать в соответствии с цветом окраски существующих конструкций\",\n",
    "                            \"Перечень видов работ, на которые должны быть составлены акты освидетельствования скрытых работ:\",\n",
    "                            \"- подготовка поверхности металлоконструкций под окраску\",\n",
    "                            \"- приемка грунтовочного слоя антикоррозионного покрытия\",\n",
    "                            \"- визуальный контроль качества сварных швов\"],\n",
    "                   'order_num': [1, 2, 3, 4, 1, 1, 2, 3, 4, 5, 6, 7, 8, 9, 10, 11, 1, 1, 2, 3, 4, 5, 6, 7, 1, 2, 3, 4, 5, 6, 7, 8, 9, 10, 1, 2, 3, 4, 1, 2, 1, 2, 1, 2, 3, 4, 1, 2, 1, 2, 3, 4, 5, 6, 7, 8, 9, 10, 11, 12, 1, 2, 3, 4, 5, 6, 7, 8, 9, 1, 2, 3, 4]})\n"
   ]
  },
  {
   "cell_type": "code",
   "execution_count": 1535,
   "metadata": {},
   "outputs": [],
   "source": [
    "df.insert(0, 'id', range(1, len(df) + 1))"
   ]
  },
  {
   "cell_type": "code",
   "execution_count": 1536,
   "metadata": {},
   "outputs": [],
   "source": [
    "cursor.execute(open(\"sql_server/35_xx.sql\", \"r\").read())\n",
    "conn.commit()"
   ]
  },
  {
   "cell_type": "code",
   "execution_count": 1537,
   "metadata": {},
   "outputs": [],
   "source": [
    "execute_values(df, \"mark_general_data_points\")"
   ]
  },
  {
   "cell_type": "markdown",
   "metadata": {},
   "source": [
    "<h1>Пункты общих указаний пользователя</h1>"
   ]
  },
  {
   "cell_type": "code",
   "execution_count": 1538,
   "metadata": {},
   "outputs": [],
   "source": [
    "df = pd.DataFrame({'user_id': [1, 1, 1, 1, 1, 1, 1, 1, 1, 1, 1, 1, 1, 1, 1, 1, 1, 1, 1, 1, 1, 1, 1, 1, 1, 1, 1, 1, 1, 1, 1, 1, 1, 1, 1, 1, 1, 1, 1, 1, 1, 1, 1, 1, 1, 1, 1, 1, 1, 1, 1, 1, 1, 1, 1, 1, 1, 1, 1, 1, 1, 1, 1, 1, 1, 1, 1, 1, 1, 1, 1, 1, 1],\n",
    "                   'section_id': [1, 1, 1, 1, 2, 3, 3, 3, 3, 3, 3, 3, 3, 3, 3, 3, 4, 5, 5, 5, 5, 5, 5, 5, 6, 6, 6, 6, 6, 6, 6, 6, 6, 6, 7, 7, 7, 7, 8, 8, 9, 9, 10, 10, 10, 10, 11, 11, 12, 12, 12, 12, 12, 12, 12, 12, 12, 12, 12, 12, 13, 13, 13, 13, 13, 13, 13, 13, 13, 15, 15, 15, 15],\n",
    "                   'text': [\"Рабочая документация разработана на основании:\",\n",
    "                            \"- поручения от 28.02.2020 № АГЛ-35/0362\",\n",
    "                            \"- письма от 05.03.2020 № УПиН-35/0431\",\n",
    "                            \"- рекомендаций, выполненного специалистами \\\"АО МАГНИТОГОРСКИЙ ГИПРОМЕЗ\\\"\",\n",
    "                            \"Рабочая документация разработана в соответствии с техническими условиями, требованиями действующих технических регламентов, стандартов, сводов правил и других документов, содержащих установленные требования.\",\n",
    "                            \"Перечень технических регламентов и нормативных документов, в соответствии с требованиями которых разработана рабочая документация\",\n",
    "                            \"- Федеральный закон от 30.12.2009 № 384-ФЗ \\\"Технический регламент о безопасности зданий и сооружений\\\"\",\n",
    "                            \"- Федеральный закон от 22.07.2008 № 123-ФЗ \\\"Технический регламент о требованиях пожарной безопасности\\\"\",\n",
    "                            \"- СП 16.13330.2017 \\\"Стальные конструкции. Актуализированная редакция СНиП II-23-81*\\\"\",\n",
    "                            \"- СП 20.13330.2016 \\\"Нагрузки и воздействия. Актуализированная редакция СНиП 2.01.07-85*\\\"\",\n",
    "                            \"- СП 28.13330.2017 \\\"Защита строительных конструкций от коррозии. Актуализированная редакция СНиП 2.03.11-85\\\"\",\n",
    "                            \"- СП 53-102-2004 \\\"Общие правила проектирования стальных конструкций\\\"\",\n",
    "                            \"- СП 70.13330.2012 \\\"Несущие и ограждающие конструкции. Актуализированная редакция СНиП 3.03.01-87\\\"\",\n",
    "                            \"- ГОСТ 23118-2012 \\\"Конструкции стальные строительные. Общие технические условия\\\"\",\n",
    "                            \"- ГОСТ 27751-2014 \\\"Надежность строительных конструкций и оснований. Основные положения\\\"\",\n",
    "                            \"- ГОСТ 9.402-2004 \\\"Единая система защиты от коррозии и старения (ЕСЗКС). Покрытия лакокрасочные. Подготовка металлических поверхностей к окрашиванию\\\"\",\n",
    "                            \"Высотные отметки абсолютные.\",\n",
    "                            \"Климатические условия\",\n",
    "                            \"- климатический район – IB\",\n",
    "                            \"- расчетная температура наружного воздуха наиболее холодных суток обеспеченностью 0,98 – минус 43 °C\",\n",
    "                            \"- нормативное значение веса снегового покрова на 1 м^2 горизонтальной поверхности земли для г. Магнитогорска (согласно СП 20.13330-2016, приложение K, табл. K1) – 1,3 кПа (130 кг/м^2)\",\n",
    "                            \"- нормативное значение ветрового давления для II района (согласно СП 20.13330-2016, п. 11.14, табл. 11.1) – 0,30 кПа (30 кг/м^2)\",\n",
    "                            \"- зона влажности – сухая\",\n",
    "                            \"- расчетная сейсмическая активность – 5 баллов\",\n",
    "                            \"Конструктивные решения\",\n",
    "                            \"# Чертежи марки \\\"КМ\\\" являются исходным материалом для разработки деталировочных чертежей марки \\\"КМД\\\"\",\n",
    "                            \"# В данной рабочей документации разработано восстановление пролетных строений (усиление ферм пролетных строений, металлоконструкций по верхним и нижним поясам ферм) и восстановление антикоррозионного покрытия существующих элементов пролетных строений галереи конвейера № 706-1 УУК и КДИ аглоцеха ГОП ПАО \\\"ММК\\\"\",\n",
    "                            \"# Все работы должны выполняться специализированной организацией, имеющей свидетельство СРО на данный вид деятельности и имеющие допуск по электробезопасности\",\n",
    "                            \"# Работы производить по специально разработанному и согласованному в установленном порядке со всеми инспектирующими организациями и эксплуатацией цеха проекту производства работ (ППР) с соблюдением требований действующих нормативных документов и обязательным учетом фактического состояния существующих конструкций\",\n",
    "                            \"# При выполнении работ принять меры по обеспечению целостности и сохранности существующих сооружений и коммуникаций, находящихся в зоне производства работ\",\n",
    "                            \"# При производстве сварочных работ предусмотреть комплекс организационно-технических мероприятий по обеспечению пожарной безопасности\",\n",
    "                            \"# На всех этапах ведения демонтажных и монтажных работ обеспечить устойчивость и неизменяемость положения существующих конструкций\",\n",
    "                            \"# Перед началом работ необходимо выполнить очистку конструкций в зоне ремонта от мусора, грязи, технологической пыли\",\n",
    "                            \"# Исполнитель несет ответственность за соответствие выполненных работ чертежам. Всякое отступление от чертежей при производстве работ должно быть согласовано с организацией-разработчиком данной рабочей документации\",\n",
    "                            \"Характеристики конструкций\",\n",
    "                            \"- коэффициент надежности по ответственности – {}\",\n",
    "                            \"- степень агрессивного воздействия среды – {}\",\n",
    "                            \"- расчетная температура эксплуатации – {}\",\n",
    "                            \"Материал конструкций\",\n",
    "                            \"Марки сталей элементов конструкций приняты в зависимости от группы конструкций с учетом расчетной температуры и приведены в таблицах \\\"Ведомость элементов\\\", на схемах расположения элементов конструкций, на чертежах элементов и узлов конструкций и в спецификации металлопроката\",\n",
    "                            \"Указания по разработке КМД и ППР\",\n",
    "                            \"Отступления от рабочих чертежей КМ не допускаются. В случае необходимости эти отступления должны быть согласованы с организацией-разработчиком рабочих чертежей марки \\\"КМ\\\"\",\n",
    "                            \"Указания по изготовлению и монтажу металлоконструкций\",\n",
    "                            \"# Изготовление металлоконструкций производить в соответствии с требованиями ГОСТ 23118-2012, СП 53-101-98 \\\"Изготовление и контроль качества стальных строительных конструкций\\\", указаниями в чертежах марки \\\"КМ\\\"\",\n",
    "                            \"# Монтаж металлоконструкций производить в соответствии с требованиями СП 70.13330.2012 \\\"Несущие и ограждающие конструкции. Актуализированная редакция СНиП 3.03.01-87\\\", СНИП 12-04-2002 \\\"Безопасность труда в строительстве. Часть 2. Строительное производство\\\" и указаниями в чертежах марки \\\"КМ\\\"\",\n",
    "                            \"# Отклонения металлоконструкций при изготовлении и монтаже не должны превышать предельных значений, указанных в СП 53-101-98, СП 70.13330.2012 и в чертежах марки \\\"КМ\\\" данного основного комплекта\",\n",
    "                            \"Крепление элементов\",\n",
    "                            \"Минимальное усилие для расчетного прикрепления элементов – 5 тс\",\n",
    "                            \"Соединение элементов металлоконструкций\",\n",
    "                            \"- сварные\",\n",
    "                            \"- на болтах нормальной точности по ГОСТ Р ИСО 4014-2013\",\n",
    "                            \"# Материалы для сварки принимать по таблице Г.1 СП 16.13330.2017 в зависимости от марок стали свариваемых элементов\",\n",
    "                            \"# Монтажные швы выполнять ручной сваркой ГОСТ 9467-75 \\\"Электроды покрытые металлические для ручной дуговой сварки конструкционных и теплоустойчивых сталей. Типы\\\":\\nДля сталей C245 сварку производить электродами типа 342A\",\n",
    "                            \"# Применение прерывистых швов не допускается\",\n",
    "                            \"# Контроль качества монтажных сварных соединений должен осуществляться в соответствии с требованиями п. 10.4 СП 70.13330.2012\",\n",
    "                            \"# Болты класса точности B (нормальной точности) M20 приняты по ГОСТ Р ИСО 4014-2013 \\\"Болты с шестигранной головкой. Классы точности A и B\\\", класса прочности 8.8 по ГОСТ ISO 898-1-2014 \\\"Механические свойства крепежных изделий из углеродистых и легированных сталей. Часть 1. Болты, винты и шпильки установленных классов прочности с крупным и мелким шагом резьбы\\\"\",\n",
    "                            \"# Гайки тип 1 класса точности B приняты по ГОСТ ISO 4032-2014. При работе болтов на срез и растяжение класс прочности гаек принят в соответствии с классом прочности болтов: 5 – при 5.6\",\n",
    "                            \"Шайбы приняты круглые по ГОСТ 11371-78 исполнения 1 класса точности A\",\n",
    "                            \"Для болтов класса точности B диаметр отверстий в конструкциях, работающих на срез и смятие, принят d=dв+2\",\n",
    "                            \"В расчетных соединениях для болтов класса точности B разность номинальных диаметров отверстий и болтов не должна превышать 3 мм с учетом предельных отклонений диаметра отверстия и их овальности 0; +0,6; и 0; +1,0 по табл. 2 ГОСТ 23118-2012\",\n",
    "                            \n",
    "                            \n",
    "                            \"Антикоррозионная защита\",\n",
    "                            \"# Антикоррозионная защита запроектирована в соответствии с требованиями СП 28.13330.2017 \\\"Защита строительных конструкций от коррозии\\\"\",\n",
    "                            \"# Антикоррозионную защиту производить в соответствии с требованиями СП 72.13330.2016 \\\"Защита строительных конструкций и сооружений от коррозии. СНиП 3.04.03-85\\\" и ГОСТ 12.3.005-75 \\\"Система стандартов безопасности труда (ССБТ). Работы окрасочные. Общие требования безопасности\\\"\",\n",
    "                            \"# Подготовка поверхностей перед окраской должна осуществляться в соответствии с требованиями ГОСТ 9.402-2004 путем удаления ржавчины и прокатной окалины с помощью ручного или механизированного абразивного инструмента и очистки жировых и прочих загрязнений с помощью волосяных кистей или ветоши, смоченных в уайт-спирите. Перед нанесением антикоррозионного покрытия поверхности конструкций обеспылить\",\n",
    "                            \"# Защита металлоконструкций от коррозии осуществляется окраской лакокрасочными материалами группы III: эмалью XB-7141 по ТУ 2313-016-75351875-2005 в 4 слоя по 2 слоям грунтовки XC-010 по ТУ 6-21-7-89\",\n",
    "                            \"Общая толщина покрытия – 160 мкм\",\n",
    "                            \"Степень очистки поверхности стальных конструкций от окислов перед окраской – 2 по ГОСТ 9.402-2004\",\n",
    "                            \"Допускается замена лакокрасочных материалов на сертифицированные материалы с аналогичными техническими характеристиками\",\n",
    "                            \"Цвет окраски антикоррозионного покрытия принимать в соответствии с цветом окраски существующих конструкций\",\n",
    "                            \"Перечень видов работ, на которые должны быть составлены акты освидетельствования скрытых работ:\",\n",
    "                            \"- подготовка поверхности металлоконструкций под окраску\",\n",
    "                            \"- приемка грунтовочного слоя антикоррозионного покрытия\",\n",
    "                            \"- визуальный контроль качества сварных швов\"],\n",
    "                   'order_num': [1, 2, 3, 4, 1, 1, 2, 3, 4, 5, 6, 7, 8, 9, 10, 11, 1, 1, 2, 3, 4, 5, 6, 7, 1, 2, 3, 4, 5, 6, 7, 8, 9, 10, 1, 2, 3, 4, 1, 2, 1, 2, 1, 2, 3, 4, 1, 2, 1, 2, 3, 4, 5, 6, 7, 8, 9, 10, 11, 12, 1, 2, 3, 4, 5, 6, 7, 8, 9, 1, 2, 3, 4]})"
   ]
  },
  {
   "cell_type": "code",
   "execution_count": 1539,
   "metadata": {},
   "outputs": [],
   "source": [
    "df.insert(0, 'id', range(1, len(df) + 1))"
   ]
  },
  {
   "cell_type": "code",
   "execution_count": 1540,
   "metadata": {},
   "outputs": [],
   "source": [
    "cursor.execute(open(\"sql_server/35_2.sql\", \"r\").read())\n",
    "conn.commit()"
   ]
  },
  {
   "cell_type": "code",
   "execution_count": 1541,
   "metadata": {
    "scrolled": true
   },
   "outputs": [],
   "source": [
    "execute_values(df, \"general_data_points\")"
   ]
  },
  {
   "cell_type": "code",
   "execution_count": 1542,
   "metadata": {},
   "outputs": [],
   "source": [
    "conn.close()"
   ]
  },
  {
   "cell_type": "code",
   "execution_count": null,
   "metadata": {},
   "outputs": [],
   "source": []
  }
 ],
 "metadata": {
  "kernelspec": {
   "display_name": "Python 3",
   "language": "python",
   "name": "python3"
  },
  "language_info": {
   "codemirror_mode": {
    "name": "ipython",
    "version": 3
   },
   "file_extension": ".py",
   "mimetype": "text/x-python",
   "name": "python",
   "nbconvert_exporter": "python",
   "pygments_lexer": "ipython3",
   "version": "3.8.5"
  }
 },
 "nbformat": 4,
 "nbformat_minor": 4
}
